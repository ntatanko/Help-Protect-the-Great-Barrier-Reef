{
 "cells": [
  {
   "cell_type": "code",
   "execution_count": 1,
   "id": "4b30d382-3bd9-437e-9199-15317edce7f4",
   "metadata": {},
   "outputs": [],
   "source": [
    "# !git clone https://github.com/open-mmlab/mmdetection.git"
   ]
  },
  {
   "cell_type": "code",
   "execution_count": 2,
   "id": "02c6669e-da2b-45b2-a508-957a9e73bfe0",
   "metadata": {},
   "outputs": [],
   "source": [
    "# from IPython.display import clear_output\n",
    "\n",
    "# %cd /app/_data/mmdetection\n",
    "# !pip install -r requirements/build.txt\n",
    "# !pip install -v -e .  # or \"python setup.py develop\"\n",
    "# !pip install mmcv-full -f https://download.openmmlab.com/mmcv/dist/cu111/torch1.9.1/index.html\n",
    "# !pip install openmim\n",
    "# !mim install mmdet\n",
    "# clear_output()"
   ]
  },
  {
   "cell_type": "code",
   "execution_count": 3,
   "id": "e3447398-d235-4685-8db2-b4911440bc7c",
   "metadata": {},
   "outputs": [],
   "source": [
    "import mmcv\n",
    "import mmdet\n",
    "from mmcv import Config\n",
    "from mmdet.apis import (\n",
    "    inference_detector,\n",
    "    init_detector,\n",
    "    set_random_seed,\n",
    "    train_detector,\n",
    ")\n",
    "from mmdet.datasets import build_dataset\n",
    "from mmdet.models import build_detector"
   ]
  },
  {
   "cell_type": "code",
   "execution_count": 4,
   "id": "9259b8b2-c9e2-4f90-a8e4-bf3d5bf5cca8",
   "metadata": {},
   "outputs": [],
   "source": [
    "SEED = 38\n",
    "set_random_seed(SEED, deterministic=False)"
   ]
  },
  {
   "cell_type": "code",
   "execution_count": 5,
   "id": "83f34c5e-9ceb-48d9-a584-7043280a8cdc",
   "metadata": {
    "_cell_guid": "b1076dfc-b9ad-4769-8c92-a6c4dae69d19",
    "_uuid": "8f2839f25d086af736a60e9eeb907d3b93b6e0e5",
    "tags": []
   },
   "outputs": [],
   "source": [
    "import argparse\n",
    "import ast\n",
    "import glob\n",
    "import json\n",
    "import os\n",
    "import random\n",
    "import re\n",
    "import shutil\n",
    "\n",
    "import cv2\n",
    "import matplotlib.pyplot as plt\n",
    "import numpy as np\n",
    "import pandas as pd\n",
    "import torch\n",
    "from IPython.core.interactiveshell import InteractiveShell\n",
    "from PIL import Image\n",
    "from sklearn.model_selection import KFold, StratifiedKFold\n",
    "from tqdm import tqdm\n",
    "\n",
    "InteractiveShell.ast_node_interactivity = \"all\"\n",
    "import seaborn as sns\n",
    "import torch\n",
    "import torchvision"
   ]
  },
  {
   "cell_type": "code",
   "execution_count": 7,
   "id": "4c27d458-cdcd-471b-9239-d65d5aa2b2ec",
   "metadata": {
    "tags": []
   },
   "outputs": [
    {
     "data": {
      "text/plain": [
       "'cuda'"
      ]
     },
     "execution_count": 7,
     "metadata": {},
     "output_type": "execute_result"
    }
   ],
   "source": [
    "TRAIN_DF_PART = \"/app/_data/tensorflow-great-barrier-reef/train.csv\"\n",
    "IMAGE_FOLDER = \"images\"\n",
    "LABEL_FOLDER = \"labels\"\n",
    "DEVICE = \"cuda\" if torch.cuda.is_available else \"cpu\"\n",
    "DEVICE"
   ]
  },
  {
   "cell_type": "code",
   "execution_count": 8,
   "id": "ff5ff662-1410-4984-a627-6d831e886906",
   "metadata": {},
   "outputs": [],
   "source": [
    "with open(\"/app/_data/sequences.json\", \"r\") as f:\n",
    "    seq_dict = json.load(f)"
   ]
  },
  {
   "cell_type": "code",
   "execution_count": 9,
   "id": "6f36b85f-c015-4b43-9c47-2fa0ffbfcdc2",
   "metadata": {},
   "outputs": [
    {
     "data": {
      "text/plain": [
       "138"
      ]
     },
     "execution_count": 9,
     "metadata": {},
     "output_type": "execute_result"
    },
    {
     "data": {
      "text/plain": [
       "137"
      ]
     },
     "execution_count": 9,
     "metadata": {},
     "output_type": "execute_result"
    }
   ],
   "source": [
    "df = pd.read_csv(TRAIN_DF_PART)\n",
    "df[\"img_path\"] = (\n",
    "    \"/app/_data/tensorflow-great-barrier-reef/train_images/video_\"\n",
    "    + df.video_id.astype(\"str\")\n",
    "    + \"/\"\n",
    "    + df.video_frame.astype(\"str\")\n",
    "    + \".jpg\"\n",
    ")\n",
    "df[\"annotations\"] = df[\"annotations\"].apply(lambda x: ast.literal_eval(x))\n",
    "df[\"len_annotation\"] = df[\"annotations\"].str.len()\n",
    "df[\"image_id\"] = df[\"image_id\"].str.replace(\"-\", \"_\", regex=True)\n",
    "df[\"new_img_path\"] = f\"/app/_data/{IMAGE_FOLDER}/\" + df[\"image_id\"] + \".jpg\"\n",
    "df[\"label\"] = df[\"len_annotation\"].apply(lambda x: 0 if x == 0 else 1)\n",
    "df[\"no_label\"] = df[\"len_annotation\"].apply(lambda x: True if x == 0 else False)\n",
    "R = df[df[\"len_annotation\"] == 0].shape[0] / df[df[\"len_annotation\"] != 0].shape[0]\n",
    "df[\"label_change\"] = df[\"label\"] & df[\"no_label\"].shift(1) & df[\"no_label\"].shift(\n",
    "    2\n",
    ") | df[\"no_label\"] & df[\"label\"].shift(1) & df[\"label\"].shift(2)\n",
    "df[\"sequense_change\"] = df[\"sequence\"] != df[\"sequence\"].shift(1)\n",
    "df[\"start_subseq\"] = df[\"sequense_change\"] | df[\"label_change\"]\n",
    "df.loc[df.index[-1], \"start_subseq\"] = True\n",
    "df[\"start_subseq\"].sum()\n",
    "start_idx = 0\n",
    "for subsequence_id, end_idx in enumerate(df[df[\"start_subseq\"]].index):\n",
    "    df.loc[start_idx:end_idx, \"subsequence_id\"] = subsequence_id\n",
    "    start_idx = end_idx\n",
    "\n",
    "df[\"subsequence_id\"] = df[\"subsequence_id\"].astype(int)\n",
    "df[\"subsequence_id\"].nunique()"
   ]
  },
  {
   "cell_type": "markdown",
   "id": "a91c0169-d0ce-458c-90da-0d2235368bd4",
   "metadata": {},
   "source": [
    "# train_test_split"
   ]
  },
  {
   "cell_type": "markdown",
   "id": "427e1e3c-eef5-4104-bb76-54e90de17120",
   "metadata": {},
   "source": [
    "## random"
   ]
  },
  {
   "cell_type": "code",
   "execution_count": 10,
   "id": "07ec0319-90a2-4072-b12d-cdbc52f62980",
   "metadata": {},
   "outputs": [
    {
     "name": "stderr",
     "output_type": "stream",
     "text": [
      " 15% 2982/20000 [00:53<05:05, 55.79it/s]\n"
     ]
    },
    {
     "data": {
      "text/plain": [
       "len_annotation    8.442857\n",
       "label             9.355789\n",
       "dtype: float64"
      ]
     },
     "execution_count": 10,
     "metadata": {},
     "output_type": "execute_result"
    },
    {
     "data": {
      "text/plain": [
       "3.7873684210526317"
      ]
     },
     "execution_count": 10,
     "metadata": {},
     "output_type": "execute_result"
    },
    {
     "data": {
      "text/plain": [
       "[18, 20, 24, 31, 57, 63, 76, 77, 84, 86, 91, 97, 100, 110, 122, 134]"
      ]
     },
     "execution_count": 10,
     "metadata": {},
     "output_type": "execute_result"
    }
   ],
   "source": [
    "l = 0\n",
    "ll = 0\n",
    "for i in tqdm(range(20000)):\n",
    "    n_val = np.random.randint(13, 20, 1)[0]\n",
    "    val_seq = random.sample(df.subsequence_id.unique().tolist(), n_val)\n",
    "    train_seq = list(set(df.subsequence_id.tolist()) - set(val_seq))\n",
    "    l = (\n",
    "        df.query(\"subsequence_id in @train_seq\")[\"label\"].sum()\n",
    "        / df.query(\"subsequence_id in @val_seq\")[\"label\"].sum()\n",
    "    )\n",
    "    ll = (\n",
    "        df.query(\"subsequence_id in @train_seq\")[\"len_annotation\"].sum()\n",
    "        / df.query(\"subsequence_id in @val_seq\")[\"len_annotation\"].sum()\n",
    "    )\n",
    "    r = (\n",
    "        df.query(\"subsequence_id in @val_seq and len_annotation == 0\").shape[0]\n",
    "        / df.query(\"subsequence_id in @val_seq and len_annotation != 0\").shape[0]\n",
    "    )\n",
    "    if 8 <= l <= 10 and 8 <= ll <= 10 and 3.5 <= r <= 4.3:\n",
    "        break\n",
    "\n",
    "df.query(\"subsequence_id in @train_seq\")[[\"len_annotation\", \"label\"]].sum() / df.query(\n",
    "    \"subsequence_id in @val_seq\"\n",
    ")[[\"len_annotation\", \"label\"]].sum()\n",
    "\n",
    "df.query(\"subsequence_id in @val_seq and len_annotation == 0\").shape[0] / df.query(\n",
    "    \"subsequence_id in @val_seq and len_annotation != 0\"\n",
    ").shape[0]\n",
    "\n",
    "sorted(val_seq)"
   ]
  },
  {
   "cell_type": "code",
   "execution_count": 11,
   "id": "65fb70bc-1abf-4e1a-84e8-66db300c4abb",
   "metadata": {},
   "outputs": [
    {
     "data": {
      "text/plain": [
       "len_annotation    10638\n",
       "label              4444\n",
       "dtype: int64"
      ]
     },
     "execution_count": 11,
     "metadata": {},
     "output_type": "execute_result"
    },
    {
     "data": {
      "text/plain": [
       "len_annotation    1260\n",
       "label              475\n",
       "dtype: int64"
      ]
     },
     "execution_count": 11,
     "metadata": {},
     "output_type": "execute_result"
    },
    {
     "data": {
      "text/plain": [
       "len_annotation    8.442857\n",
       "label             9.355789\n",
       "dtype: float64"
      ]
     },
     "execution_count": 11,
     "metadata": {},
     "output_type": "execute_result"
    }
   ],
   "source": [
    "KFOLD = \"rand\"\n",
    "train = pd.concat(\n",
    "    [\n",
    "        df.query(\"subsequence_id in @train_seq and len_annotation>0\"),\n",
    "        df.query(\"subsequence_id in @train_seq and len_annotation==0\").sample(\n",
    "            int(\n",
    "                df.query(\"subsequence_id in @train_seq and len_annotation>0\").shape[0]\n",
    "                * 0.1\n",
    "            )\n",
    "        ),\n",
    "    ]\n",
    ")\n",
    "val = df.query(\"subsequence_id in @val_seq\")\n",
    "train[[\"len_annotation\", \"label\"]].sum()\n",
    "val[[\"len_annotation\", \"label\"]].sum()\n",
    "train[[\"len_annotation\", \"label\"]].sum() / val[[\"len_annotation\", \"label\"]].sum()"
   ]
  },
  {
   "cell_type": "code",
   "execution_count": 12,
   "id": "14af83d1-0d6e-4906-8ee4-0ce3e05fcc02",
   "metadata": {},
   "outputs": [
    {
     "name": "stdout",
     "output_type": "stream",
     "text": [
      "Overwriting /app/_data/for_mmdet/labels.txt\n"
     ]
    }
   ],
   "source": [
    "%%writefile /app/_data/for_mmdet/labels.txt\n",
    "starfish"
   ]
  },
  {
   "cell_type": "code",
   "execution_count": 13,
   "id": "9babefc3-9d0f-4075-904c-f350a73bdfdc",
   "metadata": {},
   "outputs": [],
   "source": [
    "def df_to_coco(df):\n",
    "    images = []\n",
    "    annotations = []\n",
    "    img_id = 0\n",
    "    annotation_id = 0\n",
    "    categories = [\n",
    "        {\n",
    "            \"id\": 0,\n",
    "            \"name\": \"starfish\",\n",
    "        },\n",
    "    ]\n",
    "    for ix in tqdm(df.index.tolist()):\n",
    "        img = Image.open(df.loc[ix, \"img_path\"])\n",
    "        w, h = img.size\n",
    "        bboxes = df.loc[ix, \"annotations\"]\n",
    "        img_name = f'{df.loc[ix, \"image_id\"]}.jpg'\n",
    "        img_dict = {\n",
    "            \"id\": img_id,\n",
    "            \"file_name\": img_name,\n",
    "            \"height\": h,\n",
    "            \"width\": w,\n",
    "        }\n",
    "        images.append(img_dict)\n",
    "        if len(bboxes) != 0:\n",
    "            for i in range(len(bboxes)):\n",
    "                bbox = bboxes[i]\n",
    "                bbox = [bbox[\"x\"], bbox[\"y\"], bbox[\"width\"], bbox[\"height\"]]\n",
    "                annotations_dict = {\n",
    "                    \"id\": annotation_id,\n",
    "                    \"image_id\": img_id,\n",
    "                    \"category_id\": 0,\n",
    "                    \"bbox\": bbox,\n",
    "                    \"area\": bbox[2] * bbox[3],\n",
    "                    \"segmentation\": [],\n",
    "                    \"iscrowd\": 0,\n",
    "                }\n",
    "                annotations.append(annotations_dict)\n",
    "                annotation_id += 1\n",
    "        img_id += 1\n",
    "    coco_dict = {\"categories\": categories, \"images\": images, \"annotations\": annotations}\n",
    "    return coco_dict"
   ]
  },
  {
   "cell_type": "code",
   "execution_count": 14,
   "id": "4a929945-31e6-476a-ab65-1d9b1b99b064",
   "metadata": {},
   "outputs": [
    {
     "name": "stderr",
     "output_type": "stream",
     "text": [
      "100% 4888/4888 [00:00<00:00, 5736.44it/s]\n",
      "100% 2274/2274 [00:00<00:00, 6471.46it/s]\n"
     ]
    }
   ],
   "source": [
    "train_dict = df_to_coco(train)\n",
    "with open(\"/app/_data/for_mmdet/coco_train.json\", \"w\") as f:\n",
    "    json.dump(train_dict, f, ensure_ascii=True, indent=4)\n",
    "val_dict = df_to_coco(val)\n",
    "with open(\"/app/_data/for_mmdet/coco_val.json\", \"w\") as f:\n",
    "    json.dump(val_dict, f, ensure_ascii=True, indent=4)"
   ]
  },
  {
   "cell_type": "code",
   "execution_count": 15,
   "id": "8ada512b-5ec7-4ae2-b701-83ca02a11adc",
   "metadata": {},
   "outputs": [],
   "source": [
    "# val_dict"
   ]
  },
  {
   "cell_type": "markdown",
   "id": "9531644f-9fca-468e-b6be-cfe5ad164aaa",
   "metadata": {},
   "source": [
    "# Model Config"
   ]
  },
  {
   "cell_type": "code",
   "execution_count": 16,
   "id": "ce33d40a-4070-4dc3-853f-0bfa8c8ce1a7",
   "metadata": {},
   "outputs": [],
   "source": [
    "# baseline_cfg_path = \"/kaggle/working/mmdetection/configs/cascade_rcnn/cascade_rcnn_x101_32x4d_fpn_1x_coco.py\"\n",
    "# cfg = Config.fromfile(baseline_cfg_path)\n",
    "cfg = Config.fromfile(\n",
    "    \"/app/_data/mmdetection/configs/cascade_rcnn/cascade_rcnn_x101_32x4d_fpn_1x_coco.py\"\n",
    ")"
   ]
  },
  {
   "cell_type": "code",
   "execution_count": 17,
   "id": "a8b4890f-28a2-410c-848b-ce87a76570e4",
   "metadata": {},
   "outputs": [],
   "source": [
    "model_name = \"cascade_rcnn_x101_32x4d_fpn_1x_coco_cust1\"\n",
    "# Folder to store model logs and weight files\n",
    "work_dir = f\"/app/_data/for_mmdet/{model_name}\"\n",
    "cfg.work_dir = work_dir\n",
    "if not os.path.exists(work_dir):\n",
    "    os.makedirs(work_dir)"
   ]
  },
  {
   "cell_type": "code",
   "execution_count": 18,
   "id": "c60e44bc-dfd9-4d5f-be6b-46e9fa031537",
   "metadata": {},
   "outputs": [
    {
     "data": {
      "text/plain": [
       "Config (path: /app/_data/mmdetection/configs/cascade_rcnn/cascade_rcnn_x101_32x4d_fpn_1x_coco.py): {'model': {'type': 'CascadeRCNN', 'backbone': {'type': 'ResNeXt', 'depth': 101, 'num_stages': 4, 'out_indices': (0, 1, 2, 3), 'frozen_stages': 1, 'norm_cfg': {'type': 'BN', 'requires_grad': True}, 'norm_eval': True, 'style': 'pytorch', 'init_cfg': {'type': 'Pretrained', 'checkpoint': 'open-mmlab://resnext101_32x4d'}, 'groups': 32, 'base_width': 4}, 'neck': {'type': 'FPN', 'in_channels': [256, 512, 1024, 2048], 'out_channels': 256, 'num_outs': 5}, 'rpn_head': {'type': 'RPNHead', 'in_channels': 256, 'feat_channels': 256, 'anchor_generator': {'type': 'AnchorGenerator', 'scales': [8], 'ratios': [0.5, 1.0, 2.0], 'strides': [4, 8, 16, 32, 64]}, 'bbox_coder': {'type': 'DeltaXYWHBBoxCoder', 'target_means': [0.0, 0.0, 0.0, 0.0], 'target_stds': [1.0, 1.0, 1.0, 1.0]}, 'loss_cls': {'type': 'CrossEntropyLoss', 'use_sigmoid': True, 'loss_weight': 1.0}, 'loss_bbox': {'type': 'SmoothL1Loss', 'beta': 0.1111111111111111, 'loss_weight': 1.0}}, 'roi_head': {'type': 'CascadeRoIHead', 'num_stages': 3, 'stage_loss_weights': [1, 0.5, 0.25], 'bbox_roi_extractor': {'type': 'SingleRoIExtractor', 'roi_layer': {'type': 'RoIAlign', 'output_size': 7, 'sampling_ratio': 0}, 'out_channels': 256, 'featmap_strides': [4, 8, 16, 32]}, 'bbox_head': [{'type': 'Shared2FCBBoxHead', 'in_channels': 256, 'fc_out_channels': 1024, 'roi_feat_size': 7, 'num_classes': 80, 'bbox_coder': {'type': 'DeltaXYWHBBoxCoder', 'target_means': [0.0, 0.0, 0.0, 0.0], 'target_stds': [0.1, 0.1, 0.2, 0.2]}, 'reg_class_agnostic': True, 'loss_cls': {'type': 'CrossEntropyLoss', 'use_sigmoid': False, 'loss_weight': 1.0}, 'loss_bbox': {'type': 'SmoothL1Loss', 'beta': 1.0, 'loss_weight': 1.0}}, {'type': 'Shared2FCBBoxHead', 'in_channels': 256, 'fc_out_channels': 1024, 'roi_feat_size': 7, 'num_classes': 80, 'bbox_coder': {'type': 'DeltaXYWHBBoxCoder', 'target_means': [0.0, 0.0, 0.0, 0.0], 'target_stds': [0.05, 0.05, 0.1, 0.1]}, 'reg_class_agnostic': True, 'loss_cls': {'type': 'CrossEntropyLoss', 'use_sigmoid': False, 'loss_weight': 1.0}, 'loss_bbox': {'type': 'SmoothL1Loss', 'beta': 1.0, 'loss_weight': 1.0}}, {'type': 'Shared2FCBBoxHead', 'in_channels': 256, 'fc_out_channels': 1024, 'roi_feat_size': 7, 'num_classes': 80, 'bbox_coder': {'type': 'DeltaXYWHBBoxCoder', 'target_means': [0.0, 0.0, 0.0, 0.0], 'target_stds': [0.033, 0.033, 0.067, 0.067]}, 'reg_class_agnostic': True, 'loss_cls': {'type': 'CrossEntropyLoss', 'use_sigmoid': False, 'loss_weight': 1.0}, 'loss_bbox': {'type': 'SmoothL1Loss', 'beta': 1.0, 'loss_weight': 1.0}}]}, 'train_cfg': {'rpn': {'assigner': {'type': 'MaxIoUAssigner', 'pos_iou_thr': 0.7, 'neg_iou_thr': 0.3, 'min_pos_iou': 0.3, 'match_low_quality': True, 'ignore_iof_thr': -1}, 'sampler': {'type': 'RandomSampler', 'num': 256, 'pos_fraction': 0.5, 'neg_pos_ub': -1, 'add_gt_as_proposals': False}, 'allowed_border': 0, 'pos_weight': -1, 'debug': False}, 'rpn_proposal': {'nms_pre': 2000, 'max_per_img': 2000, 'nms': {'type': 'nms', 'iou_threshold': 0.7}, 'min_bbox_size': 0}, 'rcnn': [{'assigner': {'type': 'MaxIoUAssigner', 'pos_iou_thr': 0.5, 'neg_iou_thr': 0.5, 'min_pos_iou': 0.5, 'match_low_quality': False, 'ignore_iof_thr': -1}, 'sampler': {'type': 'RandomSampler', 'num': 512, 'pos_fraction': 0.25, 'neg_pos_ub': -1, 'add_gt_as_proposals': True}, 'pos_weight': -1, 'debug': False}, {'assigner': {'type': 'MaxIoUAssigner', 'pos_iou_thr': 0.6, 'neg_iou_thr': 0.6, 'min_pos_iou': 0.6, 'match_low_quality': False, 'ignore_iof_thr': -1}, 'sampler': {'type': 'RandomSampler', 'num': 512, 'pos_fraction': 0.25, 'neg_pos_ub': -1, 'add_gt_as_proposals': True}, 'pos_weight': -1, 'debug': False}, {'assigner': {'type': 'MaxIoUAssigner', 'pos_iou_thr': 0.7, 'neg_iou_thr': 0.7, 'min_pos_iou': 0.7, 'match_low_quality': False, 'ignore_iof_thr': -1}, 'sampler': {'type': 'RandomSampler', 'num': 512, 'pos_fraction': 0.25, 'neg_pos_ub': -1, 'add_gt_as_proposals': True}, 'pos_weight': -1, 'debug': False}]}, 'test_cfg': {'rpn': {'nms_pre': 1000, 'max_per_img': 1000, 'nms': {'type': 'nms', 'iou_threshold': 0.7}, 'min_bbox_size': 0}, 'rcnn': {'score_thr': 0.05, 'nms': {'type': 'nms', 'iou_threshold': 0.5}, 'max_per_img': 100}}}, 'dataset_type': 'CocoDataset', 'data_root': 'data/coco/', 'img_norm_cfg': {'mean': [123.675, 116.28, 103.53], 'std': [58.395, 57.12, 57.375], 'to_rgb': True}, 'train_pipeline': [{'type': 'LoadImageFromFile'}, {'type': 'LoadAnnotations', 'with_bbox': True}, {'type': 'Resize', 'img_scale': (1333, 800), 'keep_ratio': True}, {'type': 'RandomFlip', 'flip_ratio': 0.5}, {'type': 'Normalize', 'mean': [123.675, 116.28, 103.53], 'std': [58.395, 57.12, 57.375], 'to_rgb': True}, {'type': 'Pad', 'size_divisor': 32}, {'type': 'DefaultFormatBundle'}, {'type': 'Collect', 'keys': ['img', 'gt_bboxes', 'gt_labels']}], 'test_pipeline': [{'type': 'LoadImageFromFile'}, {'type': 'MultiScaleFlipAug', 'img_scale': (1333, 800), 'flip': False, 'transforms': [{'type': 'Resize', 'keep_ratio': True}, {'type': 'RandomFlip'}, {'type': 'Normalize', 'mean': [123.675, 116.28, 103.53], 'std': [58.395, 57.12, 57.375], 'to_rgb': True}, {'type': 'Pad', 'size_divisor': 32}, {'type': 'ImageToTensor', 'keys': ['img']}, {'type': 'Collect', 'keys': ['img']}]}], 'data': {'samples_per_gpu': 2, 'workers_per_gpu': 2, 'train': {'type': 'CocoDataset', 'ann_file': 'data/coco/annotations/instances_train2017.json', 'img_prefix': 'data/coco/train2017/', 'pipeline': [{'type': 'LoadImageFromFile'}, {'type': 'LoadAnnotations', 'with_bbox': True}, {'type': 'Resize', 'img_scale': (1333, 800), 'keep_ratio': True}, {'type': 'RandomFlip', 'flip_ratio': 0.5}, {'type': 'Normalize', 'mean': [123.675, 116.28, 103.53], 'std': [58.395, 57.12, 57.375], 'to_rgb': True}, {'type': 'Pad', 'size_divisor': 32}, {'type': 'DefaultFormatBundle'}, {'type': 'Collect', 'keys': ['img', 'gt_bboxes', 'gt_labels']}]}, 'val': {'type': 'CocoDataset', 'ann_file': 'data/coco/annotations/instances_val2017.json', 'img_prefix': 'data/coco/val2017/', 'pipeline': [{'type': 'LoadImageFromFile'}, {'type': 'MultiScaleFlipAug', 'img_scale': (1333, 800), 'flip': False, 'transforms': [{'type': 'Resize', 'keep_ratio': True}, {'type': 'RandomFlip'}, {'type': 'Normalize', 'mean': [123.675, 116.28, 103.53], 'std': [58.395, 57.12, 57.375], 'to_rgb': True}, {'type': 'Pad', 'size_divisor': 32}, {'type': 'ImageToTensor', 'keys': ['img']}, {'type': 'Collect', 'keys': ['img']}]}]}, 'test': {'type': 'CocoDataset', 'ann_file': 'data/coco/annotations/instances_val2017.json', 'img_prefix': 'data/coco/val2017/', 'pipeline': [{'type': 'LoadImageFromFile'}, {'type': 'MultiScaleFlipAug', 'img_scale': (1333, 800), 'flip': False, 'transforms': [{'type': 'Resize', 'keep_ratio': True}, {'type': 'RandomFlip'}, {'type': 'Normalize', 'mean': [123.675, 116.28, 103.53], 'std': [58.395, 57.12, 57.375], 'to_rgb': True}, {'type': 'Pad', 'size_divisor': 32}, {'type': 'ImageToTensor', 'keys': ['img']}, {'type': 'Collect', 'keys': ['img']}]}]}}, 'evaluation': {'interval': 1, 'metric': 'bbox'}, 'optimizer': {'type': 'SGD', 'lr': 0.02, 'momentum': 0.9, 'weight_decay': 0.0001}, 'optimizer_config': {'grad_clip': None}, 'lr_config': {'policy': 'step', 'warmup': 'linear', 'warmup_iters': 500, 'warmup_ratio': 0.001, 'step': [8, 11]}, 'runner': {'type': 'EpochBasedRunner', 'max_epochs': 12}, 'checkpoint_config': {'interval': 1}, 'log_config': {'interval': 50, 'hooks': [{'type': 'TextLoggerHook'}]}, 'custom_hooks': [{'type': 'NumClassCheckHook'}], 'dist_params': {'backend': 'nccl'}, 'log_level': 'INFO', 'load_from': None, 'resume_from': None, 'workflow': [('train', 1)], 'opencv_num_threads': 0, 'mp_start_method': 'fork', 'work_dir': '/app/_data/for_mmdet/cascade_rcnn_x101_32x4d_fpn_1x_coco_cust1'}"
      ]
     },
     "execution_count": 18,
     "metadata": {},
     "output_type": "execute_result"
    }
   ],
   "source": [
    "# cfg"
   ]
  },
  {
   "cell_type": "code",
   "execution_count": 19,
   "id": "a25643bf-b2a2-4212-b4c1-0d17e566ab35",
   "metadata": {},
   "outputs": [],
   "source": [
    "for head in cfg.model.roi_head.bbox_head:\n",
    "    head.num_classes = 1"
   ]
  },
  {
   "cell_type": "code",
   "execution_count": 20,
   "id": "1168e297-ea5c-4166-bc8e-5ec01d6a6f1d",
   "metadata": {},
   "outputs": [],
   "source": [
    "cfg.runner.max_epochs = 20"
   ]
  },
  {
   "cell_type": "code",
   "execution_count": 21,
   "id": "3dbd90ea-e213-4815-916c-b9b816b8ace0",
   "metadata": {},
   "outputs": [],
   "source": [
    "cfg.optimizer.lr = 0.02 / 8"
   ]
  },
  {
   "cell_type": "code",
   "execution_count": 22,
   "id": "ffeb7bb7-74c0-46e4-bef6-7a5e8a61d923",
   "metadata": {},
   "outputs": [
    {
     "data": {
      "text/plain": [
       "{'policy': 'step',\n",
       " 'warmup': 'linear',\n",
       " 'warmup_iters': 500,\n",
       " 'warmup_ratio': 0.001,\n",
       " 'step': [8, 11]}"
      ]
     },
     "execution_count": 22,
     "metadata": {},
     "output_type": "execute_result"
    }
   ],
   "source": [
    "cfg.lr_config"
   ]
  },
  {
   "cell_type": "code",
   "execution_count": 23,
   "id": "90d020b6-0504-4efe-af97-71e9397e14da",
   "metadata": {},
   "outputs": [],
   "source": [
    "cfg.lr_config = dict(\n",
    "    policy='CosineAnnealing', # The policy of scheduler, also support CosineAnnealing, Cyclic, etc. Refer to details of supported LrUpdater from https://github.com/open-mmlab/mmcv/blob/master/mmcv/runner/hooks/lr_updater.py#L9.\n",
    "    by_epoch=False,\n",
    "    warmup='linear', # The warmup policy, also support `exp` and `constant`.\n",
    "    warmup_iters=500, # The number of iterations for warmup\n",
    "    warmup_ratio=0.001, # The ratio of the starting learning rate used for warmup\n",
    "    min_lr=1e-07)"
   ]
  },
  {
   "cell_type": "code",
   "execution_count": 25,
   "id": "c492a4bb-cd3d-4142-9ae5-87f7e594d2fc",
   "metadata": {},
   "outputs": [],
   "source": [
    "cfg.log_config.interval = 100"
   ]
  },
  {
   "cell_type": "code",
   "execution_count": 26,
   "id": "188c83fe-568d-4fc9-94ef-6a5149e07933",
   "metadata": {},
   "outputs": [],
   "source": [
    "cfg.data.samples_per_gpu=4\n",
    "cfg.data.workers_per_gpu=4"
   ]
  },
  {
   "cell_type": "code",
   "execution_count": 27,
   "id": "13ad4d58-782f-4286-a7f8-3965a926a336",
   "metadata": {},
   "outputs": [
    {
     "data": {
      "text/plain": [
       "'CocoDataset'"
      ]
     },
     "execution_count": 27,
     "metadata": {},
     "output_type": "execute_result"
    }
   ],
   "source": [
    "cfg.dataset_type"
   ]
  },
  {
   "cell_type": "code",
   "execution_count": 28,
   "id": "ea66b1ad-5eda-4259-85bf-123eabc4834e",
   "metadata": {},
   "outputs": [],
   "source": [
    "cfg.gpu_ids = [0]\n",
    "cfg.classes = '/app/_data/for_mmdet/labels.txt'"
   ]
  },
  {
   "cell_type": "code",
   "execution_count": 29,
   "id": "d45de054-bf03-4edb-8319-7dd044d75241",
   "metadata": {},
   "outputs": [],
   "source": [
    "cfg.data.train.ann_file =  \"/app/_data/for_mmdet/coco_train.json\"\n",
    "cfg.data.train.img_prefix =  \"/app/_data/images/\"\n",
    "cfg.data.train.classes = cfg.classes"
   ]
  },
  {
   "cell_type": "code",
   "execution_count": 30,
   "id": "8c5434ee-2beb-4e66-b092-1d69c9dcb24b",
   "metadata": {},
   "outputs": [],
   "source": [
    "cfg.data.val.ann_file =  \"/app/_data/for_mmdet/coco_val.json\"\n",
    "cfg.data.val.img_prefix =  \"/app/_data/images/\"\n",
    "cfg.data.val.classes = cfg.classes"
   ]
  },
  {
   "cell_type": "code",
   "execution_count": 31,
   "id": "2fde5cf6-0fb1-4ff9-9d60-2fac51fbef0d",
   "metadata": {},
   "outputs": [],
   "source": [
    "cfg.data.test = cfg.data.val"
   ]
  },
  {
   "cell_type": "code",
   "execution_count": 32,
   "id": "e8dc575f-ff0f-42f9-a5b4-008c4f836c3f",
   "metadata": {},
   "outputs": [],
   "source": [
    "cfg.seed = SEED"
   ]
  },
  {
   "cell_type": "code",
   "execution_count": 33,
   "id": "5f3b0c89-a50e-4b55-926c-92742a36d304",
   "metadata": {},
   "outputs": [
    {
     "data": {
      "text/plain": [
       "{'interval': 1, 'metric': 'bbox'}"
      ]
     },
     "execution_count": 33,
     "metadata": {},
     "output_type": "execute_result"
    }
   ],
   "source": [
    "cfg.evaluation"
   ]
  },
  {
   "cell_type": "code",
   "execution_count": 34,
   "id": "47ca5c61-fad4-4fad-94f2-55b9ad03863a",
   "metadata": {},
   "outputs": [
    {
     "name": "stderr",
     "output_type": "stream",
     "text": [
      "\u001b[34m\u001b[1mwandb\u001b[0m: Currently logged in as: \u001b[33mtatanko\u001b[0m (use `wandb login --relogin` to force relogin)\n"
     ]
    },
    {
     "data": {
      "text/plain": [
       "True"
      ]
     },
     "execution_count": 34,
     "metadata": {},
     "output_type": "execute_result"
    }
   ],
   "source": [
    "import wandb\n",
    "wandb.login()"
   ]
  },
  {
   "cell_type": "code",
   "execution_count": 35,
   "id": "2ae2cff6-2868-46e9-be2b-8817931a81ee",
   "metadata": {},
   "outputs": [
    {
     "data": {
      "text/plain": [
       "[{'type': 'TextLoggerHook'}]"
      ]
     },
     "execution_count": 35,
     "metadata": {},
     "output_type": "execute_result"
    }
   ],
   "source": [
    "cfg.log_config.hooks"
   ]
  },
  {
   "cell_type": "code",
   "execution_count": 36,
   "id": "bc6b0ad6-8d87-48a7-a57c-61f74011a480",
   "metadata": {},
   "outputs": [],
   "source": [
    "cfg.log_config.hooks = [dict(type='TextLoggerHook'),\n",
    "                        dict(type='WandbLoggerHook',\n",
    "                             init_kwargs=dict(project='cascade_101',\n",
    "                                              name=f'exp-{model_name}',\n",
    "                                              entity='tatanko'))]"
   ]
  },
  {
   "cell_type": "code",
   "execution_count": 37,
   "id": "83a755e3-33c4-4091-9146-12c425a2efe7",
   "metadata": {},
   "outputs": [
    {
     "data": {
      "text/plain": [
       "[{'type': 'LoadImageFromFile'},\n",
       " {'type': 'LoadAnnotations', 'with_bbox': True},\n",
       " {'type': 'Resize', 'img_scale': (1333, 800), 'keep_ratio': True},\n",
       " {'type': 'RandomFlip', 'flip_ratio': 0.5},\n",
       " {'type': 'Normalize',\n",
       "  'mean': [123.675, 116.28, 103.53],\n",
       "  'std': [58.395, 57.12, 57.375],\n",
       "  'to_rgb': True},\n",
       " {'type': 'Pad', 'size_divisor': 32},\n",
       " {'type': 'DefaultFormatBundle'},\n",
       " {'type': 'Collect', 'keys': ['img', 'gt_bboxes', 'gt_labels']}]"
      ]
     },
     "execution_count": 37,
     "metadata": {},
     "output_type": "execute_result"
    }
   ],
   "source": [
    "cfg.train_pipeline "
   ]
  },
  {
   "cell_type": "code",
   "execution_count": 38,
   "id": "c6cc7688-8f5d-4d74-84b0-c262fae6d555",
   "metadata": {},
   "outputs": [],
   "source": [
    "albu_train_transforms = [\n",
    "    dict(type='ShiftScaleRotate', shift_limit=0.0625,\n",
    "         scale_limit=0.15, rotate_limit=15, p=0.05),\n",
    "    dict(type='RandomBrightnessContrast', brightness_limit=0.2,\n",
    "         contrast_limit=0.2, p=0.3),\n",
    "    dict(type='IAAAffine', shear=(-10.0, 10.0), p=0.4),\n",
    "    dict(type=\"Blur\", p=1.0, blur_limit=7),\n",
    "    dict(type='CLAHE', p=0.5),\n",
    "    dict(type='Equalize', mode='cv', p=0.4),\n",
    "    dict(\n",
    "        type=\"OneOf\",\n",
    "        transforms=[\n",
    "            dict(type=\"GaussianBlur\", p=1.0, blur_limit=7),\n",
    "            dict(type=\"MedianBlur\", p=1.0, blur_limit=7),\n",
    "        ],\n",
    "        p=0.4,\n",
    "    ),\n",
    "    \n",
    "    dict(type='MixUp', p=0.2, lambd=0.5),\n",
    "    dict(type='Flip', p=0.5),\n",
    "    ]\n",
    "\n",
    "\n",
    "cfg.train_pipeline = [\n",
    "    dict(type='LoadImageFromFile'),\n",
    "    dict(type='LoadAnnotations', with_bbox=True, with_mask=False),\n",
    "    dict(type='Resize', img_scale=(1333, 800), keep_ratio=True),\n",
    "    dict(type='RandomFlip', flip_ratio=0.5),\n",
    "    dict(\n",
    "        type='Albu',\n",
    "        transforms=albu_train_transforms,\n",
    "        bbox_params=dict(\n",
    "        type='BboxParams',\n",
    "        format='pascal_voc',\n",
    "        label_fields=['gt_labels'],\n",
    "        min_visibility=0.5,\n",
    "        filter_lost_elements=True),\n",
    "        keymap=dict(img='image', gt_bboxes='bboxes'),\n",
    "        update_pad_shape=False,\n",
    "        skip_img_without_anno=True),\n",
    "    dict(\n",
    "        type='Normalize',\n",
    "        mean=[123.675, 116.28, 103.53],\n",
    "        std=[58.395, 57.12, 57.375],\n",
    "        to_rgb=True),\n",
    "    dict(type='Pad', size_divisor=32),\n",
    "    dict(type='DefaultFormatBundle'),\n",
    "    dict(type='Collect', keys=['img', 'gt_bboxes', 'gt_labels', 'gt_masks'])\n",
    "]\n",
    "cfg.test_pipeline = [\n",
    "    dict(type='LoadImageFromFile'),\n",
    "    dict(\n",
    "        type='MultiScaleFlipAug',\n",
    "        img_scale=(1333, 800),\n",
    "        flip=False,\n",
    "        transforms=[\n",
    "            dict(type='Resize', keep_ratio=True),\n",
    "            dict(type='RandomFlip'),\n",
    "            dict(\n",
    "                type='Normalize',\n",
    "                mean=[123.675, 116.28, 103.53],\n",
    "                std=[58.395, 57.12, 57.375],\n",
    "                to_rgb=True),\n",
    "            dict(type='Pad', size_divisor=32),\n",
    "            dict(type='ImageToTensor', keys=['img']),\n",
    "            dict(type='Collect', keys=['img'])\n",
    "        ])\n",
    "]"
   ]
  },
  {
   "cell_type": "code",
   "execution_count": 39,
   "id": "0fd236a1-1ca0-433f-9ee8-1a7b4b663d00",
   "metadata": {
    "collapsed": true,
    "jupyter": {
     "outputs_hidden": true
    },
    "tags": []
   },
   "outputs": [
    {
     "name": "stderr",
     "output_type": "stream",
     "text": [
      "2022-02-10 14:08:15,659 - mmcv - INFO - initialize ResNeXt with init_cfg {'type': 'Pretrained', 'checkpoint': 'open-mmlab://resnext101_32x4d'}\n",
      "2022-02-10 14:08:15,660 - mmcv - INFO - load model from: open-mmlab://resnext101_32x4d\n",
      "2022-02-10 14:08:15,661 - mmcv - INFO - load checkpoint from openmmlab path: open-mmlab://resnext101_32x4d\n",
      "2022-02-10 14:08:15,878 - mmcv - INFO - initialize FPN with init_cfg {'type': 'Xavier', 'layer': 'Conv2d', 'distribution': 'uniform'}\n",
      "2022-02-10 14:08:15,900 - mmcv - INFO - initialize RPNHead with init_cfg {'type': 'Normal', 'layer': 'Conv2d', 'std': 0.01}\n",
      "2022-02-10 14:08:15,905 - mmcv - INFO - initialize Shared2FCBBoxHead with init_cfg [{'type': 'Normal', 'std': 0.01, 'override': {'name': 'fc_cls'}}, {'type': 'Normal', 'std': 0.001, 'override': {'name': 'fc_reg'}}, {'type': 'Xavier', 'distribution': 'uniform', 'override': [{'name': 'shared_fcs'}, {'name': 'cls_fcs'}, {'name': 'reg_fcs'}]}]\n",
      "2022-02-10 14:08:16,001 - mmcv - INFO - initialize Shared2FCBBoxHead with init_cfg [{'type': 'Normal', 'std': 0.01, 'override': {'name': 'fc_cls'}}, {'type': 'Normal', 'std': 0.001, 'override': {'name': 'fc_reg'}}, {'type': 'Xavier', 'distribution': 'uniform', 'override': [{'name': 'shared_fcs'}, {'name': 'cls_fcs'}, {'name': 'reg_fcs'}]}]\n",
      "2022-02-10 14:08:16,106 - mmcv - INFO - initialize Shared2FCBBoxHead with init_cfg [{'type': 'Normal', 'std': 0.01, 'override': {'name': 'fc_cls'}}, {'type': 'Normal', 'std': 0.001, 'override': {'name': 'fc_reg'}}, {'type': 'Xavier', 'distribution': 'uniform', 'override': [{'name': 'shared_fcs'}, {'name': 'cls_fcs'}, {'name': 'reg_fcs'}]}]\n",
      "2022-02-10 14:08:16,233 - mmcv - INFO - \n",
      "backbone.conv1.weight - torch.Size([64, 3, 7, 7]): \n",
      "PretrainedInit: load from open-mmlab://resnext101_32x4d \n",
      " \n",
      "2022-02-10 14:08:16,235 - mmcv - INFO - \n",
      "backbone.bn1.weight - torch.Size([64]): \n",
      "PretrainedInit: load from open-mmlab://resnext101_32x4d \n",
      " \n",
      "2022-02-10 14:08:16,235 - mmcv - INFO - \n",
      "backbone.bn1.bias - torch.Size([64]): \n",
      "PretrainedInit: load from open-mmlab://resnext101_32x4d \n",
      " \n",
      "2022-02-10 14:08:16,236 - mmcv - INFO - \n",
      "backbone.layer1.0.conv1.weight - torch.Size([128, 64, 1, 1]): \n",
      "PretrainedInit: load from open-mmlab://resnext101_32x4d \n",
      " \n",
      "2022-02-10 14:08:16,237 - mmcv - INFO - \n",
      "backbone.layer1.0.bn1.weight - torch.Size([128]): \n",
      "PretrainedInit: load from open-mmlab://resnext101_32x4d \n",
      " \n",
      "2022-02-10 14:08:16,237 - mmcv - INFO - \n",
      "backbone.layer1.0.bn1.bias - torch.Size([128]): \n",
      "PretrainedInit: load from open-mmlab://resnext101_32x4d \n",
      " \n",
      "2022-02-10 14:08:16,238 - mmcv - INFO - \n",
      "backbone.layer1.0.conv2.weight - torch.Size([128, 4, 3, 3]): \n",
      "PretrainedInit: load from open-mmlab://resnext101_32x4d \n",
      " \n",
      "2022-02-10 14:08:16,239 - mmcv - INFO - \n",
      "backbone.layer1.0.bn2.weight - torch.Size([128]): \n",
      "PretrainedInit: load from open-mmlab://resnext101_32x4d \n",
      " \n",
      "2022-02-10 14:08:16,240 - mmcv - INFO - \n",
      "backbone.layer1.0.bn2.bias - torch.Size([128]): \n",
      "PretrainedInit: load from open-mmlab://resnext101_32x4d \n",
      " \n",
      "2022-02-10 14:08:16,244 - mmcv - INFO - \n",
      "backbone.layer1.0.conv3.weight - torch.Size([256, 128, 1, 1]): \n",
      "PretrainedInit: load from open-mmlab://resnext101_32x4d \n",
      " \n",
      "2022-02-10 14:08:16,244 - mmcv - INFO - \n",
      "backbone.layer1.0.bn3.weight - torch.Size([256]): \n",
      "PretrainedInit: load from open-mmlab://resnext101_32x4d \n",
      " \n",
      "2022-02-10 14:08:16,245 - mmcv - INFO - \n",
      "backbone.layer1.0.bn3.bias - torch.Size([256]): \n",
      "PretrainedInit: load from open-mmlab://resnext101_32x4d \n",
      " \n",
      "2022-02-10 14:08:16,245 - mmcv - INFO - \n",
      "backbone.layer1.0.downsample.0.weight - torch.Size([256, 64, 1, 1]): \n",
      "PretrainedInit: load from open-mmlab://resnext101_32x4d \n",
      " \n",
      "2022-02-10 14:08:16,247 - mmcv - INFO - \n",
      "backbone.layer1.0.downsample.1.weight - torch.Size([256]): \n",
      "PretrainedInit: load from open-mmlab://resnext101_32x4d \n",
      " \n",
      "2022-02-10 14:08:16,247 - mmcv - INFO - \n",
      "backbone.layer1.0.downsample.1.bias - torch.Size([256]): \n",
      "PretrainedInit: load from open-mmlab://resnext101_32x4d \n",
      " \n",
      "2022-02-10 14:08:16,248 - mmcv - INFO - \n",
      "backbone.layer1.1.conv1.weight - torch.Size([128, 256, 1, 1]): \n",
      "PretrainedInit: load from open-mmlab://resnext101_32x4d \n",
      " \n",
      "2022-02-10 14:08:16,248 - mmcv - INFO - \n",
      "backbone.layer1.1.bn1.weight - torch.Size([128]): \n",
      "PretrainedInit: load from open-mmlab://resnext101_32x4d \n",
      " \n",
      "2022-02-10 14:08:16,249 - mmcv - INFO - \n",
      "backbone.layer1.1.bn1.bias - torch.Size([128]): \n",
      "PretrainedInit: load from open-mmlab://resnext101_32x4d \n",
      " \n",
      "2022-02-10 14:08:16,250 - mmcv - INFO - \n",
      "backbone.layer1.1.conv2.weight - torch.Size([128, 4, 3, 3]): \n",
      "PretrainedInit: load from open-mmlab://resnext101_32x4d \n",
      " \n",
      "2022-02-10 14:08:16,250 - mmcv - INFO - \n",
      "backbone.layer1.1.bn2.weight - torch.Size([128]): \n",
      "PretrainedInit: load from open-mmlab://resnext101_32x4d \n",
      " \n",
      "2022-02-10 14:08:16,251 - mmcv - INFO - \n",
      "backbone.layer1.1.bn2.bias - torch.Size([128]): \n",
      "PretrainedInit: load from open-mmlab://resnext101_32x4d \n",
      " \n",
      "2022-02-10 14:08:16,251 - mmcv - INFO - \n",
      "backbone.layer1.1.conv3.weight - torch.Size([256, 128, 1, 1]): \n",
      "PretrainedInit: load from open-mmlab://resnext101_32x4d \n",
      " \n",
      "2022-02-10 14:08:16,252 - mmcv - INFO - \n",
      "backbone.layer1.1.bn3.weight - torch.Size([256]): \n",
      "PretrainedInit: load from open-mmlab://resnext101_32x4d \n",
      " \n",
      "2022-02-10 14:08:16,252 - mmcv - INFO - \n",
      "backbone.layer1.1.bn3.bias - torch.Size([256]): \n",
      "PretrainedInit: load from open-mmlab://resnext101_32x4d \n",
      " \n",
      "2022-02-10 14:08:16,253 - mmcv - INFO - \n",
      "backbone.layer1.2.conv1.weight - torch.Size([128, 256, 1, 1]): \n",
      "PretrainedInit: load from open-mmlab://resnext101_32x4d \n",
      " \n",
      "2022-02-10 14:08:16,253 - mmcv - INFO - \n",
      "backbone.layer1.2.bn1.weight - torch.Size([128]): \n",
      "PretrainedInit: load from open-mmlab://resnext101_32x4d \n",
      " \n",
      "2022-02-10 14:08:16,254 - mmcv - INFO - \n",
      "backbone.layer1.2.bn1.bias - torch.Size([128]): \n",
      "PretrainedInit: load from open-mmlab://resnext101_32x4d \n",
      " \n",
      "2022-02-10 14:08:16,254 - mmcv - INFO - \n",
      "backbone.layer1.2.conv2.weight - torch.Size([128, 4, 3, 3]): \n",
      "PretrainedInit: load from open-mmlab://resnext101_32x4d \n",
      " \n",
      "2022-02-10 14:08:16,255 - mmcv - INFO - \n",
      "backbone.layer1.2.bn2.weight - torch.Size([128]): \n",
      "PretrainedInit: load from open-mmlab://resnext101_32x4d \n",
      " \n",
      "2022-02-10 14:08:16,255 - mmcv - INFO - \n",
      "backbone.layer1.2.bn2.bias - torch.Size([128]): \n",
      "PretrainedInit: load from open-mmlab://resnext101_32x4d \n",
      " \n",
      "2022-02-10 14:08:16,256 - mmcv - INFO - \n",
      "backbone.layer1.2.conv3.weight - torch.Size([256, 128, 1, 1]): \n",
      "PretrainedInit: load from open-mmlab://resnext101_32x4d \n",
      " \n",
      "2022-02-10 14:08:16,256 - mmcv - INFO - \n",
      "backbone.layer1.2.bn3.weight - torch.Size([256]): \n",
      "PretrainedInit: load from open-mmlab://resnext101_32x4d \n",
      " \n",
      "2022-02-10 14:08:16,256 - mmcv - INFO - \n",
      "backbone.layer1.2.bn3.bias - torch.Size([256]): \n",
      "PretrainedInit: load from open-mmlab://resnext101_32x4d \n",
      " \n",
      "2022-02-10 14:08:16,257 - mmcv - INFO - \n",
      "backbone.layer2.0.conv1.weight - torch.Size([256, 256, 1, 1]): \n",
      "PretrainedInit: load from open-mmlab://resnext101_32x4d \n",
      " \n",
      "2022-02-10 14:08:16,257 - mmcv - INFO - \n",
      "backbone.layer2.0.bn1.weight - torch.Size([256]): \n",
      "PretrainedInit: load from open-mmlab://resnext101_32x4d \n",
      " \n",
      "2022-02-10 14:08:16,258 - mmcv - INFO - \n",
      "backbone.layer2.0.bn1.bias - torch.Size([256]): \n",
      "PretrainedInit: load from open-mmlab://resnext101_32x4d \n",
      " \n",
      "2022-02-10 14:08:16,258 - mmcv - INFO - \n",
      "backbone.layer2.0.conv2.weight - torch.Size([256, 8, 3, 3]): \n",
      "PretrainedInit: load from open-mmlab://resnext101_32x4d \n",
      " \n",
      "2022-02-10 14:08:16,259 - mmcv - INFO - \n",
      "backbone.layer2.0.bn2.weight - torch.Size([256]): \n",
      "PretrainedInit: load from open-mmlab://resnext101_32x4d \n",
      " \n",
      "2022-02-10 14:08:16,259 - mmcv - INFO - \n",
      "backbone.layer2.0.bn2.bias - torch.Size([256]): \n",
      "PretrainedInit: load from open-mmlab://resnext101_32x4d \n",
      " \n",
      "2022-02-10 14:08:16,260 - mmcv - INFO - \n",
      "backbone.layer2.0.conv3.weight - torch.Size([512, 256, 1, 1]): \n",
      "PretrainedInit: load from open-mmlab://resnext101_32x4d \n",
      " \n",
      "2022-02-10 14:08:16,260 - mmcv - INFO - \n",
      "backbone.layer2.0.bn3.weight - torch.Size([512]): \n",
      "PretrainedInit: load from open-mmlab://resnext101_32x4d \n",
      " \n",
      "2022-02-10 14:08:16,261 - mmcv - INFO - \n",
      "backbone.layer2.0.bn3.bias - torch.Size([512]): \n",
      "PretrainedInit: load from open-mmlab://resnext101_32x4d \n",
      " \n",
      "2022-02-10 14:08:16,261 - mmcv - INFO - \n",
      "backbone.layer2.0.downsample.0.weight - torch.Size([512, 256, 1, 1]): \n",
      "PretrainedInit: load from open-mmlab://resnext101_32x4d \n",
      " \n",
      "2022-02-10 14:08:16,262 - mmcv - INFO - \n",
      "backbone.layer2.0.downsample.1.weight - torch.Size([512]): \n",
      "PretrainedInit: load from open-mmlab://resnext101_32x4d \n",
      " \n",
      "2022-02-10 14:08:16,262 - mmcv - INFO - \n",
      "backbone.layer2.0.downsample.1.bias - torch.Size([512]): \n",
      "PretrainedInit: load from open-mmlab://resnext101_32x4d \n",
      " \n",
      "2022-02-10 14:08:16,263 - mmcv - INFO - \n",
      "backbone.layer2.1.conv1.weight - torch.Size([256, 512, 1, 1]): \n",
      "PretrainedInit: load from open-mmlab://resnext101_32x4d \n",
      " \n",
      "2022-02-10 14:08:16,263 - mmcv - INFO - \n",
      "backbone.layer2.1.bn1.weight - torch.Size([256]): \n",
      "PretrainedInit: load from open-mmlab://resnext101_32x4d \n",
      " \n",
      "2022-02-10 14:08:16,263 - mmcv - INFO - \n",
      "backbone.layer2.1.bn1.bias - torch.Size([256]): \n",
      "PretrainedInit: load from open-mmlab://resnext101_32x4d \n",
      " \n",
      "2022-02-10 14:08:16,264 - mmcv - INFO - \n",
      "backbone.layer2.1.conv2.weight - torch.Size([256, 8, 3, 3]): \n",
      "PretrainedInit: load from open-mmlab://resnext101_32x4d \n",
      " \n",
      "2022-02-10 14:08:16,264 - mmcv - INFO - \n",
      "backbone.layer2.1.bn2.weight - torch.Size([256]): \n",
      "PretrainedInit: load from open-mmlab://resnext101_32x4d \n",
      " \n",
      "2022-02-10 14:08:16,265 - mmcv - INFO - \n",
      "backbone.layer2.1.bn2.bias - torch.Size([256]): \n",
      "PretrainedInit: load from open-mmlab://resnext101_32x4d \n",
      " \n",
      "2022-02-10 14:08:16,265 - mmcv - INFO - \n",
      "backbone.layer2.1.conv3.weight - torch.Size([512, 256, 1, 1]): \n",
      "PretrainedInit: load from open-mmlab://resnext101_32x4d \n",
      " \n",
      "2022-02-10 14:08:16,266 - mmcv - INFO - \n",
      "backbone.layer2.1.bn3.weight - torch.Size([512]): \n",
      "PretrainedInit: load from open-mmlab://resnext101_32x4d \n",
      " \n",
      "2022-02-10 14:08:16,266 - mmcv - INFO - \n",
      "backbone.layer2.1.bn3.bias - torch.Size([512]): \n",
      "PretrainedInit: load from open-mmlab://resnext101_32x4d \n",
      " \n",
      "2022-02-10 14:08:16,267 - mmcv - INFO - \n",
      "backbone.layer2.2.conv1.weight - torch.Size([256, 512, 1, 1]): \n",
      "PretrainedInit: load from open-mmlab://resnext101_32x4d \n",
      " \n",
      "2022-02-10 14:08:16,267 - mmcv - INFO - \n",
      "backbone.layer2.2.bn1.weight - torch.Size([256]): \n",
      "PretrainedInit: load from open-mmlab://resnext101_32x4d \n",
      " \n",
      "2022-02-10 14:08:16,268 - mmcv - INFO - \n",
      "backbone.layer2.2.bn1.bias - torch.Size([256]): \n",
      "PretrainedInit: load from open-mmlab://resnext101_32x4d \n",
      " \n",
      "2022-02-10 14:08:16,268 - mmcv - INFO - \n",
      "backbone.layer2.2.conv2.weight - torch.Size([256, 8, 3, 3]): \n",
      "PretrainedInit: load from open-mmlab://resnext101_32x4d \n",
      " \n",
      "2022-02-10 14:08:16,269 - mmcv - INFO - \n",
      "backbone.layer2.2.bn2.weight - torch.Size([256]): \n",
      "PretrainedInit: load from open-mmlab://resnext101_32x4d \n",
      " \n",
      "2022-02-10 14:08:16,269 - mmcv - INFO - \n",
      "backbone.layer2.2.bn2.bias - torch.Size([256]): \n",
      "PretrainedInit: load from open-mmlab://resnext101_32x4d \n",
      " \n",
      "2022-02-10 14:08:16,270 - mmcv - INFO - \n",
      "backbone.layer2.2.conv3.weight - torch.Size([512, 256, 1, 1]): \n",
      "PretrainedInit: load from open-mmlab://resnext101_32x4d \n",
      " \n",
      "2022-02-10 14:08:16,270 - mmcv - INFO - \n",
      "backbone.layer2.2.bn3.weight - torch.Size([512]): \n",
      "PretrainedInit: load from open-mmlab://resnext101_32x4d \n",
      " \n",
      "2022-02-10 14:08:16,271 - mmcv - INFO - \n",
      "backbone.layer2.2.bn3.bias - torch.Size([512]): \n",
      "PretrainedInit: load from open-mmlab://resnext101_32x4d \n",
      " \n",
      "2022-02-10 14:08:16,271 - mmcv - INFO - \n",
      "backbone.layer2.3.conv1.weight - torch.Size([256, 512, 1, 1]): \n",
      "PretrainedInit: load from open-mmlab://resnext101_32x4d \n",
      " \n",
      "2022-02-10 14:08:16,272 - mmcv - INFO - \n",
      "backbone.layer2.3.bn1.weight - torch.Size([256]): \n",
      "PretrainedInit: load from open-mmlab://resnext101_32x4d \n",
      " \n",
      "2022-02-10 14:08:16,272 - mmcv - INFO - \n",
      "backbone.layer2.3.bn1.bias - torch.Size([256]): \n",
      "PretrainedInit: load from open-mmlab://resnext101_32x4d \n",
      " \n",
      "2022-02-10 14:08:16,273 - mmcv - INFO - \n",
      "backbone.layer2.3.conv2.weight - torch.Size([256, 8, 3, 3]): \n",
      "PretrainedInit: load from open-mmlab://resnext101_32x4d \n",
      " \n",
      "2022-02-10 14:08:16,273 - mmcv - INFO - \n",
      "backbone.layer2.3.bn2.weight - torch.Size([256]): \n",
      "PretrainedInit: load from open-mmlab://resnext101_32x4d \n",
      " \n",
      "2022-02-10 14:08:16,274 - mmcv - INFO - \n",
      "backbone.layer2.3.bn2.bias - torch.Size([256]): \n",
      "PretrainedInit: load from open-mmlab://resnext101_32x4d \n",
      " \n",
      "2022-02-10 14:08:16,274 - mmcv - INFO - \n",
      "backbone.layer2.3.conv3.weight - torch.Size([512, 256, 1, 1]): \n",
      "PretrainedInit: load from open-mmlab://resnext101_32x4d \n",
      " \n",
      "2022-02-10 14:08:16,275 - mmcv - INFO - \n",
      "backbone.layer2.3.bn3.weight - torch.Size([512]): \n",
      "PretrainedInit: load from open-mmlab://resnext101_32x4d \n",
      " \n",
      "2022-02-10 14:08:16,275 - mmcv - INFO - \n",
      "backbone.layer2.3.bn3.bias - torch.Size([512]): \n",
      "PretrainedInit: load from open-mmlab://resnext101_32x4d \n",
      " \n",
      "2022-02-10 14:08:16,276 - mmcv - INFO - \n",
      "backbone.layer3.0.conv1.weight - torch.Size([512, 512, 1, 1]): \n",
      "PretrainedInit: load from open-mmlab://resnext101_32x4d \n",
      " \n",
      "2022-02-10 14:08:16,276 - mmcv - INFO - \n",
      "backbone.layer3.0.bn1.weight - torch.Size([512]): \n",
      "PretrainedInit: load from open-mmlab://resnext101_32x4d \n",
      " \n",
      "2022-02-10 14:08:16,277 - mmcv - INFO - \n",
      "backbone.layer3.0.bn1.bias - torch.Size([512]): \n",
      "PretrainedInit: load from open-mmlab://resnext101_32x4d \n",
      " \n",
      "2022-02-10 14:08:16,277 - mmcv - INFO - \n",
      "backbone.layer3.0.conv2.weight - torch.Size([512, 16, 3, 3]): \n",
      "PretrainedInit: load from open-mmlab://resnext101_32x4d \n",
      " \n",
      "2022-02-10 14:08:16,278 - mmcv - INFO - \n",
      "backbone.layer3.0.bn2.weight - torch.Size([512]): \n",
      "PretrainedInit: load from open-mmlab://resnext101_32x4d \n",
      " \n",
      "2022-02-10 14:08:16,278 - mmcv - INFO - \n",
      "backbone.layer3.0.bn2.bias - torch.Size([512]): \n",
      "PretrainedInit: load from open-mmlab://resnext101_32x4d \n",
      " \n",
      "2022-02-10 14:08:16,279 - mmcv - INFO - \n",
      "backbone.layer3.0.conv3.weight - torch.Size([1024, 512, 1, 1]): \n",
      "PretrainedInit: load from open-mmlab://resnext101_32x4d \n",
      " \n",
      "2022-02-10 14:08:16,279 - mmcv - INFO - \n",
      "backbone.layer3.0.bn3.weight - torch.Size([1024]): \n",
      "PretrainedInit: load from open-mmlab://resnext101_32x4d \n",
      " \n",
      "2022-02-10 14:08:16,280 - mmcv - INFO - \n",
      "backbone.layer3.0.bn3.bias - torch.Size([1024]): \n",
      "PretrainedInit: load from open-mmlab://resnext101_32x4d \n",
      " \n",
      "2022-02-10 14:08:16,280 - mmcv - INFO - \n",
      "backbone.layer3.0.downsample.0.weight - torch.Size([1024, 512, 1, 1]): \n",
      "PretrainedInit: load from open-mmlab://resnext101_32x4d \n",
      " \n",
      "2022-02-10 14:08:16,280 - mmcv - INFO - \n",
      "backbone.layer3.0.downsample.1.weight - torch.Size([1024]): \n",
      "PretrainedInit: load from open-mmlab://resnext101_32x4d \n",
      " \n",
      "2022-02-10 14:08:16,281 - mmcv - INFO - \n",
      "backbone.layer3.0.downsample.1.bias - torch.Size([1024]): \n",
      "PretrainedInit: load from open-mmlab://resnext101_32x4d \n",
      " \n",
      "2022-02-10 14:08:16,281 - mmcv - INFO - \n",
      "backbone.layer3.1.conv1.weight - torch.Size([512, 1024, 1, 1]): \n",
      "PretrainedInit: load from open-mmlab://resnext101_32x4d \n",
      " \n",
      "2022-02-10 14:08:16,282 - mmcv - INFO - \n",
      "backbone.layer3.1.bn1.weight - torch.Size([512]): \n",
      "PretrainedInit: load from open-mmlab://resnext101_32x4d \n",
      " \n",
      "2022-02-10 14:08:16,283 - mmcv - INFO - \n",
      "backbone.layer3.1.bn1.bias - torch.Size([512]): \n",
      "PretrainedInit: load from open-mmlab://resnext101_32x4d \n",
      " \n",
      "2022-02-10 14:08:16,283 - mmcv - INFO - \n",
      "backbone.layer3.1.conv2.weight - torch.Size([512, 16, 3, 3]): \n",
      "PretrainedInit: load from open-mmlab://resnext101_32x4d \n",
      " \n",
      "2022-02-10 14:08:16,284 - mmcv - INFO - \n",
      "backbone.layer3.1.bn2.weight - torch.Size([512]): \n",
      "PretrainedInit: load from open-mmlab://resnext101_32x4d \n",
      " \n",
      "2022-02-10 14:08:16,284 - mmcv - INFO - \n",
      "backbone.layer3.1.bn2.bias - torch.Size([512]): \n",
      "PretrainedInit: load from open-mmlab://resnext101_32x4d \n",
      " \n",
      "2022-02-10 14:08:16,285 - mmcv - INFO - \n",
      "backbone.layer3.1.conv3.weight - torch.Size([1024, 512, 1, 1]): \n",
      "PretrainedInit: load from open-mmlab://resnext101_32x4d \n",
      " \n",
      "2022-02-10 14:08:16,285 - mmcv - INFO - \n",
      "backbone.layer3.1.bn3.weight - torch.Size([1024]): \n",
      "PretrainedInit: load from open-mmlab://resnext101_32x4d \n",
      " \n",
      "2022-02-10 14:08:16,286 - mmcv - INFO - \n",
      "backbone.layer3.1.bn3.bias - torch.Size([1024]): \n",
      "PretrainedInit: load from open-mmlab://resnext101_32x4d \n",
      " \n",
      "2022-02-10 14:08:16,286 - mmcv - INFO - \n",
      "backbone.layer3.2.conv1.weight - torch.Size([512, 1024, 1, 1]): \n",
      "PretrainedInit: load from open-mmlab://resnext101_32x4d \n",
      " \n",
      "2022-02-10 14:08:16,287 - mmcv - INFO - \n",
      "backbone.layer3.2.bn1.weight - torch.Size([512]): \n",
      "PretrainedInit: load from open-mmlab://resnext101_32x4d \n",
      " \n",
      "2022-02-10 14:08:16,287 - mmcv - INFO - \n",
      "backbone.layer3.2.bn1.bias - torch.Size([512]): \n",
      "PretrainedInit: load from open-mmlab://resnext101_32x4d \n",
      " \n",
      "2022-02-10 14:08:16,288 - mmcv - INFO - \n",
      "backbone.layer3.2.conv2.weight - torch.Size([512, 16, 3, 3]): \n",
      "PretrainedInit: load from open-mmlab://resnext101_32x4d \n",
      " \n",
      "2022-02-10 14:08:16,288 - mmcv - INFO - \n",
      "backbone.layer3.2.bn2.weight - torch.Size([512]): \n",
      "PretrainedInit: load from open-mmlab://resnext101_32x4d \n",
      " \n",
      "2022-02-10 14:08:16,288 - mmcv - INFO - \n",
      "backbone.layer3.2.bn2.bias - torch.Size([512]): \n",
      "PretrainedInit: load from open-mmlab://resnext101_32x4d \n",
      " \n",
      "2022-02-10 14:08:16,289 - mmcv - INFO - \n",
      "backbone.layer3.2.conv3.weight - torch.Size([1024, 512, 1, 1]): \n",
      "PretrainedInit: load from open-mmlab://resnext101_32x4d \n",
      " \n",
      "2022-02-10 14:08:16,289 - mmcv - INFO - \n",
      "backbone.layer3.2.bn3.weight - torch.Size([1024]): \n",
      "PretrainedInit: load from open-mmlab://resnext101_32x4d \n",
      " \n",
      "2022-02-10 14:08:16,290 - mmcv - INFO - \n",
      "backbone.layer3.2.bn3.bias - torch.Size([1024]): \n",
      "PretrainedInit: load from open-mmlab://resnext101_32x4d \n",
      " \n",
      "2022-02-10 14:08:16,290 - mmcv - INFO - \n",
      "backbone.layer3.3.conv1.weight - torch.Size([512, 1024, 1, 1]): \n",
      "PretrainedInit: load from open-mmlab://resnext101_32x4d \n",
      " \n",
      "2022-02-10 14:08:16,291 - mmcv - INFO - \n",
      "backbone.layer3.3.bn1.weight - torch.Size([512]): \n",
      "PretrainedInit: load from open-mmlab://resnext101_32x4d \n",
      " \n",
      "2022-02-10 14:08:16,291 - mmcv - INFO - \n",
      "backbone.layer3.3.bn1.bias - torch.Size([512]): \n",
      "PretrainedInit: load from open-mmlab://resnext101_32x4d \n",
      " \n",
      "2022-02-10 14:08:16,292 - mmcv - INFO - \n",
      "backbone.layer3.3.conv2.weight - torch.Size([512, 16, 3, 3]): \n",
      "PretrainedInit: load from open-mmlab://resnext101_32x4d \n",
      " \n",
      "2022-02-10 14:08:16,292 - mmcv - INFO - \n",
      "backbone.layer3.3.bn2.weight - torch.Size([512]): \n",
      "PretrainedInit: load from open-mmlab://resnext101_32x4d \n",
      " \n",
      "2022-02-10 14:08:16,293 - mmcv - INFO - \n",
      "backbone.layer3.3.bn2.bias - torch.Size([512]): \n",
      "PretrainedInit: load from open-mmlab://resnext101_32x4d \n",
      " \n",
      "2022-02-10 14:08:16,293 - mmcv - INFO - \n",
      "backbone.layer3.3.conv3.weight - torch.Size([1024, 512, 1, 1]): \n",
      "PretrainedInit: load from open-mmlab://resnext101_32x4d \n",
      " \n",
      "2022-02-10 14:08:16,294 - mmcv - INFO - \n",
      "backbone.layer3.3.bn3.weight - torch.Size([1024]): \n",
      "PretrainedInit: load from open-mmlab://resnext101_32x4d \n",
      " \n",
      "2022-02-10 14:08:16,294 - mmcv - INFO - \n",
      "backbone.layer3.3.bn3.bias - torch.Size([1024]): \n",
      "PretrainedInit: load from open-mmlab://resnext101_32x4d \n",
      " \n",
      "2022-02-10 14:08:16,295 - mmcv - INFO - \n",
      "backbone.layer3.4.conv1.weight - torch.Size([512, 1024, 1, 1]): \n",
      "PretrainedInit: load from open-mmlab://resnext101_32x4d \n",
      " \n",
      "2022-02-10 14:08:16,295 - mmcv - INFO - \n",
      "backbone.layer3.4.bn1.weight - torch.Size([512]): \n",
      "PretrainedInit: load from open-mmlab://resnext101_32x4d \n",
      " \n",
      "2022-02-10 14:08:16,296 - mmcv - INFO - \n",
      "backbone.layer3.4.bn1.bias - torch.Size([512]): \n",
      "PretrainedInit: load from open-mmlab://resnext101_32x4d \n",
      " \n",
      "2022-02-10 14:08:16,296 - mmcv - INFO - \n",
      "backbone.layer3.4.conv2.weight - torch.Size([512, 16, 3, 3]): \n",
      "PretrainedInit: load from open-mmlab://resnext101_32x4d \n",
      " \n",
      "2022-02-10 14:08:16,297 - mmcv - INFO - \n",
      "backbone.layer3.4.bn2.weight - torch.Size([512]): \n",
      "PretrainedInit: load from open-mmlab://resnext101_32x4d \n",
      " \n",
      "2022-02-10 14:08:16,297 - mmcv - INFO - \n",
      "backbone.layer3.4.bn2.bias - torch.Size([512]): \n",
      "PretrainedInit: load from open-mmlab://resnext101_32x4d \n",
      " \n",
      "2022-02-10 14:08:16,298 - mmcv - INFO - \n",
      "backbone.layer3.4.conv3.weight - torch.Size([1024, 512, 1, 1]): \n",
      "PretrainedInit: load from open-mmlab://resnext101_32x4d \n",
      " \n",
      "2022-02-10 14:08:16,298 - mmcv - INFO - \n",
      "backbone.layer3.4.bn3.weight - torch.Size([1024]): \n",
      "PretrainedInit: load from open-mmlab://resnext101_32x4d \n",
      " \n",
      "2022-02-10 14:08:16,299 - mmcv - INFO - \n",
      "backbone.layer3.4.bn3.bias - torch.Size([1024]): \n",
      "PretrainedInit: load from open-mmlab://resnext101_32x4d \n",
      " \n",
      "2022-02-10 14:08:16,299 - mmcv - INFO - \n",
      "backbone.layer3.5.conv1.weight - torch.Size([512, 1024, 1, 1]): \n",
      "PretrainedInit: load from open-mmlab://resnext101_32x4d \n",
      " \n",
      "2022-02-10 14:08:16,300 - mmcv - INFO - \n",
      "backbone.layer3.5.bn1.weight - torch.Size([512]): \n",
      "PretrainedInit: load from open-mmlab://resnext101_32x4d \n",
      " \n",
      "2022-02-10 14:08:16,300 - mmcv - INFO - \n",
      "backbone.layer3.5.bn1.bias - torch.Size([512]): \n",
      "PretrainedInit: load from open-mmlab://resnext101_32x4d \n",
      " \n",
      "2022-02-10 14:08:16,301 - mmcv - INFO - \n",
      "backbone.layer3.5.conv2.weight - torch.Size([512, 16, 3, 3]): \n",
      "PretrainedInit: load from open-mmlab://resnext101_32x4d \n",
      " \n",
      "2022-02-10 14:08:16,301 - mmcv - INFO - \n",
      "backbone.layer3.5.bn2.weight - torch.Size([512]): \n",
      "PretrainedInit: load from open-mmlab://resnext101_32x4d \n",
      " \n",
      "2022-02-10 14:08:16,302 - mmcv - INFO - \n",
      "backbone.layer3.5.bn2.bias - torch.Size([512]): \n",
      "PretrainedInit: load from open-mmlab://resnext101_32x4d \n",
      " \n",
      "2022-02-10 14:08:16,302 - mmcv - INFO - \n",
      "backbone.layer3.5.conv3.weight - torch.Size([1024, 512, 1, 1]): \n",
      "PretrainedInit: load from open-mmlab://resnext101_32x4d \n",
      " \n",
      "2022-02-10 14:08:16,303 - mmcv - INFO - \n",
      "backbone.layer3.5.bn3.weight - torch.Size([1024]): \n",
      "PretrainedInit: load from open-mmlab://resnext101_32x4d \n",
      " \n",
      "2022-02-10 14:08:16,303 - mmcv - INFO - \n",
      "backbone.layer3.5.bn3.bias - torch.Size([1024]): \n",
      "PretrainedInit: load from open-mmlab://resnext101_32x4d \n",
      " \n",
      "2022-02-10 14:08:16,307 - mmcv - INFO - \n",
      "backbone.layer3.6.conv1.weight - torch.Size([512, 1024, 1, 1]): \n",
      "PretrainedInit: load from open-mmlab://resnext101_32x4d \n",
      " \n",
      "2022-02-10 14:08:16,307 - mmcv - INFO - \n",
      "backbone.layer3.6.bn1.weight - torch.Size([512]): \n",
      "PretrainedInit: load from open-mmlab://resnext101_32x4d \n",
      " \n",
      "2022-02-10 14:08:16,308 - mmcv - INFO - \n",
      "backbone.layer3.6.bn1.bias - torch.Size([512]): \n",
      "PretrainedInit: load from open-mmlab://resnext101_32x4d \n",
      " \n",
      "2022-02-10 14:08:16,308 - mmcv - INFO - \n",
      "backbone.layer3.6.conv2.weight - torch.Size([512, 16, 3, 3]): \n",
      "PretrainedInit: load from open-mmlab://resnext101_32x4d \n",
      " \n",
      "2022-02-10 14:08:16,309 - mmcv - INFO - \n",
      "backbone.layer3.6.bn2.weight - torch.Size([512]): \n",
      "PretrainedInit: load from open-mmlab://resnext101_32x4d \n",
      " \n",
      "2022-02-10 14:08:16,309 - mmcv - INFO - \n",
      "backbone.layer3.6.bn2.bias - torch.Size([512]): \n",
      "PretrainedInit: load from open-mmlab://resnext101_32x4d \n",
      " \n",
      "2022-02-10 14:08:16,310 - mmcv - INFO - \n",
      "backbone.layer3.6.conv3.weight - torch.Size([1024, 512, 1, 1]): \n",
      "PretrainedInit: load from open-mmlab://resnext101_32x4d \n",
      " \n",
      "2022-02-10 14:08:16,310 - mmcv - INFO - \n",
      "backbone.layer3.6.bn3.weight - torch.Size([1024]): \n",
      "PretrainedInit: load from open-mmlab://resnext101_32x4d \n",
      " \n",
      "2022-02-10 14:08:16,311 - mmcv - INFO - \n",
      "backbone.layer3.6.bn3.bias - torch.Size([1024]): \n",
      "PretrainedInit: load from open-mmlab://resnext101_32x4d \n",
      " \n",
      "2022-02-10 14:08:16,312 - mmcv - INFO - \n",
      "backbone.layer3.7.conv1.weight - torch.Size([512, 1024, 1, 1]): \n",
      "PretrainedInit: load from open-mmlab://resnext101_32x4d \n",
      " \n",
      "2022-02-10 14:08:16,312 - mmcv - INFO - \n",
      "backbone.layer3.7.bn1.weight - torch.Size([512]): \n",
      "PretrainedInit: load from open-mmlab://resnext101_32x4d \n",
      " \n",
      "2022-02-10 14:08:16,312 - mmcv - INFO - \n",
      "backbone.layer3.7.bn1.bias - torch.Size([512]): \n",
      "PretrainedInit: load from open-mmlab://resnext101_32x4d \n",
      " \n",
      "2022-02-10 14:08:16,313 - mmcv - INFO - \n",
      "backbone.layer3.7.conv2.weight - torch.Size([512, 16, 3, 3]): \n",
      "PretrainedInit: load from open-mmlab://resnext101_32x4d \n",
      " \n",
      "2022-02-10 14:08:16,313 - mmcv - INFO - \n",
      "backbone.layer3.7.bn2.weight - torch.Size([512]): \n",
      "PretrainedInit: load from open-mmlab://resnext101_32x4d \n",
      " \n",
      "2022-02-10 14:08:16,314 - mmcv - INFO - \n",
      "backbone.layer3.7.bn2.bias - torch.Size([512]): \n",
      "PretrainedInit: load from open-mmlab://resnext101_32x4d \n",
      " \n",
      "2022-02-10 14:08:16,314 - mmcv - INFO - \n",
      "backbone.layer3.7.conv3.weight - torch.Size([1024, 512, 1, 1]): \n",
      "PretrainedInit: load from open-mmlab://resnext101_32x4d \n",
      " \n",
      "2022-02-10 14:08:16,315 - mmcv - INFO - \n",
      "backbone.layer3.7.bn3.weight - torch.Size([1024]): \n",
      "PretrainedInit: load from open-mmlab://resnext101_32x4d \n",
      " \n",
      "2022-02-10 14:08:16,315 - mmcv - INFO - \n",
      "backbone.layer3.7.bn3.bias - torch.Size([1024]): \n",
      "PretrainedInit: load from open-mmlab://resnext101_32x4d \n",
      " \n",
      "2022-02-10 14:08:16,316 - mmcv - INFO - \n",
      "backbone.layer3.8.conv1.weight - torch.Size([512, 1024, 1, 1]): \n",
      "PretrainedInit: load from open-mmlab://resnext101_32x4d \n",
      " \n",
      "2022-02-10 14:08:16,316 - mmcv - INFO - \n",
      "backbone.layer3.8.bn1.weight - torch.Size([512]): \n",
      "PretrainedInit: load from open-mmlab://resnext101_32x4d \n",
      " \n",
      "2022-02-10 14:08:16,317 - mmcv - INFO - \n",
      "backbone.layer3.8.bn1.bias - torch.Size([512]): \n",
      "PretrainedInit: load from open-mmlab://resnext101_32x4d \n",
      " \n",
      "2022-02-10 14:08:16,317 - mmcv - INFO - \n",
      "backbone.layer3.8.conv2.weight - torch.Size([512, 16, 3, 3]): \n",
      "PretrainedInit: load from open-mmlab://resnext101_32x4d \n",
      " \n",
      "2022-02-10 14:08:16,318 - mmcv - INFO - \n",
      "backbone.layer3.8.bn2.weight - torch.Size([512]): \n",
      "PretrainedInit: load from open-mmlab://resnext101_32x4d \n",
      " \n",
      "2022-02-10 14:08:16,318 - mmcv - INFO - \n",
      "backbone.layer3.8.bn2.bias - torch.Size([512]): \n",
      "PretrainedInit: load from open-mmlab://resnext101_32x4d \n",
      " \n",
      "2022-02-10 14:08:16,319 - mmcv - INFO - \n",
      "backbone.layer3.8.conv3.weight - torch.Size([1024, 512, 1, 1]): \n",
      "PretrainedInit: load from open-mmlab://resnext101_32x4d \n",
      " \n",
      "2022-02-10 14:08:16,319 - mmcv - INFO - \n",
      "backbone.layer3.8.bn3.weight - torch.Size([1024]): \n",
      "PretrainedInit: load from open-mmlab://resnext101_32x4d \n",
      " \n",
      "2022-02-10 14:08:16,320 - mmcv - INFO - \n",
      "backbone.layer3.8.bn3.bias - torch.Size([1024]): \n",
      "PretrainedInit: load from open-mmlab://resnext101_32x4d \n",
      " \n",
      "2022-02-10 14:08:16,320 - mmcv - INFO - \n",
      "backbone.layer3.9.conv1.weight - torch.Size([512, 1024, 1, 1]): \n",
      "PretrainedInit: load from open-mmlab://resnext101_32x4d \n",
      " \n",
      "2022-02-10 14:08:16,321 - mmcv - INFO - \n",
      "backbone.layer3.9.bn1.weight - torch.Size([512]): \n",
      "PretrainedInit: load from open-mmlab://resnext101_32x4d \n",
      " \n",
      "2022-02-10 14:08:16,321 - mmcv - INFO - \n",
      "backbone.layer3.9.bn1.bias - torch.Size([512]): \n",
      "PretrainedInit: load from open-mmlab://resnext101_32x4d \n",
      " \n",
      "2022-02-10 14:08:16,321 - mmcv - INFO - \n",
      "backbone.layer3.9.conv2.weight - torch.Size([512, 16, 3, 3]): \n",
      "PretrainedInit: load from open-mmlab://resnext101_32x4d \n",
      " \n",
      "2022-02-10 14:08:16,322 - mmcv - INFO - \n",
      "backbone.layer3.9.bn2.weight - torch.Size([512]): \n",
      "PretrainedInit: load from open-mmlab://resnext101_32x4d \n",
      " \n",
      "2022-02-10 14:08:16,322 - mmcv - INFO - \n",
      "backbone.layer3.9.bn2.bias - torch.Size([512]): \n",
      "PretrainedInit: load from open-mmlab://resnext101_32x4d \n",
      " \n",
      "2022-02-10 14:08:16,323 - mmcv - INFO - \n",
      "backbone.layer3.9.conv3.weight - torch.Size([1024, 512, 1, 1]): \n",
      "PretrainedInit: load from open-mmlab://resnext101_32x4d \n",
      " \n",
      "2022-02-10 14:08:16,323 - mmcv - INFO - \n",
      "backbone.layer3.9.bn3.weight - torch.Size([1024]): \n",
      "PretrainedInit: load from open-mmlab://resnext101_32x4d \n",
      " \n",
      "2022-02-10 14:08:16,324 - mmcv - INFO - \n",
      "backbone.layer3.9.bn3.bias - torch.Size([1024]): \n",
      "PretrainedInit: load from open-mmlab://resnext101_32x4d \n",
      " \n",
      "2022-02-10 14:08:16,324 - mmcv - INFO - \n",
      "backbone.layer3.10.conv1.weight - torch.Size([512, 1024, 1, 1]): \n",
      "PretrainedInit: load from open-mmlab://resnext101_32x4d \n",
      " \n",
      "2022-02-10 14:08:16,325 - mmcv - INFO - \n",
      "backbone.layer3.10.bn1.weight - torch.Size([512]): \n",
      "PretrainedInit: load from open-mmlab://resnext101_32x4d \n",
      " \n",
      "2022-02-10 14:08:16,325 - mmcv - INFO - \n",
      "backbone.layer3.10.bn1.bias - torch.Size([512]): \n",
      "PretrainedInit: load from open-mmlab://resnext101_32x4d \n",
      " \n",
      "2022-02-10 14:08:16,326 - mmcv - INFO - \n",
      "backbone.layer3.10.conv2.weight - torch.Size([512, 16, 3, 3]): \n",
      "PretrainedInit: load from open-mmlab://resnext101_32x4d \n",
      " \n",
      "2022-02-10 14:08:16,326 - mmcv - INFO - \n",
      "backbone.layer3.10.bn2.weight - torch.Size([512]): \n",
      "PretrainedInit: load from open-mmlab://resnext101_32x4d \n",
      " \n",
      "2022-02-10 14:08:16,327 - mmcv - INFO - \n",
      "backbone.layer3.10.bn2.bias - torch.Size([512]): \n",
      "PretrainedInit: load from open-mmlab://resnext101_32x4d \n",
      " \n",
      "2022-02-10 14:08:16,327 - mmcv - INFO - \n",
      "backbone.layer3.10.conv3.weight - torch.Size([1024, 512, 1, 1]): \n",
      "PretrainedInit: load from open-mmlab://resnext101_32x4d \n",
      " \n",
      "2022-02-10 14:08:16,328 - mmcv - INFO - \n",
      "backbone.layer3.10.bn3.weight - torch.Size([1024]): \n",
      "PretrainedInit: load from open-mmlab://resnext101_32x4d \n",
      " \n",
      "2022-02-10 14:08:16,328 - mmcv - INFO - \n",
      "backbone.layer3.10.bn3.bias - torch.Size([1024]): \n",
      "PretrainedInit: load from open-mmlab://resnext101_32x4d \n",
      " \n",
      "2022-02-10 14:08:16,329 - mmcv - INFO - \n",
      "backbone.layer3.11.conv1.weight - torch.Size([512, 1024, 1, 1]): \n",
      "PretrainedInit: load from open-mmlab://resnext101_32x4d \n",
      " \n",
      "2022-02-10 14:08:16,329 - mmcv - INFO - \n",
      "backbone.layer3.11.bn1.weight - torch.Size([512]): \n",
      "PretrainedInit: load from open-mmlab://resnext101_32x4d \n",
      " \n",
      "2022-02-10 14:08:16,330 - mmcv - INFO - \n",
      "backbone.layer3.11.bn1.bias - torch.Size([512]): \n",
      "PretrainedInit: load from open-mmlab://resnext101_32x4d \n",
      " \n",
      "2022-02-10 14:08:16,330 - mmcv - INFO - \n",
      "backbone.layer3.11.conv2.weight - torch.Size([512, 16, 3, 3]): \n",
      "PretrainedInit: load from open-mmlab://resnext101_32x4d \n",
      " \n",
      "2022-02-10 14:08:16,330 - mmcv - INFO - \n",
      "backbone.layer3.11.bn2.weight - torch.Size([512]): \n",
      "PretrainedInit: load from open-mmlab://resnext101_32x4d \n",
      " \n",
      "2022-02-10 14:08:16,331 - mmcv - INFO - \n",
      "backbone.layer3.11.bn2.bias - torch.Size([512]): \n",
      "PretrainedInit: load from open-mmlab://resnext101_32x4d \n",
      " \n",
      "2022-02-10 14:08:16,332 - mmcv - INFO - \n",
      "backbone.layer3.11.conv3.weight - torch.Size([1024, 512, 1, 1]): \n",
      "PretrainedInit: load from open-mmlab://resnext101_32x4d \n",
      " \n",
      "2022-02-10 14:08:16,332 - mmcv - INFO - \n",
      "backbone.layer3.11.bn3.weight - torch.Size([1024]): \n",
      "PretrainedInit: load from open-mmlab://resnext101_32x4d \n",
      " \n",
      "2022-02-10 14:08:16,333 - mmcv - INFO - \n",
      "backbone.layer3.11.bn3.bias - torch.Size([1024]): \n",
      "PretrainedInit: load from open-mmlab://resnext101_32x4d \n",
      " \n",
      "2022-02-10 14:08:16,333 - mmcv - INFO - \n",
      "backbone.layer3.12.conv1.weight - torch.Size([512, 1024, 1, 1]): \n",
      "PretrainedInit: load from open-mmlab://resnext101_32x4d \n",
      " \n",
      "2022-02-10 14:08:16,334 - mmcv - INFO - \n",
      "backbone.layer3.12.bn1.weight - torch.Size([512]): \n",
      "PretrainedInit: load from open-mmlab://resnext101_32x4d \n",
      " \n",
      "2022-02-10 14:08:16,334 - mmcv - INFO - \n",
      "backbone.layer3.12.bn1.bias - torch.Size([512]): \n",
      "PretrainedInit: load from open-mmlab://resnext101_32x4d \n",
      " \n",
      "2022-02-10 14:08:16,335 - mmcv - INFO - \n",
      "backbone.layer3.12.conv2.weight - torch.Size([512, 16, 3, 3]): \n",
      "PretrainedInit: load from open-mmlab://resnext101_32x4d \n",
      " \n",
      "2022-02-10 14:08:16,335 - mmcv - INFO - \n",
      "backbone.layer3.12.bn2.weight - torch.Size([512]): \n",
      "PretrainedInit: load from open-mmlab://resnext101_32x4d \n",
      " \n",
      "2022-02-10 14:08:16,336 - mmcv - INFO - \n",
      "backbone.layer3.12.bn2.bias - torch.Size([512]): \n",
      "PretrainedInit: load from open-mmlab://resnext101_32x4d \n",
      " \n",
      "2022-02-10 14:08:16,336 - mmcv - INFO - \n",
      "backbone.layer3.12.conv3.weight - torch.Size([1024, 512, 1, 1]): \n",
      "PretrainedInit: load from open-mmlab://resnext101_32x4d \n",
      " \n",
      "2022-02-10 14:08:16,337 - mmcv - INFO - \n",
      "backbone.layer3.12.bn3.weight - torch.Size([1024]): \n",
      "PretrainedInit: load from open-mmlab://resnext101_32x4d \n",
      " \n",
      "2022-02-10 14:08:16,337 - mmcv - INFO - \n",
      "backbone.layer3.12.bn3.bias - torch.Size([1024]): \n",
      "PretrainedInit: load from open-mmlab://resnext101_32x4d \n",
      " \n",
      "2022-02-10 14:08:16,338 - mmcv - INFO - \n",
      "backbone.layer3.13.conv1.weight - torch.Size([512, 1024, 1, 1]): \n",
      "PretrainedInit: load from open-mmlab://resnext101_32x4d \n",
      " \n",
      "2022-02-10 14:08:16,338 - mmcv - INFO - \n",
      "backbone.layer3.13.bn1.weight - torch.Size([512]): \n",
      "PretrainedInit: load from open-mmlab://resnext101_32x4d \n",
      " \n",
      "2022-02-10 14:08:16,339 - mmcv - INFO - \n",
      "backbone.layer3.13.bn1.bias - torch.Size([512]): \n",
      "PretrainedInit: load from open-mmlab://resnext101_32x4d \n",
      " \n",
      "2022-02-10 14:08:16,339 - mmcv - INFO - \n",
      "backbone.layer3.13.conv2.weight - torch.Size([512, 16, 3, 3]): \n",
      "PretrainedInit: load from open-mmlab://resnext101_32x4d \n",
      " \n",
      "2022-02-10 14:08:16,340 - mmcv - INFO - \n",
      "backbone.layer3.13.bn2.weight - torch.Size([512]): \n",
      "PretrainedInit: load from open-mmlab://resnext101_32x4d \n",
      " \n",
      "2022-02-10 14:08:16,340 - mmcv - INFO - \n",
      "backbone.layer3.13.bn2.bias - torch.Size([512]): \n",
      "PretrainedInit: load from open-mmlab://resnext101_32x4d \n",
      " \n",
      "2022-02-10 14:08:16,341 - mmcv - INFO - \n",
      "backbone.layer3.13.conv3.weight - torch.Size([1024, 512, 1, 1]): \n",
      "PretrainedInit: load from open-mmlab://resnext101_32x4d \n",
      " \n",
      "2022-02-10 14:08:16,341 - mmcv - INFO - \n",
      "backbone.layer3.13.bn3.weight - torch.Size([1024]): \n",
      "PretrainedInit: load from open-mmlab://resnext101_32x4d \n",
      " \n",
      "2022-02-10 14:08:16,342 - mmcv - INFO - \n",
      "backbone.layer3.13.bn3.bias - torch.Size([1024]): \n",
      "PretrainedInit: load from open-mmlab://resnext101_32x4d \n",
      " \n",
      "2022-02-10 14:08:16,342 - mmcv - INFO - \n",
      "backbone.layer3.14.conv1.weight - torch.Size([512, 1024, 1, 1]): \n",
      "PretrainedInit: load from open-mmlab://resnext101_32x4d \n",
      " \n",
      "2022-02-10 14:08:16,343 - mmcv - INFO - \n",
      "backbone.layer3.14.bn1.weight - torch.Size([512]): \n",
      "PretrainedInit: load from open-mmlab://resnext101_32x4d \n",
      " \n",
      "2022-02-10 14:08:16,343 - mmcv - INFO - \n",
      "backbone.layer3.14.bn1.bias - torch.Size([512]): \n",
      "PretrainedInit: load from open-mmlab://resnext101_32x4d \n",
      " \n",
      "2022-02-10 14:08:16,344 - mmcv - INFO - \n",
      "backbone.layer3.14.conv2.weight - torch.Size([512, 16, 3, 3]): \n",
      "PretrainedInit: load from open-mmlab://resnext101_32x4d \n",
      " \n",
      "2022-02-10 14:08:16,344 - mmcv - INFO - \n",
      "backbone.layer3.14.bn2.weight - torch.Size([512]): \n",
      "PretrainedInit: load from open-mmlab://resnext101_32x4d \n",
      " \n",
      "2022-02-10 14:08:16,345 - mmcv - INFO - \n",
      "backbone.layer3.14.bn2.bias - torch.Size([512]): \n",
      "PretrainedInit: load from open-mmlab://resnext101_32x4d \n",
      " \n",
      "2022-02-10 14:08:16,345 - mmcv - INFO - \n",
      "backbone.layer3.14.conv3.weight - torch.Size([1024, 512, 1, 1]): \n",
      "PretrainedInit: load from open-mmlab://resnext101_32x4d \n",
      " \n",
      "2022-02-10 14:08:16,346 - mmcv - INFO - \n",
      "backbone.layer3.14.bn3.weight - torch.Size([1024]): \n",
      "PretrainedInit: load from open-mmlab://resnext101_32x4d \n",
      " \n",
      "2022-02-10 14:08:16,346 - mmcv - INFO - \n",
      "backbone.layer3.14.bn3.bias - torch.Size([1024]): \n",
      "PretrainedInit: load from open-mmlab://resnext101_32x4d \n",
      " \n",
      "2022-02-10 14:08:16,347 - mmcv - INFO - \n",
      "backbone.layer3.15.conv1.weight - torch.Size([512, 1024, 1, 1]): \n",
      "PretrainedInit: load from open-mmlab://resnext101_32x4d \n",
      " \n",
      "2022-02-10 14:08:16,347 - mmcv - INFO - \n",
      "backbone.layer3.15.bn1.weight - torch.Size([512]): \n",
      "PretrainedInit: load from open-mmlab://resnext101_32x4d \n",
      " \n",
      "2022-02-10 14:08:16,347 - mmcv - INFO - \n",
      "backbone.layer3.15.bn1.bias - torch.Size([512]): \n",
      "PretrainedInit: load from open-mmlab://resnext101_32x4d \n",
      " \n",
      "2022-02-10 14:08:16,348 - mmcv - INFO - \n",
      "backbone.layer3.15.conv2.weight - torch.Size([512, 16, 3, 3]): \n",
      "PretrainedInit: load from open-mmlab://resnext101_32x4d \n",
      " \n",
      "2022-02-10 14:08:16,348 - mmcv - INFO - \n",
      "backbone.layer3.15.bn2.weight - torch.Size([512]): \n",
      "PretrainedInit: load from open-mmlab://resnext101_32x4d \n",
      " \n",
      "2022-02-10 14:08:16,349 - mmcv - INFO - \n",
      "backbone.layer3.15.bn2.bias - torch.Size([512]): \n",
      "PretrainedInit: load from open-mmlab://resnext101_32x4d \n",
      " \n",
      "2022-02-10 14:08:16,349 - mmcv - INFO - \n",
      "backbone.layer3.15.conv3.weight - torch.Size([1024, 512, 1, 1]): \n",
      "PretrainedInit: load from open-mmlab://resnext101_32x4d \n",
      " \n",
      "2022-02-10 14:08:16,350 - mmcv - INFO - \n",
      "backbone.layer3.15.bn3.weight - torch.Size([1024]): \n",
      "PretrainedInit: load from open-mmlab://resnext101_32x4d \n",
      " \n",
      "2022-02-10 14:08:16,350 - mmcv - INFO - \n",
      "backbone.layer3.15.bn3.bias - torch.Size([1024]): \n",
      "PretrainedInit: load from open-mmlab://resnext101_32x4d \n",
      " \n",
      "2022-02-10 14:08:16,351 - mmcv - INFO - \n",
      "backbone.layer3.16.conv1.weight - torch.Size([512, 1024, 1, 1]): \n",
      "PretrainedInit: load from open-mmlab://resnext101_32x4d \n",
      " \n",
      "2022-02-10 14:08:16,351 - mmcv - INFO - \n",
      "backbone.layer3.16.bn1.weight - torch.Size([512]): \n",
      "PretrainedInit: load from open-mmlab://resnext101_32x4d \n",
      " \n",
      "2022-02-10 14:08:16,352 - mmcv - INFO - \n",
      "backbone.layer3.16.bn1.bias - torch.Size([512]): \n",
      "PretrainedInit: load from open-mmlab://resnext101_32x4d \n",
      " \n",
      "2022-02-10 14:08:16,352 - mmcv - INFO - \n",
      "backbone.layer3.16.conv2.weight - torch.Size([512, 16, 3, 3]): \n",
      "PretrainedInit: load from open-mmlab://resnext101_32x4d \n",
      " \n",
      "2022-02-10 14:08:16,353 - mmcv - INFO - \n",
      "backbone.layer3.16.bn2.weight - torch.Size([512]): \n",
      "PretrainedInit: load from open-mmlab://resnext101_32x4d \n",
      " \n",
      "2022-02-10 14:08:16,353 - mmcv - INFO - \n",
      "backbone.layer3.16.bn2.bias - torch.Size([512]): \n",
      "PretrainedInit: load from open-mmlab://resnext101_32x4d \n",
      " \n",
      "2022-02-10 14:08:16,354 - mmcv - INFO - \n",
      "backbone.layer3.16.conv3.weight - torch.Size([1024, 512, 1, 1]): \n",
      "PretrainedInit: load from open-mmlab://resnext101_32x4d \n",
      " \n",
      "2022-02-10 14:08:16,354 - mmcv - INFO - \n",
      "backbone.layer3.16.bn3.weight - torch.Size([1024]): \n",
      "PretrainedInit: load from open-mmlab://resnext101_32x4d \n",
      " \n",
      "2022-02-10 14:08:16,355 - mmcv - INFO - \n",
      "backbone.layer3.16.bn3.bias - torch.Size([1024]): \n",
      "PretrainedInit: load from open-mmlab://resnext101_32x4d \n",
      " \n",
      "2022-02-10 14:08:16,355 - mmcv - INFO - \n",
      "backbone.layer3.17.conv1.weight - torch.Size([512, 1024, 1, 1]): \n",
      "PretrainedInit: load from open-mmlab://resnext101_32x4d \n",
      " \n",
      "2022-02-10 14:08:16,356 - mmcv - INFO - \n",
      "backbone.layer3.17.bn1.weight - torch.Size([512]): \n",
      "PretrainedInit: load from open-mmlab://resnext101_32x4d \n",
      " \n",
      "2022-02-10 14:08:16,356 - mmcv - INFO - \n",
      "backbone.layer3.17.bn1.bias - torch.Size([512]): \n",
      "PretrainedInit: load from open-mmlab://resnext101_32x4d \n",
      " \n",
      "2022-02-10 14:08:16,357 - mmcv - INFO - \n",
      "backbone.layer3.17.conv2.weight - torch.Size([512, 16, 3, 3]): \n",
      "PretrainedInit: load from open-mmlab://resnext101_32x4d \n",
      " \n",
      "2022-02-10 14:08:16,357 - mmcv - INFO - \n",
      "backbone.layer3.17.bn2.weight - torch.Size([512]): \n",
      "PretrainedInit: load from open-mmlab://resnext101_32x4d \n",
      " \n",
      "2022-02-10 14:08:16,358 - mmcv - INFO - \n",
      "backbone.layer3.17.bn2.bias - torch.Size([512]): \n",
      "PretrainedInit: load from open-mmlab://resnext101_32x4d \n",
      " \n",
      "2022-02-10 14:08:16,358 - mmcv - INFO - \n",
      "backbone.layer3.17.conv3.weight - torch.Size([1024, 512, 1, 1]): \n",
      "PretrainedInit: load from open-mmlab://resnext101_32x4d \n",
      " \n",
      "2022-02-10 14:08:16,359 - mmcv - INFO - \n",
      "backbone.layer3.17.bn3.weight - torch.Size([1024]): \n",
      "PretrainedInit: load from open-mmlab://resnext101_32x4d \n",
      " \n",
      "2022-02-10 14:08:16,379 - mmcv - INFO - \n",
      "backbone.layer3.17.bn3.bias - torch.Size([1024]): \n",
      "PretrainedInit: load from open-mmlab://resnext101_32x4d \n",
      " \n",
      "2022-02-10 14:08:16,380 - mmcv - INFO - \n",
      "backbone.layer3.18.conv1.weight - torch.Size([512, 1024, 1, 1]): \n",
      "PretrainedInit: load from open-mmlab://resnext101_32x4d \n",
      " \n",
      "2022-02-10 14:08:16,380 - mmcv - INFO - \n",
      "backbone.layer3.18.bn1.weight - torch.Size([512]): \n",
      "PretrainedInit: load from open-mmlab://resnext101_32x4d \n",
      " \n",
      "2022-02-10 14:08:16,381 - mmcv - INFO - \n",
      "backbone.layer3.18.bn1.bias - torch.Size([512]): \n",
      "PretrainedInit: load from open-mmlab://resnext101_32x4d \n",
      " \n",
      "2022-02-10 14:08:16,381 - mmcv - INFO - \n",
      "backbone.layer3.18.conv2.weight - torch.Size([512, 16, 3, 3]): \n",
      "PretrainedInit: load from open-mmlab://resnext101_32x4d \n",
      " \n",
      "2022-02-10 14:08:16,382 - mmcv - INFO - \n",
      "backbone.layer3.18.bn2.weight - torch.Size([512]): \n",
      "PretrainedInit: load from open-mmlab://resnext101_32x4d \n",
      " \n",
      "2022-02-10 14:08:16,383 - mmcv - INFO - \n",
      "backbone.layer3.18.bn2.bias - torch.Size([512]): \n",
      "PretrainedInit: load from open-mmlab://resnext101_32x4d \n",
      " \n",
      "2022-02-10 14:08:16,383 - mmcv - INFO - \n",
      "backbone.layer3.18.conv3.weight - torch.Size([1024, 512, 1, 1]): \n",
      "PretrainedInit: load from open-mmlab://resnext101_32x4d \n",
      " \n",
      "2022-02-10 14:08:16,384 - mmcv - INFO - \n",
      "backbone.layer3.18.bn3.weight - torch.Size([1024]): \n",
      "PretrainedInit: load from open-mmlab://resnext101_32x4d \n",
      " \n",
      "2022-02-10 14:08:16,384 - mmcv - INFO - \n",
      "backbone.layer3.18.bn3.bias - torch.Size([1024]): \n",
      "PretrainedInit: load from open-mmlab://resnext101_32x4d \n",
      " \n",
      "2022-02-10 14:08:16,385 - mmcv - INFO - \n",
      "backbone.layer3.19.conv1.weight - torch.Size([512, 1024, 1, 1]): \n",
      "PretrainedInit: load from open-mmlab://resnext101_32x4d \n",
      " \n",
      "2022-02-10 14:08:16,385 - mmcv - INFO - \n",
      "backbone.layer3.19.bn1.weight - torch.Size([512]): \n",
      "PretrainedInit: load from open-mmlab://resnext101_32x4d \n",
      " \n",
      "2022-02-10 14:08:16,386 - mmcv - INFO - \n",
      "backbone.layer3.19.bn1.bias - torch.Size([512]): \n",
      "PretrainedInit: load from open-mmlab://resnext101_32x4d \n",
      " \n",
      "2022-02-10 14:08:16,386 - mmcv - INFO - \n",
      "backbone.layer3.19.conv2.weight - torch.Size([512, 16, 3, 3]): \n",
      "PretrainedInit: load from open-mmlab://resnext101_32x4d \n",
      " \n",
      "2022-02-10 14:08:16,387 - mmcv - INFO - \n",
      "backbone.layer3.19.bn2.weight - torch.Size([512]): \n",
      "PretrainedInit: load from open-mmlab://resnext101_32x4d \n",
      " \n",
      "2022-02-10 14:08:16,388 - mmcv - INFO - \n",
      "backbone.layer3.19.bn2.bias - torch.Size([512]): \n",
      "PretrainedInit: load from open-mmlab://resnext101_32x4d \n",
      " \n",
      "2022-02-10 14:08:16,388 - mmcv - INFO - \n",
      "backbone.layer3.19.conv3.weight - torch.Size([1024, 512, 1, 1]): \n",
      "PretrainedInit: load from open-mmlab://resnext101_32x4d \n",
      " \n",
      "2022-02-10 14:08:16,389 - mmcv - INFO - \n",
      "backbone.layer3.19.bn3.weight - torch.Size([1024]): \n",
      "PretrainedInit: load from open-mmlab://resnext101_32x4d \n",
      " \n",
      "2022-02-10 14:08:16,389 - mmcv - INFO - \n",
      "backbone.layer3.19.bn3.bias - torch.Size([1024]): \n",
      "PretrainedInit: load from open-mmlab://resnext101_32x4d \n",
      " \n",
      "2022-02-10 14:08:16,390 - mmcv - INFO - \n",
      "backbone.layer3.20.conv1.weight - torch.Size([512, 1024, 1, 1]): \n",
      "PretrainedInit: load from open-mmlab://resnext101_32x4d \n",
      " \n",
      "2022-02-10 14:08:16,390 - mmcv - INFO - \n",
      "backbone.layer3.20.bn1.weight - torch.Size([512]): \n",
      "PretrainedInit: load from open-mmlab://resnext101_32x4d \n",
      " \n",
      "2022-02-10 14:08:16,391 - mmcv - INFO - \n",
      "backbone.layer3.20.bn1.bias - torch.Size([512]): \n",
      "PretrainedInit: load from open-mmlab://resnext101_32x4d \n",
      " \n",
      "2022-02-10 14:08:16,391 - mmcv - INFO - \n",
      "backbone.layer3.20.conv2.weight - torch.Size([512, 16, 3, 3]): \n",
      "PretrainedInit: load from open-mmlab://resnext101_32x4d \n",
      " \n",
      "2022-02-10 14:08:16,392 - mmcv - INFO - \n",
      "backbone.layer3.20.bn2.weight - torch.Size([512]): \n",
      "PretrainedInit: load from open-mmlab://resnext101_32x4d \n",
      " \n",
      "2022-02-10 14:08:16,392 - mmcv - INFO - \n",
      "backbone.layer3.20.bn2.bias - torch.Size([512]): \n",
      "PretrainedInit: load from open-mmlab://resnext101_32x4d \n",
      " \n",
      "2022-02-10 14:08:16,393 - mmcv - INFO - \n",
      "backbone.layer3.20.conv3.weight - torch.Size([1024, 512, 1, 1]): \n",
      "PretrainedInit: load from open-mmlab://resnext101_32x4d \n",
      " \n",
      "2022-02-10 14:08:16,393 - mmcv - INFO - \n",
      "backbone.layer3.20.bn3.weight - torch.Size([1024]): \n",
      "PretrainedInit: load from open-mmlab://resnext101_32x4d \n",
      " \n",
      "2022-02-10 14:08:16,394 - mmcv - INFO - \n",
      "backbone.layer3.20.bn3.bias - torch.Size([1024]): \n",
      "PretrainedInit: load from open-mmlab://resnext101_32x4d \n",
      " \n",
      "2022-02-10 14:08:16,394 - mmcv - INFO - \n",
      "backbone.layer3.21.conv1.weight - torch.Size([512, 1024, 1, 1]): \n",
      "PretrainedInit: load from open-mmlab://resnext101_32x4d \n",
      " \n",
      "2022-02-10 14:08:16,395 - mmcv - INFO - \n",
      "backbone.layer3.21.bn1.weight - torch.Size([512]): \n",
      "PretrainedInit: load from open-mmlab://resnext101_32x4d \n",
      " \n",
      "2022-02-10 14:08:16,395 - mmcv - INFO - \n",
      "backbone.layer3.21.bn1.bias - torch.Size([512]): \n",
      "PretrainedInit: load from open-mmlab://resnext101_32x4d \n",
      " \n",
      "2022-02-10 14:08:16,396 - mmcv - INFO - \n",
      "backbone.layer3.21.conv2.weight - torch.Size([512, 16, 3, 3]): \n",
      "PretrainedInit: load from open-mmlab://resnext101_32x4d \n",
      " \n",
      "2022-02-10 14:08:16,396 - mmcv - INFO - \n",
      "backbone.layer3.21.bn2.weight - torch.Size([512]): \n",
      "PretrainedInit: load from open-mmlab://resnext101_32x4d \n",
      " \n",
      "2022-02-10 14:08:16,396 - mmcv - INFO - \n",
      "backbone.layer3.21.bn2.bias - torch.Size([512]): \n",
      "PretrainedInit: load from open-mmlab://resnext101_32x4d \n",
      " \n",
      "2022-02-10 14:08:16,397 - mmcv - INFO - \n",
      "backbone.layer3.21.conv3.weight - torch.Size([1024, 512, 1, 1]): \n",
      "PretrainedInit: load from open-mmlab://resnext101_32x4d \n",
      " \n",
      "2022-02-10 14:08:16,397 - mmcv - INFO - \n",
      "backbone.layer3.21.bn3.weight - torch.Size([1024]): \n",
      "PretrainedInit: load from open-mmlab://resnext101_32x4d \n",
      " \n",
      "2022-02-10 14:08:16,403 - mmcv - INFO - \n",
      "backbone.layer3.21.bn3.bias - torch.Size([1024]): \n",
      "PretrainedInit: load from open-mmlab://resnext101_32x4d \n",
      " \n",
      "2022-02-10 14:08:16,404 - mmcv - INFO - \n",
      "backbone.layer3.22.conv1.weight - torch.Size([512, 1024, 1, 1]): \n",
      "PretrainedInit: load from open-mmlab://resnext101_32x4d \n",
      " \n",
      "2022-02-10 14:08:16,404 - mmcv - INFO - \n",
      "backbone.layer3.22.bn1.weight - torch.Size([512]): \n",
      "PretrainedInit: load from open-mmlab://resnext101_32x4d \n",
      " \n",
      "2022-02-10 14:08:16,405 - mmcv - INFO - \n",
      "backbone.layer3.22.bn1.bias - torch.Size([512]): \n",
      "PretrainedInit: load from open-mmlab://resnext101_32x4d \n",
      " \n",
      "2022-02-10 14:08:16,405 - mmcv - INFO - \n",
      "backbone.layer3.22.conv2.weight - torch.Size([512, 16, 3, 3]): \n",
      "PretrainedInit: load from open-mmlab://resnext101_32x4d \n",
      " \n",
      "2022-02-10 14:08:16,406 - mmcv - INFO - \n",
      "backbone.layer3.22.bn2.weight - torch.Size([512]): \n",
      "PretrainedInit: load from open-mmlab://resnext101_32x4d \n",
      " \n",
      "2022-02-10 14:08:16,406 - mmcv - INFO - \n",
      "backbone.layer3.22.bn2.bias - torch.Size([512]): \n",
      "PretrainedInit: load from open-mmlab://resnext101_32x4d \n",
      " \n",
      "2022-02-10 14:08:16,406 - mmcv - INFO - \n",
      "backbone.layer3.22.conv3.weight - torch.Size([1024, 512, 1, 1]): \n",
      "PretrainedInit: load from open-mmlab://resnext101_32x4d \n",
      " \n",
      "2022-02-10 14:08:16,407 - mmcv - INFO - \n",
      "backbone.layer3.22.bn3.weight - torch.Size([1024]): \n",
      "PretrainedInit: load from open-mmlab://resnext101_32x4d \n",
      " \n",
      "2022-02-10 14:08:16,407 - mmcv - INFO - \n",
      "backbone.layer3.22.bn3.bias - torch.Size([1024]): \n",
      "PretrainedInit: load from open-mmlab://resnext101_32x4d \n",
      " \n",
      "2022-02-10 14:08:16,408 - mmcv - INFO - \n",
      "backbone.layer4.0.conv1.weight - torch.Size([1024, 1024, 1, 1]): \n",
      "PretrainedInit: load from open-mmlab://resnext101_32x4d \n",
      " \n",
      "2022-02-10 14:08:16,408 - mmcv - INFO - \n",
      "backbone.layer4.0.bn1.weight - torch.Size([1024]): \n",
      "PretrainedInit: load from open-mmlab://resnext101_32x4d \n",
      " \n",
      "2022-02-10 14:08:16,409 - mmcv - INFO - \n",
      "backbone.layer4.0.bn1.bias - torch.Size([1024]): \n",
      "PretrainedInit: load from open-mmlab://resnext101_32x4d \n",
      " \n",
      "2022-02-10 14:08:16,409 - mmcv - INFO - \n",
      "backbone.layer4.0.conv2.weight - torch.Size([1024, 32, 3, 3]): \n",
      "PretrainedInit: load from open-mmlab://resnext101_32x4d \n",
      " \n",
      "2022-02-10 14:08:16,410 - mmcv - INFO - \n",
      "backbone.layer4.0.bn2.weight - torch.Size([1024]): \n",
      "PretrainedInit: load from open-mmlab://resnext101_32x4d \n",
      " \n",
      "2022-02-10 14:08:16,412 - mmcv - INFO - \n",
      "backbone.layer4.0.bn2.bias - torch.Size([1024]): \n",
      "PretrainedInit: load from open-mmlab://resnext101_32x4d \n",
      " \n",
      "2022-02-10 14:08:16,413 - mmcv - INFO - \n",
      "backbone.layer4.0.conv3.weight - torch.Size([2048, 1024, 1, 1]): \n",
      "PretrainedInit: load from open-mmlab://resnext101_32x4d \n",
      " \n",
      "2022-02-10 14:08:16,413 - mmcv - INFO - \n",
      "backbone.layer4.0.bn3.weight - torch.Size([2048]): \n",
      "PretrainedInit: load from open-mmlab://resnext101_32x4d \n",
      " \n",
      "2022-02-10 14:08:16,414 - mmcv - INFO - \n",
      "backbone.layer4.0.bn3.bias - torch.Size([2048]): \n",
      "PretrainedInit: load from open-mmlab://resnext101_32x4d \n",
      " \n",
      "2022-02-10 14:08:16,414 - mmcv - INFO - \n",
      "backbone.layer4.0.downsample.0.weight - torch.Size([2048, 1024, 1, 1]): \n",
      "PretrainedInit: load from open-mmlab://resnext101_32x4d \n",
      " \n",
      "2022-02-10 14:08:16,415 - mmcv - INFO - \n",
      "backbone.layer4.0.downsample.1.weight - torch.Size([2048]): \n",
      "PretrainedInit: load from open-mmlab://resnext101_32x4d \n",
      " \n",
      "2022-02-10 14:08:16,415 - mmcv - INFO - \n",
      "backbone.layer4.0.downsample.1.bias - torch.Size([2048]): \n",
      "PretrainedInit: load from open-mmlab://resnext101_32x4d \n",
      " \n",
      "2022-02-10 14:08:16,416 - mmcv - INFO - \n",
      "backbone.layer4.1.conv1.weight - torch.Size([1024, 2048, 1, 1]): \n",
      "PretrainedInit: load from open-mmlab://resnext101_32x4d \n",
      " \n",
      "2022-02-10 14:08:16,416 - mmcv - INFO - \n",
      "backbone.layer4.1.bn1.weight - torch.Size([1024]): \n",
      "PretrainedInit: load from open-mmlab://resnext101_32x4d \n",
      " \n",
      "2022-02-10 14:08:16,416 - mmcv - INFO - \n",
      "backbone.layer4.1.bn1.bias - torch.Size([1024]): \n",
      "PretrainedInit: load from open-mmlab://resnext101_32x4d \n",
      " \n",
      "2022-02-10 14:08:16,417 - mmcv - INFO - \n",
      "backbone.layer4.1.conv2.weight - torch.Size([1024, 32, 3, 3]): \n",
      "PretrainedInit: load from open-mmlab://resnext101_32x4d \n",
      " \n",
      "2022-02-10 14:08:16,417 - mmcv - INFO - \n",
      "backbone.layer4.1.bn2.weight - torch.Size([1024]): \n",
      "PretrainedInit: load from open-mmlab://resnext101_32x4d \n",
      " \n",
      "2022-02-10 14:08:16,418 - mmcv - INFO - \n",
      "backbone.layer4.1.bn2.bias - torch.Size([1024]): \n",
      "PretrainedInit: load from open-mmlab://resnext101_32x4d \n",
      " \n",
      "2022-02-10 14:08:16,418 - mmcv - INFO - \n",
      "backbone.layer4.1.conv3.weight - torch.Size([2048, 1024, 1, 1]): \n",
      "PretrainedInit: load from open-mmlab://resnext101_32x4d \n",
      " \n",
      "2022-02-10 14:08:16,419 - mmcv - INFO - \n",
      "backbone.layer4.1.bn3.weight - torch.Size([2048]): \n",
      "PretrainedInit: load from open-mmlab://resnext101_32x4d \n",
      " \n",
      "2022-02-10 14:08:16,419 - mmcv - INFO - \n",
      "backbone.layer4.1.bn3.bias - torch.Size([2048]): \n",
      "PretrainedInit: load from open-mmlab://resnext101_32x4d \n",
      " \n",
      "2022-02-10 14:08:16,420 - mmcv - INFO - \n",
      "backbone.layer4.2.conv1.weight - torch.Size([1024, 2048, 1, 1]): \n",
      "PretrainedInit: load from open-mmlab://resnext101_32x4d \n",
      " \n",
      "2022-02-10 14:08:16,420 - mmcv - INFO - \n",
      "backbone.layer4.2.bn1.weight - torch.Size([1024]): \n",
      "PretrainedInit: load from open-mmlab://resnext101_32x4d \n",
      " \n",
      "2022-02-10 14:08:16,421 - mmcv - INFO - \n",
      "backbone.layer4.2.bn1.bias - torch.Size([1024]): \n",
      "PretrainedInit: load from open-mmlab://resnext101_32x4d \n",
      " \n",
      "2022-02-10 14:08:16,421 - mmcv - INFO - \n",
      "backbone.layer4.2.conv2.weight - torch.Size([1024, 32, 3, 3]): \n",
      "PretrainedInit: load from open-mmlab://resnext101_32x4d \n",
      " \n",
      "2022-02-10 14:08:16,422 - mmcv - INFO - \n",
      "backbone.layer4.2.bn2.weight - torch.Size([1024]): \n",
      "PretrainedInit: load from open-mmlab://resnext101_32x4d \n",
      " \n",
      "2022-02-10 14:08:16,422 - mmcv - INFO - \n",
      "backbone.layer4.2.bn2.bias - torch.Size([1024]): \n",
      "PretrainedInit: load from open-mmlab://resnext101_32x4d \n",
      " \n",
      "2022-02-10 14:08:16,423 - mmcv - INFO - \n",
      "backbone.layer4.2.conv3.weight - torch.Size([2048, 1024, 1, 1]): \n",
      "PretrainedInit: load from open-mmlab://resnext101_32x4d \n",
      " \n",
      "2022-02-10 14:08:16,423 - mmcv - INFO - \n",
      "backbone.layer4.2.bn3.weight - torch.Size([2048]): \n",
      "PretrainedInit: load from open-mmlab://resnext101_32x4d \n",
      " \n",
      "2022-02-10 14:08:16,423 - mmcv - INFO - \n",
      "backbone.layer4.2.bn3.bias - torch.Size([2048]): \n",
      "PretrainedInit: load from open-mmlab://resnext101_32x4d \n",
      " \n",
      "2022-02-10 14:08:16,424 - mmcv - INFO - \n",
      "neck.lateral_convs.0.conv.weight - torch.Size([256, 256, 1, 1]): \n",
      "XavierInit: gain=1, distribution=uniform, bias=0 \n",
      " \n",
      "2022-02-10 14:08:16,424 - mmcv - INFO - \n",
      "neck.lateral_convs.0.conv.bias - torch.Size([256]): \n",
      "The value is the same before and after calling `init_weights` of CascadeRCNN  \n",
      " \n",
      "2022-02-10 14:08:16,425 - mmcv - INFO - \n",
      "neck.lateral_convs.1.conv.weight - torch.Size([256, 512, 1, 1]): \n",
      "XavierInit: gain=1, distribution=uniform, bias=0 \n",
      " \n",
      "2022-02-10 14:08:16,425 - mmcv - INFO - \n",
      "neck.lateral_convs.1.conv.bias - torch.Size([256]): \n",
      "The value is the same before and after calling `init_weights` of CascadeRCNN  \n",
      " \n",
      "2022-02-10 14:08:16,426 - mmcv - INFO - \n",
      "neck.lateral_convs.2.conv.weight - torch.Size([256, 1024, 1, 1]): \n",
      "XavierInit: gain=1, distribution=uniform, bias=0 \n",
      " \n",
      "2022-02-10 14:08:16,426 - mmcv - INFO - \n",
      "neck.lateral_convs.2.conv.bias - torch.Size([256]): \n",
      "The value is the same before and after calling `init_weights` of CascadeRCNN  \n",
      " \n",
      "2022-02-10 14:08:16,427 - mmcv - INFO - \n",
      "neck.lateral_convs.3.conv.weight - torch.Size([256, 2048, 1, 1]): \n",
      "XavierInit: gain=1, distribution=uniform, bias=0 \n",
      " \n",
      "2022-02-10 14:08:16,427 - mmcv - INFO - \n",
      "neck.lateral_convs.3.conv.bias - torch.Size([256]): \n",
      "The value is the same before and after calling `init_weights` of CascadeRCNN  \n",
      " \n",
      "2022-02-10 14:08:16,428 - mmcv - INFO - \n",
      "neck.fpn_convs.0.conv.weight - torch.Size([256, 256, 3, 3]): \n",
      "XavierInit: gain=1, distribution=uniform, bias=0 \n",
      " \n",
      "2022-02-10 14:08:16,428 - mmcv - INFO - \n",
      "neck.fpn_convs.0.conv.bias - torch.Size([256]): \n",
      "The value is the same before and after calling `init_weights` of CascadeRCNN  \n",
      " \n",
      "2022-02-10 14:08:16,429 - mmcv - INFO - \n",
      "neck.fpn_convs.1.conv.weight - torch.Size([256, 256, 3, 3]): \n",
      "XavierInit: gain=1, distribution=uniform, bias=0 \n",
      " \n",
      "2022-02-10 14:08:16,429 - mmcv - INFO - \n",
      "neck.fpn_convs.1.conv.bias - torch.Size([256]): \n",
      "The value is the same before and after calling `init_weights` of CascadeRCNN  \n",
      " \n",
      "2022-02-10 14:08:16,430 - mmcv - INFO - \n",
      "neck.fpn_convs.2.conv.weight - torch.Size([256, 256, 3, 3]): \n",
      "XavierInit: gain=1, distribution=uniform, bias=0 \n",
      " \n",
      "2022-02-10 14:08:16,430 - mmcv - INFO - \n",
      "neck.fpn_convs.2.conv.bias - torch.Size([256]): \n",
      "The value is the same before and after calling `init_weights` of CascadeRCNN  \n",
      " \n",
      "2022-02-10 14:08:16,431 - mmcv - INFO - \n",
      "neck.fpn_convs.3.conv.weight - torch.Size([256, 256, 3, 3]): \n",
      "XavierInit: gain=1, distribution=uniform, bias=0 \n",
      " \n",
      "2022-02-10 14:08:16,431 - mmcv - INFO - \n",
      "neck.fpn_convs.3.conv.bias - torch.Size([256]): \n",
      "The value is the same before and after calling `init_weights` of CascadeRCNN  \n",
      " \n",
      "2022-02-10 14:08:16,431 - mmcv - INFO - \n",
      "rpn_head.rpn_conv.weight - torch.Size([256, 256, 3, 3]): \n",
      "NormalInit: mean=0, std=0.01, bias=0 \n",
      " \n",
      "2022-02-10 14:08:16,432 - mmcv - INFO - \n",
      "rpn_head.rpn_conv.bias - torch.Size([256]): \n",
      "NormalInit: mean=0, std=0.01, bias=0 \n",
      " \n",
      "2022-02-10 14:08:16,432 - mmcv - INFO - \n",
      "rpn_head.rpn_cls.weight - torch.Size([3, 256, 1, 1]): \n",
      "NormalInit: mean=0, std=0.01, bias=0 \n",
      " \n",
      "2022-02-10 14:08:16,433 - mmcv - INFO - \n",
      "rpn_head.rpn_cls.bias - torch.Size([3]): \n",
      "NormalInit: mean=0, std=0.01, bias=0 \n",
      " \n",
      "2022-02-10 14:08:16,433 - mmcv - INFO - \n",
      "rpn_head.rpn_reg.weight - torch.Size([12, 256, 1, 1]): \n",
      "NormalInit: mean=0, std=0.01, bias=0 \n",
      " \n",
      "2022-02-10 14:08:16,434 - mmcv - INFO - \n",
      "rpn_head.rpn_reg.bias - torch.Size([12]): \n",
      "NormalInit: mean=0, std=0.01, bias=0 \n",
      " \n",
      "2022-02-10 14:08:16,434 - mmcv - INFO - \n",
      "roi_head.bbox_head.0.fc_cls.weight - torch.Size([2, 1024]): \n",
      "NormalInit: mean=0, std=0.01, bias=0 \n",
      " \n",
      "2022-02-10 14:08:16,435 - mmcv - INFO - \n",
      "roi_head.bbox_head.0.fc_cls.bias - torch.Size([2]): \n",
      "NormalInit: mean=0, std=0.01, bias=0 \n",
      " \n",
      "2022-02-10 14:08:16,435 - mmcv - INFO - \n",
      "roi_head.bbox_head.0.fc_reg.weight - torch.Size([4, 1024]): \n",
      "NormalInit: mean=0, std=0.001, bias=0 \n",
      " \n",
      "2022-02-10 14:08:16,436 - mmcv - INFO - \n",
      "roi_head.bbox_head.0.fc_reg.bias - torch.Size([4]): \n",
      "NormalInit: mean=0, std=0.001, bias=0 \n",
      " \n",
      "2022-02-10 14:08:16,436 - mmcv - INFO - \n",
      "roi_head.bbox_head.0.shared_fcs.0.weight - torch.Size([1024, 12544]): \n",
      "XavierInit: gain=1, distribution=uniform, bias=0 \n",
      " \n",
      "2022-02-10 14:08:16,437 - mmcv - INFO - \n",
      "roi_head.bbox_head.0.shared_fcs.0.bias - torch.Size([1024]): \n",
      "XavierInit: gain=1, distribution=uniform, bias=0 \n",
      " \n",
      "2022-02-10 14:08:16,437 - mmcv - INFO - \n",
      "roi_head.bbox_head.0.shared_fcs.1.weight - torch.Size([1024, 1024]): \n",
      "XavierInit: gain=1, distribution=uniform, bias=0 \n",
      " \n",
      "2022-02-10 14:08:16,438 - mmcv - INFO - \n",
      "roi_head.bbox_head.0.shared_fcs.1.bias - torch.Size([1024]): \n",
      "XavierInit: gain=1, distribution=uniform, bias=0 \n",
      " \n",
      "2022-02-10 14:08:16,438 - mmcv - INFO - \n",
      "roi_head.bbox_head.1.fc_cls.weight - torch.Size([2, 1024]): \n",
      "NormalInit: mean=0, std=0.01, bias=0 \n",
      " \n",
      "2022-02-10 14:08:16,439 - mmcv - INFO - \n",
      "roi_head.bbox_head.1.fc_cls.bias - torch.Size([2]): \n",
      "NormalInit: mean=0, std=0.01, bias=0 \n",
      " \n",
      "2022-02-10 14:08:16,439 - mmcv - INFO - \n",
      "roi_head.bbox_head.1.fc_reg.weight - torch.Size([4, 1024]): \n",
      "NormalInit: mean=0, std=0.001, bias=0 \n",
      " \n",
      "2022-02-10 14:08:16,440 - mmcv - INFO - \n",
      "roi_head.bbox_head.1.fc_reg.bias - torch.Size([4]): \n",
      "NormalInit: mean=0, std=0.001, bias=0 \n",
      " \n",
      "2022-02-10 14:08:16,440 - mmcv - INFO - \n",
      "roi_head.bbox_head.1.shared_fcs.0.weight - torch.Size([1024, 12544]): \n",
      "XavierInit: gain=1, distribution=uniform, bias=0 \n",
      " \n",
      "2022-02-10 14:08:16,441 - mmcv - INFO - \n",
      "roi_head.bbox_head.1.shared_fcs.0.bias - torch.Size([1024]): \n",
      "XavierInit: gain=1, distribution=uniform, bias=0 \n",
      " \n",
      "2022-02-10 14:08:16,441 - mmcv - INFO - \n",
      "roi_head.bbox_head.1.shared_fcs.1.weight - torch.Size([1024, 1024]): \n",
      "XavierInit: gain=1, distribution=uniform, bias=0 \n",
      " \n",
      "2022-02-10 14:08:16,442 - mmcv - INFO - \n",
      "roi_head.bbox_head.1.shared_fcs.1.bias - torch.Size([1024]): \n",
      "XavierInit: gain=1, distribution=uniform, bias=0 \n",
      " \n",
      "2022-02-10 14:08:16,442 - mmcv - INFO - \n",
      "roi_head.bbox_head.2.fc_cls.weight - torch.Size([2, 1024]): \n",
      "NormalInit: mean=0, std=0.01, bias=0 \n",
      " \n",
      "2022-02-10 14:08:16,443 - mmcv - INFO - \n",
      "roi_head.bbox_head.2.fc_cls.bias - torch.Size([2]): \n",
      "NormalInit: mean=0, std=0.01, bias=0 \n",
      " \n",
      "2022-02-10 14:08:16,443 - mmcv - INFO - \n",
      "roi_head.bbox_head.2.fc_reg.weight - torch.Size([4, 1024]): \n",
      "NormalInit: mean=0, std=0.001, bias=0 \n",
      " \n",
      "2022-02-10 14:08:16,444 - mmcv - INFO - \n",
      "roi_head.bbox_head.2.fc_reg.bias - torch.Size([4]): \n",
      "NormalInit: mean=0, std=0.001, bias=0 \n",
      " \n",
      "2022-02-10 14:08:16,444 - mmcv - INFO - \n",
      "roi_head.bbox_head.2.shared_fcs.0.weight - torch.Size([1024, 12544]): \n",
      "XavierInit: gain=1, distribution=uniform, bias=0 \n",
      " \n",
      "2022-02-10 14:08:16,445 - mmcv - INFO - \n",
      "roi_head.bbox_head.2.shared_fcs.0.bias - torch.Size([1024]): \n",
      "XavierInit: gain=1, distribution=uniform, bias=0 \n",
      " \n",
      "2022-02-10 14:08:16,445 - mmcv - INFO - \n",
      "roi_head.bbox_head.2.shared_fcs.1.weight - torch.Size([1024, 1024]): \n",
      "XavierInit: gain=1, distribution=uniform, bias=0 \n",
      " \n",
      "2022-02-10 14:08:16,446 - mmcv - INFO - \n",
      "roi_head.bbox_head.2.shared_fcs.1.bias - torch.Size([1024]): \n",
      "XavierInit: gain=1, distribution=uniform, bias=0 \n",
      " \n"
     ]
    }
   ],
   "source": [
    "model = build_detector(\n",
    "    cfg.model, train_cfg=cfg.get(\"train_cfg\"), test_cfg=cfg.get(\"test_cfg\")\n",
    ")\n",
    "model.init_weights()"
   ]
  },
  {
   "cell_type": "code",
   "execution_count": 40,
   "id": "acfe4b28-c267-40fa-b7d0-91b7eb73a73a",
   "metadata": {},
   "outputs": [
    {
     "name": "stdout",
     "output_type": "stream",
     "text": [
      "loading annotations into memory...\n",
      "Done (t=0.22s)\n",
      "creating index...\n",
      "index created!\n"
     ]
    }
   ],
   "source": [
    "train_dataset = build_dataset(cfg.data.train)"
   ]
  },
  {
   "cell_type": "code",
   "execution_count": 41,
   "id": "cdd0eda2-c167-429d-9822-1ab2e638710c",
   "metadata": {},
   "outputs": [
    {
     "data": {
      "text/plain": [
       "\n",
       "CocoDataset Train dataset with number of images 4444, and instance counts: \n",
       "+--------------+-------+----------+-------+----------+-------+----------+-------+----------+-------+\n",
       "| category     | count | category | count | category | count | category | count | category | count |\n",
       "+--------------+-------+----------+-------+----------+-------+----------+-------+----------+-------+\n",
       "|              |       |          |       |          |       |          |       |          |       |\n",
       "| 0 [starfish] | 10638 |          |       |          |       |          |       |          |       |\n",
       "+--------------+-------+----------+-------+----------+-------+----------+-------+----------+-------+"
      ]
     },
     "execution_count": 41,
     "metadata": {},
     "output_type": "execute_result"
    }
   ],
   "source": [
    "train_dataset"
   ]
  },
  {
   "cell_type": "code",
   "execution_count": 42,
   "id": "676b1087-c675-41a9-9334-49fcbaf144c9",
   "metadata": {
    "tags": []
   },
   "outputs": [
    {
     "name": "stderr",
     "output_type": "stream",
     "text": [
      "2022-02-10 14:08:25,358 - mmdet - INFO - Start running, host: root@13ada95134ff, work_dir: /app/_data/for_mmdet/cascade_rcnn_x101_32x4d_fpn_1x_coco_cust1\n",
      "2022-02-10 14:08:25,359 - mmdet - INFO - Hooks will be executed in the following order:\n",
      "before_run:\n",
      "(VERY_HIGH   ) CosineAnnealingLrUpdaterHook       \n",
      "(NORMAL      ) CheckpointHook                     \n",
      "(LOW         ) EvalHook                           \n",
      "(VERY_LOW    ) TextLoggerHook                     \n",
      "(VERY_LOW    ) WandbLoggerHook                    \n",
      " -------------------- \n",
      "before_train_epoch:\n",
      "(VERY_HIGH   ) CosineAnnealingLrUpdaterHook       \n",
      "(NORMAL      ) NumClassCheckHook                  \n",
      "(LOW         ) IterTimerHook                      \n",
      "(LOW         ) EvalHook                           \n",
      "(VERY_LOW    ) TextLoggerHook                     \n",
      "(VERY_LOW    ) WandbLoggerHook                    \n",
      " -------------------- \n",
      "before_train_iter:\n",
      "(VERY_HIGH   ) CosineAnnealingLrUpdaterHook       \n",
      "(LOW         ) IterTimerHook                      \n",
      "(LOW         ) EvalHook                           \n",
      " -------------------- \n",
      "after_train_iter:\n",
      "(ABOVE_NORMAL) OptimizerHook                      \n",
      "(NORMAL      ) CheckpointHook                     \n",
      "(LOW         ) IterTimerHook                      \n",
      "(LOW         ) EvalHook                           \n",
      "(VERY_LOW    ) TextLoggerHook                     \n",
      "(VERY_LOW    ) WandbLoggerHook                    \n",
      " -------------------- \n",
      "after_train_epoch:\n",
      "(NORMAL      ) CheckpointHook                     \n",
      "(LOW         ) EvalHook                           \n",
      "(VERY_LOW    ) TextLoggerHook                     \n",
      "(VERY_LOW    ) WandbLoggerHook                    \n",
      " -------------------- \n",
      "before_val_epoch:\n",
      "(NORMAL      ) NumClassCheckHook                  \n",
      "(LOW         ) IterTimerHook                      \n",
      "(VERY_LOW    ) TextLoggerHook                     \n",
      "(VERY_LOW    ) WandbLoggerHook                    \n",
      " -------------------- \n",
      "before_val_iter:\n",
      "(LOW         ) IterTimerHook                      \n",
      " -------------------- \n",
      "after_val_iter:\n",
      "(LOW         ) IterTimerHook                      \n",
      " -------------------- \n",
      "after_val_epoch:\n",
      "(VERY_LOW    ) TextLoggerHook                     \n",
      "(VERY_LOW    ) WandbLoggerHook                    \n",
      " -------------------- \n",
      "after_run:\n",
      "(VERY_LOW    ) TextLoggerHook                     \n",
      "(VERY_LOW    ) WandbLoggerHook                    \n",
      " -------------------- \n",
      "2022-02-10 14:08:25,360 - mmdet - INFO - workflow: [('train', 1)], max: 20 epochs\n",
      "2022-02-10 14:08:25,361 - mmdet - INFO - Checkpoints will be saved to /app/_data/for_mmdet/cascade_rcnn_x101_32x4d_fpn_1x_coco_cust1 by HardDiskBackend.\n"
     ]
    },
    {
     "name": "stdout",
     "output_type": "stream",
     "text": [
      "loading annotations into memory...\n",
      "Done (t=0.01s)\n",
      "creating index...\n",
      "index created!\n"
     ]
    },
    {
     "data": {
      "text/html": [
       "\n",
       "                    Syncing run <strong><a href=\"https://wandb.ai/tatanko/cascade_101/runs/a9t0vebf\" target=\"_blank\">exp-cascade_rcnn_x101_32x4d_fpn_1x_coco_cust1</a></strong> to <a href=\"https://wandb.ai/tatanko/cascade_101\" target=\"_blank\">Weights & Biases</a> (<a href=\"https://docs.wandb.com/integrations/jupyter.html\" target=\"_blank\">docs</a>).<br/>\n",
       "\n",
       "                "
      ],
      "text/plain": [
       "<IPython.core.display.HTML object>"
      ]
     },
     "metadata": {},
     "output_type": "display_data"
    },
    {
     "name": "stderr",
     "output_type": "stream",
     "text": [
      "2022-02-10 14:09:53,294 - mmdet - INFO - Epoch [1][100/1111]\tlr: 4.970e-04, eta: 5:12:17, time: 0.847, data_time: 0.036, memory: 12463, loss_rpn_cls: 0.3419, loss_rpn_bbox: 0.0166, s0.loss_cls: 0.1121, s0.acc: 98.6992, s0.loss_bbox: 0.0071, s1.loss_cls: 0.0557, s1.acc: 99.3257, s1.loss_bbox: 0.0021, s2.loss_cls: 0.0356, s2.acc: 95.2915, s2.loss_bbox: 0.0002, loss: 0.5714\n",
      "2022-02-10 14:11:14,449 - mmdet - INFO - Epoch [1][200/1111]\tlr: 9.963e-04, eta: 5:04:21, time: 0.812, data_time: 0.012, memory: 12463, loss_rpn_cls: 0.1121, loss_rpn_bbox: 0.0125, s0.loss_cls: 0.0790, s0.acc: 98.3530, s0.loss_bbox: 0.0259, s1.loss_cls: 0.0270, s1.acc: 99.0112, s1.loss_bbox: 0.0098, s2.loss_cls: 0.0104, s2.acc: 99.3315, s2.loss_bbox: 0.0019, loss: 0.2785\n",
      "2022-02-10 14:12:34,781 - mmdet - INFO - Epoch [1][300/1111]\tlr: 1.495e-03, eta: 4:59:48, time: 0.803, data_time: 0.012, memory: 12463, loss_rpn_cls: 0.0849, loss_rpn_bbox: 0.0124, s0.loss_cls: 0.1013, s0.acc: 97.0796, s0.loss_bbox: 0.0644, s1.loss_cls: 0.0311, s1.acc: 98.6323, s1.loss_bbox: 0.0211, s2.loss_cls: 0.0100, s2.acc: 99.3120, s2.loss_bbox: 0.0031, loss: 0.3285\n",
      "2022-02-10 14:13:54,957 - mmdet - INFO - Epoch [1][400/1111]\tlr: 1.994e-03, eta: 4:56:43, time: 0.802, data_time: 0.012, memory: 12463, loss_rpn_cls: 0.0663, loss_rpn_bbox: 0.0104, s0.loss_cls: 0.1036, s0.acc: 96.4521, s0.loss_bbox: 0.0768, s1.loss_cls: 0.0387, s1.acc: 97.6162, s1.loss_bbox: 0.0409, s2.loss_cls: 0.0129, s2.acc: 98.8960, s2.loss_bbox: 0.0075, loss: 0.3571\n",
      "2022-02-10 14:15:15,570 - mmdet - INFO - Epoch [1][500/1111]\tlr: 2.492e-03, eta: 4:54:39, time: 0.806, data_time: 0.012, memory: 12463, loss_rpn_cls: 0.0509, loss_rpn_bbox: 0.0096, s0.loss_cls: 0.1168, s0.acc: 95.8027, s0.loss_bbox: 0.0907, s1.loss_cls: 0.0535, s1.acc: 95.9161, s1.loss_bbox: 0.0744, s2.loss_cls: 0.0190, s2.acc: 97.7327, s2.loss_bbox: 0.0198, loss: 0.4348\n",
      "2022-02-10 14:16:35,716 - mmdet - INFO - Epoch [1][600/1111]\tlr: 2.496e-03, eta: 4:52:32, time: 0.801, data_time: 0.012, memory: 12463, loss_rpn_cls: 0.0429, loss_rpn_bbox: 0.0084, s0.loss_cls: 0.1111, s0.acc: 96.0991, s0.loss_bbox: 0.0832, s1.loss_cls: 0.0524, s1.acc: 96.0694, s1.loss_bbox: 0.0842, s2.loss_cls: 0.0206, s2.acc: 97.0425, s2.loss_bbox: 0.0268, loss: 0.4297\n",
      "2022-02-10 14:17:56,052 - mmdet - INFO - Epoch [1][700/1111]\tlr: 2.494e-03, eta: 4:50:45, time: 0.803, data_time: 0.012, memory: 12464, loss_rpn_cls: 0.0346, loss_rpn_bbox: 0.0096, s0.loss_cls: 0.1217, s0.acc: 95.4639, s0.loss_bbox: 0.0949, s1.loss_cls: 0.0629, s1.acc: 94.9625, s1.loss_bbox: 0.1076, s2.loss_cls: 0.0285, s2.acc: 95.1723, s2.loss_bbox: 0.0447, loss: 0.5044\n",
      "2022-02-10 14:19:16,466 - mmdet - INFO - Epoch [1][800/1111]\tlr: 2.492e-03, eta: 4:49:06, time: 0.804, data_time: 0.012, memory: 12464, loss_rpn_cls: 0.0287, loss_rpn_bbox: 0.0088, s0.loss_cls: 0.1091, s0.acc: 96.0308, s0.loss_bbox: 0.0847, s1.loss_cls: 0.0581, s1.acc: 95.5423, s1.loss_bbox: 0.1049, s2.loss_cls: 0.0284, s2.acc: 94.9409, s2.loss_bbox: 0.0509, loss: 0.4736\n",
      "2022-02-10 14:20:37,036 - mmdet - INFO - Epoch [1][900/1111]\tlr: 2.490e-03, eta: 4:47:36, time: 0.806, data_time: 0.012, memory: 12464, loss_rpn_cls: 0.0247, loss_rpn_bbox: 0.0080, s0.loss_cls: 0.1001, s0.acc: 96.2930, s0.loss_bbox: 0.0762, s1.loss_cls: 0.0519, s1.acc: 96.0241, s1.loss_bbox: 0.1041, s2.loss_cls: 0.0277, s2.acc: 95.3429, s2.loss_bbox: 0.0599, loss: 0.4526\n",
      "2022-02-10 14:21:57,402 - mmdet - INFO - Epoch [1][1000/1111]\tlr: 2.488e-03, eta: 4:46:02, time: 0.804, data_time: 0.012, memory: 12464, loss_rpn_cls: 0.0225, loss_rpn_bbox: 0.0073, s0.loss_cls: 0.1012, s0.acc: 96.1387, s0.loss_bbox: 0.0834, s1.loss_cls: 0.0544, s1.acc: 95.7254, s1.loss_bbox: 0.1196, s2.loss_cls: 0.0306, s2.acc: 94.6155, s2.loss_bbox: 0.0696, loss: 0.4886\n",
      "2022-02-10 14:23:17,651 - mmdet - INFO - Epoch [1][1100/1111]\tlr: 2.485e-03, eta: 4:44:29, time: 0.802, data_time: 0.012, memory: 12464, loss_rpn_cls: 0.0212, loss_rpn_bbox: 0.0067, s0.loss_cls: 0.0935, s0.acc: 96.4448, s0.loss_bbox: 0.0760, s1.loss_cls: 0.0514, s1.acc: 95.9969, s1.loss_bbox: 0.1111, s2.loss_cls: 0.0291, s2.acc: 94.9804, s2.loss_bbox: 0.0669, loss: 0.4559\n",
      "2022-02-10 14:23:26,475 - mmdet - INFO - Saving checkpoint at 1 epochs\n"
     ]
    },
    {
     "name": "stdout",
     "output_type": "stream",
     "text": [
      "[>>>>>>>>>>>>>>>>>>>>>>>>>>] 2274/2274, 13.0 task/s, elapsed: 174s, ETA:     0s"
     ]
    },
    {
     "name": "stderr",
     "output_type": "stream",
     "text": [
      "2022-02-10 14:26:22,604 - mmdet - INFO - Evaluating bbox...\n"
     ]
    },
    {
     "name": "stdout",
     "output_type": "stream",
     "text": [
      "Loading and preparing results...\n",
      "DONE (t=0.00s)\n",
      "creating index...\n",
      "index created!\n",
      "Running per image evaluation...\n",
      "Evaluate annotation type *bbox*\n"
     ]
    },
    {
     "name": "stderr",
     "output_type": "stream",
     "text": [
      "2022-02-10 14:26:23,289 - mmdet - INFO - \n",
      " Average Precision  (AP) @[ IoU=0.50:0.95 | area=   all | maxDets=100 ] = 0.142\n",
      " Average Precision  (AP) @[ IoU=0.50      | area=   all | maxDets=1000 ] = 0.380\n",
      " Average Precision  (AP) @[ IoU=0.75      | area=   all | maxDets=1000 ] = 0.067\n",
      " Average Precision  (AP) @[ IoU=0.50:0.95 | area= small | maxDets=1000 ] = 0.018\n",
      " Average Precision  (AP) @[ IoU=0.50:0.95 | area=medium | maxDets=1000 ] = 0.171\n",
      " Average Precision  (AP) @[ IoU=0.50:0.95 | area= large | maxDets=1000 ] = -1.000\n",
      " Average Recall     (AR) @[ IoU=0.50:0.95 | area=   all | maxDets=100 ] = 0.201\n",
      " Average Recall     (AR) @[ IoU=0.50:0.95 | area=   all | maxDets=300 ] = 0.201\n",
      " Average Recall     (AR) @[ IoU=0.50:0.95 | area=   all | maxDets=1000 ] = 0.201\n",
      " Average Recall     (AR) @[ IoU=0.50:0.95 | area= small | maxDets=1000 ] = 0.028\n",
      " Average Recall     (AR) @[ IoU=0.50:0.95 | area=medium | maxDets=1000 ] = 0.237\n",
      " Average Recall     (AR) @[ IoU=0.50:0.95 | area= large | maxDets=1000 ] = -1.000\n",
      "\n",
      "2022-02-10 14:26:23,306 - mmdet - INFO - Epoch(val) [1][2274]\tbbox_mAP: 0.1420, bbox_mAP_50: 0.3800, bbox_mAP_75: 0.0670, bbox_mAP_s: 0.0180, bbox_mAP_m: 0.1710, bbox_mAP_l: -1.0000, bbox_mAP_copypaste: 0.142 0.380 0.067 0.018 0.171 -1.000\n"
     ]
    },
    {
     "name": "stdout",
     "output_type": "stream",
     "text": [
      "DONE (t=0.57s).\n",
      "Accumulating evaluation results...\n",
      "DONE (t=0.10s).\n"
     ]
    },
    {
     "name": "stderr",
     "output_type": "stream",
     "text": [
      "2022-02-10 14:27:46,429 - mmdet - INFO - Epoch [2][100/1111]\tlr: 2.482e-03, eta: 4:41:05, time: 0.831, data_time: 0.037, memory: 12464, loss_rpn_cls: 0.0188, loss_rpn_bbox: 0.0066, s0.loss_cls: 0.0858, s0.acc: 96.7725, s0.loss_bbox: 0.0657, s1.loss_cls: 0.0459, s1.acc: 96.4648, s1.loss_bbox: 0.1074, s2.loss_cls: 0.0277, s2.acc: 95.3375, s2.loss_bbox: 0.0730, loss: 0.4310\n",
      "2022-02-10 14:29:06,393 - mmdet - INFO - Epoch [2][200/1111]\tlr: 2.479e-03, eta: 4:39:40, time: 0.800, data_time: 0.011, memory: 12464, loss_rpn_cls: 0.0178, loss_rpn_bbox: 0.0065, s0.loss_cls: 0.0949, s0.acc: 96.4131, s0.loss_bbox: 0.0770, s1.loss_cls: 0.0519, s1.acc: 96.0235, s1.loss_bbox: 0.1158, s2.loss_cls: 0.0300, s2.acc: 94.7422, s2.loss_bbox: 0.0735, loss: 0.4673\n",
      "2022-02-10 14:30:27,000 - mmdet - INFO - Epoch [2][300/1111]\tlr: 2.475e-03, eta: 4:38:25, time: 0.806, data_time: 0.012, memory: 12464, loss_rpn_cls: 0.0158, loss_rpn_bbox: 0.0062, s0.loss_cls: 0.0850, s0.acc: 96.7344, s0.loss_bbox: 0.0724, s1.loss_cls: 0.0430, s1.acc: 96.6619, s1.loss_bbox: 0.1138, s2.loss_cls: 0.0274, s2.acc: 95.3233, s2.loss_bbox: 0.0776, loss: 0.4412\n",
      "2022-02-10 14:31:47,424 - mmdet - INFO - Epoch [2][400/1111]\tlr: 2.472e-03, eta: 4:37:06, time: 0.804, data_time: 0.012, memory: 12464, loss_rpn_cls: 0.0157, loss_rpn_bbox: 0.0064, s0.loss_cls: 0.0895, s0.acc: 96.5273, s0.loss_bbox: 0.0751, s1.loss_cls: 0.0465, s1.acc: 96.3673, s1.loss_bbox: 0.1210, s2.loss_cls: 0.0300, s2.acc: 94.8677, s2.loss_bbox: 0.0816, loss: 0.4659\n",
      "2022-02-10 14:33:07,695 - mmdet - INFO - Epoch [2][500/1111]\tlr: 2.468e-03, eta: 4:35:46, time: 0.803, data_time: 0.012, memory: 12464, loss_rpn_cls: 0.0135, loss_rpn_bbox: 0.0058, s0.loss_cls: 0.0817, s0.acc: 96.7954, s0.loss_bbox: 0.0660, s1.loss_cls: 0.0441, s1.acc: 96.5809, s1.loss_bbox: 0.1121, s2.loss_cls: 0.0283, s2.acc: 95.2898, s2.loss_bbox: 0.0813, loss: 0.4327\n",
      "2022-02-10 14:34:27,952 - mmdet - INFO - Epoch [2][600/1111]\tlr: 2.464e-03, eta: 4:34:25, time: 0.803, data_time: 0.012, memory: 12464, loss_rpn_cls: 0.0149, loss_rpn_bbox: 0.0079, s0.loss_cls: 0.0877, s0.acc: 96.5474, s0.loss_bbox: 0.0736, s1.loss_cls: 0.0471, s1.acc: 96.3149, s1.loss_bbox: 0.1145, s2.loss_cls: 0.0288, s2.acc: 94.9171, s2.loss_bbox: 0.0790, loss: 0.4536\n",
      "2022-02-10 14:35:48,419 - mmdet - INFO - Epoch [2][700/1111]\tlr: 2.459e-03, eta: 4:33:07, time: 0.805, data_time: 0.012, memory: 12464, loss_rpn_cls: 0.0136, loss_rpn_bbox: 0.0058, s0.loss_cls: 0.0768, s0.acc: 96.9854, s0.loss_bbox: 0.0652, s1.loss_cls: 0.0401, s1.acc: 96.9216, s1.loss_bbox: 0.1121, s2.loss_cls: 0.0261, s2.acc: 95.7417, s2.loss_bbox: 0.0837, loss: 0.4234\n",
      "2022-02-10 14:37:08,894 - mmdet - INFO - Epoch [2][800/1111]\tlr: 2.455e-03, eta: 4:31:49, time: 0.805, data_time: 0.012, memory: 12464, loss_rpn_cls: 0.0109, loss_rpn_bbox: 0.0056, s0.loss_cls: 0.0747, s0.acc: 97.0547, s0.loss_bbox: 0.0629, s1.loss_cls: 0.0386, s1.acc: 97.0495, s1.loss_bbox: 0.1070, s2.loss_cls: 0.0257, s2.acc: 95.6573, s2.loss_bbox: 0.0800, loss: 0.4054\n",
      "2022-02-10 14:38:29,002 - mmdet - INFO - Epoch [2][900/1111]\tlr: 2.450e-03, eta: 4:30:26, time: 0.801, data_time: 0.012, memory: 12464, loss_rpn_cls: 0.0121, loss_rpn_bbox: 0.0061, s0.loss_cls: 0.0821, s0.acc: 96.8008, s0.loss_bbox: 0.0672, s1.loss_cls: 0.0421, s1.acc: 96.7650, s1.loss_bbox: 0.1172, s2.loss_cls: 0.0284, s2.acc: 95.2640, s2.loss_bbox: 0.0880, loss: 0.4432\n",
      "2022-02-10 14:39:49,337 - mmdet - INFO - Epoch [2][1000/1111]\tlr: 2.445e-03, eta: 4:29:06, time: 0.803, data_time: 0.012, memory: 12464, loss_rpn_cls: 0.0114, loss_rpn_bbox: 0.0060, s0.loss_cls: 0.0761, s0.acc: 97.0215, s0.loss_bbox: 0.0655, s1.loss_cls: 0.0397, s1.acc: 96.8789, s1.loss_bbox: 0.1146, s2.loss_cls: 0.0273, s2.acc: 95.4366, s2.loss_bbox: 0.0889, loss: 0.4295\n",
      "2022-02-10 14:41:09,193 - mmdet - INFO - Epoch [2][1100/1111]\tlr: 2.439e-03, eta: 4:27:42, time: 0.799, data_time: 0.012, memory: 12464, loss_rpn_cls: 0.0119, loss_rpn_bbox: 0.0057, s0.loss_cls: 0.0737, s0.acc: 97.0923, s0.loss_bbox: 0.0616, s1.loss_cls: 0.0371, s1.acc: 97.1640, s1.loss_bbox: 0.1069, s2.loss_cls: 0.0251, s2.acc: 95.9137, s2.loss_bbox: 0.0788, loss: 0.4007\n",
      "2022-02-10 14:41:18,053 - mmdet - INFO - Saving checkpoint at 2 epochs\n"
     ]
    },
    {
     "name": "stdout",
     "output_type": "stream",
     "text": [
      "[>>>>>>>>>>>>>>>>>>>>>>>>>>] 2274/2274, 13.0 task/s, elapsed: 175s, ETA:     0s"
     ]
    },
    {
     "name": "stderr",
     "output_type": "stream",
     "text": [
      "2022-02-10 14:44:14,407 - mmdet - INFO - Evaluating bbox...\n"
     ]
    },
    {
     "name": "stdout",
     "output_type": "stream",
     "text": [
      "Loading and preparing results...\n",
      "DONE (t=0.00s)\n",
      "creating index...\n",
      "index created!\n",
      "Running per image evaluation...\n",
      "Evaluate annotation type *bbox*\n"
     ]
    },
    {
     "name": "stderr",
     "output_type": "stream",
     "text": [
      "2022-02-10 14:44:15,413 - mmdet - INFO - \n",
      " Average Precision  (AP) @[ IoU=0.50:0.95 | area=   all | maxDets=100 ] = 0.173\n",
      " Average Precision  (AP) @[ IoU=0.50      | area=   all | maxDets=1000 ] = 0.432\n",
      " Average Precision  (AP) @[ IoU=0.75      | area=   all | maxDets=1000 ] = 0.097\n",
      " Average Precision  (AP) @[ IoU=0.50:0.95 | area= small | maxDets=1000 ] = 0.022\n",
      " Average Precision  (AP) @[ IoU=0.50:0.95 | area=medium | maxDets=1000 ] = 0.211\n",
      " Average Precision  (AP) @[ IoU=0.50:0.95 | area= large | maxDets=1000 ] = -1.000\n",
      " Average Recall     (AR) @[ IoU=0.50:0.95 | area=   all | maxDets=100 ] = 0.248\n",
      " Average Recall     (AR) @[ IoU=0.50:0.95 | area=   all | maxDets=300 ] = 0.248\n",
      " Average Recall     (AR) @[ IoU=0.50:0.95 | area=   all | maxDets=1000 ] = 0.248\n",
      " Average Recall     (AR) @[ IoU=0.50:0.95 | area= small | maxDets=1000 ] = 0.065\n",
      " Average Recall     (AR) @[ IoU=0.50:0.95 | area=medium | maxDets=1000 ] = 0.286\n",
      " Average Recall     (AR) @[ IoU=0.50:0.95 | area= large | maxDets=1000 ] = -1.000\n",
      "\n",
      "2022-02-10 14:44:15,423 - mmdet - INFO - Epoch(val) [2][2274]\tbbox_mAP: 0.1730, bbox_mAP_50: 0.4320, bbox_mAP_75: 0.0970, bbox_mAP_s: 0.0220, bbox_mAP_m: 0.2110, bbox_mAP_l: -1.0000, bbox_mAP_copypaste: 0.173 0.432 0.097 0.022 0.211 -1.000\n"
     ]
    },
    {
     "name": "stdout",
     "output_type": "stream",
     "text": [
      "DONE (t=0.85s).\n",
      "Accumulating evaluation results...\n",
      "DONE (t=0.14s).\n"
     ]
    },
    {
     "name": "stderr",
     "output_type": "stream",
     "text": [
      "2022-02-10 14:45:38,232 - mmdet - INFO - Epoch [3][100/1111]\tlr: 2.433e-03, eta: 4:25:19, time: 0.828, data_time: 0.037, memory: 12464, loss_rpn_cls: 0.0098, loss_rpn_bbox: 0.0057, s0.loss_cls: 0.0687, s0.acc: 97.2559, s0.loss_bbox: 0.0598, s1.loss_cls: 0.0353, s1.acc: 97.2596, s1.loss_bbox: 0.1066, s2.loss_cls: 0.0241, s2.acc: 95.9557, s2.loss_bbox: 0.0851, loss: 0.3951\n",
      "2022-02-10 14:46:58,642 - mmdet - INFO - Epoch [3][200/1111]\tlr: 2.427e-03, eta: 4:24:02, time: 0.804, data_time: 0.012, memory: 12464, loss_rpn_cls: 0.0081, loss_rpn_bbox: 0.0056, s0.loss_cls: 0.0790, s0.acc: 96.8203, s0.loss_bbox: 0.0651, s1.loss_cls: 0.0406, s1.acc: 96.8803, s1.loss_bbox: 0.1136, s2.loss_cls: 0.0266, s2.acc: 95.6443, s2.loss_bbox: 0.0881, loss: 0.4268\n",
      "2022-02-10 14:48:18,580 - mmdet - INFO - Epoch [3][300/1111]\tlr: 2.421e-03, eta: 4:22:41, time: 0.799, data_time: 0.012, memory: 12464, loss_rpn_cls: 0.0087, loss_rpn_bbox: 0.0052, s0.loss_cls: 0.0692, s0.acc: 97.1948, s0.loss_bbox: 0.0613, s1.loss_cls: 0.0353, s1.acc: 97.1970, s1.loss_bbox: 0.1135, s2.loss_cls: 0.0250, s2.acc: 95.9455, s2.loss_bbox: 0.0927, loss: 0.4108\n",
      "2022-02-10 14:49:38,153 - mmdet - INFO - Epoch [3][400/1111]\tlr: 2.415e-03, eta: 4:21:18, time: 0.796, data_time: 0.012, memory: 12464, loss_rpn_cls: 0.0087, loss_rpn_bbox: 0.0042, s0.loss_cls: 0.0649, s0.acc: 97.4297, s0.loss_bbox: 0.0545, s1.loss_cls: 0.0321, s1.acc: 97.5543, s1.loss_bbox: 0.1001, s2.loss_cls: 0.0213, s2.acc: 96.5360, s2.loss_bbox: 0.0826, loss: 0.3684\n",
      "2022-02-10 14:50:59,029 - mmdet - INFO - Epoch [3][500/1111]\tlr: 2.409e-03, eta: 4:20:04, time: 0.809, data_time: 0.012, memory: 12464, loss_rpn_cls: 0.0092, loss_rpn_bbox: 0.0054, s0.loss_cls: 0.0602, s0.acc: 97.5713, s0.loss_bbox: 0.0537, s1.loss_cls: 0.0298, s1.acc: 97.6625, s1.loss_bbox: 0.0971, s2.loss_cls: 0.0211, s2.acc: 96.5210, s2.loss_bbox: 0.0796, loss: 0.3562\n",
      "2022-02-10 14:52:19,351 - mmdet - INFO - Epoch [3][600/1111]\tlr: 2.402e-03, eta: 4:18:46, time: 0.803, data_time: 0.012, memory: 12464, loss_rpn_cls: 0.0068, loss_rpn_bbox: 0.0040, s0.loss_cls: 0.0598, s0.acc: 97.6714, s0.loss_bbox: 0.0477, s1.loss_cls: 0.0288, s1.acc: 97.7818, s1.loss_bbox: 0.0931, s2.loss_cls: 0.0199, s2.acc: 96.8223, s2.loss_bbox: 0.0796, loss: 0.3397\n",
      "2022-02-10 14:53:39,171 - mmdet - INFO - Epoch [3][700/1111]\tlr: 2.395e-03, eta: 4:17:25, time: 0.798, data_time: 0.012, memory: 12464, loss_rpn_cls: 0.0083, loss_rpn_bbox: 0.0055, s0.loss_cls: 0.0631, s0.acc: 97.4038, s0.loss_bbox: 0.0563, s1.loss_cls: 0.0313, s1.acc: 97.6019, s1.loss_bbox: 0.1027, s2.loss_cls: 0.0236, s2.acc: 96.1499, s2.loss_bbox: 0.0823, loss: 0.3731\n",
      "2022-02-10 14:54:59,418 - mmdet - INFO - Epoch [3][800/1111]\tlr: 2.388e-03, eta: 4:16:06, time: 0.802, data_time: 0.012, memory: 12464, loss_rpn_cls: 0.0073, loss_rpn_bbox: 0.0046, s0.loss_cls: 0.0603, s0.acc: 97.5430, s0.loss_bbox: 0.0536, s1.loss_cls: 0.0294, s1.acc: 97.7638, s1.loss_bbox: 0.1010, s2.loss_cls: 0.0215, s2.acc: 96.5742, s2.loss_bbox: 0.0836, loss: 0.3614\n",
      "2022-02-10 14:56:19,423 - mmdet - INFO - Epoch [3][900/1111]\tlr: 2.380e-03, eta: 4:14:46, time: 0.800, data_time: 0.012, memory: 12464, loss_rpn_cls: 0.0066, loss_rpn_bbox: 0.0055, s0.loss_cls: 0.0645, s0.acc: 97.3965, s0.loss_bbox: 0.0567, s1.loss_cls: 0.0318, s1.acc: 97.4704, s1.loss_bbox: 0.1005, s2.loss_cls: 0.0217, s2.acc: 96.4582, s2.loss_bbox: 0.0829, loss: 0.3702\n",
      "2022-02-10 14:57:39,848 - mmdet - INFO - Epoch [3][1000/1111]\tlr: 2.373e-03, eta: 4:13:28, time: 0.804, data_time: 0.012, memory: 12464, loss_rpn_cls: 0.0070, loss_rpn_bbox: 0.0047, s0.loss_cls: 0.0629, s0.acc: 97.4546, s0.loss_bbox: 0.0534, s1.loss_cls: 0.0321, s1.acc: 97.4843, s1.loss_bbox: 0.0993, s2.loss_cls: 0.0232, s2.acc: 96.1077, s2.loss_bbox: 0.0822, loss: 0.3648\n",
      "2022-02-10 14:58:59,945 - mmdet - INFO - Epoch [3][1100/1111]\tlr: 2.365e-03, eta: 4:12:08, time: 0.801, data_time: 0.012, memory: 12464, loss_rpn_cls: 0.0061, loss_rpn_bbox: 0.0051, s0.loss_cls: 0.0653, s0.acc: 97.3384, s0.loss_bbox: 0.0576, s1.loss_cls: 0.0311, s1.acc: 97.5216, s1.loss_bbox: 0.1043, s2.loss_cls: 0.0224, s2.acc: 96.2129, s2.loss_bbox: 0.0869, loss: 0.3788\n",
      "2022-02-10 14:59:08,841 - mmdet - INFO - Saving checkpoint at 3 epochs\n"
     ]
    },
    {
     "name": "stdout",
     "output_type": "stream",
     "text": [
      "[>>>>>>>>>>>>>>>>>>>>>>>>>>] 2274/2274, 13.1 task/s, elapsed: 174s, ETA:     0s"
     ]
    },
    {
     "name": "stderr",
     "output_type": "stream",
     "text": [
      "2022-02-10 15:02:04,044 - mmdet - INFO - Evaluating bbox...\n"
     ]
    },
    {
     "name": "stdout",
     "output_type": "stream",
     "text": [
      "Loading and preparing results...\n",
      "DONE (t=0.01s)\n",
      "creating index...\n",
      "index created!\n",
      "Running per image evaluation...\n",
      "Evaluate annotation type *bbox*\n"
     ]
    },
    {
     "name": "stderr",
     "output_type": "stream",
     "text": [
      "2022-02-10 15:02:04,982 - mmdet - INFO - \n",
      " Average Precision  (AP) @[ IoU=0.50:0.95 | area=   all | maxDets=100 ] = 0.214\n",
      " Average Precision  (AP) @[ IoU=0.50      | area=   all | maxDets=1000 ] = 0.496\n",
      " Average Precision  (AP) @[ IoU=0.75      | area=   all | maxDets=1000 ] = 0.130\n",
      " Average Precision  (AP) @[ IoU=0.50:0.95 | area= small | maxDets=1000 ] = 0.025\n",
      " Average Precision  (AP) @[ IoU=0.50:0.95 | area=medium | maxDets=1000 ] = 0.256\n",
      " Average Precision  (AP) @[ IoU=0.50:0.95 | area= large | maxDets=1000 ] = -1.000\n",
      " Average Recall     (AR) @[ IoU=0.50:0.95 | area=   all | maxDets=100 ] = 0.302\n",
      " Average Recall     (AR) @[ IoU=0.50:0.95 | area=   all | maxDets=300 ] = 0.302\n",
      " Average Recall     (AR) @[ IoU=0.50:0.95 | area=   all | maxDets=1000 ] = 0.302\n",
      " Average Recall     (AR) @[ IoU=0.50:0.95 | area= small | maxDets=1000 ] = 0.046\n",
      " Average Recall     (AR) @[ IoU=0.50:0.95 | area=medium | maxDets=1000 ] = 0.356\n",
      " Average Recall     (AR) @[ IoU=0.50:0.95 | area= large | maxDets=1000 ] = -1.000\n",
      "\n",
      "2022-02-10 15:02:04,993 - mmdet - INFO - Epoch(val) [3][2274]\tbbox_mAP: 0.2140, bbox_mAP_50: 0.4960, bbox_mAP_75: 0.1300, bbox_mAP_s: 0.0250, bbox_mAP_m: 0.2560, bbox_mAP_l: -1.0000, bbox_mAP_copypaste: 0.214 0.496 0.130 0.025 0.256 -1.000\n"
     ]
    },
    {
     "name": "stdout",
     "output_type": "stream",
     "text": [
      "DONE (t=0.76s).\n",
      "Accumulating evaluation results...\n",
      "DONE (t=0.15s).\n"
     ]
    },
    {
     "name": "stderr",
     "output_type": "stream",
     "text": [
      "2022-02-10 15:03:27,984 - mmdet - INFO - Epoch [4][100/1111]\tlr: 2.356e-03, eta: 4:10:07, time: 0.830, data_time: 0.037, memory: 12464, loss_rpn_cls: 0.0059, loss_rpn_bbox: 0.0047, s0.loss_cls: 0.0602, s0.acc: 97.5771, s0.loss_bbox: 0.0500, s1.loss_cls: 0.0285, s1.acc: 97.7958, s1.loss_bbox: 0.0951, s2.loss_cls: 0.0199, s2.acc: 96.8554, s2.loss_bbox: 0.0837, loss: 0.3480\n",
      "2022-02-10 15:04:48,081 - mmdet - INFO - Epoch [4][200/1111]\tlr: 2.347e-03, eta: 4:08:48, time: 0.801, data_time: 0.011, memory: 12464, loss_rpn_cls: 0.0060, loss_rpn_bbox: 0.0049, s0.loss_cls: 0.0591, s0.acc: 97.6079, s0.loss_bbox: 0.0487, s1.loss_cls: 0.0283, s1.acc: 97.7593, s1.loss_bbox: 0.0930, s2.loss_cls: 0.0195, s2.acc: 96.8887, s2.loss_bbox: 0.0822, loss: 0.3418\n",
      "2022-02-10 15:06:08,393 - mmdet - INFO - Epoch [4][300/1111]\tlr: 2.339e-03, eta: 4:07:31, time: 0.803, data_time: 0.012, memory: 12464, loss_rpn_cls: 0.0053, loss_rpn_bbox: 0.0047, s0.loss_cls: 0.0578, s0.acc: 97.7031, s0.loss_bbox: 0.0496, s1.loss_cls: 0.0273, s1.acc: 97.8593, s1.loss_bbox: 0.0941, s2.loss_cls: 0.0192, s2.acc: 96.9080, s2.loss_bbox: 0.0819, loss: 0.3399\n",
      "2022-02-10 15:07:28,688 - mmdet - INFO - Epoch [4][400/1111]\tlr: 2.330e-03, eta: 4:06:13, time: 0.803, data_time: 0.012, memory: 12464, loss_rpn_cls: 0.0058, loss_rpn_bbox: 0.0046, s0.loss_cls: 0.0550, s0.acc: 97.7754, s0.loss_bbox: 0.0473, s1.loss_cls: 0.0268, s1.acc: 97.8934, s1.loss_bbox: 0.0893, s2.loss_cls: 0.0185, s2.acc: 96.9606, s2.loss_bbox: 0.0792, loss: 0.3266\n",
      "2022-02-10 15:08:48,905 - mmdet - INFO - Epoch [4][500/1111]\tlr: 2.321e-03, eta: 4:04:54, time: 0.802, data_time: 0.012, memory: 12464, loss_rpn_cls: 0.0049, loss_rpn_bbox: 0.0041, s0.loss_cls: 0.0530, s0.acc: 97.8608, s0.loss_bbox: 0.0453, s1.loss_cls: 0.0249, s1.acc: 98.0190, s1.loss_bbox: 0.0873, s2.loss_cls: 0.0182, s2.acc: 97.0891, s2.loss_bbox: 0.0753, loss: 0.3129\n",
      "2022-02-10 15:10:09,434 - mmdet - INFO - Epoch [4][600/1111]\tlr: 2.312e-03, eta: 4:03:37, time: 0.805, data_time: 0.012, memory: 12464, loss_rpn_cls: 0.0036, loss_rpn_bbox: 0.0036, s0.loss_cls: 0.0509, s0.acc: 97.9121, s0.loss_bbox: 0.0437, s1.loss_cls: 0.0240, s1.acc: 98.0764, s1.loss_bbox: 0.0874, s2.loss_cls: 0.0172, s2.acc: 97.3415, s2.loss_bbox: 0.0819, loss: 0.3122\n",
      "2022-02-10 15:11:29,662 - mmdet - INFO - Epoch [4][700/1111]\tlr: 2.302e-03, eta: 4:02:19, time: 0.802, data_time: 0.012, memory: 12464, loss_rpn_cls: 0.0062, loss_rpn_bbox: 0.0038, s0.loss_cls: 0.0556, s0.acc: 97.7891, s0.loss_bbox: 0.0463, s1.loss_cls: 0.0256, s1.acc: 97.9820, s1.loss_bbox: 0.0905, s2.loss_cls: 0.0178, s2.acc: 97.1787, s2.loss_bbox: 0.0811, loss: 0.3270\n",
      "2022-02-10 15:12:49,858 - mmdet - INFO - Epoch [4][800/1111]\tlr: 2.293e-03, eta: 4:01:00, time: 0.802, data_time: 0.012, memory: 12464, loss_rpn_cls: 0.0053, loss_rpn_bbox: 0.0045, s0.loss_cls: 0.0566, s0.acc: 97.7075, s0.loss_bbox: 0.0472, s1.loss_cls: 0.0268, s1.acc: 97.8711, s1.loss_bbox: 0.0901, s2.loss_cls: 0.0185, s2.acc: 96.9968, s2.loss_bbox: 0.0795, loss: 0.3284\n",
      "2022-02-10 15:14:11,048 - mmdet - INFO - Epoch [4][900/1111]\tlr: 2.283e-03, eta: 3:59:45, time: 0.812, data_time: 0.012, memory: 12464, loss_rpn_cls: 0.0060, loss_rpn_bbox: 0.0038, s0.loss_cls: 0.0544, s0.acc: 97.8159, s0.loss_bbox: 0.0448, s1.loss_cls: 0.0259, s1.acc: 97.9805, s1.loss_bbox: 0.0878, s2.loss_cls: 0.0178, s2.acc: 97.1839, s2.loss_bbox: 0.0790, loss: 0.3195\n",
      "2022-02-10 15:15:31,482 - mmdet - INFO - Epoch [4][1000/1111]\tlr: 2.273e-03, eta: 3:58:27, time: 0.804, data_time: 0.012, memory: 12464, loss_rpn_cls: 0.0051, loss_rpn_bbox: 0.0043, s0.loss_cls: 0.0546, s0.acc: 97.8169, s0.loss_bbox: 0.0450, s1.loss_cls: 0.0251, s1.acc: 98.0477, s1.loss_bbox: 0.0851, s2.loss_cls: 0.0178, s2.acc: 97.1894, s2.loss_bbox: 0.0746, loss: 0.3115\n",
      "2022-02-10 15:16:51,663 - mmdet - INFO - Epoch [4][1100/1111]\tlr: 2.263e-03, eta: 3:57:08, time: 0.802, data_time: 0.012, memory: 12464, loss_rpn_cls: 0.0054, loss_rpn_bbox: 0.0041, s0.loss_cls: 0.0587, s0.acc: 97.6650, s0.loss_bbox: 0.0484, s1.loss_cls: 0.0288, s1.acc: 97.8700, s1.loss_bbox: 0.0906, s2.loss_cls: 0.0197, s2.acc: 96.9492, s2.loss_bbox: 0.0788, loss: 0.3345\n",
      "2022-02-10 15:17:00,536 - mmdet - INFO - Saving checkpoint at 4 epochs\n"
     ]
    },
    {
     "name": "stdout",
     "output_type": "stream",
     "text": [
      "[>>>>>>>>>>>>>>>>>>>>>>>>>>] 2274/2274, 13.1 task/s, elapsed: 174s, ETA:     0s"
     ]
    },
    {
     "name": "stderr",
     "output_type": "stream",
     "text": [
      "2022-02-10 15:19:55,955 - mmdet - INFO - Evaluating bbox...\n"
     ]
    },
    {
     "name": "stdout",
     "output_type": "stream",
     "text": [
      "Loading and preparing results...\n",
      "DONE (t=0.01s)\n",
      "creating index...\n",
      "index created!\n",
      "Running per image evaluation...\n",
      "Evaluate annotation type *bbox*\n"
     ]
    },
    {
     "name": "stderr",
     "output_type": "stream",
     "text": [
      "2022-02-10 15:19:56,885 - mmdet - INFO - \n",
      " Average Precision  (AP) @[ IoU=0.50:0.95 | area=   all | maxDets=100 ] = 0.205\n",
      " Average Precision  (AP) @[ IoU=0.50      | area=   all | maxDets=1000 ] = 0.469\n",
      " Average Precision  (AP) @[ IoU=0.75      | area=   all | maxDets=1000 ] = 0.152\n",
      " Average Precision  (AP) @[ IoU=0.50:0.95 | area= small | maxDets=1000 ] = 0.001\n",
      " Average Precision  (AP) @[ IoU=0.50:0.95 | area=medium | maxDets=1000 ] = 0.252\n",
      " Average Precision  (AP) @[ IoU=0.50:0.95 | area= large | maxDets=1000 ] = -1.000\n",
      " Average Recall     (AR) @[ IoU=0.50:0.95 | area=   all | maxDets=100 ] = 0.289\n",
      " Average Recall     (AR) @[ IoU=0.50:0.95 | area=   all | maxDets=300 ] = 0.289\n",
      " Average Recall     (AR) @[ IoU=0.50:0.95 | area=   all | maxDets=1000 ] = 0.289\n",
      " Average Recall     (AR) @[ IoU=0.50:0.95 | area= small | maxDets=1000 ] = 0.024\n",
      " Average Recall     (AR) @[ IoU=0.50:0.95 | area=medium | maxDets=1000 ] = 0.344\n",
      " Average Recall     (AR) @[ IoU=0.50:0.95 | area= large | maxDets=1000 ] = -1.000\n",
      "\n",
      "2022-02-10 15:19:56,895 - mmdet - INFO - Epoch(val) [4][2274]\tbbox_mAP: 0.2050, bbox_mAP_50: 0.4690, bbox_mAP_75: 0.1520, bbox_mAP_s: 0.0010, bbox_mAP_m: 0.2520, bbox_mAP_l: -1.0000, bbox_mAP_copypaste: 0.205 0.469 0.152 0.001 0.252 -1.000\n"
     ]
    },
    {
     "name": "stdout",
     "output_type": "stream",
     "text": [
      "DONE (t=0.76s).\n",
      "Accumulating evaluation results...\n",
      "DONE (t=0.15s).\n"
     ]
    },
    {
     "name": "stderr",
     "output_type": "stream",
     "text": [
      "2022-02-10 15:21:19,813 - mmdet - INFO - Epoch [5][100/1111]\tlr: 2.251e-03, eta: 3:55:16, time: 0.829, data_time: 0.037, memory: 12464, loss_rpn_cls: 0.0029, loss_rpn_bbox: 0.0032, s0.loss_cls: 0.0460, s0.acc: 98.1494, s0.loss_bbox: 0.0367, s1.loss_cls: 0.0212, s1.acc: 98.3153, s1.loss_bbox: 0.0738, s2.loss_cls: 0.0142, s2.acc: 97.7302, s2.loss_bbox: 0.0693, loss: 0.2671\n",
      "2022-02-10 15:22:40,264 - mmdet - INFO - Epoch [5][200/1111]\tlr: 2.240e-03, eta: 3:53:58, time: 0.805, data_time: 0.012, memory: 12464, loss_rpn_cls: 0.0046, loss_rpn_bbox: 0.0043, s0.loss_cls: 0.0529, s0.acc: 97.8442, s0.loss_bbox: 0.0455, s1.loss_cls: 0.0243, s1.acc: 98.0402, s1.loss_bbox: 0.0876, s2.loss_cls: 0.0184, s2.acc: 97.0256, s2.loss_bbox: 0.0783, loss: 0.3158\n",
      "2022-02-10 15:24:01,019 - mmdet - INFO - Epoch [5][300/1111]\tlr: 2.229e-03, eta: 3:52:42, time: 0.808, data_time: 0.012, memory: 12464, loss_rpn_cls: 0.0027, loss_rpn_bbox: 0.0036, s0.loss_cls: 0.0477, s0.acc: 98.0117, s0.loss_bbox: 0.0413, s1.loss_cls: 0.0219, s1.acc: 98.2171, s1.loss_bbox: 0.0823, s2.loss_cls: 0.0160, s2.acc: 97.4233, s2.loss_bbox: 0.0766, loss: 0.2922\n",
      "2022-02-10 15:25:21,170 - mmdet - INFO - Epoch [5][400/1111]\tlr: 2.218e-03, eta: 3:51:23, time: 0.801, data_time: 0.012, memory: 12464, loss_rpn_cls: 0.0034, loss_rpn_bbox: 0.0039, s0.loss_cls: 0.0513, s0.acc: 97.9321, s0.loss_bbox: 0.0445, s1.loss_cls: 0.0241, s1.acc: 98.0611, s1.loss_bbox: 0.0860, s2.loss_cls: 0.0179, s2.acc: 97.1156, s2.loss_bbox: 0.0783, loss: 0.3094\n",
      "2022-02-10 15:26:41,992 - mmdet - INFO - Epoch [5][500/1111]\tlr: 2.207e-03, eta: 3:50:06, time: 0.808, data_time: 0.012, memory: 12464, loss_rpn_cls: 0.0042, loss_rpn_bbox: 0.0040, s0.loss_cls: 0.0477, s0.acc: 98.0596, s0.loss_bbox: 0.0395, s1.loss_cls: 0.0207, s1.acc: 98.3424, s1.loss_bbox: 0.0773, s2.loss_cls: 0.0143, s2.acc: 97.7914, s2.loss_bbox: 0.0741, loss: 0.2817\n",
      "2022-02-10 15:28:03,000 - mmdet - INFO - Epoch [5][600/1111]\tlr: 2.196e-03, eta: 3:48:50, time: 0.810, data_time: 0.012, memory: 12464, loss_rpn_cls: 0.0032, loss_rpn_bbox: 0.0032, s0.loss_cls: 0.0451, s0.acc: 98.1484, s0.loss_bbox: 0.0384, s1.loss_cls: 0.0204, s1.acc: 98.3778, s1.loss_bbox: 0.0795, s2.loss_cls: 0.0153, s2.acc: 97.5959, s2.loss_bbox: 0.0717, loss: 0.2767\n",
      "2022-02-10 15:29:23,944 - mmdet - INFO - Epoch [5][700/1111]\tlr: 2.184e-03, eta: 3:47:33, time: 0.809, data_time: 0.012, memory: 12464, loss_rpn_cls: 0.0036, loss_rpn_bbox: 0.0042, s0.loss_cls: 0.0502, s0.acc: 97.9854, s0.loss_bbox: 0.0436, s1.loss_cls: 0.0238, s1.acc: 98.0958, s1.loss_bbox: 0.0834, s2.loss_cls: 0.0167, s2.acc: 97.3067, s2.loss_bbox: 0.0775, loss: 0.3030\n",
      "2022-02-10 15:30:45,245 - mmdet - INFO - Epoch [5][800/1111]\tlr: 2.172e-03, eta: 3:46:18, time: 0.813, data_time: 0.012, memory: 12464, loss_rpn_cls: 0.0033, loss_rpn_bbox: 0.0035, s0.loss_cls: 0.0499, s0.acc: 97.9727, s0.loss_bbox: 0.0407, s1.loss_cls: 0.0235, s1.acc: 98.1005, s1.loss_bbox: 0.0801, s2.loss_cls: 0.0163, s2.acc: 97.3377, s2.loss_bbox: 0.0736, loss: 0.2909\n",
      "2022-02-10 15:32:05,874 - mmdet - INFO - Epoch [5][900/1111]\tlr: 2.160e-03, eta: 3:45:00, time: 0.806, data_time: 0.012, memory: 12464, loss_rpn_cls: 0.0027, loss_rpn_bbox: 0.0034, s0.loss_cls: 0.0435, s0.acc: 98.3149, s0.loss_bbox: 0.0351, s1.loss_cls: 0.0201, s1.acc: 98.4568, s1.loss_bbox: 0.0709, s2.loss_cls: 0.0139, s2.acc: 97.8868, s2.loss_bbox: 0.0669, loss: 0.2567\n",
      "2022-02-10 15:33:26,580 - mmdet - INFO - Epoch [5][1000/1111]\tlr: 2.148e-03, eta: 3:43:42, time: 0.807, data_time: 0.012, memory: 12464, loss_rpn_cls: 0.0037, loss_rpn_bbox: 0.0040, s0.loss_cls: 0.0516, s0.acc: 97.9189, s0.loss_bbox: 0.0441, s1.loss_cls: 0.0230, s1.acc: 98.1854, s1.loss_bbox: 0.0851, s2.loss_cls: 0.0167, s2.acc: 97.3600, s2.loss_bbox: 0.0762, loss: 0.3044\n",
      "2022-02-10 15:34:47,088 - mmdet - INFO - Epoch [5][1100/1111]\tlr: 2.135e-03, eta: 3:42:23, time: 0.805, data_time: 0.012, memory: 12464, loss_rpn_cls: 0.0033, loss_rpn_bbox: 0.0034, s0.loss_cls: 0.0434, s0.acc: 98.2358, s0.loss_bbox: 0.0362, s1.loss_cls: 0.0190, s1.acc: 98.4803, s1.loss_bbox: 0.0739, s2.loss_cls: 0.0133, s2.acc: 97.8873, s2.loss_bbox: 0.0710, loss: 0.2635\n",
      "2022-02-10 15:34:56,058 - mmdet - INFO - Saving checkpoint at 5 epochs\n"
     ]
    },
    {
     "name": "stdout",
     "output_type": "stream",
     "text": [
      "[>>>>>>>>>>>>>>>>>>>>>>>>>>] 2274/2274, 13.1 task/s, elapsed: 174s, ETA:     0s"
     ]
    },
    {
     "name": "stderr",
     "output_type": "stream",
     "text": [
      "2022-02-10 15:37:51,979 - mmdet - INFO - Evaluating bbox...\n"
     ]
    },
    {
     "name": "stdout",
     "output_type": "stream",
     "text": [
      "Loading and preparing results...\n",
      "DONE (t=0.01s)\n",
      "creating index...\n",
      "index created!\n",
      "Running per image evaluation...\n",
      "Evaluate annotation type *bbox*\n"
     ]
    },
    {
     "name": "stderr",
     "output_type": "stream",
     "text": [
      "2022-02-10 15:37:53,039 - mmdet - INFO - \n",
      " Average Precision  (AP) @[ IoU=0.50:0.95 | area=   all | maxDets=100 ] = 0.179\n",
      " Average Precision  (AP) @[ IoU=0.50      | area=   all | maxDets=1000 ] = 0.427\n",
      " Average Precision  (AP) @[ IoU=0.75      | area=   all | maxDets=1000 ] = 0.092\n",
      " Average Precision  (AP) @[ IoU=0.50:0.95 | area= small | maxDets=1000 ] = 0.003\n",
      " Average Precision  (AP) @[ IoU=0.50:0.95 | area=medium | maxDets=1000 ] = 0.223\n",
      " Average Precision  (AP) @[ IoU=0.50:0.95 | area= large | maxDets=1000 ] = -1.000\n",
      " Average Recall     (AR) @[ IoU=0.50:0.95 | area=   all | maxDets=100 ] = 0.271\n",
      " Average Recall     (AR) @[ IoU=0.50:0.95 | area=   all | maxDets=300 ] = 0.271\n",
      " Average Recall     (AR) @[ IoU=0.50:0.95 | area=   all | maxDets=1000 ] = 0.271\n",
      " Average Recall     (AR) @[ IoU=0.50:0.95 | area= small | maxDets=1000 ] = 0.041\n",
      " Average Recall     (AR) @[ IoU=0.50:0.95 | area=medium | maxDets=1000 ] = 0.319\n",
      " Average Recall     (AR) @[ IoU=0.50:0.95 | area= large | maxDets=1000 ] = -1.000\n",
      "\n",
      "2022-02-10 15:37:53,051 - mmdet - INFO - Epoch(val) [5][2274]\tbbox_mAP: 0.1790, bbox_mAP_50: 0.4270, bbox_mAP_75: 0.0920, bbox_mAP_s: 0.0030, bbox_mAP_m: 0.2230, bbox_mAP_l: -1.0000, bbox_mAP_copypaste: 0.179 0.427 0.092 0.003 0.223 -1.000\n"
     ]
    },
    {
     "name": "stdout",
     "output_type": "stream",
     "text": [
      "DONE (t=0.86s).\n",
      "Accumulating evaluation results...\n",
      "DONE (t=0.18s).\n"
     ]
    },
    {
     "name": "stderr",
     "output_type": "stream",
     "text": [
      "2022-02-10 15:39:16,550 - mmdet - INFO - Epoch [6][100/1111]\tlr: 2.121e-03, eta: 3:40:39, time: 0.835, data_time: 0.037, memory: 12464, loss_rpn_cls: 0.0029, loss_rpn_bbox: 0.0034, s0.loss_cls: 0.0441, s0.acc: 98.2368, s0.loss_bbox: 0.0353, s1.loss_cls: 0.0195, s1.acc: 98.4158, s1.loss_bbox: 0.0699, s2.loss_cls: 0.0132, s2.acc: 97.9435, s2.loss_bbox: 0.0670, loss: 0.2555\n",
      "2022-02-10 15:40:36,916 - mmdet - INFO - Epoch [6][200/1111]\tlr: 2.109e-03, eta: 3:39:20, time: 0.804, data_time: 0.012, memory: 12464, loss_rpn_cls: 0.0028, loss_rpn_bbox: 0.0034, s0.loss_cls: 0.0467, s0.acc: 98.1079, s0.loss_bbox: 0.0395, s1.loss_cls: 0.0214, s1.acc: 98.3098, s1.loss_bbox: 0.0786, s2.loss_cls: 0.0153, s2.acc: 97.6081, s2.loss_bbox: 0.0734, loss: 0.2812\n",
      "2022-02-10 15:41:57,531 - mmdet - INFO - Epoch [6][300/1111]\tlr: 2.096e-03, eta: 3:38:02, time: 0.806, data_time: 0.012, memory: 12464, loss_rpn_cls: 0.0022, loss_rpn_bbox: 0.0034, s0.loss_cls: 0.0446, s0.acc: 98.1733, s0.loss_bbox: 0.0353, s1.loss_cls: 0.0206, s1.acc: 98.3893, s1.loss_bbox: 0.0730, s2.loss_cls: 0.0143, s2.acc: 97.7829, s2.loss_bbox: 0.0702, loss: 0.2635\n",
      "2022-02-10 15:43:18,055 - mmdet - INFO - Epoch [6][400/1111]\tlr: 2.083e-03, eta: 3:36:44, time: 0.805, data_time: 0.012, memory: 12464, loss_rpn_cls: 0.0023, loss_rpn_bbox: 0.0029, s0.loss_cls: 0.0422, s0.acc: 98.2461, s0.loss_bbox: 0.0356, s1.loss_cls: 0.0182, s1.acc: 98.5535, s1.loss_bbox: 0.0728, s2.loss_cls: 0.0130, s2.acc: 98.0508, s2.loss_bbox: 0.0693, loss: 0.2563\n",
      "2022-02-10 15:44:37,932 - mmdet - INFO - Epoch [6][500/1111]\tlr: 2.069e-03, eta: 3:35:24, time: 0.799, data_time: 0.012, memory: 12464, loss_rpn_cls: 0.0030, loss_rpn_bbox: 0.0032, s0.loss_cls: 0.0432, s0.acc: 98.2261, s0.loss_bbox: 0.0343, s1.loss_cls: 0.0192, s1.acc: 98.4765, s1.loss_bbox: 0.0692, s2.loss_cls: 0.0125, s2.acc: 98.0735, s2.loss_bbox: 0.0669, loss: 0.2516\n",
      "2022-02-10 15:45:58,044 - mmdet - INFO - Epoch [6][600/1111]\tlr: 2.056e-03, eta: 3:34:04, time: 0.801, data_time: 0.012, memory: 12464, loss_rpn_cls: 0.0024, loss_rpn_bbox: 0.0037, s0.loss_cls: 0.0468, s0.acc: 98.0859, s0.loss_bbox: 0.0409, s1.loss_cls: 0.0212, s1.acc: 98.3141, s1.loss_bbox: 0.0823, s2.loss_cls: 0.0158, s2.acc: 97.4700, s2.loss_bbox: 0.0764, loss: 0.2896\n",
      "2022-02-10 15:47:18,610 - mmdet - INFO - Epoch [6][700/1111]\tlr: 2.042e-03, eta: 3:32:46, time: 0.806, data_time: 0.012, memory: 12464, loss_rpn_cls: 0.0027, loss_rpn_bbox: 0.0037, s0.loss_cls: 0.0438, s0.acc: 98.2695, s0.loss_bbox: 0.0357, s1.loss_cls: 0.0193, s1.acc: 98.5209, s1.loss_bbox: 0.0716, s2.loss_cls: 0.0141, s2.acc: 97.8460, s2.loss_bbox: 0.0676, loss: 0.2586\n",
      "2022-02-10 15:48:39,605 - mmdet - INFO - Epoch [6][800/1111]\tlr: 2.029e-03, eta: 3:31:28, time: 0.810, data_time: 0.012, memory: 12464, loss_rpn_cls: 0.0017, loss_rpn_bbox: 0.0027, s0.loss_cls: 0.0391, s0.acc: 98.4058, s0.loss_bbox: 0.0315, s1.loss_cls: 0.0177, s1.acc: 98.5947, s1.loss_bbox: 0.0650, s2.loss_cls: 0.0127, s2.acc: 98.0863, s2.loss_bbox: 0.0640, loss: 0.2344\n",
      "2022-02-10 15:50:00,217 - mmdet - INFO - Epoch [6][900/1111]\tlr: 2.015e-03, eta: 3:30:10, time: 0.806, data_time: 0.012, memory: 12464, loss_rpn_cls: 0.0023, loss_rpn_bbox: 0.0032, s0.loss_cls: 0.0427, s0.acc: 98.2344, s0.loss_bbox: 0.0349, s1.loss_cls: 0.0178, s1.acc: 98.5872, s1.loss_bbox: 0.0697, s2.loss_cls: 0.0121, s2.acc: 98.0967, s2.loss_bbox: 0.0671, loss: 0.2497\n",
      "2022-02-10 15:51:21,259 - mmdet - INFO - Epoch [6][1000/1111]\tlr: 2.001e-03, eta: 3:28:52, time: 0.810, data_time: 0.012, memory: 12464, loss_rpn_cls: 0.0027, loss_rpn_bbox: 0.0032, s0.loss_cls: 0.0429, s0.acc: 98.2393, s0.loss_bbox: 0.0347, s1.loss_cls: 0.0186, s1.acc: 98.5463, s1.loss_bbox: 0.0704, s2.loss_cls: 0.0129, s2.acc: 98.0492, s2.loss_bbox: 0.0677, loss: 0.2530\n",
      "2022-02-10 15:52:42,244 - mmdet - INFO - Epoch [6][1100/1111]\tlr: 1.986e-03, eta: 3:27:35, time: 0.810, data_time: 0.012, memory: 12464, loss_rpn_cls: 0.0023, loss_rpn_bbox: 0.0032, s0.loss_cls: 0.0441, s0.acc: 98.2036, s0.loss_bbox: 0.0358, s1.loss_cls: 0.0205, s1.acc: 98.4115, s1.loss_bbox: 0.0728, s2.loss_cls: 0.0147, s2.acc: 97.6959, s2.loss_bbox: 0.0669, loss: 0.2603\n",
      "2022-02-10 15:52:51,144 - mmdet - INFO - Saving checkpoint at 6 epochs\n"
     ]
    },
    {
     "name": "stdout",
     "output_type": "stream",
     "text": [
      "[>>>>>>>>>>>>>>>>>>>>>>>>>>] 2274/2274, 13.1 task/s, elapsed: 173s, ETA:     0s"
     ]
    },
    {
     "name": "stderr",
     "output_type": "stream",
     "text": [
      "2022-02-10 15:55:45,925 - mmdet - INFO - Evaluating bbox...\n"
     ]
    },
    {
     "name": "stdout",
     "output_type": "stream",
     "text": [
      "Loading and preparing results...\n",
      "DONE (t=0.00s)\n",
      "creating index...\n",
      "index created!\n",
      "Running per image evaluation...\n",
      "Evaluate annotation type *bbox*\n"
     ]
    },
    {
     "name": "stderr",
     "output_type": "stream",
     "text": [
      "2022-02-10 15:55:46,628 - mmdet - INFO - \n",
      " Average Precision  (AP) @[ IoU=0.50:0.95 | area=   all | maxDets=100 ] = 0.199\n",
      " Average Precision  (AP) @[ IoU=0.50      | area=   all | maxDets=1000 ] = 0.479\n",
      " Average Precision  (AP) @[ IoU=0.75      | area=   all | maxDets=1000 ] = 0.118\n",
      " Average Precision  (AP) @[ IoU=0.50:0.95 | area= small | maxDets=1000 ] = 0.004\n",
      " Average Precision  (AP) @[ IoU=0.50:0.95 | area=medium | maxDets=1000 ] = 0.242\n",
      " Average Precision  (AP) @[ IoU=0.50:0.95 | area= large | maxDets=1000 ] = -1.000\n",
      " Average Recall     (AR) @[ IoU=0.50:0.95 | area=   all | maxDets=100 ] = 0.271\n",
      " Average Recall     (AR) @[ IoU=0.50:0.95 | area=   all | maxDets=300 ] = 0.271\n",
      " Average Recall     (AR) @[ IoU=0.50:0.95 | area=   all | maxDets=1000 ] = 0.271\n",
      " Average Recall     (AR) @[ IoU=0.50:0.95 | area= small | maxDets=1000 ] = 0.023\n",
      " Average Recall     (AR) @[ IoU=0.50:0.95 | area=medium | maxDets=1000 ] = 0.323\n",
      " Average Recall     (AR) @[ IoU=0.50:0.95 | area= large | maxDets=1000 ] = -1.000\n",
      "\n",
      "2022-02-10 15:55:46,636 - mmdet - INFO - Epoch(val) [6][2274]\tbbox_mAP: 0.1990, bbox_mAP_50: 0.4790, bbox_mAP_75: 0.1180, bbox_mAP_s: 0.0040, bbox_mAP_m: 0.2420, bbox_mAP_l: -1.0000, bbox_mAP_copypaste: 0.199 0.479 0.118 0.004 0.242 -1.000\n"
     ]
    },
    {
     "name": "stdout",
     "output_type": "stream",
     "text": [
      "DONE (t=0.59s).\n",
      "Accumulating evaluation results...\n",
      "DONE (t=0.10s).\n"
     ]
    },
    {
     "name": "stderr",
     "output_type": "stream",
     "text": [
      "2022-02-10 15:57:09,756 - mmdet - INFO - Epoch [7][100/1111]\tlr: 1.971e-03, eta: 3:25:53, time: 0.831, data_time: 0.037, memory: 12464, loss_rpn_cls: 0.0016, loss_rpn_bbox: 0.0028, s0.loss_cls: 0.0360, s0.acc: 98.5371, s0.loss_bbox: 0.0295, s1.loss_cls: 0.0161, s1.acc: 98.7483, s1.loss_bbox: 0.0634, s2.loss_cls: 0.0110, s2.acc: 98.3722, s2.loss_bbox: 0.0628, loss: 0.2233\n",
      "2022-02-10 15:58:29,995 - mmdet - INFO - Epoch [7][200/1111]\tlr: 1.956e-03, eta: 3:24:34, time: 0.802, data_time: 0.012, memory: 12464, loss_rpn_cls: 0.0021, loss_rpn_bbox: 0.0034, s0.loss_cls: 0.0415, s0.acc: 98.2764, s0.loss_bbox: 0.0333, s1.loss_cls: 0.0181, s1.acc: 98.5496, s1.loss_bbox: 0.0681, s2.loss_cls: 0.0132, s2.acc: 97.9165, s2.loss_bbox: 0.0656, loss: 0.2453\n",
      "2022-02-10 15:59:50,618 - mmdet - INFO - Epoch [7][300/1111]\tlr: 1.941e-03, eta: 3:23:15, time: 0.806, data_time: 0.012, memory: 12464, loss_rpn_cls: 0.0019, loss_rpn_bbox: 0.0028, s0.loss_cls: 0.0403, s0.acc: 98.3911, s0.loss_bbox: 0.0303, s1.loss_cls: 0.0173, s1.acc: 98.6525, s1.loss_bbox: 0.0625, s2.loss_cls: 0.0112, s2.acc: 98.2703, s2.loss_bbox: 0.0620, loss: 0.2283\n",
      "2022-02-10 16:01:11,179 - mmdet - INFO - Epoch [7][400/1111]\tlr: 1.927e-03, eta: 3:21:57, time: 0.806, data_time: 0.012, memory: 12464, loss_rpn_cls: 0.0017, loss_rpn_bbox: 0.0028, s0.loss_cls: 0.0383, s0.acc: 98.4199, s0.loss_bbox: 0.0311, s1.loss_cls: 0.0169, s1.acc: 98.7002, s1.loss_bbox: 0.0634, s2.loss_cls: 0.0113, s2.acc: 98.2231, s2.loss_bbox: 0.0603, loss: 0.2259\n",
      "2022-02-10 16:02:32,156 - mmdet - INFO - Epoch [7][500/1111]\tlr: 1.912e-03, eta: 3:20:39, time: 0.810, data_time: 0.012, memory: 12464, loss_rpn_cls: 0.0014, loss_rpn_bbox: 0.0030, s0.loss_cls: 0.0361, s0.acc: 98.5127, s0.loss_bbox: 0.0287, s1.loss_cls: 0.0157, s1.acc: 98.7681, s1.loss_bbox: 0.0594, s2.loss_cls: 0.0110, s2.acc: 98.3503, s2.loss_bbox: 0.0579, loss: 0.2133\n",
      "2022-02-10 16:03:52,910 - mmdet - INFO - Epoch [7][600/1111]\tlr: 1.897e-03, eta: 3:19:20, time: 0.808, data_time: 0.012, memory: 12464, loss_rpn_cls: 0.0016, loss_rpn_bbox: 0.0027, s0.loss_cls: 0.0338, s0.acc: 98.6040, s0.loss_bbox: 0.0278, s1.loss_cls: 0.0150, s1.acc: 98.7942, s1.loss_bbox: 0.0601, s2.loss_cls: 0.0104, s2.acc: 98.3769, s2.loss_bbox: 0.0603, loss: 0.2116\n",
      "2022-02-10 16:05:13,274 - mmdet - INFO - Epoch [7][700/1111]\tlr: 1.881e-03, eta: 3:18:01, time: 0.804, data_time: 0.012, memory: 12464, loss_rpn_cls: 0.0011, loss_rpn_bbox: 0.0027, s0.loss_cls: 0.0351, s0.acc: 98.5830, s0.loss_bbox: 0.0286, s1.loss_cls: 0.0155, s1.acc: 98.7742, s1.loss_bbox: 0.0617, s2.loss_cls: 0.0117, s2.acc: 98.2557, s2.loss_bbox: 0.0611, loss: 0.2176\n",
      "2022-02-10 16:06:33,844 - mmdet - INFO - Epoch [7][800/1111]\tlr: 1.866e-03, eta: 3:16:42, time: 0.806, data_time: 0.012, memory: 12464, loss_rpn_cls: 0.0016, loss_rpn_bbox: 0.0028, s0.loss_cls: 0.0374, s0.acc: 98.4482, s0.loss_bbox: 0.0290, s1.loss_cls: 0.0158, s1.acc: 98.7237, s1.loss_bbox: 0.0623, s2.loss_cls: 0.0109, s2.acc: 98.3061, s2.loss_bbox: 0.0622, loss: 0.2220\n",
      "2022-02-10 16:07:54,461 - mmdet - INFO - Epoch [7][900/1111]\tlr: 1.851e-03, eta: 3:15:23, time: 0.806, data_time: 0.012, memory: 12464, loss_rpn_cls: 0.0018, loss_rpn_bbox: 0.0030, s0.loss_cls: 0.0390, s0.acc: 98.4375, s0.loss_bbox: 0.0298, s1.loss_cls: 0.0162, s1.acc: 98.7338, s1.loss_bbox: 0.0625, s2.loss_cls: 0.0109, s2.acc: 98.3385, s2.loss_bbox: 0.0622, loss: 0.2254\n",
      "2022-02-10 16:09:15,473 - mmdet - INFO - Epoch [7][1000/1111]\tlr: 1.835e-03, eta: 3:14:05, time: 0.810, data_time: 0.012, memory: 12464, loss_rpn_cls: 0.0021, loss_rpn_bbox: 0.0029, s0.loss_cls: 0.0385, s0.acc: 98.4258, s0.loss_bbox: 0.0318, s1.loss_cls: 0.0167, s1.acc: 98.6711, s1.loss_bbox: 0.0662, s2.loss_cls: 0.0124, s2.acc: 98.1391, s2.loss_bbox: 0.0648, loss: 0.2353\n",
      "2022-02-10 16:10:35,752 - mmdet - INFO - Epoch [7][1100/1111]\tlr: 1.819e-03, eta: 3:12:46, time: 0.803, data_time: 0.012, memory: 12464, loss_rpn_cls: 0.0019, loss_rpn_bbox: 0.0029, s0.loss_cls: 0.0430, s0.acc: 98.2202, s0.loss_bbox: 0.0347, s1.loss_cls: 0.0181, s1.acc: 98.5725, s1.loss_bbox: 0.0702, s2.loss_cls: 0.0128, s2.acc: 98.0521, s2.loss_bbox: 0.0669, loss: 0.2505\n",
      "2022-02-10 16:10:44,644 - mmdet - INFO - Saving checkpoint at 7 epochs\n"
     ]
    },
    {
     "name": "stdout",
     "output_type": "stream",
     "text": [
      "[>>>>>>>>>>>>>>>>>>>>>>>>>>] 2274/2274, 13.1 task/s, elapsed: 174s, ETA:     0s"
     ]
    },
    {
     "name": "stderr",
     "output_type": "stream",
     "text": [
      "2022-02-10 16:13:40,338 - mmdet - INFO - Evaluating bbox...\n"
     ]
    },
    {
     "name": "stdout",
     "output_type": "stream",
     "text": [
      "Loading and preparing results...\n",
      "DONE (t=0.00s)\n",
      "creating index...\n",
      "index created!\n",
      "Running per image evaluation...\n",
      "Evaluate annotation type *bbox*\n"
     ]
    },
    {
     "name": "stderr",
     "output_type": "stream",
     "text": [
      "2022-02-10 16:13:41,085 - mmdet - INFO - \n",
      " Average Precision  (AP) @[ IoU=0.50:0.95 | area=   all | maxDets=100 ] = 0.195\n",
      " Average Precision  (AP) @[ IoU=0.50      | area=   all | maxDets=1000 ] = 0.447\n",
      " Average Precision  (AP) @[ IoU=0.75      | area=   all | maxDets=1000 ] = 0.123\n",
      " Average Precision  (AP) @[ IoU=0.50:0.95 | area= small | maxDets=1000 ] = 0.003\n",
      " Average Precision  (AP) @[ IoU=0.50:0.95 | area=medium | maxDets=1000 ] = 0.241\n",
      " Average Precision  (AP) @[ IoU=0.50:0.95 | area= large | maxDets=1000 ] = -1.000\n",
      " Average Recall     (AR) @[ IoU=0.50:0.95 | area=   all | maxDets=100 ] = 0.262\n",
      " Average Recall     (AR) @[ IoU=0.50:0.95 | area=   all | maxDets=300 ] = 0.262\n",
      " Average Recall     (AR) @[ IoU=0.50:0.95 | area=   all | maxDets=1000 ] = 0.262\n",
      " Average Recall     (AR) @[ IoU=0.50:0.95 | area= small | maxDets=1000 ] = 0.035\n",
      " Average Recall     (AR) @[ IoU=0.50:0.95 | area=medium | maxDets=1000 ] = 0.309\n",
      " Average Recall     (AR) @[ IoU=0.50:0.95 | area= large | maxDets=1000 ] = -1.000\n",
      "\n",
      "2022-02-10 16:13:41,094 - mmdet - INFO - Epoch(val) [7][2274]\tbbox_mAP: 0.1950, bbox_mAP_50: 0.4470, bbox_mAP_75: 0.1230, bbox_mAP_s: 0.0030, bbox_mAP_m: 0.2410, bbox_mAP_l: -1.0000, bbox_mAP_copypaste: 0.195 0.447 0.123 0.003 0.241 -1.000\n"
     ]
    },
    {
     "name": "stdout",
     "output_type": "stream",
     "text": [
      "DONE (t=0.64s).\n",
      "Accumulating evaluation results...\n",
      "DONE (t=0.09s).\n"
     ]
    },
    {
     "name": "stderr",
     "output_type": "stream",
     "text": [
      "2022-02-10 16:15:03,961 - mmdet - INFO - Epoch [8][100/1111]\tlr: 1.802e-03, eta: 3:11:06, time: 0.828, data_time: 0.037, memory: 12464, loss_rpn_cls: 0.0022, loss_rpn_bbox: 0.0028, s0.loss_cls: 0.0387, s0.acc: 98.3970, s0.loss_bbox: 0.0309, s1.loss_cls: 0.0165, s1.acc: 98.6692, s1.loss_bbox: 0.0613, s2.loss_cls: 0.0105, s2.acc: 98.3927, s2.loss_bbox: 0.0602, loss: 0.2230\n",
      "2022-02-10 16:16:24,515 - mmdet - INFO - Epoch [8][200/1111]\tlr: 1.786e-03, eta: 3:09:47, time: 0.806, data_time: 0.012, memory: 12464, loss_rpn_cls: 0.0015, loss_rpn_bbox: 0.0026, s0.loss_cls: 0.0351, s0.acc: 98.5571, s0.loss_bbox: 0.0270, s1.loss_cls: 0.0138, s1.acc: 98.9247, s1.loss_bbox: 0.0568, s2.loss_cls: 0.0089, s2.acc: 98.6772, s2.loss_bbox: 0.0571, loss: 0.2028\n",
      "2022-02-10 16:17:45,118 - mmdet - INFO - Epoch [8][300/1111]\tlr: 1.770e-03, eta: 3:08:28, time: 0.806, data_time: 0.012, memory: 12464, loss_rpn_cls: 0.0015, loss_rpn_bbox: 0.0025, s0.loss_cls: 0.0354, s0.acc: 98.5615, s0.loss_bbox: 0.0273, s1.loss_cls: 0.0147, s1.acc: 98.8404, s1.loss_bbox: 0.0562, s2.loss_cls: 0.0094, s2.acc: 98.5746, s2.loss_bbox: 0.0565, loss: 0.2036\n",
      "2022-02-10 16:19:05,918 - mmdet - INFO - Epoch [8][400/1111]\tlr: 1.754e-03, eta: 3:07:10, time: 0.808, data_time: 0.012, memory: 12464, loss_rpn_cls: 0.0014, loss_rpn_bbox: 0.0031, s0.loss_cls: 0.0383, s0.acc: 98.4160, s0.loss_bbox: 0.0288, s1.loss_cls: 0.0154, s1.acc: 98.7892, s1.loss_bbox: 0.0605, s2.loss_cls: 0.0111, s2.acc: 98.4089, s2.loss_bbox: 0.0592, loss: 0.2177\n",
      "2022-02-10 16:20:26,701 - mmdet - INFO - Epoch [8][500/1111]\tlr: 1.738e-03, eta: 3:05:51, time: 0.808, data_time: 0.012, memory: 12464, loss_rpn_cls: 0.0012, loss_rpn_bbox: 0.0023, s0.loss_cls: 0.0322, s0.acc: 98.6743, s0.loss_bbox: 0.0244, s1.loss_cls: 0.0133, s1.acc: 98.9505, s1.loss_bbox: 0.0526, s2.loss_cls: 0.0090, s2.acc: 98.6723, s2.loss_bbox: 0.0540, loss: 0.1890\n",
      "2022-02-10 16:21:47,097 - mmdet - INFO - Epoch [8][600/1111]\tlr: 1.721e-03, eta: 3:04:32, time: 0.804, data_time: 0.012, memory: 12464, loss_rpn_cls: 0.0014, loss_rpn_bbox: 0.0025, s0.loss_cls: 0.0353, s0.acc: 98.5708, s0.loss_bbox: 0.0270, s1.loss_cls: 0.0160, s1.acc: 98.7517, s1.loss_bbox: 0.0593, s2.loss_cls: 0.0108, s2.acc: 98.3894, s2.loss_bbox: 0.0604, loss: 0.2127\n",
      "2022-02-10 16:23:07,676 - mmdet - INFO - Epoch [8][700/1111]\tlr: 1.705e-03, eta: 3:03:13, time: 0.806, data_time: 0.012, memory: 12464, loss_rpn_cls: 0.0012, loss_rpn_bbox: 0.0023, s0.loss_cls: 0.0345, s0.acc: 98.5537, s0.loss_bbox: 0.0268, s1.loss_cls: 0.0157, s1.acc: 98.7215, s1.loss_bbox: 0.0564, s2.loss_cls: 0.0105, s2.acc: 98.3681, s2.loss_bbox: 0.0569, loss: 0.2041\n",
      "2022-02-10 16:24:28,086 - mmdet - INFO - Epoch [8][800/1111]\tlr: 1.688e-03, eta: 3:01:54, time: 0.804, data_time: 0.012, memory: 12464, loss_rpn_cls: 0.0010, loss_rpn_bbox: 0.0026, s0.loss_cls: 0.0334, s0.acc: 98.6045, s0.loss_bbox: 0.0267, s1.loss_cls: 0.0141, s1.acc: 98.8374, s1.loss_bbox: 0.0567, s2.loss_cls: 0.0095, s2.acc: 98.5424, s2.loss_bbox: 0.0583, loss: 0.2023\n",
      "2022-02-10 16:25:48,950 - mmdet - INFO - Epoch [8][900/1111]\tlr: 1.672e-03, eta: 3:00:35, time: 0.809, data_time: 0.012, memory: 12464, loss_rpn_cls: 0.0011, loss_rpn_bbox: 0.0022, s0.loss_cls: 0.0308, s0.acc: 98.7031, s0.loss_bbox: 0.0242, s1.loss_cls: 0.0126, s1.acc: 98.9985, s1.loss_bbox: 0.0524, s2.loss_cls: 0.0094, s2.acc: 98.6343, s2.loss_bbox: 0.0535, loss: 0.1861\n",
      "2022-02-10 16:27:09,632 - mmdet - INFO - Epoch [8][1000/1111]\tlr: 1.655e-03, eta: 2:59:16, time: 0.807, data_time: 0.012, memory: 12464, loss_rpn_cls: 0.0014, loss_rpn_bbox: 0.0026, s0.loss_cls: 0.0353, s0.acc: 98.5220, s0.loss_bbox: 0.0276, s1.loss_cls: 0.0145, s1.acc: 98.8470, s1.loss_bbox: 0.0587, s2.loss_cls: 0.0101, s2.acc: 98.5034, s2.loss_bbox: 0.0598, loss: 0.2101\n",
      "2022-02-10 16:28:30,330 - mmdet - INFO - Epoch [8][1100/1111]\tlr: 1.638e-03, eta: 2:57:57, time: 0.807, data_time: 0.012, memory: 12464, loss_rpn_cls: 0.0016, loss_rpn_bbox: 0.0027, s0.loss_cls: 0.0369, s0.acc: 98.5127, s0.loss_bbox: 0.0287, s1.loss_cls: 0.0160, s1.acc: 98.7537, s1.loss_bbox: 0.0589, s2.loss_cls: 0.0110, s2.acc: 98.3589, s2.loss_bbox: 0.0573, loss: 0.2131\n",
      "2022-02-10 16:28:39,222 - mmdet - INFO - Saving checkpoint at 8 epochs\n"
     ]
    },
    {
     "name": "stdout",
     "output_type": "stream",
     "text": [
      "[>>>>>>>>>>>>>>>>>>>>>>>>>>] 2274/2274, 13.2 task/s, elapsed: 173s, ETA:     0s"
     ]
    },
    {
     "name": "stderr",
     "output_type": "stream",
     "text": [
      "2022-02-10 16:31:33,546 - mmdet - INFO - Evaluating bbox...\n"
     ]
    },
    {
     "name": "stdout",
     "output_type": "stream",
     "text": [
      "Loading and preparing results...\n",
      "DONE (t=0.00s)\n",
      "creating index...\n",
      "index created!\n",
      "Running per image evaluation...\n",
      "Evaluate annotation type *bbox*\n"
     ]
    },
    {
     "name": "stderr",
     "output_type": "stream",
     "text": [
      "2022-02-10 16:31:34,100 - mmdet - INFO - \n",
      " Average Precision  (AP) @[ IoU=0.50:0.95 | area=   all | maxDets=100 ] = 0.164\n",
      " Average Precision  (AP) @[ IoU=0.50      | area=   all | maxDets=1000 ] = 0.380\n",
      " Average Precision  (AP) @[ IoU=0.75      | area=   all | maxDets=1000 ] = 0.107\n",
      " Average Precision  (AP) @[ IoU=0.50:0.95 | area= small | maxDets=1000 ] = 0.000\n",
      " Average Precision  (AP) @[ IoU=0.50:0.95 | area=medium | maxDets=1000 ] = 0.202\n",
      " Average Precision  (AP) @[ IoU=0.50:0.95 | area= large | maxDets=1000 ] = -1.000\n",
      " Average Recall     (AR) @[ IoU=0.50:0.95 | area=   all | maxDets=100 ] = 0.212\n",
      " Average Recall     (AR) @[ IoU=0.50:0.95 | area=   all | maxDets=300 ] = 0.212\n",
      " Average Recall     (AR) @[ IoU=0.50:0.95 | area=   all | maxDets=1000 ] = 0.212\n",
      " Average Recall     (AR) @[ IoU=0.50:0.95 | area= small | maxDets=1000 ] = 0.010\n",
      " Average Recall     (AR) @[ IoU=0.50:0.95 | area=medium | maxDets=1000 ] = 0.254\n",
      " Average Recall     (AR) @[ IoU=0.50:0.95 | area= large | maxDets=1000 ] = -1.000\n",
      "\n",
      "2022-02-10 16:31:34,109 - mmdet - INFO - Epoch(val) [8][2274]\tbbox_mAP: 0.1640, bbox_mAP_50: 0.3800, bbox_mAP_75: 0.1070, bbox_mAP_s: 0.0000, bbox_mAP_m: 0.2020, bbox_mAP_l: -1.0000, bbox_mAP_copypaste: 0.164 0.380 0.107 0.000 0.202 -1.000\n"
     ]
    },
    {
     "name": "stdout",
     "output_type": "stream",
     "text": [
      "DONE (t=0.47s).\n",
      "Accumulating evaluation results...\n",
      "DONE (t=0.08s).\n"
     ]
    },
    {
     "name": "stderr",
     "output_type": "stream",
     "text": [
      "2022-02-10 16:32:56,978 - mmdet - INFO - Epoch [9][100/1111]\tlr: 1.620e-03, eta: 2:56:19, time: 0.828, data_time: 0.037, memory: 12464, loss_rpn_cls: 0.0010, loss_rpn_bbox: 0.0025, s0.loss_cls: 0.0342, s0.acc: 98.5952, s0.loss_bbox: 0.0262, s1.loss_cls: 0.0133, s1.acc: 98.9634, s1.loss_bbox: 0.0530, s2.loss_cls: 0.0093, s2.acc: 98.6556, s2.loss_bbox: 0.0519, loss: 0.1914\n",
      "2022-02-10 16:34:17,841 - mmdet - INFO - Epoch [9][200/1111]\tlr: 1.603e-03, eta: 2:55:01, time: 0.809, data_time: 0.012, memory: 12464, loss_rpn_cls: 0.0009, loss_rpn_bbox: 0.0020, s0.loss_cls: 0.0286, s0.acc: 98.8262, s0.loss_bbox: 0.0209, s1.loss_cls: 0.0116, s1.acc: 99.0529, s1.loss_bbox: 0.0459, s2.loss_cls: 0.0084, s2.acc: 98.7571, s2.loss_bbox: 0.0472, loss: 0.1655\n",
      "2022-02-10 16:35:38,589 - mmdet - INFO - Epoch [9][300/1111]\tlr: 1.586e-03, eta: 2:53:42, time: 0.807, data_time: 0.012, memory: 12464, loss_rpn_cls: 0.0010, loss_rpn_bbox: 0.0023, s0.loss_cls: 0.0322, s0.acc: 98.6978, s0.loss_bbox: 0.0237, s1.loss_cls: 0.0132, s1.acc: 98.9558, s1.loss_bbox: 0.0503, s2.loss_cls: 0.0085, s2.acc: 98.7154, s2.loss_bbox: 0.0505, loss: 0.1817\n",
      "2022-02-10 16:36:59,045 - mmdet - INFO - Epoch [9][400/1111]\tlr: 1.569e-03, eta: 2:52:23, time: 0.805, data_time: 0.012, memory: 12464, loss_rpn_cls: 0.0010, loss_rpn_bbox: 0.0022, s0.loss_cls: 0.0328, s0.acc: 98.6562, s0.loss_bbox: 0.0247, s1.loss_cls: 0.0133, s1.acc: 98.9196, s1.loss_bbox: 0.0519, s2.loss_cls: 0.0088, s2.acc: 98.7056, s2.loss_bbox: 0.0534, loss: 0.1880\n",
      "2022-02-10 16:38:19,748 - mmdet - INFO - Epoch [9][500/1111]\tlr: 1.552e-03, eta: 2:51:04, time: 0.807, data_time: 0.012, memory: 12464, loss_rpn_cls: 0.0017, loss_rpn_bbox: 0.0023, s0.loss_cls: 0.0325, s0.acc: 98.6523, s0.loss_bbox: 0.0236, s1.loss_cls: 0.0131, s1.acc: 98.9809, s1.loss_bbox: 0.0503, s2.loss_cls: 0.0083, s2.acc: 98.7344, s2.loss_bbox: 0.0510, loss: 0.1829\n",
      "2022-02-10 16:39:40,105 - mmdet - INFO - Epoch [9][600/1111]\tlr: 1.534e-03, eta: 2:49:44, time: 0.804, data_time: 0.012, memory: 12464, loss_rpn_cls: 0.0013, loss_rpn_bbox: 0.0020, s0.loss_cls: 0.0313, s0.acc: 98.7168, s0.loss_bbox: 0.0235, s1.loss_cls: 0.0117, s1.acc: 99.0455, s1.loss_bbox: 0.0496, s2.loss_cls: 0.0076, s2.acc: 98.8554, s2.loss_bbox: 0.0506, loss: 0.1776\n",
      "2022-02-10 16:41:00,932 - mmdet - INFO - Epoch [9][700/1111]\tlr: 1.517e-03, eta: 2:48:25, time: 0.808, data_time: 0.013, memory: 12464, loss_rpn_cls: 0.0013, loss_rpn_bbox: 0.0026, s0.loss_cls: 0.0347, s0.acc: 98.5811, s0.loss_bbox: 0.0255, s1.loss_cls: 0.0131, s1.acc: 98.9524, s1.loss_bbox: 0.0519, s2.loss_cls: 0.0085, s2.acc: 98.7386, s2.loss_bbox: 0.0501, loss: 0.1876\n",
      "2022-02-10 16:42:21,239 - mmdet - INFO - Epoch [9][800/1111]\tlr: 1.500e-03, eta: 2:47:06, time: 0.803, data_time: 0.012, memory: 12464, loss_rpn_cls: 0.0008, loss_rpn_bbox: 0.0019, s0.loss_cls: 0.0302, s0.acc: 98.7559, s0.loss_bbox: 0.0219, s1.loss_cls: 0.0118, s1.acc: 99.0751, s1.loss_bbox: 0.0491, s2.loss_cls: 0.0078, s2.acc: 98.8508, s2.loss_bbox: 0.0507, loss: 0.1743\n",
      "2022-02-10 16:43:42,003 - mmdet - INFO - Epoch [9][900/1111]\tlr: 1.482e-03, eta: 2:45:47, time: 0.808, data_time: 0.012, memory: 12464, loss_rpn_cls: 0.0009, loss_rpn_bbox: 0.0026, s0.loss_cls: 0.0319, s0.acc: 98.6841, s0.loss_bbox: 0.0248, s1.loss_cls: 0.0127, s1.acc: 98.9706, s1.loss_bbox: 0.0512, s2.loss_cls: 0.0081, s2.acc: 98.7562, s2.loss_bbox: 0.0530, loss: 0.1853\n",
      "2022-02-10 16:45:02,375 - mmdet - INFO - Epoch [9][1000/1111]\tlr: 1.465e-03, eta: 2:44:27, time: 0.804, data_time: 0.012, memory: 12464, loss_rpn_cls: 0.0013, loss_rpn_bbox: 0.0023, s0.loss_cls: 0.0303, s0.acc: 98.7734, s0.loss_bbox: 0.0231, s1.loss_cls: 0.0120, s1.acc: 99.0414, s1.loss_bbox: 0.0478, s2.loss_cls: 0.0074, s2.acc: 98.8605, s2.loss_bbox: 0.0496, loss: 0.1739\n",
      "2022-02-10 16:46:22,851 - mmdet - INFO - Epoch [9][1100/1111]\tlr: 1.448e-03, eta: 2:43:08, time: 0.805, data_time: 0.013, memory: 12464, loss_rpn_cls: 0.0009, loss_rpn_bbox: 0.0024, s0.loss_cls: 0.0319, s0.acc: 98.6836, s0.loss_bbox: 0.0236, s1.loss_cls: 0.0125, s1.acc: 99.0411, s1.loss_bbox: 0.0500, s2.loss_cls: 0.0077, s2.acc: 98.8520, s2.loss_bbox: 0.0495, loss: 0.1785\n",
      "2022-02-10 16:46:31,674 - mmdet - INFO - Saving checkpoint at 9 epochs\n"
     ]
    },
    {
     "name": "stdout",
     "output_type": "stream",
     "text": [
      "[>>>>>>>>>>>>>>>>>>>>>>>>>>] 2274/2274, 13.1 task/s, elapsed: 174s, ETA:     0s"
     ]
    },
    {
     "name": "stderr",
     "output_type": "stream",
     "text": [
      "2022-02-10 16:49:26,939 - mmdet - INFO - Evaluating bbox...\n"
     ]
    },
    {
     "name": "stdout",
     "output_type": "stream",
     "text": [
      "Loading and preparing results...\n",
      "DONE (t=0.00s)\n",
      "creating index...\n",
      "index created!\n",
      "Running per image evaluation...\n",
      "Evaluate annotation type *bbox*\n"
     ]
    },
    {
     "name": "stderr",
     "output_type": "stream",
     "text": [
      "2022-02-10 16:49:27,454 - mmdet - INFO - \n",
      " Average Precision  (AP) @[ IoU=0.50:0.95 | area=   all | maxDets=100 ] = 0.187\n",
      " Average Precision  (AP) @[ IoU=0.50      | area=   all | maxDets=1000 ] = 0.405\n",
      " Average Precision  (AP) @[ IoU=0.75      | area=   all | maxDets=1000 ] = 0.146\n",
      " Average Precision  (AP) @[ IoU=0.50:0.95 | area= small | maxDets=1000 ] = 0.001\n",
      " Average Precision  (AP) @[ IoU=0.50:0.95 | area=medium | maxDets=1000 ] = 0.230\n",
      " Average Precision  (AP) @[ IoU=0.50:0.95 | area= large | maxDets=1000 ] = -1.000\n",
      " Average Recall     (AR) @[ IoU=0.50:0.95 | area=   all | maxDets=100 ] = 0.238\n",
      " Average Recall     (AR) @[ IoU=0.50:0.95 | area=   all | maxDets=300 ] = 0.238\n",
      " Average Recall     (AR) @[ IoU=0.50:0.95 | area=   all | maxDets=1000 ] = 0.238\n",
      " Average Recall     (AR) @[ IoU=0.50:0.95 | area= small | maxDets=1000 ] = 0.010\n",
      " Average Recall     (AR) @[ IoU=0.50:0.95 | area=medium | maxDets=1000 ] = 0.286\n",
      " Average Recall     (AR) @[ IoU=0.50:0.95 | area= large | maxDets=1000 ] = -1.000\n",
      "\n",
      "2022-02-10 16:49:27,460 - mmdet - INFO - Epoch(val) [9][2274]\tbbox_mAP: 0.1870, bbox_mAP_50: 0.4050, bbox_mAP_75: 0.1460, bbox_mAP_s: 0.0010, bbox_mAP_m: 0.2300, bbox_mAP_l: -1.0000, bbox_mAP_copypaste: 0.187 0.405 0.146 0.001 0.230 -1.000\n"
     ]
    },
    {
     "name": "stdout",
     "output_type": "stream",
     "text": [
      "DONE (t=0.44s).\n",
      "Accumulating evaluation results...\n",
      "DONE (t=0.07s).\n"
     ]
    },
    {
     "name": "stderr",
     "output_type": "stream",
     "text": [
      "2022-02-10 16:50:49,954 - mmdet - INFO - Epoch [10][100/1111]\tlr: 1.428e-03, eta: 2:41:31, time: 0.825, data_time: 0.037, memory: 12464, loss_rpn_cls: 0.0010, loss_rpn_bbox: 0.0022, s0.loss_cls: 0.0294, s0.acc: 98.7979, s0.loss_bbox: 0.0218, s1.loss_cls: 0.0115, s1.acc: 99.0839, s1.loss_bbox: 0.0462, s2.loss_cls: 0.0072, s2.acc: 98.9563, s2.loss_bbox: 0.0474, loss: 0.1667\n",
      "2022-02-10 16:52:10,061 - mmdet - INFO - Epoch [10][200/1111]\tlr: 1.411e-03, eta: 2:40:11, time: 0.801, data_time: 0.012, memory: 12464, loss_rpn_cls: 0.0013, loss_rpn_bbox: 0.0021, s0.loss_cls: 0.0289, s0.acc: 98.8145, s0.loss_bbox: 0.0202, s1.loss_cls: 0.0103, s1.acc: 99.1947, s1.loss_bbox: 0.0421, s2.loss_cls: 0.0065, s2.acc: 99.0671, s2.loss_bbox: 0.0427, loss: 0.1542\n",
      "2022-02-10 16:53:29,869 - mmdet - INFO - Epoch [10][300/1111]\tlr: 1.393e-03, eta: 2:38:51, time: 0.798, data_time: 0.012, memory: 12464, loss_rpn_cls: 0.0007, loss_rpn_bbox: 0.0020, s0.loss_cls: 0.0283, s0.acc: 98.8535, s0.loss_bbox: 0.0213, s1.loss_cls: 0.0116, s1.acc: 99.0720, s1.loss_bbox: 0.0436, s2.loss_cls: 0.0066, s2.acc: 99.0193, s2.loss_bbox: 0.0454, loss: 0.1596\n",
      "2022-02-10 16:54:49,725 - mmdet - INFO - Epoch [10][400/1111]\tlr: 1.376e-03, eta: 2:37:31, time: 0.799, data_time: 0.012, memory: 12464, loss_rpn_cls: 0.0013, loss_rpn_bbox: 0.0023, s0.loss_cls: 0.0323, s0.acc: 98.6768, s0.loss_bbox: 0.0222, s1.loss_cls: 0.0130, s1.acc: 99.0055, s1.loss_bbox: 0.0459, s2.loss_cls: 0.0082, s2.acc: 98.8105, s2.loss_bbox: 0.0466, loss: 0.1719\n",
      "2022-02-10 16:56:09,838 - mmdet - INFO - Epoch [10][500/1111]\tlr: 1.358e-03, eta: 2:36:11, time: 0.801, data_time: 0.012, memory: 12464, loss_rpn_cls: 0.0008, loss_rpn_bbox: 0.0022, s0.loss_cls: 0.0293, s0.acc: 98.8198, s0.loss_bbox: 0.0216, s1.loss_cls: 0.0111, s1.acc: 99.1270, s1.loss_bbox: 0.0446, s2.loss_cls: 0.0071, s2.acc: 98.9775, s2.loss_bbox: 0.0452, loss: 0.1618\n",
      "2022-02-10 16:57:30,017 - mmdet - INFO - Epoch [10][600/1111]\tlr: 1.340e-03, eta: 2:34:52, time: 0.802, data_time: 0.012, memory: 12464, loss_rpn_cls: 0.0014, loss_rpn_bbox: 0.0021, s0.loss_cls: 0.0286, s0.acc: 98.8340, s0.loss_bbox: 0.0211, s1.loss_cls: 0.0109, s1.acc: 99.1220, s1.loss_bbox: 0.0445, s2.loss_cls: 0.0063, s2.acc: 99.0870, s2.loss_bbox: 0.0452, loss: 0.1601\n",
      "2022-02-10 16:58:49,864 - mmdet - INFO - Epoch [10][700/1111]\tlr: 1.323e-03, eta: 2:33:32, time: 0.798, data_time: 0.012, memory: 12464, loss_rpn_cls: 0.0008, loss_rpn_bbox: 0.0020, s0.loss_cls: 0.0283, s0.acc: 98.8521, s0.loss_bbox: 0.0213, s1.loss_cls: 0.0103, s1.acc: 99.1785, s1.loss_bbox: 0.0445, s2.loss_cls: 0.0064, s2.acc: 99.0296, s2.loss_bbox: 0.0448, loss: 0.1584\n",
      "2022-02-10 17:00:10,209 - mmdet - INFO - Epoch [10][800/1111]\tlr: 1.305e-03, eta: 2:32:12, time: 0.803, data_time: 0.012, memory: 12464, loss_rpn_cls: 0.0006, loss_rpn_bbox: 0.0017, s0.loss_cls: 0.0258, s0.acc: 98.9302, s0.loss_bbox: 0.0186, s1.loss_cls: 0.0091, s1.acc: 99.2794, s1.loss_bbox: 0.0406, s2.loss_cls: 0.0058, s2.acc: 99.1627, s2.loss_bbox: 0.0420, loss: 0.1442\n",
      "2022-02-10 17:01:30,580 - mmdet - INFO - Epoch [10][900/1111]\tlr: 1.288e-03, eta: 2:30:52, time: 0.804, data_time: 0.013, memory: 12464, loss_rpn_cls: 0.0008, loss_rpn_bbox: 0.0021, s0.loss_cls: 0.0283, s0.acc: 98.8149, s0.loss_bbox: 0.0208, s1.loss_cls: 0.0109, s1.acc: 99.1199, s1.loss_bbox: 0.0451, s2.loss_cls: 0.0071, s2.acc: 98.9350, s2.loss_bbox: 0.0455, loss: 0.1607\n",
      "2022-02-10 17:02:50,473 - mmdet - INFO - Epoch [10][1000/1111]\tlr: 1.270e-03, eta: 2:29:32, time: 0.799, data_time: 0.012, memory: 12464, loss_rpn_cls: 0.0006, loss_rpn_bbox: 0.0018, s0.loss_cls: 0.0259, s0.acc: 98.9277, s0.loss_bbox: 0.0183, s1.loss_cls: 0.0091, s1.acc: 99.2672, s1.loss_bbox: 0.0401, s2.loss_cls: 0.0052, s2.acc: 99.1983, s2.loss_bbox: 0.0427, loss: 0.1437\n",
      "2022-02-10 17:04:10,797 - mmdet - INFO - Epoch [10][1100/1111]\tlr: 1.252e-03, eta: 2:28:13, time: 0.803, data_time: 0.013, memory: 12464, loss_rpn_cls: 0.0008, loss_rpn_bbox: 0.0020, s0.loss_cls: 0.0288, s0.acc: 98.8242, s0.loss_bbox: 0.0220, s1.loss_cls: 0.0105, s1.acc: 99.1544, s1.loss_bbox: 0.0447, s2.loss_cls: 0.0065, s2.acc: 99.0508, s2.loss_bbox: 0.0454, loss: 0.1607\n",
      "2022-02-10 17:04:19,626 - mmdet - INFO - Saving checkpoint at 10 epochs\n"
     ]
    },
    {
     "name": "stdout",
     "output_type": "stream",
     "text": [
      "[>>>>>>>>>>>>>>>>>>>>>>>>>>] 2274/2274, 13.1 task/s, elapsed: 174s, ETA:     0s"
     ]
    },
    {
     "name": "stderr",
     "output_type": "stream",
     "text": [
      "2022-02-10 17:07:15,560 - mmdet - INFO - Evaluating bbox...\n"
     ]
    },
    {
     "name": "stdout",
     "output_type": "stream",
     "text": [
      "Loading and preparing results...\n",
      "DONE (t=0.00s)\n",
      "creating index...\n",
      "index created!\n",
      "Running per image evaluation...\n",
      "Evaluate annotation type *bbox*\n"
     ]
    },
    {
     "name": "stderr",
     "output_type": "stream",
     "text": [
      "2022-02-10 17:07:16,373 - mmdet - INFO - \n",
      " Average Precision  (AP) @[ IoU=0.50:0.95 | area=   all | maxDets=100 ] = 0.191\n",
      " Average Precision  (AP) @[ IoU=0.50      | area=   all | maxDets=1000 ] = 0.445\n",
      " Average Precision  (AP) @[ IoU=0.75      | area=   all | maxDets=1000 ] = 0.115\n",
      " Average Precision  (AP) @[ IoU=0.50:0.95 | area= small | maxDets=1000 ] = 0.002\n",
      " Average Precision  (AP) @[ IoU=0.50:0.95 | area=medium | maxDets=1000 ] = 0.237\n",
      " Average Precision  (AP) @[ IoU=0.50:0.95 | area= large | maxDets=1000 ] = -1.000\n",
      " Average Recall     (AR) @[ IoU=0.50:0.95 | area=   all | maxDets=100 ] = 0.260\n",
      " Average Recall     (AR) @[ IoU=0.50:0.95 | area=   all | maxDets=300 ] = 0.260\n",
      " Average Recall     (AR) @[ IoU=0.50:0.95 | area=   all | maxDets=1000 ] = 0.260\n",
      " Average Recall     (AR) @[ IoU=0.50:0.95 | area= small | maxDets=1000 ] = 0.020\n",
      " Average Recall     (AR) @[ IoU=0.50:0.95 | area=medium | maxDets=1000 ] = 0.309\n",
      " Average Recall     (AR) @[ IoU=0.50:0.95 | area= large | maxDets=1000 ] = -1.000\n",
      "\n",
      "2022-02-10 17:07:16,381 - mmdet - INFO - Epoch(val) [10][2274]\tbbox_mAP: 0.1910, bbox_mAP_50: 0.4450, bbox_mAP_75: 0.1150, bbox_mAP_s: 0.0020, bbox_mAP_m: 0.2370, bbox_mAP_l: -1.0000, bbox_mAP_copypaste: 0.191 0.445 0.115 0.002 0.237 -1.000\n"
     ]
    },
    {
     "name": "stdout",
     "output_type": "stream",
     "text": [
      "DONE (t=0.70s).\n",
      "Accumulating evaluation results...\n",
      "DONE (t=0.10s).\n"
     ]
    },
    {
     "name": "stderr",
     "output_type": "stream",
     "text": [
      "2022-02-10 17:08:38,993 - mmdet - INFO - Epoch [11][100/1111]\tlr: 1.233e-03, eta: 2:26:38, time: 0.826, data_time: 0.037, memory: 12464, loss_rpn_cls: 0.0007, loss_rpn_bbox: 0.0017, s0.loss_cls: 0.0253, s0.acc: 98.9629, s0.loss_bbox: 0.0174, s1.loss_cls: 0.0091, s1.acc: 99.2394, s1.loss_bbox: 0.0361, s2.loss_cls: 0.0054, s2.acc: 99.1955, s2.loss_bbox: 0.0373, loss: 0.1329\n",
      "2022-02-10 17:09:59,039 - mmdet - INFO - Epoch [11][200/1111]\tlr: 1.215e-03, eta: 2:25:18, time: 0.800, data_time: 0.012, memory: 12464, loss_rpn_cls: 0.0005, loss_rpn_bbox: 0.0019, s0.loss_cls: 0.0261, s0.acc: 98.9380, s0.loss_bbox: 0.0185, s1.loss_cls: 0.0089, s1.acc: 99.2853, s1.loss_bbox: 0.0393, s2.loss_cls: 0.0058, s2.acc: 99.1564, s2.loss_bbox: 0.0407, loss: 0.1418\n",
      "2022-02-10 17:11:19,042 - mmdet - INFO - Epoch [11][300/1111]\tlr: 1.197e-03, eta: 2:23:58, time: 0.800, data_time: 0.012, memory: 12464, loss_rpn_cls: 0.0007, loss_rpn_bbox: 0.0022, s0.loss_cls: 0.0283, s0.acc: 98.8198, s0.loss_bbox: 0.0197, s1.loss_cls: 0.0103, s1.acc: 99.1902, s1.loss_bbox: 0.0406, s2.loss_cls: 0.0067, s2.acc: 99.0750, s2.loss_bbox: 0.0417, loss: 0.1503\n",
      "2022-02-10 17:12:39,013 - mmdet - INFO - Epoch [11][400/1111]\tlr: 1.180e-03, eta: 2:22:38, time: 0.800, data_time: 0.012, memory: 12464, loss_rpn_cls: 0.0004, loss_rpn_bbox: 0.0019, s0.loss_cls: 0.0248, s0.acc: 98.9795, s0.loss_bbox: 0.0175, s1.loss_cls: 0.0092, s1.acc: 99.2730, s1.loss_bbox: 0.0366, s2.loss_cls: 0.0051, s2.acc: 99.2569, s2.loss_bbox: 0.0387, loss: 0.1340\n",
      "2022-02-10 17:13:59,260 - mmdet - INFO - Epoch [11][500/1111]\tlr: 1.162e-03, eta: 2:21:19, time: 0.802, data_time: 0.012, memory: 12464, loss_rpn_cls: 0.0006, loss_rpn_bbox: 0.0018, s0.loss_cls: 0.0243, s0.acc: 99.0044, s0.loss_bbox: 0.0170, s1.loss_cls: 0.0089, s1.acc: 99.2792, s1.loss_bbox: 0.0358, s2.loss_cls: 0.0051, s2.acc: 99.2212, s2.loss_bbox: 0.0376, loss: 0.1311\n",
      "2022-02-10 17:15:19,400 - mmdet - INFO - Epoch [11][600/1111]\tlr: 1.144e-03, eta: 2:19:59, time: 0.801, data_time: 0.012, memory: 12464, loss_rpn_cls: 0.0007, loss_rpn_bbox: 0.0018, s0.loss_cls: 0.0258, s0.acc: 98.9556, s0.loss_bbox: 0.0177, s1.loss_cls: 0.0097, s1.acc: 99.2261, s1.loss_bbox: 0.0373, s2.loss_cls: 0.0058, s2.acc: 99.1447, s2.loss_bbox: 0.0396, loss: 0.1384\n",
      "2022-02-10 17:16:39,752 - mmdet - INFO - Epoch [11][700/1111]\tlr: 1.127e-03, eta: 2:18:40, time: 0.804, data_time: 0.012, memory: 12464, loss_rpn_cls: 0.0011, loss_rpn_bbox: 0.0022, s0.loss_cls: 0.0270, s0.acc: 98.9248, s0.loss_bbox: 0.0189, s1.loss_cls: 0.0093, s1.acc: 99.2744, s1.loss_bbox: 0.0381, s2.loss_cls: 0.0057, s2.acc: 99.2137, s2.loss_bbox: 0.0384, loss: 0.1407\n",
      "2022-02-10 17:18:00,174 - mmdet - INFO - Epoch [11][800/1111]\tlr: 1.109e-03, eta: 2:17:20, time: 0.804, data_time: 0.013, memory: 12464, loss_rpn_cls: 0.0006, loss_rpn_bbox: 0.0018, s0.loss_cls: 0.0252, s0.acc: 98.9854, s0.loss_bbox: 0.0176, s1.loss_cls: 0.0099, s1.acc: 99.2250, s1.loss_bbox: 0.0365, s2.loss_cls: 0.0054, s2.acc: 99.1991, s2.loss_bbox: 0.0379, loss: 0.1350\n",
      "2022-02-10 17:19:20,288 - mmdet - INFO - Epoch [11][900/1111]\tlr: 1.092e-03, eta: 2:16:00, time: 0.801, data_time: 0.012, memory: 12464, loss_rpn_cls: 0.0012, loss_rpn_bbox: 0.0017, s0.loss_cls: 0.0253, s0.acc: 98.9561, s0.loss_bbox: 0.0181, s1.loss_cls: 0.0078, s1.acc: 99.3789, s1.loss_bbox: 0.0386, s2.loss_cls: 0.0046, s2.acc: 99.3476, s2.loss_bbox: 0.0397, loss: 0.1369\n",
      "2022-02-10 17:20:40,676 - mmdet - INFO - Epoch [11][1000/1111]\tlr: 1.074e-03, eta: 2:14:41, time: 0.804, data_time: 0.012, memory: 12464, loss_rpn_cls: 0.0006, loss_rpn_bbox: 0.0014, s0.loss_cls: 0.0236, s0.acc: 99.0625, s0.loss_bbox: 0.0164, s1.loss_cls: 0.0076, s1.acc: 99.3905, s1.loss_bbox: 0.0348, s2.loss_cls: 0.0046, s2.acc: 99.3238, s2.loss_bbox: 0.0366, loss: 0.1256\n",
      "2022-02-10 17:22:01,133 - mmdet - INFO - Epoch [11][1100/1111]\tlr: 1.057e-03, eta: 2:13:21, time: 0.805, data_time: 0.012, memory: 12464, loss_rpn_cls: 0.0006, loss_rpn_bbox: 0.0019, s0.loss_cls: 0.0267, s0.acc: 98.9194, s0.loss_bbox: 0.0186, s1.loss_cls: 0.0083, s1.acc: 99.3303, s1.loss_bbox: 0.0379, s2.loss_cls: 0.0054, s2.acc: 99.2442, s2.loss_bbox: 0.0370, loss: 0.1364\n",
      "2022-02-10 17:22:10,097 - mmdet - INFO - Saving checkpoint at 11 epochs\n"
     ]
    },
    {
     "name": "stdout",
     "output_type": "stream",
     "text": [
      "[>>>>>>>>>>>>>>>>>>>>>>>>>>] 2274/2274, 13.0 task/s, elapsed: 174s, ETA:     0s"
     ]
    },
    {
     "name": "stderr",
     "output_type": "stream",
     "text": [
      "2022-02-10 17:25:06,213 - mmdet - INFO - Evaluating bbox...\n"
     ]
    },
    {
     "name": "stdout",
     "output_type": "stream",
     "text": [
      "Loading and preparing results...\n",
      "DONE (t=0.00s)\n",
      "creating index...\n",
      "index created!\n",
      "Running per image evaluation...\n",
      "Evaluate annotation type *bbox*\n"
     ]
    },
    {
     "name": "stderr",
     "output_type": "stream",
     "text": [
      "2022-02-10 17:25:06,791 - mmdet - INFO - \n",
      " Average Precision  (AP) @[ IoU=0.50:0.95 | area=   all | maxDets=100 ] = 0.189\n",
      " Average Precision  (AP) @[ IoU=0.50      | area=   all | maxDets=1000 ] = 0.421\n",
      " Average Precision  (AP) @[ IoU=0.75      | area=   all | maxDets=1000 ] = 0.132\n",
      " Average Precision  (AP) @[ IoU=0.50:0.95 | area= small | maxDets=1000 ] = 0.001\n",
      " Average Precision  (AP) @[ IoU=0.50:0.95 | area=medium | maxDets=1000 ] = 0.234\n",
      " Average Precision  (AP) @[ IoU=0.50:0.95 | area= large | maxDets=1000 ] = -1.000\n",
      " Average Recall     (AR) @[ IoU=0.50:0.95 | area=   all | maxDets=100 ] = 0.246\n",
      " Average Recall     (AR) @[ IoU=0.50:0.95 | area=   all | maxDets=300 ] = 0.246\n",
      " Average Recall     (AR) @[ IoU=0.50:0.95 | area=   all | maxDets=1000 ] = 0.246\n",
      " Average Recall     (AR) @[ IoU=0.50:0.95 | area= small | maxDets=1000 ] = 0.010\n",
      " Average Recall     (AR) @[ IoU=0.50:0.95 | area=medium | maxDets=1000 ] = 0.295\n",
      " Average Recall     (AR) @[ IoU=0.50:0.95 | area= large | maxDets=1000 ] = -1.000\n",
      "\n",
      "2022-02-10 17:25:06,798 - mmdet - INFO - Epoch(val) [11][2274]\tbbox_mAP: 0.1890, bbox_mAP_50: 0.4210, bbox_mAP_75: 0.1320, bbox_mAP_s: 0.0010, bbox_mAP_m: 0.2340, bbox_mAP_l: -1.0000, bbox_mAP_copypaste: 0.189 0.421 0.132 0.001 0.234 -1.000\n"
     ]
    },
    {
     "name": "stdout",
     "output_type": "stream",
     "text": [
      "DONE (t=0.49s).\n",
      "Accumulating evaluation results...\n",
      "DONE (t=0.07s).\n"
     ]
    },
    {
     "name": "stderr",
     "output_type": "stream",
     "text": [
      "2022-02-10 17:26:29,659 - mmdet - INFO - Epoch [12][100/1111]\tlr: 1.037e-03, eta: 2:11:48, time: 0.828, data_time: 0.037, memory: 12464, loss_rpn_cls: 0.0007, loss_rpn_bbox: 0.0015, s0.loss_cls: 0.0236, s0.acc: 99.0356, s0.loss_bbox: 0.0152, s1.loss_cls: 0.0073, s1.acc: 99.3969, s1.loss_bbox: 0.0327, s2.loss_cls: 0.0040, s2.acc: 99.4062, s2.loss_bbox: 0.0344, loss: 0.1193\n",
      "2022-02-10 17:27:50,074 - mmdet - INFO - Epoch [12][200/1111]\tlr: 1.020e-03, eta: 2:10:28, time: 0.804, data_time: 0.012, memory: 12464, loss_rpn_cls: 0.0008, loss_rpn_bbox: 0.0014, s0.loss_cls: 0.0225, s0.acc: 99.0903, s0.loss_bbox: 0.0147, s1.loss_cls: 0.0069, s1.acc: 99.4578, s1.loss_bbox: 0.0313, s2.loss_cls: 0.0035, s2.acc: 99.4595, s2.loss_bbox: 0.0342, loss: 0.1152\n",
      "2022-02-10 17:29:10,519 - mmdet - INFO - Epoch [12][300/1111]\tlr: 1.003e-03, eta: 2:09:09, time: 0.804, data_time: 0.012, memory: 12464, loss_rpn_cls: 0.0006, loss_rpn_bbox: 0.0015, s0.loss_cls: 0.0236, s0.acc: 99.0376, s0.loss_bbox: 0.0155, s1.loss_cls: 0.0085, s1.acc: 99.3697, s1.loss_bbox: 0.0313, s2.loss_cls: 0.0043, s2.acc: 99.3835, s2.loss_bbox: 0.0329, loss: 0.1183\n",
      "2022-02-10 17:30:30,804 - mmdet - INFO - Epoch [12][400/1111]\tlr: 9.852e-04, eta: 2:07:49, time: 0.803, data_time: 0.012, memory: 12464, loss_rpn_cls: 0.0007, loss_rpn_bbox: 0.0017, s0.loss_cls: 0.0241, s0.acc: 99.0312, s0.loss_bbox: 0.0161, s1.loss_cls: 0.0072, s1.acc: 99.4482, s1.loss_bbox: 0.0323, s2.loss_cls: 0.0036, s2.acc: 99.4695, s2.loss_bbox: 0.0331, loss: 0.1187\n",
      "2022-02-10 17:31:51,095 - mmdet - INFO - Epoch [12][500/1111]\tlr: 9.680e-04, eta: 2:06:30, time: 0.803, data_time: 0.012, memory: 12464, loss_rpn_cls: 0.0005, loss_rpn_bbox: 0.0017, s0.loss_cls: 0.0239, s0.acc: 99.0122, s0.loss_bbox: 0.0157, s1.loss_cls: 0.0068, s1.acc: 99.4475, s1.loss_bbox: 0.0322, s2.loss_cls: 0.0041, s2.acc: 99.3800, s2.loss_bbox: 0.0331, loss: 0.1180\n",
      "2022-02-10 17:33:11,464 - mmdet - INFO - Epoch [12][600/1111]\tlr: 9.508e-04, eta: 2:05:10, time: 0.804, data_time: 0.012, memory: 12464, loss_rpn_cls: 0.0007, loss_rpn_bbox: 0.0016, s0.loss_cls: 0.0233, s0.acc: 99.0366, s0.loss_bbox: 0.0156, s1.loss_cls: 0.0070, s1.acc: 99.4338, s1.loss_bbox: 0.0316, s2.loss_cls: 0.0038, s2.acc: 99.4549, s2.loss_bbox: 0.0324, loss: 0.1161\n",
      "2022-02-10 17:34:32,276 - mmdet - INFO - Epoch [12][700/1111]\tlr: 9.337e-04, eta: 2:03:51, time: 0.808, data_time: 0.012, memory: 12464, loss_rpn_cls: 0.0007, loss_rpn_bbox: 0.0017, s0.loss_cls: 0.0248, s0.acc: 99.0088, s0.loss_bbox: 0.0162, s1.loss_cls: 0.0078, s1.acc: 99.3927, s1.loss_bbox: 0.0332, s2.loss_cls: 0.0049, s2.acc: 99.3440, s2.loss_bbox: 0.0333, loss: 0.1228\n",
      "2022-02-10 17:35:52,408 - mmdet - INFO - Epoch [12][800/1111]\tlr: 9.166e-04, eta: 2:02:31, time: 0.801, data_time: 0.012, memory: 12464, loss_rpn_cls: 0.0008, loss_rpn_bbox: 0.0018, s0.loss_cls: 0.0242, s0.acc: 99.0117, s0.loss_bbox: 0.0161, s1.loss_cls: 0.0073, s1.acc: 99.4133, s1.loss_bbox: 0.0329, s2.loss_cls: 0.0040, s2.acc: 99.4115, s2.loss_bbox: 0.0333, loss: 0.1204\n",
      "2022-02-10 17:37:12,848 - mmdet - INFO - Epoch [12][900/1111]\tlr: 8.996e-04, eta: 2:01:12, time: 0.804, data_time: 0.013, memory: 12464, loss_rpn_cls: 0.0008, loss_rpn_bbox: 0.0018, s0.loss_cls: 0.0245, s0.acc: 99.0312, s0.loss_bbox: 0.0161, s1.loss_cls: 0.0071, s1.acc: 99.4441, s1.loss_bbox: 0.0313, s2.loss_cls: 0.0038, s2.acc: 99.4091, s2.loss_bbox: 0.0325, loss: 0.1180\n",
      "2022-02-10 17:38:33,116 - mmdet - INFO - Epoch [12][1000/1111]\tlr: 8.827e-04, eta: 1:59:52, time: 0.803, data_time: 0.012, memory: 12464, loss_rpn_cls: 0.0006, loss_rpn_bbox: 0.0016, s0.loss_cls: 0.0227, s0.acc: 99.0562, s0.loss_bbox: 0.0151, s1.loss_cls: 0.0070, s1.acc: 99.4322, s1.loss_bbox: 0.0308, s2.loss_cls: 0.0036, s2.acc: 99.4868, s2.loss_bbox: 0.0319, loss: 0.1132\n",
      "2022-02-10 17:39:53,147 - mmdet - INFO - Epoch [12][1100/1111]\tlr: 8.658e-04, eta: 1:58:32, time: 0.800, data_time: 0.012, memory: 12464, loss_rpn_cls: 0.0008, loss_rpn_bbox: 0.0018, s0.loss_cls: 0.0238, s0.acc: 99.0562, s0.loss_bbox: 0.0154, s1.loss_cls: 0.0077, s1.acc: 99.4131, s1.loss_bbox: 0.0312, s2.loss_cls: 0.0048, s2.acc: 99.3674, s2.loss_bbox: 0.0316, loss: 0.1171\n",
      "2022-02-10 17:40:02,014 - mmdet - INFO - Saving checkpoint at 12 epochs\n"
     ]
    },
    {
     "name": "stdout",
     "output_type": "stream",
     "text": [
      "[>>>>>>>>>>>>>>>>>>>>>>>>>>] 2274/2274, 13.2 task/s, elapsed: 173s, ETA:     0s"
     ]
    },
    {
     "name": "stderr",
     "output_type": "stream",
     "text": [
      "2022-02-10 17:42:56,422 - mmdet - INFO - Evaluating bbox...\n"
     ]
    },
    {
     "name": "stdout",
     "output_type": "stream",
     "text": [
      "Loading and preparing results...\n",
      "DONE (t=0.00s)\n",
      "creating index...\n",
      "index created!\n",
      "Running per image evaluation...\n",
      "Evaluate annotation type *bbox*\n"
     ]
    },
    {
     "name": "stderr",
     "output_type": "stream",
     "text": [
      "2022-02-10 17:42:56,888 - mmdet - INFO - \n",
      " Average Precision  (AP) @[ IoU=0.50:0.95 | area=   all | maxDets=100 ] = 0.154\n",
      " Average Precision  (AP) @[ IoU=0.50      | area=   all | maxDets=1000 ] = 0.351\n",
      " Average Precision  (AP) @[ IoU=0.75      | area=   all | maxDets=1000 ] = 0.100\n",
      " Average Precision  (AP) @[ IoU=0.50:0.95 | area= small | maxDets=1000 ] = 0.000\n",
      " Average Precision  (AP) @[ IoU=0.50:0.95 | area=medium | maxDets=1000 ] = 0.191\n",
      " Average Precision  (AP) @[ IoU=0.50:0.95 | area= large | maxDets=1000 ] = -1.000\n",
      " Average Recall     (AR) @[ IoU=0.50:0.95 | area=   all | maxDets=100 ] = 0.198\n",
      " Average Recall     (AR) @[ IoU=0.50:0.95 | area=   all | maxDets=300 ] = 0.198\n",
      " Average Recall     (AR) @[ IoU=0.50:0.95 | area=   all | maxDets=1000 ] = 0.198\n",
      " Average Recall     (AR) @[ IoU=0.50:0.95 | area= small | maxDets=1000 ] = 0.007\n",
      " Average Recall     (AR) @[ IoU=0.50:0.95 | area=medium | maxDets=1000 ] = 0.238\n",
      " Average Recall     (AR) @[ IoU=0.50:0.95 | area= large | maxDets=1000 ] = -1.000\n",
      "\n",
      "2022-02-10 17:42:56,895 - mmdet - INFO - Epoch(val) [12][2274]\tbbox_mAP: 0.1540, bbox_mAP_50: 0.3510, bbox_mAP_75: 0.1000, bbox_mAP_s: 0.0000, bbox_mAP_m: 0.1910, bbox_mAP_l: -1.0000, bbox_mAP_copypaste: 0.154 0.351 0.100 0.000 0.191 -1.000\n"
     ]
    },
    {
     "name": "stdout",
     "output_type": "stream",
     "text": [
      "DONE (t=0.39s).\n",
      "Accumulating evaluation results...\n",
      "DONE (t=0.06s).\n"
     ]
    },
    {
     "name": "stderr",
     "output_type": "stream",
     "text": [
      "2022-02-10 17:44:19,703 - mmdet - INFO - Epoch [13][100/1111]\tlr: 8.472e-04, eta: 1:56:59, time: 0.828, data_time: 0.037, memory: 12464, loss_rpn_cls: 0.0004, loss_rpn_bbox: 0.0014, s0.loss_cls: 0.0199, s0.acc: 99.1953, s0.loss_bbox: 0.0127, s1.loss_cls: 0.0052, s1.acc: 99.6071, s1.loss_bbox: 0.0255, s2.loss_cls: 0.0028, s2.acc: 99.6014, s2.loss_bbox: 0.0268, loss: 0.0947\n",
      "2022-02-10 17:45:40,162 - mmdet - INFO - Epoch [13][200/1111]\tlr: 8.305e-04, eta: 1:55:40, time: 0.805, data_time: 0.012, memory: 12464, loss_rpn_cls: 0.0008, loss_rpn_bbox: 0.0014, s0.loss_cls: 0.0201, s0.acc: 99.2026, s0.loss_bbox: 0.0125, s1.loss_cls: 0.0052, s1.acc: 99.5881, s1.loss_bbox: 0.0251, s2.loss_cls: 0.0027, s2.acc: 99.6240, s2.loss_bbox: 0.0262, loss: 0.0941\n",
      "2022-02-10 17:47:00,259 - mmdet - INFO - Epoch [13][300/1111]\tlr: 8.139e-04, eta: 1:54:20, time: 0.801, data_time: 0.012, memory: 12464, loss_rpn_cls: 0.0005, loss_rpn_bbox: 0.0013, s0.loss_cls: 0.0187, s0.acc: 99.2500, s0.loss_bbox: 0.0123, s1.loss_cls: 0.0051, s1.acc: 99.6003, s1.loss_bbox: 0.0247, s2.loss_cls: 0.0029, s2.acc: 99.6197, s2.loss_bbox: 0.0253, loss: 0.0908\n",
      "2022-02-10 17:48:20,269 - mmdet - INFO - Epoch [13][400/1111]\tlr: 7.974e-04, eta: 1:53:00, time: 0.800, data_time: 0.012, memory: 12464, loss_rpn_cls: 0.0011, loss_rpn_bbox: 0.0013, s0.loss_cls: 0.0211, s0.acc: 99.1704, s0.loss_bbox: 0.0138, s1.loss_cls: 0.0056, s1.acc: 99.5650, s1.loss_bbox: 0.0269, s2.loss_cls: 0.0034, s2.acc: 99.5622, s2.loss_bbox: 0.0270, loss: 0.1002\n",
      "2022-02-10 17:49:40,310 - mmdet - INFO - Epoch [13][500/1111]\tlr: 7.810e-04, eta: 1:51:41, time: 0.800, data_time: 0.012, memory: 12464, loss_rpn_cls: 0.0006, loss_rpn_bbox: 0.0018, s0.loss_cls: 0.0225, s0.acc: 99.1001, s0.loss_bbox: 0.0152, s1.loss_cls: 0.0065, s1.acc: 99.4992, s1.loss_bbox: 0.0294, s2.loss_cls: 0.0039, s2.acc: 99.4293, s2.loss_bbox: 0.0297, loss: 0.1096\n",
      "2022-02-10 17:51:00,747 - mmdet - INFO - Epoch [13][600/1111]\tlr: 7.646e-04, eta: 1:50:21, time: 0.804, data_time: 0.012, memory: 12464, loss_rpn_cls: 0.0006, loss_rpn_bbox: 0.0016, s0.loss_cls: 0.0225, s0.acc: 99.1133, s0.loss_bbox: 0.0149, s1.loss_cls: 0.0064, s1.acc: 99.5089, s1.loss_bbox: 0.0298, s2.loss_cls: 0.0037, s2.acc: 99.4887, s2.loss_bbox: 0.0292, loss: 0.1086\n",
      "2022-02-10 17:52:20,833 - mmdet - INFO - Epoch [13][700/1111]\tlr: 7.484e-04, eta: 1:49:01, time: 0.801, data_time: 0.012, memory: 12464, loss_rpn_cls: 0.0005, loss_rpn_bbox: 0.0016, s0.loss_cls: 0.0212, s0.acc: 99.1455, s0.loss_bbox: 0.0140, s1.loss_cls: 0.0057, s1.acc: 99.5486, s1.loss_bbox: 0.0271, s2.loss_cls: 0.0031, s2.acc: 99.5597, s2.loss_bbox: 0.0278, loss: 0.1010\n",
      "2022-02-10 17:53:41,068 - mmdet - INFO - Epoch [13][800/1111]\tlr: 7.322e-04, eta: 1:47:41, time: 0.802, data_time: 0.012, memory: 12464, loss_rpn_cls: 0.0005, loss_rpn_bbox: 0.0015, s0.loss_cls: 0.0209, s0.acc: 99.1299, s0.loss_bbox: 0.0136, s1.loss_cls: 0.0057, s1.acc: 99.5488, s1.loss_bbox: 0.0274, s2.loss_cls: 0.0031, s2.acc: 99.5546, s2.loss_bbox: 0.0280, loss: 0.1007\n",
      "2022-02-10 17:55:01,981 - mmdet - INFO - Epoch [13][900/1111]\tlr: 7.162e-04, eta: 1:46:22, time: 0.809, data_time: 0.013, memory: 12464, loss_rpn_cls: 0.0006, loss_rpn_bbox: 0.0015, s0.loss_cls: 0.0211, s0.acc: 99.1543, s0.loss_bbox: 0.0131, s1.loss_cls: 0.0053, s1.acc: 99.5674, s1.loss_bbox: 0.0266, s2.loss_cls: 0.0032, s2.acc: 99.5514, s2.loss_bbox: 0.0271, loss: 0.0985\n",
      "2022-02-10 17:56:22,424 - mmdet - INFO - Epoch [13][1000/1111]\tlr: 7.003e-04, eta: 1:45:03, time: 0.804, data_time: 0.012, memory: 12464, loss_rpn_cls: 0.0005, loss_rpn_bbox: 0.0014, s0.loss_cls: 0.0209, s0.acc: 99.1597, s0.loss_bbox: 0.0130, s1.loss_cls: 0.0061, s1.acc: 99.5317, s1.loss_bbox: 0.0253, s2.loss_cls: 0.0035, s2.acc: 99.5167, s2.loss_bbox: 0.0260, loss: 0.0966\n",
      "2022-02-10 17:57:42,837 - mmdet - INFO - Epoch [13][1100/1111]\tlr: 6.845e-04, eta: 1:43:43, time: 0.804, data_time: 0.012, memory: 12464, loss_rpn_cls: 0.0006, loss_rpn_bbox: 0.0015, s0.loss_cls: 0.0205, s0.acc: 99.1670, s0.loss_bbox: 0.0126, s1.loss_cls: 0.0055, s1.acc: 99.5610, s1.loss_bbox: 0.0246, s2.loss_cls: 0.0030, s2.acc: 99.6008, s2.loss_bbox: 0.0259, loss: 0.0943\n",
      "2022-02-10 17:57:51,639 - mmdet - INFO - Saving checkpoint at 13 epochs\n"
     ]
    },
    {
     "name": "stdout",
     "output_type": "stream",
     "text": [
      "[>>>>>>>>>>>>>>>>>>>>>>>>>>] 2274/2274, 13.1 task/s, elapsed: 174s, ETA:     0s"
     ]
    },
    {
     "name": "stderr",
     "output_type": "stream",
     "text": [
      "2022-02-10 18:00:47,150 - mmdet - INFO - Evaluating bbox...\n"
     ]
    },
    {
     "name": "stdout",
     "output_type": "stream",
     "text": [
      "Loading and preparing results...\n",
      "DONE (t=0.00s)\n",
      "creating index...\n",
      "index created!\n",
      "Running per image evaluation...\n",
      "Evaluate annotation type *bbox*\n",
      "DONE (t=0.46s).\n",
      "Accumulating evaluation results...\n"
     ]
    },
    {
     "name": "stderr",
     "output_type": "stream",
     "text": [
      "2022-02-10 18:00:47,688 - mmdet - INFO - \n",
      " Average Precision  (AP) @[ IoU=0.50:0.95 | area=   all | maxDets=100 ] = 0.172\n",
      " Average Precision  (AP) @[ IoU=0.50      | area=   all | maxDets=1000 ] = 0.383\n",
      " Average Precision  (AP) @[ IoU=0.75      | area=   all | maxDets=1000 ] = 0.113\n",
      " Average Precision  (AP) @[ IoU=0.50:0.95 | area= small | maxDets=1000 ] = 0.000\n",
      " Average Precision  (AP) @[ IoU=0.50:0.95 | area=medium | maxDets=1000 ] = 0.212\n",
      " Average Precision  (AP) @[ IoU=0.50:0.95 | area= large | maxDets=1000 ] = -1.000\n",
      " Average Recall     (AR) @[ IoU=0.50:0.95 | area=   all | maxDets=100 ] = 0.224\n",
      " Average Recall     (AR) @[ IoU=0.50:0.95 | area=   all | maxDets=300 ] = 0.224\n",
      " Average Recall     (AR) @[ IoU=0.50:0.95 | area=   all | maxDets=1000 ] = 0.224\n",
      " Average Recall     (AR) @[ IoU=0.50:0.95 | area= small | maxDets=1000 ] = 0.005\n",
      " Average Recall     (AR) @[ IoU=0.50:0.95 | area=medium | maxDets=1000 ] = 0.269\n",
      " Average Recall     (AR) @[ IoU=0.50:0.95 | area= large | maxDets=1000 ] = -1.000\n",
      "\n",
      "2022-02-10 18:00:47,694 - mmdet - INFO - Epoch(val) [13][2274]\tbbox_mAP: 0.1720, bbox_mAP_50: 0.3830, bbox_mAP_75: 0.1130, bbox_mAP_s: 0.0000, bbox_mAP_m: 0.2120, bbox_mAP_l: -1.0000, bbox_mAP_copypaste: 0.172 0.383 0.113 0.000 0.212 -1.000\n"
     ]
    },
    {
     "name": "stdout",
     "output_type": "stream",
     "text": [
      "DONE (t=0.07s).\n"
     ]
    },
    {
     "name": "stderr",
     "output_type": "stream",
     "text": [
      "2022-02-10 18:02:10,427 - mmdet - INFO - Epoch [14][100/1111]\tlr: 6.671e-04, eta: 1:42:11, time: 0.827, data_time: 0.037, memory: 12464, loss_rpn_cls: 0.0006, loss_rpn_bbox: 0.0016, s0.loss_cls: 0.0196, s0.acc: 99.2202, s0.loss_bbox: 0.0122, s1.loss_cls: 0.0057, s1.acc: 99.5636, s1.loss_bbox: 0.0234, s2.loss_cls: 0.0031, s2.acc: 99.5263, s2.loss_bbox: 0.0241, loss: 0.0903\n",
      "2022-02-10 18:03:30,838 - mmdet - INFO - Epoch [14][200/1111]\tlr: 6.515e-04, eta: 1:40:51, time: 0.804, data_time: 0.012, memory: 12464, loss_rpn_cls: 0.0007, loss_rpn_bbox: 0.0012, s0.loss_cls: 0.0169, s0.acc: 99.3398, s0.loss_bbox: 0.0101, s1.loss_cls: 0.0043, s1.acc: 99.6666, s1.loss_bbox: 0.0204, s2.loss_cls: 0.0030, s2.acc: 99.6248, s2.loss_bbox: 0.0207, loss: 0.0772\n",
      "2022-02-10 18:04:51,195 - mmdet - INFO - Epoch [14][300/1111]\tlr: 6.360e-04, eta: 1:39:32, time: 0.804, data_time: 0.012, memory: 12464, loss_rpn_cls: 0.0005, loss_rpn_bbox: 0.0013, s0.loss_cls: 0.0182, s0.acc: 99.2773, s0.loss_bbox: 0.0105, s1.loss_cls: 0.0043, s1.acc: 99.6543, s1.loss_bbox: 0.0212, s2.loss_cls: 0.0024, s2.acc: 99.6780, s2.loss_bbox: 0.0220, loss: 0.0803\n",
      "2022-02-10 18:06:11,282 - mmdet - INFO - Epoch [14][400/1111]\tlr: 6.207e-04, eta: 1:38:12, time: 0.801, data_time: 0.012, memory: 12464, loss_rpn_cls: 0.0005, loss_rpn_bbox: 0.0014, s0.loss_cls: 0.0195, s0.acc: 99.2129, s0.loss_bbox: 0.0118, s1.loss_cls: 0.0049, s1.acc: 99.5958, s1.loss_bbox: 0.0225, s2.loss_cls: 0.0025, s2.acc: 99.6436, s2.loss_bbox: 0.0238, loss: 0.0869\n",
      "2022-02-10 18:07:31,474 - mmdet - INFO - Epoch [14][500/1111]\tlr: 6.055e-04, eta: 1:36:52, time: 0.802, data_time: 0.012, memory: 12464, loss_rpn_cls: 0.0006, loss_rpn_bbox: 0.0014, s0.loss_cls: 0.0192, s0.acc: 99.2334, s0.loss_bbox: 0.0117, s1.loss_cls: 0.0051, s1.acc: 99.6081, s1.loss_bbox: 0.0217, s2.loss_cls: 0.0028, s2.acc: 99.5789, s2.loss_bbox: 0.0222, loss: 0.0848\n",
      "2022-02-10 18:08:51,872 - mmdet - INFO - Epoch [14][600/1111]\tlr: 5.904e-04, eta: 1:35:33, time: 0.804, data_time: 0.013, memory: 12464, loss_rpn_cls: 0.0005, loss_rpn_bbox: 0.0014, s0.loss_cls: 0.0199, s0.acc: 99.1992, s0.loss_bbox: 0.0124, s1.loss_cls: 0.0050, s1.acc: 99.6042, s1.loss_bbox: 0.0231, s2.loss_cls: 0.0023, s2.acc: 99.6699, s2.loss_bbox: 0.0237, loss: 0.0884\n",
      "2022-02-10 18:10:11,876 - mmdet - INFO - Epoch [14][700/1111]\tlr: 5.755e-04, eta: 1:34:13, time: 0.800, data_time: 0.012, memory: 12464, loss_rpn_cls: 0.0004, loss_rpn_bbox: 0.0011, s0.loss_cls: 0.0175, s0.acc: 99.2852, s0.loss_bbox: 0.0103, s1.loss_cls: 0.0042, s1.acc: 99.6733, s1.loss_bbox: 0.0204, s2.loss_cls: 0.0021, s2.acc: 99.6945, s2.loss_bbox: 0.0219, loss: 0.0780\n",
      "2022-02-10 18:11:31,881 - mmdet - INFO - Epoch [14][800/1111]\tlr: 5.607e-04, eta: 1:32:53, time: 0.800, data_time: 0.012, memory: 12464, loss_rpn_cls: 0.0005, loss_rpn_bbox: 0.0015, s0.loss_cls: 0.0197, s0.acc: 99.2261, s0.loss_bbox: 0.0120, s1.loss_cls: 0.0053, s1.acc: 99.5986, s1.loss_bbox: 0.0224, s2.loss_cls: 0.0030, s2.acc: 99.5884, s2.loss_bbox: 0.0229, loss: 0.0873\n",
      "2022-02-10 18:12:52,420 - mmdet - INFO - Epoch [14][900/1111]\tlr: 5.460e-04, eta: 1:31:33, time: 0.805, data_time: 0.013, memory: 12464, loss_rpn_cls: 0.0005, loss_rpn_bbox: 0.0013, s0.loss_cls: 0.0191, s0.acc: 99.2075, s0.loss_bbox: 0.0115, s1.loss_cls: 0.0048, s1.acc: 99.6042, s1.loss_bbox: 0.0224, s2.loss_cls: 0.0029, s2.acc: 99.5933, s2.loss_bbox: 0.0225, loss: 0.0850\n",
      "2022-02-10 18:14:12,216 - mmdet - INFO - Epoch [14][1000/1111]\tlr: 5.315e-04, eta: 1:30:14, time: 0.798, data_time: 0.012, memory: 12464, loss_rpn_cls: 0.0007, loss_rpn_bbox: 0.0016, s0.loss_cls: 0.0220, s0.acc: 99.1079, s0.loss_bbox: 0.0135, s1.loss_cls: 0.0053, s1.acc: 99.5971, s1.loss_bbox: 0.0260, s2.loss_cls: 0.0032, s2.acc: 99.5473, s2.loss_bbox: 0.0260, loss: 0.0982\n",
      "2022-02-10 18:15:32,030 - mmdet - INFO - Epoch [14][1100/1111]\tlr: 5.171e-04, eta: 1:28:54, time: 0.798, data_time: 0.012, memory: 12464, loss_rpn_cls: 0.0006, loss_rpn_bbox: 0.0013, s0.loss_cls: 0.0189, s0.acc: 99.2285, s0.loss_bbox: 0.0122, s1.loss_cls: 0.0048, s1.acc: 99.6064, s1.loss_bbox: 0.0220, s2.loss_cls: 0.0024, s2.acc: 99.6304, s2.loss_bbox: 0.0220, loss: 0.0843\n",
      "2022-02-10 18:15:40,833 - mmdet - INFO - Saving checkpoint at 14 epochs\n"
     ]
    },
    {
     "name": "stdout",
     "output_type": "stream",
     "text": [
      "[>>>>>>>>>>>>>>>>>>>>>>>>>>] 2274/2274, 13.1 task/s, elapsed: 174s, ETA:     0s"
     ]
    },
    {
     "name": "stderr",
     "output_type": "stream",
     "text": [
      "2022-02-10 18:18:36,416 - mmdet - INFO - Evaluating bbox...\n"
     ]
    },
    {
     "name": "stdout",
     "output_type": "stream",
     "text": [
      "Loading and preparing results...\n",
      "DONE (t=0.00s)\n",
      "creating index...\n",
      "index created!\n",
      "Running per image evaluation...\n",
      "Evaluate annotation type *bbox*\n"
     ]
    },
    {
     "name": "stderr",
     "output_type": "stream",
     "text": [
      "2022-02-10 18:18:37,125 - mmdet - INFO - \n",
      " Average Precision  (AP) @[ IoU=0.50:0.95 | area=   all | maxDets=100 ] = 0.173\n",
      " Average Precision  (AP) @[ IoU=0.50      | area=   all | maxDets=1000 ] = 0.392\n",
      " Average Precision  (AP) @[ IoU=0.75      | area=   all | maxDets=1000 ] = 0.119\n",
      " Average Precision  (AP) @[ IoU=0.50:0.95 | area= small | maxDets=1000 ] = 0.001\n",
      " Average Precision  (AP) @[ IoU=0.50:0.95 | area=medium | maxDets=1000 ] = 0.214\n",
      " Average Precision  (AP) @[ IoU=0.50:0.95 | area= large | maxDets=1000 ] = -1.000\n",
      " Average Recall     (AR) @[ IoU=0.50:0.95 | area=   all | maxDets=100 ] = 0.226\n",
      " Average Recall     (AR) @[ IoU=0.50:0.95 | area=   all | maxDets=300 ] = 0.226\n",
      " Average Recall     (AR) @[ IoU=0.50:0.95 | area=   all | maxDets=1000 ] = 0.226\n",
      " Average Recall     (AR) @[ IoU=0.50:0.95 | area= small | maxDets=1000 ] = 0.010\n",
      " Average Recall     (AR) @[ IoU=0.50:0.95 | area=medium | maxDets=1000 ] = 0.271\n",
      " Average Recall     (AR) @[ IoU=0.50:0.95 | area= large | maxDets=1000 ] = -1.000\n",
      "\n",
      "2022-02-10 18:18:37,131 - mmdet - INFO - Epoch(val) [14][2274]\tbbox_mAP: 0.1730, bbox_mAP_50: 0.3920, bbox_mAP_75: 0.1190, bbox_mAP_s: 0.0010, bbox_mAP_m: 0.2140, bbox_mAP_l: -1.0000, bbox_mAP_copypaste: 0.173 0.392 0.119 0.001 0.214 -1.000\n"
     ]
    },
    {
     "name": "stdout",
     "output_type": "stream",
     "text": [
      "DONE (t=0.63s).\n",
      "Accumulating evaluation results...\n",
      "DONE (t=0.07s).\n"
     ]
    },
    {
     "name": "stderr",
     "output_type": "stream",
     "text": [
      "2022-02-10 18:20:00,582 - mmdet - INFO - Epoch [15][100/1111]\tlr: 5.013e-04, eta: 1:27:23, time: 0.834, data_time: 0.038, memory: 12464, loss_rpn_cls: 0.0006, loss_rpn_bbox: 0.0012, s0.loss_cls: 0.0179, s0.acc: 99.2671, s0.loss_bbox: 0.0109, s1.loss_cls: 0.0046, s1.acc: 99.6611, s1.loss_bbox: 0.0197, s2.loss_cls: 0.0026, s2.acc: 99.6234, s2.loss_bbox: 0.0193, loss: 0.0767\n",
      "2022-02-10 18:21:21,142 - mmdet - INFO - Epoch [15][200/1111]\tlr: 4.872e-04, eta: 1:26:03, time: 0.806, data_time: 0.012, memory: 12464, loss_rpn_cls: 0.0004, loss_rpn_bbox: 0.0014, s0.loss_cls: 0.0195, s0.acc: 99.2275, s0.loss_bbox: 0.0116, s1.loss_cls: 0.0052, s1.acc: 99.5962, s1.loss_bbox: 0.0218, s2.loss_cls: 0.0026, s2.acc: 99.6282, s2.loss_bbox: 0.0220, loss: 0.0845\n",
      "2022-02-10 18:22:41,277 - mmdet - INFO - Epoch [15][300/1111]\tlr: 4.733e-04, eta: 1:24:43, time: 0.801, data_time: 0.012, memory: 12464, loss_rpn_cls: 0.0004, loss_rpn_bbox: 0.0010, s0.loss_cls: 0.0165, s0.acc: 99.3472, s0.loss_bbox: 0.0087, s1.loss_cls: 0.0047, s1.acc: 99.6499, s1.loss_bbox: 0.0178, s2.loss_cls: 0.0020, s2.acc: 99.7045, s2.loss_bbox: 0.0192, loss: 0.0703\n",
      "2022-02-10 18:24:01,564 - mmdet - INFO - Epoch [15][400/1111]\tlr: 4.595e-04, eta: 1:23:24, time: 0.803, data_time: 0.012, memory: 12464, loss_rpn_cls: 0.0005, loss_rpn_bbox: 0.0013, s0.loss_cls: 0.0187, s0.acc: 99.2666, s0.loss_bbox: 0.0111, s1.loss_cls: 0.0040, s1.acc: 99.7065, s1.loss_bbox: 0.0201, s2.loss_cls: 0.0024, s2.acc: 99.6708, s2.loss_bbox: 0.0203, loss: 0.0784\n",
      "2022-02-10 18:25:22,158 - mmdet - INFO - Epoch [15][500/1111]\tlr: 4.459e-04, eta: 1:22:04, time: 0.806, data_time: 0.012, memory: 12464, loss_rpn_cls: 0.0004, loss_rpn_bbox: 0.0012, s0.loss_cls: 0.0170, s0.acc: 99.3237, s0.loss_bbox: 0.0096, s1.loss_cls: 0.0039, s1.acc: 99.6871, s1.loss_bbox: 0.0182, s2.loss_cls: 0.0021, s2.acc: 99.6900, s2.loss_bbox: 0.0186, loss: 0.0708\n",
      "2022-02-10 18:26:42,445 - mmdet - INFO - Epoch [15][600/1111]\tlr: 4.324e-04, eta: 1:20:44, time: 0.803, data_time: 0.012, memory: 12464, loss_rpn_cls: 0.0005, loss_rpn_bbox: 0.0013, s0.loss_cls: 0.0168, s0.acc: 99.3149, s0.loss_bbox: 0.0101, s1.loss_cls: 0.0041, s1.acc: 99.6622, s1.loss_bbox: 0.0184, s2.loss_cls: 0.0019, s2.acc: 99.7114, s2.loss_bbox: 0.0191, loss: 0.0723\n",
      "2022-02-10 18:28:02,891 - mmdet - INFO - Epoch [15][700/1111]\tlr: 4.192e-04, eta: 1:19:25, time: 0.804, data_time: 0.012, memory: 12464, loss_rpn_cls: 0.0004, loss_rpn_bbox: 0.0013, s0.loss_cls: 0.0174, s0.acc: 99.3101, s0.loss_bbox: 0.0102, s1.loss_cls: 0.0043, s1.acc: 99.6689, s1.loss_bbox: 0.0190, s2.loss_cls: 0.0022, s2.acc: 99.6888, s2.loss_bbox: 0.0196, loss: 0.0743\n",
      "2022-02-10 18:29:23,007 - mmdet - INFO - Epoch [15][800/1111]\tlr: 4.060e-04, eta: 1:18:05, time: 0.801, data_time: 0.012, memory: 12464, loss_rpn_cls: 0.0004, loss_rpn_bbox: 0.0012, s0.loss_cls: 0.0167, s0.acc: 99.3477, s0.loss_bbox: 0.0098, s1.loss_cls: 0.0043, s1.acc: 99.6880, s1.loss_bbox: 0.0190, s2.loss_cls: 0.0024, s2.acc: 99.6801, s2.loss_bbox: 0.0193, loss: 0.0730\n",
      "2022-02-10 18:30:43,237 - mmdet - INFO - Epoch [15][900/1111]\tlr: 3.931e-04, eta: 1:16:45, time: 0.802, data_time: 0.012, memory: 12464, loss_rpn_cls: 0.0004, loss_rpn_bbox: 0.0012, s0.loss_cls: 0.0166, s0.acc: 99.3452, s0.loss_bbox: 0.0096, s1.loss_cls: 0.0039, s1.acc: 99.6988, s1.loss_bbox: 0.0175, s2.loss_cls: 0.0021, s2.acc: 99.7099, s2.loss_bbox: 0.0183, loss: 0.0696\n",
      "2022-02-10 18:32:03,581 - mmdet - INFO - Epoch [15][1000/1111]\tlr: 3.803e-04, eta: 1:15:26, time: 0.803, data_time: 0.012, memory: 12464, loss_rpn_cls: 0.0005, loss_rpn_bbox: 0.0013, s0.loss_cls: 0.0174, s0.acc: 99.3262, s0.loss_bbox: 0.0109, s1.loss_cls: 0.0043, s1.acc: 99.6877, s1.loss_bbox: 0.0196, s2.loss_cls: 0.0027, s2.acc: 99.6583, s2.loss_bbox: 0.0196, loss: 0.0763\n",
      "2022-02-10 18:33:24,209 - mmdet - INFO - Epoch [15][1100/1111]\tlr: 3.677e-04, eta: 1:14:06, time: 0.806, data_time: 0.012, memory: 12464, loss_rpn_cls: 0.0008, loss_rpn_bbox: 0.0013, s0.loss_cls: 0.0179, s0.acc: 99.2671, s0.loss_bbox: 0.0111, s1.loss_cls: 0.0039, s1.acc: 99.6905, s1.loss_bbox: 0.0199, s2.loss_cls: 0.0021, s2.acc: 99.7028, s2.loss_bbox: 0.0202, loss: 0.0771\n",
      "2022-02-10 18:33:33,057 - mmdet - INFO - Saving checkpoint at 15 epochs\n"
     ]
    },
    {
     "name": "stdout",
     "output_type": "stream",
     "text": [
      "[>>>>>>>>>>>>>>>>>>>>>>>>>>] 2274/2274, 13.1 task/s, elapsed: 174s, ETA:     0s"
     ]
    },
    {
     "name": "stderr",
     "output_type": "stream",
     "text": [
      "2022-02-10 18:36:28,303 - mmdet - INFO - Evaluating bbox...\n"
     ]
    },
    {
     "name": "stdout",
     "output_type": "stream",
     "text": [
      "Loading and preparing results...\n",
      "DONE (t=0.00s)\n",
      "creating index...\n",
      "index created!\n",
      "Running per image evaluation...\n",
      "Evaluate annotation type *bbox*\n"
     ]
    },
    {
     "name": "stderr",
     "output_type": "stream",
     "text": [
      "2022-02-10 18:36:28,836 - mmdet - INFO - \n",
      " Average Precision  (AP) @[ IoU=0.50:0.95 | area=   all | maxDets=100 ] = 0.171\n",
      " Average Precision  (AP) @[ IoU=0.50      | area=   all | maxDets=1000 ] = 0.383\n",
      " Average Precision  (AP) @[ IoU=0.75      | area=   all | maxDets=1000 ] = 0.114\n",
      " Average Precision  (AP) @[ IoU=0.50:0.95 | area= small | maxDets=1000 ] = 0.000\n",
      " Average Precision  (AP) @[ IoU=0.50:0.95 | area=medium | maxDets=1000 ] = 0.210\n",
      " Average Precision  (AP) @[ IoU=0.50:0.95 | area= large | maxDets=1000 ] = -1.000\n",
      " Average Recall     (AR) @[ IoU=0.50:0.95 | area=   all | maxDets=100 ] = 0.222\n",
      " Average Recall     (AR) @[ IoU=0.50:0.95 | area=   all | maxDets=300 ] = 0.222\n",
      " Average Recall     (AR) @[ IoU=0.50:0.95 | area=   all | maxDets=1000 ] = 0.222\n",
      " Average Recall     (AR) @[ IoU=0.50:0.95 | area= small | maxDets=1000 ] = 0.007\n",
      " Average Recall     (AR) @[ IoU=0.50:0.95 | area=medium | maxDets=1000 ] = 0.267\n",
      " Average Recall     (AR) @[ IoU=0.50:0.95 | area= large | maxDets=1000 ] = -1.000\n",
      "\n",
      "2022-02-10 18:36:28,843 - mmdet - INFO - Epoch(val) [15][2274]\tbbox_mAP: 0.1710, bbox_mAP_50: 0.3830, bbox_mAP_75: 0.1140, bbox_mAP_s: 0.0000, bbox_mAP_m: 0.2100, bbox_mAP_l: -1.0000, bbox_mAP_copypaste: 0.171 0.383 0.114 0.000 0.210 -1.000\n"
     ]
    },
    {
     "name": "stdout",
     "output_type": "stream",
     "text": [
      "DONE (t=0.46s).\n",
      "Accumulating evaluation results...\n",
      "DONE (t=0.07s).\n"
     ]
    },
    {
     "name": "stderr",
     "output_type": "stream",
     "text": [
      "2022-02-10 18:37:51,673 - mmdet - INFO - Epoch [16][100/1111]\tlr: 3.539e-04, eta: 1:12:35, time: 0.828, data_time: 0.037, memory: 12464, loss_rpn_cls: 0.0003, loss_rpn_bbox: 0.0010, s0.loss_cls: 0.0148, s0.acc: 99.4126, s0.loss_bbox: 0.0080, s1.loss_cls: 0.0032, s1.acc: 99.7361, s1.loss_bbox: 0.0139, s2.loss_cls: 0.0017, s2.acc: 99.7607, s2.loss_bbox: 0.0141, loss: 0.0571\n",
      "2022-02-10 18:39:11,694 - mmdet - INFO - Epoch [16][200/1111]\tlr: 3.417e-04, eta: 1:11:16, time: 0.800, data_time: 0.012, memory: 12464, loss_rpn_cls: 0.0005, loss_rpn_bbox: 0.0012, s0.loss_cls: 0.0175, s0.acc: 99.3252, s0.loss_bbox: 0.0100, s1.loss_cls: 0.0046, s1.acc: 99.6452, s1.loss_bbox: 0.0172, s2.loss_cls: 0.0026, s2.acc: 99.6339, s2.loss_bbox: 0.0168, loss: 0.0703\n",
      "2022-02-10 18:40:31,643 - mmdet - INFO - Epoch [16][300/1111]\tlr: 3.296e-04, eta: 1:09:56, time: 0.799, data_time: 0.012, memory: 12464, loss_rpn_cls: 0.0004, loss_rpn_bbox: 0.0013, s0.loss_cls: 0.0178, s0.acc: 99.2812, s0.loss_bbox: 0.0101, s1.loss_cls: 0.0047, s1.acc: 99.6428, s1.loss_bbox: 0.0184, s2.loss_cls: 0.0025, s2.acc: 99.6740, s2.loss_bbox: 0.0187, loss: 0.0738\n",
      "2022-02-10 18:41:51,683 - mmdet - INFO - Epoch [16][400/1111]\tlr: 3.178e-04, eta: 1:08:36, time: 0.800, data_time: 0.012, memory: 12464, loss_rpn_cls: 0.0005, loss_rpn_bbox: 0.0012, s0.loss_cls: 0.0175, s0.acc: 99.3135, s0.loss_bbox: 0.0094, s1.loss_cls: 0.0044, s1.acc: 99.6669, s1.loss_bbox: 0.0171, s2.loss_cls: 0.0021, s2.acc: 99.6814, s2.loss_bbox: 0.0176, loss: 0.0698\n",
      "2022-02-10 18:43:12,110 - mmdet - INFO - Epoch [16][500/1111]\tlr: 3.061e-04, eta: 1:07:16, time: 0.804, data_time: 0.012, memory: 12464, loss_rpn_cls: 0.0005, loss_rpn_bbox: 0.0011, s0.loss_cls: 0.0149, s0.acc: 99.4072, s0.loss_bbox: 0.0079, s1.loss_cls: 0.0035, s1.acc: 99.7452, s1.loss_bbox: 0.0150, s2.loss_cls: 0.0018, s2.acc: 99.7646, s2.loss_bbox: 0.0156, loss: 0.0603\n",
      "2022-02-10 18:44:32,775 - mmdet - INFO - Epoch [16][600/1111]\tlr: 2.946e-04, eta: 1:05:57, time: 0.807, data_time: 0.013, memory: 12464, loss_rpn_cls: 0.0004, loss_rpn_bbox: 0.0013, s0.loss_cls: 0.0158, s0.acc: 99.3584, s0.loss_bbox: 0.0093, s1.loss_cls: 0.0038, s1.acc: 99.7129, s1.loss_bbox: 0.0167, s2.loss_cls: 0.0020, s2.acc: 99.7264, s2.loss_bbox: 0.0170, loss: 0.0662\n",
      "2022-02-10 18:45:53,313 - mmdet - INFO - Epoch [16][700/1111]\tlr: 2.833e-04, eta: 1:04:37, time: 0.805, data_time: 0.013, memory: 12464, loss_rpn_cls: 0.0010, loss_rpn_bbox: 0.0012, s0.loss_cls: 0.0172, s0.acc: 99.3164, s0.loss_bbox: 0.0097, s1.loss_cls: 0.0040, s1.acc: 99.7015, s1.loss_bbox: 0.0178, s2.loss_cls: 0.0021, s2.acc: 99.7050, s2.loss_bbox: 0.0180, loss: 0.0711\n",
      "2022-02-10 18:47:13,394 - mmdet - INFO - Epoch [16][800/1111]\tlr: 2.722e-04, eta: 1:03:17, time: 0.801, data_time: 0.012, memory: 12464, loss_rpn_cls: 0.0005, loss_rpn_bbox: 0.0013, s0.loss_cls: 0.0163, s0.acc: 99.3540, s0.loss_bbox: 0.0098, s1.loss_cls: 0.0037, s1.acc: 99.7186, s1.loss_bbox: 0.0169, s2.loss_cls: 0.0020, s2.acc: 99.7333, s2.loss_bbox: 0.0169, loss: 0.0674\n",
      "2022-02-10 18:48:33,750 - mmdet - INFO - Epoch [16][900/1111]\tlr: 2.613e-04, eta: 1:01:57, time: 0.804, data_time: 0.012, memory: 12464, loss_rpn_cls: 0.0004, loss_rpn_bbox: 0.0011, s0.loss_cls: 0.0159, s0.acc: 99.3604, s0.loss_bbox: 0.0090, s1.loss_cls: 0.0034, s1.acc: 99.7457, s1.loss_bbox: 0.0162, s2.loss_cls: 0.0018, s2.acc: 99.7471, s2.loss_bbox: 0.0166, loss: 0.0644\n",
      "2022-02-10 18:49:53,812 - mmdet - INFO - Epoch [16][1000/1111]\tlr: 2.506e-04, eta: 1:00:38, time: 0.801, data_time: 0.012, memory: 12464, loss_rpn_cls: 0.0004, loss_rpn_bbox: 0.0010, s0.loss_cls: 0.0140, s0.acc: 99.4287, s0.loss_bbox: 0.0079, s1.loss_cls: 0.0031, s1.acc: 99.7558, s1.loss_bbox: 0.0147, s2.loss_cls: 0.0015, s2.acc: 99.7794, s2.loss_bbox: 0.0156, loss: 0.0582\n",
      "2022-02-10 18:51:14,208 - mmdet - INFO - Epoch [16][1100/1111]\tlr: 2.401e-04, eta: 0:59:18, time: 0.804, data_time: 0.012, memory: 12464, loss_rpn_cls: 0.0003, loss_rpn_bbox: 0.0013, s0.loss_cls: 0.0172, s0.acc: 99.3022, s0.loss_bbox: 0.0104, s1.loss_cls: 0.0038, s1.acc: 99.6993, s1.loss_bbox: 0.0184, s2.loss_cls: 0.0019, s2.acc: 99.7039, s2.loss_bbox: 0.0190, loss: 0.0723\n",
      "2022-02-10 18:51:23,085 - mmdet - INFO - Saving checkpoint at 16 epochs\n"
     ]
    },
    {
     "name": "stdout",
     "output_type": "stream",
     "text": [
      "[>>>>>>>>>>>>>>>>>>>>>>>>>>] 2274/2274, 13.1 task/s, elapsed: 174s, ETA:     0s"
     ]
    },
    {
     "name": "stderr",
     "output_type": "stream",
     "text": [
      "2022-02-10 18:54:18,529 - mmdet - INFO - Evaluating bbox...\n"
     ]
    },
    {
     "name": "stdout",
     "output_type": "stream",
     "text": [
      "Loading and preparing results...\n",
      "DONE (t=0.00s)\n",
      "creating index...\n",
      "index created!\n",
      "Running per image evaluation...\n",
      "Evaluate annotation type *bbox*\n"
     ]
    },
    {
     "name": "stderr",
     "output_type": "stream",
     "text": [
      "2022-02-10 18:54:19,004 - mmdet - INFO - \n",
      " Average Precision  (AP) @[ IoU=0.50:0.95 | area=   all | maxDets=100 ] = 0.165\n",
      " Average Precision  (AP) @[ IoU=0.50      | area=   all | maxDets=1000 ] = 0.375\n",
      " Average Precision  (AP) @[ IoU=0.75      | area=   all | maxDets=1000 ] = 0.112\n",
      " Average Precision  (AP) @[ IoU=0.50:0.95 | area= small | maxDets=1000 ] = 0.000\n",
      " Average Precision  (AP) @[ IoU=0.50:0.95 | area=medium | maxDets=1000 ] = 0.205\n",
      " Average Precision  (AP) @[ IoU=0.50:0.95 | area= large | maxDets=1000 ] = -1.000\n",
      " Average Recall     (AR) @[ IoU=0.50:0.95 | area=   all | maxDets=100 ] = 0.214\n",
      " Average Recall     (AR) @[ IoU=0.50:0.95 | area=   all | maxDets=300 ] = 0.214\n",
      " Average Recall     (AR) @[ IoU=0.50:0.95 | area=   all | maxDets=1000 ] = 0.214\n",
      " Average Recall     (AR) @[ IoU=0.50:0.95 | area= small | maxDets=1000 ] = 0.008\n",
      " Average Recall     (AR) @[ IoU=0.50:0.95 | area=medium | maxDets=1000 ] = 0.257\n",
      " Average Recall     (AR) @[ IoU=0.50:0.95 | area= large | maxDets=1000 ] = -1.000\n",
      "\n",
      "2022-02-10 18:54:19,011 - mmdet - INFO - Epoch(val) [16][2274]\tbbox_mAP: 0.1650, bbox_mAP_50: 0.3750, bbox_mAP_75: 0.1120, bbox_mAP_s: 0.0000, bbox_mAP_m: 0.2050, bbox_mAP_l: -1.0000, bbox_mAP_copypaste: 0.165 0.375 0.112 0.000 0.205 -1.000\n"
     ]
    },
    {
     "name": "stdout",
     "output_type": "stream",
     "text": [
      "DONE (t=0.40s).\n",
      "Accumulating evaluation results...\n",
      "DONE (t=0.06s).\n"
     ]
    },
    {
     "name": "stderr",
     "output_type": "stream",
     "text": [
      "2022-02-10 18:55:42,011 - mmdet - INFO - Epoch [17][100/1111]\tlr: 2.286e-04, eta: 0:57:48, time: 0.830, data_time: 0.037, memory: 12464, loss_rpn_cls: 0.0004, loss_rpn_bbox: 0.0011, s0.loss_cls: 0.0161, s0.acc: 99.3682, s0.loss_bbox: 0.0086, s1.loss_cls: 0.0039, s1.acc: 99.7072, s1.loss_bbox: 0.0157, s2.loss_cls: 0.0018, s2.acc: 99.7471, s2.loss_bbox: 0.0164, loss: 0.0641\n",
      "2022-02-10 18:57:01,983 - mmdet - INFO - Epoch [17][200/1111]\tlr: 2.186e-04, eta: 0:56:28, time: 0.800, data_time: 0.012, memory: 12464, loss_rpn_cls: 0.0004, loss_rpn_bbox: 0.0011, s0.loss_cls: 0.0158, s0.acc: 99.3926, s0.loss_bbox: 0.0087, s1.loss_cls: 0.0032, s1.acc: 99.7540, s1.loss_bbox: 0.0152, s2.loss_cls: 0.0016, s2.acc: 99.7856, s2.loss_bbox: 0.0156, loss: 0.0617\n",
      "2022-02-10 18:58:21,984 - mmdet - INFO - Epoch [17][300/1111]\tlr: 2.087e-04, eta: 0:55:08, time: 0.800, data_time: 0.012, memory: 12464, loss_rpn_cls: 0.0003, loss_rpn_bbox: 0.0010, s0.loss_cls: 0.0138, s0.acc: 99.4570, s0.loss_bbox: 0.0077, s1.loss_cls: 0.0028, s1.acc: 99.7995, s1.loss_bbox: 0.0136, s2.loss_cls: 0.0019, s2.acc: 99.7530, s2.loss_bbox: 0.0135, loss: 0.0547\n",
      "2022-02-10 18:59:41,977 - mmdet - INFO - Epoch [17][400/1111]\tlr: 1.990e-04, eta: 0:53:48, time: 0.800, data_time: 0.012, memory: 12464, loss_rpn_cls: 0.0003, loss_rpn_bbox: 0.0011, s0.loss_cls: 0.0153, s0.acc: 99.4058, s0.loss_bbox: 0.0084, s1.loss_cls: 0.0037, s1.acc: 99.7168, s1.loss_bbox: 0.0154, s2.loss_cls: 0.0021, s2.acc: 99.7194, s2.loss_bbox: 0.0153, loss: 0.0617\n",
      "2022-02-10 19:01:02,185 - mmdet - INFO - Epoch [17][500/1111]\tlr: 1.895e-04, eta: 0:52:29, time: 0.802, data_time: 0.012, memory: 12464, loss_rpn_cls: 0.0005, loss_rpn_bbox: 0.0012, s0.loss_cls: 0.0161, s0.acc: 99.3491, s0.loss_bbox: 0.0089, s1.loss_cls: 0.0034, s1.acc: 99.7437, s1.loss_bbox: 0.0155, s2.loss_cls: 0.0019, s2.acc: 99.7207, s2.loss_bbox: 0.0153, loss: 0.0628\n",
      "2022-02-10 19:02:22,399 - mmdet - INFO - Epoch [17][600/1111]\tlr: 1.803e-04, eta: 0:51:09, time: 0.802, data_time: 0.012, memory: 12464, loss_rpn_cls: 0.0004, loss_rpn_bbox: 0.0011, s0.loss_cls: 0.0157, s0.acc: 99.3857, s0.loss_bbox: 0.0091, s1.loss_cls: 0.0034, s1.acc: 99.7368, s1.loss_bbox: 0.0154, s2.loss_cls: 0.0018, s2.acc: 99.7357, s2.loss_bbox: 0.0155, loss: 0.0624\n",
      "2022-02-10 19:03:42,633 - mmdet - INFO - Epoch [17][700/1111]\tlr: 1.713e-04, eta: 0:49:49, time: 0.802, data_time: 0.012, memory: 12464, loss_rpn_cls: 0.0003, loss_rpn_bbox: 0.0011, s0.loss_cls: 0.0150, s0.acc: 99.3975, s0.loss_bbox: 0.0083, s1.loss_cls: 0.0035, s1.acc: 99.7273, s1.loss_bbox: 0.0143, s2.loss_cls: 0.0017, s2.acc: 99.7559, s2.loss_bbox: 0.0145, loss: 0.0587\n",
      "2022-02-10 19:05:03,173 - mmdet - INFO - Epoch [17][800/1111]\tlr: 1.624e-04, eta: 0:48:29, time: 0.805, data_time: 0.012, memory: 12464, loss_rpn_cls: 0.0008, loss_rpn_bbox: 0.0013, s0.loss_cls: 0.0166, s0.acc: 99.3472, s0.loss_bbox: 0.0090, s1.loss_cls: 0.0039, s1.acc: 99.6946, s1.loss_bbox: 0.0163, s2.loss_cls: 0.0019, s2.acc: 99.7308, s2.loss_bbox: 0.0166, loss: 0.0666\n",
      "2022-02-10 19:06:23,100 - mmdet - INFO - Epoch [17][900/1111]\tlr: 1.538e-04, eta: 0:47:10, time: 0.799, data_time: 0.012, memory: 12464, loss_rpn_cls: 0.0006, loss_rpn_bbox: 0.0011, s0.loss_cls: 0.0157, s0.acc: 99.3926, s0.loss_bbox: 0.0089, s1.loss_cls: 0.0037, s1.acc: 99.7357, s1.loss_bbox: 0.0156, s2.loss_cls: 0.0023, s2.acc: 99.6982, s2.loss_bbox: 0.0156, loss: 0.0634\n",
      "2022-02-10 19:07:43,567 - mmdet - INFO - Epoch [17][1000/1111]\tlr: 1.455e-04, eta: 0:45:50, time: 0.805, data_time: 0.013, memory: 12464, loss_rpn_cls: 0.0004, loss_rpn_bbox: 0.0011, s0.loss_cls: 0.0147, s0.acc: 99.4326, s0.loss_bbox: 0.0084, s1.loss_cls: 0.0032, s1.acc: 99.7423, s1.loss_bbox: 0.0152, s2.loss_cls: 0.0015, s2.acc: 99.7849, s2.loss_bbox: 0.0158, loss: 0.0603\n",
      "2022-02-10 19:09:03,770 - mmdet - INFO - Epoch [17][1100/1111]\tlr: 1.373e-04, eta: 0:44:30, time: 0.802, data_time: 0.012, memory: 12464, loss_rpn_cls: 0.0003, loss_rpn_bbox: 0.0011, s0.loss_cls: 0.0147, s0.acc: 99.4038, s0.loss_bbox: 0.0081, s1.loss_cls: 0.0030, s1.acc: 99.7513, s1.loss_bbox: 0.0148, s2.loss_cls: 0.0015, s2.acc: 99.7587, s2.loss_bbox: 0.0150, loss: 0.0586\n",
      "2022-02-10 19:09:12,613 - mmdet - INFO - Saving checkpoint at 17 epochs\n"
     ]
    },
    {
     "name": "stdout",
     "output_type": "stream",
     "text": [
      "[>>>>>>>>>>>>>>>>>>>>>>>>>>] 2274/2274, 13.0 task/s, elapsed: 174s, ETA:     0s"
     ]
    },
    {
     "name": "stderr",
     "output_type": "stream",
     "text": [
      "2022-02-10 19:12:08,573 - mmdet - INFO - Evaluating bbox...\n"
     ]
    },
    {
     "name": "stdout",
     "output_type": "stream",
     "text": [
      "Loading and preparing results...\n",
      "DONE (t=0.00s)\n",
      "creating index...\n",
      "index created!\n",
      "Running per image evaluation...\n",
      "Evaluate annotation type *bbox*\n"
     ]
    },
    {
     "name": "stderr",
     "output_type": "stream",
     "text": [
      "2022-02-10 19:12:09,067 - mmdet - INFO - \n",
      " Average Precision  (AP) @[ IoU=0.50:0.95 | area=   all | maxDets=100 ] = 0.162\n",
      " Average Precision  (AP) @[ IoU=0.50      | area=   all | maxDets=1000 ] = 0.368\n",
      " Average Precision  (AP) @[ IoU=0.75      | area=   all | maxDets=1000 ] = 0.104\n",
      " Average Precision  (AP) @[ IoU=0.50:0.95 | area= small | maxDets=1000 ] = 0.000\n",
      " Average Precision  (AP) @[ IoU=0.50:0.95 | area=medium | maxDets=1000 ] = 0.201\n",
      " Average Precision  (AP) @[ IoU=0.50:0.95 | area= large | maxDets=1000 ] = -1.000\n",
      " Average Recall     (AR) @[ IoU=0.50:0.95 | area=   all | maxDets=100 ] = 0.212\n",
      " Average Recall     (AR) @[ IoU=0.50:0.95 | area=   all | maxDets=300 ] = 0.212\n",
      " Average Recall     (AR) @[ IoU=0.50:0.95 | area=   all | maxDets=1000 ] = 0.212\n",
      " Average Recall     (AR) @[ IoU=0.50:0.95 | area= small | maxDets=1000 ] = 0.006\n",
      " Average Recall     (AR) @[ IoU=0.50:0.95 | area=medium | maxDets=1000 ] = 0.254\n",
      " Average Recall     (AR) @[ IoU=0.50:0.95 | area= large | maxDets=1000 ] = -1.000\n",
      "\n",
      "2022-02-10 19:12:09,072 - mmdet - INFO - Epoch(val) [17][2274]\tbbox_mAP: 0.1620, bbox_mAP_50: 0.3680, bbox_mAP_75: 0.1040, bbox_mAP_s: 0.0000, bbox_mAP_m: 0.2010, bbox_mAP_l: -1.0000, bbox_mAP_copypaste: 0.162 0.368 0.104 0.000 0.201 -1.000\n"
     ]
    },
    {
     "name": "stdout",
     "output_type": "stream",
     "text": [
      "DONE (t=0.40s).\n",
      "Accumulating evaluation results...\n",
      "DONE (t=0.08s).\n"
     ]
    },
    {
     "name": "stderr",
     "output_type": "stream",
     "text": [
      "2022-02-10 19:13:31,798 - mmdet - INFO - Epoch [18][100/1111]\tlr: 1.285e-04, eta: 0:43:00, time: 0.827, data_time: 0.037, memory: 12464, loss_rpn_cls: 0.0006, loss_rpn_bbox: 0.0010, s0.loss_cls: 0.0150, s0.acc: 99.4004, s0.loss_bbox: 0.0079, s1.loss_cls: 0.0034, s1.acc: 99.7340, s1.loss_bbox: 0.0136, s2.loss_cls: 0.0016, s2.acc: 99.7654, s2.loss_bbox: 0.0140, loss: 0.0570\n",
      "2022-02-10 19:14:52,016 - mmdet - INFO - Epoch [18][200/1111]\tlr: 1.208e-04, eta: 0:41:41, time: 0.802, data_time: 0.012, memory: 12464, loss_rpn_cls: 0.0005, loss_rpn_bbox: 0.0011, s0.loss_cls: 0.0154, s0.acc: 99.3955, s0.loss_bbox: 0.0077, s1.loss_cls: 0.0038, s1.acc: 99.7159, s1.loss_bbox: 0.0128, s2.loss_cls: 0.0017, s2.acc: 99.7536, s2.loss_bbox: 0.0135, loss: 0.0567\n",
      "2022-02-10 19:16:11,980 - mmdet - INFO - Epoch [18][300/1111]\tlr: 1.133e-04, eta: 0:40:21, time: 0.800, data_time: 0.012, memory: 12464, loss_rpn_cls: 0.0003, loss_rpn_bbox: 0.0012, s0.loss_cls: 0.0153, s0.acc: 99.4141, s0.loss_bbox: 0.0082, s1.loss_cls: 0.0036, s1.acc: 99.7206, s1.loss_bbox: 0.0141, s2.loss_cls: 0.0019, s2.acc: 99.7435, s2.loss_bbox: 0.0143, loss: 0.0591\n",
      "2022-02-10 19:17:32,165 - mmdet - INFO - Epoch [18][400/1111]\tlr: 1.061e-04, eta: 0:39:01, time: 0.802, data_time: 0.012, memory: 12464, loss_rpn_cls: 0.0003, loss_rpn_bbox: 0.0011, s0.loss_cls: 0.0139, s0.acc: 99.4746, s0.loss_bbox: 0.0076, s1.loss_cls: 0.0031, s1.acc: 99.7611, s1.loss_bbox: 0.0133, s2.loss_cls: 0.0019, s2.acc: 99.7574, s2.loss_bbox: 0.0133, loss: 0.0545\n",
      "2022-02-10 19:18:52,461 - mmdet - INFO - Epoch [18][500/1111]\tlr: 9.910e-05, eta: 0:37:41, time: 0.803, data_time: 0.012, memory: 12464, loss_rpn_cls: 0.0003, loss_rpn_bbox: 0.0010, s0.loss_cls: 0.0148, s0.acc: 99.4072, s0.loss_bbox: 0.0083, s1.loss_cls: 0.0036, s1.acc: 99.7122, s1.loss_bbox: 0.0141, s2.loss_cls: 0.0017, s2.acc: 99.7574, s2.loss_bbox: 0.0144, loss: 0.0583\n",
      "2022-02-10 19:20:12,806 - mmdet - INFO - Epoch [18][600/1111]\tlr: 9.233e-05, eta: 0:36:21, time: 0.803, data_time: 0.012, memory: 12464, loss_rpn_cls: 0.0004, loss_rpn_bbox: 0.0011, s0.loss_cls: 0.0154, s0.acc: 99.3892, s0.loss_bbox: 0.0084, s1.loss_cls: 0.0033, s1.acc: 99.7469, s1.loss_bbox: 0.0144, s2.loss_cls: 0.0016, s2.acc: 99.7646, s2.loss_bbox: 0.0146, loss: 0.0591\n",
      "2022-02-10 19:21:33,233 - mmdet - INFO - Epoch [18][700/1111]\tlr: 8.578e-05, eta: 0:35:02, time: 0.804, data_time: 0.013, memory: 12464, loss_rpn_cls: 0.0005, loss_rpn_bbox: 0.0011, s0.loss_cls: 0.0156, s0.acc: 99.3994, s0.loss_bbox: 0.0089, s1.loss_cls: 0.0036, s1.acc: 99.7265, s1.loss_bbox: 0.0160, s2.loss_cls: 0.0018, s2.acc: 99.7417, s2.loss_bbox: 0.0161, loss: 0.0636\n",
      "2022-02-10 19:22:53,348 - mmdet - INFO - Epoch [18][800/1111]\tlr: 7.947e-05, eta: 0:33:42, time: 0.801, data_time: 0.012, memory: 12464, loss_rpn_cls: 0.0006, loss_rpn_bbox: 0.0012, s0.loss_cls: 0.0159, s0.acc: 99.3823, s0.loss_bbox: 0.0089, s1.loss_cls: 0.0041, s1.acc: 99.7040, s1.loss_bbox: 0.0155, s2.loss_cls: 0.0019, s2.acc: 99.7349, s2.loss_bbox: 0.0158, loss: 0.0639\n",
      "2022-02-10 19:24:13,546 - mmdet - INFO - Epoch [18][900/1111]\tlr: 7.339e-05, eta: 0:32:22, time: 0.802, data_time: 0.012, memory: 12464, loss_rpn_cls: 0.0004, loss_rpn_bbox: 0.0012, s0.loss_cls: 0.0157, s0.acc: 99.3760, s0.loss_bbox: 0.0086, s1.loss_cls: 0.0036, s1.acc: 99.7397, s1.loss_bbox: 0.0148, s2.loss_cls: 0.0023, s2.acc: 99.7158, s2.loss_bbox: 0.0144, loss: 0.0610\n",
      "2022-02-10 19:25:33,606 - mmdet - INFO - Epoch [18][1000/1111]\tlr: 6.754e-05, eta: 0:31:02, time: 0.801, data_time: 0.012, memory: 12464, loss_rpn_cls: 0.0003, loss_rpn_bbox: 0.0009, s0.loss_cls: 0.0143, s0.acc: 99.4316, s0.loss_bbox: 0.0074, s1.loss_cls: 0.0030, s1.acc: 99.7667, s1.loss_bbox: 0.0131, s2.loss_cls: 0.0016, s2.acc: 99.7756, s2.loss_bbox: 0.0136, loss: 0.0543\n",
      "2022-02-10 19:26:53,443 - mmdet - INFO - Epoch [18][1100/1111]\tlr: 6.193e-05, eta: 0:29:42, time: 0.798, data_time: 0.012, memory: 12464, loss_rpn_cls: 0.0004, loss_rpn_bbox: 0.0010, s0.loss_cls: 0.0149, s0.acc: 99.4028, s0.loss_bbox: 0.0075, s1.loss_cls: 0.0030, s1.acc: 99.7584, s1.loss_bbox: 0.0131, s2.loss_cls: 0.0013, s2.acc: 99.8139, s2.loss_bbox: 0.0136, loss: 0.0548\n",
      "2022-02-10 19:27:02,294 - mmdet - INFO - Saving checkpoint at 18 epochs\n"
     ]
    },
    {
     "name": "stdout",
     "output_type": "stream",
     "text": [
      "[>>>>>>>>>>>>>>>>>>>>>>>>>>] 2274/2274, 13.1 task/s, elapsed: 174s, ETA:     0s"
     ]
    },
    {
     "name": "stderr",
     "output_type": "stream",
     "text": [
      "2022-02-10 19:29:57,639 - mmdet - INFO - Evaluating bbox...\n"
     ]
    },
    {
     "name": "stdout",
     "output_type": "stream",
     "text": [
      "Loading and preparing results...\n",
      "DONE (t=0.00s)\n",
      "creating index...\n",
      "index created!\n",
      "Running per image evaluation...\n",
      "Evaluate annotation type *bbox*\n"
     ]
    },
    {
     "name": "stderr",
     "output_type": "stream",
     "text": [
      "2022-02-10 19:29:58,269 - mmdet - INFO - \n",
      " Average Precision  (AP) @[ IoU=0.50:0.95 | area=   all | maxDets=100 ] = 0.160\n",
      " Average Precision  (AP) @[ IoU=0.50      | area=   all | maxDets=1000 ] = 0.360\n",
      " Average Precision  (AP) @[ IoU=0.75      | area=   all | maxDets=1000 ] = 0.106\n",
      " Average Precision  (AP) @[ IoU=0.50:0.95 | area= small | maxDets=1000 ] = 0.000\n",
      " Average Precision  (AP) @[ IoU=0.50:0.95 | area=medium | maxDets=1000 ] = 0.197\n",
      " Average Precision  (AP) @[ IoU=0.50:0.95 | area= large | maxDets=1000 ] = -1.000\n",
      " Average Recall     (AR) @[ IoU=0.50:0.95 | area=   all | maxDets=100 ] = 0.208\n",
      " Average Recall     (AR) @[ IoU=0.50:0.95 | area=   all | maxDets=300 ] = 0.208\n",
      " Average Recall     (AR) @[ IoU=0.50:0.95 | area=   all | maxDets=1000 ] = 0.208\n",
      " Average Recall     (AR) @[ IoU=0.50:0.95 | area= small | maxDets=1000 ] = 0.006\n",
      " Average Recall     (AR) @[ IoU=0.50:0.95 | area=medium | maxDets=1000 ] = 0.250\n",
      " Average Recall     (AR) @[ IoU=0.50:0.95 | area= large | maxDets=1000 ] = -1.000\n",
      "\n",
      "2022-02-10 19:29:58,275 - mmdet - INFO - Epoch(val) [18][2274]\tbbox_mAP: 0.1600, bbox_mAP_50: 0.3600, bbox_mAP_75: 0.1060, bbox_mAP_s: 0.0000, bbox_mAP_m: 0.1970, bbox_mAP_l: -1.0000, bbox_mAP_copypaste: 0.160 0.360 0.106 0.000 0.197 -1.000\n"
     ]
    },
    {
     "name": "stdout",
     "output_type": "stream",
     "text": [
      "DONE (t=0.56s).\n",
      "Accumulating evaluation results...\n",
      "DONE (t=0.06s).\n"
     ]
    },
    {
     "name": "stderr",
     "output_type": "stream",
     "text": [
      "2022-02-10 19:31:20,940 - mmdet - INFO - Epoch [19][100/1111]\tlr: 5.599e-05, eta: 0:28:13, time: 0.826, data_time: 0.038, memory: 12464, loss_rpn_cls: 0.0003, loss_rpn_bbox: 0.0009, s0.loss_cls: 0.0140, s0.acc: 99.4639, s0.loss_bbox: 0.0073, s1.loss_cls: 0.0030, s1.acc: 99.7702, s1.loss_bbox: 0.0128, s2.loss_cls: 0.0016, s2.acc: 99.7729, s2.loss_bbox: 0.0129, loss: 0.0527\n",
      "2022-02-10 19:32:41,221 - mmdet - INFO - Epoch [19][200/1111]\tlr: 5.088e-05, eta: 0:26:53, time: 0.803, data_time: 0.012, memory: 12464, loss_rpn_cls: 0.0005, loss_rpn_bbox: 0.0011, s0.loss_cls: 0.0156, s0.acc: 99.3916, s0.loss_bbox: 0.0077, s1.loss_cls: 0.0036, s1.acc: 99.7183, s1.loss_bbox: 0.0131, s2.loss_cls: 0.0016, s2.acc: 99.7744, s2.loss_bbox: 0.0137, loss: 0.0570\n",
      "2022-02-10 19:34:01,009 - mmdet - INFO - Epoch [19][300/1111]\tlr: 4.602e-05, eta: 0:25:34, time: 0.798, data_time: 0.012, memory: 12464, loss_rpn_cls: 0.0006, loss_rpn_bbox: 0.0010, s0.loss_cls: 0.0151, s0.acc: 99.4189, s0.loss_bbox: 0.0079, s1.loss_cls: 0.0039, s1.acc: 99.7245, s1.loss_bbox: 0.0131, s2.loss_cls: 0.0018, s2.acc: 99.7348, s2.loss_bbox: 0.0136, loss: 0.0569\n",
      "2022-02-10 19:35:21,043 - mmdet - INFO - Epoch [19][400/1111]\tlr: 4.139e-05, eta: 0:24:14, time: 0.800, data_time: 0.012, memory: 12464, loss_rpn_cls: 0.0004, loss_rpn_bbox: 0.0010, s0.loss_cls: 0.0128, s0.acc: 99.5024, s0.loss_bbox: 0.0069, s1.loss_cls: 0.0027, s1.acc: 99.7897, s1.loss_bbox: 0.0120, s2.loss_cls: 0.0016, s2.acc: 99.7795, s2.loss_bbox: 0.0122, loss: 0.0495\n",
      "2022-02-10 19:36:41,341 - mmdet - INFO - Epoch [19][500/1111]\tlr: 3.701e-05, eta: 0:22:54, time: 0.803, data_time: 0.012, memory: 12464, loss_rpn_cls: 0.0005, loss_rpn_bbox: 0.0010, s0.loss_cls: 0.0139, s0.acc: 99.4668, s0.loss_bbox: 0.0070, s1.loss_cls: 0.0032, s1.acc: 99.7538, s1.loss_bbox: 0.0121, s2.loss_cls: 0.0013, s2.acc: 99.8226, s2.loss_bbox: 0.0124, loss: 0.0513\n",
      "2022-02-10 19:38:01,694 - mmdet - INFO - Epoch [19][600/1111]\tlr: 3.286e-05, eta: 0:21:34, time: 0.804, data_time: 0.013, memory: 12464, loss_rpn_cls: 0.0003, loss_rpn_bbox: 0.0010, s0.loss_cls: 0.0149, s0.acc: 99.4351, s0.loss_bbox: 0.0081, s1.loss_cls: 0.0037, s1.acc: 99.7297, s1.loss_bbox: 0.0138, s2.loss_cls: 0.0019, s2.acc: 99.7296, s2.loss_bbox: 0.0139, loss: 0.0576\n",
      "2022-02-10 19:39:22,018 - mmdet - INFO - Epoch [19][700/1111]\tlr: 2.897e-05, eta: 0:20:14, time: 0.803, data_time: 0.013, memory: 12464, loss_rpn_cls: 0.0005, loss_rpn_bbox: 0.0011, s0.loss_cls: 0.0146, s0.acc: 99.4160, s0.loss_bbox: 0.0077, s1.loss_cls: 0.0030, s1.acc: 99.7675, s1.loss_bbox: 0.0137, s2.loss_cls: 0.0013, s2.acc: 99.7992, s2.loss_bbox: 0.0143, loss: 0.0563\n",
      "2022-02-10 19:40:42,573 - mmdet - INFO - Epoch [19][800/1111]\tlr: 2.531e-05, eta: 0:18:55, time: 0.806, data_time: 0.012, memory: 12464, loss_rpn_cls: 0.0004, loss_rpn_bbox: 0.0010, s0.loss_cls: 0.0142, s0.acc: 99.4360, s0.loss_bbox: 0.0074, s1.loss_cls: 0.0029, s1.acc: 99.7713, s1.loss_bbox: 0.0129, s2.loss_cls: 0.0014, s2.acc: 99.7984, s2.loss_bbox: 0.0133, loss: 0.0535\n",
      "2022-02-10 19:42:02,738 - mmdet - INFO - Epoch [19][900/1111]\tlr: 2.190e-05, eta: 0:17:35, time: 0.802, data_time: 0.012, memory: 12464, loss_rpn_cls: 0.0004, loss_rpn_bbox: 0.0011, s0.loss_cls: 0.0162, s0.acc: 99.3555, s0.loss_bbox: 0.0087, s1.loss_cls: 0.0035, s1.acc: 99.7257, s1.loss_bbox: 0.0149, s2.loss_cls: 0.0016, s2.acc: 99.7718, s2.loss_bbox: 0.0151, loss: 0.0615\n",
      "2022-02-10 19:43:23,522 - mmdet - INFO - Epoch [19][1000/1111]\tlr: 1.874e-05, eta: 0:16:15, time: 0.808, data_time: 0.012, memory: 12464, loss_rpn_cls: 0.0003, loss_rpn_bbox: 0.0012, s0.loss_cls: 0.0156, s0.acc: 99.3872, s0.loss_bbox: 0.0083, s1.loss_cls: 0.0035, s1.acc: 99.7331, s1.loss_bbox: 0.0140, s2.loss_cls: 0.0017, s2.acc: 99.7577, s2.loss_bbox: 0.0139, loss: 0.0585\n",
      "2022-02-10 19:44:43,609 - mmdet - INFO - Epoch [19][1100/1111]\tlr: 1.582e-05, eta: 0:14:55, time: 0.801, data_time: 0.012, memory: 12464, loss_rpn_cls: 0.0004, loss_rpn_bbox: 0.0012, s0.loss_cls: 0.0157, s0.acc: 99.3833, s0.loss_bbox: 0.0086, s1.loss_cls: 0.0034, s1.acc: 99.7306, s1.loss_bbox: 0.0143, s2.loss_cls: 0.0019, s2.acc: 99.7335, s2.loss_bbox: 0.0140, loss: 0.0596\n",
      "2022-02-10 19:44:52,426 - mmdet - INFO - Saving checkpoint at 19 epochs\n"
     ]
    },
    {
     "name": "stdout",
     "output_type": "stream",
     "text": [
      "[>>>>>>>>>>>>>>>>>>>>>>>>>>] 2274/2274, 13.1 task/s, elapsed: 174s, ETA:     0s"
     ]
    },
    {
     "name": "stderr",
     "output_type": "stream",
     "text": [
      "2022-02-10 19:47:47,738 - mmdet - INFO - Evaluating bbox...\n"
     ]
    },
    {
     "name": "stdout",
     "output_type": "stream",
     "text": [
      "Loading and preparing results...\n",
      "DONE (t=0.00s)\n",
      "creating index...\n",
      "index created!\n",
      "Running per image evaluation...\n",
      "Evaluate annotation type *bbox*\n"
     ]
    },
    {
     "name": "stderr",
     "output_type": "stream",
     "text": [
      "2022-02-10 19:47:48,229 - mmdet - INFO - \n",
      " Average Precision  (AP) @[ IoU=0.50:0.95 | area=   all | maxDets=100 ] = 0.161\n",
      " Average Precision  (AP) @[ IoU=0.50      | area=   all | maxDets=1000 ] = 0.367\n",
      " Average Precision  (AP) @[ IoU=0.75      | area=   all | maxDets=1000 ] = 0.104\n",
      " Average Precision  (AP) @[ IoU=0.50:0.95 | area= small | maxDets=1000 ] = 0.000\n",
      " Average Precision  (AP) @[ IoU=0.50:0.95 | area=medium | maxDets=1000 ] = 0.198\n",
      " Average Precision  (AP) @[ IoU=0.50:0.95 | area= large | maxDets=1000 ] = -1.000\n",
      " Average Recall     (AR) @[ IoU=0.50:0.95 | area=   all | maxDets=100 ] = 0.209\n",
      " Average Recall     (AR) @[ IoU=0.50:0.95 | area=   all | maxDets=300 ] = 0.209\n",
      " Average Recall     (AR) @[ IoU=0.50:0.95 | area=   all | maxDets=1000 ] = 0.209\n",
      " Average Recall     (AR) @[ IoU=0.50:0.95 | area= small | maxDets=1000 ] = 0.006\n",
      " Average Recall     (AR) @[ IoU=0.50:0.95 | area=medium | maxDets=1000 ] = 0.251\n",
      " Average Recall     (AR) @[ IoU=0.50:0.95 | area= large | maxDets=1000 ] = -1.000\n",
      "\n",
      "2022-02-10 19:47:48,235 - mmdet - INFO - Epoch(val) [19][2274]\tbbox_mAP: 0.1610, bbox_mAP_50: 0.3670, bbox_mAP_75: 0.1040, bbox_mAP_s: 0.0000, bbox_mAP_m: 0.1980, bbox_mAP_l: -1.0000, bbox_mAP_copypaste: 0.161 0.367 0.104 0.000 0.198 -1.000\n"
     ]
    },
    {
     "name": "stdout",
     "output_type": "stream",
     "text": [
      "DONE (t=0.42s).\n",
      "Accumulating evaluation results...\n",
      "DONE (t=0.06s).\n"
     ]
    },
    {
     "name": "stderr",
     "output_type": "stream",
     "text": [
      "2022-02-10 19:49:11,038 - mmdet - INFO - Epoch [20][100/1111]\tlr: 1.287e-05, eta: 0:13:26, time: 0.828, data_time: 0.038, memory: 12464, loss_rpn_cls: 0.0003, loss_rpn_bbox: 0.0011, s0.loss_cls: 0.0159, s0.acc: 99.3848, s0.loss_bbox: 0.0081, s1.loss_cls: 0.0035, s1.acc: 99.7459, s1.loss_bbox: 0.0141, s2.loss_cls: 0.0020, s2.acc: 99.7223, s2.loss_bbox: 0.0140, loss: 0.0591\n",
      "2022-02-10 19:50:30,643 - mmdet - INFO - Epoch [20][200/1111]\tlr: 1.048e-05, eta: 0:12:07, time: 0.796, data_time: 0.012, memory: 12464, loss_rpn_cls: 0.0003, loss_rpn_bbox: 0.0010, s0.loss_cls: 0.0149, s0.acc: 99.3838, s0.loss_bbox: 0.0076, s1.loss_cls: 0.0031, s1.acc: 99.7553, s1.loss_bbox: 0.0131, s2.loss_cls: 0.0015, s2.acc: 99.7773, s2.loss_bbox: 0.0132, loss: 0.0548\n",
      "2022-02-10 19:51:50,707 - mmdet - INFO - Epoch [20][300/1111]\tlr: 8.328e-06, eta: 0:10:47, time: 0.801, data_time: 0.012, memory: 12464, loss_rpn_cls: 0.0003, loss_rpn_bbox: 0.0009, s0.loss_cls: 0.0134, s0.acc: 99.4731, s0.loss_bbox: 0.0069, s1.loss_cls: 0.0030, s1.acc: 99.7675, s1.loss_bbox: 0.0114, s2.loss_cls: 0.0014, s2.acc: 99.8032, s2.loss_bbox: 0.0119, loss: 0.0491\n",
      "2022-02-10 19:53:10,596 - mmdet - INFO - Epoch [20][400/1111]\tlr: 6.428e-06, eta: 0:09:27, time: 0.799, data_time: 0.012, memory: 12464, loss_rpn_cls: 0.0003, loss_rpn_bbox: 0.0010, s0.loss_cls: 0.0138, s0.acc: 99.4551, s0.loss_bbox: 0.0072, s1.loss_cls: 0.0028, s1.acc: 99.7835, s1.loss_bbox: 0.0126, s2.loss_cls: 0.0015, s2.acc: 99.7832, s2.loss_bbox: 0.0132, loss: 0.0524\n",
      "2022-02-10 19:54:30,463 - mmdet - INFO - Epoch [20][500/1111]\tlr: 4.776e-06, eta: 0:08:07, time: 0.799, data_time: 0.012, memory: 12464, loss_rpn_cls: 0.0009, loss_rpn_bbox: 0.0011, s0.loss_cls: 0.0154, s0.acc: 99.4146, s0.loss_bbox: 0.0082, s1.loss_cls: 0.0040, s1.acc: 99.7082, s1.loss_bbox: 0.0138, s2.loss_cls: 0.0018, s2.acc: 99.7405, s2.loss_bbox: 0.0139, loss: 0.0591\n",
      "2022-02-10 19:55:50,313 - mmdet - INFO - Epoch [20][600/1111]\tlr: 3.374e-06, eta: 0:06:47, time: 0.798, data_time: 0.012, memory: 12464, loss_rpn_cls: 0.0003, loss_rpn_bbox: 0.0011, s0.loss_cls: 0.0153, s0.acc: 99.4097, s0.loss_bbox: 0.0080, s1.loss_cls: 0.0038, s1.acc: 99.7185, s1.loss_bbox: 0.0136, s2.loss_cls: 0.0018, s2.acc: 99.7440, s2.loss_bbox: 0.0137, loss: 0.0576\n",
      "2022-02-10 19:57:10,649 - mmdet - INFO - Epoch [20][700/1111]\tlr: 2.220e-06, eta: 0:05:28, time: 0.803, data_time: 0.012, memory: 12464, loss_rpn_cls: 0.0004, loss_rpn_bbox: 0.0011, s0.loss_cls: 0.0148, s0.acc: 99.4316, s0.loss_bbox: 0.0074, s1.loss_cls: 0.0029, s1.acc: 99.7720, s1.loss_bbox: 0.0128, s2.loss_cls: 0.0013, s2.acc: 99.8049, s2.loss_bbox: 0.0129, loss: 0.0536\n",
      "2022-02-10 19:58:30,904 - mmdet - INFO - Epoch [20][800/1111]\tlr: 1.316e-06, eta: 0:04:08, time: 0.803, data_time: 0.012, memory: 12464, loss_rpn_cls: 0.0003, loss_rpn_bbox: 0.0010, s0.loss_cls: 0.0146, s0.acc: 99.4229, s0.loss_bbox: 0.0079, s1.loss_cls: 0.0032, s1.acc: 99.7475, s1.loss_bbox: 0.0138, s2.loss_cls: 0.0017, s2.acc: 99.7707, s2.loss_bbox: 0.0142, loss: 0.0567\n",
      "2022-02-10 19:59:50,857 - mmdet - INFO - Epoch [20][900/1111]\tlr: 6.615e-07, eta: 0:02:48, time: 0.800, data_time: 0.013, memory: 12464, loss_rpn_cls: 0.0006, loss_rpn_bbox: 0.0011, s0.loss_cls: 0.0149, s0.acc: 99.4077, s0.loss_bbox: 0.0082, s1.loss_cls: 0.0033, s1.acc: 99.7566, s1.loss_bbox: 0.0138, s2.loss_cls: 0.0017, s2.acc: 99.7716, s2.loss_bbox: 0.0141, loss: 0.0578\n",
      "2022-02-10 20:01:10,854 - mmdet - INFO - Epoch [20][1000/1111]\tlr: 2.567e-07, eta: 0:01:28, time: 0.800, data_time: 0.013, memory: 12464, loss_rpn_cls: 0.0003, loss_rpn_bbox: 0.0012, s0.loss_cls: 0.0155, s0.acc: 99.3784, s0.loss_bbox: 0.0085, s1.loss_cls: 0.0035, s1.acc: 99.7259, s1.loss_bbox: 0.0145, s2.loss_cls: 0.0018, s2.acc: 99.7310, s2.loss_bbox: 0.0142, loss: 0.0593\n",
      "2022-02-10 20:02:30,970 - mmdet - INFO - Epoch [20][1100/1111]\tlr: 1.018e-07, eta: 0:00:08, time: 0.801, data_time: 0.012, memory: 12464, loss_rpn_cls: 0.0005, loss_rpn_bbox: 0.0011, s0.loss_cls: 0.0139, s0.acc: 99.4507, s0.loss_bbox: 0.0073, s1.loss_cls: 0.0029, s1.acc: 99.7713, s1.loss_bbox: 0.0132, s2.loss_cls: 0.0016, s2.acc: 99.7924, s2.loss_bbox: 0.0136, loss: 0.0541\n",
      "2022-02-10 20:02:39,816 - mmdet - INFO - Saving checkpoint at 20 epochs\n"
     ]
    },
    {
     "name": "stdout",
     "output_type": "stream",
     "text": [
      "[>>>>>>>>>>>>>>>>>>>>>>>>>>] 2274/2274, 13.1 task/s, elapsed: 174s, ETA:     0s"
     ]
    },
    {
     "name": "stderr",
     "output_type": "stream",
     "text": [
      "2022-02-10 20:05:35,086 - mmdet - INFO - Evaluating bbox...\n"
     ]
    },
    {
     "name": "stdout",
     "output_type": "stream",
     "text": [
      "Loading and preparing results...\n",
      "DONE (t=0.00s)\n",
      "creating index...\n",
      "index created!\n",
      "Running per image evaluation...\n",
      "Evaluate annotation type *bbox*\n"
     ]
    },
    {
     "name": "stderr",
     "output_type": "stream",
     "text": [
      "2022-02-10 20:05:35,532 - mmdet - INFO - \n",
      " Average Precision  (AP) @[ IoU=0.50:0.95 | area=   all | maxDets=100 ] = 0.160\n",
      " Average Precision  (AP) @[ IoU=0.50      | area=   all | maxDets=1000 ] = 0.367\n",
      " Average Precision  (AP) @[ IoU=0.75      | area=   all | maxDets=1000 ] = 0.106\n",
      " Average Precision  (AP) @[ IoU=0.50:0.95 | area= small | maxDets=1000 ] = 0.000\n",
      " Average Precision  (AP) @[ IoU=0.50:0.95 | area=medium | maxDets=1000 ] = 0.198\n",
      " Average Precision  (AP) @[ IoU=0.50:0.95 | area= large | maxDets=1000 ] = -1.000\n",
      " Average Recall     (AR) @[ IoU=0.50:0.95 | area=   all | maxDets=100 ] = 0.209\n",
      " Average Recall     (AR) @[ IoU=0.50:0.95 | area=   all | maxDets=300 ] = 0.209\n",
      " Average Recall     (AR) @[ IoU=0.50:0.95 | area=   all | maxDets=1000 ] = 0.209\n",
      " Average Recall     (AR) @[ IoU=0.50:0.95 | area= small | maxDets=1000 ] = 0.006\n",
      " Average Recall     (AR) @[ IoU=0.50:0.95 | area=medium | maxDets=1000 ] = 0.251\n",
      " Average Recall     (AR) @[ IoU=0.50:0.95 | area= large | maxDets=1000 ] = -1.000\n",
      "\n",
      "2022-02-10 20:05:35,537 - mmdet - INFO - Epoch(val) [20][2274]\tbbox_mAP: 0.1600, bbox_mAP_50: 0.3670, bbox_mAP_75: 0.1060, bbox_mAP_s: 0.0000, bbox_mAP_m: 0.1980, bbox_mAP_l: -1.0000, bbox_mAP_copypaste: 0.160 0.367 0.106 0.000 0.198 -1.000\n"
     ]
    },
    {
     "name": "stdout",
     "output_type": "stream",
     "text": [
      "DONE (t=0.38s).\n",
      "Accumulating evaluation results...\n",
      "DONE (t=0.06s).\n"
     ]
    },
    {
     "data": {
      "text/html": [
       "<br/>Waiting for W&B process to finish, PID 7412... <strong style=\"color:green\">(success).</strong>"
      ],
      "text/plain": [
       "<IPython.core.display.HTML object>"
      ]
     },
     "metadata": {},
     "output_type": "display_data"
    },
    {
     "data": {
      "application/vnd.jupyter.widget-view+json": {
       "model_id": "",
       "version_major": 2,
       "version_minor": 0
      },
      "text/plain": [
       "VBox(children=(Label(value=' 0.09MB of 0.09MB uploaded (0.00MB deduped)\\r'), FloatProgress(value=1.0, max=1.0)…"
      ]
     },
     "metadata": {},
     "output_type": "display_data"
    },
    {
     "data": {
      "text/html": [
       "<style>\n",
       "    table.wandb td:nth-child(1) { padding: 0 10px; text-align: right }\n",
       "    .wandb-row { display: flex; flex-direction: row; flex-wrap: wrap; width: 100% }\n",
       "    .wandb-col { display: flex; flex-direction: column; flex-basis: 100%; flex: 1; padding: 10px; }\n",
       "    </style>\n",
       "<div class=\"wandb-row\"><div class=\"wandb-col\">\n",
       "<h3>Run history:</h3><br/><table class=\"wandb\"><tr><td>learning_rate</td><td>▄██████▇▇▇▇▇▆▆▆▆▆▅▅▅▄▄▄▃▃▃▃▂▂▂▂▂▂▁▁▁▁▁▁▁</td></tr><tr><td>momentum</td><td>▁▁▁▁▁▁▁▁▁▁▁▁▁▁▁▁▁▁▁▁▁▁▁▁▁▁▁▁▁▁▁▁▁▁▁▁▁▁▁▁</td></tr><tr><td>train/loss</td><td>▅████▆▆▆▆▅▅▅▅▄▄▄▃▃▃▃▃▃▂▂▂▂▂▂▂▁▁▁▁▁▁▁▁▁▁▁</td></tr><tr><td>train/loss_rpn_bbox</td><td>█▆▄▄▄▃▃▃▃▃▂▃▂▂▂▂▂▂▂▂▂▂▁▂▁▁▁▁▁▁▁▁▁▁▁▁▁▁▁▁</td></tr><tr><td>train/loss_rpn_cls</td><td>█▄▂▂▁▁▁▁▁▁▁▁▁▁▁▁▁▁▁▁▁▁▁▁▁▁▁▁▁▁▁▁▁▁▁▁▁▁▁▁</td></tr><tr><td>train/s0.acc</td><td>▆▁▂▃▂▄▄▄▅▅▅▅▅▆▆▆▇▆▇▇▇▇▇▇▇▇█▇████████████</td></tr><tr><td>train/s0.loss_bbox</td><td>▃█▆▆▆▅▅▅▅▄▄▄▃▃▃▃▂▂▂▂▂▂▂▂▂▂▁▁▁▁▁▁▁▁▁▁▁▁▁▁</td></tr><tr><td>train/s0.loss_cls</td><td>▆█▆▆▆▄▄▄▄▄▃▃▃▃▃▃▂▂▂▂▂▂▂▂▂▂▁▁▁▁▁▁▁▁▁▁▁▁▁▁</td></tr><tr><td>train/s1.acc</td><td>▇▁▂▃▃▄▄▅▅▅▅▆▆▆▆▆▇▇▇▇▇▇▇▇████████████████</td></tr><tr><td>train/s1.loss_bbox</td><td>▁▆███▇▇▆▆▆▅▅▅▅▄▄▃▄▃▃▃▃▂▂▂▂▂▂▂▂▂▁▁▁▁▁▁▁▁▁</td></tr><tr><td>train/s1.loss_cls</td><td>▄█▇▆▆▅▅▄▄▄▃▃▃▃▃▃▂▂▂▂▂▂▂▂▁▁▁▁▁▁▁▁▁▁▁▁▁▁▁▁</td></tr><tr><td>train/s2.acc</td><td>▇▄▁▂▁▃▃▄▄▄▅▅▅▆▆▆▆▇▇▇▇▇▇▇████████████████</td></tr><tr><td>train/s2.loss_bbox</td><td>▁▃▇██▇█▇▇▇▆▆▆▆▅▅▅▅▅▅▄▄▄▃▃▃▃▃▂▂▂▂▂▂▂▂▂▂▂▂</td></tr><tr><td>train/s2.loss_cls</td><td>▃▆███▆▆▅▆▅▄▄▄▄▃▃▃▃▂▃▂▂▂▂▂▁▁▁▁▁▁▁▁▁▁▁▁▁▁▁</td></tr><tr><td>val/bbox_mAP</td><td>▁▄█▇▅▇▆▃▅▆▆▂▄▄▄▃▃▃▃▃</td></tr><tr><td>val/bbox_mAP_50</td><td>▂▅█▇▅▇▆▂▄▆▄▁▃▃▃▂▂▁▂▂</td></tr><tr><td>val/bbox_mAP_75</td><td>▁▃▆█▃▅▆▄█▅▆▄▅▅▅▅▄▄▄▄</td></tr><tr><td>val/bbox_mAP_l</td><td>▁▁▁▁▁▁▁▁▁▁▁▁▁▁▁▁▁▁▁▁</td></tr><tr><td>val/bbox_mAP_m</td><td>▁▄██▅▇▇▄▆▆▆▃▄▅▄▄▃▃▃▃</td></tr><tr><td>val/bbox_mAP_s</td><td>▆▇█▁▂▂▂▁▁▂▁▁▁▁▁▁▁▁▁▁</td></tr></table><br/></div><div class=\"wandb-col\">\n",
       "<h3>Run summary:</h3><br/><table class=\"wandb\"><tr><td>learning_rate</td><td>0.0</td></tr><tr><td>momentum</td><td>0.9</td></tr><tr><td>train/loss</td><td>0.05409</td></tr><tr><td>train/loss_rpn_bbox</td><td>0.00105</td></tr><tr><td>train/loss_rpn_cls</td><td>0.00051</td></tr><tr><td>train/s0.acc</td><td>99.45068</td></tr><tr><td>train/s0.loss_bbox</td><td>0.00732</td></tr><tr><td>train/s0.loss_cls</td><td>0.01391</td></tr><tr><td>train/s1.acc</td><td>99.77128</td></tr><tr><td>train/s1.loss_bbox</td><td>0.01319</td></tr><tr><td>train/s1.loss_cls</td><td>0.00288</td></tr><tr><td>train/s2.acc</td><td>99.79241</td></tr><tr><td>train/s2.loss_bbox</td><td>0.01363</td></tr><tr><td>train/s2.loss_cls</td><td>0.0016</td></tr><tr><td>val/bbox_mAP</td><td>0.16</td></tr><tr><td>val/bbox_mAP_50</td><td>0.367</td></tr><tr><td>val/bbox_mAP_75</td><td>0.106</td></tr><tr><td>val/bbox_mAP_l</td><td>-1.0</td></tr><tr><td>val/bbox_mAP_m</td><td>0.198</td></tr><tr><td>val/bbox_mAP_s</td><td>0.0</td></tr></table>\n",
       "</div></div>\n",
       "Synced 5 W&B file(s), 0 media file(s), 1 artifact file(s) and 0 other file(s)\n",
       "<br/>Synced <strong style=\"color:#cdcd00\">exp-cascade_rcnn_x101_32x4d_fpn_1x_coco_cust1</strong>: <a href=\"https://wandb.ai/tatanko/cascade_101/runs/a9t0vebf\" target=\"_blank\">https://wandb.ai/tatanko/cascade_101/runs/a9t0vebf</a><br/>\n",
       "Find logs at: <code>./wandb/run-20220210_140825-a9t0vebf/logs</code><br/>\n"
      ],
      "text/plain": [
       "<IPython.core.display.HTML object>"
      ]
     },
     "metadata": {},
     "output_type": "display_data"
    }
   ],
   "source": [
    "train_detector(model, train_dataset, cfg, distributed=False, validate=True)"
   ]
  },
  {
   "cell_type": "code",
   "execution_count": null,
   "id": "1fb5760c-9ab0-4e6a-9711-6785776f528a",
   "metadata": {},
   "outputs": [],
   "source": []
  }
 ],
 "metadata": {
  "kernelspec": {
   "display_name": "Python 3 (ipykernel)",
   "language": "python",
   "name": "python3"
  },
  "language_info": {
   "codemirror_mode": {
    "name": "ipython",
    "version": 3
   },
   "file_extension": ".py",
   "mimetype": "text/x-python",
   "name": "python",
   "nbconvert_exporter": "python",
   "pygments_lexer": "ipython3",
   "version": "3.8.10"
  }
 },
 "nbformat": 4,
 "nbformat_minor": 5
}
