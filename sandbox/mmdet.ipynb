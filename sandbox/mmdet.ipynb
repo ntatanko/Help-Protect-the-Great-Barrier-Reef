{
 "cells": [
  {
   "cell_type": "code",
   "execution_count": 1,
   "id": "fbf13175-0d58-4397-9f8c-ea6b9870be67",
   "metadata": {},
   "outputs": [],
   "source": [
    "# !git clone https://github.com/open-mmlab/mmdetection.git"
   ]
  },
  {
   "cell_type": "code",
   "execution_count": 2,
   "id": "846ec3f5-637e-4ed6-b3d6-a97e3d22b477",
   "metadata": {},
   "outputs": [],
   "source": [
    "# !git clone https://github.com/SwinTransformer/Swin-Transformer-Object-Detection.git"
   ]
  },
  {
   "cell_type": "code",
   "execution_count": 2,
   "id": "213489a1-c519-4e16-83a4-08ceaeee5f70",
   "metadata": {
    "tags": []
   },
   "outputs": [],
   "source": [
    "# from IPython.display import clear_output\n",
    "\n",
    "# %cd /app/_data/mmdetection\n",
    "# !pip install -r requirements/build.txt\n",
    "# !pip install -v -e .  # or \"python setup.py develop\"\n",
    "# clear_output()"
   ]
  },
  {
   "cell_type": "code",
   "execution_count": 3,
   "id": "22e3b0de-1e8b-4e67-bb89-bf861c01a7ec",
   "metadata": {},
   "outputs": [],
   "source": [
    "# from IPython.display import clear_output\n",
    "# !pip install mmcv-full -f https://download.openmmlab.com/mmcv/dist/cu111/torch1.9.1/index.html\n",
    "# !pip install openmim\n",
    "# !mim install mmdet\n",
    "# clear_output()"
   ]
  },
  {
   "cell_type": "code",
   "execution_count": 1,
   "id": "ef3626a5-b259-4569-865a-a81be81c22a3",
   "metadata": {},
   "outputs": [
    {
     "name": "stdout",
     "output_type": "stream",
     "text": [
      "Looking in links: https://download.openmmlab.com/mmcv/dist/cu111/torch1.9.1/index.html\n",
      "Collecting mmcv-full==1.4.0\n",
      "  Downloading mmcv-full-1.4.0.tar.gz (403 kB)\n",
      "     |████████████████████████████████| 403 kB 2.0 MB/s            \n",
      "\u001b[?25h  Preparing metadata (setup.py) ... \u001b[?25ldone\n",
      "\u001b[?25hCollecting addict\n",
      "  Downloading addict-2.4.0-py3-none-any.whl (3.8 kB)\n",
      "Requirement already satisfied: numpy in /usr/local/lib/python3.8/dist-packages (from mmcv-full==1.4.0) (1.21.5)\n",
      "Requirement already satisfied: packaging in /usr/local/lib/python3.8/dist-packages (from mmcv-full==1.4.0) (21.0)\n",
      "Requirement already satisfied: Pillow in /usr/local/lib/python3.8/dist-packages (from mmcv-full==1.4.0) (8.4.0)\n",
      "Requirement already satisfied: pyyaml in /usr/local/lib/python3.8/dist-packages (from mmcv-full==1.4.0) (5.4.1)\n",
      "Requirement already satisfied: yapf in /usr/local/lib/python3.8/dist-packages (from mmcv-full==1.4.0) (0.32.0)\n",
      "Requirement already satisfied: pyparsing>=2.0.2 in /usr/local/lib/python3.8/dist-packages (from packaging->mmcv-full==1.4.0) (2.4.7)\n",
      "Building wheels for collected packages: mmcv-full\n",
      "  Building wheel for mmcv-full (setup.py) ... \u001b[?25ldone\n",
      "\u001b[?25h  Created wheel for mmcv-full: filename=mmcv_full-1.4.0-cp38-cp38-linux_x86_64.whl size=55221063 sha256=cca1564f7f842713b7b147a05985716bdf253986f08f493eac2d719d69001912\n",
      "  Stored in directory: /root/.cache/pip/wheels/40/af/51/3a4996d6bf2544246b66190f1fdcaa48663efe6535844ed702\n",
      "Successfully built mmcv-full\n",
      "Installing collected packages: addict, mmcv-full\n",
      "Successfully installed addict-2.4.0 mmcv-full-1.4.0\n",
      "\u001b[33mWARNING: Running pip as the 'root' user can result in broken permissions and conflicting behaviour with the system package manager. It is recommended to use a virtual environment instead: https://pip.pypa.io/warnings/venv\u001b[0m\n",
      "\u001b[33mWARNING: You are using pip version 21.3.1; however, version 22.0.3 is available.\n",
      "You should consider upgrading via the '/usr/bin/python -m pip install --upgrade pip' command.\u001b[0m\n"
     ]
    }
   ],
   "source": [
    "!pip install mmcv-full==1.4.0 -f https://download.openmmlab.com/mmcv/dist/cu111/torch1.9.1/index.html"
   ]
  },
  {
   "cell_type": "code",
   "execution_count": 2,
   "id": "e11de01d-ec7a-48ad-9522-4b4dc479d703",
   "metadata": {},
   "outputs": [
    {
     "name": "stdout",
     "output_type": "stream",
     "text": [
      "/app/_data/Swin-Transformer-Object-Detection/apex\n",
      "\n",
      "\n",
      "torch.__version__  = 1.9.1+cu111\n",
      "\n",
      "\n",
      "setup.py:109: UserWarning: Option --pyprof not specified. Not installing PyProf dependencies!\n",
      "  warnings.warn(\"Option --pyprof not specified. Not installing PyProf dependencies!\")\n",
      "running install\n",
      "running bdist_egg\n",
      "running egg_info\n",
      "writing apex.egg-info/PKG-INFO\n",
      "writing dependency_links to apex.egg-info/dependency_links.txt\n",
      "writing top-level names to apex.egg-info/top_level.txt\n",
      "reading manifest file 'apex.egg-info/SOURCES.txt'\n",
      "adding license file 'LICENSE'\n",
      "writing manifest file 'apex.egg-info/SOURCES.txt'\n",
      "installing library code to build/bdist.linux-x86_64/egg\n",
      "running install_lib\n",
      "running build_py\n",
      "warning: build_py: byte-compiling is disabled, skipping.\n",
      "\n",
      "creating build/bdist.linux-x86_64/egg\n",
      "creating build/bdist.linux-x86_64/egg/apex\n",
      "creating build/bdist.linux-x86_64/egg/apex/parallel\n",
      "copying build/lib/apex/parallel/sync_batchnorm_kernel.py -> build/bdist.linux-x86_64/egg/apex/parallel\n",
      "copying build/lib/apex/parallel/LARC.py -> build/bdist.linux-x86_64/egg/apex/parallel\n",
      "copying build/lib/apex/parallel/distributed.py -> build/bdist.linux-x86_64/egg/apex/parallel\n",
      "copying build/lib/apex/parallel/optimized_sync_batchnorm.py -> build/bdist.linux-x86_64/egg/apex/parallel\n",
      "copying build/lib/apex/parallel/__init__.py -> build/bdist.linux-x86_64/egg/apex/parallel\n",
      "copying build/lib/apex/parallel/sync_batchnorm.py -> build/bdist.linux-x86_64/egg/apex/parallel\n",
      "copying build/lib/apex/parallel/optimized_sync_batchnorm_kernel.py -> build/bdist.linux-x86_64/egg/apex/parallel\n",
      "copying build/lib/apex/parallel/multiproc.py -> build/bdist.linux-x86_64/egg/apex/parallel\n",
      "creating build/bdist.linux-x86_64/egg/apex/pyprof\n",
      "creating build/bdist.linux-x86_64/egg/apex/pyprof/prof\n",
      "copying build/lib/apex/pyprof/prof/optim.py -> build/bdist.linux-x86_64/egg/apex/pyprof/prof\n",
      "copying build/lib/apex/pyprof/prof/dropout.py -> build/bdist.linux-x86_64/egg/apex/pyprof/prof\n",
      "copying build/lib/apex/pyprof/prof/__main__.py -> build/bdist.linux-x86_64/egg/apex/pyprof/prof\n",
      "copying build/lib/apex/pyprof/prof/linear.py -> build/bdist.linux-x86_64/egg/apex/pyprof/prof\n",
      "copying build/lib/apex/pyprof/prof/pointwise.py -> build/bdist.linux-x86_64/egg/apex/pyprof/prof\n",
      "copying build/lib/apex/pyprof/prof/data.py -> build/bdist.linux-x86_64/egg/apex/pyprof/prof\n",
      "copying build/lib/apex/pyprof/prof/normalization.py -> build/bdist.linux-x86_64/egg/apex/pyprof/prof\n",
      "copying build/lib/apex/pyprof/prof/embedding.py -> build/bdist.linux-x86_64/egg/apex/pyprof/prof\n",
      "copying build/lib/apex/pyprof/prof/reduction.py -> build/bdist.linux-x86_64/egg/apex/pyprof/prof\n",
      "copying build/lib/apex/pyprof/prof/randomSample.py -> build/bdist.linux-x86_64/egg/apex/pyprof/prof\n",
      "copying build/lib/apex/pyprof/prof/base.py -> build/bdist.linux-x86_64/egg/apex/pyprof/prof\n",
      "copying build/lib/apex/pyprof/prof/softmax.py -> build/bdist.linux-x86_64/egg/apex/pyprof/prof\n",
      "copying build/lib/apex/pyprof/prof/__init__.py -> build/bdist.linux-x86_64/egg/apex/pyprof/prof\n",
      "copying build/lib/apex/pyprof/prof/conv.py -> build/bdist.linux-x86_64/egg/apex/pyprof/prof\n",
      "copying build/lib/apex/pyprof/prof/blas.py -> build/bdist.linux-x86_64/egg/apex/pyprof/prof\n",
      "copying build/lib/apex/pyprof/prof/prof.py -> build/bdist.linux-x86_64/egg/apex/pyprof/prof\n",
      "copying build/lib/apex/pyprof/prof/index_slice_join_mutate.py -> build/bdist.linux-x86_64/egg/apex/pyprof/prof\n",
      "copying build/lib/apex/pyprof/prof/recurrentCell.py -> build/bdist.linux-x86_64/egg/apex/pyprof/prof\n",
      "copying build/lib/apex/pyprof/prof/output.py -> build/bdist.linux-x86_64/egg/apex/pyprof/prof\n",
      "copying build/lib/apex/pyprof/prof/utility.py -> build/bdist.linux-x86_64/egg/apex/pyprof/prof\n",
      "copying build/lib/apex/pyprof/prof/convert.py -> build/bdist.linux-x86_64/egg/apex/pyprof/prof\n",
      "copying build/lib/apex/pyprof/prof/usage.py -> build/bdist.linux-x86_64/egg/apex/pyprof/prof\n",
      "copying build/lib/apex/pyprof/prof/pooling.py -> build/bdist.linux-x86_64/egg/apex/pyprof/prof\n",
      "copying build/lib/apex/pyprof/prof/misc.py -> build/bdist.linux-x86_64/egg/apex/pyprof/prof\n",
      "copying build/lib/apex/pyprof/prof/activation.py -> build/bdist.linux-x86_64/egg/apex/pyprof/prof\n",
      "copying build/lib/apex/pyprof/prof/loss.py -> build/bdist.linux-x86_64/egg/apex/pyprof/prof\n",
      "creating build/bdist.linux-x86_64/egg/apex/pyprof/parse\n",
      "copying build/lib/apex/pyprof/parse/db.py -> build/bdist.linux-x86_64/egg/apex/pyprof/parse\n",
      "copying build/lib/apex/pyprof/parse/parse.py -> build/bdist.linux-x86_64/egg/apex/pyprof/parse\n",
      "copying build/lib/apex/pyprof/parse/__main__.py -> build/bdist.linux-x86_64/egg/apex/pyprof/parse\n",
      "copying build/lib/apex/pyprof/parse/kernel.py -> build/bdist.linux-x86_64/egg/apex/pyprof/parse\n",
      "copying build/lib/apex/pyprof/parse/__init__.py -> build/bdist.linux-x86_64/egg/apex/pyprof/parse\n",
      "copying build/lib/apex/pyprof/parse/nvvp.py -> build/bdist.linux-x86_64/egg/apex/pyprof/parse\n",
      "copying build/lib/apex/pyprof/__init__.py -> build/bdist.linux-x86_64/egg/apex/pyprof\n",
      "creating build/bdist.linux-x86_64/egg/apex/pyprof/nvtx\n",
      "copying build/lib/apex/pyprof/nvtx/nvmarker.py -> build/bdist.linux-x86_64/egg/apex/pyprof/nvtx\n",
      "copying build/lib/apex/pyprof/nvtx/__init__.py -> build/bdist.linux-x86_64/egg/apex/pyprof/nvtx\n",
      "creating build/bdist.linux-x86_64/egg/apex/reparameterization\n",
      "copying build/lib/apex/reparameterization/weight_norm.py -> build/bdist.linux-x86_64/egg/apex/reparameterization\n",
      "copying build/lib/apex/reparameterization/reparameterization.py -> build/bdist.linux-x86_64/egg/apex/reparameterization\n",
      "copying build/lib/apex/reparameterization/__init__.py -> build/bdist.linux-x86_64/egg/apex/reparameterization\n",
      "creating build/bdist.linux-x86_64/egg/apex/normalization\n",
      "copying build/lib/apex/normalization/fused_layer_norm.py -> build/bdist.linux-x86_64/egg/apex/normalization\n",
      "copying build/lib/apex/normalization/__init__.py -> build/bdist.linux-x86_64/egg/apex/normalization\n",
      "creating build/bdist.linux-x86_64/egg/apex/transformer\n",
      "creating build/bdist.linux-x86_64/egg/apex/transformer/pipeline_parallel\n",
      "creating build/bdist.linux-x86_64/egg/apex/transformer/pipeline_parallel/schedules\n",
      "copying build/lib/apex/transformer/pipeline_parallel/schedules/fwd_bwd_no_pipelining.py -> build/bdist.linux-x86_64/egg/apex/transformer/pipeline_parallel/schedules\n",
      "copying build/lib/apex/transformer/pipeline_parallel/schedules/fwd_bwd_pipelining_without_interleaving.py -> build/bdist.linux-x86_64/egg/apex/transformer/pipeline_parallel/schedules\n",
      "copying build/lib/apex/transformer/pipeline_parallel/schedules/fwd_bwd_pipelining_with_interleaving.py -> build/bdist.linux-x86_64/egg/apex/transformer/pipeline_parallel/schedules\n",
      "copying build/lib/apex/transformer/pipeline_parallel/schedules/__init__.py -> build/bdist.linux-x86_64/egg/apex/transformer/pipeline_parallel/schedules\n",
      "copying build/lib/apex/transformer/pipeline_parallel/schedules/common.py -> build/bdist.linux-x86_64/egg/apex/transformer/pipeline_parallel/schedules\n",
      "copying build/lib/apex/transformer/pipeline_parallel/p2p_communication.py -> build/bdist.linux-x86_64/egg/apex/transformer/pipeline_parallel\n",
      "copying build/lib/apex/transformer/pipeline_parallel/utils.py -> build/bdist.linux-x86_64/egg/apex/transformer/pipeline_parallel\n",
      "copying build/lib/apex/transformer/pipeline_parallel/_timers.py -> build/bdist.linux-x86_64/egg/apex/transformer/pipeline_parallel\n",
      "copying build/lib/apex/transformer/pipeline_parallel/__init__.py -> build/bdist.linux-x86_64/egg/apex/transformer/pipeline_parallel\n",
      "creating build/bdist.linux-x86_64/egg/apex/transformer/tensor_parallel\n",
      "copying build/lib/apex/transformer/tensor_parallel/random.py -> build/bdist.linux-x86_64/egg/apex/transformer/tensor_parallel\n",
      "copying build/lib/apex/transformer/tensor_parallel/memory.py -> build/bdist.linux-x86_64/egg/apex/transformer/tensor_parallel\n",
      "copying build/lib/apex/transformer/tensor_parallel/utils.py -> build/bdist.linux-x86_64/egg/apex/transformer/tensor_parallel\n",
      "copying build/lib/apex/transformer/tensor_parallel/data.py -> build/bdist.linux-x86_64/egg/apex/transformer/tensor_parallel\n",
      "copying build/lib/apex/transformer/tensor_parallel/mappings.py -> build/bdist.linux-x86_64/egg/apex/transformer/tensor_parallel\n",
      "copying build/lib/apex/transformer/tensor_parallel/__init__.py -> build/bdist.linux-x86_64/egg/apex/transformer/tensor_parallel\n",
      "copying build/lib/apex/transformer/tensor_parallel/cross_entropy.py -> build/bdist.linux-x86_64/egg/apex/transformer/tensor_parallel\n",
      "copying build/lib/apex/transformer/tensor_parallel/layers.py -> build/bdist.linux-x86_64/egg/apex/transformer/tensor_parallel\n",
      "copying build/lib/apex/transformer/log_util.py -> build/bdist.linux-x86_64/egg/apex/transformer\n",
      "creating build/bdist.linux-x86_64/egg/apex/transformer/testing\n",
      "copying build/lib/apex/transformer/testing/standalone_gpt.py -> build/bdist.linux-x86_64/egg/apex/transformer/testing\n",
      "copying build/lib/apex/transformer/testing/global_vars.py -> build/bdist.linux-x86_64/egg/apex/transformer/testing\n",
      "copying build/lib/apex/transformer/testing/commons.py -> build/bdist.linux-x86_64/egg/apex/transformer/testing\n",
      "copying build/lib/apex/transformer/testing/arguments.py -> build/bdist.linux-x86_64/egg/apex/transformer/testing\n",
      "copying build/lib/apex/transformer/testing/__init__.py -> build/bdist.linux-x86_64/egg/apex/transformer/testing\n",
      "copying build/lib/apex/transformer/testing/standalone_bert.py -> build/bdist.linux-x86_64/egg/apex/transformer/testing\n",
      "copying build/lib/apex/transformer/utils.py -> build/bdist.linux-x86_64/egg/apex/transformer\n",
      "creating build/bdist.linux-x86_64/egg/apex/transformer/functional\n",
      "copying build/lib/apex/transformer/functional/fused_softmax.py -> build/bdist.linux-x86_64/egg/apex/transformer/functional\n",
      "copying build/lib/apex/transformer/functional/__init__.py -> build/bdist.linux-x86_64/egg/apex/transformer/functional\n",
      "creating build/bdist.linux-x86_64/egg/apex/transformer/amp\n",
      "copying build/lib/apex/transformer/amp/grad_scaler.py -> build/bdist.linux-x86_64/egg/apex/transformer/amp\n",
      "copying build/lib/apex/transformer/amp/__init__.py -> build/bdist.linux-x86_64/egg/apex/transformer/amp\n",
      "copying build/lib/apex/transformer/parallel_state.py -> build/bdist.linux-x86_64/egg/apex/transformer\n",
      "copying build/lib/apex/transformer/enums.py -> build/bdist.linux-x86_64/egg/apex/transformer\n",
      "copying build/lib/apex/transformer/__init__.py -> build/bdist.linux-x86_64/egg/apex/transformer\n",
      "copying build/lib/apex/transformer/microbatches.py -> build/bdist.linux-x86_64/egg/apex/transformer\n",
      "creating build/bdist.linux-x86_64/egg/apex/transformer/_data\n",
      "copying build/lib/apex/transformer/_data/_batchsampler.py -> build/bdist.linux-x86_64/egg/apex/transformer/_data\n",
      "copying build/lib/apex/transformer/_data/__init__.py -> build/bdist.linux-x86_64/egg/apex/transformer/_data\n",
      "creating build/bdist.linux-x86_64/egg/apex/RNN\n",
      "copying build/lib/apex/RNN/models.py -> build/bdist.linux-x86_64/egg/apex/RNN\n",
      "copying build/lib/apex/RNN/RNNBackend.py -> build/bdist.linux-x86_64/egg/apex/RNN\n",
      "copying build/lib/apex/RNN/cells.py -> build/bdist.linux-x86_64/egg/apex/RNN\n",
      "copying build/lib/apex/RNN/__init__.py -> build/bdist.linux-x86_64/egg/apex/RNN\n",
      "creating build/bdist.linux-x86_64/egg/apex/contrib\n",
      "creating build/bdist.linux-x86_64/egg/apex/contrib/multihead_attn\n",
      "copying build/lib/apex/contrib/multihead_attn/self_multihead_attn_func.py -> build/bdist.linux-x86_64/egg/apex/contrib/multihead_attn\n",
      "copying build/lib/apex/contrib/multihead_attn/self_multihead_attn.py -> build/bdist.linux-x86_64/egg/apex/contrib/multihead_attn\n",
      "copying build/lib/apex/contrib/multihead_attn/fast_self_multihead_attn_func.py -> build/bdist.linux-x86_64/egg/apex/contrib/multihead_attn\n",
      "copying build/lib/apex/contrib/multihead_attn/fast_encdec_multihead_attn_norm_add_func.py -> build/bdist.linux-x86_64/egg/apex/contrib/multihead_attn\n",
      "copying build/lib/apex/contrib/multihead_attn/encdec_multihead_attn.py -> build/bdist.linux-x86_64/egg/apex/contrib/multihead_attn\n",
      "copying build/lib/apex/contrib/multihead_attn/encdec_multihead_attn_func.py -> build/bdist.linux-x86_64/egg/apex/contrib/multihead_attn\n",
      "copying build/lib/apex/contrib/multihead_attn/fast_self_multihead_attn_norm_add_func.py -> build/bdist.linux-x86_64/egg/apex/contrib/multihead_attn\n",
      "copying build/lib/apex/contrib/multihead_attn/__init__.py -> build/bdist.linux-x86_64/egg/apex/contrib/multihead_attn\n",
      "copying build/lib/apex/contrib/multihead_attn/fast_encdec_multihead_attn_func.py -> build/bdist.linux-x86_64/egg/apex/contrib/multihead_attn\n",
      "copying build/lib/apex/contrib/multihead_attn/mask_softmax_dropout_func.py -> build/bdist.linux-x86_64/egg/apex/contrib/multihead_attn\n",
      "creating build/bdist.linux-x86_64/egg/apex/contrib/fmha\n",
      "copying build/lib/apex/contrib/fmha/__init__.py -> build/bdist.linux-x86_64/egg/apex/contrib/fmha\n",
      "copying build/lib/apex/contrib/fmha/fmha.py -> build/bdist.linux-x86_64/egg/apex/contrib/fmha\n",
      "creating build/bdist.linux-x86_64/egg/apex/contrib/bottleneck\n",
      "copying build/lib/apex/contrib/bottleneck/test.py -> build/bdist.linux-x86_64/egg/apex/contrib/bottleneck\n",
      "copying build/lib/apex/contrib/bottleneck/bottleneck_module_test.py -> build/bdist.linux-x86_64/egg/apex/contrib/bottleneck\n",
      "copying build/lib/apex/contrib/bottleneck/__init__.py -> build/bdist.linux-x86_64/egg/apex/contrib/bottleneck\n",
      "copying build/lib/apex/contrib/bottleneck/bottleneck.py -> build/bdist.linux-x86_64/egg/apex/contrib/bottleneck\n",
      "creating build/bdist.linux-x86_64/egg/apex/contrib/sparsity\n",
      "copying build/lib/apex/contrib/sparsity/sparse_masklib.py -> build/bdist.linux-x86_64/egg/apex/contrib/sparsity\n",
      "creating build/bdist.linux-x86_64/egg/apex/contrib/sparsity/permutation_search_kernels\n",
      "copying build/lib/apex/contrib/sparsity/permutation_search_kernels/exhaustive_search.py -> build/bdist.linux-x86_64/egg/apex/contrib/sparsity/permutation_search_kernels\n",
      "copying build/lib/apex/contrib/sparsity/permutation_search_kernels/call_permutation_search_kernels.py -> build/bdist.linux-x86_64/egg/apex/contrib/sparsity/permutation_search_kernels\n",
      "copying build/lib/apex/contrib/sparsity/permutation_search_kernels/permutation_utilities.py -> build/bdist.linux-x86_64/egg/apex/contrib/sparsity/permutation_search_kernels\n",
      "copying build/lib/apex/contrib/sparsity/permutation_search_kernels/__init__.py -> build/bdist.linux-x86_64/egg/apex/contrib/sparsity/permutation_search_kernels\n",
      "copying build/lib/apex/contrib/sparsity/permutation_lib.py -> build/bdist.linux-x86_64/egg/apex/contrib/sparsity\n",
      "copying build/lib/apex/contrib/sparsity/__init__.py -> build/bdist.linux-x86_64/egg/apex/contrib/sparsity\n",
      "copying build/lib/apex/contrib/sparsity/asp.py -> build/bdist.linux-x86_64/egg/apex/contrib/sparsity\n",
      "creating build/bdist.linux-x86_64/egg/apex/contrib/transducer\n",
      "copying build/lib/apex/contrib/transducer/transducer.py -> build/bdist.linux-x86_64/egg/apex/contrib/transducer\n",
      "copying build/lib/apex/contrib/transducer/__init__.py -> build/bdist.linux-x86_64/egg/apex/contrib/transducer\n",
      "creating build/bdist.linux-x86_64/egg/apex/contrib/xentropy\n",
      "copying build/lib/apex/contrib/xentropy/__init__.py -> build/bdist.linux-x86_64/egg/apex/contrib/xentropy\n",
      "copying build/lib/apex/contrib/xentropy/softmax_xentropy.py -> build/bdist.linux-x86_64/egg/apex/contrib/xentropy\n",
      "creating build/bdist.linux-x86_64/egg/apex/contrib/groupbn\n",
      "copying build/lib/apex/contrib/groupbn/batch_norm.py -> build/bdist.linux-x86_64/egg/apex/contrib/groupbn\n",
      "copying build/lib/apex/contrib/groupbn/__init__.py -> build/bdist.linux-x86_64/egg/apex/contrib/groupbn\n",
      "copying build/lib/apex/contrib/__init__.py -> build/bdist.linux-x86_64/egg/apex/contrib\n",
      "creating build/bdist.linux-x86_64/egg/apex/contrib/layer_norm\n",
      "copying build/lib/apex/contrib/layer_norm/__init__.py -> build/bdist.linux-x86_64/egg/apex/contrib/layer_norm\n",
      "copying build/lib/apex/contrib/layer_norm/layer_norm.py -> build/bdist.linux-x86_64/egg/apex/contrib/layer_norm\n",
      "creating build/bdist.linux-x86_64/egg/apex/contrib/optimizers\n",
      "copying build/lib/apex/contrib/optimizers/fused_adam.py -> build/bdist.linux-x86_64/egg/apex/contrib/optimizers\n",
      "copying build/lib/apex/contrib/optimizers/fp16_optimizer.py -> build/bdist.linux-x86_64/egg/apex/contrib/optimizers\n",
      "copying build/lib/apex/contrib/optimizers/distributed_fused_adam.py -> build/bdist.linux-x86_64/egg/apex/contrib/optimizers\n",
      "copying build/lib/apex/contrib/optimizers/distributed_fused_lamb.py -> build/bdist.linux-x86_64/egg/apex/contrib/optimizers\n",
      "copying build/lib/apex/contrib/optimizers/fused_sgd.py -> build/bdist.linux-x86_64/egg/apex/contrib/optimizers\n",
      "copying build/lib/apex/contrib/optimizers/distributed_fused_adam_v2.py -> build/bdist.linux-x86_64/egg/apex/contrib/optimizers\n",
      "copying build/lib/apex/contrib/optimizers/__init__.py -> build/bdist.linux-x86_64/egg/apex/contrib/optimizers\n",
      "copying build/lib/apex/contrib/optimizers/fused_lamb.py -> build/bdist.linux-x86_64/egg/apex/contrib/optimizers\n",
      "copying build/lib/apex/contrib/optimizers/distributed_fused_adam_v3.py -> build/bdist.linux-x86_64/egg/apex/contrib/optimizers\n",
      "creating build/bdist.linux-x86_64/egg/apex/fused_dense\n",
      "copying build/lib/apex/fused_dense/__init__.py -> build/bdist.linux-x86_64/egg/apex/fused_dense\n",
      "copying build/lib/apex/fused_dense/fused_dense.py -> build/bdist.linux-x86_64/egg/apex/fused_dense\n",
      "creating build/bdist.linux-x86_64/egg/apex/amp\n",
      "copying build/lib/apex/amp/__version__.py -> build/bdist.linux-x86_64/egg/apex/amp\n",
      "copying build/lib/apex/amp/amp.py -> build/bdist.linux-x86_64/egg/apex/amp\n",
      "copying build/lib/apex/amp/opt.py -> build/bdist.linux-x86_64/egg/apex/amp\n",
      "copying build/lib/apex/amp/_initialize.py -> build/bdist.linux-x86_64/egg/apex/amp\n",
      "copying build/lib/apex/amp/utils.py -> build/bdist.linux-x86_64/egg/apex/amp\n",
      "copying build/lib/apex/amp/compat.py -> build/bdist.linux-x86_64/egg/apex/amp\n",
      "copying build/lib/apex/amp/scaler.py -> build/bdist.linux-x86_64/egg/apex/amp\n",
      "copying build/lib/apex/amp/rnn_compat.py -> build/bdist.linux-x86_64/egg/apex/amp\n",
      "copying build/lib/apex/amp/__init__.py -> build/bdist.linux-x86_64/egg/apex/amp\n",
      "copying build/lib/apex/amp/_amp_state.py -> build/bdist.linux-x86_64/egg/apex/amp\n",
      "copying build/lib/apex/amp/frontend.py -> build/bdist.linux-x86_64/egg/apex/amp\n",
      "copying build/lib/apex/amp/_process_optimizer.py -> build/bdist.linux-x86_64/egg/apex/amp\n",
      "copying build/lib/apex/amp/wrap.py -> build/bdist.linux-x86_64/egg/apex/amp\n",
      "copying build/lib/apex/amp/handle.py -> build/bdist.linux-x86_64/egg/apex/amp\n",
      "creating build/bdist.linux-x86_64/egg/apex/amp/lists\n",
      "copying build/lib/apex/amp/lists/torch_overrides.py -> build/bdist.linux-x86_64/egg/apex/amp/lists\n",
      "copying build/lib/apex/amp/lists/__init__.py -> build/bdist.linux-x86_64/egg/apex/amp/lists\n",
      "copying build/lib/apex/amp/lists/tensor_overrides.py -> build/bdist.linux-x86_64/egg/apex/amp/lists\n",
      "copying build/lib/apex/amp/lists/functional_overrides.py -> build/bdist.linux-x86_64/egg/apex/amp/lists\n",
      "creating build/bdist.linux-x86_64/egg/apex/fp16_utils\n",
      "copying build/lib/apex/fp16_utils/fp16util.py -> build/bdist.linux-x86_64/egg/apex/fp16_utils\n",
      "copying build/lib/apex/fp16_utils/fp16_optimizer.py -> build/bdist.linux-x86_64/egg/apex/fp16_utils\n",
      "copying build/lib/apex/fp16_utils/loss_scaler.py -> build/bdist.linux-x86_64/egg/apex/fp16_utils\n",
      "copying build/lib/apex/fp16_utils/__init__.py -> build/bdist.linux-x86_64/egg/apex/fp16_utils\n",
      "creating build/bdist.linux-x86_64/egg/apex/mlp\n",
      "copying build/lib/apex/mlp/mlp.py -> build/bdist.linux-x86_64/egg/apex/mlp\n",
      "copying build/lib/apex/mlp/__init__.py -> build/bdist.linux-x86_64/egg/apex/mlp\n",
      "copying build/lib/apex/__init__.py -> build/bdist.linux-x86_64/egg/apex\n",
      "copying build/lib/apex/_autocast_utils.py -> build/bdist.linux-x86_64/egg/apex\n",
      "creating build/bdist.linux-x86_64/egg/apex/multi_tensor_apply\n",
      "copying build/lib/apex/multi_tensor_apply/multi_tensor_apply.py -> build/bdist.linux-x86_64/egg/apex/multi_tensor_apply\n",
      "copying build/lib/apex/multi_tensor_apply/__init__.py -> build/bdist.linux-x86_64/egg/apex/multi_tensor_apply\n",
      "creating build/bdist.linux-x86_64/egg/apex/optimizers\n",
      "copying build/lib/apex/optimizers/fused_adam.py -> build/bdist.linux-x86_64/egg/apex/optimizers\n",
      "copying build/lib/apex/optimizers/fused_sgd.py -> build/bdist.linux-x86_64/egg/apex/optimizers\n",
      "copying build/lib/apex/optimizers/fused_adagrad.py -> build/bdist.linux-x86_64/egg/apex/optimizers\n",
      "copying build/lib/apex/optimizers/fused_mixed_precision_lamb.py -> build/bdist.linux-x86_64/egg/apex/optimizers\n",
      "copying build/lib/apex/optimizers/__init__.py -> build/bdist.linux-x86_64/egg/apex/optimizers\n",
      "copying build/lib/apex/optimizers/fused_lamb.py -> build/bdist.linux-x86_64/egg/apex/optimizers\n",
      "copying build/lib/apex/optimizers/fused_novograd.py -> build/bdist.linux-x86_64/egg/apex/optimizers\n",
      "warning: install_lib: byte-compiling is disabled, skipping.\n",
      "\n",
      "creating build/bdist.linux-x86_64/egg/EGG-INFO\n",
      "copying apex.egg-info/PKG-INFO -> build/bdist.linux-x86_64/egg/EGG-INFO\n",
      "copying apex.egg-info/SOURCES.txt -> build/bdist.linux-x86_64/egg/EGG-INFO\n",
      "copying apex.egg-info/dependency_links.txt -> build/bdist.linux-x86_64/egg/EGG-INFO\n",
      "copying apex.egg-info/top_level.txt -> build/bdist.linux-x86_64/egg/EGG-INFO\n",
      "zip_safe flag not set; analyzing archive contents...\n",
      "creating 'dist/apex-0.1-py3.8.egg' and adding 'build/bdist.linux-x86_64/egg' to it\n",
      "removing 'build/bdist.linux-x86_64/egg' (and everything under it)\n",
      "Processing apex-0.1-py3.8.egg\n",
      "Copying apex-0.1-py3.8.egg to /usr/local/lib/python3.8/dist-packages\n",
      "Adding apex 0.1 to easy-install.pth file\n",
      "\n",
      "Installed /usr/local/lib/python3.8/dist-packages/apex-0.1-py3.8.egg\n",
      "Processing dependencies for apex==0.1\n",
      "Finished processing dependencies for apex==0.1\n"
     ]
    }
   ],
   "source": [
    "%cd /app/_data/Swin-Transformer-Object-Detection/apex\n",
    "# !pip install -v --disable-pip-version-check --no-cache-dir --global-option=\"--cpp_ext\" --global-option=\"--cuda_ext\" ./\n",
    "!python setup.py install"
   ]
  },
  {
   "cell_type": "code",
   "execution_count": 6,
   "id": "584747e1-c4a2-4456-b01c-ced0c95bdee1",
   "metadata": {},
   "outputs": [
    {
     "name": "stdout",
     "output_type": "stream",
     "text": [
      "/app/_data/Swin-Transformer-Object-Detection\n",
      "Requirement already satisfied: cython in /usr/local/lib/python3.8/dist-packages (from -r requirements/build.txt (line 2)) (0.29.27)\n",
      "Requirement already satisfied: numpy in /usr/local/lib/python3.8/dist-packages (from -r requirements/build.txt (line 3)) (1.21.5)\n",
      "\u001b[33mWARNING: Running pip as the 'root' user can result in broken permissions and conflicting behaviour with the system package manager. It is recommended to use a virtual environment instead: https://pip.pypa.io/warnings/venv\u001b[0m\n",
      "\u001b[33mWARNING: You are using pip version 21.3.1; however, version 22.0.3 is available.\n",
      "You should consider upgrading via the '/usr/bin/python -m pip install --upgrade pip' command.\u001b[0m\n",
      "Using pip 21.3.1 from /usr/local/lib/python3.8/dist-packages/pip (python 3.8)\n",
      "Obtaining file:///app/_data/Swin-Transformer-Object-Detection\n",
      "  Preparing metadata (setup.py) ... \u001b[?25l  Running command python setup.py egg_info\n",
      "  running egg_info\n",
      "  creating /tmp/pip-pip-egg-info-w3z3jxl_/mmdet.egg-info\n",
      "  writing /tmp/pip-pip-egg-info-w3z3jxl_/mmdet.egg-info/PKG-INFO\n",
      "  writing dependency_links to /tmp/pip-pip-egg-info-w3z3jxl_/mmdet.egg-info/dependency_links.txt\n",
      "  writing requirements to /tmp/pip-pip-egg-info-w3z3jxl_/mmdet.egg-info/requires.txt\n",
      "  writing top-level names to /tmp/pip-pip-egg-info-w3z3jxl_/mmdet.egg-info/top_level.txt\n",
      "  writing manifest file '/tmp/pip-pip-egg-info-w3z3jxl_/mmdet.egg-info/SOURCES.txt'\n",
      "  reading manifest file '/tmp/pip-pip-egg-info-w3z3jxl_/mmdet.egg-info/SOURCES.txt'\n",
      "  adding license file 'LICENSE'\n",
      "  writing manifest file '/tmp/pip-pip-egg-info-w3z3jxl_/mmdet.egg-info/SOURCES.txt'\n",
      "\u001b[?25hdone\n",
      "Requirement already satisfied: matplotlib in /usr/local/lib/python3.8/dist-packages (from mmdet==2.11.0) (3.5.1)\n",
      "Requirement already satisfied: mmpycocotools in /usr/local/lib/python3.8/dist-packages (from mmdet==2.11.0) (12.0.3)\n",
      "Requirement already satisfied: numpy in /usr/local/lib/python3.8/dist-packages (from mmdet==2.11.0) (1.21.5)\n",
      "Requirement already satisfied: six in /usr/local/lib/python3.8/dist-packages (from mmdet==2.11.0) (1.15.0)\n",
      "Requirement already satisfied: terminaltables in /usr/local/lib/python3.8/dist-packages (from mmdet==2.11.0) (3.1.10)\n",
      "Requirement already satisfied: timm in /usr/local/lib/python3.8/dist-packages (from mmdet==2.11.0) (0.5.4)\n",
      "Requirement already satisfied: packaging>=20.0 in /usr/local/lib/python3.8/dist-packages (from matplotlib->mmdet==2.11.0) (21.0)\n",
      "Requirement already satisfied: python-dateutil>=2.7 in /usr/local/lib/python3.8/dist-packages (from matplotlib->mmdet==2.11.0) (2.8.2)\n",
      "Requirement already satisfied: kiwisolver>=1.0.1 in /usr/local/lib/python3.8/dist-packages (from matplotlib->mmdet==2.11.0) (1.3.2)\n",
      "Requirement already satisfied: pyparsing>=2.2.1 in /usr/local/lib/python3.8/dist-packages (from matplotlib->mmdet==2.11.0) (2.4.7)\n",
      "Requirement already satisfied: pillow>=6.2.0 in /usr/local/lib/python3.8/dist-packages (from matplotlib->mmdet==2.11.0) (8.4.0)\n",
      "Requirement already satisfied: fonttools>=4.22.0 in /usr/local/lib/python3.8/dist-packages (from matplotlib->mmdet==2.11.0) (4.28.5)\n",
      "Requirement already satisfied: cycler>=0.10 in /usr/local/lib/python3.8/dist-packages (from matplotlib->mmdet==2.11.0) (0.11.0)\n",
      "Requirement already satisfied: cython>=0.27.3 in /usr/local/lib/python3.8/dist-packages (from mmpycocotools->mmdet==2.11.0) (0.29.27)\n",
      "Requirement already satisfied: setuptools>=18.0 in /usr/local/lib/python3.8/dist-packages (from mmpycocotools->mmdet==2.11.0) (57.4.0)\n",
      "Requirement already satisfied: torch>=1.4 in /usr/local/lib/python3.8/dist-packages (from timm->mmdet==2.11.0) (1.9.1+cu111)\n",
      "Requirement already satisfied: torchvision in /usr/local/lib/python3.8/dist-packages (from timm->mmdet==2.11.0) (0.10.1+cu111)\n",
      "Requirement already satisfied: typing-extensions in /usr/local/lib/python3.8/dist-packages (from torch>=1.4->timm->mmdet==2.11.0) (4.0.1)\n",
      "Installing collected packages: mmdet\n",
      "  Attempting uninstall: mmdet\n",
      "    Found existing installation: mmdet 2.11.0\n",
      "    Can't uninstall 'mmdet'. No files were found to uninstall.\n",
      "  Running setup.py develop for mmdet\n",
      "    Running command /usr/bin/python -c 'import io, os, sys, setuptools, tokenize; sys.argv[0] = '\"'\"'/app/_data/Swin-Transformer-Object-Detection/setup.py'\"'\"'; __file__='\"'\"'/app/_data/Swin-Transformer-Object-Detection/setup.py'\"'\"';f = getattr(tokenize, '\"'\"'open'\"'\"', open)(__file__) if os.path.exists(__file__) else io.StringIO('\"'\"'from setuptools import setup; setup()'\"'\"');code = f.read().replace('\"'\"'\\r\\n'\"'\"', '\"'\"'\\n'\"'\"');f.close();exec(compile(code, __file__, '\"'\"'exec'\"'\"'))' develop --no-deps\n",
      "    running develop\n",
      "    running egg_info\n",
      "    writing mmdet.egg-info/PKG-INFO\n",
      "    writing dependency_links to mmdet.egg-info/dependency_links.txt\n",
      "    writing requirements to mmdet.egg-info/requires.txt\n",
      "    writing top-level names to mmdet.egg-info/top_level.txt\n",
      "    reading manifest file 'mmdet.egg-info/SOURCES.txt'\n",
      "    adding license file 'LICENSE'\n",
      "    writing manifest file 'mmdet.egg-info/SOURCES.txt'\n",
      "    /usr/local/lib/python3.8/dist-packages/torch/utils/cpp_extension.py:370: UserWarning: Attempted to use ninja as the BuildExtension backend but we could not find ninja.. Falling back to using the slow distutils backend.\n",
      "      warnings.warn(msg.format('we could not find ninja.'))\n",
      "    running build_ext\n",
      "    Creating /usr/local/lib/python3.8/dist-packages/mmdet.egg-link (link to .)\n",
      "    mmdet 2.11.0 is already the active version in easy-install.pth\n",
      "\n",
      "    Installed /app/_data/Swin-Transformer-Object-Detection\n",
      "Successfully installed mmdet-2.11.0\n",
      "\u001b[33mWARNING: Running pip as the 'root' user can result in broken permissions and conflicting behaviour with the system package manager. It is recommended to use a virtual environment instead: https://pip.pypa.io/warnings/venv\u001b[0m\n",
      "\u001b[33mWARNING: You are using pip version 21.3.1; however, version 22.0.3 is available.\n",
      "You should consider upgrading via the '/usr/bin/python -m pip install --upgrade pip' command.\u001b[0m\n"
     ]
    }
   ],
   "source": [
    "%cd /app/_data/Swin-Transformer-Object-Detection\n",
    "!pip install -r requirements/build.txt\n",
    "!pip install -v -e .  "
   ]
  },
  {
   "cell_type": "code",
   "execution_count": 7,
   "id": "059ed82b-1ecc-44bd-a8c3-e6fc3ad93ac6",
   "metadata": {},
   "outputs": [],
   "source": [
    "import mmcv\n",
    "import mmdet\n",
    "from mmcv import Config\n",
    "from mmdet.apis import (\n",
    "    inference_detector,\n",
    "    init_detector,\n",
    "    set_random_seed,\n",
    "    train_detector,\n",
    ")\n",
    "from mmdet.datasets import build_dataset\n",
    "from mmdet.models import build_detector"
   ]
  },
  {
   "cell_type": "code",
   "execution_count": 7,
   "id": "2b08ac2b-fb3a-49bd-bb5e-fb2fe8ebc402",
   "metadata": {},
   "outputs": [],
   "source": [
    "# !git clone https://github.com/NVIDIA/apex\n"
   ]
  },
  {
   "cell_type": "code",
   "execution_count": 8,
   "id": "3cdf1577-1808-4641-aa11-0c2d9df83e57",
   "metadata": {},
   "outputs": [],
   "source": [
    "# %cd apex\n",
    "# !pip install -v --disable-pip-version-check --no-cache-dir --global-option=\"--cpp_ext\" --global-option=\"--cuda_ext\" ./"
   ]
  },
  {
   "cell_type": "code",
   "execution_count": 58,
   "id": "700a7246-9076-4143-911b-23e406845e39",
   "metadata": {},
   "outputs": [],
   "source": [
    "SEED = 37\n",
    "set_random_seed(SEED, deterministic=False)"
   ]
  },
  {
   "cell_type": "code",
   "execution_count": 59,
   "id": "a437a777-8593-4bfc-b671-a51fabff4396",
   "metadata": {
    "_cell_guid": "b1076dfc-b9ad-4769-8c92-a6c4dae69d19",
    "_uuid": "8f2839f25d086af736a60e9eeb907d3b93b6e0e5",
    "tags": []
   },
   "outputs": [
    {
     "name": "stdout",
     "output_type": "stream",
     "text": [
      "/app/_data/Swin-Transformer-Object-Detection\n"
     ]
    }
   ],
   "source": [
    "%cd /app/_data/Swin-Transformer-Object-Detection\n",
    "import argparse\n",
    "import ast\n",
    "import glob\n",
    "import json\n",
    "import os\n",
    "import re\n",
    "import shutil\n",
    "\n",
    "import cv2\n",
    "import matplotlib.pyplot as plt\n",
    "import numpy as np\n",
    "import pandas as pd\n",
    "import torch\n",
    "from IPython.core.interactiveshell import InteractiveShell\n",
    "from PIL import Image\n",
    "from sklearn.model_selection import KFold, StratifiedKFold\n",
    "from tqdm import tqdm\n",
    "\n",
    "InteractiveShell.ast_node_interactivity = \"all\"\n",
    "import seaborn as sns\n",
    "import torch\n",
    "import torchvision"
   ]
  },
  {
   "cell_type": "code",
   "execution_count": 60,
   "id": "8dfc30f9-6854-4803-becc-7410ffb04669",
   "metadata": {},
   "outputs": [
    {
     "data": {
      "text/plain": [
       "'1.9.1+cu111'"
      ]
     },
     "execution_count": 60,
     "metadata": {},
     "output_type": "execute_result"
    }
   ],
   "source": [
    "torch.__version__"
   ]
  },
  {
   "cell_type": "code",
   "execution_count": 61,
   "id": "908b7e55-c069-4c99-b79a-7a55259472e4",
   "metadata": {
    "tags": []
   },
   "outputs": [],
   "source": [
    "def plot_bboxes(img, bboxes, bbox_format=\"coco\"):\n",
    "    try:\n",
    "        img_h, img_w = img.shape[:2]\n",
    "    except:\n",
    "        img_w, img_h = img.size\n",
    "    fig, ax = plt.subplots(1, 1, figsize=(20, 12))\n",
    "    ax.imshow(img)\n",
    "    if bbox_format == \"coco\":\n",
    "        for i in range(len(bboxes)):\n",
    "            if len(bboxes[i].split()) == 5:\n",
    "                bbox = bboxes[i].split()[1:]\n",
    "            else:\n",
    "                bbox = bboxes[i].split()\n",
    "            x_center, y_center, width, height = list(map(float, bbox))\n",
    "            x_min = int((x_center - width / 2) * img_w)\n",
    "            y_min = int((y_center - height / 2) * img_h)\n",
    "            width = int(width * img_w)\n",
    "            height = int(height * img_h)\n",
    "            rect = plt.Rectangle(\n",
    "                [x_min, y_min], width, height, ec=\"r\", fc=\"none\", lw=2.0\n",
    "            )\n",
    "            ax.add_patch(rect)\n",
    "    elif bbox_format == \"from_df\":\n",
    "        for i in range(len(bboxes)):\n",
    "            x_min, y_min, width, height = (\n",
    "                bboxes[i][\"x\"],\n",
    "                bboxes[i][\"y\"],\n",
    "                bboxes[i][\"width\"],\n",
    "                bboxes[i][\"height\"],\n",
    "            )\n",
    "            rect = plt.Rectangle(\n",
    "                [x_min, y_min], width, height, ec=\"r\", fc=\"none\", lw=2.0\n",
    "            )\n",
    "            ax.add_patch(rect)\n",
    "    plt.show();"
   ]
  },
  {
   "cell_type": "code",
   "execution_count": 62,
   "id": "14d1e3a6-fd06-46e7-b4ce-0ba4dc0a5eca",
   "metadata": {
    "tags": []
   },
   "outputs": [],
   "source": [
    "TRAIN_DF_PART = \"/app/_data/tensorflow-great-barrier-reef/train.csv\"\n",
    "IMAGE_FOLDER = \"images\"\n",
    "LABEL_FOLDER = \"labels\""
   ]
  },
  {
   "cell_type": "code",
   "execution_count": 63,
   "id": "ea0f0989-e303-4983-9d46-a27e6738d46e",
   "metadata": {},
   "outputs": [],
   "source": [
    "with open(\"/app/_data/sequences.json\", \"r\") as f:\n",
    "    seq_dict = json.load(f)"
   ]
  },
  {
   "cell_type": "code",
   "execution_count": 64,
   "id": "3f48a98b-6fad-4c1c-82d2-f70c40727024",
   "metadata": {},
   "outputs": [
    {
     "data": {
      "text/plain": [
       "138"
      ]
     },
     "execution_count": 64,
     "metadata": {},
     "output_type": "execute_result"
    },
    {
     "data": {
      "text/plain": [
       "137"
      ]
     },
     "execution_count": 64,
     "metadata": {},
     "output_type": "execute_result"
    }
   ],
   "source": [
    "df = pd.read_csv(TRAIN_DF_PART)\n",
    "df[\"img_path\"] = (\n",
    "    \"/app/_data/tensorflow-great-barrier-reef/train_images/video_\"\n",
    "    + df.video_id.astype(\"str\")\n",
    "    + \"/\"\n",
    "    + df.video_frame.astype(\"str\")\n",
    "    + \".jpg\"\n",
    ")\n",
    "df[\"annotations\"] = df[\"annotations\"].apply(lambda x: ast.literal_eval(x))\n",
    "df[\"len_annotation\"] = df[\"annotations\"].str.len()\n",
    "df[\"image_id\"] = df[\"image_id\"].str.replace(\"-\", \"_\", regex=True)\n",
    "df[\"new_img_path\"] = f\"/app/_data/{IMAGE_FOLDER}/\" + df[\"image_id\"] + \".jpg\"\n",
    "df[\"label\"] = df[\"len_annotation\"].apply(lambda x: 0 if x == 0 else 1)\n",
    "df[\"no_label\"] = df[\"len_annotation\"].apply(lambda x: True if x == 0 else False)\n",
    "R = df[df[\"len_annotation\"] == 0].shape[0] / df[df[\"len_annotation\"] != 0].shape[0]\n",
    "df[\"label_change\"] = df[\"label\"] & df[\"no_label\"].shift(1) & df[\"no_label\"].shift(\n",
    "    2\n",
    ") | df[\"no_label\"] & df[\"label\"].shift(1) & df[\"label\"].shift(2)\n",
    "df[\"sequense_change\"] = df[\"sequence\"] != df[\"sequence\"].shift(1)\n",
    "df[\"start_subseq\"] = df[\"sequense_change\"] | df[\"label_change\"]\n",
    "df.loc[df.index[-1], \"start_subseq\"] = True\n",
    "df[\"start_subseq\"].sum()\n",
    "start_idx = 0\n",
    "for subsequence_id, end_idx in enumerate(df[df[\"start_subseq\"]].index):\n",
    "    df.loc[start_idx:end_idx, \"subsequence_id\"] = subsequence_id\n",
    "    start_idx = end_idx\n",
    "\n",
    "df[\"subsequence_id\"] = df[\"subsequence_id\"].astype(int)\n",
    "df[\"subsequence_id\"].nunique()"
   ]
  },
  {
   "cell_type": "markdown",
   "id": "ba6a3ea5-c640-4f32-b06f-44bf12e2e5e8",
   "metadata": {},
   "source": [
    "# train_test_split"
   ]
  },
  {
   "cell_type": "markdown",
   "id": "f06fa34d-f2b2-41e6-a961-c24de3b955e6",
   "metadata": {},
   "source": [
    "## random"
   ]
  },
  {
   "cell_type": "code",
   "execution_count": 65,
   "id": "fd7b7879-b609-4239-bda4-abd8511f6eed",
   "metadata": {},
   "outputs": [],
   "source": [
    "# l = 0\n",
    "# ll = 0\n",
    "# for i in tqdm(range(2000)):\n",
    "#     n_val = np.random.randint(15, 25, 1)[0]\n",
    "#     val_seq = sample(df.subsequence_id.unique().tolist(), n_val)\n",
    "#     train_seq = list(set(df.subsequence_id.tolist()) - set(val_seq))\n",
    "#     l = (\n",
    "#         df.query(\"subsequence_id in @train_seq\")[\"label\"].sum()\n",
    "#         / df.query(\"subsequence_id in @val_seq\")[\"label\"].sum()\n",
    "#     )\n",
    "#     ll = (\n",
    "#         df.query(\"subsequence_id in @train_seq\")[\"len_annotation\"].sum()\n",
    "#         / df.query(\"subsequence_id in @val_seq\")[\"len_annotation\"].sum()\n",
    "#     )\n",
    "#     r = (\n",
    "#         df.query(\"subsequence_id in @val_seq and len_annotation == 0\").shape[0]\n",
    "#         / df.query(\"subsequence_id in @val_seq and len_annotation != 0\").shape[0]\n",
    "#     )\n",
    "#     if 8 <= l <= 10 and 8 <= ll <= 10 and 3.5 <= r <= 4.3:\n",
    "#         break\n",
    "\n",
    "# df.query(\"subsequence_id in @train_seq\")[[\"len_annotation\", \"label\"]].sum() / df.query(\n",
    "#     \"subsequence_id in @val_seq\"\n",
    "# )[[\"len_annotation\", \"label\"]].sum()\n",
    "\n",
    "# df.query(\"subsequence_id in @val_seq and len_annotation == 0\").shape[0] / df.query(\n",
    "#     \"subsequence_id in @val_seq and len_annotation != 0\"\n",
    "# ).shape[0]\n",
    "\n",
    "# sorted(val_seq)"
   ]
  },
  {
   "cell_type": "code",
   "execution_count": 66,
   "id": "6ceff7f1-4ae8-4c6f-b57e-297b99d55800",
   "metadata": {},
   "outputs": [],
   "source": [
    "# KFOLD = \"rand\"\n",
    "# train_idx = df.query(\"subsequence_id in @train_seq and len_annotation>0\").index.tolist()\n",
    "# val_idx = df.query(\"subsequence_id in @val_seq\").index.tolist()\n",
    "# train = df.loc[train_idx]\n",
    "# val = df.loc[val_idx]\n",
    "# train[[\"len_annotation\", \"label\"]].sum()\n",
    "# val[[\"len_annotation\", \"label\"]].sum()\n",
    "# train[[\"len_annotation\", \"label\"]].sum() / val[[\"len_annotation\", \"label\"]].sum()"
   ]
  },
  {
   "cell_type": "markdown",
   "id": "f80f6af8-6896-4360-a168-95ec32a4a99d",
   "metadata": {},
   "source": [
    "## video_id"
   ]
  },
  {
   "cell_type": "code",
   "execution_count": 67,
   "id": "efefd4e5-ba88-4f19-b747-ee319958fbcd",
   "metadata": {},
   "outputs": [],
   "source": [
    "VIDEO_ID = 2\n",
    "train  = pd.concat(\n",
    "    [\n",
    "        df.query(\"video_id!=@VIDEO_ID and len_annotation!=0\"),\n",
    "        df.query(\"video_id!=@VIDEO_ID and len_annotation==0\").sample(\n",
    "            int(\n",
    "                df.query(\"video_id!=@VIDEO_ID and len_annotation!=0\").shape[0]\n",
    "                * 0.07\n",
    "            )\n",
    "        ),\n",
    "    ]\n",
    ").sample(frac = 1)\n",
    "val = df.query(\"video_id==@VIDEO_ID\").sample(frac = 1)"
   ]
  },
  {
   "cell_type": "markdown",
   "id": "5238ba97-ba82-40cf-b9e0-79d24b6696f8",
   "metadata": {},
   "source": [
    "## StratifiedKFold on subsequence_id"
   ]
  },
  {
   "cell_type": "code",
   "execution_count": 68,
   "id": "eb232de3-5f18-4957-a12e-21250ff7e615",
   "metadata": {},
   "outputs": [],
   "source": [
    "# df_split = (\n",
    "#     df.groupby(\"subsequence_id\")\n",
    "#     .agg({\"label\": \"max\", \"len_annotation\": \"sum\", \"video_frame\": \"count\"})\n",
    "#     .astype(int)\n",
    "#     .reset_index()\n",
    "# )\n",
    "# n_splits = 10\n",
    "# y=df_split[\"label\"]\n",
    "# skf = StratifiedKFold(n_splits=n_splits, shuffle=True, random_state=SEED)\n",
    "\n",
    "# for fold_id, (train_idx, val_idx) in enumerate(\n",
    "#     skf.split(df_split[\"subsequence_id\"], y=y)\n",
    "# ):\n",
    "#     subseq_val_idx = df_split[\"subsequence_id\"].iloc[val_idx]\n",
    "#     df.loc[df[\"subsequence_id\"].isin(subseq_val_idx), \"fold\"] = fold_id\n",
    "\n",
    "# df[\"fold\"] = df[\"fold\"].astype(int)\n",
    "# for fold in range(10):\n",
    "#     print(f\"\\nFold {fold}\")\n",
    "#     df.query(\"fold != @fold\")[[\"len_annotation\", \"label\"]].sum() / df.query(\n",
    "#         \"fold == @fold\"\n",
    "#     )[[\"len_annotation\", \"label\"]].sum()"
   ]
  },
  {
   "cell_type": "code",
   "execution_count": 69,
   "id": "ce88ed51-6a29-42a3-b64e-daf7c0d56839",
   "metadata": {},
   "outputs": [],
   "source": [
    "# KFOLD = 3\n",
    "# train = pd.concat(\n",
    "#     [\n",
    "#         df.query(\"fold != @KFOLD and len_annotation!=0\"),\n",
    "#         df.query(\"fold != @KFOLD and len_annotation==0\").sample(\n",
    "#             int(df.query(\"fold != @KFOLD and len_annotation!=0\").shape[0] * 0.07)\n",
    "#         ),\n",
    "#     ]\n",
    "# ).sample(frac=1)\n",
    "# val = df.query(\"fold == @KFOLD\").sample(frac=1)\n",
    "# train[[\"len_annotation\", \"label\"]].sum() / val[[\"len_annotation\", \"label\"]].sum()\n",
    "\n",
    "# train[[\"len_annotation\", \"label\"]].sum()\n",
    "\n",
    "# val[[\"len_annotation\", \"label\"]].sum()\n",
    "\n",
    "# train_ids = train.index.tolist()\n",
    "# val_ids = val.index.tolist()\n",
    "\n",
    "# len(train_ids), len(val_ids)\n",
    "\n",
    "# train_img_path = df.loc[train_ids, \"new_img_path\"].tolist()\n",
    "# val_img_path = df.loc[val_ids, \"new_img_path\"].tolist()\n",
    "# np.savetxt(\n",
    "#     f\"/app/_data/train_{SEED}_{KFOLD}.txt\",\n",
    "#     train_img_path,\n",
    "#     fmt=\"%s\",\n",
    "# )\n",
    "# np.savetxt(f\"/app/_data/val_{SEED}_{KFOLD}.txt\", val_img_path, fmt=\"%s\")"
   ]
  },
  {
   "cell_type": "code",
   "execution_count": 70,
   "id": "2b516fc6-ac23-4343-8cb4-ec8438e5edda",
   "metadata": {},
   "outputs": [
    {
     "name": "stdout",
     "output_type": "stream",
     "text": [
      "Overwriting /app/_data/for_mmdet/labels.txt\n"
     ]
    }
   ],
   "source": [
    "%%writefile /app/_data/for_mmdet/labels.txt \n",
    "starfish"
   ]
  },
  {
   "cell_type": "code",
   "execution_count": 71,
   "id": "ededbbe0-7356-4572-a065-7d689a2f0141",
   "metadata": {},
   "outputs": [],
   "source": [
    "def df_to_coco(df):\n",
    "    images = []\n",
    "    annotations = []\n",
    "    img_id = 0\n",
    "    annotation_id = 0\n",
    "    categories = [\n",
    "        {\n",
    "            \"id\": 0,\n",
    "            \"name\": \"starfish\",\n",
    "        },\n",
    "    ]\n",
    "    for ix in tqdm(df.index.tolist()):\n",
    "        img = Image.open(df.loc[ix, \"img_path\"])\n",
    "        w, h = img.size\n",
    "        bboxes = df.loc[ix, \"annotations\"]\n",
    "        img_name = f'{df.loc[ix, \"image_id\"]}.jpg'\n",
    "        img_dict = {\n",
    "            \"id\": img_id,\n",
    "            \"file_name\": img_name,\n",
    "            \"height\": h,\n",
    "            \"width\": w,\n",
    "        }\n",
    "        images.append(img_dict)\n",
    "        if len(bboxes) != 0:\n",
    "            for i in range(len(bboxes)):\n",
    "                bbox = bboxes[i]\n",
    "                bbox = [bbox[\"x\"], bbox[\"y\"], bbox[\"width\"], bbox[\"height\"]]\n",
    "                annotations_dict = {\n",
    "                    \"id\": annotation_id,\n",
    "                    \"image_id\": img_id,\n",
    "                    \"category_id\": 0,\n",
    "                    \"bbox\": bbox,\n",
    "                    \"area\": bbox[2] * bbox[3],\n",
    "                    \"segmentation\": [],\n",
    "                    \"iscrowd\": 0,\n",
    "                }\n",
    "                annotations.append(annotations_dict)\n",
    "                annotation_id += 1\n",
    "        img_id += 1\n",
    "    coco_dict = {\"categories\": categories, \"images\": images, \"annotations\": annotations}\n",
    "    return coco_dict"
   ]
  },
  {
   "cell_type": "code",
   "execution_count": 72,
   "id": "bf496211-b12f-4cad-8e04-31983b464712",
   "metadata": {},
   "outputs": [
    {
     "name": "stderr",
     "output_type": "stream",
     "text": [
      "100% 4538/4538 [00:00<00:00, 5622.72it/s]\n",
      "100% 8561/8561 [00:01<00:00, 6258.78it/s]\n"
     ]
    }
   ],
   "source": [
    "train_dict = df_to_coco(train)\n",
    "with open('/app/_data/for_mmdet/coco_train.json', 'w') as f:\n",
    "    json.dump(train_dict, f, ensure_ascii=True, indent=4)\n",
    "val_dict = df_to_coco(val)\n",
    "with open('/app/_data/for_mmdet/coco_val.json', 'w') as f:\n",
    "    json.dump(val_dict, f, ensure_ascii=True, indent=4)"
   ]
  },
  {
   "cell_type": "markdown",
   "id": "b4c45a22-7d33-4373-95bb-90b86aae9c7a",
   "metadata": {},
   "source": [
    "# Model Config"
   ]
  },
  {
   "cell_type": "code",
   "execution_count": 73,
   "id": "7b2df4a1-9470-4faf-aa81-ab4b7984ae25",
   "metadata": {},
   "outputs": [],
   "source": [
    "cfg = Config.fromfile(\n",
    "    \"/app/_data/Swin-Transformer-Object-Detection/configs/swin/cascade_mask_rcnn_swin_tiny_patch4_window7_mstrain_480-800_giou_4conv1f_adamw_3x_coco.py\"\n",
    ")"
   ]
  },
  {
   "cell_type": "code",
   "execution_count": 74,
   "id": "21202d1b-d4c1-42c0-aaa6-292c77cb5f0a",
   "metadata": {},
   "outputs": [],
   "source": [
    "# cfg"
   ]
  },
  {
   "cell_type": "code",
   "execution_count": 75,
   "id": "c2bc6403-5229-4d28-a4a9-972de7cf78c5",
   "metadata": {},
   "outputs": [],
   "source": [
    "model_name = \"cascade_mask_rcnn_swin_tyny_patch_1\"\n",
    "# Folder to store model logs and weight files\n",
    "work_dir = f\"/app/_data/for_mmdet/{model_name}\"\n",
    "cfg.work_dir = work_dir\n",
    "if not os.path.exists(work_dir):\n",
    "    os.makedirs(work_dir)"
   ]
  },
  {
   "cell_type": "code",
   "execution_count": 76,
   "id": "827e5892-ad48-4c11-8d97-e4d8b3e6fce8",
   "metadata": {},
   "outputs": [],
   "source": [
    "# cfg.model.roi_head"
   ]
  },
  {
   "cell_type": "code",
   "execution_count": 77,
   "id": "8ded8d88-0836-401f-96fc-45496f3951d9",
   "metadata": {},
   "outputs": [],
   "source": [
    "for head in cfg.model.roi_head.bbox_head:\n",
    "    head.num_classes = 1"
   ]
  },
  {
   "cell_type": "code",
   "execution_count": 78,
   "id": "7d54fcff-a9cb-45a3-8afb-0c57f2867905",
   "metadata": {},
   "outputs": [
    {
     "data": {
      "text/plain": [
       "{'type': 'SwinTransformer',\n",
       " 'embed_dim': 96,\n",
       " 'depths': [2, 2, 6, 2],\n",
       " 'num_heads': [3, 6, 12, 24],\n",
       " 'window_size': 7,\n",
       " 'mlp_ratio': 4.0,\n",
       " 'qkv_bias': True,\n",
       " 'qk_scale': None,\n",
       " 'drop_rate': 0.0,\n",
       " 'attn_drop_rate': 0.0,\n",
       " 'drop_path_rate': 0.2,\n",
       " 'ape': False,\n",
       " 'patch_norm': True,\n",
       " 'out_indices': (0, 1, 2, 3),\n",
       " 'use_checkpoint': False}"
      ]
     },
     "execution_count": 78,
     "metadata": {},
     "output_type": "execute_result"
    }
   ],
   "source": [
    "cfg.model.backbone"
   ]
  },
  {
   "cell_type": "code",
   "execution_count": 79,
   "id": "f2ae0516-d6bc-4280-9c7f-6928828548a4",
   "metadata": {},
   "outputs": [
    {
     "data": {
      "text/plain": [
       "{'type': 'AdamW',\n",
       " 'lr': 0.0001,\n",
       " 'betas': (0.9, 0.999),\n",
       " 'weight_decay': 0.05,\n",
       " 'paramwise_cfg': {'custom_keys': {'absolute_pos_embed': {'decay_mult': 0.0},\n",
       "   'relative_position_bias_table': {'decay_mult': 0.0},\n",
       "   'norm': {'decay_mult': 0.0}}}}"
      ]
     },
     "execution_count": 79,
     "metadata": {},
     "output_type": "execute_result"
    }
   ],
   "source": [
    "cfg.optimizer"
   ]
  },
  {
   "cell_type": "code",
   "execution_count": 80,
   "id": "58996d8c-b0b2-4c46-b673-1f74e9873d5c",
   "metadata": {},
   "outputs": [],
   "source": [
    "cfg.runner.max_epochs = 30"
   ]
  },
  {
   "cell_type": "code",
   "execution_count": 81,
   "id": "fc5acccf-9e3a-4f34-ae08-9a6015816a36",
   "metadata": {},
   "outputs": [
    {
     "data": {
      "text/plain": [
       "{'policy': 'step',\n",
       " 'warmup': 'linear',\n",
       " 'warmup_iters': 500,\n",
       " 'warmup_ratio': 0.001,\n",
       " 'step': [27, 33]}"
      ]
     },
     "execution_count": 81,
     "metadata": {},
     "output_type": "execute_result"
    }
   ],
   "source": [
    "cfg.lr_config"
   ]
  },
  {
   "cell_type": "code",
   "execution_count": 82,
   "id": "da9f203d-b233-4b9a-81cb-be7f8f584f82",
   "metadata": {},
   "outputs": [],
   "source": [
    "# cfg.lr_config = dict(\n",
    "#     policy='CosineAnnealing', # The policy of scheduler, also support CosineAnnealing, Cyclic, etc. Refer to details of supported LrUpdater from https://github.com/open-mmlab/mmcv/blob/master/mmcv/runner/hooks/lr_updater.py#L9.\n",
    "#     by_epoch=False,\n",
    "#     warmup='linear', # The warmup policy, also support `exp` and `constant`.\n",
    "#     warmup_iters=500, # The number of iterations for warmup\n",
    "#     warmup_ratio=0.001, # The ratio of the starting learning rate used for warmup\n",
    "#     min_lr=1e-07)"
   ]
  },
  {
   "cell_type": "code",
   "execution_count": 83,
   "id": "878f0c4f-df06-46d8-9b59-349f3fc03e34",
   "metadata": {},
   "outputs": [],
   "source": [
    "cfg.log_config.interval = 200"
   ]
  },
  {
   "cell_type": "code",
   "execution_count": 84,
   "id": "9e3b2b97-4860-4303-b06d-f8c3fc2fa454",
   "metadata": {},
   "outputs": [],
   "source": [
    "cfg.data.samples_per_gpu=8\n",
    "cfg.data.workers_per_gpu=4"
   ]
  },
  {
   "cell_type": "code",
   "execution_count": 85,
   "id": "61cb95ac-7980-4787-8043-b97bdff1bb0c",
   "metadata": {},
   "outputs": [
    {
     "data": {
      "text/plain": [
       "'CocoDataset'"
      ]
     },
     "execution_count": 85,
     "metadata": {},
     "output_type": "execute_result"
    }
   ],
   "source": [
    "cfg.dataset_type"
   ]
  },
  {
   "cell_type": "code",
   "execution_count": 86,
   "id": "891006e6-2d29-406a-a5ef-b7911e01925e",
   "metadata": {},
   "outputs": [],
   "source": [
    "cfg.gpu_ids = [0]\n",
    "cfg.classes = '/app/_data/for_mmdet/labels.txt'"
   ]
  },
  {
   "cell_type": "code",
   "execution_count": 87,
   "id": "f13f31bf-4b77-4472-a8a0-7f7da9c3bdf3",
   "metadata": {},
   "outputs": [],
   "source": [
    "cfg.data.train.ann_file =  \"/app/_data/for_mmdet/coco_train.json\"\n",
    "cfg.data.train.img_prefix =  \"/app/_data/images/\"\n",
    "cfg.data.train.classes = cfg.classes"
   ]
  },
  {
   "cell_type": "code",
   "execution_count": 88,
   "id": "04f12105-fbdb-4576-b914-b225b6c049e8",
   "metadata": {},
   "outputs": [],
   "source": [
    "cfg.data.val.ann_file =  \"/app/_data/for_mmdet/coco_val.json\"\n",
    "cfg.data.val.img_prefix =  \"/app/_data/images/\"\n",
    "cfg.data.val.classes = cfg.classes"
   ]
  },
  {
   "cell_type": "code",
   "execution_count": 89,
   "id": "460455f7-0a28-46a4-b70b-b6298cd99f5d",
   "metadata": {},
   "outputs": [],
   "source": [
    "cfg.data.test = cfg.data.val"
   ]
  },
  {
   "cell_type": "code",
   "execution_count": 90,
   "id": "f3390108-78a5-4890-ba1d-55c6c1bf50f4",
   "metadata": {},
   "outputs": [],
   "source": [
    "cfg.seed = SEED"
   ]
  },
  {
   "cell_type": "code",
   "execution_count": 91,
   "id": "a59b2e73-3e39-4ec7-badd-b1a8c9e70ac5",
   "metadata": {},
   "outputs": [
    {
     "data": {
      "text/plain": [
       "['bbox', 'segm']"
      ]
     },
     "execution_count": 91,
     "metadata": {},
     "output_type": "execute_result"
    }
   ],
   "source": [
    "cfg.evaluation.metric # = ['bbox']"
   ]
  },
  {
   "cell_type": "code",
   "execution_count": 92,
   "id": "b765ab61-2729-4826-90a2-dcbd23e1760f",
   "metadata": {},
   "outputs": [
    {
     "data": {
      "text/plain": [
       "True"
      ]
     },
     "execution_count": 92,
     "metadata": {},
     "output_type": "execute_result"
    }
   ],
   "source": [
    "import wandb\n",
    "wandb.login()"
   ]
  },
  {
   "cell_type": "code",
   "execution_count": 93,
   "id": "3beb51a6-49eb-4040-a7e5-52c2a6e09f5b",
   "metadata": {},
   "outputs": [
    {
     "data": {
      "text/plain": [
       "[{'type': 'TextLoggerHook'}]"
      ]
     },
     "execution_count": 93,
     "metadata": {},
     "output_type": "execute_result"
    }
   ],
   "source": [
    "cfg.log_config.hooks"
   ]
  },
  {
   "cell_type": "code",
   "execution_count": 94,
   "id": "390da4f3-5726-420b-8a79-fbe3883d32a9",
   "metadata": {},
   "outputs": [],
   "source": [
    "cfg.log_config.hooks = [dict(type='TextLoggerHook'),\n",
    "                        dict(type='WandbLoggerHook',\n",
    "                             init_kwargs=dict(project='cascade_101',\n",
    "                                              name=f'exp-{model_name}',\n",
    "                                              entity='tatanko'))]"
   ]
  },
  {
   "cell_type": "code",
   "execution_count": 95,
   "id": "7cb92a95-476d-4a05-9b58-78b2e81b325b",
   "metadata": {},
   "outputs": [
    {
     "data": {
      "text/plain": [
       "[{'type': 'LoadImageFromFile'},\n",
       " {'type': 'LoadAnnotations', 'with_bbox': True, 'with_mask': True},\n",
       " {'type': 'RandomFlip', 'flip_ratio': 0.5},\n",
       " {'type': 'AutoAugment',\n",
       "  'policies': [[{'type': 'Resize',\n",
       "     'img_scale': [(480, 1333),\n",
       "      (512, 1333),\n",
       "      (544, 1333),\n",
       "      (576, 1333),\n",
       "      (608, 1333),\n",
       "      (640, 1333),\n",
       "      (672, 1333),\n",
       "      (704, 1333),\n",
       "      (736, 1333),\n",
       "      (768, 1333),\n",
       "      (800, 1333)],\n",
       "     'multiscale_mode': 'value',\n",
       "     'keep_ratio': True}],\n",
       "   [{'type': 'Resize',\n",
       "     'img_scale': [(400, 1333), (500, 1333), (600, 1333)],\n",
       "     'multiscale_mode': 'value',\n",
       "     'keep_ratio': True},\n",
       "    {'type': 'RandomCrop',\n",
       "     'crop_type': 'absolute_range',\n",
       "     'crop_size': (384, 600),\n",
       "     'allow_negative_crop': True},\n",
       "    {'type': 'Resize',\n",
       "     'img_scale': [(480, 1333),\n",
       "      (512, 1333),\n",
       "      (544, 1333),\n",
       "      (576, 1333),\n",
       "      (608, 1333),\n",
       "      (640, 1333),\n",
       "      (672, 1333),\n",
       "      (704, 1333),\n",
       "      (736, 1333),\n",
       "      (768, 1333),\n",
       "      (800, 1333)],\n",
       "     'multiscale_mode': 'value',\n",
       "     'override': True,\n",
       "     'keep_ratio': True}]]},\n",
       " {'type': 'Normalize',\n",
       "  'mean': [123.675, 116.28, 103.53],\n",
       "  'std': [58.395, 57.12, 57.375],\n",
       "  'to_rgb': True},\n",
       " {'type': 'Pad', 'size_divisor': 32},\n",
       " {'type': 'DefaultFormatBundle'},\n",
       " {'type': 'Collect', 'keys': ['img', 'gt_bboxes', 'gt_labels', 'gt_masks']}]"
      ]
     },
     "execution_count": 95,
     "metadata": {},
     "output_type": "execute_result"
    }
   ],
   "source": [
    "cfg.data.train.pipeline"
   ]
  },
  {
   "cell_type": "code",
   "execution_count": 96,
   "id": "ce5214e2-8a74-499d-9424-0f117a16b02c",
   "metadata": {},
   "outputs": [],
   "source": [
    "cfg.data.train.pipeline = cfg.train_pipeline"
   ]
  },
  {
   "cell_type": "code",
   "execution_count": 38,
   "id": "50ceb70c-e693-493d-9b12-e8eb901b4026",
   "metadata": {},
   "outputs": [],
   "source": [
    "albu_train_transforms = [\n",
    "    dict(type='ShiftScaleRotate', shift_limit=0.0625,\n",
    "         scale_limit=0.15, rotate_limit=15, p=0.05),\n",
    "    dict(type='RandomBrightnessContrast', brightness_limit=0.2,\n",
    "         contrast_limit=0.2, p=0.3),\n",
    "    dict(type='IAAAffine', shear=(-10.0, 10.0), p=0.4),\n",
    "    dict(type=\"Blur\", p=1.0, blur_limit=7),\n",
    "    dict(type='CLAHE', p=0.5),\n",
    "    dict(type='Equalize', mode='cv', p=0.4),\n",
    "    dict(\n",
    "        type=\"OneOf\",\n",
    "        transforms=[\n",
    "            dict(type=\"GaussianBlur\", p=1.0, blur_limit=7),\n",
    "            dict(type=\"MedianBlur\", p=1.0, blur_limit=7),\n",
    "        ],\n",
    "        p=0.4,\n",
    "    ),\n",
    "    \n",
    "    dict(type='MixUp', p=0.2, lambd=0.5),\n",
    "    dict(type='Flip', p=0.5),\n",
    "    ]\n",
    "\n",
    "\n",
    "cfg.train_pipeline = [\n",
    "    dict(type='LoadImageFromFile'),\n",
    "    dict(type='LoadAnnotations', with_bbox=True, with_mask=False),\n",
    "    dict(type='Resize', img_scale=(1333, 800), keep_ratio=True),\n",
    "    dict(type='RandomFlip', flip_ratio=0.5),\n",
    "    dict(\n",
    "        type='Albu',\n",
    "        transforms=albu_train_transforms,\n",
    "        bbox_params=dict(\n",
    "        type='BboxParams',\n",
    "        format='pascal_voc',\n",
    "        label_fields=['gt_labels'],\n",
    "        min_visibility=0.5,\n",
    "        filter_lost_elements=True),\n",
    "        keymap=dict(img='image', gt_bboxes='bboxes'),\n",
    "        update_pad_shape=False,\n",
    "        skip_img_without_anno=True),\n",
    "    dict(\n",
    "        type='Normalize',\n",
    "        mean=[123.675, 116.28, 103.53],\n",
    "        std=[58.395, 57.12, 57.375],\n",
    "        to_rgb=True),\n",
    "    dict(type='Pad', size_divisor=32),\n",
    "    dict(type='DefaultFormatBundle'),\n",
    "    dict(type='Collect', keys=['img', 'gt_bboxes', 'gt_labels', 'gt_masks'])\n",
    "]\n",
    "cfg.test_pipeline = [\n",
    "    dict(type='LoadImageFromFile'),\n",
    "    dict(\n",
    "        type='MultiScaleFlipAug',\n",
    "        img_scale=(1333, 800),\n",
    "        flip=False,\n",
    "        transforms=[\n",
    "            dict(type='Resize', keep_ratio=True),\n",
    "            dict(type='RandomFlip'),\n",
    "            dict(\n",
    "                type='Normalize',\n",
    "                mean=[123.675, 116.28, 103.53],\n",
    "                std=[58.395, 57.12, 57.375],\n",
    "                to_rgb=True),\n",
    "            dict(type='Pad', size_divisor=32),\n",
    "            dict(type='ImageToTensor', keys=['img']),\n",
    "            dict(type='Collect', keys=['img'])\n",
    "        ])\n",
    "]"
   ]
  },
  {
   "cell_type": "code",
   "execution_count": 97,
   "id": "4ee50746-d46c-44ac-b842-666828ad02fd",
   "metadata": {
    "tags": []
   },
   "outputs": [],
   "source": [
    "model = build_detector(\n",
    "    cfg.model, train_cfg=cfg.get(\"train_cfg\"), test_cfg=cfg.get(\"test_cfg\")\n",
    ")\n",
    "model.init_weights()"
   ]
  },
  {
   "cell_type": "code",
   "execution_count": 98,
   "id": "5b48c697-7a20-4b5a-9da7-95bbd25b0af2",
   "metadata": {},
   "outputs": [
    {
     "name": "stdout",
     "output_type": "stream",
     "text": [
      "loading annotations into memory...\n",
      "Done (t=0.19s)\n",
      "creating index...\n",
      "index created!\n"
     ]
    }
   ],
   "source": [
    "train_dataset = build_dataset(cfg.data.train)"
   ]
  },
  {
   "cell_type": "code",
   "execution_count": 99,
   "id": "a006fa7f-2bbe-4ec5-b57c-a6fb906ca772",
   "metadata": {},
   "outputs": [
    {
     "data": {
      "text/plain": [
       "<mmdet.datasets.coco.CocoDataset at 0x7f85848b9be0>"
      ]
     },
     "execution_count": 99,
     "metadata": {},
     "output_type": "execute_result"
    }
   ],
   "source": [
    "train_dataset"
   ]
  },
  {
   "cell_type": "code",
   "execution_count": 100,
   "id": "b8869e28-85f6-41be-8cca-13cfc0a1262f",
   "metadata": {
    "tags": []
   },
   "outputs": [
    {
     "ename": "AttributeError",
     "evalue": "module 'apex' has no attribute 'amp'",
     "output_type": "error",
     "traceback": [
      "\u001b[0;31m---------------------------------------------------------------------------\u001b[0m",
      "\u001b[0;31mAttributeError\u001b[0m                            Traceback (most recent call last)",
      "\u001b[0;32m/tmp/ipykernel_54788/1128506994.py\u001b[0m in \u001b[0;36m<module>\u001b[0;34m\u001b[0m\n\u001b[0;32m----> 1\u001b[0;31m \u001b[0mtrain_detector\u001b[0m\u001b[0;34m(\u001b[0m\u001b[0mmodel\u001b[0m\u001b[0;34m,\u001b[0m \u001b[0mtrain_dataset\u001b[0m\u001b[0;34m,\u001b[0m \u001b[0mcfg\u001b[0m\u001b[0;34m,\u001b[0m \u001b[0mdistributed\u001b[0m\u001b[0;34m=\u001b[0m\u001b[0;32mFalse\u001b[0m\u001b[0;34m,\u001b[0m \u001b[0mvalidate\u001b[0m\u001b[0;34m=\u001b[0m\u001b[0;32mTrue\u001b[0m\u001b[0;34m)\u001b[0m\u001b[0;34m\u001b[0m\u001b[0;34m\u001b[0m\u001b[0m\n\u001b[0m",
      "\u001b[0;32m/app/_data/Swin-Transformer-Object-Detection/mmdet/apis/train.py\u001b[0m in \u001b[0;36mtrain_detector\u001b[0;34m(model, dataset, cfg, distributed, validate, timestamp, meta)\u001b[0m\n\u001b[1;32m     82\u001b[0m     \u001b[0;32mif\u001b[0m \u001b[0mcfg\u001b[0m\u001b[0;34m.\u001b[0m\u001b[0moptimizer_config\u001b[0m\u001b[0;34m.\u001b[0m\u001b[0mget\u001b[0m\u001b[0;34m(\u001b[0m\u001b[0;34m\"type\"\u001b[0m\u001b[0;34m,\u001b[0m \u001b[0;32mNone\u001b[0m\u001b[0;34m)\u001b[0m \u001b[0;32mand\u001b[0m \u001b[0mcfg\u001b[0m\u001b[0;34m.\u001b[0m\u001b[0moptimizer_config\u001b[0m\u001b[0;34m[\u001b[0m\u001b[0;34m\"type\"\u001b[0m\u001b[0;34m]\u001b[0m \u001b[0;34m==\u001b[0m \u001b[0;34m\"DistOptimizerHook\"\u001b[0m\u001b[0;34m:\u001b[0m\u001b[0;34m\u001b[0m\u001b[0;34m\u001b[0m\u001b[0m\n\u001b[1;32m     83\u001b[0m         \u001b[0;32mif\u001b[0m \u001b[0mcfg\u001b[0m\u001b[0;34m.\u001b[0m\u001b[0moptimizer_config\u001b[0m\u001b[0;34m.\u001b[0m\u001b[0mget\u001b[0m\u001b[0;34m(\u001b[0m\u001b[0;34m\"use_fp16\"\u001b[0m\u001b[0;34m,\u001b[0m \u001b[0;32mFalse\u001b[0m\u001b[0;34m)\u001b[0m\u001b[0;34m:\u001b[0m\u001b[0;34m\u001b[0m\u001b[0;34m\u001b[0m\u001b[0m\n\u001b[0;32m---> 84\u001b[0;31m             model, optimizer = apex.amp.initialize(\n\u001b[0m\u001b[1;32m     85\u001b[0m                 model.cuda(), optimizer, opt_level=\"O1\")\n\u001b[1;32m     86\u001b[0m             \u001b[0;32mfor\u001b[0m \u001b[0mm\u001b[0m \u001b[0;32min\u001b[0m \u001b[0mmodel\u001b[0m\u001b[0;34m.\u001b[0m\u001b[0mmodules\u001b[0m\u001b[0;34m(\u001b[0m\u001b[0;34m)\u001b[0m\u001b[0;34m:\u001b[0m\u001b[0;34m\u001b[0m\u001b[0;34m\u001b[0m\u001b[0m\n",
      "\u001b[0;31mAttributeError\u001b[0m: module 'apex' has no attribute 'amp'"
     ]
    }
   ],
   "source": [
    "train_detector(model, train_dataset, cfg, distributed=False, validate=True)"
   ]
  },
  {
   "cell_type": "code",
   "execution_count": 107,
   "id": "9b126ef9-0e07-4242-a525-17eebafbf52f",
   "metadata": {},
   "outputs": [
    {
     "name": "stdout",
     "output_type": "stream",
     "text": [
      "/app/_data/Swin-Transformer-Object-Detection\n"
     ]
    },
    {
     "ename": "ImportError",
     "evalue": "cannot import name 'amp' from 'apex' (unknown location)",
     "output_type": "error",
     "traceback": [
      "\u001b[0;31m---------------------------------------------------------------------------\u001b[0m",
      "\u001b[0;31mImportError\u001b[0m                               Traceback (most recent call last)",
      "\u001b[0;32m/tmp/ipykernel_54788/4271355807.py\u001b[0m in \u001b[0;36m<module>\u001b[0;34m\u001b[0m\n\u001b[1;32m      1\u001b[0m \u001b[0mget_ipython\u001b[0m\u001b[0;34m(\u001b[0m\u001b[0;34m)\u001b[0m\u001b[0;34m.\u001b[0m\u001b[0mrun_line_magic\u001b[0m\u001b[0;34m(\u001b[0m\u001b[0;34m'cd'\u001b[0m\u001b[0;34m,\u001b[0m \u001b[0;34m'/app/_data/Swin-Transformer-Object-Detection'\u001b[0m\u001b[0;34m)\u001b[0m\u001b[0;34m\u001b[0m\u001b[0;34m\u001b[0m\u001b[0m\n\u001b[0;32m----> 2\u001b[0;31m \u001b[0;32mfrom\u001b[0m \u001b[0mapex\u001b[0m \u001b[0;32mimport\u001b[0m \u001b[0mamp\u001b[0m\u001b[0;34m\u001b[0m\u001b[0;34m\u001b[0m\u001b[0m\n\u001b[0m",
      "\u001b[0;31mImportError\u001b[0m: cannot import name 'amp' from 'apex' (unknown location)"
     ]
    }
   ],
   "source": [
    "%cd /app/_data/Swin-Transformer-Object-Detection\n",
    "from apex import amp"
   ]
  },
  {
   "cell_type": "code",
   "execution_count": 101,
   "id": "61a4c8cb-387b-4c53-9be3-57405de36353",
   "metadata": {},
   "outputs": [],
   "source": [
    "import apex"
   ]
  },
  {
   "cell_type": "code",
   "execution_count": null,
   "id": "9cd996d1-086b-4f71-b0b6-1b11776cc120",
   "metadata": {},
   "outputs": [],
   "source": []
  },
  {
   "cell_type": "code",
   "execution_count": null,
   "id": "3d39b4ac-acf7-4fec-be5a-3adda7c94907",
   "metadata": {},
   "outputs": [],
   "source": []
  },
  {
   "cell_type": "code",
   "execution_count": null,
   "id": "6dd012c9-29f8-495c-9f7a-8744e91d48ba",
   "metadata": {},
   "outputs": [],
   "source": []
  },
  {
   "cell_type": "code",
   "execution_count": null,
   "id": "c4738b48-b51e-40e8-b7e4-0d2e388d336d",
   "metadata": {},
   "outputs": [],
   "source": []
  },
  {
   "cell_type": "code",
   "execution_count": null,
   "id": "efac6eb1-46fa-4d75-858d-459a24699753",
   "metadata": {},
   "outputs": [],
   "source": []
  },
  {
   "cell_type": "code",
   "execution_count": null,
   "id": "f615f5c6-5877-40bb-ac68-b35f87d3604d",
   "metadata": {},
   "outputs": [],
   "source": []
  },
  {
   "cell_type": "code",
   "execution_count": null,
   "id": "99536c86-c547-43c2-acf4-4ab082c3eced",
   "metadata": {},
   "outputs": [],
   "source": []
  },
  {
   "cell_type": "code",
   "execution_count": null,
   "id": "dd6798de-62fd-4df7-8b7d-fb861f2875b0",
   "metadata": {},
   "outputs": [],
   "source": []
  },
  {
   "cell_type": "code",
   "execution_count": null,
   "id": "ec2f2de5-a653-470f-a994-6615d880a576",
   "metadata": {},
   "outputs": [],
   "source": []
  },
  {
   "cell_type": "code",
   "execution_count": null,
   "id": "92f3275c-298a-42dc-aabd-1267b2f44d6a",
   "metadata": {},
   "outputs": [],
   "source": []
  },
  {
   "cell_type": "code",
   "execution_count": null,
   "id": "759fea27-d1e8-44b6-ba36-f7e5e1ec1d4d",
   "metadata": {},
   "outputs": [],
   "source": []
  },
  {
   "cell_type": "code",
   "execution_count": null,
   "id": "5264e132-144a-499b-a494-5c4ace5a5616",
   "metadata": {},
   "outputs": [],
   "source": []
  },
  {
   "cell_type": "code",
   "execution_count": null,
   "id": "b362b1fb-a46b-48ef-a968-1af7e8cba5e3",
   "metadata": {},
   "outputs": [],
   "source": []
  },
  {
   "cell_type": "code",
   "execution_count": null,
   "id": "3f13f451-36c7-4f5d-9d81-d1edd3459eb3",
   "metadata": {},
   "outputs": [],
   "source": []
  },
  {
   "cell_type": "code",
   "execution_count": null,
   "id": "b3ad196e-0f55-4df2-a1af-3705a86d7d43",
   "metadata": {},
   "outputs": [],
   "source": []
  },
  {
   "cell_type": "code",
   "execution_count": null,
   "id": "3d4c5a69-ec06-40e5-88ee-cb1eb3bfac7c",
   "metadata": {},
   "outputs": [],
   "source": []
  },
  {
   "cell_type": "code",
   "execution_count": null,
   "id": "b3ba817a-2dea-4b02-9989-3d3830978b9c",
   "metadata": {},
   "outputs": [],
   "source": []
  },
  {
   "cell_type": "code",
   "execution_count": null,
   "id": "3e41a36d-2fb7-4bb5-a8c2-6bd3369ecd93",
   "metadata": {},
   "outputs": [],
   "source": []
  },
  {
   "cell_type": "code",
   "execution_count": null,
   "id": "befa8d3d-5c48-4bd9-b10e-86f31d2977f0",
   "metadata": {},
   "outputs": [],
   "source": []
  },
  {
   "cell_type": "code",
   "execution_count": null,
   "id": "40d69d4a-3fee-4e36-986f-87d93404fedc",
   "metadata": {},
   "outputs": [],
   "source": []
  },
  {
   "cell_type": "code",
   "execution_count": null,
   "id": "fcac1037-3973-4f3d-96d8-b854e1d18389",
   "metadata": {},
   "outputs": [],
   "source": []
  },
  {
   "cell_type": "code",
   "execution_count": null,
   "id": "e5d2f111-017d-411f-ba52-bfbf9538dce6",
   "metadata": {},
   "outputs": [],
   "source": []
  },
  {
   "cell_type": "code",
   "execution_count": null,
   "id": "5c65060f-7a0b-4063-b846-452d1e92873a",
   "metadata": {},
   "outputs": [],
   "source": []
  },
  {
   "cell_type": "code",
   "execution_count": null,
   "id": "29afac67-3a53-45ad-a9b5-747a5b2b41f0",
   "metadata": {},
   "outputs": [],
   "source": []
  },
  {
   "cell_type": "code",
   "execution_count": null,
   "id": "796ebd6f-ea20-408c-8fde-7c1966af88ac",
   "metadata": {},
   "outputs": [],
   "source": []
  },
  {
   "cell_type": "code",
   "execution_count": 16,
   "id": "72554a24-0cb2-4765-ab1b-581aed760fed",
   "metadata": {},
   "outputs": [
    {
     "name": "stdout",
     "output_type": "stream",
     "text": [
      "Overwriting /app/_data/mmdetection/configs/swin/TFGBR_swin_base_faster_rcnn_fp16.py\n"
     ]
    }
   ],
   "source": [
    "%%writefile /app/_data/mmdetection/configs/swin/TFGBR_swin_base_faster_rcnn_fp16.py\n",
    "\n",
    "_base_ = [\n",
    "    \"/app/_data/mmdetection/configs/_base_/models/faster_rcnn_r50_fpn.py\",\n",
    "    \"/app/_data/mmdetection/configs/_base_/datasets/coco_detection.py\",\n",
    "    \"/app/_data/mmdetection/configs/_base_/schedules/schedule_2x.py\",\n",
    "    \"/app/_data/mmdetection/configs/_base_/default_runtime.py\",\n",
    "]\n",
    "pretrained = \"https://github.com/SwinTransformer/storage/releases/download/v1.0.0/swin_small_patch4_window7_224.pth\"\n",
    "model = dict(\n",
    "    backbone=dict(\n",
    "        _delete_=True,\n",
    "        type=\"SwinTransformer\",\n",
    "        embed_dims=96,\n",
    "        depths=[2, 2, 18, 2],\n",
    "        num_heads=[3, 6, 12, 24],\n",
    "        window_size=7,\n",
    "        mlp_ratio=4,\n",
    "        qkv_bias=True,\n",
    "        qk_scale=None,\n",
    "        drop_rate=0.0,\n",
    "        attn_drop_rate=0.0,\n",
    "        drop_path_rate=0.2,\n",
    "        patch_norm=True,\n",
    "        out_indices=(0, 1, 2, 3),\n",
    "        with_cp=False,\n",
    "        convert_weights=True,\n",
    "        init_cfg=dict(type=\"Pretrained\", checkpoint=pretrained),\n",
    "    ),\n",
    "    neck=dict(in_channels=[96, 192, 384, 768]),\n",
    "    roi_head=dict(\n",
    "        bbox_head=dict(\n",
    "            reg_decoded_bbox=True, loss_bbox=dict(type=\"GIoULoss\", loss_weight=10.0)\n",
    "        )\n",
    "    ),\n",
    ")\n",
    "\n",
    "optimizer = dict(\n",
    "    _delete_=True,\n",
    "    type=\"AdamW\",\n",
    "    lr=0.0005,\n",
    "    betas=(0.9, 0.999),\n",
    "    weight_decay=0.05,\n",
    "    paramwise_cfg=dict(\n",
    "        custom_keys={\n",
    "            \"absolute_pos_embed\": dict(decay_mult=0.0),\n",
    "            \"relative_position_bias_table\": dict(decay_mult=0.0),\n",
    "            \"norm\": dict(decay_mult=0.0),\n",
    "        }\n",
    "    ),\n",
    ")\n",
    "lr_config = dict(warmup_iters=500, step=[8, 11])\n",
    "runner = dict(max_epochs=50)"
   ]
  },
  {
   "cell_type": "code",
   "execution_count": 17,
   "id": "b1dae668-d66d-488f-b228-41b58e49be1e",
   "metadata": {},
   "outputs": [],
   "source": [
    "cfg = Config.fromfile(\n",
    "    \"/app/_data/mmdetection/configs/swin/TFGBR_swin_base_faster_rcnn_fp16.py\"\n",
    ")"
   ]
  },
  {
   "cell_type": "code",
   "execution_count": 18,
   "id": "34f04ca4-ab06-4aa3-a296-74b9bdac98f3",
   "metadata": {},
   "outputs": [],
   "source": [
    "img_norm_cfg = dict(\n",
    "    mean=[123.675, 116.28, 103.53], std=[58.395, 57.12, 57.375], to_rgb=True\n",
    ")\n",
    "train_pipeline = [\n",
    "    dict(type=\"LoadImageFromFile\", to_float32=True),\n",
    "    dict(type=\"LoadAnnotations\", with_bbox=True),\n",
    "    dict(\n",
    "        type=\"AutoAugment\",\n",
    "        policies=[\n",
    "            [\n",
    "                dict(\n",
    "                    type=\"Resize\",\n",
    "                    img_scale=[\n",
    "                        (480, 1333),\n",
    "                        (512, 1333),\n",
    "                        (544, 1333),\n",
    "                        (576, 1333),\n",
    "                        (608, 1333),\n",
    "                        (640, 1333),\n",
    "                        (672, 1333),\n",
    "                        (704, 1333),\n",
    "                        (736, 1333),\n",
    "                        (768, 1333),\n",
    "                        (800, 1333),\n",
    "                    ],\n",
    "                    multiscale_mode=\"value\",\n",
    "                    keep_ratio=True,\n",
    "                )\n",
    "            ],\n",
    "            [\n",
    "                dict(\n",
    "                    type=\"Resize\",\n",
    "                    img_scale=[(400, 1333), (500, 1333), (600, 1333)],\n",
    "                    multiscale_mode=\"value\",\n",
    "                    keep_ratio=True,\n",
    "                ),\n",
    "                dict(\n",
    "                    type=\"RandomCrop\",\n",
    "                    crop_type=\"absolute_range\",\n",
    "                    crop_size=(384, 600),\n",
    "                    allow_negative_crop=True,\n",
    "                ),\n",
    "                dict(\n",
    "                    type=\"Resize\",\n",
    "                    img_scale=[\n",
    "                        (480, 1333),\n",
    "                        (512, 1333),\n",
    "                        (544, 1333),\n",
    "                        (576, 1333),\n",
    "                        (608, 1333),\n",
    "                        (640, 1333),\n",
    "                        (672, 1333),\n",
    "                        (704, 1333),\n",
    "                        (736, 1333),\n",
    "                        (768, 1333),\n",
    "                        (800, 1333),\n",
    "                    ],\n",
    "                    multiscale_mode=\"value\",\n",
    "                    override=True,\n",
    "                    keep_ratio=True,\n",
    "                ),\n",
    "                dict(\n",
    "                    type=\"PhotoMetricDistortion\",\n",
    "                    brightness_delta=32,\n",
    "                    contrast_range=(0.5, 1.5),\n",
    "                    saturation_range=(0.5, 1.5),\n",
    "                    hue_delta=18,\n",
    "                ),\n",
    "                dict(\n",
    "                    type=\"MinIoURandomCrop\",\n",
    "                    min_ious=(0.4, 0.5, 0.6, 0.7, 0.8, 0.9),\n",
    "                    min_crop_size=0.3,\n",
    "                ),\n",
    "                dict(\n",
    "                    type=\"CutOut\",\n",
    "                    n_holes=(5, 10),\n",
    "                    cutout_shape=[\n",
    "                        (4, 4),\n",
    "                        (4, 8),\n",
    "                        (8, 4),\n",
    "                        (8, 8),\n",
    "                        (16, 32),\n",
    "                        (32, 16),\n",
    "                        (32, 32),\n",
    "                        (32, 48),\n",
    "                        (48, 32),\n",
    "                        (48, 48),\n",
    "                    ],\n",
    "                ),\n",
    "            ],\n",
    "        ],\n",
    "    ),\n",
    "    dict(type=\"RandomFlip\", flip_ratio=0.5),\n",
    "    dict(type=\"Normalize\", **img_norm_cfg),\n",
    "    dict(type=\"Pad\", size_divisor=32),\n",
    "    dict(type=\"DefaultFormatBundle\"),\n",
    "    dict(type=\"Collect\", keys=[\"img\", \"gt_bboxes\", \"gt_labels\"]),\n",
    "]\n",
    "\n",
    "test_pipeline = [\n",
    "    dict(type=\"LoadImageFromFile\"),\n",
    "    dict(\n",
    "        type=\"MultiScaleFlipAug\",\n",
    "        img_scale=(1333, 800),\n",
    "        flip=False,\n",
    "        transforms=[\n",
    "            dict(type=\"Resize\", keep_ratio=True),\n",
    "            dict(type=\"RandomFlip\"),\n",
    "            dict(type=\"Normalize\", **img_norm_cfg),\n",
    "            dict(type=\"Pad\", size_divisor=32),\n",
    "            dict(type=\"DefaultFormatBundle\"),\n",
    "            dict(type=\"Collect\", keys=[\"img\"]),\n",
    "        ],\n",
    "    ),\n",
    "]"
   ]
  },
  {
   "cell_type": "code",
   "execution_count": 19,
   "id": "9905aa0f-88cb-49ad-9315-4cedb57c3118",
   "metadata": {},
   "outputs": [],
   "source": [
    "work_dir = f\"/app/_data/for_mmdet/frcnn\"\n",
    "if not os.path.exists(work_dir):\n",
    "    os.makedirs(work_dir)"
   ]
  },
  {
   "cell_type": "code",
   "execution_count": 20,
   "id": "3145c35b-91a9-4e03-bc65-d2962b1d15e0",
   "metadata": {},
   "outputs": [],
   "source": [
    "cfg.classes = \"/app/_data/for_mmdet/labels.txt\"\n",
    "cfg.work_dir =work_dir\n",
    "cfg.data_root = \"/app/_data\"\n",
    "\n",
    "cfg.model.roi_head.bbox_head.num_classes = 1\n",
    "\n",
    "cfg.data.test.type = \"CocoDataset\"\n",
    "cfg.data.test.classes = \"/app/_data/for_mmdet/labels.txt\"\n",
    "cfg.data.test.ann_file = \"/app/_data/for_mmdet/coco_val.json\"\n",
    "cfg.data.test.img_prefix = \"/app/_data/images/\"\n",
    "\n",
    "cfg.data.train.type = \"CocoDataset\"\n",
    "cfg.data.train.ann_file = \"/app/_data/for_mmdet/coco_train.json\"\n",
    "cfg.data.train.img_prefix = \"/app/_data/images\"\n",
    "cfg.data.train.classes = \"/app/_data/for_mmdet/labels.txt\"\n",
    "\n",
    "cfg.data.val.type = \"CocoDataset\"\n",
    "cfg.data.val.ann_file = \"/app/_data/for_mmdet/coco_val.json\"\n",
    "cfg.data.val.img_prefix = \"/app/_data/images\"\n",
    "cfg.data.val.classes = \"/app/_data/for_mmdet/labels.txt\"\n",
    "\n",
    "cfg.data.samples_per_gpu = 4\n",
    "cfg.data.workers_per_gpu = 4\n",
    "\n",
    "cfg.train_pipeline = train_pipeline\n",
    "cfg.val_pipeline = test_pipeline\n",
    "cfg.test_pipeline = test_pipeline\n",
    "\n",
    "cfg.data.train.pipeline = cfg.train_pipeline\n",
    "cfg.data.val.pipeline = cfg.val_pipeline\n",
    "cfg.data.test.pipeline = cfg.test_pipeline\n",
    "\n",
    "# cfg.optimizer.lr = 0.002 / 8\n",
    "# cfg.lr_config = dict(\n",
    "#     policy='CosineAnnealing',\n",
    "#     by_epoch=False,\n",
    "#     warmup='exp',\n",
    "#     warmup_iters= 500,\n",
    "#     warmup_ratio= 1/12,\n",
    "#     min_lr=1e-05)\n",
    "\n",
    "# cfg.runner.max_epochs = 12\n",
    "cfg.evaluation.interval = 1\n",
    "cfg.evaluation.save_best = \"auto\"\n",
    "\n",
    "cfg.seed = SEED\n",
    "cfg.gpu_ids = range(1)\n",
    "\n",
    "cfg.fp16 = dict(loss_scale=dict(init_scale=512.0))\n",
    "\n",
    "cfg.log_config = dict(\n",
    "    interval=200,\n",
    "    hooks=[dict(type=\"TextLoggerHook\"), dict(type=\"TensorboardLoggerHook\")],\n",
    ")\n",
    "\n",
    "meta = dict()\n",
    "meta[\"config\"] = cfg.pretty_text"
   ]
  },
  {
   "cell_type": "code",
   "execution_count": 21,
   "id": "5730a5cf-6390-4006-b1e9-f14305398662",
   "metadata": {},
   "outputs": [
    {
     "name": "stdout",
     "output_type": "stream",
     "text": [
      "loading annotations into memory...\n",
      "Done (t=0.04s)\n",
      "creating index...\n",
      "index created!\n"
     ]
    }
   ],
   "source": [
    "datasets = [build_dataset(cfg.data.train)]"
   ]
  },
  {
   "cell_type": "code",
   "execution_count": 22,
   "id": "3ecfe038-c3c6-4e7f-bf75-9f8e44484d14",
   "metadata": {},
   "outputs": [
    {
     "data": {
      "text/plain": [
       "[\n",
       " CocoDataset Train dataset with number of images 4242, and instance counts: \n",
       " +--------------+-------+----------+-------+----------+-------+----------+-------+----------+-------+\n",
       " | category     | count | category | count | category | count | category | count | category | count |\n",
       " +--------------+-------+----------+-------+----------+-------+----------+-------+----------+-------+\n",
       " |              |       |          |       |          |       |          |       |          |       |\n",
       " | 0 [starfish] | 9449  |          |       |          |       |          |       |          |       |\n",
       " +--------------+-------+----------+-------+----------+-------+----------+-------+----------+-------+]"
      ]
     },
     "execution_count": 22,
     "metadata": {},
     "output_type": "execute_result"
    }
   ],
   "source": [
    "datasets"
   ]
  },
  {
   "cell_type": "code",
   "execution_count": 23,
   "id": "b5c6924d-4fb0-4365-9e27-1aca7e9abaa6",
   "metadata": {},
   "outputs": [],
   "source": [
    "model = build_detector(cfg.model, train_cfg=cfg.get('train_cfg'), test_cfg=cfg.get('test_cfg'))"
   ]
  },
  {
   "cell_type": "code",
   "execution_count": 24,
   "id": "c88653f6-8767-41e0-b420-dfba5dc1a8ab",
   "metadata": {
    "collapsed": true,
    "jupyter": {
     "outputs_hidden": true
    },
    "tags": []
   },
   "outputs": [
    {
     "name": "stderr",
     "output_type": "stream",
     "text": [
      "2022-02-11 12:28:03,410 - mmdet - INFO - load checkpoint from http path: https://github.com/SwinTransformer/storage/releases/download/v1.0.0/swin_small_patch4_window7_224.pth\n",
      "Downloading: \"https://github.com/SwinTransformer/storage/releases/download/v1.0.0/swin_small_patch4_window7_224.pth\" to /root/.cache/torch/hub/checkpoints/swin_small_patch4_window7_224.pth\n"
     ]
    },
    {
     "data": {
      "application/vnd.jupyter.widget-view+json": {
       "model_id": "2b11803712ed47a0867482eb3aff0641",
       "version_major": 2,
       "version_minor": 0
      },
      "text/plain": [
       "  0%|          | 0.00/191M [00:00<?, ?B/s]"
      ]
     },
     "metadata": {},
     "output_type": "display_data"
    },
    {
     "name": "stderr",
     "output_type": "stream",
     "text": [
      "2022-02-11 12:28:07,997 - mmdet - INFO - initialize FPN with init_cfg {'type': 'Xavier', 'layer': 'Conv2d', 'distribution': 'uniform'}\n",
      "2022-02-11 12:28:08,017 - mmdet - INFO - initialize RPNHead with init_cfg {'type': 'Normal', 'layer': 'Conv2d', 'std': 0.01}\n",
      "2022-02-11 12:28:08,023 - mmdet - INFO - initialize Shared2FCBBoxHead with init_cfg [{'type': 'Normal', 'std': 0.01, 'override': {'name': 'fc_cls'}}, {'type': 'Normal', 'std': 0.001, 'override': {'name': 'fc_reg'}}, {'type': 'Xavier', 'distribution': 'uniform', 'override': [{'name': 'shared_fcs'}, {'name': 'cls_fcs'}, {'name': 'reg_fcs'}]}]\n",
      "2022-02-11 12:28:08,138 - mmcv - INFO - \n",
      "backbone.patch_embed.projection.weight - torch.Size([96, 3, 4, 4]): \n",
      "Initialized by user-defined `init_weights` in SwinTransformer  \n",
      " \n",
      "2022-02-11 12:28:08,139 - mmcv - INFO - \n",
      "backbone.patch_embed.projection.bias - torch.Size([96]): \n",
      "Initialized by user-defined `init_weights` in SwinTransformer  \n",
      " \n",
      "2022-02-11 12:28:08,140 - mmcv - INFO - \n",
      "backbone.patch_embed.norm.weight - torch.Size([96]): \n",
      "Initialized by user-defined `init_weights` in SwinTransformer  \n",
      " \n",
      "2022-02-11 12:28:08,141 - mmcv - INFO - \n",
      "backbone.patch_embed.norm.bias - torch.Size([96]): \n",
      "Initialized by user-defined `init_weights` in SwinTransformer  \n",
      " \n",
      "2022-02-11 12:28:08,142 - mmcv - INFO - \n",
      "backbone.stages.0.blocks.0.norm1.weight - torch.Size([96]): \n",
      "Initialized by user-defined `init_weights` in SwinTransformer  \n",
      " \n",
      "2022-02-11 12:28:08,143 - mmcv - INFO - \n",
      "backbone.stages.0.blocks.0.norm1.bias - torch.Size([96]): \n",
      "Initialized by user-defined `init_weights` in SwinTransformer  \n",
      " \n",
      "2022-02-11 12:28:08,144 - mmcv - INFO - \n",
      "backbone.stages.0.blocks.0.attn.w_msa.relative_position_bias_table - torch.Size([169, 3]): \n",
      "Initialized by user-defined `init_weights` in SwinTransformer  \n",
      " \n",
      "2022-02-11 12:28:08,145 - mmcv - INFO - \n",
      "backbone.stages.0.blocks.0.attn.w_msa.qkv.weight - torch.Size([288, 96]): \n",
      "Initialized by user-defined `init_weights` in SwinTransformer  \n",
      " \n",
      "2022-02-11 12:28:08,146 - mmcv - INFO - \n",
      "backbone.stages.0.blocks.0.attn.w_msa.qkv.bias - torch.Size([288]): \n",
      "Initialized by user-defined `init_weights` in SwinTransformer  \n",
      " \n",
      "2022-02-11 12:28:08,147 - mmcv - INFO - \n",
      "backbone.stages.0.blocks.0.attn.w_msa.proj.weight - torch.Size([96, 96]): \n",
      "Initialized by user-defined `init_weights` in SwinTransformer  \n",
      " \n",
      "2022-02-11 12:28:08,148 - mmcv - INFO - \n",
      "backbone.stages.0.blocks.0.attn.w_msa.proj.bias - torch.Size([96]): \n",
      "Initialized by user-defined `init_weights` in SwinTransformer  \n",
      " \n",
      "2022-02-11 12:28:08,149 - mmcv - INFO - \n",
      "backbone.stages.0.blocks.0.norm2.weight - torch.Size([96]): \n",
      "Initialized by user-defined `init_weights` in SwinTransformer  \n",
      " \n",
      "2022-02-11 12:28:08,149 - mmcv - INFO - \n",
      "backbone.stages.0.blocks.0.norm2.bias - torch.Size([96]): \n",
      "Initialized by user-defined `init_weights` in SwinTransformer  \n",
      " \n",
      "2022-02-11 12:28:08,150 - mmcv - INFO - \n",
      "backbone.stages.0.blocks.0.ffn.layers.0.0.weight - torch.Size([384, 96]): \n",
      "Initialized by user-defined `init_weights` in SwinTransformer  \n",
      " \n",
      "2022-02-11 12:28:08,151 - mmcv - INFO - \n",
      "backbone.stages.0.blocks.0.ffn.layers.0.0.bias - torch.Size([384]): \n",
      "Initialized by user-defined `init_weights` in SwinTransformer  \n",
      " \n",
      "2022-02-11 12:28:08,152 - mmcv - INFO - \n",
      "backbone.stages.0.blocks.0.ffn.layers.1.weight - torch.Size([96, 384]): \n",
      "Initialized by user-defined `init_weights` in SwinTransformer  \n",
      " \n",
      "2022-02-11 12:28:08,153 - mmcv - INFO - \n",
      "backbone.stages.0.blocks.0.ffn.layers.1.bias - torch.Size([96]): \n",
      "Initialized by user-defined `init_weights` in SwinTransformer  \n",
      " \n",
      "2022-02-11 12:28:08,153 - mmcv - INFO - \n",
      "backbone.stages.0.blocks.1.norm1.weight - torch.Size([96]): \n",
      "Initialized by user-defined `init_weights` in SwinTransformer  \n",
      " \n",
      "2022-02-11 12:28:08,154 - mmcv - INFO - \n",
      "backbone.stages.0.blocks.1.norm1.bias - torch.Size([96]): \n",
      "Initialized by user-defined `init_weights` in SwinTransformer  \n",
      " \n",
      "2022-02-11 12:28:08,155 - mmcv - INFO - \n",
      "backbone.stages.0.blocks.1.attn.w_msa.relative_position_bias_table - torch.Size([169, 3]): \n",
      "Initialized by user-defined `init_weights` in SwinTransformer  \n",
      " \n",
      "2022-02-11 12:28:08,155 - mmcv - INFO - \n",
      "backbone.stages.0.blocks.1.attn.w_msa.qkv.weight - torch.Size([288, 96]): \n",
      "Initialized by user-defined `init_weights` in SwinTransformer  \n",
      " \n",
      "2022-02-11 12:28:08,156 - mmcv - INFO - \n",
      "backbone.stages.0.blocks.1.attn.w_msa.qkv.bias - torch.Size([288]): \n",
      "Initialized by user-defined `init_weights` in SwinTransformer  \n",
      " \n",
      "2022-02-11 12:28:08,157 - mmcv - INFO - \n",
      "backbone.stages.0.blocks.1.attn.w_msa.proj.weight - torch.Size([96, 96]): \n",
      "Initialized by user-defined `init_weights` in SwinTransformer  \n",
      " \n",
      "2022-02-11 12:28:08,157 - mmcv - INFO - \n",
      "backbone.stages.0.blocks.1.attn.w_msa.proj.bias - torch.Size([96]): \n",
      "Initialized by user-defined `init_weights` in SwinTransformer  \n",
      " \n",
      "2022-02-11 12:28:08,158 - mmcv - INFO - \n",
      "backbone.stages.0.blocks.1.norm2.weight - torch.Size([96]): \n",
      "Initialized by user-defined `init_weights` in SwinTransformer  \n",
      " \n",
      "2022-02-11 12:28:08,158 - mmcv - INFO - \n",
      "backbone.stages.0.blocks.1.norm2.bias - torch.Size([96]): \n",
      "Initialized by user-defined `init_weights` in SwinTransformer  \n",
      " \n",
      "2022-02-11 12:28:08,159 - mmcv - INFO - \n",
      "backbone.stages.0.blocks.1.ffn.layers.0.0.weight - torch.Size([384, 96]): \n",
      "Initialized by user-defined `init_weights` in SwinTransformer  \n",
      " \n",
      "2022-02-11 12:28:08,160 - mmcv - INFO - \n",
      "backbone.stages.0.blocks.1.ffn.layers.0.0.bias - torch.Size([384]): \n",
      "Initialized by user-defined `init_weights` in SwinTransformer  \n",
      " \n",
      "2022-02-11 12:28:08,160 - mmcv - INFO - \n",
      "backbone.stages.0.blocks.1.ffn.layers.1.weight - torch.Size([96, 384]): \n",
      "Initialized by user-defined `init_weights` in SwinTransformer  \n",
      " \n",
      "2022-02-11 12:28:08,161 - mmcv - INFO - \n",
      "backbone.stages.0.blocks.1.ffn.layers.1.bias - torch.Size([96]): \n",
      "Initialized by user-defined `init_weights` in SwinTransformer  \n",
      " \n",
      "2022-02-11 12:28:08,162 - mmcv - INFO - \n",
      "backbone.stages.0.downsample.norm.weight - torch.Size([384]): \n",
      "Initialized by user-defined `init_weights` in SwinTransformer  \n",
      " \n",
      "2022-02-11 12:28:08,162 - mmcv - INFO - \n",
      "backbone.stages.0.downsample.norm.bias - torch.Size([384]): \n",
      "Initialized by user-defined `init_weights` in SwinTransformer  \n",
      " \n",
      "2022-02-11 12:28:08,163 - mmcv - INFO - \n",
      "backbone.stages.0.downsample.reduction.weight - torch.Size([192, 384]): \n",
      "Initialized by user-defined `init_weights` in SwinTransformer  \n",
      " \n",
      "2022-02-11 12:28:08,164 - mmcv - INFO - \n",
      "backbone.stages.1.blocks.0.norm1.weight - torch.Size([192]): \n",
      "Initialized by user-defined `init_weights` in SwinTransformer  \n",
      " \n",
      "2022-02-11 12:28:08,164 - mmcv - INFO - \n",
      "backbone.stages.1.blocks.0.norm1.bias - torch.Size([192]): \n",
      "Initialized by user-defined `init_weights` in SwinTransformer  \n",
      " \n",
      "2022-02-11 12:28:08,165 - mmcv - INFO - \n",
      "backbone.stages.1.blocks.0.attn.w_msa.relative_position_bias_table - torch.Size([169, 6]): \n",
      "Initialized by user-defined `init_weights` in SwinTransformer  \n",
      " \n",
      "2022-02-11 12:28:08,165 - mmcv - INFO - \n",
      "backbone.stages.1.blocks.0.attn.w_msa.qkv.weight - torch.Size([576, 192]): \n",
      "Initialized by user-defined `init_weights` in SwinTransformer  \n",
      " \n",
      "2022-02-11 12:28:08,166 - mmcv - INFO - \n",
      "backbone.stages.1.blocks.0.attn.w_msa.qkv.bias - torch.Size([576]): \n",
      "Initialized by user-defined `init_weights` in SwinTransformer  \n",
      " \n",
      "2022-02-11 12:28:08,167 - mmcv - INFO - \n",
      "backbone.stages.1.blocks.0.attn.w_msa.proj.weight - torch.Size([192, 192]): \n",
      "Initialized by user-defined `init_weights` in SwinTransformer  \n",
      " \n",
      "2022-02-11 12:28:08,167 - mmcv - INFO - \n",
      "backbone.stages.1.blocks.0.attn.w_msa.proj.bias - torch.Size([192]): \n",
      "Initialized by user-defined `init_weights` in SwinTransformer  \n",
      " \n",
      "2022-02-11 12:28:08,168 - mmcv - INFO - \n",
      "backbone.stages.1.blocks.0.norm2.weight - torch.Size([192]): \n",
      "Initialized by user-defined `init_weights` in SwinTransformer  \n",
      " \n",
      "2022-02-11 12:28:08,168 - mmcv - INFO - \n",
      "backbone.stages.1.blocks.0.norm2.bias - torch.Size([192]): \n",
      "Initialized by user-defined `init_weights` in SwinTransformer  \n",
      " \n",
      "2022-02-11 12:28:08,169 - mmcv - INFO - \n",
      "backbone.stages.1.blocks.0.ffn.layers.0.0.weight - torch.Size([768, 192]): \n",
      "Initialized by user-defined `init_weights` in SwinTransformer  \n",
      " \n",
      "2022-02-11 12:28:08,170 - mmcv - INFO - \n",
      "backbone.stages.1.blocks.0.ffn.layers.0.0.bias - torch.Size([768]): \n",
      "Initialized by user-defined `init_weights` in SwinTransformer  \n",
      " \n",
      "2022-02-11 12:28:08,170 - mmcv - INFO - \n",
      "backbone.stages.1.blocks.0.ffn.layers.1.weight - torch.Size([192, 768]): \n",
      "Initialized by user-defined `init_weights` in SwinTransformer  \n",
      " \n",
      "2022-02-11 12:28:08,171 - mmcv - INFO - \n",
      "backbone.stages.1.blocks.0.ffn.layers.1.bias - torch.Size([192]): \n",
      "Initialized by user-defined `init_weights` in SwinTransformer  \n",
      " \n",
      "2022-02-11 12:28:08,172 - mmcv - INFO - \n",
      "backbone.stages.1.blocks.1.norm1.weight - torch.Size([192]): \n",
      "Initialized by user-defined `init_weights` in SwinTransformer  \n",
      " \n",
      "2022-02-11 12:28:08,172 - mmcv - INFO - \n",
      "backbone.stages.1.blocks.1.norm1.bias - torch.Size([192]): \n",
      "Initialized by user-defined `init_weights` in SwinTransformer  \n",
      " \n",
      "2022-02-11 12:28:08,173 - mmcv - INFO - \n",
      "backbone.stages.1.blocks.1.attn.w_msa.relative_position_bias_table - torch.Size([169, 6]): \n",
      "Initialized by user-defined `init_weights` in SwinTransformer  \n",
      " \n",
      "2022-02-11 12:28:08,174 - mmcv - INFO - \n",
      "backbone.stages.1.blocks.1.attn.w_msa.qkv.weight - torch.Size([576, 192]): \n",
      "Initialized by user-defined `init_weights` in SwinTransformer  \n",
      " \n",
      "2022-02-11 12:28:08,174 - mmcv - INFO - \n",
      "backbone.stages.1.blocks.1.attn.w_msa.qkv.bias - torch.Size([576]): \n",
      "Initialized by user-defined `init_weights` in SwinTransformer  \n",
      " \n",
      "2022-02-11 12:28:08,175 - mmcv - INFO - \n",
      "backbone.stages.1.blocks.1.attn.w_msa.proj.weight - torch.Size([192, 192]): \n",
      "Initialized by user-defined `init_weights` in SwinTransformer  \n",
      " \n",
      "2022-02-11 12:28:08,175 - mmcv - INFO - \n",
      "backbone.stages.1.blocks.1.attn.w_msa.proj.bias - torch.Size([192]): \n",
      "Initialized by user-defined `init_weights` in SwinTransformer  \n",
      " \n",
      "2022-02-11 12:28:08,176 - mmcv - INFO - \n",
      "backbone.stages.1.blocks.1.norm2.weight - torch.Size([192]): \n",
      "Initialized by user-defined `init_weights` in SwinTransformer  \n",
      " \n",
      "2022-02-11 12:28:08,177 - mmcv - INFO - \n",
      "backbone.stages.1.blocks.1.norm2.bias - torch.Size([192]): \n",
      "Initialized by user-defined `init_weights` in SwinTransformer  \n",
      " \n",
      "2022-02-11 12:28:08,177 - mmcv - INFO - \n",
      "backbone.stages.1.blocks.1.ffn.layers.0.0.weight - torch.Size([768, 192]): \n",
      "Initialized by user-defined `init_weights` in SwinTransformer  \n",
      " \n",
      "2022-02-11 12:28:08,187 - mmcv - INFO - \n",
      "backbone.stages.1.blocks.1.ffn.layers.0.0.bias - torch.Size([768]): \n",
      "Initialized by user-defined `init_weights` in SwinTransformer  \n",
      " \n",
      "2022-02-11 12:28:08,187 - mmcv - INFO - \n",
      "backbone.stages.1.blocks.1.ffn.layers.1.weight - torch.Size([192, 768]): \n",
      "Initialized by user-defined `init_weights` in SwinTransformer  \n",
      " \n",
      "2022-02-11 12:28:08,188 - mmcv - INFO - \n",
      "backbone.stages.1.blocks.1.ffn.layers.1.bias - torch.Size([192]): \n",
      "Initialized by user-defined `init_weights` in SwinTransformer  \n",
      " \n",
      "2022-02-11 12:28:08,189 - mmcv - INFO - \n",
      "backbone.stages.1.downsample.norm.weight - torch.Size([768]): \n",
      "Initialized by user-defined `init_weights` in SwinTransformer  \n",
      " \n",
      "2022-02-11 12:28:08,189 - mmcv - INFO - \n",
      "backbone.stages.1.downsample.norm.bias - torch.Size([768]): \n",
      "Initialized by user-defined `init_weights` in SwinTransformer  \n",
      " \n",
      "2022-02-11 12:28:08,190 - mmcv - INFO - \n",
      "backbone.stages.1.downsample.reduction.weight - torch.Size([384, 768]): \n",
      "Initialized by user-defined `init_weights` in SwinTransformer  \n",
      " \n",
      "2022-02-11 12:28:08,191 - mmcv - INFO - \n",
      "backbone.stages.2.blocks.0.norm1.weight - torch.Size([384]): \n",
      "Initialized by user-defined `init_weights` in SwinTransformer  \n",
      " \n",
      "2022-02-11 12:28:08,191 - mmcv - INFO - \n",
      "backbone.stages.2.blocks.0.norm1.bias - torch.Size([384]): \n",
      "Initialized by user-defined `init_weights` in SwinTransformer  \n",
      " \n",
      "2022-02-11 12:28:08,192 - mmcv - INFO - \n",
      "backbone.stages.2.blocks.0.attn.w_msa.relative_position_bias_table - torch.Size([169, 12]): \n",
      "Initialized by user-defined `init_weights` in SwinTransformer  \n",
      " \n",
      "2022-02-11 12:28:08,192 - mmcv - INFO - \n",
      "backbone.stages.2.blocks.0.attn.w_msa.qkv.weight - torch.Size([1152, 384]): \n",
      "Initialized by user-defined `init_weights` in SwinTransformer  \n",
      " \n",
      "2022-02-11 12:28:08,193 - mmcv - INFO - \n",
      "backbone.stages.2.blocks.0.attn.w_msa.qkv.bias - torch.Size([1152]): \n",
      "Initialized by user-defined `init_weights` in SwinTransformer  \n",
      " \n",
      "2022-02-11 12:28:08,194 - mmcv - INFO - \n",
      "backbone.stages.2.blocks.0.attn.w_msa.proj.weight - torch.Size([384, 384]): \n",
      "Initialized by user-defined `init_weights` in SwinTransformer  \n",
      " \n",
      "2022-02-11 12:28:08,194 - mmcv - INFO - \n",
      "backbone.stages.2.blocks.0.attn.w_msa.proj.bias - torch.Size([384]): \n",
      "Initialized by user-defined `init_weights` in SwinTransformer  \n",
      " \n",
      "2022-02-11 12:28:08,195 - mmcv - INFO - \n",
      "backbone.stages.2.blocks.0.norm2.weight - torch.Size([384]): \n",
      "Initialized by user-defined `init_weights` in SwinTransformer  \n",
      " \n",
      "2022-02-11 12:28:08,196 - mmcv - INFO - \n",
      "backbone.stages.2.blocks.0.norm2.bias - torch.Size([384]): \n",
      "Initialized by user-defined `init_weights` in SwinTransformer  \n",
      " \n",
      "2022-02-11 12:28:08,196 - mmcv - INFO - \n",
      "backbone.stages.2.blocks.0.ffn.layers.0.0.weight - torch.Size([1536, 384]): \n",
      "Initialized by user-defined `init_weights` in SwinTransformer  \n",
      " \n",
      "2022-02-11 12:28:08,197 - mmcv - INFO - \n",
      "backbone.stages.2.blocks.0.ffn.layers.0.0.bias - torch.Size([1536]): \n",
      "Initialized by user-defined `init_weights` in SwinTransformer  \n",
      " \n",
      "2022-02-11 12:28:08,197 - mmcv - INFO - \n",
      "backbone.stages.2.blocks.0.ffn.layers.1.weight - torch.Size([384, 1536]): \n",
      "Initialized by user-defined `init_weights` in SwinTransformer  \n",
      " \n",
      "2022-02-11 12:28:08,198 - mmcv - INFO - \n",
      "backbone.stages.2.blocks.0.ffn.layers.1.bias - torch.Size([384]): \n",
      "Initialized by user-defined `init_weights` in SwinTransformer  \n",
      " \n",
      "2022-02-11 12:28:08,199 - mmcv - INFO - \n",
      "backbone.stages.2.blocks.1.norm1.weight - torch.Size([384]): \n",
      "Initialized by user-defined `init_weights` in SwinTransformer  \n",
      " \n",
      "2022-02-11 12:28:08,199 - mmcv - INFO - \n",
      "backbone.stages.2.blocks.1.norm1.bias - torch.Size([384]): \n",
      "Initialized by user-defined `init_weights` in SwinTransformer  \n",
      " \n",
      "2022-02-11 12:28:08,200 - mmcv - INFO - \n",
      "backbone.stages.2.blocks.1.attn.w_msa.relative_position_bias_table - torch.Size([169, 12]): \n",
      "Initialized by user-defined `init_weights` in SwinTransformer  \n",
      " \n",
      "2022-02-11 12:28:08,201 - mmcv - INFO - \n",
      "backbone.stages.2.blocks.1.attn.w_msa.qkv.weight - torch.Size([1152, 384]): \n",
      "Initialized by user-defined `init_weights` in SwinTransformer  \n",
      " \n",
      "2022-02-11 12:28:08,201 - mmcv - INFO - \n",
      "backbone.stages.2.blocks.1.attn.w_msa.qkv.bias - torch.Size([1152]): \n",
      "Initialized by user-defined `init_weights` in SwinTransformer  \n",
      " \n",
      "2022-02-11 12:28:08,202 - mmcv - INFO - \n",
      "backbone.stages.2.blocks.1.attn.w_msa.proj.weight - torch.Size([384, 384]): \n",
      "Initialized by user-defined `init_weights` in SwinTransformer  \n",
      " \n",
      "2022-02-11 12:28:08,203 - mmcv - INFO - \n",
      "backbone.stages.2.blocks.1.attn.w_msa.proj.bias - torch.Size([384]): \n",
      "Initialized by user-defined `init_weights` in SwinTransformer  \n",
      " \n",
      "2022-02-11 12:28:08,203 - mmcv - INFO - \n",
      "backbone.stages.2.blocks.1.norm2.weight - torch.Size([384]): \n",
      "Initialized by user-defined `init_weights` in SwinTransformer  \n",
      " \n",
      "2022-02-11 12:28:08,204 - mmcv - INFO - \n",
      "backbone.stages.2.blocks.1.norm2.bias - torch.Size([384]): \n",
      "Initialized by user-defined `init_weights` in SwinTransformer  \n",
      " \n",
      "2022-02-11 12:28:08,204 - mmcv - INFO - \n",
      "backbone.stages.2.blocks.1.ffn.layers.0.0.weight - torch.Size([1536, 384]): \n",
      "Initialized by user-defined `init_weights` in SwinTransformer  \n",
      " \n",
      "2022-02-11 12:28:08,205 - mmcv - INFO - \n",
      "backbone.stages.2.blocks.1.ffn.layers.0.0.bias - torch.Size([1536]): \n",
      "Initialized by user-defined `init_weights` in SwinTransformer  \n",
      " \n",
      "2022-02-11 12:28:08,206 - mmcv - INFO - \n",
      "backbone.stages.2.blocks.1.ffn.layers.1.weight - torch.Size([384, 1536]): \n",
      "Initialized by user-defined `init_weights` in SwinTransformer  \n",
      " \n",
      "2022-02-11 12:28:08,206 - mmcv - INFO - \n",
      "backbone.stages.2.blocks.1.ffn.layers.1.bias - torch.Size([384]): \n",
      "Initialized by user-defined `init_weights` in SwinTransformer  \n",
      " \n",
      "2022-02-11 12:28:08,207 - mmcv - INFO - \n",
      "backbone.stages.2.blocks.2.norm1.weight - torch.Size([384]): \n",
      "Initialized by user-defined `init_weights` in SwinTransformer  \n",
      " \n",
      "2022-02-11 12:28:08,208 - mmcv - INFO - \n",
      "backbone.stages.2.blocks.2.norm1.bias - torch.Size([384]): \n",
      "Initialized by user-defined `init_weights` in SwinTransformer  \n",
      " \n",
      "2022-02-11 12:28:08,214 - mmcv - INFO - \n",
      "backbone.stages.2.blocks.2.attn.w_msa.relative_position_bias_table - torch.Size([169, 12]): \n",
      "Initialized by user-defined `init_weights` in SwinTransformer  \n",
      " \n",
      "2022-02-11 12:28:08,214 - mmcv - INFO - \n",
      "backbone.stages.2.blocks.2.attn.w_msa.qkv.weight - torch.Size([1152, 384]): \n",
      "Initialized by user-defined `init_weights` in SwinTransformer  \n",
      " \n",
      "2022-02-11 12:28:08,215 - mmcv - INFO - \n",
      "backbone.stages.2.blocks.2.attn.w_msa.qkv.bias - torch.Size([1152]): \n",
      "Initialized by user-defined `init_weights` in SwinTransformer  \n",
      " \n",
      "2022-02-11 12:28:08,215 - mmcv - INFO - \n",
      "backbone.stages.2.blocks.2.attn.w_msa.proj.weight - torch.Size([384, 384]): \n",
      "Initialized by user-defined `init_weights` in SwinTransformer  \n",
      " \n",
      "2022-02-11 12:28:08,216 - mmcv - INFO - \n",
      "backbone.stages.2.blocks.2.attn.w_msa.proj.bias - torch.Size([384]): \n",
      "Initialized by user-defined `init_weights` in SwinTransformer  \n",
      " \n",
      "2022-02-11 12:28:08,217 - mmcv - INFO - \n",
      "backbone.stages.2.blocks.2.norm2.weight - torch.Size([384]): \n",
      "Initialized by user-defined `init_weights` in SwinTransformer  \n",
      " \n",
      "2022-02-11 12:28:08,217 - mmcv - INFO - \n",
      "backbone.stages.2.blocks.2.norm2.bias - torch.Size([384]): \n",
      "Initialized by user-defined `init_weights` in SwinTransformer  \n",
      " \n",
      "2022-02-11 12:28:08,218 - mmcv - INFO - \n",
      "backbone.stages.2.blocks.2.ffn.layers.0.0.weight - torch.Size([1536, 384]): \n",
      "Initialized by user-defined `init_weights` in SwinTransformer  \n",
      " \n",
      "2022-02-11 12:28:08,219 - mmcv - INFO - \n",
      "backbone.stages.2.blocks.2.ffn.layers.0.0.bias - torch.Size([1536]): \n",
      "Initialized by user-defined `init_weights` in SwinTransformer  \n",
      " \n",
      "2022-02-11 12:28:08,219 - mmcv - INFO - \n",
      "backbone.stages.2.blocks.2.ffn.layers.1.weight - torch.Size([384, 1536]): \n",
      "Initialized by user-defined `init_weights` in SwinTransformer  \n",
      " \n",
      "2022-02-11 12:28:08,220 - mmcv - INFO - \n",
      "backbone.stages.2.blocks.2.ffn.layers.1.bias - torch.Size([384]): \n",
      "Initialized by user-defined `init_weights` in SwinTransformer  \n",
      " \n",
      "2022-02-11 12:28:08,222 - mmcv - INFO - \n",
      "backbone.stages.2.blocks.3.norm1.weight - torch.Size([384]): \n",
      "Initialized by user-defined `init_weights` in SwinTransformer  \n",
      " \n",
      "2022-02-11 12:28:08,223 - mmcv - INFO - \n",
      "backbone.stages.2.blocks.3.norm1.bias - torch.Size([384]): \n",
      "Initialized by user-defined `init_weights` in SwinTransformer  \n",
      " \n",
      "2022-02-11 12:28:08,224 - mmcv - INFO - \n",
      "backbone.stages.2.blocks.3.attn.w_msa.relative_position_bias_table - torch.Size([169, 12]): \n",
      "Initialized by user-defined `init_weights` in SwinTransformer  \n",
      " \n",
      "2022-02-11 12:28:08,225 - mmcv - INFO - \n",
      "backbone.stages.2.blocks.3.attn.w_msa.qkv.weight - torch.Size([1152, 384]): \n",
      "Initialized by user-defined `init_weights` in SwinTransformer  \n",
      " \n",
      "2022-02-11 12:28:08,225 - mmcv - INFO - \n",
      "backbone.stages.2.blocks.3.attn.w_msa.qkv.bias - torch.Size([1152]): \n",
      "Initialized by user-defined `init_weights` in SwinTransformer  \n",
      " \n",
      "2022-02-11 12:28:08,226 - mmcv - INFO - \n",
      "backbone.stages.2.blocks.3.attn.w_msa.proj.weight - torch.Size([384, 384]): \n",
      "Initialized by user-defined `init_weights` in SwinTransformer  \n",
      " \n",
      "2022-02-11 12:28:08,226 - mmcv - INFO - \n",
      "backbone.stages.2.blocks.3.attn.w_msa.proj.bias - torch.Size([384]): \n",
      "Initialized by user-defined `init_weights` in SwinTransformer  \n",
      " \n",
      "2022-02-11 12:28:08,227 - mmcv - INFO - \n",
      "backbone.stages.2.blocks.3.norm2.weight - torch.Size([384]): \n",
      "Initialized by user-defined `init_weights` in SwinTransformer  \n",
      " \n",
      "2022-02-11 12:28:08,228 - mmcv - INFO - \n",
      "backbone.stages.2.blocks.3.norm2.bias - torch.Size([384]): \n",
      "Initialized by user-defined `init_weights` in SwinTransformer  \n",
      " \n",
      "2022-02-11 12:28:08,228 - mmcv - INFO - \n",
      "backbone.stages.2.blocks.3.ffn.layers.0.0.weight - torch.Size([1536, 384]): \n",
      "Initialized by user-defined `init_weights` in SwinTransformer  \n",
      " \n",
      "2022-02-11 12:28:08,229 - mmcv - INFO - \n",
      "backbone.stages.2.blocks.3.ffn.layers.0.0.bias - torch.Size([1536]): \n",
      "Initialized by user-defined `init_weights` in SwinTransformer  \n",
      " \n",
      "2022-02-11 12:28:08,229 - mmcv - INFO - \n",
      "backbone.stages.2.blocks.3.ffn.layers.1.weight - torch.Size([384, 1536]): \n",
      "Initialized by user-defined `init_weights` in SwinTransformer  \n",
      " \n",
      "2022-02-11 12:28:08,232 - mmcv - INFO - \n",
      "backbone.stages.2.blocks.3.ffn.layers.1.bias - torch.Size([384]): \n",
      "Initialized by user-defined `init_weights` in SwinTransformer  \n",
      " \n",
      "2022-02-11 12:28:08,232 - mmcv - INFO - \n",
      "backbone.stages.2.blocks.4.norm1.weight - torch.Size([384]): \n",
      "Initialized by user-defined `init_weights` in SwinTransformer  \n",
      " \n",
      "2022-02-11 12:28:08,233 - mmcv - INFO - \n",
      "backbone.stages.2.blocks.4.norm1.bias - torch.Size([384]): \n",
      "Initialized by user-defined `init_weights` in SwinTransformer  \n",
      " \n",
      "2022-02-11 12:28:08,234 - mmcv - INFO - \n",
      "backbone.stages.2.blocks.4.attn.w_msa.relative_position_bias_table - torch.Size([169, 12]): \n",
      "Initialized by user-defined `init_weights` in SwinTransformer  \n",
      " \n",
      "2022-02-11 12:28:08,234 - mmcv - INFO - \n",
      "backbone.stages.2.blocks.4.attn.w_msa.qkv.weight - torch.Size([1152, 384]): \n",
      "Initialized by user-defined `init_weights` in SwinTransformer  \n",
      " \n",
      "2022-02-11 12:28:08,235 - mmcv - INFO - \n",
      "backbone.stages.2.blocks.4.attn.w_msa.qkv.bias - torch.Size([1152]): \n",
      "Initialized by user-defined `init_weights` in SwinTransformer  \n",
      " \n",
      "2022-02-11 12:28:08,236 - mmcv - INFO - \n",
      "backbone.stages.2.blocks.4.attn.w_msa.proj.weight - torch.Size([384, 384]): \n",
      "Initialized by user-defined `init_weights` in SwinTransformer  \n",
      " \n",
      "2022-02-11 12:28:08,236 - mmcv - INFO - \n",
      "backbone.stages.2.blocks.4.attn.w_msa.proj.bias - torch.Size([384]): \n",
      "Initialized by user-defined `init_weights` in SwinTransformer  \n",
      " \n",
      "2022-02-11 12:28:08,237 - mmcv - INFO - \n",
      "backbone.stages.2.blocks.4.norm2.weight - torch.Size([384]): \n",
      "Initialized by user-defined `init_weights` in SwinTransformer  \n",
      " \n",
      "2022-02-11 12:28:08,238 - mmcv - INFO - \n",
      "backbone.stages.2.blocks.4.norm2.bias - torch.Size([384]): \n",
      "Initialized by user-defined `init_weights` in SwinTransformer  \n",
      " \n",
      "2022-02-11 12:28:08,238 - mmcv - INFO - \n",
      "backbone.stages.2.blocks.4.ffn.layers.0.0.weight - torch.Size([1536, 384]): \n",
      "Initialized by user-defined `init_weights` in SwinTransformer  \n",
      " \n",
      "2022-02-11 12:28:08,241 - mmcv - INFO - \n",
      "backbone.stages.2.blocks.4.ffn.layers.0.0.bias - torch.Size([1536]): \n",
      "Initialized by user-defined `init_weights` in SwinTransformer  \n",
      " \n",
      "2022-02-11 12:28:08,241 - mmcv - INFO - \n",
      "backbone.stages.2.blocks.4.ffn.layers.1.weight - torch.Size([384, 1536]): \n",
      "Initialized by user-defined `init_weights` in SwinTransformer  \n",
      " \n",
      "2022-02-11 12:28:08,242 - mmcv - INFO - \n",
      "backbone.stages.2.blocks.4.ffn.layers.1.bias - torch.Size([384]): \n",
      "Initialized by user-defined `init_weights` in SwinTransformer  \n",
      " \n",
      "2022-02-11 12:28:08,242 - mmcv - INFO - \n",
      "backbone.stages.2.blocks.5.norm1.weight - torch.Size([384]): \n",
      "Initialized by user-defined `init_weights` in SwinTransformer  \n",
      " \n",
      "2022-02-11 12:28:08,243 - mmcv - INFO - \n",
      "backbone.stages.2.blocks.5.norm1.bias - torch.Size([384]): \n",
      "Initialized by user-defined `init_weights` in SwinTransformer  \n",
      " \n",
      "2022-02-11 12:28:08,244 - mmcv - INFO - \n",
      "backbone.stages.2.blocks.5.attn.w_msa.relative_position_bias_table - torch.Size([169, 12]): \n",
      "Initialized by user-defined `init_weights` in SwinTransformer  \n",
      " \n",
      "2022-02-11 12:28:08,244 - mmcv - INFO - \n",
      "backbone.stages.2.blocks.5.attn.w_msa.qkv.weight - torch.Size([1152, 384]): \n",
      "Initialized by user-defined `init_weights` in SwinTransformer  \n",
      " \n",
      "2022-02-11 12:28:08,245 - mmcv - INFO - \n",
      "backbone.stages.2.blocks.5.attn.w_msa.qkv.bias - torch.Size([1152]): \n",
      "Initialized by user-defined `init_weights` in SwinTransformer  \n",
      " \n",
      "2022-02-11 12:28:08,246 - mmcv - INFO - \n",
      "backbone.stages.2.blocks.5.attn.w_msa.proj.weight - torch.Size([384, 384]): \n",
      "Initialized by user-defined `init_weights` in SwinTransformer  \n",
      " \n",
      "2022-02-11 12:28:08,246 - mmcv - INFO - \n",
      "backbone.stages.2.blocks.5.attn.w_msa.proj.bias - torch.Size([384]): \n",
      "Initialized by user-defined `init_weights` in SwinTransformer  \n",
      " \n",
      "2022-02-11 12:28:08,247 - mmcv - INFO - \n",
      "backbone.stages.2.blocks.5.norm2.weight - torch.Size([384]): \n",
      "Initialized by user-defined `init_weights` in SwinTransformer  \n",
      " \n",
      "2022-02-11 12:28:08,247 - mmcv - INFO - \n",
      "backbone.stages.2.blocks.5.norm2.bias - torch.Size([384]): \n",
      "Initialized by user-defined `init_weights` in SwinTransformer  \n",
      " \n",
      "2022-02-11 12:28:08,248 - mmcv - INFO - \n",
      "backbone.stages.2.blocks.5.ffn.layers.0.0.weight - torch.Size([1536, 384]): \n",
      "Initialized by user-defined `init_weights` in SwinTransformer  \n",
      " \n",
      "2022-02-11 12:28:08,249 - mmcv - INFO - \n",
      "backbone.stages.2.blocks.5.ffn.layers.0.0.bias - torch.Size([1536]): \n",
      "Initialized by user-defined `init_weights` in SwinTransformer  \n",
      " \n",
      "2022-02-11 12:28:08,249 - mmcv - INFO - \n",
      "backbone.stages.2.blocks.5.ffn.layers.1.weight - torch.Size([384, 1536]): \n",
      "Initialized by user-defined `init_weights` in SwinTransformer  \n",
      " \n",
      "2022-02-11 12:28:08,250 - mmcv - INFO - \n",
      "backbone.stages.2.blocks.5.ffn.layers.1.bias - torch.Size([384]): \n",
      "Initialized by user-defined `init_weights` in SwinTransformer  \n",
      " \n",
      "2022-02-11 12:28:08,251 - mmcv - INFO - \n",
      "backbone.stages.2.blocks.6.norm1.weight - torch.Size([384]): \n",
      "Initialized by user-defined `init_weights` in SwinTransformer  \n",
      " \n",
      "2022-02-11 12:28:08,252 - mmcv - INFO - \n",
      "backbone.stages.2.blocks.6.norm1.bias - torch.Size([384]): \n",
      "Initialized by user-defined `init_weights` in SwinTransformer  \n",
      " \n",
      "2022-02-11 12:28:08,252 - mmcv - INFO - \n",
      "backbone.stages.2.blocks.6.attn.w_msa.relative_position_bias_table - torch.Size([169, 12]): \n",
      "Initialized by user-defined `init_weights` in SwinTransformer  \n",
      " \n",
      "2022-02-11 12:28:08,253 - mmcv - INFO - \n",
      "backbone.stages.2.blocks.6.attn.w_msa.qkv.weight - torch.Size([1152, 384]): \n",
      "Initialized by user-defined `init_weights` in SwinTransformer  \n",
      " \n",
      "2022-02-11 12:28:08,254 - mmcv - INFO - \n",
      "backbone.stages.2.blocks.6.attn.w_msa.qkv.bias - torch.Size([1152]): \n",
      "Initialized by user-defined `init_weights` in SwinTransformer  \n",
      " \n",
      "2022-02-11 12:28:08,255 - mmcv - INFO - \n",
      "backbone.stages.2.blocks.6.attn.w_msa.proj.weight - torch.Size([384, 384]): \n",
      "Initialized by user-defined `init_weights` in SwinTransformer  \n",
      " \n",
      "2022-02-11 12:28:08,256 - mmcv - INFO - \n",
      "backbone.stages.2.blocks.6.attn.w_msa.proj.bias - torch.Size([384]): \n",
      "Initialized by user-defined `init_weights` in SwinTransformer  \n",
      " \n",
      "2022-02-11 12:28:08,257 - mmcv - INFO - \n",
      "backbone.stages.2.blocks.6.norm2.weight - torch.Size([384]): \n",
      "Initialized by user-defined `init_weights` in SwinTransformer  \n",
      " \n",
      "2022-02-11 12:28:08,257 - mmcv - INFO - \n",
      "backbone.stages.2.blocks.6.norm2.bias - torch.Size([384]): \n",
      "Initialized by user-defined `init_weights` in SwinTransformer  \n",
      " \n",
      "2022-02-11 12:28:08,258 - mmcv - INFO - \n",
      "backbone.stages.2.blocks.6.ffn.layers.0.0.weight - torch.Size([1536, 384]): \n",
      "Initialized by user-defined `init_weights` in SwinTransformer  \n",
      " \n",
      "2022-02-11 12:28:08,258 - mmcv - INFO - \n",
      "backbone.stages.2.blocks.6.ffn.layers.0.0.bias - torch.Size([1536]): \n",
      "Initialized by user-defined `init_weights` in SwinTransformer  \n",
      " \n",
      "2022-02-11 12:28:08,259 - mmcv - INFO - \n",
      "backbone.stages.2.blocks.6.ffn.layers.1.weight - torch.Size([384, 1536]): \n",
      "Initialized by user-defined `init_weights` in SwinTransformer  \n",
      " \n",
      "2022-02-11 12:28:08,260 - mmcv - INFO - \n",
      "backbone.stages.2.blocks.6.ffn.layers.1.bias - torch.Size([384]): \n",
      "Initialized by user-defined `init_weights` in SwinTransformer  \n",
      " \n",
      "2022-02-11 12:28:08,260 - mmcv - INFO - \n",
      "backbone.stages.2.blocks.7.norm1.weight - torch.Size([384]): \n",
      "Initialized by user-defined `init_weights` in SwinTransformer  \n",
      " \n",
      "2022-02-11 12:28:08,261 - mmcv - INFO - \n",
      "backbone.stages.2.blocks.7.norm1.bias - torch.Size([384]): \n",
      "Initialized by user-defined `init_weights` in SwinTransformer  \n",
      " \n",
      "2022-02-11 12:28:08,261 - mmcv - INFO - \n",
      "backbone.stages.2.blocks.7.attn.w_msa.relative_position_bias_table - torch.Size([169, 12]): \n",
      "Initialized by user-defined `init_weights` in SwinTransformer  \n",
      " \n",
      "2022-02-11 12:28:08,262 - mmcv - INFO - \n",
      "backbone.stages.2.blocks.7.attn.w_msa.qkv.weight - torch.Size([1152, 384]): \n",
      "Initialized by user-defined `init_weights` in SwinTransformer  \n",
      " \n",
      "2022-02-11 12:28:08,263 - mmcv - INFO - \n",
      "backbone.stages.2.blocks.7.attn.w_msa.qkv.bias - torch.Size([1152]): \n",
      "Initialized by user-defined `init_weights` in SwinTransformer  \n",
      " \n",
      "2022-02-11 12:28:08,263 - mmcv - INFO - \n",
      "backbone.stages.2.blocks.7.attn.w_msa.proj.weight - torch.Size([384, 384]): \n",
      "Initialized by user-defined `init_weights` in SwinTransformer  \n",
      " \n",
      "2022-02-11 12:28:08,264 - mmcv - INFO - \n",
      "backbone.stages.2.blocks.7.attn.w_msa.proj.bias - torch.Size([384]): \n",
      "Initialized by user-defined `init_weights` in SwinTransformer  \n",
      " \n",
      "2022-02-11 12:28:08,264 - mmcv - INFO - \n",
      "backbone.stages.2.blocks.7.norm2.weight - torch.Size([384]): \n",
      "Initialized by user-defined `init_weights` in SwinTransformer  \n",
      " \n",
      "2022-02-11 12:28:08,265 - mmcv - INFO - \n",
      "backbone.stages.2.blocks.7.norm2.bias - torch.Size([384]): \n",
      "Initialized by user-defined `init_weights` in SwinTransformer  \n",
      " \n",
      "2022-02-11 12:28:08,265 - mmcv - INFO - \n",
      "backbone.stages.2.blocks.7.ffn.layers.0.0.weight - torch.Size([1536, 384]): \n",
      "Initialized by user-defined `init_weights` in SwinTransformer  \n",
      " \n",
      "2022-02-11 12:28:08,266 - mmcv - INFO - \n",
      "backbone.stages.2.blocks.7.ffn.layers.0.0.bias - torch.Size([1536]): \n",
      "Initialized by user-defined `init_weights` in SwinTransformer  \n",
      " \n",
      "2022-02-11 12:28:08,267 - mmcv - INFO - \n",
      "backbone.stages.2.blocks.7.ffn.layers.1.weight - torch.Size([384, 1536]): \n",
      "Initialized by user-defined `init_weights` in SwinTransformer  \n",
      " \n",
      "2022-02-11 12:28:08,267 - mmcv - INFO - \n",
      "backbone.stages.2.blocks.7.ffn.layers.1.bias - torch.Size([384]): \n",
      "Initialized by user-defined `init_weights` in SwinTransformer  \n",
      " \n",
      "2022-02-11 12:28:08,268 - mmcv - INFO - \n",
      "backbone.stages.2.blocks.8.norm1.weight - torch.Size([384]): \n",
      "Initialized by user-defined `init_weights` in SwinTransformer  \n",
      " \n",
      "2022-02-11 12:28:08,268 - mmcv - INFO - \n",
      "backbone.stages.2.blocks.8.norm1.bias - torch.Size([384]): \n",
      "Initialized by user-defined `init_weights` in SwinTransformer  \n",
      " \n",
      "2022-02-11 12:28:08,269 - mmcv - INFO - \n",
      "backbone.stages.2.blocks.8.attn.w_msa.relative_position_bias_table - torch.Size([169, 12]): \n",
      "Initialized by user-defined `init_weights` in SwinTransformer  \n",
      " \n",
      "2022-02-11 12:28:08,270 - mmcv - INFO - \n",
      "backbone.stages.2.blocks.8.attn.w_msa.qkv.weight - torch.Size([1152, 384]): \n",
      "Initialized by user-defined `init_weights` in SwinTransformer  \n",
      " \n",
      "2022-02-11 12:28:08,270 - mmcv - INFO - \n",
      "backbone.stages.2.blocks.8.attn.w_msa.qkv.bias - torch.Size([1152]): \n",
      "Initialized by user-defined `init_weights` in SwinTransformer  \n",
      " \n",
      "2022-02-11 12:28:08,271 - mmcv - INFO - \n",
      "backbone.stages.2.blocks.8.attn.w_msa.proj.weight - torch.Size([384, 384]): \n",
      "Initialized by user-defined `init_weights` in SwinTransformer  \n",
      " \n",
      "2022-02-11 12:28:08,271 - mmcv - INFO - \n",
      "backbone.stages.2.blocks.8.attn.w_msa.proj.bias - torch.Size([384]): \n",
      "Initialized by user-defined `init_weights` in SwinTransformer  \n",
      " \n",
      "2022-02-11 12:28:08,272 - mmcv - INFO - \n",
      "backbone.stages.2.blocks.8.norm2.weight - torch.Size([384]): \n",
      "Initialized by user-defined `init_weights` in SwinTransformer  \n",
      " \n",
      "2022-02-11 12:28:08,272 - mmcv - INFO - \n",
      "backbone.stages.2.blocks.8.norm2.bias - torch.Size([384]): \n",
      "Initialized by user-defined `init_weights` in SwinTransformer  \n",
      " \n",
      "2022-02-11 12:28:08,273 - mmcv - INFO - \n",
      "backbone.stages.2.blocks.8.ffn.layers.0.0.weight - torch.Size([1536, 384]): \n",
      "Initialized by user-defined `init_weights` in SwinTransformer  \n",
      " \n",
      "2022-02-11 12:28:08,274 - mmcv - INFO - \n",
      "backbone.stages.2.blocks.8.ffn.layers.0.0.bias - torch.Size([1536]): \n",
      "Initialized by user-defined `init_weights` in SwinTransformer  \n",
      " \n",
      "2022-02-11 12:28:08,274 - mmcv - INFO - \n",
      "backbone.stages.2.blocks.8.ffn.layers.1.weight - torch.Size([384, 1536]): \n",
      "Initialized by user-defined `init_weights` in SwinTransformer  \n",
      " \n",
      "2022-02-11 12:28:08,275 - mmcv - INFO - \n",
      "backbone.stages.2.blocks.8.ffn.layers.1.bias - torch.Size([384]): \n",
      "Initialized by user-defined `init_weights` in SwinTransformer  \n",
      " \n",
      "2022-02-11 12:28:08,275 - mmcv - INFO - \n",
      "backbone.stages.2.blocks.9.norm1.weight - torch.Size([384]): \n",
      "Initialized by user-defined `init_weights` in SwinTransformer  \n",
      " \n",
      "2022-02-11 12:28:08,276 - mmcv - INFO - \n",
      "backbone.stages.2.blocks.9.norm1.bias - torch.Size([384]): \n",
      "Initialized by user-defined `init_weights` in SwinTransformer  \n",
      " \n",
      "2022-02-11 12:28:08,277 - mmcv - INFO - \n",
      "backbone.stages.2.blocks.9.attn.w_msa.relative_position_bias_table - torch.Size([169, 12]): \n",
      "Initialized by user-defined `init_weights` in SwinTransformer  \n",
      " \n",
      "2022-02-11 12:28:08,277 - mmcv - INFO - \n",
      "backbone.stages.2.blocks.9.attn.w_msa.qkv.weight - torch.Size([1152, 384]): \n",
      "Initialized by user-defined `init_weights` in SwinTransformer  \n",
      " \n",
      "2022-02-11 12:28:08,278 - mmcv - INFO - \n",
      "backbone.stages.2.blocks.9.attn.w_msa.qkv.bias - torch.Size([1152]): \n",
      "Initialized by user-defined `init_weights` in SwinTransformer  \n",
      " \n",
      "2022-02-11 12:28:08,278 - mmcv - INFO - \n",
      "backbone.stages.2.blocks.9.attn.w_msa.proj.weight - torch.Size([384, 384]): \n",
      "Initialized by user-defined `init_weights` in SwinTransformer  \n",
      " \n",
      "2022-02-11 12:28:08,279 - mmcv - INFO - \n",
      "backbone.stages.2.blocks.9.attn.w_msa.proj.bias - torch.Size([384]): \n",
      "Initialized by user-defined `init_weights` in SwinTransformer  \n",
      " \n",
      "2022-02-11 12:28:08,279 - mmcv - INFO - \n",
      "backbone.stages.2.blocks.9.norm2.weight - torch.Size([384]): \n",
      "Initialized by user-defined `init_weights` in SwinTransformer  \n",
      " \n",
      "2022-02-11 12:28:08,280 - mmcv - INFO - \n",
      "backbone.stages.2.blocks.9.norm2.bias - torch.Size([384]): \n",
      "Initialized by user-defined `init_weights` in SwinTransformer  \n",
      " \n",
      "2022-02-11 12:28:08,281 - mmcv - INFO - \n",
      "backbone.stages.2.blocks.9.ffn.layers.0.0.weight - torch.Size([1536, 384]): \n",
      "Initialized by user-defined `init_weights` in SwinTransformer  \n",
      " \n",
      "2022-02-11 12:28:08,281 - mmcv - INFO - \n",
      "backbone.stages.2.blocks.9.ffn.layers.0.0.bias - torch.Size([1536]): \n",
      "Initialized by user-defined `init_weights` in SwinTransformer  \n",
      " \n",
      "2022-02-11 12:28:08,282 - mmcv - INFO - \n",
      "backbone.stages.2.blocks.9.ffn.layers.1.weight - torch.Size([384, 1536]): \n",
      "Initialized by user-defined `init_weights` in SwinTransformer  \n",
      " \n",
      "2022-02-11 12:28:08,282 - mmcv - INFO - \n",
      "backbone.stages.2.blocks.9.ffn.layers.1.bias - torch.Size([384]): \n",
      "Initialized by user-defined `init_weights` in SwinTransformer  \n",
      " \n",
      "2022-02-11 12:28:08,283 - mmcv - INFO - \n",
      "backbone.stages.2.blocks.10.norm1.weight - torch.Size([384]): \n",
      "Initialized by user-defined `init_weights` in SwinTransformer  \n",
      " \n",
      "2022-02-11 12:28:08,283 - mmcv - INFO - \n",
      "backbone.stages.2.blocks.10.norm1.bias - torch.Size([384]): \n",
      "Initialized by user-defined `init_weights` in SwinTransformer  \n",
      " \n",
      "2022-02-11 12:28:08,284 - mmcv - INFO - \n",
      "backbone.stages.2.blocks.10.attn.w_msa.relative_position_bias_table - torch.Size([169, 12]): \n",
      "Initialized by user-defined `init_weights` in SwinTransformer  \n",
      " \n",
      "2022-02-11 12:28:08,285 - mmcv - INFO - \n",
      "backbone.stages.2.blocks.10.attn.w_msa.qkv.weight - torch.Size([1152, 384]): \n",
      "Initialized by user-defined `init_weights` in SwinTransformer  \n",
      " \n",
      "2022-02-11 12:28:08,285 - mmcv - INFO - \n",
      "backbone.stages.2.blocks.10.attn.w_msa.qkv.bias - torch.Size([1152]): \n",
      "Initialized by user-defined `init_weights` in SwinTransformer  \n",
      " \n",
      "2022-02-11 12:28:08,286 - mmcv - INFO - \n",
      "backbone.stages.2.blocks.10.attn.w_msa.proj.weight - torch.Size([384, 384]): \n",
      "Initialized by user-defined `init_weights` in SwinTransformer  \n",
      " \n",
      "2022-02-11 12:28:08,286 - mmcv - INFO - \n",
      "backbone.stages.2.blocks.10.attn.w_msa.proj.bias - torch.Size([384]): \n",
      "Initialized by user-defined `init_weights` in SwinTransformer  \n",
      " \n",
      "2022-02-11 12:28:08,287 - mmcv - INFO - \n",
      "backbone.stages.2.blocks.10.norm2.weight - torch.Size([384]): \n",
      "Initialized by user-defined `init_weights` in SwinTransformer  \n",
      " \n",
      "2022-02-11 12:28:08,288 - mmcv - INFO - \n",
      "backbone.stages.2.blocks.10.norm2.bias - torch.Size([384]): \n",
      "Initialized by user-defined `init_weights` in SwinTransformer  \n",
      " \n",
      "2022-02-11 12:28:08,288 - mmcv - INFO - \n",
      "backbone.stages.2.blocks.10.ffn.layers.0.0.weight - torch.Size([1536, 384]): \n",
      "Initialized by user-defined `init_weights` in SwinTransformer  \n",
      " \n",
      "2022-02-11 12:28:08,289 - mmcv - INFO - \n",
      "backbone.stages.2.blocks.10.ffn.layers.0.0.bias - torch.Size([1536]): \n",
      "Initialized by user-defined `init_weights` in SwinTransformer  \n",
      " \n",
      "2022-02-11 12:28:08,289 - mmcv - INFO - \n",
      "backbone.stages.2.blocks.10.ffn.layers.1.weight - torch.Size([384, 1536]): \n",
      "Initialized by user-defined `init_weights` in SwinTransformer  \n",
      " \n",
      "2022-02-11 12:28:08,290 - mmcv - INFO - \n",
      "backbone.stages.2.blocks.10.ffn.layers.1.bias - torch.Size([384]): \n",
      "Initialized by user-defined `init_weights` in SwinTransformer  \n",
      " \n",
      "2022-02-11 12:28:08,290 - mmcv - INFO - \n",
      "backbone.stages.2.blocks.11.norm1.weight - torch.Size([384]): \n",
      "Initialized by user-defined `init_weights` in SwinTransformer  \n",
      " \n",
      "2022-02-11 12:28:08,291 - mmcv - INFO - \n",
      "backbone.stages.2.blocks.11.norm1.bias - torch.Size([384]): \n",
      "Initialized by user-defined `init_weights` in SwinTransformer  \n",
      " \n",
      "2022-02-11 12:28:08,292 - mmcv - INFO - \n",
      "backbone.stages.2.blocks.11.attn.w_msa.relative_position_bias_table - torch.Size([169, 12]): \n",
      "Initialized by user-defined `init_weights` in SwinTransformer  \n",
      " \n",
      "2022-02-11 12:28:08,292 - mmcv - INFO - \n",
      "backbone.stages.2.blocks.11.attn.w_msa.qkv.weight - torch.Size([1152, 384]): \n",
      "Initialized by user-defined `init_weights` in SwinTransformer  \n",
      " \n",
      "2022-02-11 12:28:08,293 - mmcv - INFO - \n",
      "backbone.stages.2.blocks.11.attn.w_msa.qkv.bias - torch.Size([1152]): \n",
      "Initialized by user-defined `init_weights` in SwinTransformer  \n",
      " \n",
      "2022-02-11 12:28:08,293 - mmcv - INFO - \n",
      "backbone.stages.2.blocks.11.attn.w_msa.proj.weight - torch.Size([384, 384]): \n",
      "Initialized by user-defined `init_weights` in SwinTransformer  \n",
      " \n",
      "2022-02-11 12:28:08,294 - mmcv - INFO - \n",
      "backbone.stages.2.blocks.11.attn.w_msa.proj.bias - torch.Size([384]): \n",
      "Initialized by user-defined `init_weights` in SwinTransformer  \n",
      " \n",
      "2022-02-11 12:28:08,294 - mmcv - INFO - \n",
      "backbone.stages.2.blocks.11.norm2.weight - torch.Size([384]): \n",
      "Initialized by user-defined `init_weights` in SwinTransformer  \n",
      " \n",
      "2022-02-11 12:28:08,295 - mmcv - INFO - \n",
      "backbone.stages.2.blocks.11.norm2.bias - torch.Size([384]): \n",
      "Initialized by user-defined `init_weights` in SwinTransformer  \n",
      " \n",
      "2022-02-11 12:28:08,296 - mmcv - INFO - \n",
      "backbone.stages.2.blocks.11.ffn.layers.0.0.weight - torch.Size([1536, 384]): \n",
      "Initialized by user-defined `init_weights` in SwinTransformer  \n",
      " \n",
      "2022-02-11 12:28:08,296 - mmcv - INFO - \n",
      "backbone.stages.2.blocks.11.ffn.layers.0.0.bias - torch.Size([1536]): \n",
      "Initialized by user-defined `init_weights` in SwinTransformer  \n",
      " \n",
      "2022-02-11 12:28:08,297 - mmcv - INFO - \n",
      "backbone.stages.2.blocks.11.ffn.layers.1.weight - torch.Size([384, 1536]): \n",
      "Initialized by user-defined `init_weights` in SwinTransformer  \n",
      " \n",
      "2022-02-11 12:28:08,297 - mmcv - INFO - \n",
      "backbone.stages.2.blocks.11.ffn.layers.1.bias - torch.Size([384]): \n",
      "Initialized by user-defined `init_weights` in SwinTransformer  \n",
      " \n",
      "2022-02-11 12:28:08,298 - mmcv - INFO - \n",
      "backbone.stages.2.blocks.12.norm1.weight - torch.Size([384]): \n",
      "Initialized by user-defined `init_weights` in SwinTransformer  \n",
      " \n",
      "2022-02-11 12:28:08,298 - mmcv - INFO - \n",
      "backbone.stages.2.blocks.12.norm1.bias - torch.Size([384]): \n",
      "Initialized by user-defined `init_weights` in SwinTransformer  \n",
      " \n",
      "2022-02-11 12:28:08,299 - mmcv - INFO - \n",
      "backbone.stages.2.blocks.12.attn.w_msa.relative_position_bias_table - torch.Size([169, 12]): \n",
      "Initialized by user-defined `init_weights` in SwinTransformer  \n",
      " \n",
      "2022-02-11 12:28:08,300 - mmcv - INFO - \n",
      "backbone.stages.2.blocks.12.attn.w_msa.qkv.weight - torch.Size([1152, 384]): \n",
      "Initialized by user-defined `init_weights` in SwinTransformer  \n",
      " \n",
      "2022-02-11 12:28:08,300 - mmcv - INFO - \n",
      "backbone.stages.2.blocks.12.attn.w_msa.qkv.bias - torch.Size([1152]): \n",
      "Initialized by user-defined `init_weights` in SwinTransformer  \n",
      " \n",
      "2022-02-11 12:28:08,301 - mmcv - INFO - \n",
      "backbone.stages.2.blocks.12.attn.w_msa.proj.weight - torch.Size([384, 384]): \n",
      "Initialized by user-defined `init_weights` in SwinTransformer  \n",
      " \n",
      "2022-02-11 12:28:08,301 - mmcv - INFO - \n",
      "backbone.stages.2.blocks.12.attn.w_msa.proj.bias - torch.Size([384]): \n",
      "Initialized by user-defined `init_weights` in SwinTransformer  \n",
      " \n",
      "2022-02-11 12:28:08,302 - mmcv - INFO - \n",
      "backbone.stages.2.blocks.12.norm2.weight - torch.Size([384]): \n",
      "Initialized by user-defined `init_weights` in SwinTransformer  \n",
      " \n",
      "2022-02-11 12:28:08,302 - mmcv - INFO - \n",
      "backbone.stages.2.blocks.12.norm2.bias - torch.Size([384]): \n",
      "Initialized by user-defined `init_weights` in SwinTransformer  \n",
      " \n",
      "2022-02-11 12:28:08,303 - mmcv - INFO - \n",
      "backbone.stages.2.blocks.12.ffn.layers.0.0.weight - torch.Size([1536, 384]): \n",
      "Initialized by user-defined `init_weights` in SwinTransformer  \n",
      " \n",
      "2022-02-11 12:28:08,304 - mmcv - INFO - \n",
      "backbone.stages.2.blocks.12.ffn.layers.0.0.bias - torch.Size([1536]): \n",
      "Initialized by user-defined `init_weights` in SwinTransformer  \n",
      " \n",
      "2022-02-11 12:28:08,304 - mmcv - INFO - \n",
      "backbone.stages.2.blocks.12.ffn.layers.1.weight - torch.Size([384, 1536]): \n",
      "Initialized by user-defined `init_weights` in SwinTransformer  \n",
      " \n",
      "2022-02-11 12:28:08,305 - mmcv - INFO - \n",
      "backbone.stages.2.blocks.12.ffn.layers.1.bias - torch.Size([384]): \n",
      "Initialized by user-defined `init_weights` in SwinTransformer  \n",
      " \n",
      "2022-02-11 12:28:08,305 - mmcv - INFO - \n",
      "backbone.stages.2.blocks.13.norm1.weight - torch.Size([384]): \n",
      "Initialized by user-defined `init_weights` in SwinTransformer  \n",
      " \n",
      "2022-02-11 12:28:08,306 - mmcv - INFO - \n",
      "backbone.stages.2.blocks.13.norm1.bias - torch.Size([384]): \n",
      "Initialized by user-defined `init_weights` in SwinTransformer  \n",
      " \n",
      "2022-02-11 12:28:08,306 - mmcv - INFO - \n",
      "backbone.stages.2.blocks.13.attn.w_msa.relative_position_bias_table - torch.Size([169, 12]): \n",
      "Initialized by user-defined `init_weights` in SwinTransformer  \n",
      " \n",
      "2022-02-11 12:28:08,307 - mmcv - INFO - \n",
      "backbone.stages.2.blocks.13.attn.w_msa.qkv.weight - torch.Size([1152, 384]): \n",
      "Initialized by user-defined `init_weights` in SwinTransformer  \n",
      " \n",
      "2022-02-11 12:28:08,308 - mmcv - INFO - \n",
      "backbone.stages.2.blocks.13.attn.w_msa.qkv.bias - torch.Size([1152]): \n",
      "Initialized by user-defined `init_weights` in SwinTransformer  \n",
      " \n",
      "2022-02-11 12:28:08,308 - mmcv - INFO - \n",
      "backbone.stages.2.blocks.13.attn.w_msa.proj.weight - torch.Size([384, 384]): \n",
      "Initialized by user-defined `init_weights` in SwinTransformer  \n",
      " \n",
      "2022-02-11 12:28:08,309 - mmcv - INFO - \n",
      "backbone.stages.2.blocks.13.attn.w_msa.proj.bias - torch.Size([384]): \n",
      "Initialized by user-defined `init_weights` in SwinTransformer  \n",
      " \n",
      "2022-02-11 12:28:08,309 - mmcv - INFO - \n",
      "backbone.stages.2.blocks.13.norm2.weight - torch.Size([384]): \n",
      "Initialized by user-defined `init_weights` in SwinTransformer  \n",
      " \n",
      "2022-02-11 12:28:08,310 - mmcv - INFO - \n",
      "backbone.stages.2.blocks.13.norm2.bias - torch.Size([384]): \n",
      "Initialized by user-defined `init_weights` in SwinTransformer  \n",
      " \n",
      "2022-02-11 12:28:08,311 - mmcv - INFO - \n",
      "backbone.stages.2.blocks.13.ffn.layers.0.0.weight - torch.Size([1536, 384]): \n",
      "Initialized by user-defined `init_weights` in SwinTransformer  \n",
      " \n",
      "2022-02-11 12:28:08,311 - mmcv - INFO - \n",
      "backbone.stages.2.blocks.13.ffn.layers.0.0.bias - torch.Size([1536]): \n",
      "Initialized by user-defined `init_weights` in SwinTransformer  \n",
      " \n",
      "2022-02-11 12:28:08,312 - mmcv - INFO - \n",
      "backbone.stages.2.blocks.13.ffn.layers.1.weight - torch.Size([384, 1536]): \n",
      "Initialized by user-defined `init_weights` in SwinTransformer  \n",
      " \n",
      "2022-02-11 12:28:08,312 - mmcv - INFO - \n",
      "backbone.stages.2.blocks.13.ffn.layers.1.bias - torch.Size([384]): \n",
      "Initialized by user-defined `init_weights` in SwinTransformer  \n",
      " \n",
      "2022-02-11 12:28:08,313 - mmcv - INFO - \n",
      "backbone.stages.2.blocks.14.norm1.weight - torch.Size([384]): \n",
      "Initialized by user-defined `init_weights` in SwinTransformer  \n",
      " \n",
      "2022-02-11 12:28:08,313 - mmcv - INFO - \n",
      "backbone.stages.2.blocks.14.norm1.bias - torch.Size([384]): \n",
      "Initialized by user-defined `init_weights` in SwinTransformer  \n",
      " \n",
      "2022-02-11 12:28:08,314 - mmcv - INFO - \n",
      "backbone.stages.2.blocks.14.attn.w_msa.relative_position_bias_table - torch.Size([169, 12]): \n",
      "Initialized by user-defined `init_weights` in SwinTransformer  \n",
      " \n",
      "2022-02-11 12:28:08,315 - mmcv - INFO - \n",
      "backbone.stages.2.blocks.14.attn.w_msa.qkv.weight - torch.Size([1152, 384]): \n",
      "Initialized by user-defined `init_weights` in SwinTransformer  \n",
      " \n",
      "2022-02-11 12:28:08,315 - mmcv - INFO - \n",
      "backbone.stages.2.blocks.14.attn.w_msa.qkv.bias - torch.Size([1152]): \n",
      "Initialized by user-defined `init_weights` in SwinTransformer  \n",
      " \n",
      "2022-02-11 12:28:08,316 - mmcv - INFO - \n",
      "backbone.stages.2.blocks.14.attn.w_msa.proj.weight - torch.Size([384, 384]): \n",
      "Initialized by user-defined `init_weights` in SwinTransformer  \n",
      " \n",
      "2022-02-11 12:28:08,316 - mmcv - INFO - \n",
      "backbone.stages.2.blocks.14.attn.w_msa.proj.bias - torch.Size([384]): \n",
      "Initialized by user-defined `init_weights` in SwinTransformer  \n",
      " \n",
      "2022-02-11 12:28:08,317 - mmcv - INFO - \n",
      "backbone.stages.2.blocks.14.norm2.weight - torch.Size([384]): \n",
      "Initialized by user-defined `init_weights` in SwinTransformer  \n",
      " \n",
      "2022-02-11 12:28:08,318 - mmcv - INFO - \n",
      "backbone.stages.2.blocks.14.norm2.bias - torch.Size([384]): \n",
      "Initialized by user-defined `init_weights` in SwinTransformer  \n",
      " \n",
      "2022-02-11 12:28:08,318 - mmcv - INFO - \n",
      "backbone.stages.2.blocks.14.ffn.layers.0.0.weight - torch.Size([1536, 384]): \n",
      "Initialized by user-defined `init_weights` in SwinTransformer  \n",
      " \n",
      "2022-02-11 12:28:08,319 - mmcv - INFO - \n",
      "backbone.stages.2.blocks.14.ffn.layers.0.0.bias - torch.Size([1536]): \n",
      "Initialized by user-defined `init_weights` in SwinTransformer  \n",
      " \n",
      "2022-02-11 12:28:08,319 - mmcv - INFO - \n",
      "backbone.stages.2.blocks.14.ffn.layers.1.weight - torch.Size([384, 1536]): \n",
      "Initialized by user-defined `init_weights` in SwinTransformer  \n",
      " \n",
      "2022-02-11 12:28:08,320 - mmcv - INFO - \n",
      "backbone.stages.2.blocks.14.ffn.layers.1.bias - torch.Size([384]): \n",
      "Initialized by user-defined `init_weights` in SwinTransformer  \n",
      " \n",
      "2022-02-11 12:28:08,321 - mmcv - INFO - \n",
      "backbone.stages.2.blocks.15.norm1.weight - torch.Size([384]): \n",
      "Initialized by user-defined `init_weights` in SwinTransformer  \n",
      " \n",
      "2022-02-11 12:28:08,321 - mmcv - INFO - \n",
      "backbone.stages.2.blocks.15.norm1.bias - torch.Size([384]): \n",
      "Initialized by user-defined `init_weights` in SwinTransformer  \n",
      " \n",
      "2022-02-11 12:28:08,322 - mmcv - INFO - \n",
      "backbone.stages.2.blocks.15.attn.w_msa.relative_position_bias_table - torch.Size([169, 12]): \n",
      "Initialized by user-defined `init_weights` in SwinTransformer  \n",
      " \n",
      "2022-02-11 12:28:08,322 - mmcv - INFO - \n",
      "backbone.stages.2.blocks.15.attn.w_msa.qkv.weight - torch.Size([1152, 384]): \n",
      "Initialized by user-defined `init_weights` in SwinTransformer  \n",
      " \n",
      "2022-02-11 12:28:08,323 - mmcv - INFO - \n",
      "backbone.stages.2.blocks.15.attn.w_msa.qkv.bias - torch.Size([1152]): \n",
      "Initialized by user-defined `init_weights` in SwinTransformer  \n",
      " \n",
      "2022-02-11 12:28:08,324 - mmcv - INFO - \n",
      "backbone.stages.2.blocks.15.attn.w_msa.proj.weight - torch.Size([384, 384]): \n",
      "Initialized by user-defined `init_weights` in SwinTransformer  \n",
      " \n",
      "2022-02-11 12:28:08,324 - mmcv - INFO - \n",
      "backbone.stages.2.blocks.15.attn.w_msa.proj.bias - torch.Size([384]): \n",
      "Initialized by user-defined `init_weights` in SwinTransformer  \n",
      " \n",
      "2022-02-11 12:28:08,325 - mmcv - INFO - \n",
      "backbone.stages.2.blocks.15.norm2.weight - torch.Size([384]): \n",
      "Initialized by user-defined `init_weights` in SwinTransformer  \n",
      " \n",
      "2022-02-11 12:28:08,325 - mmcv - INFO - \n",
      "backbone.stages.2.blocks.15.norm2.bias - torch.Size([384]): \n",
      "Initialized by user-defined `init_weights` in SwinTransformer  \n",
      " \n",
      "2022-02-11 12:28:08,326 - mmcv - INFO - \n",
      "backbone.stages.2.blocks.15.ffn.layers.0.0.weight - torch.Size([1536, 384]): \n",
      "Initialized by user-defined `init_weights` in SwinTransformer  \n",
      " \n",
      "2022-02-11 12:28:08,326 - mmcv - INFO - \n",
      "backbone.stages.2.blocks.15.ffn.layers.0.0.bias - torch.Size([1536]): \n",
      "Initialized by user-defined `init_weights` in SwinTransformer  \n",
      " \n",
      "2022-02-11 12:28:08,327 - mmcv - INFO - \n",
      "backbone.stages.2.blocks.15.ffn.layers.1.weight - torch.Size([384, 1536]): \n",
      "Initialized by user-defined `init_weights` in SwinTransformer  \n",
      " \n",
      "2022-02-11 12:28:08,328 - mmcv - INFO - \n",
      "backbone.stages.2.blocks.15.ffn.layers.1.bias - torch.Size([384]): \n",
      "Initialized by user-defined `init_weights` in SwinTransformer  \n",
      " \n",
      "2022-02-11 12:28:08,328 - mmcv - INFO - \n",
      "backbone.stages.2.blocks.16.norm1.weight - torch.Size([384]): \n",
      "Initialized by user-defined `init_weights` in SwinTransformer  \n",
      " \n",
      "2022-02-11 12:28:08,329 - mmcv - INFO - \n",
      "backbone.stages.2.blocks.16.norm1.bias - torch.Size([384]): \n",
      "Initialized by user-defined `init_weights` in SwinTransformer  \n",
      " \n",
      "2022-02-11 12:28:08,329 - mmcv - INFO - \n",
      "backbone.stages.2.blocks.16.attn.w_msa.relative_position_bias_table - torch.Size([169, 12]): \n",
      "Initialized by user-defined `init_weights` in SwinTransformer  \n",
      " \n",
      "2022-02-11 12:28:08,330 - mmcv - INFO - \n",
      "backbone.stages.2.blocks.16.attn.w_msa.qkv.weight - torch.Size([1152, 384]): \n",
      "Initialized by user-defined `init_weights` in SwinTransformer  \n",
      " \n",
      "2022-02-11 12:28:08,331 - mmcv - INFO - \n",
      "backbone.stages.2.blocks.16.attn.w_msa.qkv.bias - torch.Size([1152]): \n",
      "Initialized by user-defined `init_weights` in SwinTransformer  \n",
      " \n",
      "2022-02-11 12:28:08,331 - mmcv - INFO - \n",
      "backbone.stages.2.blocks.16.attn.w_msa.proj.weight - torch.Size([384, 384]): \n",
      "Initialized by user-defined `init_weights` in SwinTransformer  \n",
      " \n",
      "2022-02-11 12:28:08,332 - mmcv - INFO - \n",
      "backbone.stages.2.blocks.16.attn.w_msa.proj.bias - torch.Size([384]): \n",
      "Initialized by user-defined `init_weights` in SwinTransformer  \n",
      " \n",
      "2022-02-11 12:28:08,332 - mmcv - INFO - \n",
      "backbone.stages.2.blocks.16.norm2.weight - torch.Size([384]): \n",
      "Initialized by user-defined `init_weights` in SwinTransformer  \n",
      " \n",
      "2022-02-11 12:28:08,333 - mmcv - INFO - \n",
      "backbone.stages.2.blocks.16.norm2.bias - torch.Size([384]): \n",
      "Initialized by user-defined `init_weights` in SwinTransformer  \n",
      " \n",
      "2022-02-11 12:28:08,333 - mmcv - INFO - \n",
      "backbone.stages.2.blocks.16.ffn.layers.0.0.weight - torch.Size([1536, 384]): \n",
      "Initialized by user-defined `init_weights` in SwinTransformer  \n",
      " \n",
      "2022-02-11 12:28:08,334 - mmcv - INFO - \n",
      "backbone.stages.2.blocks.16.ffn.layers.0.0.bias - torch.Size([1536]): \n",
      "Initialized by user-defined `init_weights` in SwinTransformer  \n",
      " \n",
      "2022-02-11 12:28:08,335 - mmcv - INFO - \n",
      "backbone.stages.2.blocks.16.ffn.layers.1.weight - torch.Size([384, 1536]): \n",
      "Initialized by user-defined `init_weights` in SwinTransformer  \n",
      " \n",
      "2022-02-11 12:28:08,335 - mmcv - INFO - \n",
      "backbone.stages.2.blocks.16.ffn.layers.1.bias - torch.Size([384]): \n",
      "Initialized by user-defined `init_weights` in SwinTransformer  \n",
      " \n",
      "2022-02-11 12:28:08,336 - mmcv - INFO - \n",
      "backbone.stages.2.blocks.17.norm1.weight - torch.Size([384]): \n",
      "Initialized by user-defined `init_weights` in SwinTransformer  \n",
      " \n",
      "2022-02-11 12:28:08,336 - mmcv - INFO - \n",
      "backbone.stages.2.blocks.17.norm1.bias - torch.Size([384]): \n",
      "Initialized by user-defined `init_weights` in SwinTransformer  \n",
      " \n",
      "2022-02-11 12:28:08,337 - mmcv - INFO - \n",
      "backbone.stages.2.blocks.17.attn.w_msa.relative_position_bias_table - torch.Size([169, 12]): \n",
      "Initialized by user-defined `init_weights` in SwinTransformer  \n",
      " \n",
      "2022-02-11 12:28:08,337 - mmcv - INFO - \n",
      "backbone.stages.2.blocks.17.attn.w_msa.qkv.weight - torch.Size([1152, 384]): \n",
      "Initialized by user-defined `init_weights` in SwinTransformer  \n",
      " \n",
      "2022-02-11 12:28:08,338 - mmcv - INFO - \n",
      "backbone.stages.2.blocks.17.attn.w_msa.qkv.bias - torch.Size([1152]): \n",
      "Initialized by user-defined `init_weights` in SwinTransformer  \n",
      " \n",
      "2022-02-11 12:28:08,339 - mmcv - INFO - \n",
      "backbone.stages.2.blocks.17.attn.w_msa.proj.weight - torch.Size([384, 384]): \n",
      "Initialized by user-defined `init_weights` in SwinTransformer  \n",
      " \n",
      "2022-02-11 12:28:08,339 - mmcv - INFO - \n",
      "backbone.stages.2.blocks.17.attn.w_msa.proj.bias - torch.Size([384]): \n",
      "Initialized by user-defined `init_weights` in SwinTransformer  \n",
      " \n",
      "2022-02-11 12:28:08,340 - mmcv - INFO - \n",
      "backbone.stages.2.blocks.17.norm2.weight - torch.Size([384]): \n",
      "Initialized by user-defined `init_weights` in SwinTransformer  \n",
      " \n",
      "2022-02-11 12:28:08,340 - mmcv - INFO - \n",
      "backbone.stages.2.blocks.17.norm2.bias - torch.Size([384]): \n",
      "Initialized by user-defined `init_weights` in SwinTransformer  \n",
      " \n",
      "2022-02-11 12:28:08,341 - mmcv - INFO - \n",
      "backbone.stages.2.blocks.17.ffn.layers.0.0.weight - torch.Size([1536, 384]): \n",
      "Initialized by user-defined `init_weights` in SwinTransformer  \n",
      " \n",
      "2022-02-11 12:28:08,342 - mmcv - INFO - \n",
      "backbone.stages.2.blocks.17.ffn.layers.0.0.bias - torch.Size([1536]): \n",
      "Initialized by user-defined `init_weights` in SwinTransformer  \n",
      " \n",
      "2022-02-11 12:28:08,342 - mmcv - INFO - \n",
      "backbone.stages.2.blocks.17.ffn.layers.1.weight - torch.Size([384, 1536]): \n",
      "Initialized by user-defined `init_weights` in SwinTransformer  \n",
      " \n",
      "2022-02-11 12:28:08,343 - mmcv - INFO - \n",
      "backbone.stages.2.blocks.17.ffn.layers.1.bias - torch.Size([384]): \n",
      "Initialized by user-defined `init_weights` in SwinTransformer  \n",
      " \n",
      "2022-02-11 12:28:08,343 - mmcv - INFO - \n",
      "backbone.stages.2.downsample.norm.weight - torch.Size([1536]): \n",
      "Initialized by user-defined `init_weights` in SwinTransformer  \n",
      " \n",
      "2022-02-11 12:28:08,344 - mmcv - INFO - \n",
      "backbone.stages.2.downsample.norm.bias - torch.Size([1536]): \n",
      "Initialized by user-defined `init_weights` in SwinTransformer  \n",
      " \n",
      "2022-02-11 12:28:08,344 - mmcv - INFO - \n",
      "backbone.stages.2.downsample.reduction.weight - torch.Size([768, 1536]): \n",
      "Initialized by user-defined `init_weights` in SwinTransformer  \n",
      " \n",
      "2022-02-11 12:28:08,345 - mmcv - INFO - \n",
      "backbone.stages.3.blocks.0.norm1.weight - torch.Size([768]): \n",
      "Initialized by user-defined `init_weights` in SwinTransformer  \n",
      " \n",
      "2022-02-11 12:28:08,346 - mmcv - INFO - \n",
      "backbone.stages.3.blocks.0.norm1.bias - torch.Size([768]): \n",
      "Initialized by user-defined `init_weights` in SwinTransformer  \n",
      " \n",
      "2022-02-11 12:28:08,346 - mmcv - INFO - \n",
      "backbone.stages.3.blocks.0.attn.w_msa.relative_position_bias_table - torch.Size([169, 24]): \n",
      "Initialized by user-defined `init_weights` in SwinTransformer  \n",
      " \n",
      "2022-02-11 12:28:08,347 - mmcv - INFO - \n",
      "backbone.stages.3.blocks.0.attn.w_msa.qkv.weight - torch.Size([2304, 768]): \n",
      "Initialized by user-defined `init_weights` in SwinTransformer  \n",
      " \n",
      "2022-02-11 12:28:08,347 - mmcv - INFO - \n",
      "backbone.stages.3.blocks.0.attn.w_msa.qkv.bias - torch.Size([2304]): \n",
      "Initialized by user-defined `init_weights` in SwinTransformer  \n",
      " \n",
      "2022-02-11 12:28:08,348 - mmcv - INFO - \n",
      "backbone.stages.3.blocks.0.attn.w_msa.proj.weight - torch.Size([768, 768]): \n",
      "Initialized by user-defined `init_weights` in SwinTransformer  \n",
      " \n",
      "2022-02-11 12:28:08,349 - mmcv - INFO - \n",
      "backbone.stages.3.blocks.0.attn.w_msa.proj.bias - torch.Size([768]): \n",
      "Initialized by user-defined `init_weights` in SwinTransformer  \n",
      " \n",
      "2022-02-11 12:28:08,349 - mmcv - INFO - \n",
      "backbone.stages.3.blocks.0.norm2.weight - torch.Size([768]): \n",
      "Initialized by user-defined `init_weights` in SwinTransformer  \n",
      " \n",
      "2022-02-11 12:28:08,350 - mmcv - INFO - \n",
      "backbone.stages.3.blocks.0.norm2.bias - torch.Size([768]): \n",
      "Initialized by user-defined `init_weights` in SwinTransformer  \n",
      " \n",
      "2022-02-11 12:28:08,350 - mmcv - INFO - \n",
      "backbone.stages.3.blocks.0.ffn.layers.0.0.weight - torch.Size([3072, 768]): \n",
      "Initialized by user-defined `init_weights` in SwinTransformer  \n",
      " \n",
      "2022-02-11 12:28:08,351 - mmcv - INFO - \n",
      "backbone.stages.3.blocks.0.ffn.layers.0.0.bias - torch.Size([3072]): \n",
      "Initialized by user-defined `init_weights` in SwinTransformer  \n",
      " \n",
      "2022-02-11 12:28:08,352 - mmcv - INFO - \n",
      "backbone.stages.3.blocks.0.ffn.layers.1.weight - torch.Size([768, 3072]): \n",
      "Initialized by user-defined `init_weights` in SwinTransformer  \n",
      " \n",
      "2022-02-11 12:28:08,352 - mmcv - INFO - \n",
      "backbone.stages.3.blocks.0.ffn.layers.1.bias - torch.Size([768]): \n",
      "Initialized by user-defined `init_weights` in SwinTransformer  \n",
      " \n",
      "2022-02-11 12:28:08,353 - mmcv - INFO - \n",
      "backbone.stages.3.blocks.1.norm1.weight - torch.Size([768]): \n",
      "Initialized by user-defined `init_weights` in SwinTransformer  \n",
      " \n",
      "2022-02-11 12:28:08,353 - mmcv - INFO - \n",
      "backbone.stages.3.blocks.1.norm1.bias - torch.Size([768]): \n",
      "Initialized by user-defined `init_weights` in SwinTransformer  \n",
      " \n",
      "2022-02-11 12:28:08,354 - mmcv - INFO - \n",
      "backbone.stages.3.blocks.1.attn.w_msa.relative_position_bias_table - torch.Size([169, 24]): \n",
      "Initialized by user-defined `init_weights` in SwinTransformer  \n",
      " \n",
      "2022-02-11 12:28:08,354 - mmcv - INFO - \n",
      "backbone.stages.3.blocks.1.attn.w_msa.qkv.weight - torch.Size([2304, 768]): \n",
      "Initialized by user-defined `init_weights` in SwinTransformer  \n",
      " \n",
      "2022-02-11 12:28:08,355 - mmcv - INFO - \n",
      "backbone.stages.3.blocks.1.attn.w_msa.qkv.bias - torch.Size([2304]): \n",
      "Initialized by user-defined `init_weights` in SwinTransformer  \n",
      " \n",
      "2022-02-11 12:28:08,356 - mmcv - INFO - \n",
      "backbone.stages.3.blocks.1.attn.w_msa.proj.weight - torch.Size([768, 768]): \n",
      "Initialized by user-defined `init_weights` in SwinTransformer  \n",
      " \n",
      "2022-02-11 12:28:08,356 - mmcv - INFO - \n",
      "backbone.stages.3.blocks.1.attn.w_msa.proj.bias - torch.Size([768]): \n",
      "Initialized by user-defined `init_weights` in SwinTransformer  \n",
      " \n",
      "2022-02-11 12:28:08,357 - mmcv - INFO - \n",
      "backbone.stages.3.blocks.1.norm2.weight - torch.Size([768]): \n",
      "Initialized by user-defined `init_weights` in SwinTransformer  \n",
      " \n",
      "2022-02-11 12:28:08,357 - mmcv - INFO - \n",
      "backbone.stages.3.blocks.1.norm2.bias - torch.Size([768]): \n",
      "Initialized by user-defined `init_weights` in SwinTransformer  \n",
      " \n",
      "2022-02-11 12:28:08,358 - mmcv - INFO - \n",
      "backbone.stages.3.blocks.1.ffn.layers.0.0.weight - torch.Size([3072, 768]): \n",
      "Initialized by user-defined `init_weights` in SwinTransformer  \n",
      " \n",
      "2022-02-11 12:28:08,359 - mmcv - INFO - \n",
      "backbone.stages.3.blocks.1.ffn.layers.0.0.bias - torch.Size([3072]): \n",
      "Initialized by user-defined `init_weights` in SwinTransformer  \n",
      " \n",
      "2022-02-11 12:28:08,359 - mmcv - INFO - \n",
      "backbone.stages.3.blocks.1.ffn.layers.1.weight - torch.Size([768, 3072]): \n",
      "Initialized by user-defined `init_weights` in SwinTransformer  \n",
      " \n",
      "2022-02-11 12:28:08,360 - mmcv - INFO - \n",
      "backbone.stages.3.blocks.1.ffn.layers.1.bias - torch.Size([768]): \n",
      "Initialized by user-defined `init_weights` in SwinTransformer  \n",
      " \n",
      "2022-02-11 12:28:08,360 - mmcv - INFO - \n",
      "backbone.norm0.weight - torch.Size([96]): \n",
      "The value is the same before and after calling `init_weights` of FasterRCNN  \n",
      " \n",
      "2022-02-11 12:28:08,361 - mmcv - INFO - \n",
      "backbone.norm0.bias - torch.Size([96]): \n",
      "The value is the same before and after calling `init_weights` of FasterRCNN  \n",
      " \n",
      "2022-02-11 12:28:08,362 - mmcv - INFO - \n",
      "backbone.norm1.weight - torch.Size([192]): \n",
      "The value is the same before and after calling `init_weights` of FasterRCNN  \n",
      " \n",
      "2022-02-11 12:28:08,362 - mmcv - INFO - \n",
      "backbone.norm1.bias - torch.Size([192]): \n",
      "The value is the same before and after calling `init_weights` of FasterRCNN  \n",
      " \n",
      "2022-02-11 12:28:08,363 - mmcv - INFO - \n",
      "backbone.norm2.weight - torch.Size([384]): \n",
      "The value is the same before and after calling `init_weights` of FasterRCNN  \n",
      " \n",
      "2022-02-11 12:28:08,363 - mmcv - INFO - \n",
      "backbone.norm2.bias - torch.Size([384]): \n",
      "The value is the same before and after calling `init_weights` of FasterRCNN  \n",
      " \n",
      "2022-02-11 12:28:08,364 - mmcv - INFO - \n",
      "backbone.norm3.weight - torch.Size([768]): \n",
      "The value is the same before and after calling `init_weights` of FasterRCNN  \n",
      " \n",
      "2022-02-11 12:28:08,364 - mmcv - INFO - \n",
      "backbone.norm3.bias - torch.Size([768]): \n",
      "The value is the same before and after calling `init_weights` of FasterRCNN  \n",
      " \n",
      "2022-02-11 12:28:08,365 - mmcv - INFO - \n",
      "neck.lateral_convs.0.conv.weight - torch.Size([256, 96, 1, 1]): \n",
      "XavierInit: gain=1, distribution=uniform, bias=0 \n",
      " \n",
      "2022-02-11 12:28:08,366 - mmcv - INFO - \n",
      "neck.lateral_convs.0.conv.bias - torch.Size([256]): \n",
      "The value is the same before and after calling `init_weights` of FasterRCNN  \n",
      " \n",
      "2022-02-11 12:28:08,366 - mmcv - INFO - \n",
      "neck.lateral_convs.1.conv.weight - torch.Size([256, 192, 1, 1]): \n",
      "XavierInit: gain=1, distribution=uniform, bias=0 \n",
      " \n",
      "2022-02-11 12:28:08,367 - mmcv - INFO - \n",
      "neck.lateral_convs.1.conv.bias - torch.Size([256]): \n",
      "The value is the same before and after calling `init_weights` of FasterRCNN  \n",
      " \n",
      "2022-02-11 12:28:08,367 - mmcv - INFO - \n",
      "neck.lateral_convs.2.conv.weight - torch.Size([256, 384, 1, 1]): \n",
      "XavierInit: gain=1, distribution=uniform, bias=0 \n",
      " \n",
      "2022-02-11 12:28:08,368 - mmcv - INFO - \n",
      "neck.lateral_convs.2.conv.bias - torch.Size([256]): \n",
      "The value is the same before and after calling `init_weights` of FasterRCNN  \n",
      " \n",
      "2022-02-11 12:28:08,368 - mmcv - INFO - \n",
      "neck.lateral_convs.3.conv.weight - torch.Size([256, 768, 1, 1]): \n",
      "XavierInit: gain=1, distribution=uniform, bias=0 \n",
      " \n",
      "2022-02-11 12:28:08,369 - mmcv - INFO - \n",
      "neck.lateral_convs.3.conv.bias - torch.Size([256]): \n",
      "The value is the same before and after calling `init_weights` of FasterRCNN  \n",
      " \n",
      "2022-02-11 12:28:08,370 - mmcv - INFO - \n",
      "neck.fpn_convs.0.conv.weight - torch.Size([256, 256, 3, 3]): \n",
      "XavierInit: gain=1, distribution=uniform, bias=0 \n",
      " \n",
      "2022-02-11 12:28:08,370 - mmcv - INFO - \n",
      "neck.fpn_convs.0.conv.bias - torch.Size([256]): \n",
      "The value is the same before and after calling `init_weights` of FasterRCNN  \n",
      " \n",
      "2022-02-11 12:28:08,371 - mmcv - INFO - \n",
      "neck.fpn_convs.1.conv.weight - torch.Size([256, 256, 3, 3]): \n",
      "XavierInit: gain=1, distribution=uniform, bias=0 \n",
      " \n",
      "2022-02-11 12:28:08,371 - mmcv - INFO - \n",
      "neck.fpn_convs.1.conv.bias - torch.Size([256]): \n",
      "The value is the same before and after calling `init_weights` of FasterRCNN  \n",
      " \n",
      "2022-02-11 12:28:08,372 - mmcv - INFO - \n",
      "neck.fpn_convs.2.conv.weight - torch.Size([256, 256, 3, 3]): \n",
      "XavierInit: gain=1, distribution=uniform, bias=0 \n",
      " \n",
      "2022-02-11 12:28:08,373 - mmcv - INFO - \n",
      "neck.fpn_convs.2.conv.bias - torch.Size([256]): \n",
      "The value is the same before and after calling `init_weights` of FasterRCNN  \n",
      " \n",
      "2022-02-11 12:28:08,373 - mmcv - INFO - \n",
      "neck.fpn_convs.3.conv.weight - torch.Size([256, 256, 3, 3]): \n",
      "XavierInit: gain=1, distribution=uniform, bias=0 \n",
      " \n",
      "2022-02-11 12:28:08,374 - mmcv - INFO - \n",
      "neck.fpn_convs.3.conv.bias - torch.Size([256]): \n",
      "The value is the same before and after calling `init_weights` of FasterRCNN  \n",
      " \n",
      "2022-02-11 12:28:08,374 - mmcv - INFO - \n",
      "rpn_head.rpn_conv.weight - torch.Size([256, 256, 3, 3]): \n",
      "NormalInit: mean=0, std=0.01, bias=0 \n",
      " \n",
      "2022-02-11 12:28:08,375 - mmcv - INFO - \n",
      "rpn_head.rpn_conv.bias - torch.Size([256]): \n",
      "NormalInit: mean=0, std=0.01, bias=0 \n",
      " \n",
      "2022-02-11 12:28:08,376 - mmcv - INFO - \n",
      "rpn_head.rpn_cls.weight - torch.Size([3, 256, 1, 1]): \n",
      "NormalInit: mean=0, std=0.01, bias=0 \n",
      " \n",
      "2022-02-11 12:28:08,376 - mmcv - INFO - \n",
      "rpn_head.rpn_cls.bias - torch.Size([3]): \n",
      "NormalInit: mean=0, std=0.01, bias=0 \n",
      " \n",
      "2022-02-11 12:28:08,377 - mmcv - INFO - \n",
      "rpn_head.rpn_reg.weight - torch.Size([12, 256, 1, 1]): \n",
      "NormalInit: mean=0, std=0.01, bias=0 \n",
      " \n",
      "2022-02-11 12:28:08,377 - mmcv - INFO - \n",
      "rpn_head.rpn_reg.bias - torch.Size([12]): \n",
      "NormalInit: mean=0, std=0.01, bias=0 \n",
      " \n",
      "2022-02-11 12:28:08,378 - mmcv - INFO - \n",
      "roi_head.bbox_head.fc_cls.weight - torch.Size([2, 1024]): \n",
      "NormalInit: mean=0, std=0.01, bias=0 \n",
      " \n",
      "2022-02-11 12:28:08,379 - mmcv - INFO - \n",
      "roi_head.bbox_head.fc_cls.bias - torch.Size([2]): \n",
      "NormalInit: mean=0, std=0.01, bias=0 \n",
      " \n",
      "2022-02-11 12:28:08,379 - mmcv - INFO - \n",
      "roi_head.bbox_head.fc_reg.weight - torch.Size([4, 1024]): \n",
      "NormalInit: mean=0, std=0.001, bias=0 \n",
      " \n",
      "2022-02-11 12:28:08,380 - mmcv - INFO - \n",
      "roi_head.bbox_head.fc_reg.bias - torch.Size([4]): \n",
      "NormalInit: mean=0, std=0.001, bias=0 \n",
      " \n",
      "2022-02-11 12:28:08,380 - mmcv - INFO - \n",
      "roi_head.bbox_head.shared_fcs.0.weight - torch.Size([1024, 12544]): \n",
      "XavierInit: gain=1, distribution=uniform, bias=0 \n",
      " \n",
      "2022-02-11 12:28:08,381 - mmcv - INFO - \n",
      "roi_head.bbox_head.shared_fcs.0.bias - torch.Size([1024]): \n",
      "XavierInit: gain=1, distribution=uniform, bias=0 \n",
      " \n",
      "2022-02-11 12:28:08,381 - mmcv - INFO - \n",
      "roi_head.bbox_head.shared_fcs.1.weight - torch.Size([1024, 1024]): \n",
      "XavierInit: gain=1, distribution=uniform, bias=0 \n",
      " \n",
      "2022-02-11 12:28:08,382 - mmcv - INFO - \n",
      "roi_head.bbox_head.shared_fcs.1.bias - torch.Size([1024]): \n",
      "XavierInit: gain=1, distribution=uniform, bias=0 \n",
      " \n"
     ]
    }
   ],
   "source": [
    "model.init_weights()"
   ]
  },
  {
   "cell_type": "code",
   "execution_count": 25,
   "id": "2cf128ad-a28e-4850-85a1-8c9ab6333585",
   "metadata": {},
   "outputs": [],
   "source": [
    "model.CLASSES = datasets[0].CLASSES"
   ]
  },
  {
   "cell_type": "code",
   "execution_count": 26,
   "id": "170a25cd-ab9a-41f8-a211-1b13b04d8d0d",
   "metadata": {},
   "outputs": [],
   "source": [
    "mmcv.mkdir_or_exist(os.path.abspath(cfg.work_dir))"
   ]
  },
  {
   "cell_type": "code",
   "execution_count": 27,
   "id": "141b5e4d-fe31-4d55-9cf1-b3439071a205",
   "metadata": {
    "tags": []
   },
   "outputs": [
    {
     "name": "stderr",
     "output_type": "stream",
     "text": [
      "2022-02-11 12:28:26,111 - mmdet - INFO - Start running, host: root@13ada95134ff, work_dir: /app/_data/for_mmdet/frcnn\n",
      "2022-02-11 12:28:26,112 - mmdet - INFO - Hooks will be executed in the following order:\n",
      "before_run:\n",
      "(VERY_HIGH   ) StepLrUpdaterHook                  \n",
      "(ABOVE_NORMAL) Fp16OptimizerHook                  \n",
      "(NORMAL      ) CheckpointHook                     \n",
      "(LOW         ) EvalHook                           \n",
      "(VERY_LOW    ) TextLoggerHook                     \n",
      "(VERY_LOW    ) TensorboardLoggerHook              \n",
      " -------------------- \n",
      "before_train_epoch:\n",
      "(VERY_HIGH   ) StepLrUpdaterHook                  \n",
      "(NORMAL      ) NumClassCheckHook                  \n",
      "(LOW         ) IterTimerHook                      \n",
      "(LOW         ) EvalHook                           \n",
      "(VERY_LOW    ) TextLoggerHook                     \n",
      "(VERY_LOW    ) TensorboardLoggerHook              \n",
      " -------------------- \n",
      "before_train_iter:\n",
      "(VERY_HIGH   ) StepLrUpdaterHook                  \n",
      "(LOW         ) IterTimerHook                      \n",
      "(LOW         ) EvalHook                           \n",
      " -------------------- \n",
      "after_train_iter:\n",
      "(ABOVE_NORMAL) Fp16OptimizerHook                  \n",
      "(NORMAL      ) CheckpointHook                     \n",
      "(LOW         ) IterTimerHook                      \n",
      "(LOW         ) EvalHook                           \n",
      "(VERY_LOW    ) TextLoggerHook                     \n",
      "(VERY_LOW    ) TensorboardLoggerHook              \n",
      " -------------------- \n",
      "after_train_epoch:\n",
      "(NORMAL      ) CheckpointHook                     \n",
      "(LOW         ) EvalHook                           \n",
      "(VERY_LOW    ) TextLoggerHook                     \n",
      "(VERY_LOW    ) TensorboardLoggerHook              \n",
      " -------------------- \n",
      "before_val_epoch:\n",
      "(NORMAL      ) NumClassCheckHook                  \n",
      "(LOW         ) IterTimerHook                      \n",
      "(VERY_LOW    ) TextLoggerHook                     \n",
      "(VERY_LOW    ) TensorboardLoggerHook              \n",
      " -------------------- \n",
      "before_val_iter:\n",
      "(LOW         ) IterTimerHook                      \n",
      " -------------------- \n",
      "after_val_iter:\n",
      "(LOW         ) IterTimerHook                      \n",
      " -------------------- \n",
      "after_val_epoch:\n",
      "(VERY_LOW    ) TextLoggerHook                     \n",
      "(VERY_LOW    ) TensorboardLoggerHook              \n",
      " -------------------- \n",
      "after_run:\n",
      "(VERY_LOW    ) TextLoggerHook                     \n",
      "(VERY_LOW    ) TensorboardLoggerHook              \n",
      " -------------------- \n",
      "2022-02-11 12:28:26,113 - mmdet - INFO - workflow: [('train', 1)], max: 50 epochs\n",
      "2022-02-11 12:28:26,117 - mmdet - INFO - Checkpoints will be saved to /app/_data/for_mmdet/frcnn by HardDiskBackend.\n"
     ]
    },
    {
     "name": "stdout",
     "output_type": "stream",
     "text": [
      "loading annotations into memory...\n",
      "Done (t=0.02s)\n",
      "creating index...\n",
      "index created!\n"
     ]
    },
    {
     "name": "stderr",
     "output_type": "stream",
     "text": [
      "2022-02-11 12:30:22,442 - mmdet - INFO - Epoch [1][200/1061]\tlr: 1.993e-04, eta: 8:26:16, time: 0.575, data_time: 0.024, memory: 16101, loss_rpn_cls: 0.1689, loss_rpn_bbox: 0.0187, loss_cls: 0.0984, acc: 96.9094, loss_bbox: 0.0504, loss: 0.3364\n",
      "2022-02-11 12:32:16,127 - mmdet - INFO - Epoch [1][400/1061]\tlr: 3.991e-04, eta: 8:21:34, time: 0.568, data_time: 0.010, memory: 18436, loss_rpn_cls: 0.0538, loss_rpn_bbox: 0.0181, loss_cls: 0.1003, acc: 97.2458, loss_bbox: 0.1013, loss: 0.2735\n",
      "2022-02-11 12:34:10,638 - mmdet - INFO - Epoch [1][600/1061]\tlr: 5.000e-04, eta: 8:19:56, time: 0.573, data_time: 0.011, memory: 18742, loss_rpn_cls: 0.0521, loss_rpn_bbox: 0.0176, loss_cls: 0.1022, acc: 96.9851, loss_bbox: 0.1109, loss: 0.2828\n",
      "2022-02-11 12:36:04,006 - mmdet - INFO - Epoch [1][800/1061]\tlr: 5.000e-04, eta: 8:16:55, time: 0.567, data_time: 0.010, memory: 18742, loss_rpn_cls: 0.0425, loss_rpn_bbox: 0.0150, loss_cls: 0.0937, acc: 97.1282, loss_bbox: 0.1106, loss: 0.2618\n",
      "2022-02-11 12:37:56,537 - mmdet - INFO - Epoch [1][1000/1061]\tlr: 5.000e-04, eta: 8:13:38, time: 0.563, data_time: 0.010, memory: 18742, loss_rpn_cls: 0.0426, loss_rpn_bbox: 0.0153, loss_cls: 0.1063, acc: 96.6804, loss_bbox: 0.1259, loss: 0.2901\n",
      "2022-02-11 12:38:31,161 - mmdet - INFO - Saving checkpoint at 1 epochs\n"
     ]
    },
    {
     "name": "stdout",
     "output_type": "stream",
     "text": [
      "[>>>>>>>>>>>>>>>>>>>>>>>>>>] 8561/8561, 13.2 task/s, elapsed: 650s, ETA:     0s"
     ]
    },
    {
     "name": "stderr",
     "output_type": "stream",
     "text": [
      "2022-02-11 12:49:24,365 - mmdet - INFO - Evaluating bbox...\n"
     ]
    },
    {
     "name": "stdout",
     "output_type": "stream",
     "text": [
      "Loading and preparing results...\n",
      "DONE (t=0.30s)\n",
      "creating index...\n",
      "index created!\n",
      "Running per image evaluation...\n",
      "Evaluate annotation type *bbox*\n",
      "DONE (t=5.79s).\n",
      "Accumulating evaluation results...\n"
     ]
    },
    {
     "name": "stderr",
     "output_type": "stream",
     "text": [
      "2022-02-11 12:49:33,068 - mmdet - INFO - \n",
      " Average Precision  (AP) @[ IoU=0.50:0.95 | area=   all | maxDets=100 ] = 0.244\n",
      " Average Precision  (AP) @[ IoU=0.50      | area=   all | maxDets=1000 ] = 0.558\n",
      " Average Precision  (AP) @[ IoU=0.75      | area=   all | maxDets=1000 ] = 0.141\n",
      " Average Precision  (AP) @[ IoU=0.50:0.95 | area= small | maxDets=1000 ] = 0.062\n",
      " Average Precision  (AP) @[ IoU=0.50:0.95 | area=medium | maxDets=1000 ] = 0.303\n",
      " Average Precision  (AP) @[ IoU=0.50:0.95 | area= large | maxDets=1000 ] = -1.000\n",
      " Average Recall     (AR) @[ IoU=0.50:0.95 | area=   all | maxDets=100 ] = 0.407\n",
      " Average Recall     (AR) @[ IoU=0.50:0.95 | area=   all | maxDets=300 ] = 0.407\n",
      " Average Recall     (AR) @[ IoU=0.50:0.95 | area=   all | maxDets=1000 ] = 0.407\n",
      " Average Recall     (AR) @[ IoU=0.50:0.95 | area= small | maxDets=1000 ] = 0.260\n",
      " Average Recall     (AR) @[ IoU=0.50:0.95 | area=medium | maxDets=1000 ] = 0.452\n",
      " Average Recall     (AR) @[ IoU=0.50:0.95 | area= large | maxDets=1000 ] = -1.000\n",
      "\n"
     ]
    },
    {
     "name": "stdout",
     "output_type": "stream",
     "text": [
      "DONE (t=2.16s).\n"
     ]
    },
    {
     "name": "stderr",
     "output_type": "stream",
     "text": [
      "2022-02-11 12:49:34,731 - mmdet - INFO - Now best checkpoint is saved as best_bbox_mAP_epoch_1.pth.\n",
      "2022-02-11 12:49:34,732 - mmdet - INFO - Best bbox_mAP is 0.2440 at 1 epoch.\n",
      "2022-02-11 12:49:34,737 - mmdet - INFO - Epoch(val) [1][8561]\tbbox_mAP: 0.2440, bbox_mAP_50: 0.5580, bbox_mAP_75: 0.1410, bbox_mAP_s: 0.0620, bbox_mAP_m: 0.3030, bbox_mAP_l: -1.0000, bbox_mAP_copypaste: 0.244 0.558 0.141 0.062 0.303 -1.000\n",
      "2022-02-11 12:51:32,333 - mmdet - INFO - Epoch [2][200/1061]\tlr: 5.000e-04, eta: 7:49:59, time: 0.588, data_time: 0.024, memory: 18742, loss_rpn_cls: 0.0364, loss_rpn_bbox: 0.0142, loss_cls: 0.1010, acc: 96.8052, loss_bbox: 0.1283, loss: 0.2799\n",
      "2022-02-11 12:53:26,707 - mmdet - INFO - Epoch [2][400/1061]\tlr: 5.000e-04, eta: 7:51:23, time: 0.572, data_time: 0.011, memory: 18742, loss_rpn_cls: 0.0404, loss_rpn_bbox: 0.0149, loss_cls: 0.0993, acc: 96.7390, loss_bbox: 0.1355, loss: 0.2901\n",
      "2022-02-11 12:55:20,947 - mmdet - INFO - Epoch [2][600/1061]\tlr: 5.000e-04, eta: 7:51:55, time: 0.571, data_time: 0.011, memory: 18742, loss_rpn_cls: 0.0323, loss_rpn_bbox: 0.0129, loss_cls: 0.0996, acc: 96.7031, loss_bbox: 0.1409, loss: 0.2857\n",
      "2022-02-11 12:57:16,696 - mmdet - INFO - Epoch [2][800/1061]\tlr: 5.000e-04, eta: 7:52:38, time: 0.579, data_time: 0.011, memory: 19742, loss_rpn_cls: 0.0308, loss_rpn_bbox: 0.0127, loss_cls: 0.0933, acc: 96.8647, loss_bbox: 0.1318, loss: 0.2685\n",
      "2022-02-11 12:59:12,067 - mmdet - INFO - Epoch [2][1000/1061]\tlr: 5.000e-04, eta: 7:52:40, time: 0.577, data_time: 0.011, memory: 19742, loss_rpn_cls: 0.0334, loss_rpn_bbox: 0.0142, loss_cls: 0.0982, acc: 96.6580, loss_bbox: 0.1403, loss: 0.2860\n",
      "2022-02-11 12:59:47,191 - mmdet - INFO - Saving checkpoint at 2 epochs\n"
     ]
    },
    {
     "name": "stdout",
     "output_type": "stream",
     "text": [
      "[>>>>>>>>>>>>>>>>>>>>>>>>>>] 8561/8561, 13.4 task/s, elapsed: 641s, ETA:     0s"
     ]
    },
    {
     "name": "stderr",
     "output_type": "stream",
     "text": [
      "2022-02-11 13:10:30,592 - mmdet - INFO - Evaluating bbox...\n"
     ]
    },
    {
     "name": "stdout",
     "output_type": "stream",
     "text": [
      "Loading and preparing results...\n",
      "DONE (t=0.27s)\n",
      "creating index...\n",
      "index created!\n",
      "Running per image evaluation...\n",
      "Evaluate annotation type *bbox*\n",
      "DONE (t=4.76s).\n",
      "Accumulating evaluation results...\n"
     ]
    },
    {
     "name": "stderr",
     "output_type": "stream",
     "text": [
      "2022-02-11 13:10:37,216 - mmdet - INFO - \n",
      " Average Precision  (AP) @[ IoU=0.50:0.95 | area=   all | maxDets=100 ] = 0.297\n",
      " Average Precision  (AP) @[ IoU=0.50      | area=   all | maxDets=1000 ] = 0.644\n",
      " Average Precision  (AP) @[ IoU=0.75      | area=   all | maxDets=1000 ] = 0.204\n",
      " Average Precision  (AP) @[ IoU=0.50:0.95 | area= small | maxDets=1000 ] = 0.114\n",
      " Average Precision  (AP) @[ IoU=0.50:0.95 | area=medium | maxDets=1000 ] = 0.353\n",
      " Average Precision  (AP) @[ IoU=0.50:0.95 | area= large | maxDets=1000 ] = -1.000\n",
      " Average Recall     (AR) @[ IoU=0.50:0.95 | area=   all | maxDets=100 ] = 0.421\n",
      " Average Recall     (AR) @[ IoU=0.50:0.95 | area=   all | maxDets=300 ] = 0.421\n",
      " Average Recall     (AR) @[ IoU=0.50:0.95 | area=   all | maxDets=1000 ] = 0.421\n",
      " Average Recall     (AR) @[ IoU=0.50:0.95 | area= small | maxDets=1000 ] = 0.261\n",
      " Average Recall     (AR) @[ IoU=0.50:0.95 | area=medium | maxDets=1000 ] = 0.471\n",
      " Average Recall     (AR) @[ IoU=0.50:0.95 | area= large | maxDets=1000 ] = -1.000\n",
      "\n",
      "2022-02-11 13:10:37,361 - mmdet - INFO - The previous best checkpoint /app/_data/for_mmdet/frcnn/best_bbox_mAP_epoch_1.pth was removed\n"
     ]
    },
    {
     "name": "stdout",
     "output_type": "stream",
     "text": [
      "DONE (t=1.44s).\n"
     ]
    },
    {
     "name": "stderr",
     "output_type": "stream",
     "text": [
      "2022-02-11 13:10:38,944 - mmdet - INFO - Now best checkpoint is saved as best_bbox_mAP_epoch_2.pth.\n",
      "2022-02-11 13:10:38,945 - mmdet - INFO - Best bbox_mAP is 0.2970 at 2 epoch.\n",
      "2022-02-11 13:10:38,951 - mmdet - INFO - Epoch(val) [2][8561]\tbbox_mAP: 0.2970, bbox_mAP_50: 0.6440, bbox_mAP_75: 0.2040, bbox_mAP_s: 0.1140, bbox_mAP_m: 0.3530, bbox_mAP_l: -1.0000, bbox_mAP_copypaste: 0.297 0.644 0.204 0.114 0.353 -1.000\n",
      "2022-02-11 13:12:35,997 - mmdet - INFO - Epoch [3][200/1061]\tlr: 5.000e-04, eta: 7:40:00, time: 0.585, data_time: 0.024, memory: 19742, loss_rpn_cls: 0.0289, loss_rpn_bbox: 0.0122, loss_cls: 0.0840, acc: 97.1650, loss_bbox: 0.1288, loss: 0.2538\n",
      "2022-02-11 13:14:29,416 - mmdet - INFO - Epoch [3][400/1061]\tlr: 5.000e-04, eta: 7:39:43, time: 0.567, data_time: 0.010, memory: 19742, loss_rpn_cls: 0.0272, loss_rpn_bbox: 0.0117, loss_cls: 0.0894, acc: 96.9795, loss_bbox: 0.1351, loss: 0.2634\n",
      "2022-02-11 13:16:25,471 - mmdet - INFO - Epoch [3][600/1061]\tlr: 5.000e-04, eta: 7:40:01, time: 0.580, data_time: 0.011, memory: 20420, loss_rpn_cls: 0.0306, loss_rpn_bbox: 0.0135, loss_cls: 0.0939, acc: 96.7251, loss_bbox: 0.1403, loss: 0.2784\n",
      "2022-02-11 13:18:19,913 - mmdet - INFO - Epoch [3][800/1061]\tlr: 5.000e-04, eta: 7:39:33, time: 0.572, data_time: 0.011, memory: 20420, loss_rpn_cls: 0.0266, loss_rpn_bbox: 0.0119, loss_cls: 0.0952, acc: 96.6985, loss_bbox: 0.1394, loss: 0.2732\n",
      "2022-02-11 13:20:14,911 - mmdet - INFO - Epoch [3][1000/1061]\tlr: 5.000e-04, eta: 7:39:03, time: 0.575, data_time: 0.011, memory: 20420, loss_rpn_cls: 0.0285, loss_rpn_bbox: 0.0119, loss_cls: 0.0896, acc: 96.9214, loss_bbox: 0.1354, loss: 0.2654\n",
      "2022-02-11 13:20:49,793 - mmdet - INFO - Saving checkpoint at 3 epochs\n"
     ]
    },
    {
     "name": "stdout",
     "output_type": "stream",
     "text": [
      "[>>>>>>>>>>>>>>>>>>>>>>>>>>] 8561/8561, 13.2 task/s, elapsed: 647s, ETA:     0s"
     ]
    },
    {
     "name": "stderr",
     "output_type": "stream",
     "text": [
      "2022-02-11 13:31:41,202 - mmdet - INFO - Evaluating bbox...\n"
     ]
    },
    {
     "name": "stdout",
     "output_type": "stream",
     "text": [
      "Loading and preparing results...\n",
      "DONE (t=0.38s)\n",
      "creating index...\n",
      "index created!\n",
      "Running per image evaluation...\n",
      "Evaluate annotation type *bbox*\n",
      "DONE (t=6.62s).\n",
      "Accumulating evaluation results...\n"
     ]
    },
    {
     "name": "stderr",
     "output_type": "stream",
     "text": [
      "2022-02-11 13:31:51,726 - mmdet - INFO - \n",
      " Average Precision  (AP) @[ IoU=0.50:0.95 | area=   all | maxDets=100 ] = 0.258\n",
      " Average Precision  (AP) @[ IoU=0.50      | area=   all | maxDets=1000 ] = 0.637\n",
      " Average Precision  (AP) @[ IoU=0.75      | area=   all | maxDets=1000 ] = 0.124\n",
      " Average Precision  (AP) @[ IoU=0.50:0.95 | area= small | maxDets=1000 ] = 0.103\n",
      " Average Precision  (AP) @[ IoU=0.50:0.95 | area=medium | maxDets=1000 ] = 0.304\n",
      " Average Precision  (AP) @[ IoU=0.50:0.95 | area= large | maxDets=1000 ] = -1.000\n",
      " Average Recall     (AR) @[ IoU=0.50:0.95 | area=   all | maxDets=100 ] = 0.423\n",
      " Average Recall     (AR) @[ IoU=0.50:0.95 | area=   all | maxDets=300 ] = 0.423\n",
      " Average Recall     (AR) @[ IoU=0.50:0.95 | area=   all | maxDets=1000 ] = 0.423\n",
      " Average Recall     (AR) @[ IoU=0.50:0.95 | area= small | maxDets=1000 ] = 0.314\n",
      " Average Recall     (AR) @[ IoU=0.50:0.95 | area=medium | maxDets=1000 ] = 0.456\n",
      " Average Recall     (AR) @[ IoU=0.50:0.95 | area= large | maxDets=1000 ] = -1.000\n",
      "\n",
      "2022-02-11 13:31:51,847 - mmdet - INFO - Epoch(val) [3][8561]\tbbox_mAP: 0.2580, bbox_mAP_50: 0.6370, bbox_mAP_75: 0.1240, bbox_mAP_s: 0.1030, bbox_mAP_m: 0.3040, bbox_mAP_l: -1.0000, bbox_mAP_copypaste: 0.258 0.637 0.124 0.103 0.304 -1.000\n"
     ]
    },
    {
     "name": "stdout",
     "output_type": "stream",
     "text": [
      "DONE (t=2.88s).\n"
     ]
    },
    {
     "name": "stderr",
     "output_type": "stream",
     "text": [
      "2022-02-11 13:33:47,668 - mmdet - INFO - Epoch [4][200/1061]\tlr: 5.000e-04, eta: 7:29:45, time: 0.579, data_time: 0.024, memory: 20420, loss_rpn_cls: 0.0299, loss_rpn_bbox: 0.0137, loss_cls: 0.0921, acc: 96.7998, loss_bbox: 0.1377, loss: 0.2734\n",
      "2022-02-11 13:35:42,351 - mmdet - INFO - Epoch [4][400/1061]\tlr: 5.000e-04, eta: 7:29:19, time: 0.573, data_time: 0.011, memory: 20420, loss_rpn_cls: 0.0264, loss_rpn_bbox: 0.0121, loss_cls: 0.0913, acc: 96.7957, loss_bbox: 0.1381, loss: 0.2679\n",
      "2022-02-11 13:37:38,305 - mmdet - INFO - Epoch [4][600/1061]\tlr: 5.000e-04, eta: 7:29:01, time: 0.580, data_time: 0.011, memory: 20420, loss_rpn_cls: 0.0252, loss_rpn_bbox: 0.0123, loss_cls: 0.0867, acc: 96.9338, loss_bbox: 0.1334, loss: 0.2576\n",
      "2022-02-11 13:39:34,710 - mmdet - INFO - Epoch [4][800/1061]\tlr: 5.000e-04, eta: 7:28:38, time: 0.582, data_time: 0.011, memory: 20420, loss_rpn_cls: 0.0226, loss_rpn_bbox: 0.0115, loss_cls: 0.0911, acc: 96.8430, loss_bbox: 0.1449, loss: 0.2700\n",
      "2022-02-11 13:41:29,543 - mmdet - INFO - Epoch [4][1000/1061]\tlr: 5.000e-04, eta: 7:27:48, time: 0.574, data_time: 0.011, memory: 20420, loss_rpn_cls: 0.0243, loss_rpn_bbox: 0.0117, loss_cls: 0.0877, acc: 96.8862, loss_bbox: 0.1379, loss: 0.2617\n",
      "2022-02-11 13:42:04,568 - mmdet - INFO - Saving checkpoint at 4 epochs\n"
     ]
    },
    {
     "name": "stdout",
     "output_type": "stream",
     "text": [
      "[>>>>>>>>>>>>>>>>>>>>>>>>>>] 8561/8561, 13.2 task/s, elapsed: 649s, ETA:     0s"
     ]
    },
    {
     "name": "stderr",
     "output_type": "stream",
     "text": [
      "2022-02-11 13:52:57,203 - mmdet - INFO - Evaluating bbox...\n"
     ]
    },
    {
     "name": "stdout",
     "output_type": "stream",
     "text": [
      "Loading and preparing results...\n",
      "DONE (t=0.32s)\n",
      "creating index...\n",
      "index created!\n",
      "Running per image evaluation...\n",
      "Evaluate annotation type *bbox*\n",
      "DONE (t=6.01s).\n",
      "Accumulating evaluation results...\n"
     ]
    },
    {
     "name": "stderr",
     "output_type": "stream",
     "text": [
      "2022-02-11 13:53:06,168 - mmdet - INFO - \n",
      " Average Precision  (AP) @[ IoU=0.50:0.95 | area=   all | maxDets=100 ] = 0.288\n",
      " Average Precision  (AP) @[ IoU=0.50      | area=   all | maxDets=1000 ] = 0.656\n",
      " Average Precision  (AP) @[ IoU=0.75      | area=   all | maxDets=1000 ] = 0.182\n",
      " Average Precision  (AP) @[ IoU=0.50:0.95 | area= small | maxDets=1000 ] = 0.100\n",
      " Average Precision  (AP) @[ IoU=0.50:0.95 | area=medium | maxDets=1000 ] = 0.339\n",
      " Average Precision  (AP) @[ IoU=0.50:0.95 | area= large | maxDets=1000 ] = -1.000\n",
      " Average Recall     (AR) @[ IoU=0.50:0.95 | area=   all | maxDets=100 ] = 0.420\n",
      " Average Recall     (AR) @[ IoU=0.50:0.95 | area=   all | maxDets=300 ] = 0.420\n",
      " Average Recall     (AR) @[ IoU=0.50:0.95 | area=   all | maxDets=1000 ] = 0.420\n",
      " Average Recall     (AR) @[ IoU=0.50:0.95 | area= small | maxDets=1000 ] = 0.323\n",
      " Average Recall     (AR) @[ IoU=0.50:0.95 | area=medium | maxDets=1000 ] = 0.450\n",
      " Average Recall     (AR) @[ IoU=0.50:0.95 | area= large | maxDets=1000 ] = -1.000\n",
      "\n",
      "2022-02-11 13:53:06,297 - mmdet - INFO - Epoch(val) [4][8561]\tbbox_mAP: 0.2880, bbox_mAP_50: 0.6560, bbox_mAP_75: 0.1820, bbox_mAP_s: 0.1000, bbox_mAP_m: 0.3390, bbox_mAP_l: -1.0000, bbox_mAP_copypaste: 0.288 0.656 0.182 0.100 0.339 -1.000\n"
     ]
    },
    {
     "name": "stdout",
     "output_type": "stream",
     "text": [
      "DONE (t=2.14s).\n"
     ]
    },
    {
     "name": "stderr",
     "output_type": "stream",
     "text": [
      "2022-02-11 13:55:03,573 - mmdet - INFO - Epoch [5][200/1061]\tlr: 5.000e-04, eta: 7:20:37, time: 0.586, data_time: 0.024, memory: 20420, loss_rpn_cls: 0.0241, loss_rpn_bbox: 0.0124, loss_cls: 0.0876, acc: 96.9067, loss_bbox: 0.1411, loss: 0.2652\n",
      "2022-02-11 13:56:59,449 - mmdet - INFO - Epoch [5][400/1061]\tlr: 5.000e-04, eta: 7:20:03, time: 0.579, data_time: 0.011, memory: 20420, loss_rpn_cls: 0.0230, loss_rpn_bbox: 0.0120, loss_cls: 0.0889, acc: 96.8198, loss_bbox: 0.1442, loss: 0.2681\n",
      "2022-02-11 13:58:57,632 - mmdet - INFO - Epoch [5][600/1061]\tlr: 5.000e-04, eta: 7:19:44, time: 0.591, data_time: 0.011, memory: 20420, loss_rpn_cls: 0.0235, loss_rpn_bbox: 0.0124, loss_cls: 0.0839, acc: 96.9888, loss_bbox: 0.1377, loss: 0.2575\n",
      "2022-02-11 14:00:52,960 - mmdet - INFO - Epoch [5][800/1061]\tlr: 5.000e-04, eta: 7:18:50, time: 0.577, data_time: 0.011, memory: 21208, loss_rpn_cls: 0.0227, loss_rpn_bbox: 0.0111, loss_cls: 0.0877, acc: 96.9534, loss_bbox: 0.1414, loss: 0.2629\n",
      "2022-02-11 14:02:47,691 - mmdet - INFO - Epoch [5][1000/1061]\tlr: 5.000e-04, eta: 7:17:46, time: 0.574, data_time: 0.011, memory: 21208, loss_rpn_cls: 0.0240, loss_rpn_bbox: 0.0117, loss_cls: 0.0856, acc: 96.9756, loss_bbox: 0.1364, loss: 0.2577\n",
      "2022-02-11 14:03:22,871 - mmdet - INFO - Saving checkpoint at 5 epochs\n"
     ]
    },
    {
     "name": "stdout",
     "output_type": "stream",
     "text": [
      "[>>>>>>>>>>>>>>>>>>>>>>>>>>] 8561/8561, 13.2 task/s, elapsed: 651s, ETA:     0s"
     ]
    },
    {
     "name": "stderr",
     "output_type": "stream",
     "text": [
      "2022-02-11 14:14:16,025 - mmdet - INFO - Evaluating bbox...\n"
     ]
    },
    {
     "name": "stdout",
     "output_type": "stream",
     "text": [
      "Loading and preparing results...\n",
      "DONE (t=0.06s)\n",
      "creating index...\n",
      "index created!\n",
      "Running per image evaluation...\n",
      "Evaluate annotation type *bbox*\n",
      "DONE (t=4.43s).\n",
      "Accumulating evaluation results...\n"
     ]
    },
    {
     "name": "stderr",
     "output_type": "stream",
     "text": [
      "2022-02-11 14:14:22,438 - mmdet - INFO - \n",
      " Average Precision  (AP) @[ IoU=0.50:0.95 | area=   all | maxDets=100 ] = 0.315\n",
      " Average Precision  (AP) @[ IoU=0.50      | area=   all | maxDets=1000 ] = 0.669\n",
      " Average Precision  (AP) @[ IoU=0.75      | area=   all | maxDets=1000 ] = 0.218\n",
      " Average Precision  (AP) @[ IoU=0.50:0.95 | area= small | maxDets=1000 ] = 0.082\n",
      " Average Precision  (AP) @[ IoU=0.50:0.95 | area=medium | maxDets=1000 ] = 0.377\n",
      " Average Precision  (AP) @[ IoU=0.50:0.95 | area= large | maxDets=1000 ] = -1.000\n",
      " Average Recall     (AR) @[ IoU=0.50:0.95 | area=   all | maxDets=100 ] = 0.437\n",
      " Average Recall     (AR) @[ IoU=0.50:0.95 | area=   all | maxDets=300 ] = 0.437\n",
      " Average Recall     (AR) @[ IoU=0.50:0.95 | area=   all | maxDets=1000 ] = 0.437\n",
      " Average Recall     (AR) @[ IoU=0.50:0.95 | area= small | maxDets=1000 ] = 0.270\n",
      " Average Recall     (AR) @[ IoU=0.50:0.95 | area=medium | maxDets=1000 ] = 0.489\n",
      " Average Recall     (AR) @[ IoU=0.50:0.95 | area= large | maxDets=1000 ] = -1.000\n",
      "\n",
      "2022-02-11 14:14:22,584 - mmdet - INFO - The previous best checkpoint /app/_data/for_mmdet/frcnn/best_bbox_mAP_epoch_2.pth was removed\n"
     ]
    },
    {
     "name": "stdout",
     "output_type": "stream",
     "text": [
      "DONE (t=1.57s).\n"
     ]
    },
    {
     "name": "stderr",
     "output_type": "stream",
     "text": [
      "2022-02-11 14:14:24,193 - mmdet - INFO - Now best checkpoint is saved as best_bbox_mAP_epoch_5.pth.\n",
      "2022-02-11 14:14:24,194 - mmdet - INFO - Best bbox_mAP is 0.3150 at 5 epoch.\n",
      "2022-02-11 14:14:24,200 - mmdet - INFO - Epoch(val) [5][8561]\tbbox_mAP: 0.3150, bbox_mAP_50: 0.6690, bbox_mAP_75: 0.2180, bbox_mAP_s: 0.0820, bbox_mAP_m: 0.3770, bbox_mAP_l: -1.0000, bbox_mAP_copypaste: 0.315 0.669 0.218 0.082 0.377 -1.000\n",
      "2022-02-11 14:16:21,718 - mmdet - INFO - Epoch [6][200/1061]\tlr: 5.000e-04, eta: 7:11:39, time: 0.587, data_time: 0.024, memory: 21208, loss_rpn_cls: 0.0211, loss_rpn_bbox: 0.0113, loss_cls: 0.0829, acc: 97.0413, loss_bbox: 0.1342, loss: 0.2496\n",
      "2022-02-11 14:18:18,240 - mmdet - INFO - Epoch [6][400/1061]\tlr: 5.000e-04, eta: 7:10:53, time: 0.583, data_time: 0.011, memory: 21208, loss_rpn_cls: 0.0216, loss_rpn_bbox: 0.0115, loss_cls: 0.0850, acc: 96.9150, loss_bbox: 0.1431, loss: 0.2612\n",
      "2022-02-11 14:20:14,410 - mmdet - INFO - Epoch [6][600/1061]\tlr: 5.000e-04, eta: 7:09:59, time: 0.581, data_time: 0.011, memory: 21208, loss_rpn_cls: 0.0199, loss_rpn_bbox: 0.0112, loss_cls: 0.0807, acc: 97.0513, loss_bbox: 0.1377, loss: 0.2495\n",
      "2022-02-11 14:22:09,879 - mmdet - INFO - Epoch [6][800/1061]\tlr: 5.000e-04, eta: 7:08:56, time: 0.577, data_time: 0.011, memory: 21208, loss_rpn_cls: 0.0218, loss_rpn_bbox: 0.0118, loss_cls: 0.0901, acc: 96.7473, loss_bbox: 0.1477, loss: 0.2714\n",
      "2022-02-11 14:24:08,139 - mmdet - INFO - Epoch [6][1000/1061]\tlr: 5.000e-04, eta: 7:08:10, time: 0.591, data_time: 0.011, memory: 21208, loss_rpn_cls: 0.0199, loss_rpn_bbox: 0.0114, loss_cls: 0.0855, acc: 96.8872, loss_bbox: 0.1489, loss: 0.2657\n",
      "2022-02-11 14:24:43,884 - mmdet - INFO - Saving checkpoint at 6 epochs\n"
     ]
    },
    {
     "name": "stdout",
     "output_type": "stream",
     "text": [
      "[>>>>>>>>>>>>>>>>>>>>>>>>>>] 8561/8561, 13.1 task/s, elapsed: 654s, ETA:     0s"
     ]
    },
    {
     "name": "stderr",
     "output_type": "stream",
     "text": [
      "2022-02-11 14:35:41,200 - mmdet - INFO - Evaluating bbox...\n"
     ]
    },
    {
     "name": "stdout",
     "output_type": "stream",
     "text": [
      "Loading and preparing results...\n",
      "DONE (t=0.31s)\n",
      "creating index...\n",
      "index created!\n",
      "Running per image evaluation...\n",
      "Evaluate annotation type *bbox*\n",
      "DONE (t=5.40s).\n",
      "Accumulating evaluation results...\n"
     ]
    },
    {
     "name": "stderr",
     "output_type": "stream",
     "text": [
      "2022-02-11 14:35:49,637 - mmdet - INFO - \n",
      " Average Precision  (AP) @[ IoU=0.50:0.95 | area=   all | maxDets=100 ] = 0.298\n",
      " Average Precision  (AP) @[ IoU=0.50      | area=   all | maxDets=1000 ] = 0.656\n",
      " Average Precision  (AP) @[ IoU=0.75      | area=   all | maxDets=1000 ] = 0.209\n",
      " Average Precision  (AP) @[ IoU=0.50:0.95 | area= small | maxDets=1000 ] = 0.065\n",
      " Average Precision  (AP) @[ IoU=0.50:0.95 | area=medium | maxDets=1000 ] = 0.362\n",
      " Average Precision  (AP) @[ IoU=0.50:0.95 | area= large | maxDets=1000 ] = -1.000\n",
      " Average Recall     (AR) @[ IoU=0.50:0.95 | area=   all | maxDets=100 ] = 0.426\n",
      " Average Recall     (AR) @[ IoU=0.50:0.95 | area=   all | maxDets=300 ] = 0.426\n",
      " Average Recall     (AR) @[ IoU=0.50:0.95 | area=   all | maxDets=1000 ] = 0.426\n",
      " Average Recall     (AR) @[ IoU=0.50:0.95 | area= small | maxDets=1000 ] = 0.270\n",
      " Average Recall     (AR) @[ IoU=0.50:0.95 | area=medium | maxDets=1000 ] = 0.474\n",
      " Average Recall     (AR) @[ IoU=0.50:0.95 | area= large | maxDets=1000 ] = -1.000\n",
      "\n",
      "2022-02-11 14:35:49,741 - mmdet - INFO - Epoch(val) [6][8561]\tbbox_mAP: 0.2980, bbox_mAP_50: 0.6560, bbox_mAP_75: 0.2090, bbox_mAP_s: 0.0650, bbox_mAP_m: 0.3620, bbox_mAP_l: -1.0000, bbox_mAP_copypaste: 0.298 0.656 0.209 0.065 0.362 -1.000\n"
     ]
    },
    {
     "name": "stdout",
     "output_type": "stream",
     "text": [
      "DONE (t=2.22s).\n"
     ]
    },
    {
     "name": "stderr",
     "output_type": "stream",
     "text": [
      "2022-02-11 14:37:47,882 - mmdet - INFO - Epoch [7][200/1061]\tlr: 5.000e-04, eta: 7:02:48, time: 0.591, data_time: 0.024, memory: 21208, loss_rpn_cls: 0.0199, loss_rpn_bbox: 0.0120, loss_cls: 0.0865, acc: 96.8594, loss_bbox: 0.1469, loss: 0.2652\n",
      "2022-02-11 14:39:42,264 - mmdet - INFO - Epoch [7][400/1061]\tlr: 5.000e-04, eta: 7:01:34, time: 0.572, data_time: 0.011, memory: 21208, loss_rpn_cls: 0.0198, loss_rpn_bbox: 0.0106, loss_cls: 0.0795, acc: 97.1846, loss_bbox: 0.1347, loss: 0.2446\n",
      "2022-02-11 14:41:37,279 - mmdet - INFO - Epoch [7][600/1061]\tlr: 5.000e-04, eta: 7:00:23, time: 0.575, data_time: 0.011, memory: 21208, loss_rpn_cls: 0.0184, loss_rpn_bbox: 0.0117, loss_cls: 0.0820, acc: 96.9358, loss_bbox: 0.1441, loss: 0.2563\n",
      "2022-02-11 14:43:32,900 - mmdet - INFO - Epoch [7][800/1061]\tlr: 5.000e-04, eta: 6:59:13, time: 0.578, data_time: 0.011, memory: 21208, loss_rpn_cls: 0.0210, loss_rpn_bbox: 0.0120, loss_cls: 0.0838, acc: 96.9661, loss_bbox: 0.1383, loss: 0.2550\n",
      "2022-02-11 14:45:28,037 - mmdet - INFO - Epoch [7][1000/1061]\tlr: 5.000e-04, eta: 6:57:57, time: 0.576, data_time: 0.011, memory: 21208, loss_rpn_cls: 0.0186, loss_rpn_bbox: 0.0108, loss_cls: 0.0790, acc: 97.0588, loss_bbox: 0.1413, loss: 0.2498\n",
      "2022-02-11 14:46:02,557 - mmdet - INFO - Saving checkpoint at 7 epochs\n"
     ]
    },
    {
     "name": "stdout",
     "output_type": "stream",
     "text": [
      "[>>>>>>>>>>>>>>>>>>>>>>>>>>] 8561/8561, 13.2 task/s, elapsed: 651s, ETA:     0s"
     ]
    },
    {
     "name": "stderr",
     "output_type": "stream",
     "text": [
      "2022-02-11 14:56:55,612 - mmdet - INFO - Evaluating bbox...\n"
     ]
    },
    {
     "name": "stdout",
     "output_type": "stream",
     "text": [
      "Loading and preparing results...\n",
      "DONE (t=0.04s)\n",
      "creating index...\n",
      "index created!\n",
      "Running per image evaluation...\n",
      "Evaluate annotation type *bbox*\n",
      "DONE (t=3.74s).\n",
      "Accumulating evaluation results...\n"
     ]
    },
    {
     "name": "stderr",
     "output_type": "stream",
     "text": [
      "2022-02-11 14:57:00,577 - mmdet - INFO - \n",
      " Average Precision  (AP) @[ IoU=0.50:0.95 | area=   all | maxDets=100 ] = 0.297\n",
      " Average Precision  (AP) @[ IoU=0.50      | area=   all | maxDets=1000 ] = 0.679\n",
      " Average Precision  (AP) @[ IoU=0.75      | area=   all | maxDets=1000 ] = 0.175\n",
      " Average Precision  (AP) @[ IoU=0.50:0.95 | area= small | maxDets=1000 ] = 0.078\n",
      " Average Precision  (AP) @[ IoU=0.50:0.95 | area=medium | maxDets=1000 ] = 0.353\n",
      " Average Precision  (AP) @[ IoU=0.50:0.95 | area= large | maxDets=1000 ] = -1.000\n",
      " Average Recall     (AR) @[ IoU=0.50:0.95 | area=   all | maxDets=100 ] = 0.409\n",
      " Average Recall     (AR) @[ IoU=0.50:0.95 | area=   all | maxDets=300 ] = 0.409\n",
      " Average Recall     (AR) @[ IoU=0.50:0.95 | area=   all | maxDets=1000 ] = 0.409\n",
      " Average Recall     (AR) @[ IoU=0.50:0.95 | area= small | maxDets=1000 ] = 0.269\n",
      " Average Recall     (AR) @[ IoU=0.50:0.95 | area=medium | maxDets=1000 ] = 0.452\n",
      " Average Recall     (AR) @[ IoU=0.50:0.95 | area= large | maxDets=1000 ] = -1.000\n",
      "\n",
      "2022-02-11 14:57:00,633 - mmdet - INFO - Epoch(val) [7][8561]\tbbox_mAP: 0.2970, bbox_mAP_50: 0.6790, bbox_mAP_75: 0.1750, bbox_mAP_s: 0.0780, bbox_mAP_m: 0.3530, bbox_mAP_l: -1.0000, bbox_mAP_copypaste: 0.297 0.679 0.175 0.078 0.353 -1.000\n"
     ]
    },
    {
     "name": "stdout",
     "output_type": "stream",
     "text": [
      "DONE (t=0.90s).\n"
     ]
    },
    {
     "name": "stderr",
     "output_type": "stream",
     "text": [
      "2022-02-11 14:58:59,530 - mmdet - INFO - Epoch [8][200/1061]\tlr: 5.000e-04, eta: 6:53:09, time: 0.594, data_time: 0.024, memory: 21208, loss_rpn_cls: 0.0174, loss_rpn_bbox: 0.0114, loss_cls: 0.0799, acc: 97.0396, loss_bbox: 0.1422, loss: 0.2509\n",
      "2022-02-11 15:00:53,523 - mmdet - INFO - Epoch [8][400/1061]\tlr: 5.000e-04, eta: 6:51:47, time: 0.570, data_time: 0.011, memory: 21208, loss_rpn_cls: 0.0158, loss_rpn_bbox: 0.0102, loss_cls: 0.0734, acc: 97.2844, loss_bbox: 0.1294, loss: 0.2288\n",
      "2022-02-11 15:02:49,144 - mmdet - INFO - Epoch [8][600/1061]\tlr: 5.000e-04, eta: 6:50:34, time: 0.578, data_time: 0.011, memory: 21208, loss_rpn_cls: 0.0168, loss_rpn_bbox: 0.0115, loss_cls: 0.0796, acc: 97.0530, loss_bbox: 0.1408, loss: 0.2487\n",
      "2022-02-11 15:04:42,688 - mmdet - INFO - Epoch [8][800/1061]\tlr: 5.000e-04, eta: 6:49:07, time: 0.568, data_time: 0.011, memory: 21208, loss_rpn_cls: 0.0199, loss_rpn_bbox: 0.0116, loss_cls: 0.0816, acc: 96.9382, loss_bbox: 0.1469, loss: 0.2600\n",
      "2022-02-11 15:06:38,939 - mmdet - INFO - Epoch [8][1000/1061]\tlr: 5.000e-04, eta: 6:47:53, time: 0.581, data_time: 0.011, memory: 21208, loss_rpn_cls: 0.0156, loss_rpn_bbox: 0.0106, loss_cls: 0.0802, acc: 97.0588, loss_bbox: 0.1414, loss: 0.2479\n",
      "2022-02-11 15:07:13,696 - mmdet - INFO - Saving checkpoint at 8 epochs\n"
     ]
    },
    {
     "name": "stdout",
     "output_type": "stream",
     "text": [
      "[>>>>>>>>>>>>>>>>>>>>>>>>>>] 8561/8561, 13.1 task/s, elapsed: 653s, ETA:     0s"
     ]
    },
    {
     "name": "stderr",
     "output_type": "stream",
     "text": [
      "2022-02-11 15:18:09,055 - mmdet - INFO - Evaluating bbox...\n"
     ]
    },
    {
     "name": "stdout",
     "output_type": "stream",
     "text": [
      "Loading and preparing results...\n",
      "DONE (t=0.05s)\n",
      "creating index...\n",
      "index created!\n",
      "Running per image evaluation...\n",
      "Evaluate annotation type *bbox*\n",
      "DONE (t=4.11s).\n",
      "Accumulating evaluation results...\n"
     ]
    },
    {
     "name": "stderr",
     "output_type": "stream",
     "text": [
      "2022-02-11 15:18:14,567 - mmdet - INFO - \n",
      " Average Precision  (AP) @[ IoU=0.50:0.95 | area=   all | maxDets=100 ] = 0.281\n",
      " Average Precision  (AP) @[ IoU=0.50      | area=   all | maxDets=1000 ] = 0.679\n",
      " Average Precision  (AP) @[ IoU=0.75      | area=   all | maxDets=1000 ] = 0.157\n",
      " Average Precision  (AP) @[ IoU=0.50:0.95 | area= small | maxDets=1000 ] = 0.086\n",
      " Average Precision  (AP) @[ IoU=0.50:0.95 | area=medium | maxDets=1000 ] = 0.332\n",
      " Average Precision  (AP) @[ IoU=0.50:0.95 | area= large | maxDets=1000 ] = -1.000\n",
      " Average Recall     (AR) @[ IoU=0.50:0.95 | area=   all | maxDets=100 ] = 0.393\n",
      " Average Recall     (AR) @[ IoU=0.50:0.95 | area=   all | maxDets=300 ] = 0.393\n",
      " Average Recall     (AR) @[ IoU=0.50:0.95 | area=   all | maxDets=1000 ] = 0.393\n",
      " Average Recall     (AR) @[ IoU=0.50:0.95 | area= small | maxDets=1000 ] = 0.284\n",
      " Average Recall     (AR) @[ IoU=0.50:0.95 | area=medium | maxDets=1000 ] = 0.427\n",
      " Average Recall     (AR) @[ IoU=0.50:0.95 | area= large | maxDets=1000 ] = -1.000\n",
      "\n",
      "2022-02-11 15:18:14,632 - mmdet - INFO - Epoch(val) [8][8561]\tbbox_mAP: 0.2810, bbox_mAP_50: 0.6790, bbox_mAP_75: 0.1570, bbox_mAP_s: 0.0860, bbox_mAP_m: 0.3320, bbox_mAP_l: -1.0000, bbox_mAP_copypaste: 0.281 0.679 0.157 0.086 0.332 -1.000\n"
     ]
    },
    {
     "name": "stdout",
     "output_type": "stream",
     "text": [
      "DONE (t=1.05s).\n"
     ]
    },
    {
     "name": "stderr",
     "output_type": "stream",
     "text": [
      "2022-02-11 15:20:13,681 - mmdet - INFO - Epoch [9][200/1061]\tlr: 5.000e-05, eta: 6:43:27, time: 0.595, data_time: 0.024, memory: 21208, loss_rpn_cls: 0.0126, loss_rpn_bbox: 0.0100, loss_cls: 0.0756, acc: 97.1311, loss_bbox: 0.1503, loss: 0.2485\n",
      "2022-02-11 15:22:08,829 - mmdet - INFO - Epoch [9][400/1061]\tlr: 5.000e-05, eta: 6:42:07, time: 0.576, data_time: 0.011, memory: 21208, loss_rpn_cls: 0.0119, loss_rpn_bbox: 0.0094, loss_cls: 0.0727, acc: 97.2471, loss_bbox: 0.1442, loss: 0.2382\n",
      "2022-02-11 15:24:03,603 - mmdet - INFO - Epoch [9][600/1061]\tlr: 5.000e-05, eta: 6:40:45, time: 0.574, data_time: 0.011, memory: 21208, loss_rpn_cls: 0.0107, loss_rpn_bbox: 0.0082, loss_cls: 0.0674, acc: 97.4187, loss_bbox: 0.1369, loss: 0.2232\n",
      "2022-02-11 15:25:58,242 - mmdet - INFO - Epoch [9][800/1061]\tlr: 5.000e-05, eta: 6:39:20, time: 0.573, data_time: 0.011, memory: 21208, loss_rpn_cls: 0.0106, loss_rpn_bbox: 0.0090, loss_cls: 0.0661, acc: 97.4983, loss_bbox: 0.1400, loss: 0.2257\n",
      "2022-02-11 15:27:50,638 - mmdet - INFO - Epoch [9][1000/1061]\tlr: 5.000e-05, eta: 6:37:44, time: 0.562, data_time: 0.010, memory: 21208, loss_rpn_cls: 0.0100, loss_rpn_bbox: 0.0079, loss_cls: 0.0603, acc: 97.6968, loss_bbox: 0.1270, loss: 0.2052\n",
      "2022-02-11 15:28:26,429 - mmdet - INFO - Saving checkpoint at 9 epochs\n"
     ]
    },
    {
     "name": "stdout",
     "output_type": "stream",
     "text": [
      "[>>>>>>>>>>>>>>>>>>>>>>>>>>] 8561/8561, 13.2 task/s, elapsed: 649s, ETA:     0s"
     ]
    },
    {
     "name": "stderr",
     "output_type": "stream",
     "text": [
      "2022-02-11 15:39:17,319 - mmdet - INFO - Evaluating bbox...\n"
     ]
    },
    {
     "name": "stdout",
     "output_type": "stream",
     "text": [
      "Loading and preparing results...\n",
      "DONE (t=0.21s)\n",
      "creating index...\n",
      "index created!\n",
      "Running per image evaluation...\n",
      "Evaluate annotation type *bbox*\n",
      "DONE (t=3.25s).\n",
      "Accumulating evaluation results...\n"
     ]
    },
    {
     "name": "stderr",
     "output_type": "stream",
     "text": [
      "2022-02-11 15:39:21,575 - mmdet - INFO - \n",
      " Average Precision  (AP) @[ IoU=0.50:0.95 | area=   all | maxDets=100 ] = 0.330\n",
      " Average Precision  (AP) @[ IoU=0.50      | area=   all | maxDets=1000 ] = 0.739\n",
      " Average Precision  (AP) @[ IoU=0.75      | area=   all | maxDets=1000 ] = 0.220\n",
      " Average Precision  (AP) @[ IoU=0.50:0.95 | area= small | maxDets=1000 ] = 0.125\n",
      " Average Precision  (AP) @[ IoU=0.50:0.95 | area=medium | maxDets=1000 ] = 0.383\n",
      " Average Precision  (AP) @[ IoU=0.50:0.95 | area= large | maxDets=1000 ] = -1.000\n",
      " Average Recall     (AR) @[ IoU=0.50:0.95 | area=   all | maxDets=100 ] = 0.427\n",
      " Average Recall     (AR) @[ IoU=0.50:0.95 | area=   all | maxDets=300 ] = 0.427\n",
      " Average Recall     (AR) @[ IoU=0.50:0.95 | area=   all | maxDets=1000 ] = 0.427\n",
      " Average Recall     (AR) @[ IoU=0.50:0.95 | area= small | maxDets=1000 ] = 0.294\n",
      " Average Recall     (AR) @[ IoU=0.50:0.95 | area=medium | maxDets=1000 ] = 0.468\n",
      " Average Recall     (AR) @[ IoU=0.50:0.95 | area= large | maxDets=1000 ] = -1.000\n",
      "\n",
      "2022-02-11 15:39:21,696 - mmdet - INFO - The previous best checkpoint /app/_data/for_mmdet/frcnn/best_bbox_mAP_epoch_5.pth was removed\n"
     ]
    },
    {
     "name": "stdout",
     "output_type": "stream",
     "text": [
      "DONE (t=0.73s).\n"
     ]
    },
    {
     "name": "stderr",
     "output_type": "stream",
     "text": [
      "2022-02-11 15:39:23,359 - mmdet - INFO - Now best checkpoint is saved as best_bbox_mAP_epoch_9.pth.\n",
      "2022-02-11 15:39:23,361 - mmdet - INFO - Best bbox_mAP is 0.3300 at 9 epoch.\n",
      "2022-02-11 15:39:23,366 - mmdet - INFO - Epoch(val) [9][8561]\tbbox_mAP: 0.3300, bbox_mAP_50: 0.7390, bbox_mAP_75: 0.2200, bbox_mAP_s: 0.1250, bbox_mAP_m: 0.3830, bbox_mAP_l: -1.0000, bbox_mAP_copypaste: 0.330 0.739 0.220 0.125 0.383 -1.000\n",
      "2022-02-11 15:41:20,897 - mmdet - INFO - Epoch [10][200/1061]\tlr: 5.000e-05, eta: 6:33:28, time: 0.588, data_time: 0.024, memory: 21208, loss_rpn_cls: 0.0078, loss_rpn_bbox: 0.0081, loss_cls: 0.0622, acc: 97.5640, loss_bbox: 0.1329, loss: 0.2110\n",
      "2022-02-11 15:43:14,130 - mmdet - INFO - Epoch [10][400/1061]\tlr: 5.000e-05, eta: 6:31:57, time: 0.566, data_time: 0.011, memory: 21208, loss_rpn_cls: 0.0101, loss_rpn_bbox: 0.0085, loss_cls: 0.0625, acc: 97.5625, loss_bbox: 0.1332, loss: 0.2143\n",
      "2022-02-11 15:45:09,192 - mmdet - INFO - Epoch [10][600/1061]\tlr: 5.000e-05, eta: 6:30:33, time: 0.575, data_time: 0.011, memory: 21208, loss_rpn_cls: 0.0104, loss_rpn_bbox: 0.0081, loss_cls: 0.0589, acc: 97.7363, loss_bbox: 0.1249, loss: 0.2023\n",
      "2022-02-11 15:47:03,713 - mmdet - INFO - Epoch [10][800/1061]\tlr: 5.000e-05, eta: 6:29:05, time: 0.573, data_time: 0.011, memory: 21208, loss_rpn_cls: 0.0081, loss_rpn_bbox: 0.0083, loss_cls: 0.0636, acc: 97.5503, loss_bbox: 0.1344, loss: 0.2144\n",
      "2022-02-11 15:48:57,531 - mmdet - INFO - Epoch [10][1000/1061]\tlr: 5.000e-05, eta: 6:27:34, time: 0.569, data_time: 0.011, memory: 21208, loss_rpn_cls: 0.0076, loss_rpn_bbox: 0.0080, loss_cls: 0.0583, acc: 97.7307, loss_bbox: 0.1269, loss: 0.2009\n",
      "2022-02-11 15:49:31,942 - mmdet - INFO - Saving checkpoint at 10 epochs\n"
     ]
    },
    {
     "name": "stdout",
     "output_type": "stream",
     "text": [
      "[>>>>>>>>>>>>>>>>>>>>>>>>>>] 8561/8561, 13.3 task/s, elapsed: 643s, ETA:     0s"
     ]
    },
    {
     "name": "stderr",
     "output_type": "stream",
     "text": [
      "2022-02-11 16:00:16,696 - mmdet - INFO - Evaluating bbox...\n"
     ]
    },
    {
     "name": "stdout",
     "output_type": "stream",
     "text": [
      "Loading and preparing results...\n",
      "DONE (t=0.03s)\n",
      "creating index...\n",
      "index created!\n",
      "Running per image evaluation...\n",
      "Evaluate annotation type *bbox*\n",
      "DONE (t=3.33s).\n",
      "Accumulating evaluation results...\n"
     ]
    },
    {
     "name": "stderr",
     "output_type": "stream",
     "text": [
      "2022-02-11 16:00:20,875 - mmdet - INFO - \n",
      " Average Precision  (AP) @[ IoU=0.50:0.95 | area=   all | maxDets=100 ] = 0.326\n",
      " Average Precision  (AP) @[ IoU=0.50      | area=   all | maxDets=1000 ] = 0.741\n",
      " Average Precision  (AP) @[ IoU=0.75      | area=   all | maxDets=1000 ] = 0.210\n",
      " Average Precision  (AP) @[ IoU=0.50:0.95 | area= small | maxDets=1000 ] = 0.130\n",
      " Average Precision  (AP) @[ IoU=0.50:0.95 | area=medium | maxDets=1000 ] = 0.376\n",
      " Average Precision  (AP) @[ IoU=0.50:0.95 | area= large | maxDets=1000 ] = -1.000\n",
      " Average Recall     (AR) @[ IoU=0.50:0.95 | area=   all | maxDets=100 ] = 0.425\n",
      " Average Recall     (AR) @[ IoU=0.50:0.95 | area=   all | maxDets=300 ] = 0.425\n",
      " Average Recall     (AR) @[ IoU=0.50:0.95 | area=   all | maxDets=1000 ] = 0.425\n",
      " Average Recall     (AR) @[ IoU=0.50:0.95 | area= small | maxDets=1000 ] = 0.301\n",
      " Average Recall     (AR) @[ IoU=0.50:0.95 | area=medium | maxDets=1000 ] = 0.463\n",
      " Average Recall     (AR) @[ IoU=0.50:0.95 | area= large | maxDets=1000 ] = -1.000\n",
      "\n",
      "2022-02-11 16:00:20,922 - mmdet - INFO - Epoch(val) [10][8561]\tbbox_mAP: 0.3260, bbox_mAP_50: 0.7410, bbox_mAP_75: 0.2100, bbox_mAP_s: 0.1300, bbox_mAP_m: 0.3760, bbox_mAP_l: -1.0000, bbox_mAP_copypaste: 0.326 0.741 0.210 0.130 0.376 -1.000\n"
     ]
    },
    {
     "name": "stdout",
     "output_type": "stream",
     "text": [
      "DONE (t=0.74s).\n"
     ]
    },
    {
     "name": "stderr",
     "output_type": "stream",
     "text": [
      "2022-02-11 16:02:17,324 - mmdet - INFO - Epoch [11][200/1061]\tlr: 5.000e-05, eta: 6:23:28, time: 0.582, data_time: 0.024, memory: 21208, loss_rpn_cls: 0.0084, loss_rpn_bbox: 0.0078, loss_cls: 0.0575, acc: 97.8088, loss_bbox: 0.1242, loss: 0.1980\n",
      "2022-02-11 16:04:11,892 - mmdet - INFO - Epoch [11][400/1061]\tlr: 5.000e-05, eta: 6:22:00, time: 0.573, data_time: 0.011, memory: 21208, loss_rpn_cls: 0.0070, loss_rpn_bbox: 0.0085, loss_cls: 0.0603, acc: 97.6082, loss_bbox: 0.1367, loss: 0.2126\n",
      "2022-02-11 16:06:06,890 - mmdet - INFO - Epoch [11][600/1061]\tlr: 5.000e-05, eta: 6:20:34, time: 0.575, data_time: 0.011, memory: 21208, loss_rpn_cls: 0.0073, loss_rpn_bbox: 0.0078, loss_cls: 0.0535, acc: 97.9319, loss_bbox: 0.1195, loss: 0.1880\n",
      "2022-02-11 16:08:01,555 - mmdet - INFO - Epoch [11][800/1061]\tlr: 5.000e-05, eta: 6:19:05, time: 0.573, data_time: 0.011, memory: 21208, loss_rpn_cls: 0.0085, loss_rpn_bbox: 0.0074, loss_cls: 0.0536, acc: 97.9417, loss_bbox: 0.1187, loss: 0.1882\n",
      "2022-02-11 16:09:55,210 - mmdet - INFO - Epoch [11][1000/1061]\tlr: 5.000e-05, eta: 6:17:31, time: 0.568, data_time: 0.011, memory: 21208, loss_rpn_cls: 0.0072, loss_rpn_bbox: 0.0081, loss_cls: 0.0556, acc: 97.8086, loss_bbox: 0.1231, loss: 0.1941\n",
      "2022-02-11 16:10:29,262 - mmdet - INFO - Saving checkpoint at 11 epochs\n"
     ]
    },
    {
     "name": "stdout",
     "output_type": "stream",
     "text": [
      "[>>>>>>>>>>>>>>>>>>>>>>>>>>] 8561/8561, 13.3 task/s, elapsed: 645s, ETA:     0s"
     ]
    },
    {
     "name": "stderr",
     "output_type": "stream",
     "text": [
      "2022-02-11 16:21:15,953 - mmdet - INFO - Evaluating bbox...\n"
     ]
    },
    {
     "name": "stdout",
     "output_type": "stream",
     "text": [
      "Loading and preparing results...\n",
      "DONE (t=0.02s)\n",
      "creating index...\n",
      "index created!\n",
      "Running per image evaluation...\n",
      "Evaluate annotation type *bbox*\n",
      "DONE (t=2.36s).\n",
      "Accumulating evaluation results...\n"
     ]
    },
    {
     "name": "stderr",
     "output_type": "stream",
     "text": [
      "2022-02-11 16:21:18,988 - mmdet - INFO - \n",
      " Average Precision  (AP) @[ IoU=0.50:0.95 | area=   all | maxDets=100 ] = 0.332\n",
      " Average Precision  (AP) @[ IoU=0.50      | area=   all | maxDets=1000 ] = 0.729\n",
      " Average Precision  (AP) @[ IoU=0.75      | area=   all | maxDets=1000 ] = 0.229\n",
      " Average Precision  (AP) @[ IoU=0.50:0.95 | area= small | maxDets=1000 ] = 0.123\n",
      " Average Precision  (AP) @[ IoU=0.50:0.95 | area=medium | maxDets=1000 ] = 0.385\n",
      " Average Precision  (AP) @[ IoU=0.50:0.95 | area= large | maxDets=1000 ] = -1.000\n",
      " Average Recall     (AR) @[ IoU=0.50:0.95 | area=   all | maxDets=100 ] = 0.419\n",
      " Average Recall     (AR) @[ IoU=0.50:0.95 | area=   all | maxDets=300 ] = 0.419\n",
      " Average Recall     (AR) @[ IoU=0.50:0.95 | area=   all | maxDets=1000 ] = 0.419\n",
      " Average Recall     (AR) @[ IoU=0.50:0.95 | area= small | maxDets=1000 ] = 0.268\n",
      " Average Recall     (AR) @[ IoU=0.50:0.95 | area=medium | maxDets=1000 ] = 0.466\n",
      " Average Recall     (AR) @[ IoU=0.50:0.95 | area= large | maxDets=1000 ] = -1.000\n",
      "\n",
      "2022-02-11 16:21:19,096 - mmdet - INFO - The previous best checkpoint /app/_data/for_mmdet/frcnn/best_bbox_mAP_epoch_9.pth was removed\n"
     ]
    },
    {
     "name": "stdout",
     "output_type": "stream",
     "text": [
      "DONE (t=0.43s).\n"
     ]
    },
    {
     "name": "stderr",
     "output_type": "stream",
     "text": [
      "2022-02-11 16:21:20,724 - mmdet - INFO - Now best checkpoint is saved as best_bbox_mAP_epoch_11.pth.\n",
      "2022-02-11 16:21:20,725 - mmdet - INFO - Best bbox_mAP is 0.3320 at 11 epoch.\n",
      "2022-02-11 16:21:20,742 - mmdet - INFO - Epoch(val) [11][8561]\tbbox_mAP: 0.3320, bbox_mAP_50: 0.7290, bbox_mAP_75: 0.2290, bbox_mAP_s: 0.1230, bbox_mAP_m: 0.3850, bbox_mAP_l: -1.0000, bbox_mAP_copypaste: 0.332 0.729 0.229 0.123 0.385 -1.000\n",
      "2022-02-11 16:23:16,662 - mmdet - INFO - Epoch [12][200/1061]\tlr: 5.000e-06, eta: 6:13:35, time: 0.579, data_time: 0.024, memory: 21208, loss_rpn_cls: 0.0075, loss_rpn_bbox: 0.0077, loss_cls: 0.0549, acc: 97.8831, loss_bbox: 0.1213, loss: 0.1915\n",
      "2022-02-11 16:25:09,512 - mmdet - INFO - Epoch [12][400/1061]\tlr: 5.000e-06, eta: 6:12:00, time: 0.564, data_time: 0.011, memory: 21208, loss_rpn_cls: 0.0071, loss_rpn_bbox: 0.0074, loss_cls: 0.0521, acc: 97.9653, loss_bbox: 0.1170, loss: 0.1835\n",
      "2022-02-11 16:27:04,702 - mmdet - INFO - Epoch [12][600/1061]\tlr: 5.000e-06, eta: 6:10:32, time: 0.576, data_time: 0.011, memory: 21208, loss_rpn_cls: 0.0066, loss_rpn_bbox: 0.0074, loss_cls: 0.0534, acc: 97.9363, loss_bbox: 0.1210, loss: 0.1883\n",
      "2022-02-11 16:28:59,177 - mmdet - INFO - Epoch [12][800/1061]\tlr: 5.000e-06, eta: 6:09:01, time: 0.572, data_time: 0.011, memory: 21208, loss_rpn_cls: 0.0082, loss_rpn_bbox: 0.0082, loss_cls: 0.0561, acc: 97.8564, loss_bbox: 0.1260, loss: 0.1985\n",
      "2022-02-11 16:30:53,896 - mmdet - INFO - Epoch [12][1000/1061]\tlr: 5.000e-06, eta: 6:07:29, time: 0.574, data_time: 0.011, memory: 21208, loss_rpn_cls: 0.0062, loss_rpn_bbox: 0.0079, loss_cls: 0.0561, acc: 97.8315, loss_bbox: 0.1260, loss: 0.1962\n",
      "2022-02-11 16:31:28,498 - mmdet - INFO - Saving checkpoint at 12 epochs\n"
     ]
    },
    {
     "name": "stdout",
     "output_type": "stream",
     "text": [
      "[>>>>>>>>>>>>>>>>>>>>>>>>>>] 8561/8561, 13.3 task/s, elapsed: 644s, ETA:     0s"
     ]
    },
    {
     "name": "stderr",
     "output_type": "stream",
     "text": [
      "2022-02-11 16:42:15,027 - mmdet - INFO - Evaluating bbox...\n"
     ]
    },
    {
     "name": "stdout",
     "output_type": "stream",
     "text": [
      "Loading and preparing results...\n",
      "DONE (t=0.02s)\n",
      "creating index...\n",
      "index created!\n",
      "Running per image evaluation...\n",
      "Evaluate annotation type *bbox*\n",
      "DONE (t=2.73s).\n",
      "Accumulating evaluation results...\n"
     ]
    },
    {
     "name": "stderr",
     "output_type": "stream",
     "text": [
      "2022-02-11 16:42:18,344 - mmdet - INFO - \n",
      " Average Precision  (AP) @[ IoU=0.50:0.95 | area=   all | maxDets=100 ] = 0.343\n",
      " Average Precision  (AP) @[ IoU=0.50      | area=   all | maxDets=1000 ] = 0.748\n",
      " Average Precision  (AP) @[ IoU=0.75      | area=   all | maxDets=1000 ] = 0.236\n",
      " Average Precision  (AP) @[ IoU=0.50:0.95 | area= small | maxDets=1000 ] = 0.136\n",
      " Average Precision  (AP) @[ IoU=0.50:0.95 | area=medium | maxDets=1000 ] = 0.395\n",
      " Average Precision  (AP) @[ IoU=0.50:0.95 | area= large | maxDets=1000 ] = -1.000\n",
      " Average Recall     (AR) @[ IoU=0.50:0.95 | area=   all | maxDets=100 ] = 0.435\n",
      " Average Recall     (AR) @[ IoU=0.50:0.95 | area=   all | maxDets=300 ] = 0.435\n",
      " Average Recall     (AR) @[ IoU=0.50:0.95 | area=   all | maxDets=1000 ] = 0.435\n",
      " Average Recall     (AR) @[ IoU=0.50:0.95 | area= small | maxDets=1000 ] = 0.294\n",
      " Average Recall     (AR) @[ IoU=0.50:0.95 | area=medium | maxDets=1000 ] = 0.478\n",
      " Average Recall     (AR) @[ IoU=0.50:0.95 | area= large | maxDets=1000 ] = -1.000\n",
      "\n",
      "2022-02-11 16:42:18,453 - mmdet - INFO - The previous best checkpoint /app/_data/for_mmdet/frcnn/best_bbox_mAP_epoch_11.pth was removed\n"
     ]
    },
    {
     "name": "stdout",
     "output_type": "stream",
     "text": [
      "DONE (t=0.52s).\n"
     ]
    },
    {
     "name": "stderr",
     "output_type": "stream",
     "text": [
      "2022-02-11 16:42:20,067 - mmdet - INFO - Now best checkpoint is saved as best_bbox_mAP_epoch_12.pth.\n",
      "2022-02-11 16:42:20,069 - mmdet - INFO - Best bbox_mAP is 0.3430 at 12 epoch.\n",
      "2022-02-11 16:42:20,073 - mmdet - INFO - Epoch(val) [12][8561]\tbbox_mAP: 0.3430, bbox_mAP_50: 0.7480, bbox_mAP_75: 0.2360, bbox_mAP_s: 0.1360, bbox_mAP_m: 0.3950, bbox_mAP_l: -1.0000, bbox_mAP_copypaste: 0.343 0.748 0.236 0.136 0.395 -1.000\n",
      "2022-02-11 16:44:19,603 - mmdet - INFO - Epoch [13][200/1061]\tlr: 5.000e-06, eta: 6:03:55, time: 0.598, data_time: 0.024, memory: 21208, loss_rpn_cls: 0.0069, loss_rpn_bbox: 0.0079, loss_cls: 0.0530, acc: 97.9443, loss_bbox: 0.1203, loss: 0.1880\n",
      "2022-02-11 16:46:13,651 - mmdet - INFO - Epoch [13][400/1061]\tlr: 5.000e-06, eta: 6:02:22, time: 0.570, data_time: 0.011, memory: 21208, loss_rpn_cls: 0.0070, loss_rpn_bbox: 0.0074, loss_cls: 0.0511, acc: 97.9866, loss_bbox: 0.1190, loss: 0.1845\n",
      "2022-02-11 16:48:06,656 - mmdet - INFO - Epoch [13][600/1061]\tlr: 5.000e-06, eta: 6:00:45, time: 0.565, data_time: 0.011, memory: 21208, loss_rpn_cls: 0.0059, loss_rpn_bbox: 0.0072, loss_cls: 0.0503, acc: 98.0090, loss_bbox: 0.1135, loss: 0.1768\n",
      "2022-02-11 16:50:00,648 - mmdet - INFO - Epoch [13][800/1061]\tlr: 5.000e-06, eta: 5:59:11, time: 0.570, data_time: 0.011, memory: 21208, loss_rpn_cls: 0.0075, loss_rpn_bbox: 0.0078, loss_cls: 0.0547, acc: 97.8579, loss_bbox: 0.1237, loss: 0.1937\n",
      "2022-02-11 16:51:55,449 - mmdet - INFO - Epoch [13][1000/1061]\tlr: 5.000e-06, eta: 5:57:38, time: 0.574, data_time: 0.011, memory: 21208, loss_rpn_cls: 0.0061, loss_rpn_bbox: 0.0072, loss_cls: 0.0514, acc: 98.0100, loss_bbox: 0.1156, loss: 0.1804\n",
      "2022-02-11 16:52:30,560 - mmdet - INFO - Saving checkpoint at 13 epochs\n"
     ]
    },
    {
     "name": "stdout",
     "output_type": "stream",
     "text": [
      "[>>>>>>>>>>>>>>>>>>>>>>>>>>] 8561/8561, 13.3 task/s, elapsed: 643s, ETA:     0s"
     ]
    },
    {
     "name": "stderr",
     "output_type": "stream",
     "text": [
      "2022-02-11 17:03:15,525 - mmdet - INFO - Evaluating bbox...\n"
     ]
    },
    {
     "name": "stdout",
     "output_type": "stream",
     "text": [
      "Loading and preparing results...\n",
      "DONE (t=0.02s)\n",
      "creating index...\n",
      "index created!\n",
      "Running per image evaluation...\n",
      "Evaluate annotation type *bbox*\n",
      "DONE (t=2.66s).\n",
      "Accumulating evaluation results...\n"
     ]
    },
    {
     "name": "stderr",
     "output_type": "stream",
     "text": [
      "2022-02-11 17:03:18,752 - mmdet - INFO - \n",
      " Average Precision  (AP) @[ IoU=0.50:0.95 | area=   all | maxDets=100 ] = 0.338\n",
      " Average Precision  (AP) @[ IoU=0.50      | area=   all | maxDets=1000 ] = 0.742\n",
      " Average Precision  (AP) @[ IoU=0.75      | area=   all | maxDets=1000 ] = 0.230\n",
      " Average Precision  (AP) @[ IoU=0.50:0.95 | area= small | maxDets=1000 ] = 0.126\n",
      " Average Precision  (AP) @[ IoU=0.50:0.95 | area=medium | maxDets=1000 ] = 0.391\n",
      " Average Precision  (AP) @[ IoU=0.50:0.95 | area= large | maxDets=1000 ] = -1.000\n",
      " Average Recall     (AR) @[ IoU=0.50:0.95 | area=   all | maxDets=100 ] = 0.428\n",
      " Average Recall     (AR) @[ IoU=0.50:0.95 | area=   all | maxDets=300 ] = 0.428\n",
      " Average Recall     (AR) @[ IoU=0.50:0.95 | area=   all | maxDets=1000 ] = 0.428\n",
      " Average Recall     (AR) @[ IoU=0.50:0.95 | area= small | maxDets=1000 ] = 0.284\n",
      " Average Recall     (AR) @[ IoU=0.50:0.95 | area=medium | maxDets=1000 ] = 0.472\n",
      " Average Recall     (AR) @[ IoU=0.50:0.95 | area= large | maxDets=1000 ] = -1.000\n",
      "\n",
      "2022-02-11 17:03:18,785 - mmdet - INFO - Epoch(val) [13][8561]\tbbox_mAP: 0.3380, bbox_mAP_50: 0.7420, bbox_mAP_75: 0.2300, bbox_mAP_s: 0.1260, bbox_mAP_m: 0.3910, bbox_mAP_l: -1.0000, bbox_mAP_copypaste: 0.338 0.742 0.230 0.126 0.391 -1.000\n"
     ]
    },
    {
     "name": "stdout",
     "output_type": "stream",
     "text": [
      "DONE (t=0.50s).\n"
     ]
    },
    {
     "name": "stderr",
     "output_type": "stream",
     "text": [
      "2022-02-11 17:05:17,897 - mmdet - INFO - Epoch [14][200/1061]\tlr: 5.000e-06, eta: 5:54:11, time: 0.595, data_time: 0.025, memory: 21208, loss_rpn_cls: 0.0067, loss_rpn_bbox: 0.0077, loss_cls: 0.0532, acc: 97.9080, loss_bbox: 0.1217, loss: 0.1893\n",
      "2022-02-11 17:07:11,744 - mmdet - INFO - Epoch [14][400/1061]\tlr: 5.000e-06, eta: 5:52:36, time: 0.569, data_time: 0.011, memory: 21208, loss_rpn_cls: 0.0055, loss_rpn_bbox: 0.0073, loss_cls: 0.0540, acc: 97.8787, loss_bbox: 0.1205, loss: 0.1874\n",
      "2022-02-11 17:09:06,357 - mmdet - INFO - Epoch [14][600/1061]\tlr: 5.000e-06, eta: 5:51:02, time: 0.573, data_time: 0.011, memory: 21208, loss_rpn_cls: 0.0063, loss_rpn_bbox: 0.0074, loss_cls: 0.0536, acc: 97.9368, loss_bbox: 0.1216, loss: 0.1888\n",
      "2022-02-11 17:10:59,814 - mmdet - INFO - Epoch [14][800/1061]\tlr: 5.000e-06, eta: 5:49:25, time: 0.567, data_time: 0.011, memory: 21208, loss_rpn_cls: 0.0070, loss_rpn_bbox: 0.0075, loss_cls: 0.0509, acc: 98.0085, loss_bbox: 0.1154, loss: 0.1808\n",
      "2022-02-11 17:12:54,632 - mmdet - INFO - Epoch [14][1000/1061]\tlr: 5.000e-06, eta: 5:47:51, time: 0.574, data_time: 0.011, memory: 21208, loss_rpn_cls: 0.0074, loss_rpn_bbox: 0.0077, loss_cls: 0.0525, acc: 97.9512, loss_bbox: 0.1177, loss: 0.1852\n",
      "2022-02-11 17:13:29,208 - mmdet - INFO - Saving checkpoint at 14 epochs\n"
     ]
    },
    {
     "name": "stdout",
     "output_type": "stream",
     "text": [
      "[>>>>>>>>>>>>>>>>>>>>>>>>>>] 8561/8561, 13.2 task/s, elapsed: 648s, ETA:     0s"
     ]
    },
    {
     "name": "stderr",
     "output_type": "stream",
     "text": [
      "2022-02-11 17:24:18,723 - mmdet - INFO - Evaluating bbox...\n"
     ]
    },
    {
     "name": "stdout",
     "output_type": "stream",
     "text": [
      "Loading and preparing results...\n",
      "DONE (t=0.21s)\n",
      "creating index...\n",
      "index created!\n",
      "Running per image evaluation...\n",
      "Evaluate annotation type *bbox*\n",
      "DONE (t=2.63s).\n",
      "Accumulating evaluation results...\n"
     ]
    },
    {
     "name": "stderr",
     "output_type": "stream",
     "text": [
      "2022-02-11 17:24:22,172 - mmdet - INFO - \n",
      " Average Precision  (AP) @[ IoU=0.50:0.95 | area=   all | maxDets=100 ] = 0.343\n",
      " Average Precision  (AP) @[ IoU=0.50      | area=   all | maxDets=1000 ] = 0.744\n",
      " Average Precision  (AP) @[ IoU=0.75      | area=   all | maxDets=1000 ] = 0.239\n",
      " Average Precision  (AP) @[ IoU=0.50:0.95 | area= small | maxDets=1000 ] = 0.124\n",
      " Average Precision  (AP) @[ IoU=0.50:0.95 | area=medium | maxDets=1000 ] = 0.398\n",
      " Average Precision  (AP) @[ IoU=0.50:0.95 | area= large | maxDets=1000 ] = -1.000\n",
      " Average Recall     (AR) @[ IoU=0.50:0.95 | area=   all | maxDets=100 ] = 0.434\n",
      " Average Recall     (AR) @[ IoU=0.50:0.95 | area=   all | maxDets=300 ] = 0.434\n",
      " Average Recall     (AR) @[ IoU=0.50:0.95 | area=   all | maxDets=1000 ] = 0.434\n",
      " Average Recall     (AR) @[ IoU=0.50:0.95 | area= small | maxDets=1000 ] = 0.289\n",
      " Average Recall     (AR) @[ IoU=0.50:0.95 | area=medium | maxDets=1000 ] = 0.479\n",
      " Average Recall     (AR) @[ IoU=0.50:0.95 | area= large | maxDets=1000 ] = -1.000\n",
      "\n",
      "2022-02-11 17:24:22,209 - mmdet - INFO - Epoch(val) [14][8561]\tbbox_mAP: 0.3430, bbox_mAP_50: 0.7440, bbox_mAP_75: 0.2390, bbox_mAP_s: 0.1240, bbox_mAP_m: 0.3980, bbox_mAP_l: -1.0000, bbox_mAP_copypaste: 0.343 0.744 0.239 0.124 0.398 -1.000\n"
     ]
    },
    {
     "name": "stdout",
     "output_type": "stream",
     "text": [
      "DONE (t=0.55s).\n"
     ]
    },
    {
     "name": "stderr",
     "output_type": "stream",
     "text": [
      "2022-02-11 17:26:17,210 - mmdet - INFO - Epoch [15][200/1061]\tlr: 5.000e-06, eta: 5:44:19, time: 0.575, data_time: 0.024, memory: 21208, loss_rpn_cls: 0.0066, loss_rpn_bbox: 0.0076, loss_cls: 0.0521, acc: 97.9783, loss_bbox: 0.1170, loss: 0.1832\n",
      "2022-02-11 17:28:10,375 - mmdet - INFO - Epoch [15][400/1061]\tlr: 5.000e-06, eta: 5:42:41, time: 0.566, data_time: 0.011, memory: 21208, loss_rpn_cls: 0.0059, loss_rpn_bbox: 0.0074, loss_cls: 0.0539, acc: 97.8889, loss_bbox: 0.1181, loss: 0.1852\n",
      "2022-02-11 17:30:04,342 - mmdet - INFO - Epoch [15][600/1061]\tlr: 5.000e-06, eta: 5:41:05, time: 0.570, data_time: 0.011, memory: 21208, loss_rpn_cls: 0.0072, loss_rpn_bbox: 0.0075, loss_cls: 0.0521, acc: 97.9790, loss_bbox: 0.1172, loss: 0.1840\n",
      "2022-02-11 17:32:00,567 - mmdet - INFO - Epoch [15][800/1061]\tlr: 5.000e-06, eta: 5:39:34, time: 0.581, data_time: 0.011, memory: 21208, loss_rpn_cls: 0.0052, loss_rpn_bbox: 0.0071, loss_cls: 0.0493, acc: 98.0488, loss_bbox: 0.1139, loss: 0.1754\n",
      "2022-02-11 17:33:54,690 - mmdet - INFO - Epoch [15][1000/1061]\tlr: 5.000e-06, eta: 5:37:57, time: 0.571, data_time: 0.011, memory: 21208, loss_rpn_cls: 0.0089, loss_rpn_bbox: 0.0077, loss_cls: 0.0538, acc: 97.9663, loss_bbox: 0.1207, loss: 0.1912\n",
      "2022-02-11 17:34:29,830 - mmdet - INFO - Saving checkpoint at 15 epochs\n"
     ]
    },
    {
     "name": "stdout",
     "output_type": "stream",
     "text": [
      "[>>>>>>>>>>>>>>>>>>>>>>>>>>] 8561/8561, 13.2 task/s, elapsed: 651s, ETA:     0s"
     ]
    },
    {
     "name": "stderr",
     "output_type": "stream",
     "text": [
      "2022-02-11 17:45:22,347 - mmdet - INFO - Evaluating bbox...\n"
     ]
    },
    {
     "name": "stdout",
     "output_type": "stream",
     "text": [
      "Loading and preparing results...\n",
      "DONE (t=0.02s)\n",
      "creating index...\n",
      "index created!\n",
      "Running per image evaluation...\n",
      "Evaluate annotation type *bbox*\n",
      "DONE (t=2.58s).\n",
      "Accumulating evaluation results...\n"
     ]
    },
    {
     "name": "stderr",
     "output_type": "stream",
     "text": [
      "2022-02-11 17:45:25,459 - mmdet - INFO - \n",
      " Average Precision  (AP) @[ IoU=0.50:0.95 | area=   all | maxDets=100 ] = 0.341\n",
      " Average Precision  (AP) @[ IoU=0.50      | area=   all | maxDets=1000 ] = 0.741\n",
      " Average Precision  (AP) @[ IoU=0.75      | area=   all | maxDets=1000 ] = 0.240\n",
      " Average Precision  (AP) @[ IoU=0.50:0.95 | area= small | maxDets=1000 ] = 0.124\n",
      " Average Precision  (AP) @[ IoU=0.50:0.95 | area=medium | maxDets=1000 ] = 0.396\n",
      " Average Precision  (AP) @[ IoU=0.50:0.95 | area= large | maxDets=1000 ] = -1.000\n",
      " Average Recall     (AR) @[ IoU=0.50:0.95 | area=   all | maxDets=100 ] = 0.431\n",
      " Average Recall     (AR) @[ IoU=0.50:0.95 | area=   all | maxDets=300 ] = 0.431\n",
      " Average Recall     (AR) @[ IoU=0.50:0.95 | area=   all | maxDets=1000 ] = 0.431\n",
      " Average Recall     (AR) @[ IoU=0.50:0.95 | area= small | maxDets=1000 ] = 0.284\n",
      " Average Recall     (AR) @[ IoU=0.50:0.95 | area=medium | maxDets=1000 ] = 0.477\n",
      " Average Recall     (AR) @[ IoU=0.50:0.95 | area= large | maxDets=1000 ] = -1.000\n",
      "\n",
      "2022-02-11 17:45:25,495 - mmdet - INFO - Epoch(val) [15][8561]\tbbox_mAP: 0.3410, bbox_mAP_50: 0.7410, bbox_mAP_75: 0.2400, bbox_mAP_s: 0.1240, bbox_mAP_m: 0.3960, bbox_mAP_l: -1.0000, bbox_mAP_copypaste: 0.341 0.741 0.240 0.124 0.396 -1.000\n"
     ]
    },
    {
     "name": "stdout",
     "output_type": "stream",
     "text": [
      "DONE (t=0.47s).\n"
     ]
    },
    {
     "name": "stderr",
     "output_type": "stream",
     "text": [
      "2022-02-11 17:47:23,982 - mmdet - INFO - Epoch [16][200/1061]\tlr: 5.000e-06, eta: 5:34:40, time: 0.592, data_time: 0.024, memory: 21208, loss_rpn_cls: 0.0062, loss_rpn_bbox: 0.0073, loss_cls: 0.0518, acc: 97.9641, loss_bbox: 0.1180, loss: 0.1832\n",
      "2022-02-11 17:49:18,261 - mmdet - INFO - Epoch [16][400/1061]\tlr: 5.000e-06, eta: 5:33:04, time: 0.571, data_time: 0.011, memory: 21208, loss_rpn_cls: 0.0064, loss_rpn_bbox: 0.0073, loss_cls: 0.0538, acc: 97.9058, loss_bbox: 0.1170, loss: 0.1845\n",
      "2022-02-11 17:51:11,875 - mmdet - INFO - Epoch [16][600/1061]\tlr: 5.000e-06, eta: 5:31:26, time: 0.568, data_time: 0.011, memory: 21208, loss_rpn_cls: 0.0053, loss_rpn_bbox: 0.0072, loss_cls: 0.0519, acc: 97.9253, loss_bbox: 0.1167, loss: 0.1811\n",
      "2022-02-11 17:53:06,793 - mmdet - INFO - Epoch [16][800/1061]\tlr: 5.000e-06, eta: 5:29:50, time: 0.575, data_time: 0.011, memory: 21208, loss_rpn_cls: 0.0064, loss_rpn_bbox: 0.0072, loss_cls: 0.0523, acc: 97.9683, loss_bbox: 0.1211, loss: 0.1870\n",
      "2022-02-11 17:54:59,300 - mmdet - INFO - Epoch [16][1000/1061]\tlr: 5.000e-06, eta: 5:28:09, time: 0.563, data_time: 0.011, memory: 21208, loss_rpn_cls: 0.0066, loss_rpn_bbox: 0.0073, loss_cls: 0.0529, acc: 97.9617, loss_bbox: 0.1198, loss: 0.1865\n",
      "2022-02-11 17:55:34,207 - mmdet - INFO - Saving checkpoint at 16 epochs\n"
     ]
    },
    {
     "name": "stdout",
     "output_type": "stream",
     "text": [
      "[>>>>>>>>>>>>>>>>>>>>>>>>>>] 8561/8561, 13.2 task/s, elapsed: 647s, ETA:     0s"
     ]
    },
    {
     "name": "stderr",
     "output_type": "stream",
     "text": [
      "2022-02-11 18:06:23,202 - mmdet - INFO - Evaluating bbox...\n"
     ]
    },
    {
     "name": "stdout",
     "output_type": "stream",
     "text": [
      "Loading and preparing results...\n",
      "DONE (t=0.02s)\n",
      "creating index...\n",
      "index created!\n",
      "Running per image evaluation...\n",
      "Evaluate annotation type *bbox*\n",
      "DONE (t=2.82s).\n",
      "Accumulating evaluation results...\n"
     ]
    },
    {
     "name": "stderr",
     "output_type": "stream",
     "text": [
      "2022-02-11 18:06:26,646 - mmdet - INFO - \n",
      " Average Precision  (AP) @[ IoU=0.50:0.95 | area=   all | maxDets=100 ] = 0.344\n",
      " Average Precision  (AP) @[ IoU=0.50      | area=   all | maxDets=1000 ] = 0.740\n",
      " Average Precision  (AP) @[ IoU=0.75      | area=   all | maxDets=1000 ] = 0.240\n",
      " Average Precision  (AP) @[ IoU=0.50:0.95 | area= small | maxDets=1000 ] = 0.122\n",
      " Average Precision  (AP) @[ IoU=0.50:0.95 | area=medium | maxDets=1000 ] = 0.399\n",
      " Average Precision  (AP) @[ IoU=0.50:0.95 | area= large | maxDets=1000 ] = -1.000\n",
      " Average Recall     (AR) @[ IoU=0.50:0.95 | area=   all | maxDets=100 ] = 0.432\n",
      " Average Recall     (AR) @[ IoU=0.50:0.95 | area=   all | maxDets=300 ] = 0.432\n",
      " Average Recall     (AR) @[ IoU=0.50:0.95 | area=   all | maxDets=1000 ] = 0.432\n",
      " Average Recall     (AR) @[ IoU=0.50:0.95 | area= small | maxDets=1000 ] = 0.282\n",
      " Average Recall     (AR) @[ IoU=0.50:0.95 | area=medium | maxDets=1000 ] = 0.479\n",
      " Average Recall     (AR) @[ IoU=0.50:0.95 | area= large | maxDets=1000 ] = -1.000\n",
      "\n",
      "2022-02-11 18:06:26,757 - mmdet - INFO - The previous best checkpoint /app/_data/for_mmdet/frcnn/best_bbox_mAP_epoch_12.pth was removed\n"
     ]
    },
    {
     "name": "stdout",
     "output_type": "stream",
     "text": [
      "DONE (t=0.55s).\n"
     ]
    },
    {
     "name": "stderr",
     "output_type": "stream",
     "text": [
      "2022-02-11 18:06:28,373 - mmdet - INFO - Now best checkpoint is saved as best_bbox_mAP_epoch_16.pth.\n",
      "2022-02-11 18:06:28,374 - mmdet - INFO - Best bbox_mAP is 0.3440 at 16 epoch.\n",
      "2022-02-11 18:06:28,379 - mmdet - INFO - Epoch(val) [16][8561]\tbbox_mAP: 0.3440, bbox_mAP_50: 0.7400, bbox_mAP_75: 0.2400, bbox_mAP_s: 0.1220, bbox_mAP_m: 0.3990, bbox_mAP_l: -1.0000, bbox_mAP_copypaste: 0.344 0.740 0.240 0.122 0.399 -1.000\n",
      "2022-02-11 18:08:27,296 - mmdet - INFO - Epoch [17][200/1061]\tlr: 5.000e-06, eta: 5:24:58, time: 0.594, data_time: 0.024, memory: 21208, loss_rpn_cls: 0.0063, loss_rpn_bbox: 0.0075, loss_cls: 0.0524, acc: 97.9475, loss_bbox: 0.1181, loss: 0.1844\n",
      "2022-02-11 18:10:19,753 - mmdet - INFO - Epoch [17][400/1061]\tlr: 5.000e-06, eta: 5:23:17, time: 0.562, data_time: 0.011, memory: 21208, loss_rpn_cls: 0.0069, loss_rpn_bbox: 0.0076, loss_cls: 0.0518, acc: 98.0166, loss_bbox: 0.1169, loss: 0.1832\n",
      "2022-02-11 18:12:15,612 - mmdet - INFO - Epoch [17][600/1061]\tlr: 5.000e-06, eta: 5:21:42, time: 0.579, data_time: 0.011, memory: 21208, loss_rpn_cls: 0.0060, loss_rpn_bbox: 0.0075, loss_cls: 0.0512, acc: 97.9507, loss_bbox: 0.1169, loss: 0.1816\n",
      "2022-02-11 18:14:10,639 - mmdet - INFO - Epoch [17][800/1061]\tlr: 5.000e-06, eta: 5:20:06, time: 0.575, data_time: 0.011, memory: 21208, loss_rpn_cls: 0.0075, loss_rpn_bbox: 0.0078, loss_cls: 0.0535, acc: 97.8931, loss_bbox: 0.1219, loss: 0.1908\n",
      "2022-02-11 18:16:06,736 - mmdet - INFO - Epoch [17][1000/1061]\tlr: 5.000e-06, eta: 5:18:31, time: 0.580, data_time: 0.011, memory: 21208, loss_rpn_cls: 0.0067, loss_rpn_bbox: 0.0076, loss_cls: 0.0546, acc: 97.8882, loss_bbox: 0.1201, loss: 0.1890\n",
      "2022-02-11 18:16:40,235 - mmdet - INFO - Saving checkpoint at 17 epochs\n"
     ]
    },
    {
     "name": "stdout",
     "output_type": "stream",
     "text": [
      "[>>>>>>>>>>>>>>>>>>>>>>>>>>] 8561/8561, 13.2 task/s, elapsed: 650s, ETA:     0s"
     ]
    },
    {
     "name": "stderr",
     "output_type": "stream",
     "text": [
      "2022-02-11 18:27:32,050 - mmdet - INFO - Evaluating bbox...\n"
     ]
    },
    {
     "name": "stdout",
     "output_type": "stream",
     "text": [
      "Loading and preparing results...\n",
      "DONE (t=0.02s)\n",
      "creating index...\n",
      "index created!\n",
      "Running per image evaluation...\n",
      "Evaluate annotation type *bbox*\n",
      "DONE (t=2.57s).\n",
      "Accumulating evaluation results...\n"
     ]
    },
    {
     "name": "stderr",
     "output_type": "stream",
     "text": [
      "2022-02-11 18:27:35,179 - mmdet - INFO - \n",
      " Average Precision  (AP) @[ IoU=0.50:0.95 | area=   all | maxDets=100 ] = 0.343\n",
      " Average Precision  (AP) @[ IoU=0.50      | area=   all | maxDets=1000 ] = 0.740\n",
      " Average Precision  (AP) @[ IoU=0.75      | area=   all | maxDets=1000 ] = 0.246\n",
      " Average Precision  (AP) @[ IoU=0.50:0.95 | area= small | maxDets=1000 ] = 0.121\n",
      " Average Precision  (AP) @[ IoU=0.50:0.95 | area=medium | maxDets=1000 ] = 0.398\n",
      " Average Precision  (AP) @[ IoU=0.50:0.95 | area= large | maxDets=1000 ] = -1.000\n",
      " Average Recall     (AR) @[ IoU=0.50:0.95 | area=   all | maxDets=100 ] = 0.430\n",
      " Average Recall     (AR) @[ IoU=0.50:0.95 | area=   all | maxDets=300 ] = 0.430\n",
      " Average Recall     (AR) @[ IoU=0.50:0.95 | area=   all | maxDets=1000 ] = 0.430\n",
      " Average Recall     (AR) @[ IoU=0.50:0.95 | area= small | maxDets=1000 ] = 0.282\n",
      " Average Recall     (AR) @[ IoU=0.50:0.95 | area=medium | maxDets=1000 ] = 0.476\n",
      " Average Recall     (AR) @[ IoU=0.50:0.95 | area= large | maxDets=1000 ] = -1.000\n",
      "\n",
      "2022-02-11 18:27:35,211 - mmdet - INFO - Epoch(val) [17][8561]\tbbox_mAP: 0.3430, bbox_mAP_50: 0.7400, bbox_mAP_75: 0.2460, bbox_mAP_s: 0.1210, bbox_mAP_m: 0.3980, bbox_mAP_l: -1.0000, bbox_mAP_copypaste: 0.343 0.740 0.246 0.121 0.398 -1.000\n"
     ]
    },
    {
     "name": "stdout",
     "output_type": "stream",
     "text": [
      "DONE (t=0.47s).\n"
     ]
    },
    {
     "name": "stderr",
     "output_type": "stream",
     "text": [
      "2022-02-11 18:29:32,925 - mmdet - INFO - Epoch [18][200/1061]\tlr: 5.000e-06, eta: 5:15:22, time: 0.588, data_time: 0.024, memory: 21208, loss_rpn_cls: 0.0061, loss_rpn_bbox: 0.0080, loss_cls: 0.0547, acc: 97.8411, loss_bbox: 0.1246, loss: 0.1934\n",
      "2022-02-11 18:31:27,115 - mmdet - INFO - Epoch [18][400/1061]\tlr: 5.000e-06, eta: 5:13:44, time: 0.571, data_time: 0.011, memory: 21208, loss_rpn_cls: 0.0069, loss_rpn_bbox: 0.0068, loss_cls: 0.0521, acc: 98.0142, loss_bbox: 0.1140, loss: 0.1798\n",
      "2022-02-11 18:33:20,266 - mmdet - INFO - Epoch [18][600/1061]\tlr: 5.000e-06, eta: 5:12:03, time: 0.566, data_time: 0.011, memory: 21208, loss_rpn_cls: 0.0061, loss_rpn_bbox: 0.0073, loss_cls: 0.0535, acc: 97.9006, loss_bbox: 0.1210, loss: 0.1878\n",
      "2022-02-11 18:35:15,746 - mmdet - INFO - Epoch [18][800/1061]\tlr: 5.000e-06, eta: 5:10:26, time: 0.577, data_time: 0.011, memory: 21208, loss_rpn_cls: 0.0076, loss_rpn_bbox: 0.0073, loss_cls: 0.0514, acc: 98.0361, loss_bbox: 0.1126, loss: 0.1789\n",
      "2022-02-11 18:37:12,411 - mmdet - INFO - Epoch [18][1000/1061]\tlr: 5.000e-06, eta: 5:08:51, time: 0.583, data_time: 0.011, memory: 21208, loss_rpn_cls: 0.0070, loss_rpn_bbox: 0.0075, loss_cls: 0.0536, acc: 97.9233, loss_bbox: 0.1218, loss: 0.1899\n",
      "2022-02-11 18:37:46,717 - mmdet - INFO - Saving checkpoint at 18 epochs\n"
     ]
    },
    {
     "name": "stdout",
     "output_type": "stream",
     "text": [
      "[>>>>>>>>>>>>>>>>>>>>>>>>>>] 8561/8561, 13.2 task/s, elapsed: 649s, ETA:     0s"
     ]
    },
    {
     "name": "stderr",
     "output_type": "stream",
     "text": [
      "2022-02-11 18:48:37,873 - mmdet - INFO - Evaluating bbox...\n"
     ]
    },
    {
     "name": "stdout",
     "output_type": "stream",
     "text": [
      "Loading and preparing results...\n",
      "DONE (t=0.02s)\n",
      "creating index...\n",
      "index created!\n",
      "Running per image evaluation...\n",
      "Evaluate annotation type *bbox*\n",
      "DONE (t=2.55s).\n",
      "Accumulating evaluation results...\n"
     ]
    },
    {
     "name": "stderr",
     "output_type": "stream",
     "text": [
      "2022-02-11 18:48:40,958 - mmdet - INFO - \n",
      " Average Precision  (AP) @[ IoU=0.50:0.95 | area=   all | maxDets=100 ] = 0.338\n",
      " Average Precision  (AP) @[ IoU=0.50      | area=   all | maxDets=1000 ] = 0.737\n",
      " Average Precision  (AP) @[ IoU=0.75      | area=   all | maxDets=1000 ] = 0.232\n",
      " Average Precision  (AP) @[ IoU=0.50:0.95 | area= small | maxDets=1000 ] = 0.120\n",
      " Average Precision  (AP) @[ IoU=0.50:0.95 | area=medium | maxDets=1000 ] = 0.392\n",
      " Average Precision  (AP) @[ IoU=0.50:0.95 | area= large | maxDets=1000 ] = -1.000\n",
      " Average Recall     (AR) @[ IoU=0.50:0.95 | area=   all | maxDets=100 ] = 0.427\n",
      " Average Recall     (AR) @[ IoU=0.50:0.95 | area=   all | maxDets=300 ] = 0.427\n",
      " Average Recall     (AR) @[ IoU=0.50:0.95 | area=   all | maxDets=1000 ] = 0.427\n",
      " Average Recall     (AR) @[ IoU=0.50:0.95 | area= small | maxDets=1000 ] = 0.279\n",
      " Average Recall     (AR) @[ IoU=0.50:0.95 | area=medium | maxDets=1000 ] = 0.472\n",
      " Average Recall     (AR) @[ IoU=0.50:0.95 | area= large | maxDets=1000 ] = -1.000\n",
      "\n",
      "2022-02-11 18:48:40,990 - mmdet - INFO - Epoch(val) [18][8561]\tbbox_mAP: 0.3380, bbox_mAP_50: 0.7370, bbox_mAP_75: 0.2320, bbox_mAP_s: 0.1200, bbox_mAP_m: 0.3920, bbox_mAP_l: -1.0000, bbox_mAP_copypaste: 0.338 0.737 0.232 0.120 0.392 -1.000\n"
     ]
    },
    {
     "name": "stdout",
     "output_type": "stream",
     "text": [
      "DONE (t=0.47s).\n"
     ]
    },
    {
     "name": "stderr",
     "output_type": "stream",
     "text": [
      "2022-02-11 18:50:38,456 - mmdet - INFO - Epoch [19][200/1061]\tlr: 5.000e-06, eta: 5:05:46, time: 0.587, data_time: 0.024, memory: 21208, loss_rpn_cls: 0.0059, loss_rpn_bbox: 0.0076, loss_cls: 0.0525, acc: 97.9280, loss_bbox: 0.1205, loss: 0.1865\n",
      "2022-02-11 18:52:32,675 - mmdet - INFO - Epoch [19][400/1061]\tlr: 5.000e-06, eta: 5:04:06, time: 0.571, data_time: 0.011, memory: 21208, loss_rpn_cls: 0.0086, loss_rpn_bbox: 0.0075, loss_cls: 0.0509, acc: 98.0442, loss_bbox: 0.1142, loss: 0.1813\n",
      "2022-02-11 18:54:27,416 - mmdet - INFO - Epoch [19][600/1061]\tlr: 5.000e-06, eta: 5:02:28, time: 0.574, data_time: 0.011, memory: 21208, loss_rpn_cls: 0.0066, loss_rpn_bbox: 0.0075, loss_cls: 0.0529, acc: 97.9172, loss_bbox: 0.1201, loss: 0.1870\n",
      "2022-02-11 18:56:21,589 - mmdet - INFO - Epoch [19][800/1061]\tlr: 5.000e-06, eta: 5:00:48, time: 0.571, data_time: 0.011, memory: 21208, loss_rpn_cls: 0.0073, loss_rpn_bbox: 0.0073, loss_cls: 0.0511, acc: 97.9868, loss_bbox: 0.1154, loss: 0.1812\n",
      "2022-02-11 18:58:17,103 - mmdet - INFO - Epoch [19][1000/1061]\tlr: 5.000e-06, eta: 4:59:10, time: 0.578, data_time: 0.011, memory: 21208, loss_rpn_cls: 0.0065, loss_rpn_bbox: 0.0079, loss_cls: 0.0527, acc: 97.9060, loss_bbox: 0.1231, loss: 0.1902\n",
      "2022-02-11 18:58:51,836 - mmdet - INFO - Saving checkpoint at 19 epochs\n"
     ]
    },
    {
     "name": "stdout",
     "output_type": "stream",
     "text": [
      "[>>>>>>>>>>>>>>>>>>>>>>>>>>] 8561/8561, 13.3 task/s, elapsed: 645s, ETA:     0s"
     ]
    },
    {
     "name": "stderr",
     "output_type": "stream",
     "text": [
      "2022-02-11 19:09:38,652 - mmdet - INFO - Evaluating bbox...\n"
     ]
    },
    {
     "name": "stdout",
     "output_type": "stream",
     "text": [
      "Loading and preparing results...\n",
      "DONE (t=0.02s)\n",
      "creating index...\n",
      "index created!\n",
      "Running per image evaluation...\n",
      "Evaluate annotation type *bbox*\n",
      "DONE (t=3.04s).\n",
      "Accumulating evaluation results...\n"
     ]
    },
    {
     "name": "stderr",
     "output_type": "stream",
     "text": [
      "2022-02-11 19:09:42,266 - mmdet - INFO - \n",
      " Average Precision  (AP) @[ IoU=0.50:0.95 | area=   all | maxDets=100 ] = 0.338\n",
      " Average Precision  (AP) @[ IoU=0.50      | area=   all | maxDets=1000 ] = 0.739\n",
      " Average Precision  (AP) @[ IoU=0.75      | area=   all | maxDets=1000 ] = 0.235\n",
      " Average Precision  (AP) @[ IoU=0.50:0.95 | area= small | maxDets=1000 ] = 0.124\n",
      " Average Precision  (AP) @[ IoU=0.50:0.95 | area=medium | maxDets=1000 ] = 0.391\n",
      " Average Precision  (AP) @[ IoU=0.50:0.95 | area= large | maxDets=1000 ] = -1.000\n",
      " Average Recall     (AR) @[ IoU=0.50:0.95 | area=   all | maxDets=100 ] = 0.425\n",
      " Average Recall     (AR) @[ IoU=0.50:0.95 | area=   all | maxDets=300 ] = 0.425\n",
      " Average Recall     (AR) @[ IoU=0.50:0.95 | area=   all | maxDets=1000 ] = 0.425\n",
      " Average Recall     (AR) @[ IoU=0.50:0.95 | area= small | maxDets=1000 ] = 0.276\n",
      " Average Recall     (AR) @[ IoU=0.50:0.95 | area=medium | maxDets=1000 ] = 0.471\n",
      " Average Recall     (AR) @[ IoU=0.50:0.95 | area= large | maxDets=1000 ] = -1.000\n",
      "\n",
      "2022-02-11 19:09:42,295 - mmdet - INFO - Epoch(val) [19][8561]\tbbox_mAP: 0.3380, bbox_mAP_50: 0.7390, bbox_mAP_75: 0.2350, bbox_mAP_s: 0.1240, bbox_mAP_m: 0.3910, bbox_mAP_l: -1.0000, bbox_mAP_copypaste: 0.338 0.739 0.235 0.124 0.391 -1.000\n"
     ]
    },
    {
     "name": "stdout",
     "output_type": "stream",
     "text": [
      "DONE (t=0.51s).\n"
     ]
    },
    {
     "name": "stderr",
     "output_type": "stream",
     "text": [
      "2022-02-11 19:11:38,325 - mmdet - INFO - Epoch [20][200/1061]\tlr: 5.000e-06, eta: 4:56:06, time: 0.580, data_time: 0.024, memory: 21208, loss_rpn_cls: 0.0057, loss_rpn_bbox: 0.0073, loss_cls: 0.0519, acc: 97.9309, loss_bbox: 0.1189, loss: 0.1838\n",
      "2022-02-11 19:13:31,159 - mmdet - INFO - Epoch [20][400/1061]\tlr: 5.000e-06, eta: 4:54:24, time: 0.564, data_time: 0.011, memory: 21208, loss_rpn_cls: 0.0062, loss_rpn_bbox: 0.0069, loss_cls: 0.0487, acc: 98.1069, loss_bbox: 0.1122, loss: 0.1740\n",
      "2022-02-11 19:15:26,087 - mmdet - INFO - Epoch [20][600/1061]\tlr: 5.000e-06, eta: 4:52:44, time: 0.575, data_time: 0.011, memory: 21208, loss_rpn_cls: 0.0059, loss_rpn_bbox: 0.0073, loss_cls: 0.0543, acc: 97.8464, loss_bbox: 0.1245, loss: 0.1920\n",
      "2022-02-11 19:17:20,192 - mmdet - INFO - Epoch [20][800/1061]\tlr: 5.000e-06, eta: 4:51:04, time: 0.571, data_time: 0.011, memory: 21208, loss_rpn_cls: 0.0067, loss_rpn_bbox: 0.0073, loss_cls: 0.0500, acc: 98.0430, loss_bbox: 0.1147, loss: 0.1787\n",
      "2022-02-11 19:19:15,673 - mmdet - INFO - Epoch [20][1000/1061]\tlr: 5.000e-06, eta: 4:49:25, time: 0.577, data_time: 0.011, memory: 21208, loss_rpn_cls: 0.0066, loss_rpn_bbox: 0.0076, loss_cls: 0.0520, acc: 97.9919, loss_bbox: 0.1169, loss: 0.1830\n",
      "2022-02-11 19:19:51,402 - mmdet - INFO - Saving checkpoint at 20 epochs\n"
     ]
    },
    {
     "name": "stdout",
     "output_type": "stream",
     "text": [
      "[>>>>>>>>>>>>>>>>>>>>>>>>>>] 8561/8561, 13.2 task/s, elapsed: 648s, ETA:     0s"
     ]
    },
    {
     "name": "stderr",
     "output_type": "stream",
     "text": [
      "2022-02-11 19:30:41,267 - mmdet - INFO - Evaluating bbox...\n"
     ]
    },
    {
     "name": "stdout",
     "output_type": "stream",
     "text": [
      "Loading and preparing results...\n",
      "DONE (t=0.01s)\n",
      "creating index...\n",
      "index created!\n",
      "Running per image evaluation...\n",
      "Evaluate annotation type *bbox*\n",
      "DONE (t=2.54s).\n",
      "Accumulating evaluation results...\n"
     ]
    },
    {
     "name": "stderr",
     "output_type": "stream",
     "text": [
      "2022-02-11 19:30:44,303 - mmdet - INFO - \n",
      " Average Precision  (AP) @[ IoU=0.50:0.95 | area=   all | maxDets=100 ] = 0.337\n",
      " Average Precision  (AP) @[ IoU=0.50      | area=   all | maxDets=1000 ] = 0.734\n",
      " Average Precision  (AP) @[ IoU=0.75      | area=   all | maxDets=1000 ] = 0.236\n",
      " Average Precision  (AP) @[ IoU=0.50:0.95 | area= small | maxDets=1000 ] = 0.120\n",
      " Average Precision  (AP) @[ IoU=0.50:0.95 | area=medium | maxDets=1000 ] = 0.393\n",
      " Average Precision  (AP) @[ IoU=0.50:0.95 | area= large | maxDets=1000 ] = -1.000\n",
      " Average Recall     (AR) @[ IoU=0.50:0.95 | area=   all | maxDets=100 ] = 0.426\n",
      " Average Recall     (AR) @[ IoU=0.50:0.95 | area=   all | maxDets=300 ] = 0.426\n",
      " Average Recall     (AR) @[ IoU=0.50:0.95 | area=   all | maxDets=1000 ] = 0.426\n",
      " Average Recall     (AR) @[ IoU=0.50:0.95 | area= small | maxDets=1000 ] = 0.270\n",
      " Average Recall     (AR) @[ IoU=0.50:0.95 | area=medium | maxDets=1000 ] = 0.473\n",
      " Average Recall     (AR) @[ IoU=0.50:0.95 | area= large | maxDets=1000 ] = -1.000\n",
      "\n",
      "2022-02-11 19:30:44,334 - mmdet - INFO - Epoch(val) [20][8561]\tbbox_mAP: 0.3370, bbox_mAP_50: 0.7340, bbox_mAP_75: 0.2360, bbox_mAP_s: 0.1200, bbox_mAP_m: 0.3930, bbox_mAP_l: -1.0000, bbox_mAP_copypaste: 0.337 0.734 0.236 0.120 0.393 -1.000\n"
     ]
    },
    {
     "name": "stdout",
     "output_type": "stream",
     "text": [
      "DONE (t=0.44s).\n"
     ]
    },
    {
     "name": "stderr",
     "output_type": "stream",
     "text": [
      "2022-02-11 19:32:40,008 - mmdet - INFO - Epoch [21][200/1061]\tlr: 5.000e-06, eta: 4:46:24, time: 0.578, data_time: 0.024, memory: 21208, loss_rpn_cls: 0.0051, loss_rpn_bbox: 0.0072, loss_cls: 0.0515, acc: 97.9988, loss_bbox: 0.1185, loss: 0.1824\n",
      "2022-02-11 19:34:35,409 - mmdet - INFO - Epoch [21][400/1061]\tlr: 5.000e-06, eta: 4:44:45, time: 0.577, data_time: 0.011, memory: 21208, loss_rpn_cls: 0.0070, loss_rpn_bbox: 0.0079, loss_cls: 0.0525, acc: 97.9026, loss_bbox: 0.1213, loss: 0.1888\n",
      "2022-02-11 19:36:30,403 - mmdet - INFO - Epoch [21][600/1061]\tlr: 5.000e-06, eta: 4:43:05, time: 0.575, data_time: 0.011, memory: 21208, loss_rpn_cls: 0.0059, loss_rpn_bbox: 0.0071, loss_cls: 0.0521, acc: 97.9644, loss_bbox: 0.1178, loss: 0.1830\n",
      "2022-02-11 19:38:24,871 - mmdet - INFO - Epoch [21][800/1061]\tlr: 5.000e-06, eta: 4:41:24, time: 0.572, data_time: 0.011, memory: 21208, loss_rpn_cls: 0.0056, loss_rpn_bbox: 0.0069, loss_cls: 0.0475, acc: 98.1980, loss_bbox: 0.1082, loss: 0.1682\n",
      "2022-02-11 19:40:21,345 - mmdet - INFO - Epoch [21][1000/1061]\tlr: 5.000e-06, eta: 4:39:46, time: 0.582, data_time: 0.011, memory: 21208, loss_rpn_cls: 0.0060, loss_rpn_bbox: 0.0071, loss_cls: 0.0511, acc: 98.0247, loss_bbox: 0.1157, loss: 0.1799\n",
      "2022-02-11 19:40:56,522 - mmdet - INFO - Saving checkpoint at 21 epochs\n"
     ]
    },
    {
     "name": "stdout",
     "output_type": "stream",
     "text": [
      "[>>>>>>>>>>>>>>>>>>>>>>>>>>] 8561/8561, 13.2 task/s, elapsed: 650s, ETA:     0s"
     ]
    },
    {
     "name": "stderr",
     "output_type": "stream",
     "text": [
      "2022-02-11 19:51:48,206 - mmdet - INFO - Evaluating bbox...\n"
     ]
    },
    {
     "name": "stdout",
     "output_type": "stream",
     "text": [
      "Loading and preparing results...\n",
      "DONE (t=0.20s)\n",
      "creating index...\n",
      "index created!\n",
      "Running per image evaluation...\n",
      "Evaluate annotation type *bbox*\n",
      "DONE (t=2.38s).\n",
      "Accumulating evaluation results...\n"
     ]
    },
    {
     "name": "stderr",
     "output_type": "stream",
     "text": [
      "2022-02-11 19:51:51,292 - mmdet - INFO - \n",
      " Average Precision  (AP) @[ IoU=0.50:0.95 | area=   all | maxDets=100 ] = 0.341\n",
      " Average Precision  (AP) @[ IoU=0.50      | area=   all | maxDets=1000 ] = 0.737\n",
      " Average Precision  (AP) @[ IoU=0.75      | area=   all | maxDets=1000 ] = 0.237\n",
      " Average Precision  (AP) @[ IoU=0.50:0.95 | area= small | maxDets=1000 ] = 0.119\n",
      " Average Precision  (AP) @[ IoU=0.50:0.95 | area=medium | maxDets=1000 ] = 0.396\n",
      " Average Precision  (AP) @[ IoU=0.50:0.95 | area= large | maxDets=1000 ] = -1.000\n",
      " Average Recall     (AR) @[ IoU=0.50:0.95 | area=   all | maxDets=100 ] = 0.426\n",
      " Average Recall     (AR) @[ IoU=0.50:0.95 | area=   all | maxDets=300 ] = 0.426\n",
      " Average Recall     (AR) @[ IoU=0.50:0.95 | area=   all | maxDets=1000 ] = 0.426\n",
      " Average Recall     (AR) @[ IoU=0.50:0.95 | area= small | maxDets=1000 ] = 0.268\n",
      " Average Recall     (AR) @[ IoU=0.50:0.95 | area=medium | maxDets=1000 ] = 0.474\n",
      " Average Recall     (AR) @[ IoU=0.50:0.95 | area= large | maxDets=1000 ] = -1.000\n",
      "\n",
      "2022-02-11 19:51:51,322 - mmdet - INFO - Epoch(val) [21][8561]\tbbox_mAP: 0.3410, bbox_mAP_50: 0.7370, bbox_mAP_75: 0.2370, bbox_mAP_s: 0.1190, bbox_mAP_m: 0.3960, bbox_mAP_l: -1.0000, bbox_mAP_copypaste: 0.341 0.737 0.237 0.119 0.396 -1.000\n"
     ]
    },
    {
     "name": "stdout",
     "output_type": "stream",
     "text": [
      "DONE (t=0.46s).\n"
     ]
    },
    {
     "name": "stderr",
     "output_type": "stream",
     "text": [
      "2022-02-11 19:53:48,752 - mmdet - INFO - Epoch [22][200/1061]\tlr: 5.000e-06, eta: 4:36:50, time: 0.587, data_time: 0.024, memory: 21208, loss_rpn_cls: 0.0053, loss_rpn_bbox: 0.0074, loss_cls: 0.0514, acc: 97.9753, loss_bbox: 0.1191, loss: 0.1831\n",
      "2022-02-11 19:55:43,876 - mmdet - INFO - Epoch [22][400/1061]\tlr: 5.000e-06, eta: 4:35:10, time: 0.576, data_time: 0.011, memory: 21208, loss_rpn_cls: 0.0050, loss_rpn_bbox: 0.0076, loss_cls: 0.0524, acc: 97.9644, loss_bbox: 0.1191, loss: 0.1842\n",
      "2022-02-11 19:57:39,828 - mmdet - INFO - Epoch [22][600/1061]\tlr: 5.000e-06, eta: 4:33:31, time: 0.580, data_time: 0.011, memory: 21208, loss_rpn_cls: 0.0057, loss_rpn_bbox: 0.0073, loss_cls: 0.0506, acc: 98.0225, loss_bbox: 0.1158, loss: 0.1795\n",
      "2022-02-11 19:59:34,425 - mmdet - INFO - Epoch [22][800/1061]\tlr: 5.000e-06, eta: 4:31:50, time: 0.573, data_time: 0.011, memory: 21208, loss_rpn_cls: 0.0053, loss_rpn_bbox: 0.0070, loss_cls: 0.0494, acc: 98.0618, loss_bbox: 0.1122, loss: 0.1739\n",
      "2022-02-11 20:01:30,039 - mmdet - INFO - Epoch [22][1000/1061]\tlr: 5.000e-06, eta: 4:30:10, time: 0.578, data_time: 0.011, memory: 21208, loss_rpn_cls: 0.0064, loss_rpn_bbox: 0.0073, loss_cls: 0.0487, acc: 98.0984, loss_bbox: 0.1082, loss: 0.1706\n",
      "2022-02-11 20:02:04,344 - mmdet - INFO - Saving checkpoint at 22 epochs\n"
     ]
    },
    {
     "name": "stdout",
     "output_type": "stream",
     "text": [
      "[>>>>>>>>>>>>>>>>>>>>>>>>>>] 8561/8561, 13.2 task/s, elapsed: 651s, ETA:     0s"
     ]
    },
    {
     "name": "stderr",
     "output_type": "stream",
     "text": [
      "2022-02-11 20:12:57,382 - mmdet - INFO - Evaluating bbox...\n"
     ]
    },
    {
     "name": "stdout",
     "output_type": "stream",
     "text": [
      "Loading and preparing results...\n",
      "DONE (t=0.02s)\n",
      "creating index...\n",
      "index created!\n",
      "Running per image evaluation...\n",
      "Evaluate annotation type *bbox*\n",
      "DONE (t=2.56s).\n",
      "Accumulating evaluation results...\n"
     ]
    },
    {
     "name": "stderr",
     "output_type": "stream",
     "text": [
      "2022-02-11 20:13:00,515 - mmdet - INFO - \n",
      " Average Precision  (AP) @[ IoU=0.50:0.95 | area=   all | maxDets=100 ] = 0.341\n",
      " Average Precision  (AP) @[ IoU=0.50      | area=   all | maxDets=1000 ] = 0.740\n",
      " Average Precision  (AP) @[ IoU=0.75      | area=   all | maxDets=1000 ] = 0.238\n",
      " Average Precision  (AP) @[ IoU=0.50:0.95 | area= small | maxDets=1000 ] = 0.128\n",
      " Average Precision  (AP) @[ IoU=0.50:0.95 | area=medium | maxDets=1000 ] = 0.395\n",
      " Average Precision  (AP) @[ IoU=0.50:0.95 | area= large | maxDets=1000 ] = -1.000\n",
      " Average Recall     (AR) @[ IoU=0.50:0.95 | area=   all | maxDets=100 ] = 0.429\n",
      " Average Recall     (AR) @[ IoU=0.50:0.95 | area=   all | maxDets=300 ] = 0.429\n",
      " Average Recall     (AR) @[ IoU=0.50:0.95 | area=   all | maxDets=1000 ] = 0.429\n",
      " Average Recall     (AR) @[ IoU=0.50:0.95 | area= small | maxDets=1000 ] = 0.278\n",
      " Average Recall     (AR) @[ IoU=0.50:0.95 | area=medium | maxDets=1000 ] = 0.475\n",
      " Average Recall     (AR) @[ IoU=0.50:0.95 | area= large | maxDets=1000 ] = -1.000\n",
      "\n",
      "2022-02-11 20:13:00,545 - mmdet - INFO - Epoch(val) [22][8561]\tbbox_mAP: 0.3410, bbox_mAP_50: 0.7400, bbox_mAP_75: 0.2380, bbox_mAP_s: 0.1280, bbox_mAP_m: 0.3950, bbox_mAP_l: -1.0000, bbox_mAP_copypaste: 0.341 0.740 0.238 0.128 0.395 -1.000\n"
     ]
    },
    {
     "name": "stdout",
     "output_type": "stream",
     "text": [
      "DONE (t=0.51s).\n"
     ]
    },
    {
     "name": "stderr",
     "output_type": "stream",
     "text": [
      "2022-02-11 20:14:58,680 - mmdet - INFO - Epoch [23][200/1061]\tlr: 5.000e-06, eta: 4:27:17, time: 0.591, data_time: 0.024, memory: 21208, loss_rpn_cls: 0.0064, loss_rpn_bbox: 0.0076, loss_cls: 0.0503, acc: 98.0627, loss_bbox: 0.1151, loss: 0.1794\n",
      "2022-02-11 20:16:52,433 - mmdet - INFO - Epoch [23][400/1061]\tlr: 5.000e-06, eta: 4:25:35, time: 0.569, data_time: 0.011, memory: 21208, loss_rpn_cls: 0.0053, loss_rpn_bbox: 0.0076, loss_cls: 0.0520, acc: 97.9700, loss_bbox: 0.1197, loss: 0.1846\n",
      "2022-02-11 20:18:46,753 - mmdet - INFO - Epoch [23][600/1061]\tlr: 5.000e-06, eta: 4:23:53, time: 0.572, data_time: 0.011, memory: 21208, loss_rpn_cls: 0.0052, loss_rpn_bbox: 0.0066, loss_cls: 0.0479, acc: 98.1748, loss_bbox: 0.1095, loss: 0.1692\n",
      "2022-02-11 20:20:41,970 - mmdet - INFO - Epoch [23][800/1061]\tlr: 5.000e-06, eta: 4:22:12, time: 0.576, data_time: 0.011, memory: 21208, loss_rpn_cls: 0.0066, loss_rpn_bbox: 0.0079, loss_cls: 0.0529, acc: 97.9231, loss_bbox: 0.1193, loss: 0.1868\n",
      "2022-02-11 20:22:38,819 - mmdet - INFO - Epoch [23][1000/1061]\tlr: 5.000e-06, eta: 4:20:33, time: 0.584, data_time: 0.011, memory: 21208, loss_rpn_cls: 0.0072, loss_rpn_bbox: 0.0074, loss_cls: 0.0501, acc: 98.0251, loss_bbox: 0.1152, loss: 0.1800\n",
      "2022-02-11 20:23:14,052 - mmdet - INFO - Saving checkpoint at 23 epochs\n"
     ]
    },
    {
     "name": "stdout",
     "output_type": "stream",
     "text": [
      "[>>>>>>>>>>>>>>>>>>>>>>>>>>] 8561/8561, 13.2 task/s, elapsed: 646s, ETA:     0s"
     ]
    },
    {
     "name": "stderr",
     "output_type": "stream",
     "text": [
      "2022-02-11 20:34:02,468 - mmdet - INFO - Evaluating bbox...\n"
     ]
    },
    {
     "name": "stdout",
     "output_type": "stream",
     "text": [
      "Loading and preparing results...\n",
      "DONE (t=0.01s)\n",
      "creating index...\n",
      "index created!\n",
      "Running per image evaluation...\n",
      "Evaluate annotation type *bbox*\n",
      "DONE (t=2.32s).\n",
      "Accumulating evaluation results...\n"
     ]
    },
    {
     "name": "stderr",
     "output_type": "stream",
     "text": [
      "2022-02-11 20:34:05,470 - mmdet - INFO - \n",
      " Average Precision  (AP) @[ IoU=0.50:0.95 | area=   all | maxDets=100 ] = 0.340\n",
      " Average Precision  (AP) @[ IoU=0.50      | area=   all | maxDets=1000 ] = 0.738\n",
      " Average Precision  (AP) @[ IoU=0.75      | area=   all | maxDets=1000 ] = 0.239\n",
      " Average Precision  (AP) @[ IoU=0.50:0.95 | area= small | maxDets=1000 ] = 0.123\n",
      " Average Precision  (AP) @[ IoU=0.50:0.95 | area=medium | maxDets=1000 ] = 0.394\n",
      " Average Precision  (AP) @[ IoU=0.50:0.95 | area= large | maxDets=1000 ] = -1.000\n",
      " Average Recall     (AR) @[ IoU=0.50:0.95 | area=   all | maxDets=100 ] = 0.427\n",
      " Average Recall     (AR) @[ IoU=0.50:0.95 | area=   all | maxDets=300 ] = 0.427\n",
      " Average Recall     (AR) @[ IoU=0.50:0.95 | area=   all | maxDets=1000 ] = 0.427\n",
      " Average Recall     (AR) @[ IoU=0.50:0.95 | area= small | maxDets=1000 ] = 0.270\n",
      " Average Recall     (AR) @[ IoU=0.50:0.95 | area=medium | maxDets=1000 ] = 0.475\n",
      " Average Recall     (AR) @[ IoU=0.50:0.95 | area= large | maxDets=1000 ] = -1.000\n",
      "\n",
      "2022-02-11 20:34:05,502 - mmdet - INFO - Epoch(val) [23][8561]\tbbox_mAP: 0.3400, bbox_mAP_50: 0.7380, bbox_mAP_75: 0.2390, bbox_mAP_s: 0.1230, bbox_mAP_m: 0.3940, bbox_mAP_l: -1.0000, bbox_mAP_copypaste: 0.340 0.738 0.239 0.123 0.394 -1.000\n"
     ]
    },
    {
     "name": "stdout",
     "output_type": "stream",
     "text": [
      "DONE (t=0.63s).\n"
     ]
    },
    {
     "name": "stderr",
     "output_type": "stream",
     "text": [
      "2022-02-11 20:36:02,964 - mmdet - INFO - Epoch [24][200/1061]\tlr: 5.000e-06, eta: 4:17:42, time: 0.587, data_time: 0.024, memory: 21208, loss_rpn_cls: 0.0057, loss_rpn_bbox: 0.0071, loss_cls: 0.0503, acc: 98.0208, loss_bbox: 0.1175, loss: 0.1806\n",
      "2022-02-11 20:37:58,815 - mmdet - INFO - Epoch [24][400/1061]\tlr: 5.000e-06, eta: 4:16:01, time: 0.579, data_time: 0.011, memory: 21208, loss_rpn_cls: 0.0060, loss_rpn_bbox: 0.0067, loss_cls: 0.0457, acc: 98.2109, loss_bbox: 0.1041, loss: 0.1625\n",
      "2022-02-11 20:39:53,959 - mmdet - INFO - Epoch [24][600/1061]\tlr: 5.000e-06, eta: 4:14:20, time: 0.576, data_time: 0.011, memory: 21208, loss_rpn_cls: 0.0067, loss_rpn_bbox: 0.0071, loss_cls: 0.0492, acc: 98.1101, loss_bbox: 0.1112, loss: 0.1741\n",
      "2022-02-11 20:41:46,434 - mmdet - INFO - Epoch [24][800/1061]\tlr: 5.000e-06, eta: 4:12:35, time: 0.562, data_time: 0.011, memory: 21208, loss_rpn_cls: 0.0052, loss_rpn_bbox: 0.0071, loss_cls: 0.0506, acc: 98.0259, loss_bbox: 0.1151, loss: 0.1780\n",
      "2022-02-11 20:43:42,429 - mmdet - INFO - Epoch [24][1000/1061]\tlr: 5.000e-06, eta: 4:10:54, time: 0.580, data_time: 0.011, memory: 21208, loss_rpn_cls: 0.0050, loss_rpn_bbox: 0.0072, loss_cls: 0.0519, acc: 97.9287, loss_bbox: 0.1210, loss: 0.1852\n",
      "2022-02-11 20:44:18,460 - mmdet - INFO - Saving checkpoint at 24 epochs\n"
     ]
    },
    {
     "name": "stdout",
     "output_type": "stream",
     "text": [
      "[>>>>>>>>>>>>>>>>>>>>>>>>>>] 8561/8561, 13.2 task/s, elapsed: 651s, ETA:     0s"
     ]
    },
    {
     "name": "stderr",
     "output_type": "stream",
     "text": [
      "2022-02-11 20:55:11,482 - mmdet - INFO - Evaluating bbox...\n"
     ]
    },
    {
     "name": "stdout",
     "output_type": "stream",
     "text": [
      "Loading and preparing results...\n",
      "DONE (t=0.01s)\n",
      "creating index...\n",
      "index created!\n",
      "Running per image evaluation...\n",
      "Evaluate annotation type *bbox*\n",
      "DONE (t=2.43s).\n",
      "Accumulating evaluation results...\n"
     ]
    },
    {
     "name": "stderr",
     "output_type": "stream",
     "text": [
      "2022-02-11 20:55:14,622 - mmdet - INFO - \n",
      " Average Precision  (AP) @[ IoU=0.50:0.95 | area=   all | maxDets=100 ] = 0.335\n",
      " Average Precision  (AP) @[ IoU=0.50      | area=   all | maxDets=1000 ] = 0.736\n",
      " Average Precision  (AP) @[ IoU=0.75      | area=   all | maxDets=1000 ] = 0.236\n",
      " Average Precision  (AP) @[ IoU=0.50:0.95 | area= small | maxDets=1000 ] = 0.120\n",
      " Average Precision  (AP) @[ IoU=0.50:0.95 | area=medium | maxDets=1000 ] = 0.389\n",
      " Average Precision  (AP) @[ IoU=0.50:0.95 | area= large | maxDets=1000 ] = -1.000\n",
      " Average Recall     (AR) @[ IoU=0.50:0.95 | area=   all | maxDets=100 ] = 0.426\n",
      " Average Recall     (AR) @[ IoU=0.50:0.95 | area=   all | maxDets=300 ] = 0.426\n",
      " Average Recall     (AR) @[ IoU=0.50:0.95 | area=   all | maxDets=1000 ] = 0.426\n",
      " Average Recall     (AR) @[ IoU=0.50:0.95 | area= small | maxDets=1000 ] = 0.273\n",
      " Average Recall     (AR) @[ IoU=0.50:0.95 | area=medium | maxDets=1000 ] = 0.473\n",
      " Average Recall     (AR) @[ IoU=0.50:0.95 | area= large | maxDets=1000 ] = -1.000\n",
      "\n",
      "2022-02-11 20:55:14,654 - mmdet - INFO - Epoch(val) [24][8561]\tbbox_mAP: 0.3350, bbox_mAP_50: 0.7360, bbox_mAP_75: 0.2360, bbox_mAP_s: 0.1200, bbox_mAP_m: 0.3890, bbox_mAP_l: -1.0000, bbox_mAP_copypaste: 0.335 0.736 0.236 0.120 0.389 -1.000\n"
     ]
    },
    {
     "name": "stdout",
     "output_type": "stream",
     "text": [
      "DONE (t=0.66s).\n"
     ]
    },
    {
     "name": "stderr",
     "output_type": "stream",
     "text": [
      "2022-02-11 20:57:12,529 - mmdet - INFO - Epoch [25][200/1061]\tlr: 5.000e-06, eta: 4:08:06, time: 0.589, data_time: 0.024, memory: 21208, loss_rpn_cls: 0.0058, loss_rpn_bbox: 0.0070, loss_cls: 0.0491, acc: 98.0786, loss_bbox: 0.1095, loss: 0.1715\n",
      "2022-02-11 20:59:07,854 - mmdet - INFO - Epoch [25][400/1061]\tlr: 5.000e-06, eta: 4:06:24, time: 0.577, data_time: 0.011, memory: 21208, loss_rpn_cls: 0.0074, loss_rpn_bbox: 0.0072, loss_cls: 0.0504, acc: 98.0208, loss_bbox: 0.1152, loss: 0.1802\n",
      "2022-02-11 21:01:01,569 - mmdet - INFO - Epoch [25][600/1061]\tlr: 5.000e-06, eta: 4:04:40, time: 0.569, data_time: 0.011, memory: 21208, loss_rpn_cls: 0.0056, loss_rpn_bbox: 0.0070, loss_cls: 0.0517, acc: 98.0051, loss_bbox: 0.1190, loss: 0.1834\n",
      "2022-02-11 21:02:56,689 - mmdet - INFO - Epoch [25][800/1061]\tlr: 5.000e-06, eta: 4:02:58, time: 0.576, data_time: 0.011, memory: 21208, loss_rpn_cls: 0.0065, loss_rpn_bbox: 0.0073, loss_cls: 0.0523, acc: 97.9822, loss_bbox: 0.1160, loss: 0.1820\n",
      "2022-02-11 21:04:54,069 - mmdet - INFO - Epoch [25][1000/1061]\tlr: 5.000e-06, eta: 4:01:18, time: 0.587, data_time: 0.011, memory: 21208, loss_rpn_cls: 0.0067, loss_rpn_bbox: 0.0074, loss_cls: 0.0524, acc: 98.0164, loss_bbox: 0.1156, loss: 0.1821\n",
      "2022-02-11 21:05:29,079 - mmdet - INFO - Saving checkpoint at 25 epochs\n"
     ]
    },
    {
     "name": "stdout",
     "output_type": "stream",
     "text": [
      "[>>>>>>>>>>>>>>>>>>>>>>>>>>] 8561/8561, 13.3 task/s, elapsed: 645s, ETA:     0s"
     ]
    },
    {
     "name": "stderr",
     "output_type": "stream",
     "text": [
      "2022-02-11 21:16:16,433 - mmdet - INFO - Evaluating bbox...\n"
     ]
    },
    {
     "name": "stdout",
     "output_type": "stream",
     "text": [
      "Loading and preparing results...\n",
      "DONE (t=0.01s)\n",
      "creating index...\n",
      "index created!\n",
      "Running per image evaluation...\n",
      "Evaluate annotation type *bbox*\n",
      "DONE (t=2.31s).\n",
      "Accumulating evaluation results...\n"
     ]
    },
    {
     "name": "stderr",
     "output_type": "stream",
     "text": [
      "2022-02-11 21:16:19,277 - mmdet - INFO - \n",
      " Average Precision  (AP) @[ IoU=0.50:0.95 | area=   all | maxDets=100 ] = 0.337\n",
      " Average Precision  (AP) @[ IoU=0.50      | area=   all | maxDets=1000 ] = 0.738\n",
      " Average Precision  (AP) @[ IoU=0.75      | area=   all | maxDets=1000 ] = 0.237\n",
      " Average Precision  (AP) @[ IoU=0.50:0.95 | area= small | maxDets=1000 ] = 0.124\n",
      " Average Precision  (AP) @[ IoU=0.50:0.95 | area=medium | maxDets=1000 ] = 0.391\n",
      " Average Precision  (AP) @[ IoU=0.50:0.95 | area= large | maxDets=1000 ] = -1.000\n",
      " Average Recall     (AR) @[ IoU=0.50:0.95 | area=   all | maxDets=100 ] = 0.425\n",
      " Average Recall     (AR) @[ IoU=0.50:0.95 | area=   all | maxDets=300 ] = 0.425\n",
      " Average Recall     (AR) @[ IoU=0.50:0.95 | area=   all | maxDets=1000 ] = 0.425\n",
      " Average Recall     (AR) @[ IoU=0.50:0.95 | area= small | maxDets=1000 ] = 0.269\n",
      " Average Recall     (AR) @[ IoU=0.50:0.95 | area=medium | maxDets=1000 ] = 0.473\n",
      " Average Recall     (AR) @[ IoU=0.50:0.95 | area= large | maxDets=1000 ] = -1.000\n",
      "\n",
      "2022-02-11 21:16:19,326 - mmdet - INFO - Epoch(val) [25][8561]\tbbox_mAP: 0.3370, bbox_mAP_50: 0.7380, bbox_mAP_75: 0.2370, bbox_mAP_s: 0.1240, bbox_mAP_m: 0.3910, bbox_mAP_l: -1.0000, bbox_mAP_copypaste: 0.337 0.738 0.237 0.124 0.391 -1.000\n"
     ]
    },
    {
     "name": "stdout",
     "output_type": "stream",
     "text": [
      "DONE (t=0.48s).\n"
     ]
    },
    {
     "name": "stderr",
     "output_type": "stream",
     "text": [
      "2022-02-11 21:18:18,857 - mmdet - INFO - Epoch [26][200/1061]\tlr: 5.000e-06, eta: 3:58:33, time: 0.598, data_time: 0.024, memory: 21208, loss_rpn_cls: 0.0065, loss_rpn_bbox: 0.0074, loss_cls: 0.0514, acc: 97.9968, loss_bbox: 0.1175, loss: 0.1827\n",
      "2022-02-11 21:20:13,588 - mmdet - INFO - Epoch [26][400/1061]\tlr: 5.000e-06, eta: 3:56:50, time: 0.574, data_time: 0.011, memory: 21208, loss_rpn_cls: 0.0050, loss_rpn_bbox: 0.0069, loss_cls: 0.0494, acc: 98.0422, loss_bbox: 0.1163, loss: 0.1776\n",
      "2022-02-11 21:22:06,609 - mmdet - INFO - Epoch [26][600/1061]\tlr: 5.000e-06, eta: 3:55:06, time: 0.565, data_time: 0.011, memory: 21208, loss_rpn_cls: 0.0070, loss_rpn_bbox: 0.0076, loss_cls: 0.0506, acc: 97.9951, loss_bbox: 0.1175, loss: 0.1827\n",
      "2022-02-11 21:24:01,601 - mmdet - INFO - Epoch [26][800/1061]\tlr: 5.000e-06, eta: 3:53:23, time: 0.575, data_time: 0.011, memory: 21208, loss_rpn_cls: 0.0059, loss_rpn_bbox: 0.0077, loss_cls: 0.0536, acc: 97.9138, loss_bbox: 0.1221, loss: 0.1893\n",
      "2022-02-11 21:25:56,223 - mmdet - INFO - Epoch [26][1000/1061]\tlr: 5.000e-06, eta: 3:51:39, time: 0.573, data_time: 0.011, memory: 21208, loss_rpn_cls: 0.0066, loss_rpn_bbox: 0.0075, loss_cls: 0.0518, acc: 97.9827, loss_bbox: 0.1174, loss: 0.1832\n",
      "2022-02-11 21:26:31,975 - mmdet - INFO - Saving checkpoint at 26 epochs\n"
     ]
    },
    {
     "name": "stdout",
     "output_type": "stream",
     "text": [
      "[>>>>>>>>>>>>>>>>>>>>>>>>>>] 8561/8561, 13.2 task/s, elapsed: 648s, ETA:     0s"
     ]
    },
    {
     "name": "stderr",
     "output_type": "stream",
     "text": [
      "2022-02-11 21:37:22,263 - mmdet - INFO - Evaluating bbox...\n"
     ]
    },
    {
     "name": "stdout",
     "output_type": "stream",
     "text": [
      "Loading and preparing results...\n",
      "DONE (t=0.01s)\n",
      "creating index...\n",
      "index created!\n",
      "Running per image evaluation...\n",
      "Evaluate annotation type *bbox*\n",
      "DONE (t=2.10s).\n",
      "Accumulating evaluation results...\n"
     ]
    },
    {
     "name": "stderr",
     "output_type": "stream",
     "text": [
      "2022-02-11 21:37:24,761 - mmdet - INFO - \n",
      " Average Precision  (AP) @[ IoU=0.50:0.95 | area=   all | maxDets=100 ] = 0.337\n",
      " Average Precision  (AP) @[ IoU=0.50      | area=   all | maxDets=1000 ] = 0.728\n",
      " Average Precision  (AP) @[ IoU=0.75      | area=   all | maxDets=1000 ] = 0.235\n",
      " Average Precision  (AP) @[ IoU=0.50:0.95 | area= small | maxDets=1000 ] = 0.118\n",
      " Average Precision  (AP) @[ IoU=0.50:0.95 | area=medium | maxDets=1000 ] = 0.393\n",
      " Average Precision  (AP) @[ IoU=0.50:0.95 | area= large | maxDets=1000 ] = -1.000\n",
      " Average Recall     (AR) @[ IoU=0.50:0.95 | area=   all | maxDets=100 ] = 0.418\n",
      " Average Recall     (AR) @[ IoU=0.50:0.95 | area=   all | maxDets=300 ] = 0.418\n",
      " Average Recall     (AR) @[ IoU=0.50:0.95 | area=   all | maxDets=1000 ] = 0.418\n",
      " Average Recall     (AR) @[ IoU=0.50:0.95 | area= small | maxDets=1000 ] = 0.253\n",
      " Average Recall     (AR) @[ IoU=0.50:0.95 | area=medium | maxDets=1000 ] = 0.469\n",
      " Average Recall     (AR) @[ IoU=0.50:0.95 | area= large | maxDets=1000 ] = -1.000\n",
      "\n",
      "2022-02-11 21:37:24,787 - mmdet - INFO - Epoch(val) [26][8561]\tbbox_mAP: 0.3370, bbox_mAP_50: 0.7280, bbox_mAP_75: 0.2350, bbox_mAP_s: 0.1180, bbox_mAP_m: 0.3930, bbox_mAP_l: -1.0000, bbox_mAP_copypaste: 0.337 0.728 0.235 0.118 0.393 -1.000\n"
     ]
    },
    {
     "name": "stdout",
     "output_type": "stream",
     "text": [
      "DONE (t=0.35s).\n"
     ]
    },
    {
     "name": "stderr",
     "output_type": "stream",
     "text": [
      "2022-02-11 21:39:22,408 - mmdet - INFO - Epoch [27][200/1061]\tlr: 5.000e-06, eta: 3:48:55, time: 0.588, data_time: 0.024, memory: 21208, loss_rpn_cls: 0.0067, loss_rpn_bbox: 0.0072, loss_cls: 0.0494, acc: 98.0369, loss_bbox: 0.1141, loss: 0.1774\n",
      "2022-02-11 21:41:17,990 - mmdet - INFO - Epoch [27][400/1061]\tlr: 5.000e-06, eta: 3:47:12, time: 0.578, data_time: 0.011, memory: 21208, loss_rpn_cls: 0.0049, loss_rpn_bbox: 0.0072, loss_cls: 0.0485, acc: 98.0776, loss_bbox: 0.1158, loss: 0.1764\n",
      "2022-02-11 21:43:11,422 - mmdet - INFO - Epoch [27][600/1061]\tlr: 5.000e-06, eta: 3:45:27, time: 0.567, data_time: 0.011, memory: 21208, loss_rpn_cls: 0.0051, loss_rpn_bbox: 0.0070, loss_cls: 0.0491, acc: 98.0742, loss_bbox: 0.1119, loss: 0.1730\n",
      "2022-02-11 21:45:06,992 - mmdet - INFO - Epoch [27][800/1061]\tlr: 5.000e-06, eta: 3:43:44, time: 0.578, data_time: 0.011, memory: 21208, loss_rpn_cls: 0.0060, loss_rpn_bbox: 0.0071, loss_cls: 0.0504, acc: 98.0005, loss_bbox: 0.1147, loss: 0.1782\n",
      "2022-02-11 21:47:02,153 - mmdet - INFO - Epoch [27][1000/1061]\tlr: 5.000e-06, eta: 3:42:01, time: 0.576, data_time: 0.011, memory: 21208, loss_rpn_cls: 0.0052, loss_rpn_bbox: 0.0071, loss_cls: 0.0495, acc: 98.0371, loss_bbox: 0.1152, loss: 0.1771\n",
      "2022-02-11 21:47:37,755 - mmdet - INFO - Saving checkpoint at 27 epochs\n"
     ]
    },
    {
     "name": "stdout",
     "output_type": "stream",
     "text": [
      "[>>>>>>>>>>>>>>>>>>>>>>>>>>] 8561/8561, 13.1 task/s, elapsed: 651s, ETA:     0s"
     ]
    },
    {
     "name": "stderr",
     "output_type": "stream",
     "text": [
      "2022-02-11 21:58:30,949 - mmdet - INFO - Evaluating bbox...\n"
     ]
    },
    {
     "name": "stdout",
     "output_type": "stream",
     "text": [
      "Loading and preparing results...\n",
      "DONE (t=0.01s)\n",
      "creating index...\n",
      "index created!\n",
      "Running per image evaluation...\n",
      "Evaluate annotation type *bbox*\n",
      "DONE (t=2.26s).\n",
      "Accumulating evaluation results...\n"
     ]
    },
    {
     "name": "stderr",
     "output_type": "stream",
     "text": [
      "2022-02-11 21:58:33,841 - mmdet - INFO - \n",
      " Average Precision  (AP) @[ IoU=0.50:0.95 | area=   all | maxDets=100 ] = 0.338\n",
      " Average Precision  (AP) @[ IoU=0.50      | area=   all | maxDets=1000 ] = 0.734\n",
      " Average Precision  (AP) @[ IoU=0.75      | area=   all | maxDets=1000 ] = 0.231\n",
      " Average Precision  (AP) @[ IoU=0.50:0.95 | area= small | maxDets=1000 ] = 0.117\n",
      " Average Precision  (AP) @[ IoU=0.50:0.95 | area=medium | maxDets=1000 ] = 0.393\n",
      " Average Precision  (AP) @[ IoU=0.50:0.95 | area= large | maxDets=1000 ] = -1.000\n",
      " Average Recall     (AR) @[ IoU=0.50:0.95 | area=   all | maxDets=100 ] = 0.424\n",
      " Average Recall     (AR) @[ IoU=0.50:0.95 | area=   all | maxDets=300 ] = 0.424\n",
      " Average Recall     (AR) @[ IoU=0.50:0.95 | area=   all | maxDets=1000 ] = 0.424\n",
      " Average Recall     (AR) @[ IoU=0.50:0.95 | area= small | maxDets=1000 ] = 0.263\n",
      " Average Recall     (AR) @[ IoU=0.50:0.95 | area=medium | maxDets=1000 ] = 0.473\n",
      " Average Recall     (AR) @[ IoU=0.50:0.95 | area= large | maxDets=1000 ] = -1.000\n",
      "\n",
      "2022-02-11 21:58:33,870 - mmdet - INFO - Epoch(val) [27][8561]\tbbox_mAP: 0.3380, bbox_mAP_50: 0.7340, bbox_mAP_75: 0.2310, bbox_mAP_s: 0.1170, bbox_mAP_m: 0.3930, bbox_mAP_l: -1.0000, bbox_mAP_copypaste: 0.338 0.734 0.231 0.117 0.393 -1.000\n"
     ]
    },
    {
     "name": "stdout",
     "output_type": "stream",
     "text": [
      "DONE (t=0.58s).\n"
     ]
    },
    {
     "name": "stderr",
     "output_type": "stream",
     "text": [
      "2022-02-11 22:00:32,321 - mmdet - INFO - Epoch [28][200/1061]\tlr: 5.000e-06, eta: 3:39:19, time: 0.592, data_time: 0.024, memory: 21208, loss_rpn_cls: 0.0068, loss_rpn_bbox: 0.0069, loss_cls: 0.0474, acc: 98.1394, loss_bbox: 0.1099, loss: 0.1710\n",
      "2022-02-11 22:02:27,975 - mmdet - INFO - Epoch [28][400/1061]\tlr: 5.000e-06, eta: 3:37:36, time: 0.578, data_time: 0.011, memory: 21208, loss_rpn_cls: 0.0059, loss_rpn_bbox: 0.0068, loss_cls: 0.0479, acc: 98.1392, loss_bbox: 0.1120, loss: 0.1728\n",
      "2022-02-11 22:04:23,093 - mmdet - INFO - Epoch [28][600/1061]\tlr: 5.000e-06, eta: 3:35:52, time: 0.576, data_time: 0.011, memory: 21208, loss_rpn_cls: 0.0057, loss_rpn_bbox: 0.0076, loss_cls: 0.0526, acc: 97.9089, loss_bbox: 0.1200, loss: 0.1859\n",
      "2022-02-11 22:06:17,728 - mmdet - INFO - Epoch [28][800/1061]\tlr: 5.000e-06, eta: 3:34:08, time: 0.573, data_time: 0.011, memory: 21208, loss_rpn_cls: 0.0073, loss_rpn_bbox: 0.0070, loss_cls: 0.0494, acc: 98.0610, loss_bbox: 0.1110, loss: 0.1746\n",
      "2022-02-11 22:08:12,266 - mmdet - INFO - Epoch [28][1000/1061]\tlr: 5.000e-06, eta: 3:32:24, time: 0.573, data_time: 0.011, memory: 21208, loss_rpn_cls: 0.0066, loss_rpn_bbox: 0.0076, loss_cls: 0.0511, acc: 98.0159, loss_bbox: 0.1150, loss: 0.1803\n",
      "2022-02-11 22:08:47,351 - mmdet - INFO - Saving checkpoint at 28 epochs\n"
     ]
    },
    {
     "name": "stdout",
     "output_type": "stream",
     "text": [
      "[>>>>>>>>>>>>>>>>>>>>>>>>>>] 8561/8561, 13.2 task/s, elapsed: 649s, ETA:     0s"
     ]
    },
    {
     "name": "stderr",
     "output_type": "stream",
     "text": [
      "2022-02-11 22:19:38,119 - mmdet - INFO - Evaluating bbox...\n"
     ]
    },
    {
     "name": "stdout",
     "output_type": "stream",
     "text": [
      "Loading and preparing results...\n",
      "DONE (t=0.01s)\n",
      "creating index...\n",
      "index created!\n",
      "Running per image evaluation...\n",
      "Evaluate annotation type *bbox*\n",
      "DONE (t=2.28s).\n",
      "Accumulating evaluation results...\n"
     ]
    },
    {
     "name": "stderr",
     "output_type": "stream",
     "text": [
      "2022-02-11 22:19:41,070 - mmdet - INFO - \n",
      " Average Precision  (AP) @[ IoU=0.50:0.95 | area=   all | maxDets=100 ] = 0.341\n",
      " Average Precision  (AP) @[ IoU=0.50      | area=   all | maxDets=1000 ] = 0.735\n",
      " Average Precision  (AP) @[ IoU=0.75      | area=   all | maxDets=1000 ] = 0.237\n",
      " Average Precision  (AP) @[ IoU=0.50:0.95 | area= small | maxDets=1000 ] = 0.118\n",
      " Average Precision  (AP) @[ IoU=0.50:0.95 | area=medium | maxDets=1000 ] = 0.397\n",
      " Average Precision  (AP) @[ IoU=0.50:0.95 | area= large | maxDets=1000 ] = -1.000\n",
      " Average Recall     (AR) @[ IoU=0.50:0.95 | area=   all | maxDets=100 ] = 0.429\n",
      " Average Recall     (AR) @[ IoU=0.50:0.95 | area=   all | maxDets=300 ] = 0.429\n",
      " Average Recall     (AR) @[ IoU=0.50:0.95 | area=   all | maxDets=1000 ] = 0.429\n",
      " Average Recall     (AR) @[ IoU=0.50:0.95 | area= small | maxDets=1000 ] = 0.268\n",
      " Average Recall     (AR) @[ IoU=0.50:0.95 | area=medium | maxDets=1000 ] = 0.478\n",
      " Average Recall     (AR) @[ IoU=0.50:0.95 | area= large | maxDets=1000 ] = -1.000\n",
      "\n",
      "2022-02-11 22:19:41,097 - mmdet - INFO - Epoch(val) [28][8561]\tbbox_mAP: 0.3410, bbox_mAP_50: 0.7350, bbox_mAP_75: 0.2370, bbox_mAP_s: 0.1180, bbox_mAP_m: 0.3970, bbox_mAP_l: -1.0000, bbox_mAP_copypaste: 0.341 0.735 0.237 0.118 0.397 -1.000\n"
     ]
    },
    {
     "name": "stdout",
     "output_type": "stream",
     "text": [
      "DONE (t=0.62s).\n"
     ]
    },
    {
     "name": "stderr",
     "output_type": "stream",
     "text": [
      "2022-02-11 22:21:36,242 - mmdet - INFO - Epoch [29][200/1061]\tlr: 5.000e-06, eta: 3:29:41, time: 0.576, data_time: 0.024, memory: 21208, loss_rpn_cls: 0.0056, loss_rpn_bbox: 0.0065, loss_cls: 0.0486, acc: 98.0896, loss_bbox: 0.1114, loss: 0.1721\n",
      "2022-02-11 22:23:29,809 - mmdet - INFO - Epoch [29][400/1061]\tlr: 5.000e-06, eta: 3:27:56, time: 0.568, data_time: 0.011, memory: 21208, loss_rpn_cls: 0.0074, loss_rpn_bbox: 0.0076, loss_cls: 0.0519, acc: 98.0027, loss_bbox: 0.1174, loss: 0.1843\n",
      "2022-02-11 22:25:23,778 - mmdet - INFO - Epoch [29][600/1061]\tlr: 5.000e-06, eta: 3:26:11, time: 0.570, data_time: 0.011, memory: 21208, loss_rpn_cls: 0.0052, loss_rpn_bbox: 0.0069, loss_cls: 0.0479, acc: 98.0911, loss_bbox: 0.1110, loss: 0.1710\n",
      "2022-02-11 22:27:18,218 - mmdet - INFO - Epoch [29][800/1061]\tlr: 5.000e-06, eta: 3:24:26, time: 0.572, data_time: 0.011, memory: 21208, loss_rpn_cls: 0.0063, loss_rpn_bbox: 0.0068, loss_cls: 0.0505, acc: 98.0510, loss_bbox: 0.1152, loss: 0.1788\n",
      "2022-02-11 22:29:12,224 - mmdet - INFO - Epoch [29][1000/1061]\tlr: 5.000e-06, eta: 3:22:41, time: 0.570, data_time: 0.011, memory: 21208, loss_rpn_cls: 0.0061, loss_rpn_bbox: 0.0074, loss_cls: 0.0529, acc: 97.9072, loss_bbox: 0.1194, loss: 0.1858\n",
      "2022-02-11 22:29:48,398 - mmdet - INFO - Saving checkpoint at 29 epochs\n"
     ]
    },
    {
     "name": "stdout",
     "output_type": "stream",
     "text": [
      "[>>>>>>>>>>>>>>>>>>>>>>>>>>] 8561/8561, 13.2 task/s, elapsed: 648s, ETA:     0s"
     ]
    },
    {
     "name": "stderr",
     "output_type": "stream",
     "text": [
      "2022-02-11 22:40:38,419 - mmdet - INFO - Evaluating bbox...\n"
     ]
    },
    {
     "name": "stdout",
     "output_type": "stream",
     "text": [
      "Loading and preparing results...\n",
      "DONE (t=0.01s)\n",
      "creating index...\n",
      "index created!\n",
      "Running per image evaluation...\n",
      "Evaluate annotation type *bbox*\n",
      "DONE (t=2.20s).\n",
      "Accumulating evaluation results...\n"
     ]
    },
    {
     "name": "stderr",
     "output_type": "stream",
     "text": [
      "2022-02-11 22:40:41,063 - mmdet - INFO - \n",
      " Average Precision  (AP) @[ IoU=0.50:0.95 | area=   all | maxDets=100 ] = 0.333\n",
      " Average Precision  (AP) @[ IoU=0.50      | area=   all | maxDets=1000 ] = 0.731\n",
      " Average Precision  (AP) @[ IoU=0.75      | area=   all | maxDets=1000 ] = 0.225\n",
      " Average Precision  (AP) @[ IoU=0.50:0.95 | area= small | maxDets=1000 ] = 0.117\n",
      " Average Precision  (AP) @[ IoU=0.50:0.95 | area=medium | maxDets=1000 ] = 0.387\n",
      " Average Precision  (AP) @[ IoU=0.50:0.95 | area= large | maxDets=1000 ] = -1.000\n",
      " Average Recall     (AR) @[ IoU=0.50:0.95 | area=   all | maxDets=100 ] = 0.418\n",
      " Average Recall     (AR) @[ IoU=0.50:0.95 | area=   all | maxDets=300 ] = 0.418\n",
      " Average Recall     (AR) @[ IoU=0.50:0.95 | area=   all | maxDets=1000 ] = 0.418\n",
      " Average Recall     (AR) @[ IoU=0.50:0.95 | area= small | maxDets=1000 ] = 0.261\n",
      " Average Recall     (AR) @[ IoU=0.50:0.95 | area=medium | maxDets=1000 ] = 0.467\n",
      " Average Recall     (AR) @[ IoU=0.50:0.95 | area= large | maxDets=1000 ] = -1.000\n",
      "\n",
      "2022-02-11 22:40:41,093 - mmdet - INFO - Epoch(val) [29][8561]\tbbox_mAP: 0.3330, bbox_mAP_50: 0.7310, bbox_mAP_75: 0.2250, bbox_mAP_s: 0.1170, bbox_mAP_m: 0.3870, bbox_mAP_l: -1.0000, bbox_mAP_copypaste: 0.333 0.731 0.225 0.117 0.387 -1.000\n"
     ]
    },
    {
     "name": "stdout",
     "output_type": "stream",
     "text": [
      "DONE (t=0.40s).\n"
     ]
    },
    {
     "name": "stderr",
     "output_type": "stream",
     "text": [
      "2022-02-11 22:42:38,807 - mmdet - INFO - Epoch [30][200/1061]\tlr: 5.000e-06, eta: 3:20:02, time: 0.588, data_time: 0.024, memory: 21208, loss_rpn_cls: 0.0060, loss_rpn_bbox: 0.0070, loss_cls: 0.0489, acc: 98.0774, loss_bbox: 0.1114, loss: 0.1733\n",
      "2022-02-11 22:44:34,211 - mmdet - INFO - Epoch [30][400/1061]\tlr: 5.000e-06, eta: 3:18:18, time: 0.577, data_time: 0.011, memory: 21208, loss_rpn_cls: 0.0062, loss_rpn_bbox: 0.0078, loss_cls: 0.0500, acc: 98.0281, loss_bbox: 0.1179, loss: 0.1819\n",
      "2022-02-11 22:46:30,116 - mmdet - INFO - Epoch [30][600/1061]\tlr: 5.000e-06, eta: 3:16:34, time: 0.580, data_time: 0.011, memory: 21208, loss_rpn_cls: 0.0052, loss_rpn_bbox: 0.0073, loss_cls: 0.0501, acc: 98.0349, loss_bbox: 0.1149, loss: 0.1774\n",
      "2022-02-11 22:48:22,799 - mmdet - INFO - Epoch [30][800/1061]\tlr: 5.000e-06, eta: 3:14:48, time: 0.563, data_time: 0.011, memory: 21208, loss_rpn_cls: 0.0065, loss_rpn_bbox: 0.0070, loss_cls: 0.0491, acc: 98.0879, loss_bbox: 0.1145, loss: 0.1771\n",
      "2022-02-11 22:50:15,884 - mmdet - INFO - Epoch [30][1000/1061]\tlr: 5.000e-06, eta: 3:13:02, time: 0.565, data_time: 0.011, memory: 21208, loss_rpn_cls: 0.0052, loss_rpn_bbox: 0.0069, loss_cls: 0.0491, acc: 98.0698, loss_bbox: 0.1169, loss: 0.1781\n",
      "2022-02-11 22:50:50,752 - mmdet - INFO - Saving checkpoint at 30 epochs\n"
     ]
    },
    {
     "name": "stdout",
     "output_type": "stream",
     "text": [
      "[>>>>>>>>>>>>>>>>>>>>>>>>>>] 8561/8561, 13.2 task/s, elapsed: 650s, ETA:     0s"
     ]
    },
    {
     "name": "stderr",
     "output_type": "stream",
     "text": [
      "2022-02-11 23:01:43,117 - mmdet - INFO - Evaluating bbox...\n"
     ]
    },
    {
     "name": "stdout",
     "output_type": "stream",
     "text": [
      "Loading and preparing results...\n",
      "DONE (t=0.01s)\n",
      "creating index...\n",
      "index created!\n",
      "Running per image evaluation...\n",
      "Evaluate annotation type *bbox*\n",
      "DONE (t=2.09s).\n",
      "Accumulating evaluation results...\n"
     ]
    },
    {
     "name": "stderr",
     "output_type": "stream",
     "text": [
      "2022-02-11 23:01:45,605 - mmdet - INFO - \n",
      " Average Precision  (AP) @[ IoU=0.50:0.95 | area=   all | maxDets=100 ] = 0.337\n",
      " Average Precision  (AP) @[ IoU=0.50      | area=   all | maxDets=1000 ] = 0.729\n",
      " Average Precision  (AP) @[ IoU=0.75      | area=   all | maxDets=1000 ] = 0.238\n",
      " Average Precision  (AP) @[ IoU=0.50:0.95 | area= small | maxDets=1000 ] = 0.116\n",
      " Average Precision  (AP) @[ IoU=0.50:0.95 | area=medium | maxDets=1000 ] = 0.394\n",
      " Average Precision  (AP) @[ IoU=0.50:0.95 | area= large | maxDets=1000 ] = -1.000\n",
      " Average Recall     (AR) @[ IoU=0.50:0.95 | area=   all | maxDets=100 ] = 0.420\n",
      " Average Recall     (AR) @[ IoU=0.50:0.95 | area=   all | maxDets=300 ] = 0.420\n",
      " Average Recall     (AR) @[ IoU=0.50:0.95 | area=   all | maxDets=1000 ] = 0.420\n",
      " Average Recall     (AR) @[ IoU=0.50:0.95 | area= small | maxDets=1000 ] = 0.251\n",
      " Average Recall     (AR) @[ IoU=0.50:0.95 | area=medium | maxDets=1000 ] = 0.472\n",
      " Average Recall     (AR) @[ IoU=0.50:0.95 | area= large | maxDets=1000 ] = -1.000\n",
      "\n",
      "2022-02-11 23:01:45,634 - mmdet - INFO - Epoch(val) [30][8561]\tbbox_mAP: 0.3370, bbox_mAP_50: 0.7290, bbox_mAP_75: 0.2380, bbox_mAP_s: 0.1160, bbox_mAP_m: 0.3940, bbox_mAP_l: -1.0000, bbox_mAP_copypaste: 0.337 0.729 0.238 0.116 0.394 -1.000\n"
     ]
    },
    {
     "name": "stdout",
     "output_type": "stream",
     "text": [
      "DONE (t=0.36s).\n"
     ]
    },
    {
     "name": "stderr",
     "output_type": "stream",
     "text": [
      "2022-02-11 23:03:42,249 - mmdet - INFO - Epoch [31][200/1061]\tlr: 5.000e-06, eta: 3:10:23, time: 0.583, data_time: 0.024, memory: 21208, loss_rpn_cls: 0.0057, loss_rpn_bbox: 0.0065, loss_cls: 0.0459, acc: 98.2388, loss_bbox: 0.1048, loss: 0.1629\n",
      "2022-02-11 23:05:37,426 - mmdet - INFO - Epoch [31][400/1061]\tlr: 5.000e-06, eta: 3:08:38, time: 0.576, data_time: 0.011, memory: 21208, loss_rpn_cls: 0.0060, loss_rpn_bbox: 0.0072, loss_cls: 0.0498, acc: 98.0862, loss_bbox: 0.1111, loss: 0.1741\n",
      "2022-02-11 23:07:31,987 - mmdet - INFO - Epoch [31][600/1061]\tlr: 5.000e-06, eta: 3:06:53, time: 0.573, data_time: 0.011, memory: 21208, loss_rpn_cls: 0.0057, loss_rpn_bbox: 0.0076, loss_cls: 0.0525, acc: 97.9331, loss_bbox: 0.1198, loss: 0.1855\n",
      "2022-02-11 23:09:26,664 - mmdet - INFO - Epoch [31][800/1061]\tlr: 5.000e-06, eta: 3:05:08, time: 0.573, data_time: 0.011, memory: 21208, loss_rpn_cls: 0.0059, loss_rpn_bbox: 0.0070, loss_cls: 0.0504, acc: 98.0073, loss_bbox: 0.1164, loss: 0.1798\n",
      "2022-02-11 23:11:21,294 - mmdet - INFO - Epoch [31][1000/1061]\tlr: 5.000e-06, eta: 3:03:23, time: 0.573, data_time: 0.011, memory: 21208, loss_rpn_cls: 0.0050, loss_rpn_bbox: 0.0071, loss_cls: 0.0493, acc: 98.0654, loss_bbox: 0.1150, loss: 0.1765\n",
      "2022-02-11 23:11:56,830 - mmdet - INFO - Saving checkpoint at 31 epochs\n"
     ]
    },
    {
     "name": "stdout",
     "output_type": "stream",
     "text": [
      "[>>>>>>>>>>>>>>>>>>>>>>>>>>] 8561/8561, 13.1 task/s, elapsed: 653s, ETA:     0s"
     ]
    },
    {
     "name": "stderr",
     "output_type": "stream",
     "text": [
      "2022-02-11 23:22:52,496 - mmdet - INFO - Evaluating bbox...\n"
     ]
    },
    {
     "name": "stdout",
     "output_type": "stream",
     "text": [
      "Loading and preparing results...\n",
      "DONE (t=0.01s)\n",
      "creating index...\n",
      "index created!\n",
      "Running per image evaluation...\n",
      "Evaluate annotation type *bbox*\n",
      "DONE (t=2.33s).\n",
      "Accumulating evaluation results...\n"
     ]
    },
    {
     "name": "stderr",
     "output_type": "stream",
     "text": [
      "2022-02-11 23:22:55,481 - mmdet - INFO - \n",
      " Average Precision  (AP) @[ IoU=0.50:0.95 | area=   all | maxDets=100 ] = 0.340\n",
      " Average Precision  (AP) @[ IoU=0.50      | area=   all | maxDets=1000 ] = 0.737\n",
      " Average Precision  (AP) @[ IoU=0.75      | area=   all | maxDets=1000 ] = 0.239\n",
      " Average Precision  (AP) @[ IoU=0.50:0.95 | area= small | maxDets=1000 ] = 0.120\n",
      " Average Precision  (AP) @[ IoU=0.50:0.95 | area=medium | maxDets=1000 ] = 0.395\n",
      " Average Precision  (AP) @[ IoU=0.50:0.95 | area= large | maxDets=1000 ] = -1.000\n",
      " Average Recall     (AR) @[ IoU=0.50:0.95 | area=   all | maxDets=100 ] = 0.427\n",
      " Average Recall     (AR) @[ IoU=0.50:0.95 | area=   all | maxDets=300 ] = 0.427\n",
      " Average Recall     (AR) @[ IoU=0.50:0.95 | area=   all | maxDets=1000 ] = 0.427\n",
      " Average Recall     (AR) @[ IoU=0.50:0.95 | area= small | maxDets=1000 ] = 0.268\n",
      " Average Recall     (AR) @[ IoU=0.50:0.95 | area=medium | maxDets=1000 ] = 0.476\n",
      " Average Recall     (AR) @[ IoU=0.50:0.95 | area= large | maxDets=1000 ] = -1.000\n",
      "\n",
      "2022-02-11 23:22:55,510 - mmdet - INFO - Epoch(val) [31][8561]\tbbox_mAP: 0.3400, bbox_mAP_50: 0.7370, bbox_mAP_75: 0.2390, bbox_mAP_s: 0.1200, bbox_mAP_m: 0.3950, bbox_mAP_l: -1.0000, bbox_mAP_copypaste: 0.340 0.737 0.239 0.120 0.395 -1.000\n"
     ]
    },
    {
     "name": "stdout",
     "output_type": "stream",
     "text": [
      "DONE (t=0.60s).\n"
     ]
    },
    {
     "name": "stderr",
     "output_type": "stream",
     "text": [
      "2022-02-11 23:24:53,409 - mmdet - INFO - Epoch [32][200/1061]\tlr: 5.000e-06, eta: 3:00:46, time: 0.589, data_time: 0.024, memory: 21208, loss_rpn_cls: 0.0058, loss_rpn_bbox: 0.0074, loss_cls: 0.0484, acc: 98.0747, loss_bbox: 0.1173, loss: 0.1789\n",
      "2022-02-11 23:26:48,423 - mmdet - INFO - Epoch [32][400/1061]\tlr: 5.000e-06, eta: 2:59:02, time: 0.575, data_time: 0.011, memory: 21208, loss_rpn_cls: 0.0053, loss_rpn_bbox: 0.0073, loss_cls: 0.0498, acc: 98.0076, loss_bbox: 0.1145, loss: 0.1769\n",
      "2022-02-11 23:28:45,191 - mmdet - INFO - Epoch [32][600/1061]\tlr: 5.000e-06, eta: 2:57:17, time: 0.584, data_time: 0.011, memory: 21208, loss_rpn_cls: 0.0059, loss_rpn_bbox: 0.0074, loss_cls: 0.0483, acc: 98.0854, loss_bbox: 0.1151, loss: 0.1768\n",
      "2022-02-11 23:30:39,512 - mmdet - INFO - Epoch [32][800/1061]\tlr: 5.000e-06, eta: 2:55:32, time: 0.572, data_time: 0.011, memory: 21208, loss_rpn_cls: 0.0056, loss_rpn_bbox: 0.0066, loss_cls: 0.0459, acc: 98.2148, loss_bbox: 0.1073, loss: 0.1654\n",
      "2022-02-11 23:32:35,655 - mmdet - INFO - Epoch [32][1000/1061]\tlr: 5.000e-06, eta: 2:53:47, time: 0.581, data_time: 0.011, memory: 21208, loss_rpn_cls: 0.0051, loss_rpn_bbox: 0.0066, loss_cls: 0.0461, acc: 98.2185, loss_bbox: 0.1070, loss: 0.1647\n",
      "2022-02-11 23:33:11,926 - mmdet - INFO - Saving checkpoint at 32 epochs\n"
     ]
    },
    {
     "name": "stdout",
     "output_type": "stream",
     "text": [
      "[>>>>>>>>>>>>>>>>>>>>>>>>>>] 8561/8561, 13.3 task/s, elapsed: 644s, ETA:     0s"
     ]
    },
    {
     "name": "stderr",
     "output_type": "stream",
     "text": [
      "2022-02-11 23:43:57,935 - mmdet - INFO - Evaluating bbox...\n"
     ]
    },
    {
     "name": "stdout",
     "output_type": "stream",
     "text": [
      "Loading and preparing results...\n",
      "DONE (t=0.01s)\n",
      "creating index...\n",
      "index created!\n",
      "Running per image evaluation...\n",
      "Evaluate annotation type *bbox*\n",
      "DONE (t=2.19s).\n",
      "Accumulating evaluation results...\n"
     ]
    },
    {
     "name": "stderr",
     "output_type": "stream",
     "text": [
      "2022-02-11 23:44:00,564 - mmdet - INFO - \n",
      " Average Precision  (AP) @[ IoU=0.50:0.95 | area=   all | maxDets=100 ] = 0.336\n",
      " Average Precision  (AP) @[ IoU=0.50      | area=   all | maxDets=1000 ] = 0.730\n",
      " Average Precision  (AP) @[ IoU=0.75      | area=   all | maxDets=1000 ] = 0.236\n",
      " Average Precision  (AP) @[ IoU=0.50:0.95 | area= small | maxDets=1000 ] = 0.113\n",
      " Average Precision  (AP) @[ IoU=0.50:0.95 | area=medium | maxDets=1000 ] = 0.393\n",
      " Average Precision  (AP) @[ IoU=0.50:0.95 | area= large | maxDets=1000 ] = -1.000\n",
      " Average Recall     (AR) @[ IoU=0.50:0.95 | area=   all | maxDets=100 ] = 0.420\n",
      " Average Recall     (AR) @[ IoU=0.50:0.95 | area=   all | maxDets=300 ] = 0.420\n",
      " Average Recall     (AR) @[ IoU=0.50:0.95 | area=   all | maxDets=1000 ] = 0.420\n",
      " Average Recall     (AR) @[ IoU=0.50:0.95 | area= small | maxDets=1000 ] = 0.260\n",
      " Average Recall     (AR) @[ IoU=0.50:0.95 | area=medium | maxDets=1000 ] = 0.469\n",
      " Average Recall     (AR) @[ IoU=0.50:0.95 | area= large | maxDets=1000 ] = -1.000\n",
      "\n",
      "2022-02-11 23:44:00,592 - mmdet - INFO - Epoch(val) [32][8561]\tbbox_mAP: 0.3360, bbox_mAP_50: 0.7300, bbox_mAP_75: 0.2360, bbox_mAP_s: 0.1130, bbox_mAP_m: 0.3930, bbox_mAP_l: -1.0000, bbox_mAP_copypaste: 0.336 0.730 0.236 0.113 0.393 -1.000\n"
     ]
    },
    {
     "name": "stdout",
     "output_type": "stream",
     "text": [
      "DONE (t=0.39s).\n"
     ]
    },
    {
     "name": "stderr",
     "output_type": "stream",
     "text": [
      "2022-02-11 23:45:58,997 - mmdet - INFO - Epoch [33][200/1061]\tlr: 5.000e-06, eta: 2:51:12, time: 0.592, data_time: 0.025, memory: 21208, loss_rpn_cls: 0.0058, loss_rpn_bbox: 0.0072, loss_cls: 0.0469, acc: 98.1448, loss_bbox: 0.1127, loss: 0.1727\n",
      "2022-02-11 23:47:54,926 - mmdet - INFO - Epoch [33][400/1061]\tlr: 5.000e-06, eta: 2:49:27, time: 0.580, data_time: 0.011, memory: 21208, loss_rpn_cls: 0.0050, loss_rpn_bbox: 0.0073, loss_cls: 0.0516, acc: 97.9736, loss_bbox: 0.1192, loss: 0.1830\n",
      "2022-02-11 23:49:49,448 - mmdet - INFO - Epoch [33][600/1061]\tlr: 5.000e-06, eta: 2:47:42, time: 0.573, data_time: 0.011, memory: 21208, loss_rpn_cls: 0.0054, loss_rpn_bbox: 0.0069, loss_cls: 0.0452, acc: 98.2151, loss_bbox: 0.1071, loss: 0.1646\n",
      "2022-02-11 23:51:44,636 - mmdet - INFO - Epoch [33][800/1061]\tlr: 5.000e-06, eta: 2:45:56, time: 0.576, data_time: 0.011, memory: 21208, loss_rpn_cls: 0.0059, loss_rpn_bbox: 0.0073, loss_cls: 0.0502, acc: 98.0530, loss_bbox: 0.1141, loss: 0.1776\n",
      "2022-02-11 23:53:40,090 - mmdet - INFO - Epoch [33][1000/1061]\tlr: 5.000e-06, eta: 2:44:11, time: 0.577, data_time: 0.011, memory: 21208, loss_rpn_cls: 0.0064, loss_rpn_bbox: 0.0074, loss_cls: 0.0497, acc: 98.0332, loss_bbox: 0.1133, loss: 0.1768\n",
      "2022-02-11 23:54:14,585 - mmdet - INFO - Saving checkpoint at 33 epochs\n"
     ]
    },
    {
     "name": "stdout",
     "output_type": "stream",
     "text": [
      "[>>>>>>>>>>>>>>>>>>>>>>>>>>] 8561/8561, 13.3 task/s, elapsed: 644s, ETA:     0s"
     ]
    },
    {
     "name": "stderr",
     "output_type": "stream",
     "text": [
      "2022-02-12 00:05:00,986 - mmdet - INFO - Evaluating bbox...\n"
     ]
    },
    {
     "name": "stdout",
     "output_type": "stream",
     "text": [
      "Loading and preparing results...\n",
      "DONE (t=0.02s)\n",
      "creating index...\n",
      "index created!\n",
      "Running per image evaluation...\n",
      "Evaluate annotation type *bbox*\n",
      "DONE (t=2.32s).\n",
      "Accumulating evaluation results...\n"
     ]
    },
    {
     "name": "stderr",
     "output_type": "stream",
     "text": [
      "2022-02-12 00:05:03,975 - mmdet - INFO - \n",
      " Average Precision  (AP) @[ IoU=0.50:0.95 | area=   all | maxDets=100 ] = 0.338\n",
      " Average Precision  (AP) @[ IoU=0.50      | area=   all | maxDets=1000 ] = 0.730\n",
      " Average Precision  (AP) @[ IoU=0.75      | area=   all | maxDets=1000 ] = 0.239\n",
      " Average Precision  (AP) @[ IoU=0.50:0.95 | area= small | maxDets=1000 ] = 0.115\n",
      " Average Precision  (AP) @[ IoU=0.50:0.95 | area=medium | maxDets=1000 ] = 0.395\n",
      " Average Precision  (AP) @[ IoU=0.50:0.95 | area= large | maxDets=1000 ] = -1.000\n",
      " Average Recall     (AR) @[ IoU=0.50:0.95 | area=   all | maxDets=100 ] = 0.425\n",
      " Average Recall     (AR) @[ IoU=0.50:0.95 | area=   all | maxDets=300 ] = 0.425\n",
      " Average Recall     (AR) @[ IoU=0.50:0.95 | area=   all | maxDets=1000 ] = 0.425\n",
      " Average Recall     (AR) @[ IoU=0.50:0.95 | area= small | maxDets=1000 ] = 0.260\n",
      " Average Recall     (AR) @[ IoU=0.50:0.95 | area=medium | maxDets=1000 ] = 0.476\n",
      " Average Recall     (AR) @[ IoU=0.50:0.95 | area= large | maxDets=1000 ] = -1.000\n",
      "\n",
      "2022-02-12 00:05:04,007 - mmdet - INFO - Epoch(val) [33][8561]\tbbox_mAP: 0.3380, bbox_mAP_50: 0.7300, bbox_mAP_75: 0.2390, bbox_mAP_s: 0.1150, bbox_mAP_m: 0.3950, bbox_mAP_l: -1.0000, bbox_mAP_copypaste: 0.338 0.730 0.239 0.115 0.395 -1.000\n"
     ]
    },
    {
     "name": "stdout",
     "output_type": "stream",
     "text": [
      "DONE (t=0.61s).\n"
     ]
    },
    {
     "name": "stderr",
     "output_type": "stream",
     "text": [
      "2022-02-12 00:06:59,784 - mmdet - INFO - Epoch [34][200/1061]\tlr: 5.000e-06, eta: 2:41:35, time: 0.579, data_time: 0.024, memory: 21208, loss_rpn_cls: 0.0056, loss_rpn_bbox: 0.0075, loss_cls: 0.0522, acc: 97.9495, loss_bbox: 0.1208, loss: 0.1861\n",
      "2022-02-12 00:08:54,948 - mmdet - INFO - Epoch [34][400/1061]\tlr: 5.000e-06, eta: 2:39:50, time: 0.576, data_time: 0.011, memory: 21208, loss_rpn_cls: 0.0062, loss_rpn_bbox: 0.0068, loss_cls: 0.0468, acc: 98.1448, loss_bbox: 0.1082, loss: 0.1680\n",
      "2022-02-12 00:10:50,392 - mmdet - INFO - Epoch [34][600/1061]\tlr: 5.000e-06, eta: 2:38:04, time: 0.577, data_time: 0.011, memory: 21208, loss_rpn_cls: 0.0046, loss_rpn_bbox: 0.0069, loss_cls: 0.0470, acc: 98.1587, loss_bbox: 0.1113, loss: 0.1698\n",
      "2022-02-12 00:12:43,928 - mmdet - INFO - Epoch [34][800/1061]\tlr: 5.000e-06, eta: 2:36:18, time: 0.568, data_time: 0.011, memory: 21208, loss_rpn_cls: 0.0066, loss_rpn_bbox: 0.0074, loss_cls: 0.0520, acc: 97.9751, loss_bbox: 0.1194, loss: 0.1854\n",
      "2022-02-12 00:14:38,669 - mmdet - INFO - Epoch [34][1000/1061]\tlr: 5.000e-06, eta: 2:34:32, time: 0.574, data_time: 0.011, memory: 21208, loss_rpn_cls: 0.0059, loss_rpn_bbox: 0.0072, loss_cls: 0.0480, acc: 98.1174, loss_bbox: 0.1076, loss: 0.1687\n",
      "2022-02-12 00:15:13,812 - mmdet - INFO - Saving checkpoint at 34 epochs\n"
     ]
    },
    {
     "name": "stdout",
     "output_type": "stream",
     "text": [
      "[>>>>>>>>>>>>>>>>>>>>>>>>>>] 8561/8561, 13.1 task/s, elapsed: 652s, ETA:     0s"
     ]
    },
    {
     "name": "stderr",
     "output_type": "stream",
     "text": [
      "2022-02-12 00:26:07,526 - mmdet - INFO - Evaluating bbox...\n"
     ]
    },
    {
     "name": "stdout",
     "output_type": "stream",
     "text": [
      "Loading and preparing results...\n",
      "DONE (t=0.01s)\n",
      "creating index...\n",
      "index created!\n",
      "Running per image evaluation...\n",
      "Evaluate annotation type *bbox*\n",
      "DONE (t=2.25s).\n",
      "Accumulating evaluation results...\n"
     ]
    },
    {
     "name": "stderr",
     "output_type": "stream",
     "text": [
      "2022-02-12 00:26:10,222 - mmdet - INFO - \n",
      " Average Precision  (AP) @[ IoU=0.50:0.95 | area=   all | maxDets=100 ] = 0.336\n",
      " Average Precision  (AP) @[ IoU=0.50      | area=   all | maxDets=1000 ] = 0.728\n",
      " Average Precision  (AP) @[ IoU=0.75      | area=   all | maxDets=1000 ] = 0.236\n",
      " Average Precision  (AP) @[ IoU=0.50:0.95 | area= small | maxDets=1000 ] = 0.114\n",
      " Average Precision  (AP) @[ IoU=0.50:0.95 | area=medium | maxDets=1000 ] = 0.392\n",
      " Average Precision  (AP) @[ IoU=0.50:0.95 | area= large | maxDets=1000 ] = -1.000\n",
      " Average Recall     (AR) @[ IoU=0.50:0.95 | area=   all | maxDets=100 ] = 0.421\n",
      " Average Recall     (AR) @[ IoU=0.50:0.95 | area=   all | maxDets=300 ] = 0.421\n",
      " Average Recall     (AR) @[ IoU=0.50:0.95 | area=   all | maxDets=1000 ] = 0.421\n",
      " Average Recall     (AR) @[ IoU=0.50:0.95 | area= small | maxDets=1000 ] = 0.257\n",
      " Average Recall     (AR) @[ IoU=0.50:0.95 | area=medium | maxDets=1000 ] = 0.472\n",
      " Average Recall     (AR) @[ IoU=0.50:0.95 | area= large | maxDets=1000 ] = -1.000\n",
      "\n",
      "2022-02-12 00:26:10,251 - mmdet - INFO - Epoch(val) [34][8561]\tbbox_mAP: 0.3360, bbox_mAP_50: 0.7280, bbox_mAP_75: 0.2360, bbox_mAP_s: 0.1140, bbox_mAP_m: 0.3920, bbox_mAP_l: -1.0000, bbox_mAP_copypaste: 0.336 0.728 0.236 0.114 0.392 -1.000\n"
     ]
    },
    {
     "name": "stdout",
     "output_type": "stream",
     "text": [
      "DONE (t=0.39s).\n"
     ]
    },
    {
     "name": "stderr",
     "output_type": "stream",
     "text": [
      "2022-02-12 00:28:09,712 - mmdet - INFO - Epoch [35][200/1061]\tlr: 5.000e-06, eta: 2:31:59, time: 0.597, data_time: 0.024, memory: 21208, loss_rpn_cls: 0.0052, loss_rpn_bbox: 0.0074, loss_cls: 0.0520, acc: 97.9932, loss_bbox: 0.1178, loss: 0.1825\n",
      "2022-02-12 00:30:01,851 - mmdet - INFO - Epoch [35][400/1061]\tlr: 5.000e-06, eta: 2:30:12, time: 0.561, data_time: 0.010, memory: 21208, loss_rpn_cls: 0.0064, loss_rpn_bbox: 0.0071, loss_cls: 0.0449, acc: 98.2568, loss_bbox: 0.1060, loss: 0.1645\n",
      "2022-02-12 00:31:57,980 - mmdet - INFO - Epoch [35][600/1061]\tlr: 5.000e-06, eta: 2:28:27, time: 0.581, data_time: 0.011, memory: 21208, loss_rpn_cls: 0.0068, loss_rpn_bbox: 0.0078, loss_cls: 0.0500, acc: 98.0154, loss_bbox: 0.1175, loss: 0.1821\n",
      "2022-02-12 00:33:51,367 - mmdet - INFO - Epoch [35][800/1061]\tlr: 5.000e-06, eta: 2:26:40, time: 0.567, data_time: 0.011, memory: 21208, loss_rpn_cls: 0.0044, loss_rpn_bbox: 0.0064, loss_cls: 0.0468, acc: 98.1392, loss_bbox: 0.1081, loss: 0.1657\n",
      "2022-02-12 00:35:45,240 - mmdet - INFO - Epoch [35][1000/1061]\tlr: 5.000e-06, eta: 2:24:53, time: 0.569, data_time: 0.011, memory: 21208, loss_rpn_cls: 0.0060, loss_rpn_bbox: 0.0070, loss_cls: 0.0504, acc: 98.0337, loss_bbox: 0.1123, loss: 0.1756\n",
      "2022-02-12 00:36:18,897 - mmdet - INFO - Saving checkpoint at 35 epochs\n"
     ]
    },
    {
     "name": "stdout",
     "output_type": "stream",
     "text": [
      "[>>>>>>>>>>>>>>>>>>>>>>>>>>] 8561/8561, 13.2 task/s, elapsed: 646s, ETA:     0s"
     ]
    },
    {
     "name": "stderr",
     "output_type": "stream",
     "text": [
      "2022-02-12 00:47:07,171 - mmdet - INFO - Evaluating bbox...\n"
     ]
    },
    {
     "name": "stdout",
     "output_type": "stream",
     "text": [
      "Loading and preparing results...\n",
      "DONE (t=0.01s)\n",
      "creating index...\n",
      "index created!\n",
      "Running per image evaluation...\n",
      "Evaluate annotation type *bbox*\n",
      "DONE (t=2.14s).\n",
      "Accumulating evaluation results...\n"
     ]
    },
    {
     "name": "stderr",
     "output_type": "stream",
     "text": [
      "2022-02-12 00:47:09,712 - mmdet - INFO - \n",
      " Average Precision  (AP) @[ IoU=0.50:0.95 | area=   all | maxDets=100 ] = 0.333\n",
      " Average Precision  (AP) @[ IoU=0.50      | area=   all | maxDets=1000 ] = 0.728\n",
      " Average Precision  (AP) @[ IoU=0.75      | area=   all | maxDets=1000 ] = 0.229\n",
      " Average Precision  (AP) @[ IoU=0.50:0.95 | area= small | maxDets=1000 ] = 0.112\n",
      " Average Precision  (AP) @[ IoU=0.50:0.95 | area=medium | maxDets=1000 ] = 0.389\n",
      " Average Precision  (AP) @[ IoU=0.50:0.95 | area= large | maxDets=1000 ] = -1.000\n",
      " Average Recall     (AR) @[ IoU=0.50:0.95 | area=   all | maxDets=100 ] = 0.417\n",
      " Average Recall     (AR) @[ IoU=0.50:0.95 | area=   all | maxDets=300 ] = 0.417\n",
      " Average Recall     (AR) @[ IoU=0.50:0.95 | area=   all | maxDets=1000 ] = 0.417\n",
      " Average Recall     (AR) @[ IoU=0.50:0.95 | area= small | maxDets=1000 ] = 0.251\n",
      " Average Recall     (AR) @[ IoU=0.50:0.95 | area=medium | maxDets=1000 ] = 0.468\n",
      " Average Recall     (AR) @[ IoU=0.50:0.95 | area= large | maxDets=1000 ] = -1.000\n",
      "\n",
      "2022-02-12 00:47:09,737 - mmdet - INFO - Epoch(val) [35][8561]\tbbox_mAP: 0.3330, bbox_mAP_50: 0.7280, bbox_mAP_75: 0.2290, bbox_mAP_s: 0.1120, bbox_mAP_m: 0.3890, bbox_mAP_l: -1.0000, bbox_mAP_copypaste: 0.333 0.728 0.229 0.112 0.389 -1.000\n"
     ]
    },
    {
     "name": "stdout",
     "output_type": "stream",
     "text": [
      "DONE (t=0.36s).\n"
     ]
    },
    {
     "name": "stderr",
     "output_type": "stream",
     "text": [
      "2022-02-12 00:49:06,572 - mmdet - INFO - Epoch [36][200/1061]\tlr: 5.000e-06, eta: 2:22:21, time: 0.584, data_time: 0.024, memory: 21208, loss_rpn_cls: 0.0059, loss_rpn_bbox: 0.0071, loss_cls: 0.0459, acc: 98.1624, loss_bbox: 0.1111, loss: 0.1700\n",
      "2022-02-12 00:51:01,148 - mmdet - INFO - Epoch [36][400/1061]\tlr: 5.000e-06, eta: 2:20:34, time: 0.573, data_time: 0.011, memory: 21208, loss_rpn_cls: 0.0050, loss_rpn_bbox: 0.0069, loss_cls: 0.0493, acc: 98.0620, loss_bbox: 0.1129, loss: 0.1742\n",
      "2022-02-12 00:52:54,963 - mmdet - INFO - Epoch [36][600/1061]\tlr: 5.000e-06, eta: 2:18:48, time: 0.569, data_time: 0.011, memory: 21208, loss_rpn_cls: 0.0048, loss_rpn_bbox: 0.0064, loss_cls: 0.0471, acc: 98.1909, loss_bbox: 0.1086, loss: 0.1668\n",
      "2022-02-12 00:54:49,553 - mmdet - INFO - Epoch [36][800/1061]\tlr: 5.000e-06, eta: 2:17:01, time: 0.573, data_time: 0.011, memory: 21208, loss_rpn_cls: 0.0047, loss_rpn_bbox: 0.0069, loss_cls: 0.0473, acc: 98.1353, loss_bbox: 0.1118, loss: 0.1707\n",
      "2022-02-12 00:56:45,733 - mmdet - INFO - Epoch [36][1000/1061]\tlr: 5.000e-06, eta: 2:15:15, time: 0.581, data_time: 0.011, memory: 21208, loss_rpn_cls: 0.0055, loss_rpn_bbox: 0.0073, loss_cls: 0.0497, acc: 98.0530, loss_bbox: 0.1149, loss: 0.1775\n",
      "2022-02-12 00:57:21,605 - mmdet - INFO - Saving checkpoint at 36 epochs\n"
     ]
    },
    {
     "name": "stdout",
     "output_type": "stream",
     "text": [
      "[>>>>>>>>>>>>>>>>>>>>>>>>>>] 8561/8561, 13.1 task/s, elapsed: 651s, ETA:     0s"
     ]
    },
    {
     "name": "stderr",
     "output_type": "stream",
     "text": [
      "2022-02-12 01:08:14,806 - mmdet - INFO - Evaluating bbox...\n"
     ]
    },
    {
     "name": "stdout",
     "output_type": "stream",
     "text": [
      "Loading and preparing results...\n",
      "DONE (t=0.02s)\n",
      "creating index...\n",
      "index created!\n",
      "Running per image evaluation...\n",
      "Evaluate annotation type *bbox*\n",
      "DONE (t=2.64s).\n",
      "Accumulating evaluation results...\n"
     ]
    },
    {
     "name": "stderr",
     "output_type": "stream",
     "text": [
      "2022-02-12 01:08:17,940 - mmdet - INFO - \n",
      " Average Precision  (AP) @[ IoU=0.50:0.95 | area=   all | maxDets=100 ] = 0.338\n",
      " Average Precision  (AP) @[ IoU=0.50      | area=   all | maxDets=1000 ] = 0.726\n",
      " Average Precision  (AP) @[ IoU=0.75      | area=   all | maxDets=1000 ] = 0.243\n",
      " Average Precision  (AP) @[ IoU=0.50:0.95 | area= small | maxDets=1000 ] = 0.114\n",
      " Average Precision  (AP) @[ IoU=0.50:0.95 | area=medium | maxDets=1000 ] = 0.395\n",
      " Average Precision  (AP) @[ IoU=0.50:0.95 | area= large | maxDets=1000 ] = -1.000\n",
      " Average Recall     (AR) @[ IoU=0.50:0.95 | area=   all | maxDets=100 ] = 0.421\n",
      " Average Recall     (AR) @[ IoU=0.50:0.95 | area=   all | maxDets=300 ] = 0.421\n",
      " Average Recall     (AR) @[ IoU=0.50:0.95 | area=   all | maxDets=1000 ] = 0.421\n",
      " Average Recall     (AR) @[ IoU=0.50:0.95 | area= small | maxDets=1000 ] = 0.257\n",
      " Average Recall     (AR) @[ IoU=0.50:0.95 | area=medium | maxDets=1000 ] = 0.472\n",
      " Average Recall     (AR) @[ IoU=0.50:0.95 | area= large | maxDets=1000 ] = -1.000\n",
      "\n",
      "2022-02-12 01:08:17,981 - mmdet - INFO - Epoch(val) [36][8561]\tbbox_mAP: 0.3380, bbox_mAP_50: 0.7260, bbox_mAP_75: 0.2430, bbox_mAP_s: 0.1140, bbox_mAP_m: 0.3950, bbox_mAP_l: -1.0000, bbox_mAP_copypaste: 0.338 0.726 0.243 0.114 0.395 -1.000\n"
     ]
    },
    {
     "name": "stdout",
     "output_type": "stream",
     "text": [
      "DONE (t=0.43s).\n"
     ]
    },
    {
     "name": "stderr",
     "output_type": "stream",
     "text": [
      "2022-02-12 01:10:15,687 - mmdet - INFO - Epoch [37][200/1061]\tlr: 5.000e-06, eta: 2:12:44, time: 0.588, data_time: 0.024, memory: 21208, loss_rpn_cls: 0.0054, loss_rpn_bbox: 0.0070, loss_cls: 0.0497, acc: 98.0579, loss_bbox: 0.1128, loss: 0.1749\n",
      "2022-02-12 01:12:11,261 - mmdet - INFO - Epoch [37][400/1061]\tlr: 5.000e-06, eta: 2:10:58, time: 0.578, data_time: 0.011, memory: 21208, loss_rpn_cls: 0.0060, loss_rpn_bbox: 0.0072, loss_cls: 0.0498, acc: 98.0505, loss_bbox: 0.1161, loss: 0.1791\n",
      "2022-02-12 01:14:05,126 - mmdet - INFO - Epoch [37][600/1061]\tlr: 5.000e-06, eta: 2:09:11, time: 0.569, data_time: 0.011, memory: 21208, loss_rpn_cls: 0.0046, loss_rpn_bbox: 0.0065, loss_cls: 0.0468, acc: 98.1360, loss_bbox: 0.1094, loss: 0.1674\n",
      "2022-02-12 01:15:57,716 - mmdet - INFO - Epoch [37][800/1061]\tlr: 5.000e-06, eta: 2:07:24, time: 0.563, data_time: 0.010, memory: 21208, loss_rpn_cls: 0.0052, loss_rpn_bbox: 0.0065, loss_cls: 0.0474, acc: 98.1250, loss_bbox: 0.1113, loss: 0.1704\n",
      "2022-02-12 01:17:52,834 - mmdet - INFO - Epoch [37][1000/1061]\tlr: 5.000e-06, eta: 2:05:37, time: 0.576, data_time: 0.011, memory: 21208, loss_rpn_cls: 0.0047, loss_rpn_bbox: 0.0067, loss_cls: 0.0466, acc: 98.1333, loss_bbox: 0.1074, loss: 0.1653\n",
      "2022-02-12 01:18:28,239 - mmdet - INFO - Saving checkpoint at 37 epochs\n"
     ]
    },
    {
     "name": "stdout",
     "output_type": "stream",
     "text": [
      "[>>>>>>>>>>>>>>>>>>>>>>>>>>] 8561/8561, 13.2 task/s, elapsed: 648s, ETA:     0s"
     ]
    },
    {
     "name": "stderr",
     "output_type": "stream",
     "text": [
      "2022-02-12 01:29:18,509 - mmdet - INFO - Evaluating bbox...\n"
     ]
    },
    {
     "name": "stdout",
     "output_type": "stream",
     "text": [
      "Loading and preparing results...\n",
      "DONE (t=0.01s)\n",
      "creating index...\n",
      "index created!\n",
      "Running per image evaluation...\n",
      "Evaluate annotation type *bbox*\n",
      "DONE (t=2.02s).\n",
      "Accumulating evaluation results...\n"
     ]
    },
    {
     "name": "stderr",
     "output_type": "stream",
     "text": [
      "2022-02-12 01:29:20,894 - mmdet - INFO - \n",
      " Average Precision  (AP) @[ IoU=0.50:0.95 | area=   all | maxDets=100 ] = 0.330\n",
      " Average Precision  (AP) @[ IoU=0.50      | area=   all | maxDets=1000 ] = 0.718\n",
      " Average Precision  (AP) @[ IoU=0.75      | area=   all | maxDets=1000 ] = 0.228\n",
      " Average Precision  (AP) @[ IoU=0.50:0.95 | area= small | maxDets=1000 ] = 0.111\n",
      " Average Precision  (AP) @[ IoU=0.50:0.95 | area=medium | maxDets=1000 ] = 0.385\n",
      " Average Precision  (AP) @[ IoU=0.50:0.95 | area= large | maxDets=1000 ] = -1.000\n",
      " Average Recall     (AR) @[ IoU=0.50:0.95 | area=   all | maxDets=100 ] = 0.411\n",
      " Average Recall     (AR) @[ IoU=0.50:0.95 | area=   all | maxDets=300 ] = 0.411\n",
      " Average Recall     (AR) @[ IoU=0.50:0.95 | area=   all | maxDets=1000 ] = 0.411\n",
      " Average Recall     (AR) @[ IoU=0.50:0.95 | area= small | maxDets=1000 ] = 0.245\n",
      " Average Recall     (AR) @[ IoU=0.50:0.95 | area=medium | maxDets=1000 ] = 0.462\n",
      " Average Recall     (AR) @[ IoU=0.50:0.95 | area= large | maxDets=1000 ] = -1.000\n",
      "\n",
      "2022-02-12 01:29:20,920 - mmdet - INFO - Epoch(val) [37][8561]\tbbox_mAP: 0.3300, bbox_mAP_50: 0.7180, bbox_mAP_75: 0.2280, bbox_mAP_s: 0.1110, bbox_mAP_m: 0.3850, bbox_mAP_l: -1.0000, bbox_mAP_copypaste: 0.330 0.718 0.228 0.111 0.385 -1.000\n"
     ]
    },
    {
     "name": "stdout",
     "output_type": "stream",
     "text": [
      "DONE (t=0.32s).\n"
     ]
    },
    {
     "name": "stderr",
     "output_type": "stream",
     "text": [
      "2022-02-12 01:31:17,093 - mmdet - INFO - Epoch [38][200/1061]\tlr: 5.000e-06, eta: 2:03:06, time: 0.581, data_time: 0.024, memory: 21208, loss_rpn_cls: 0.0051, loss_rpn_bbox: 0.0070, loss_cls: 0.0488, acc: 98.0835, loss_bbox: 0.1121, loss: 0.1729\n",
      "2022-02-12 01:33:11,750 - mmdet - INFO - Epoch [38][400/1061]\tlr: 5.000e-06, eta: 2:01:20, time: 0.573, data_time: 0.011, memory: 21208, loss_rpn_cls: 0.0047, loss_rpn_bbox: 0.0072, loss_cls: 0.0473, acc: 98.1396, loss_bbox: 0.1094, loss: 0.1687\n",
      "2022-02-12 01:35:06,649 - mmdet - INFO - Epoch [38][600/1061]\tlr: 5.000e-06, eta: 1:59:33, time: 0.574, data_time: 0.011, memory: 21208, loss_rpn_cls: 0.0044, loss_rpn_bbox: 0.0067, loss_cls: 0.0491, acc: 98.0535, loss_bbox: 0.1160, loss: 0.1763\n",
      "2022-02-12 01:37:02,788 - mmdet - INFO - Epoch [38][800/1061]\tlr: 5.000e-06, eta: 1:57:47, time: 0.581, data_time: 0.011, memory: 21208, loss_rpn_cls: 0.0050, loss_rpn_bbox: 0.0066, loss_cls: 0.0469, acc: 98.1609, loss_bbox: 0.1112, loss: 0.1698\n",
      "2022-02-12 01:38:59,646 - mmdet - INFO - Epoch [38][1000/1061]\tlr: 5.000e-06, eta: 1:56:00, time: 0.584, data_time: 0.011, memory: 21208, loss_rpn_cls: 0.0051, loss_rpn_bbox: 0.0071, loss_cls: 0.0484, acc: 98.1296, loss_bbox: 0.1116, loss: 0.1722\n",
      "2022-02-12 01:39:35,488 - mmdet - INFO - Saving checkpoint at 38 epochs\n"
     ]
    },
    {
     "name": "stdout",
     "output_type": "stream",
     "text": [
      "[>>>>>>>>>>>>>>>>>>>>>>>>>>] 8561/8561, 13.2 task/s, elapsed: 649s, ETA:     0s"
     ]
    },
    {
     "name": "stderr",
     "output_type": "stream",
     "text": [
      "2022-02-12 01:50:26,831 - mmdet - INFO - Evaluating bbox...\n"
     ]
    },
    {
     "name": "stdout",
     "output_type": "stream",
     "text": [
      "Loading and preparing results...\n",
      "DONE (t=0.01s)\n",
      "creating index...\n",
      "index created!\n",
      "Running per image evaluation...\n",
      "Evaluate annotation type *bbox*\n",
      "DONE (t=2.15s).\n",
      "Accumulating evaluation results...\n"
     ]
    },
    {
     "name": "stderr",
     "output_type": "stream",
     "text": [
      "2022-02-12 01:50:29,401 - mmdet - INFO - \n",
      " Average Precision  (AP) @[ IoU=0.50:0.95 | area=   all | maxDets=100 ] = 0.332\n",
      " Average Precision  (AP) @[ IoU=0.50      | area=   all | maxDets=1000 ] = 0.724\n",
      " Average Precision  (AP) @[ IoU=0.75      | area=   all | maxDets=1000 ] = 0.229\n",
      " Average Precision  (AP) @[ IoU=0.50:0.95 | area= small | maxDets=1000 ] = 0.111\n",
      " Average Precision  (AP) @[ IoU=0.50:0.95 | area=medium | maxDets=1000 ] = 0.387\n",
      " Average Precision  (AP) @[ IoU=0.50:0.95 | area= large | maxDets=1000 ] = -1.000\n",
      " Average Recall     (AR) @[ IoU=0.50:0.95 | area=   all | maxDets=100 ] = 0.416\n",
      " Average Recall     (AR) @[ IoU=0.50:0.95 | area=   all | maxDets=300 ] = 0.416\n",
      " Average Recall     (AR) @[ IoU=0.50:0.95 | area=   all | maxDets=1000 ] = 0.416\n",
      " Average Recall     (AR) @[ IoU=0.50:0.95 | area= small | maxDets=1000 ] = 0.256\n",
      " Average Recall     (AR) @[ IoU=0.50:0.95 | area=medium | maxDets=1000 ] = 0.466\n",
      " Average Recall     (AR) @[ IoU=0.50:0.95 | area= large | maxDets=1000 ] = -1.000\n",
      "\n",
      "2022-02-12 01:50:29,428 - mmdet - INFO - Epoch(val) [38][8561]\tbbox_mAP: 0.3320, bbox_mAP_50: 0.7240, bbox_mAP_75: 0.2290, bbox_mAP_s: 0.1110, bbox_mAP_m: 0.3870, bbox_mAP_l: -1.0000, bbox_mAP_copypaste: 0.332 0.724 0.229 0.111 0.387 -1.000\n"
     ]
    },
    {
     "name": "stdout",
     "output_type": "stream",
     "text": [
      "DONE (t=0.37s).\n"
     ]
    },
    {
     "name": "stderr",
     "output_type": "stream",
     "text": [
      "2022-02-12 01:52:27,882 - mmdet - INFO - Epoch [39][200/1061]\tlr: 5.000e-06, eta: 1:53:31, time: 0.592, data_time: 0.024, memory: 21208, loss_rpn_cls: 0.0044, loss_rpn_bbox: 0.0070, loss_cls: 0.0474, acc: 98.1169, loss_bbox: 0.1161, loss: 0.1749\n",
      "2022-02-12 01:54:21,723 - mmdet - INFO - Epoch [39][400/1061]\tlr: 5.000e-06, eta: 1:51:44, time: 0.569, data_time: 0.011, memory: 21208, loss_rpn_cls: 0.0051, loss_rpn_bbox: 0.0063, loss_cls: 0.0439, acc: 98.2676, loss_bbox: 0.1022, loss: 0.1574\n",
      "2022-02-12 01:56:17,764 - mmdet - INFO - Epoch [39][600/1061]\tlr: 5.000e-06, eta: 1:49:57, time: 0.580, data_time: 0.011, memory: 21208, loss_rpn_cls: 0.0052, loss_rpn_bbox: 0.0073, loss_cls: 0.0464, acc: 98.1531, loss_bbox: 0.1079, loss: 0.1668\n",
      "2022-02-12 01:58:13,051 - mmdet - INFO - Epoch [39][800/1061]\tlr: 5.000e-06, eta: 1:48:10, time: 0.576, data_time: 0.011, memory: 21208, loss_rpn_cls: 0.0050, loss_rpn_bbox: 0.0073, loss_cls: 0.0499, acc: 98.0129, loss_bbox: 0.1168, loss: 0.1790\n",
      "2022-02-12 02:00:08,376 - mmdet - INFO - Epoch [39][1000/1061]\tlr: 5.000e-06, eta: 1:46:24, time: 0.577, data_time: 0.011, memory: 21208, loss_rpn_cls: 0.0056, loss_rpn_bbox: 0.0066, loss_cls: 0.0474, acc: 98.1633, loss_bbox: 0.1090, loss: 0.1686\n",
      "2022-02-12 02:00:44,648 - mmdet - INFO - Saving checkpoint at 39 epochs\n"
     ]
    },
    {
     "name": "stdout",
     "output_type": "stream",
     "text": [
      "[>>>>>>>>>>>>>>>>>>>>>>>>>>] 8561/8561, 13.4 task/s, elapsed: 641s, ETA:     0s"
     ]
    },
    {
     "name": "stderr",
     "output_type": "stream",
     "text": [
      "2022-02-12 02:11:27,721 - mmdet - INFO - Evaluating bbox...\n"
     ]
    },
    {
     "name": "stdout",
     "output_type": "stream",
     "text": [
      "Loading and preparing results...\n",
      "DONE (t=0.01s)\n",
      "creating index...\n",
      "index created!\n",
      "Running per image evaluation...\n",
      "Evaluate annotation type *bbox*\n",
      "DONE (t=2.14s).\n",
      "Accumulating evaluation results...\n"
     ]
    },
    {
     "name": "stderr",
     "output_type": "stream",
     "text": [
      "2022-02-12 02:11:30,273 - mmdet - INFO - \n",
      " Average Precision  (AP) @[ IoU=0.50:0.95 | area=   all | maxDets=100 ] = 0.334\n",
      " Average Precision  (AP) @[ IoU=0.50      | area=   all | maxDets=1000 ] = 0.724\n",
      " Average Precision  (AP) @[ IoU=0.75      | area=   all | maxDets=1000 ] = 0.232\n",
      " Average Precision  (AP) @[ IoU=0.50:0.95 | area= small | maxDets=1000 ] = 0.118\n",
      " Average Precision  (AP) @[ IoU=0.50:0.95 | area=medium | maxDets=1000 ] = 0.389\n",
      " Average Precision  (AP) @[ IoU=0.50:0.95 | area= large | maxDets=1000 ] = -1.000\n",
      " Average Recall     (AR) @[ IoU=0.50:0.95 | area=   all | maxDets=100 ] = 0.418\n",
      " Average Recall     (AR) @[ IoU=0.50:0.95 | area=   all | maxDets=300 ] = 0.418\n",
      " Average Recall     (AR) @[ IoU=0.50:0.95 | area=   all | maxDets=1000 ] = 0.418\n",
      " Average Recall     (AR) @[ IoU=0.50:0.95 | area= small | maxDets=1000 ] = 0.258\n",
      " Average Recall     (AR) @[ IoU=0.50:0.95 | area=medium | maxDets=1000 ] = 0.467\n",
      " Average Recall     (AR) @[ IoU=0.50:0.95 | area= large | maxDets=1000 ] = -1.000\n",
      "\n",
      "2022-02-12 02:11:30,302 - mmdet - INFO - Epoch(val) [39][8561]\tbbox_mAP: 0.3340, bbox_mAP_50: 0.7240, bbox_mAP_75: 0.2320, bbox_mAP_s: 0.1180, bbox_mAP_m: 0.3890, bbox_mAP_l: -1.0000, bbox_mAP_copypaste: 0.334 0.724 0.232 0.118 0.389 -1.000\n"
     ]
    },
    {
     "name": "stdout",
     "output_type": "stream",
     "text": [
      "DONE (t=0.37s).\n"
     ]
    },
    {
     "name": "stderr",
     "output_type": "stream",
     "text": [
      "2022-02-12 02:13:26,384 - mmdet - INFO - Epoch [40][200/1061]\tlr: 5.000e-06, eta: 1:43:54, time: 0.580, data_time: 0.024, memory: 21208, loss_rpn_cls: 0.0049, loss_rpn_bbox: 0.0068, loss_cls: 0.0477, acc: 98.1248, loss_bbox: 0.1100, loss: 0.1695\n",
      "2022-02-12 02:15:22,029 - mmdet - INFO - Epoch [40][400/1061]\tlr: 5.000e-06, eta: 1:42:08, time: 0.578, data_time: 0.011, memory: 21208, loss_rpn_cls: 0.0044, loss_rpn_bbox: 0.0071, loss_cls: 0.0486, acc: 98.0610, loss_bbox: 0.1137, loss: 0.1738\n",
      "2022-02-12 02:17:17,641 - mmdet - INFO - Epoch [40][600/1061]\tlr: 5.000e-06, eta: 1:40:21, time: 0.578, data_time: 0.011, memory: 21208, loss_rpn_cls: 0.0048, loss_rpn_bbox: 0.0070, loss_cls: 0.0476, acc: 98.1287, loss_bbox: 0.1096, loss: 0.1691\n",
      "2022-02-12 02:19:13,039 - mmdet - INFO - Epoch [40][800/1061]\tlr: 5.000e-06, eta: 1:38:34, time: 0.577, data_time: 0.011, memory: 21208, loss_rpn_cls: 0.0049, loss_rpn_bbox: 0.0069, loss_cls: 0.0487, acc: 98.0452, loss_bbox: 0.1142, loss: 0.1745\n",
      "2022-02-12 02:21:07,019 - mmdet - INFO - Epoch [40][1000/1061]\tlr: 5.000e-06, eta: 1:36:46, time: 0.570, data_time: 0.011, memory: 21208, loss_rpn_cls: 0.0057, loss_rpn_bbox: 0.0070, loss_cls: 0.0460, acc: 98.1956, loss_bbox: 0.1073, loss: 0.1659\n",
      "2022-02-12 02:21:41,950 - mmdet - INFO - Saving checkpoint at 40 epochs\n"
     ]
    },
    {
     "name": "stdout",
     "output_type": "stream",
     "text": [
      "[>>>>>>>>>>>>>>>>>>>>>>>>>>] 8561/8561, 13.2 task/s, elapsed: 649s, ETA:     0s"
     ]
    },
    {
     "name": "stderr",
     "output_type": "stream",
     "text": [
      "2022-02-12 02:32:32,714 - mmdet - INFO - Evaluating bbox...\n"
     ]
    },
    {
     "name": "stdout",
     "output_type": "stream",
     "text": [
      "Loading and preparing results...\n",
      "DONE (t=0.01s)\n",
      "creating index...\n",
      "index created!\n",
      "Running per image evaluation...\n",
      "Evaluate annotation type *bbox*\n",
      "DONE (t=2.65s).\n",
      "Accumulating evaluation results...\n"
     ]
    },
    {
     "name": "stderr",
     "output_type": "stream",
     "text": [
      "2022-02-12 02:32:35,831 - mmdet - INFO - \n",
      " Average Precision  (AP) @[ IoU=0.50:0.95 | area=   all | maxDets=100 ] = 0.343\n",
      " Average Precision  (AP) @[ IoU=0.50      | area=   all | maxDets=1000 ] = 0.732\n",
      " Average Precision  (AP) @[ IoU=0.75      | area=   all | maxDets=1000 ] = 0.254\n",
      " Average Precision  (AP) @[ IoU=0.50:0.95 | area= small | maxDets=1000 ] = 0.117\n",
      " Average Precision  (AP) @[ IoU=0.50:0.95 | area=medium | maxDets=1000 ] = 0.401\n",
      " Average Precision  (AP) @[ IoU=0.50:0.95 | area= large | maxDets=1000 ] = -1.000\n",
      " Average Recall     (AR) @[ IoU=0.50:0.95 | area=   all | maxDets=100 ] = 0.424\n",
      " Average Recall     (AR) @[ IoU=0.50:0.95 | area=   all | maxDets=300 ] = 0.424\n",
      " Average Recall     (AR) @[ IoU=0.50:0.95 | area=   all | maxDets=1000 ] = 0.424\n",
      " Average Recall     (AR) @[ IoU=0.50:0.95 | area= small | maxDets=1000 ] = 0.255\n",
      " Average Recall     (AR) @[ IoU=0.50:0.95 | area=medium | maxDets=1000 ] = 0.476\n",
      " Average Recall     (AR) @[ IoU=0.50:0.95 | area= large | maxDets=1000 ] = -1.000\n",
      "\n",
      "2022-02-12 02:32:35,869 - mmdet - INFO - Epoch(val) [40][8561]\tbbox_mAP: 0.3430, bbox_mAP_50: 0.7320, bbox_mAP_75: 0.2540, bbox_mAP_s: 0.1170, bbox_mAP_m: 0.4010, bbox_mAP_l: -1.0000, bbox_mAP_copypaste: 0.343 0.732 0.254 0.117 0.401 -1.000\n"
     ]
    },
    {
     "name": "stdout",
     "output_type": "stream",
     "text": [
      "DONE (t=0.42s).\n"
     ]
    },
    {
     "name": "stderr",
     "output_type": "stream",
     "text": [
      "2022-02-12 02:34:33,590 - mmdet - INFO - Epoch [41][200/1061]\tlr: 5.000e-06, eta: 1:34:18, time: 0.589, data_time: 0.024, memory: 21208, loss_rpn_cls: 0.0057, loss_rpn_bbox: 0.0071, loss_cls: 0.0501, acc: 98.0745, loss_bbox: 0.1143, loss: 0.1771\n",
      "2022-02-12 02:36:26,906 - mmdet - INFO - Epoch [41][400/1061]\tlr: 5.000e-06, eta: 1:32:30, time: 0.567, data_time: 0.010, memory: 21208, loss_rpn_cls: 0.0065, loss_rpn_bbox: 0.0069, loss_cls: 0.0457, acc: 98.2258, loss_bbox: 0.1074, loss: 0.1666\n",
      "2022-02-12 02:38:21,587 - mmdet - INFO - Epoch [41][600/1061]\tlr: 5.000e-06, eta: 1:30:43, time: 0.573, data_time: 0.011, memory: 21208, loss_rpn_cls: 0.0039, loss_rpn_bbox: 0.0072, loss_cls: 0.0472, acc: 98.1023, loss_bbox: 0.1124, loss: 0.1707\n",
      "2022-02-12 02:40:16,288 - mmdet - INFO - Epoch [41][800/1061]\tlr: 5.000e-06, eta: 1:28:56, time: 0.573, data_time: 0.011, memory: 21208, loss_rpn_cls: 0.0057, loss_rpn_bbox: 0.0069, loss_cls: 0.0487, acc: 98.1279, loss_bbox: 0.1108, loss: 0.1722\n",
      "2022-02-12 02:42:10,346 - mmdet - INFO - Epoch [41][1000/1061]\tlr: 5.000e-06, eta: 1:27:08, time: 0.570, data_time: 0.011, memory: 21208, loss_rpn_cls: 0.0062, loss_rpn_bbox: 0.0068, loss_cls: 0.0461, acc: 98.1926, loss_bbox: 0.1072, loss: 0.1664\n",
      "2022-02-12 02:42:44,123 - mmdet - INFO - Saving checkpoint at 41 epochs\n"
     ]
    },
    {
     "name": "stdout",
     "output_type": "stream",
     "text": [
      "[>>>>>>>>>>>>>>>>>>>>>>>>>>] 8561/8561, 13.3 task/s, elapsed: 644s, ETA:     0s"
     ]
    },
    {
     "name": "stderr",
     "output_type": "stream",
     "text": [
      "2022-02-12 02:53:30,018 - mmdet - INFO - Evaluating bbox...\n"
     ]
    },
    {
     "name": "stdout",
     "output_type": "stream",
     "text": [
      "Loading and preparing results...\n",
      "DONE (t=0.01s)\n",
      "creating index...\n",
      "index created!\n",
      "Running per image evaluation...\n",
      "Evaluate annotation type *bbox*\n",
      "DONE (t=2.09s).\n",
      "Accumulating evaluation results...\n"
     ]
    },
    {
     "name": "stderr",
     "output_type": "stream",
     "text": [
      "2022-02-12 02:53:32,675 - mmdet - INFO - \n",
      " Average Precision  (AP) @[ IoU=0.50:0.95 | area=   all | maxDets=100 ] = 0.338\n",
      " Average Precision  (AP) @[ IoU=0.50      | area=   all | maxDets=1000 ] = 0.728\n",
      " Average Precision  (AP) @[ IoU=0.75      | area=   all | maxDets=1000 ] = 0.230\n",
      " Average Precision  (AP) @[ IoU=0.50:0.95 | area= small | maxDets=1000 ] = 0.119\n",
      " Average Precision  (AP) @[ IoU=0.50:0.95 | area=medium | maxDets=1000 ] = 0.393\n",
      " Average Precision  (AP) @[ IoU=0.50:0.95 | area= large | maxDets=1000 ] = -1.000\n",
      " Average Recall     (AR) @[ IoU=0.50:0.95 | area=   all | maxDets=100 ] = 0.420\n",
      " Average Recall     (AR) @[ IoU=0.50:0.95 | area=   all | maxDets=300 ] = 0.420\n",
      " Average Recall     (AR) @[ IoU=0.50:0.95 | area=   all | maxDets=1000 ] = 0.420\n",
      " Average Recall     (AR) @[ IoU=0.50:0.95 | area= small | maxDets=1000 ] = 0.255\n",
      " Average Recall     (AR) @[ IoU=0.50:0.95 | area=medium | maxDets=1000 ] = 0.471\n",
      " Average Recall     (AR) @[ IoU=0.50:0.95 | area= large | maxDets=1000 ] = -1.000\n",
      "\n",
      "2022-02-12 02:53:32,702 - mmdet - INFO - Epoch(val) [41][8561]\tbbox_mAP: 0.3380, bbox_mAP_50: 0.7280, bbox_mAP_75: 0.2300, bbox_mAP_s: 0.1190, bbox_mAP_m: 0.3930, bbox_mAP_l: -1.0000, bbox_mAP_copypaste: 0.338 0.728 0.230 0.119 0.393 -1.000\n"
     ]
    },
    {
     "name": "stdout",
     "output_type": "stream",
     "text": [
      "DONE (t=0.34s).\n"
     ]
    },
    {
     "name": "stderr",
     "output_type": "stream",
     "text": [
      "2022-02-12 02:55:28,408 - mmdet - INFO - Epoch [42][200/1061]\tlr: 5.000e-06, eta: 1:24:40, time: 0.578, data_time: 0.024, memory: 21208, loss_rpn_cls: 0.0048, loss_rpn_bbox: 0.0069, loss_cls: 0.0490, acc: 98.0508, loss_bbox: 0.1121, loss: 0.1729\n",
      "2022-02-12 02:57:23,782 - mmdet - INFO - Epoch [42][400/1061]\tlr: 5.000e-06, eta: 1:22:53, time: 0.577, data_time: 0.011, memory: 21208, loss_rpn_cls: 0.0051, loss_rpn_bbox: 0.0068, loss_cls: 0.0474, acc: 98.1428, loss_bbox: 0.1113, loss: 0.1706\n",
      "2022-02-12 02:59:17,759 - mmdet - INFO - Epoch [42][600/1061]\tlr: 5.000e-06, eta: 1:21:05, time: 0.570, data_time: 0.011, memory: 21208, loss_rpn_cls: 0.0041, loss_rpn_bbox: 0.0067, loss_cls: 0.0478, acc: 98.0972, loss_bbox: 0.1083, loss: 0.1669\n",
      "2022-02-12 03:01:13,077 - mmdet - INFO - Epoch [42][800/1061]\tlr: 5.000e-06, eta: 1:19:18, time: 0.577, data_time: 0.011, memory: 21208, loss_rpn_cls: 0.0038, loss_rpn_bbox: 0.0071, loss_cls: 0.0494, acc: 98.0535, loss_bbox: 0.1168, loss: 0.1771\n",
      "2022-02-12 03:03:06,454 - mmdet - INFO - Epoch [42][1000/1061]\tlr: 5.000e-06, eta: 1:17:30, time: 0.567, data_time: 0.011, memory: 21208, loss_rpn_cls: 0.0051, loss_rpn_bbox: 0.0072, loss_cls: 0.0498, acc: 97.9973, loss_bbox: 0.1165, loss: 0.1786\n",
      "2022-02-12 03:03:42,075 - mmdet - INFO - Saving checkpoint at 42 epochs\n"
     ]
    },
    {
     "name": "stdout",
     "output_type": "stream",
     "text": [
      "[>>>>>>>>>>>>>>>>>>>>>>>>>>] 8561/8561, 13.2 task/s, elapsed: 649s, ETA:     0s"
     ]
    },
    {
     "name": "stderr",
     "output_type": "stream",
     "text": [
      "2022-02-12 03:14:33,321 - mmdet - INFO - Evaluating bbox...\n"
     ]
    },
    {
     "name": "stdout",
     "output_type": "stream",
     "text": [
      "Loading and preparing results...\n",
      "DONE (t=0.01s)\n",
      "creating index...\n",
      "index created!\n",
      "Running per image evaluation...\n",
      "Evaluate annotation type *bbox*\n",
      "DONE (t=2.07s).\n",
      "Accumulating evaluation results...\n"
     ]
    },
    {
     "name": "stderr",
     "output_type": "stream",
     "text": [
      "2022-02-12 03:14:35,963 - mmdet - INFO - \n",
      " Average Precision  (AP) @[ IoU=0.50:0.95 | area=   all | maxDets=100 ] = 0.339\n",
      " Average Precision  (AP) @[ IoU=0.50      | area=   all | maxDets=1000 ] = 0.726\n",
      " Average Precision  (AP) @[ IoU=0.75      | area=   all | maxDets=1000 ] = 0.243\n",
      " Average Precision  (AP) @[ IoU=0.50:0.95 | area= small | maxDets=1000 ] = 0.116\n",
      " Average Precision  (AP) @[ IoU=0.50:0.95 | area=medium | maxDets=1000 ] = 0.395\n",
      " Average Precision  (AP) @[ IoU=0.50:0.95 | area= large | maxDets=1000 ] = -1.000\n",
      " Average Recall     (AR) @[ IoU=0.50:0.95 | area=   all | maxDets=100 ] = 0.421\n",
      " Average Recall     (AR) @[ IoU=0.50:0.95 | area=   all | maxDets=300 ] = 0.421\n",
      " Average Recall     (AR) @[ IoU=0.50:0.95 | area=   all | maxDets=1000 ] = 0.421\n",
      " Average Recall     (AR) @[ IoU=0.50:0.95 | area= small | maxDets=1000 ] = 0.254\n",
      " Average Recall     (AR) @[ IoU=0.50:0.95 | area=medium | maxDets=1000 ] = 0.472\n",
      " Average Recall     (AR) @[ IoU=0.50:0.95 | area= large | maxDets=1000 ] = -1.000\n",
      "\n",
      "2022-02-12 03:14:35,990 - mmdet - INFO - Epoch(val) [42][8561]\tbbox_mAP: 0.3390, bbox_mAP_50: 0.7260, bbox_mAP_75: 0.2430, bbox_mAP_s: 0.1160, bbox_mAP_m: 0.3950, bbox_mAP_l: -1.0000, bbox_mAP_copypaste: 0.339 0.726 0.243 0.116 0.395 -1.000\n"
     ]
    },
    {
     "name": "stdout",
     "output_type": "stream",
     "text": [
      "DONE (t=0.34s).\n"
     ]
    },
    {
     "name": "stderr",
     "output_type": "stream",
     "text": [
      "2022-02-12 03:16:35,178 - mmdet - INFO - Epoch [43][200/1061]\tlr: 5.000e-06, eta: 1:15:04, time: 0.596, data_time: 0.023, memory: 21208, loss_rpn_cls: 0.0058, loss_rpn_bbox: 0.0067, loss_cls: 0.0457, acc: 98.2197, loss_bbox: 0.1075, loss: 0.1656\n",
      "2022-02-12 03:18:29,562 - mmdet - INFO - Epoch [43][400/1061]\tlr: 5.000e-06, eta: 1:13:16, time: 0.572, data_time: 0.011, memory: 21208, loss_rpn_cls: 0.0052, loss_rpn_bbox: 0.0067, loss_cls: 0.0469, acc: 98.1550, loss_bbox: 0.1075, loss: 0.1662\n",
      "2022-02-12 03:20:24,810 - mmdet - INFO - Epoch [43][600/1061]\tlr: 5.000e-06, eta: 1:11:29, time: 0.576, data_time: 0.011, memory: 21208, loss_rpn_cls: 0.0042, loss_rpn_bbox: 0.0066, loss_cls: 0.0464, acc: 98.1609, loss_bbox: 0.1071, loss: 0.1642\n",
      "2022-02-12 03:22:17,197 - mmdet - INFO - Epoch [43][800/1061]\tlr: 5.000e-06, eta: 1:09:41, time: 0.562, data_time: 0.011, memory: 21208, loss_rpn_cls: 0.0047, loss_rpn_bbox: 0.0069, loss_cls: 0.0474, acc: 98.1050, loss_bbox: 0.1119, loss: 0.1709\n",
      "2022-02-12 03:24:13,416 - mmdet - INFO - Epoch [43][1000/1061]\tlr: 5.000e-06, eta: 1:07:53, time: 0.581, data_time: 0.011, memory: 21208, loss_rpn_cls: 0.0048, loss_rpn_bbox: 0.0069, loss_cls: 0.0493, acc: 98.0713, loss_bbox: 0.1153, loss: 0.1763\n",
      "2022-02-12 03:24:48,665 - mmdet - INFO - Saving checkpoint at 43 epochs\n"
     ]
    },
    {
     "name": "stdout",
     "output_type": "stream",
     "text": [
      "[>>>>>>>>>>>>>>>>>>>>>>>>>>] 8561/8561, 13.2 task/s, elapsed: 651s, ETA:     0s"
     ]
    },
    {
     "name": "stderr",
     "output_type": "stream",
     "text": [
      "2022-02-12 03:35:41,594 - mmdet - INFO - Evaluating bbox...\n"
     ]
    },
    {
     "name": "stdout",
     "output_type": "stream",
     "text": [
      "Loading and preparing results...\n",
      "DONE (t=0.01s)\n",
      "creating index...\n",
      "index created!\n",
      "Running per image evaluation...\n",
      "Evaluate annotation type *bbox*\n",
      "DONE (t=2.06s).\n",
      "Accumulating evaluation results...\n"
     ]
    },
    {
     "name": "stderr",
     "output_type": "stream",
     "text": [
      "2022-02-12 03:35:44,044 - mmdet - INFO - \n",
      " Average Precision  (AP) @[ IoU=0.50:0.95 | area=   all | maxDets=100 ] = 0.330\n",
      " Average Precision  (AP) @[ IoU=0.50      | area=   all | maxDets=1000 ] = 0.724\n",
      " Average Precision  (AP) @[ IoU=0.75      | area=   all | maxDets=1000 ] = 0.230\n",
      " Average Precision  (AP) @[ IoU=0.50:0.95 | area= small | maxDets=1000 ] = 0.113\n",
      " Average Precision  (AP) @[ IoU=0.50:0.95 | area=medium | maxDets=1000 ] = 0.385\n",
      " Average Precision  (AP) @[ IoU=0.50:0.95 | area= large | maxDets=1000 ] = -1.000\n",
      " Average Recall     (AR) @[ IoU=0.50:0.95 | area=   all | maxDets=100 ] = 0.414\n",
      " Average Recall     (AR) @[ IoU=0.50:0.95 | area=   all | maxDets=300 ] = 0.414\n",
      " Average Recall     (AR) @[ IoU=0.50:0.95 | area=   all | maxDets=1000 ] = 0.414\n",
      " Average Recall     (AR) @[ IoU=0.50:0.95 | area= small | maxDets=1000 ] = 0.247\n",
      " Average Recall     (AR) @[ IoU=0.50:0.95 | area=medium | maxDets=1000 ] = 0.465\n",
      " Average Recall     (AR) @[ IoU=0.50:0.95 | area= large | maxDets=1000 ] = -1.000\n",
      "\n",
      "2022-02-12 03:35:44,072 - mmdet - INFO - Epoch(val) [43][8561]\tbbox_mAP: 0.3300, bbox_mAP_50: 0.7240, bbox_mAP_75: 0.2300, bbox_mAP_s: 0.1130, bbox_mAP_m: 0.3850, bbox_mAP_l: -1.0000, bbox_mAP_copypaste: 0.330 0.724 0.230 0.113 0.385 -1.000\n"
     ]
    },
    {
     "name": "stdout",
     "output_type": "stream",
     "text": [
      "DONE (t=0.35s).\n"
     ]
    },
    {
     "name": "stderr",
     "output_type": "stream",
     "text": [
      "2022-02-12 03:37:41,815 - mmdet - INFO - Epoch [44][200/1061]\tlr: 5.000e-06, eta: 1:05:27, time: 0.589, data_time: 0.024, memory: 21208, loss_rpn_cls: 0.0039, loss_rpn_bbox: 0.0068, loss_cls: 0.0452, acc: 98.1902, loss_bbox: 0.1085, loss: 0.1644\n",
      "2022-02-12 03:39:37,489 - mmdet - INFO - Epoch [44][400/1061]\tlr: 5.000e-06, eta: 1:03:40, time: 0.578, data_time: 0.011, memory: 21208, loss_rpn_cls: 0.0061, loss_rpn_bbox: 0.0074, loss_cls: 0.0519, acc: 97.9561, loss_bbox: 0.1193, loss: 0.1847\n",
      "2022-02-12 03:41:32,909 - mmdet - INFO - Epoch [44][600/1061]\tlr: 5.000e-06, eta: 1:01:52, time: 0.577, data_time: 0.011, memory: 21208, loss_rpn_cls: 0.0040, loss_rpn_bbox: 0.0071, loss_cls: 0.0474, acc: 98.0940, loss_bbox: 0.1128, loss: 0.1713\n",
      "2022-02-12 03:43:28,318 - mmdet - INFO - Epoch [44][800/1061]\tlr: 5.000e-06, eta: 1:00:04, time: 0.577, data_time: 0.011, memory: 21208, loss_rpn_cls: 0.0048, loss_rpn_bbox: 0.0070, loss_cls: 0.0478, acc: 98.1355, loss_bbox: 0.1132, loss: 0.1728\n",
      "2022-02-12 03:45:22,137 - mmdet - INFO - Epoch [44][1000/1061]\tlr: 5.000e-06, eta: 0:58:16, time: 0.569, data_time: 0.011, memory: 21208, loss_rpn_cls: 0.0050, loss_rpn_bbox: 0.0068, loss_cls: 0.0481, acc: 98.1145, loss_bbox: 0.1074, loss: 0.1673\n",
      "2022-02-12 03:45:57,814 - mmdet - INFO - Saving checkpoint at 44 epochs\n"
     ]
    },
    {
     "name": "stdout",
     "output_type": "stream",
     "text": [
      "[>>>>>>>>>>>>>>>>>>>>>>>>>>] 8561/8561, 13.2 task/s, elapsed: 648s, ETA:     0s"
     ]
    },
    {
     "name": "stderr",
     "output_type": "stream",
     "text": [
      "2022-02-12 03:56:48,037 - mmdet - INFO - Evaluating bbox...\n"
     ]
    },
    {
     "name": "stdout",
     "output_type": "stream",
     "text": [
      "Loading and preparing results...\n",
      "DONE (t=0.01s)\n",
      "creating index...\n",
      "index created!\n",
      "Running per image evaluation...\n",
      "Evaluate annotation type *bbox*\n",
      "DONE (t=2.00s).\n",
      "Accumulating evaluation results...\n"
     ]
    },
    {
     "name": "stderr",
     "output_type": "stream",
     "text": [
      "2022-02-12 03:56:50,416 - mmdet - INFO - \n",
      " Average Precision  (AP) @[ IoU=0.50:0.95 | area=   all | maxDets=100 ] = 0.336\n",
      " Average Precision  (AP) @[ IoU=0.50      | area=   all | maxDets=1000 ] = 0.720\n",
      " Average Precision  (AP) @[ IoU=0.75      | area=   all | maxDets=1000 ] = 0.244\n",
      " Average Precision  (AP) @[ IoU=0.50:0.95 | area= small | maxDets=1000 ] = 0.108\n",
      " Average Precision  (AP) @[ IoU=0.50:0.95 | area=medium | maxDets=1000 ] = 0.393\n",
      " Average Precision  (AP) @[ IoU=0.50:0.95 | area= large | maxDets=1000 ] = -1.000\n",
      " Average Recall     (AR) @[ IoU=0.50:0.95 | area=   all | maxDets=100 ] = 0.416\n",
      " Average Recall     (AR) @[ IoU=0.50:0.95 | area=   all | maxDets=300 ] = 0.416\n",
      " Average Recall     (AR) @[ IoU=0.50:0.95 | area=   all | maxDets=1000 ] = 0.416\n",
      " Average Recall     (AR) @[ IoU=0.50:0.95 | area= small | maxDets=1000 ] = 0.244\n",
      " Average Recall     (AR) @[ IoU=0.50:0.95 | area=medium | maxDets=1000 ] = 0.469\n",
      " Average Recall     (AR) @[ IoU=0.50:0.95 | area= large | maxDets=1000 ] = -1.000\n",
      "\n",
      "2022-02-12 03:56:50,442 - mmdet - INFO - Epoch(val) [44][8561]\tbbox_mAP: 0.3360, bbox_mAP_50: 0.7200, bbox_mAP_75: 0.2440, bbox_mAP_s: 0.1080, bbox_mAP_m: 0.3930, bbox_mAP_l: -1.0000, bbox_mAP_copypaste: 0.336 0.720 0.244 0.108 0.393 -1.000\n"
     ]
    },
    {
     "name": "stdout",
     "output_type": "stream",
     "text": [
      "DONE (t=0.34s).\n"
     ]
    },
    {
     "name": "stderr",
     "output_type": "stream",
     "text": [
      "2022-02-12 03:58:47,102 - mmdet - INFO - Epoch [45][200/1061]\tlr: 5.000e-06, eta: 0:55:51, time: 0.583, data_time: 0.024, memory: 21208, loss_rpn_cls: 0.0042, loss_rpn_bbox: 0.0073, loss_cls: 0.0478, acc: 98.0984, loss_bbox: 0.1118, loss: 0.1711\n",
      "2022-02-12 04:00:41,233 - mmdet - INFO - Epoch [45][400/1061]\tlr: 5.000e-06, eta: 0:54:03, time: 0.571, data_time: 0.011, memory: 21208, loss_rpn_cls: 0.0042, loss_rpn_bbox: 0.0066, loss_cls: 0.0462, acc: 98.1426, loss_bbox: 0.1079, loss: 0.1648\n",
      "2022-02-12 04:02:38,422 - mmdet - INFO - Epoch [45][600/1061]\tlr: 5.000e-06, eta: 0:52:15, time: 0.586, data_time: 0.011, memory: 21208, loss_rpn_cls: 0.0047, loss_rpn_bbox: 0.0069, loss_cls: 0.0473, acc: 98.1218, loss_bbox: 0.1113, loss: 0.1702\n",
      "2022-02-12 04:04:33,274 - mmdet - INFO - Epoch [45][800/1061]\tlr: 5.000e-06, eta: 0:50:27, time: 0.574, data_time: 0.011, memory: 21208, loss_rpn_cls: 0.0049, loss_rpn_bbox: 0.0064, loss_cls: 0.0464, acc: 98.1931, loss_bbox: 0.1059, loss: 0.1637\n",
      "2022-02-12 04:06:27,298 - mmdet - INFO - Epoch [45][1000/1061]\tlr: 5.000e-06, eta: 0:48:39, time: 0.570, data_time: 0.011, memory: 21208, loss_rpn_cls: 0.0054, loss_rpn_bbox: 0.0067, loss_cls: 0.0462, acc: 98.1489, loss_bbox: 0.1097, loss: 0.1680\n",
      "2022-02-12 04:07:02,104 - mmdet - INFO - Saving checkpoint at 45 epochs\n"
     ]
    },
    {
     "name": "stdout",
     "output_type": "stream",
     "text": [
      "[>>>>>>>>>>>>>>>>>>>>>>>>>>] 8561/8561, 13.2 task/s, elapsed: 648s, ETA:     0s"
     ]
    },
    {
     "name": "stderr",
     "output_type": "stream",
     "text": [
      "2022-02-12 04:17:51,747 - mmdet - INFO - Evaluating bbox...\n"
     ]
    },
    {
     "name": "stdout",
     "output_type": "stream",
     "text": [
      "Loading and preparing results...\n",
      "DONE (t=0.01s)\n",
      "creating index...\n",
      "index created!\n",
      "Running per image evaluation...\n",
      "Evaluate annotation type *bbox*\n",
      "DONE (t=2.07s).\n",
      "Accumulating evaluation results...\n"
     ]
    },
    {
     "name": "stderr",
     "output_type": "stream",
     "text": [
      "2022-02-12 04:17:54,217 - mmdet - INFO - \n",
      " Average Precision  (AP) @[ IoU=0.50:0.95 | area=   all | maxDets=100 ] = 0.332\n",
      " Average Precision  (AP) @[ IoU=0.50      | area=   all | maxDets=1000 ] = 0.717\n",
      " Average Precision  (AP) @[ IoU=0.75      | area=   all | maxDets=1000 ] = 0.229\n",
      " Average Precision  (AP) @[ IoU=0.50:0.95 | area= small | maxDets=1000 ] = 0.107\n",
      " Average Precision  (AP) @[ IoU=0.50:0.95 | area=medium | maxDets=1000 ] = 0.390\n",
      " Average Precision  (AP) @[ IoU=0.50:0.95 | area= large | maxDets=1000 ] = -1.000\n",
      " Average Recall     (AR) @[ IoU=0.50:0.95 | area=   all | maxDets=100 ] = 0.414\n",
      " Average Recall     (AR) @[ IoU=0.50:0.95 | area=   all | maxDets=300 ] = 0.414\n",
      " Average Recall     (AR) @[ IoU=0.50:0.95 | area=   all | maxDets=1000 ] = 0.414\n",
      " Average Recall     (AR) @[ IoU=0.50:0.95 | area= small | maxDets=1000 ] = 0.245\n",
      " Average Recall     (AR) @[ IoU=0.50:0.95 | area=medium | maxDets=1000 ] = 0.467\n",
      " Average Recall     (AR) @[ IoU=0.50:0.95 | area= large | maxDets=1000 ] = -1.000\n",
      "\n",
      "2022-02-12 04:17:54,242 - mmdet - INFO - Epoch(val) [45][8561]\tbbox_mAP: 0.3320, bbox_mAP_50: 0.7170, bbox_mAP_75: 0.2290, bbox_mAP_s: 0.1070, bbox_mAP_m: 0.3900, bbox_mAP_l: -1.0000, bbox_mAP_copypaste: 0.332 0.717 0.229 0.107 0.390 -1.000\n"
     ]
    },
    {
     "name": "stdout",
     "output_type": "stream",
     "text": [
      "DONE (t=0.36s).\n"
     ]
    },
    {
     "name": "stderr",
     "output_type": "stream",
     "text": [
      "2022-02-12 04:19:51,380 - mmdet - INFO - Epoch [46][200/1061]\tlr: 5.000e-06, eta: 0:46:14, time: 0.586, data_time: 0.023, memory: 21208, loss_rpn_cls: 0.0054, loss_rpn_bbox: 0.0071, loss_cls: 0.0497, acc: 98.0757, loss_bbox: 0.1105, loss: 0.1728\n",
      "2022-02-12 04:21:44,878 - mmdet - INFO - Epoch [46][400/1061]\tlr: 5.000e-06, eta: 0:44:26, time: 0.567, data_time: 0.011, memory: 21208, loss_rpn_cls: 0.0046, loss_rpn_bbox: 0.0070, loss_cls: 0.0492, acc: 98.0498, loss_bbox: 0.1144, loss: 0.1752\n",
      "2022-02-12 04:23:40,213 - mmdet - INFO - Epoch [46][600/1061]\tlr: 5.000e-06, eta: 0:42:38, time: 0.577, data_time: 0.011, memory: 21208, loss_rpn_cls: 0.0044, loss_rpn_bbox: 0.0075, loss_cls: 0.0472, acc: 98.1196, loss_bbox: 0.1124, loss: 0.1715\n",
      "2022-02-12 04:25:33,643 - mmdet - INFO - Epoch [46][800/1061]\tlr: 5.000e-06, eta: 0:40:49, time: 0.567, data_time: 0.011, memory: 21208, loss_rpn_cls: 0.0049, loss_rpn_bbox: 0.0067, loss_cls: 0.0435, acc: 98.2520, loss_bbox: 0.1030, loss: 0.1581\n",
      "2022-02-12 04:27:27,191 - mmdet - INFO - Epoch [46][1000/1061]\tlr: 5.000e-06, eta: 0:39:01, time: 0.568, data_time: 0.011, memory: 21208, loss_rpn_cls: 0.0046, loss_rpn_bbox: 0.0064, loss_cls: 0.0455, acc: 98.2112, loss_bbox: 0.1089, loss: 0.1654\n",
      "2022-02-12 04:28:02,328 - mmdet - INFO - Saving checkpoint at 46 epochs\n"
     ]
    },
    {
     "name": "stdout",
     "output_type": "stream",
     "text": [
      "[>>>>>>>>>>>>>>>>>>>>>>>>>>] 8561/8561, 13.3 task/s, elapsed: 642s, ETA:     0s"
     ]
    },
    {
     "name": "stderr",
     "output_type": "stream",
     "text": [
      "2022-02-12 04:38:46,652 - mmdet - INFO - Evaluating bbox...\n"
     ]
    },
    {
     "name": "stdout",
     "output_type": "stream",
     "text": [
      "Loading and preparing results...\n",
      "DONE (t=0.01s)\n",
      "creating index...\n",
      "index created!\n",
      "Running per image evaluation...\n",
      "Evaluate annotation type *bbox*\n",
      "DONE (t=2.05s).\n",
      "Accumulating evaluation results...\n"
     ]
    },
    {
     "name": "stderr",
     "output_type": "stream",
     "text": [
      "2022-02-12 04:38:49,074 - mmdet - INFO - \n",
      " Average Precision  (AP) @[ IoU=0.50:0.95 | area=   all | maxDets=100 ] = 0.337\n",
      " Average Precision  (AP) @[ IoU=0.50      | area=   all | maxDets=1000 ] = 0.725\n",
      " Average Precision  (AP) @[ IoU=0.75      | area=   all | maxDets=1000 ] = 0.241\n",
      " Average Precision  (AP) @[ IoU=0.50:0.95 | area= small | maxDets=1000 ] = 0.112\n",
      " Average Precision  (AP) @[ IoU=0.50:0.95 | area=medium | maxDets=1000 ] = 0.394\n",
      " Average Precision  (AP) @[ IoU=0.50:0.95 | area= large | maxDets=1000 ] = -1.000\n",
      " Average Recall     (AR) @[ IoU=0.50:0.95 | area=   all | maxDets=100 ] = 0.417\n",
      " Average Recall     (AR) @[ IoU=0.50:0.95 | area=   all | maxDets=300 ] = 0.417\n",
      " Average Recall     (AR) @[ IoU=0.50:0.95 | area=   all | maxDets=1000 ] = 0.417\n",
      " Average Recall     (AR) @[ IoU=0.50:0.95 | area= small | maxDets=1000 ] = 0.248\n",
      " Average Recall     (AR) @[ IoU=0.50:0.95 | area=medium | maxDets=1000 ] = 0.469\n",
      " Average Recall     (AR) @[ IoU=0.50:0.95 | area= large | maxDets=1000 ] = -1.000\n",
      "\n",
      "2022-02-12 04:38:49,099 - mmdet - INFO - Epoch(val) [46][8561]\tbbox_mAP: 0.3370, bbox_mAP_50: 0.7250, bbox_mAP_75: 0.2410, bbox_mAP_s: 0.1120, bbox_mAP_m: 0.3940, bbox_mAP_l: -1.0000, bbox_mAP_copypaste: 0.337 0.725 0.241 0.112 0.394 -1.000\n"
     ]
    },
    {
     "name": "stdout",
     "output_type": "stream",
     "text": [
      "DONE (t=0.33s).\n"
     ]
    },
    {
     "name": "stderr",
     "output_type": "stream",
     "text": [
      "2022-02-12 04:40:44,533 - mmdet - INFO - Epoch [47][200/1061]\tlr: 5.000e-06, eta: 0:36:37, time: 0.577, data_time: 0.024, memory: 21208, loss_rpn_cls: 0.0042, loss_rpn_bbox: 0.0071, loss_cls: 0.0472, acc: 98.1035, loss_bbox: 0.1134, loss: 0.1719\n",
      "2022-02-12 04:42:37,069 - mmdet - INFO - Epoch [47][400/1061]\tlr: 5.000e-06, eta: 0:34:49, time: 0.563, data_time: 0.011, memory: 21208, loss_rpn_cls: 0.0061, loss_rpn_bbox: 0.0065, loss_cls: 0.0437, acc: 98.2969, loss_bbox: 0.1013, loss: 0.1576\n",
      "2022-02-12 04:44:31,335 - mmdet - INFO - Epoch [47][600/1061]\tlr: 5.000e-06, eta: 0:33:00, time: 0.571, data_time: 0.011, memory: 21208, loss_rpn_cls: 0.0051, loss_rpn_bbox: 0.0064, loss_cls: 0.0428, acc: 98.3140, loss_bbox: 0.1024, loss: 0.1567\n",
      "2022-02-12 04:46:25,522 - mmdet - INFO - Epoch [47][800/1061]\tlr: 5.000e-06, eta: 0:31:12, time: 0.571, data_time: 0.011, memory: 21208, loss_rpn_cls: 0.0052, loss_rpn_bbox: 0.0070, loss_cls: 0.0467, acc: 98.1494, loss_bbox: 0.1095, loss: 0.1685\n",
      "2022-02-12 04:48:19,919 - mmdet - INFO - Epoch [47][1000/1061]\tlr: 5.000e-06, eta: 0:29:24, time: 0.572, data_time: 0.011, memory: 21208, loss_rpn_cls: 0.0037, loss_rpn_bbox: 0.0075, loss_cls: 0.0473, acc: 98.0867, loss_bbox: 0.1166, loss: 0.1750\n",
      "2022-02-12 04:48:54,502 - mmdet - INFO - Saving checkpoint at 47 epochs\n"
     ]
    },
    {
     "name": "stdout",
     "output_type": "stream",
     "text": [
      "[>>>>>>>>>>>>>>>>>>>>>>>>>>] 8561/8561, 13.3 task/s, elapsed: 643s, ETA:     0s"
     ]
    },
    {
     "name": "stderr",
     "output_type": "stream",
     "text": [
      "2022-02-12 04:59:39,117 - mmdet - INFO - Evaluating bbox...\n"
     ]
    },
    {
     "name": "stdout",
     "output_type": "stream",
     "text": [
      "Loading and preparing results...\n",
      "DONE (t=0.01s)\n",
      "creating index...\n",
      "index created!\n",
      "Running per image evaluation...\n",
      "Evaluate annotation type *bbox*\n",
      "DONE (t=2.02s).\n",
      "Accumulating evaluation results...\n"
     ]
    },
    {
     "name": "stderr",
     "output_type": "stream",
     "text": [
      "2022-02-12 04:59:41,748 - mmdet - INFO - \n",
      " Average Precision  (AP) @[ IoU=0.50:0.95 | area=   all | maxDets=100 ] = 0.332\n",
      " Average Precision  (AP) @[ IoU=0.50      | area=   all | maxDets=1000 ] = 0.725\n",
      " Average Precision  (AP) @[ IoU=0.75      | area=   all | maxDets=1000 ] = 0.229\n",
      " Average Precision  (AP) @[ IoU=0.50:0.95 | area= small | maxDets=1000 ] = 0.113\n",
      " Average Precision  (AP) @[ IoU=0.50:0.95 | area=medium | maxDets=1000 ] = 0.388\n",
      " Average Precision  (AP) @[ IoU=0.50:0.95 | area= large | maxDets=1000 ] = -1.000\n",
      " Average Recall     (AR) @[ IoU=0.50:0.95 | area=   all | maxDets=100 ] = 0.412\n",
      " Average Recall     (AR) @[ IoU=0.50:0.95 | area=   all | maxDets=300 ] = 0.412\n",
      " Average Recall     (AR) @[ IoU=0.50:0.95 | area=   all | maxDets=1000 ] = 0.412\n",
      " Average Recall     (AR) @[ IoU=0.50:0.95 | area= small | maxDets=1000 ] = 0.246\n",
      " Average Recall     (AR) @[ IoU=0.50:0.95 | area=medium | maxDets=1000 ] = 0.464\n",
      " Average Recall     (AR) @[ IoU=0.50:0.95 | area= large | maxDets=1000 ] = -1.000\n",
      "\n",
      "2022-02-12 04:59:41,773 - mmdet - INFO - Epoch(val) [47][8561]\tbbox_mAP: 0.3320, bbox_mAP_50: 0.7250, bbox_mAP_75: 0.2290, bbox_mAP_s: 0.1130, bbox_mAP_m: 0.3880, bbox_mAP_l: -1.0000, bbox_mAP_copypaste: 0.332 0.725 0.229 0.113 0.388 -1.000\n"
     ]
    },
    {
     "name": "stdout",
     "output_type": "stream",
     "text": [
      "DONE (t=0.38s).\n"
     ]
    },
    {
     "name": "stderr",
     "output_type": "stream",
     "text": [
      "2022-02-12 05:01:39,977 - mmdet - INFO - Epoch [48][200/1061]\tlr: 5.000e-06, eta: 0:27:00, time: 0.591, data_time: 0.024, memory: 21208, loss_rpn_cls: 0.0057, loss_rpn_bbox: 0.0072, loss_cls: 0.0488, acc: 98.0977, loss_bbox: 0.1133, loss: 0.1750\n",
      "2022-02-12 05:03:33,400 - mmdet - INFO - Epoch [48][400/1061]\tlr: 5.000e-06, eta: 0:25:12, time: 0.567, data_time: 0.010, memory: 21208, loss_rpn_cls: 0.0051, loss_rpn_bbox: 0.0064, loss_cls: 0.0466, acc: 98.1743, loss_bbox: 0.1048, loss: 0.1628\n",
      "2022-02-12 05:05:28,641 - mmdet - INFO - Epoch [48][600/1061]\tlr: 5.000e-06, eta: 0:23:23, time: 0.576, data_time: 0.011, memory: 21208, loss_rpn_cls: 0.0049, loss_rpn_bbox: 0.0069, loss_cls: 0.0478, acc: 98.0977, loss_bbox: 0.1108, loss: 0.1704\n",
      "2022-02-12 05:07:23,158 - mmdet - INFO - Epoch [48][800/1061]\tlr: 5.000e-06, eta: 0:21:35, time: 0.573, data_time: 0.011, memory: 21208, loss_rpn_cls: 0.0049, loss_rpn_bbox: 0.0067, loss_cls: 0.0471, acc: 98.1350, loss_bbox: 0.1060, loss: 0.1646\n",
      "2022-02-12 05:09:17,617 - mmdet - INFO - Epoch [48][1000/1061]\tlr: 5.000e-06, eta: 0:19:47, time: 0.572, data_time: 0.011, memory: 21208, loss_rpn_cls: 0.0045, loss_rpn_bbox: 0.0066, loss_cls: 0.0465, acc: 98.1467, loss_bbox: 0.1108, loss: 0.1684\n",
      "2022-02-12 05:09:52,066 - mmdet - INFO - Saving checkpoint at 48 epochs\n"
     ]
    },
    {
     "name": "stdout",
     "output_type": "stream",
     "text": [
      "[>>>>>>>>>>>>>>>>>>>>>>>>> ] 8454/8561, 13.2 task/s, elapsed: 641s, ETA:     8s"
     ]
    },
    {
     "name": "stderr",
     "output_type": "stream",
     "text": [
      "2022-02-12 05:22:43,273 - mmdet - INFO - Epoch [49][200/1061]\tlr: 5.000e-06, eta: 0:17:24, time: 0.588, data_time: 0.025, memory: 21208, loss_rpn_cls: 0.0050, loss_rpn_bbox: 0.0071, loss_cls: 0.0477, acc: 98.1196, loss_bbox: 0.1121, loss: 0.1719\n",
      "2022-02-12 05:24:36,661 - mmdet - INFO - Epoch [49][400/1061]\tlr: 5.000e-06, eta: 0:15:35, time: 0.567, data_time: 0.011, memory: 21208, loss_rpn_cls: 0.0042, loss_rpn_bbox: 0.0068, loss_cls: 0.0449, acc: 98.2368, loss_bbox: 0.1073, loss: 0.1632\n",
      "2022-02-12 05:26:32,266 - mmdet - INFO - Epoch [49][600/1061]\tlr: 5.000e-06, eta: 0:13:47, time: 0.578, data_time: 0.011, memory: 21208, loss_rpn_cls: 0.0046, loss_rpn_bbox: 0.0062, loss_cls: 0.0459, acc: 98.2034, loss_bbox: 0.1064, loss: 0.1631\n",
      "2022-02-12 05:28:25,418 - mmdet - INFO - Epoch [49][800/1061]\tlr: 5.000e-06, eta: 0:11:58, time: 0.566, data_time: 0.011, memory: 21208, loss_rpn_cls: 0.0055, loss_rpn_bbox: 0.0070, loss_cls: 0.0475, acc: 98.1150, loss_bbox: 0.1077, loss: 0.1677\n",
      "2022-02-12 05:30:19,196 - mmdet - INFO - Epoch [49][1000/1061]\tlr: 5.000e-06, eta: 0:10:10, time: 0.569, data_time: 0.011, memory: 21208, loss_rpn_cls: 0.0043, loss_rpn_bbox: 0.0067, loss_cls: 0.0443, acc: 98.2356, loss_bbox: 0.1049, loss: 0.1602\n",
      "2022-02-12 05:30:54,157 - mmdet - INFO - Saving checkpoint at 49 epochs\n"
     ]
    },
    {
     "name": "stdout",
     "output_type": "stream",
     "text": [
      "[>>>>>>>>>>>>>>>>>>>>>>>>>>] 8561/8561, 13.2 task/s, elapsed: 650s, ETA:     0s"
     ]
    },
    {
     "name": "stderr",
     "output_type": "stream",
     "text": [
      "2022-02-12 05:41:46,455 - mmdet - INFO - Evaluating bbox...\n"
     ]
    },
    {
     "name": "stdout",
     "output_type": "stream",
     "text": [
      "Loading and preparing results...\n",
      "DONE (t=0.21s)\n",
      "creating index...\n",
      "index created!\n",
      "Running per image evaluation...\n",
      "Evaluate annotation type *bbox*\n",
      "DONE (t=1.99s).\n",
      "Accumulating evaluation results...\n"
     ]
    },
    {
     "name": "stderr",
     "output_type": "stream",
     "text": [
      "2022-02-12 05:41:49,046 - mmdet - INFO - \n",
      " Average Precision  (AP) @[ IoU=0.50:0.95 | area=   all | maxDets=100 ] = 0.328\n",
      " Average Precision  (AP) @[ IoU=0.50      | area=   all | maxDets=1000 ] = 0.710\n",
      " Average Precision  (AP) @[ IoU=0.75      | area=   all | maxDets=1000 ] = 0.228\n",
      " Average Precision  (AP) @[ IoU=0.50:0.95 | area= small | maxDets=1000 ] = 0.112\n",
      " Average Precision  (AP) @[ IoU=0.50:0.95 | area=medium | maxDets=1000 ] = 0.383\n",
      " Average Precision  (AP) @[ IoU=0.50:0.95 | area= large | maxDets=1000 ] = -1.000\n",
      " Average Recall     (AR) @[ IoU=0.50:0.95 | area=   all | maxDets=100 ] = 0.410\n",
      " Average Recall     (AR) @[ IoU=0.50:0.95 | area=   all | maxDets=300 ] = 0.410\n",
      " Average Recall     (AR) @[ IoU=0.50:0.95 | area=   all | maxDets=1000 ] = 0.410\n",
      " Average Recall     (AR) @[ IoU=0.50:0.95 | area= small | maxDets=1000 ] = 0.245\n",
      " Average Recall     (AR) @[ IoU=0.50:0.95 | area=medium | maxDets=1000 ] = 0.461\n",
      " Average Recall     (AR) @[ IoU=0.50:0.95 | area= large | maxDets=1000 ] = -1.000\n",
      "\n",
      "2022-02-12 05:41:49,073 - mmdet - INFO - Epoch(val) [49][8561]\tbbox_mAP: 0.3280, bbox_mAP_50: 0.7100, bbox_mAP_75: 0.2280, bbox_mAP_s: 0.1120, bbox_mAP_m: 0.3830, bbox_mAP_l: -1.0000, bbox_mAP_copypaste: 0.328 0.710 0.228 0.112 0.383 -1.000\n"
     ]
    },
    {
     "name": "stdout",
     "output_type": "stream",
     "text": [
      "DONE (t=0.36s).\n"
     ]
    },
    {
     "name": "stderr",
     "output_type": "stream",
     "text": [
      "2022-02-12 05:43:45,577 - mmdet - INFO - Epoch [50][200/1061]\tlr: 5.000e-06, eta: 0:07:47, time: 0.582, data_time: 0.024, memory: 21208, loss_rpn_cls: 0.0040, loss_rpn_bbox: 0.0067, loss_cls: 0.0468, acc: 98.1609, loss_bbox: 0.1108, loss: 0.1683\n",
      "2022-02-12 05:45:41,428 - mmdet - INFO - Epoch [50][400/1061]\tlr: 5.000e-06, eta: 0:05:59, time: 0.579, data_time: 0.011, memory: 21208, loss_rpn_cls: 0.0055, loss_rpn_bbox: 0.0072, loss_cls: 0.0487, acc: 98.0967, loss_bbox: 0.1124, loss: 0.1738\n",
      "2022-02-12 05:47:35,967 - mmdet - INFO - Epoch [50][600/1061]\tlr: 5.000e-06, eta: 0:04:10, time: 0.573, data_time: 0.011, memory: 21208, loss_rpn_cls: 0.0048, loss_rpn_bbox: 0.0066, loss_cls: 0.0450, acc: 98.2424, loss_bbox: 0.1041, loss: 0.1605\n",
      "2022-02-12 05:49:31,240 - mmdet - INFO - Epoch [50][800/1061]\tlr: 5.000e-06, eta: 0:02:21, time: 0.576, data_time: 0.011, memory: 21208, loss_rpn_cls: 0.0050, loss_rpn_bbox: 0.0069, loss_cls: 0.0466, acc: 98.1670, loss_bbox: 0.1106, loss: 0.1691\n",
      "2022-02-12 05:51:24,405 - mmdet - INFO - Epoch [50][1000/1061]\tlr: 5.000e-06, eta: 0:00:33, time: 0.566, data_time: 0.011, memory: 21208, loss_rpn_cls: 0.0040, loss_rpn_bbox: 0.0062, loss_cls: 0.0437, acc: 98.2417, loss_bbox: 0.1021, loss: 0.1561\n",
      "2022-02-12 05:52:00,408 - mmdet - INFO - Saving checkpoint at 50 epochs\n"
     ]
    },
    {
     "name": "stdout",
     "output_type": "stream",
     "text": [
      "[>>>>>>>>>>>>>>>>>>>>>>>   ] 7878/8561, 13.2 task/s, elapsed: 595s, ETA:    52s"
     ]
    },
    {
     "ename": "KeyboardInterrupt",
     "evalue": "",
     "output_type": "error",
     "traceback": [
      "\u001b[0;31m---------------------------------------------------------------------------\u001b[0m",
      "\u001b[0;31mKeyboardInterrupt\u001b[0m                         Traceback (most recent call last)",
      "\u001b[0;32m/tmp/ipykernel_20755/1446871009.py\u001b[0m in \u001b[0;36m<module>\u001b[0;34m\u001b[0m\n\u001b[0;32m----> 1\u001b[0;31m \u001b[0mtrain_detector\u001b[0m\u001b[0;34m(\u001b[0m\u001b[0mmodel\u001b[0m\u001b[0;34m,\u001b[0m \u001b[0mdatasets\u001b[0m\u001b[0;34m,\u001b[0m \u001b[0mcfg\u001b[0m\u001b[0;34m,\u001b[0m \u001b[0mdistributed\u001b[0m\u001b[0;34m=\u001b[0m\u001b[0;32mFalse\u001b[0m\u001b[0;34m,\u001b[0m \u001b[0mvalidate\u001b[0m\u001b[0;34m=\u001b[0m\u001b[0;32mTrue\u001b[0m\u001b[0;34m,\u001b[0m \u001b[0mmeta\u001b[0m \u001b[0;34m=\u001b[0m \u001b[0mmeta\u001b[0m\u001b[0;34m)\u001b[0m\u001b[0;34m\u001b[0m\u001b[0;34m\u001b[0m\u001b[0m\n\u001b[0m",
      "\u001b[0;32m/app/_data/mmdetection/mmdet/apis/train.py\u001b[0m in \u001b[0;36mtrain_detector\u001b[0;34m(model, dataset, cfg, distributed, validate, timestamp, meta)\u001b[0m\n\u001b[1;32m    206\u001b[0m     \u001b[0;32melif\u001b[0m \u001b[0mcfg\u001b[0m\u001b[0;34m.\u001b[0m\u001b[0mload_from\u001b[0m\u001b[0;34m:\u001b[0m\u001b[0;34m\u001b[0m\u001b[0;34m\u001b[0m\u001b[0m\n\u001b[1;32m    207\u001b[0m         \u001b[0mrunner\u001b[0m\u001b[0;34m.\u001b[0m\u001b[0mload_checkpoint\u001b[0m\u001b[0;34m(\u001b[0m\u001b[0mcfg\u001b[0m\u001b[0;34m.\u001b[0m\u001b[0mload_from\u001b[0m\u001b[0;34m)\u001b[0m\u001b[0;34m\u001b[0m\u001b[0;34m\u001b[0m\u001b[0m\n\u001b[0;32m--> 208\u001b[0;31m     \u001b[0mrunner\u001b[0m\u001b[0;34m.\u001b[0m\u001b[0mrun\u001b[0m\u001b[0;34m(\u001b[0m\u001b[0mdata_loaders\u001b[0m\u001b[0;34m,\u001b[0m \u001b[0mcfg\u001b[0m\u001b[0;34m.\u001b[0m\u001b[0mworkflow\u001b[0m\u001b[0;34m)\u001b[0m\u001b[0;34m\u001b[0m\u001b[0;34m\u001b[0m\u001b[0m\n\u001b[0m",
      "\u001b[0;32m/usr/local/lib/python3.8/dist-packages/mmcv/runner/epoch_based_runner.py\u001b[0m in \u001b[0;36mrun\u001b[0;34m(self, data_loaders, workflow, max_epochs, **kwargs)\u001b[0m\n\u001b[1;32m    125\u001b[0m                     \u001b[0;32mif\u001b[0m \u001b[0mmode\u001b[0m \u001b[0;34m==\u001b[0m \u001b[0;34m'train'\u001b[0m \u001b[0;32mand\u001b[0m \u001b[0mself\u001b[0m\u001b[0;34m.\u001b[0m\u001b[0mepoch\u001b[0m \u001b[0;34m>=\u001b[0m \u001b[0mself\u001b[0m\u001b[0;34m.\u001b[0m\u001b[0m_max_epochs\u001b[0m\u001b[0;34m:\u001b[0m\u001b[0;34m\u001b[0m\u001b[0;34m\u001b[0m\u001b[0m\n\u001b[1;32m    126\u001b[0m                         \u001b[0;32mbreak\u001b[0m\u001b[0;34m\u001b[0m\u001b[0;34m\u001b[0m\u001b[0m\n\u001b[0;32m--> 127\u001b[0;31m                     \u001b[0mepoch_runner\u001b[0m\u001b[0;34m(\u001b[0m\u001b[0mdata_loaders\u001b[0m\u001b[0;34m[\u001b[0m\u001b[0mi\u001b[0m\u001b[0;34m]\u001b[0m\u001b[0;34m,\u001b[0m \u001b[0;34m**\u001b[0m\u001b[0mkwargs\u001b[0m\u001b[0;34m)\u001b[0m\u001b[0;34m\u001b[0m\u001b[0;34m\u001b[0m\u001b[0m\n\u001b[0m\u001b[1;32m    128\u001b[0m \u001b[0;34m\u001b[0m\u001b[0m\n\u001b[1;32m    129\u001b[0m         \u001b[0mtime\u001b[0m\u001b[0;34m.\u001b[0m\u001b[0msleep\u001b[0m\u001b[0;34m(\u001b[0m\u001b[0;36m1\u001b[0m\u001b[0;34m)\u001b[0m  \u001b[0;31m# wait for some hooks like loggers to finish\u001b[0m\u001b[0;34m\u001b[0m\u001b[0;34m\u001b[0m\u001b[0m\n",
      "\u001b[0;32m/usr/local/lib/python3.8/dist-packages/mmcv/runner/epoch_based_runner.py\u001b[0m in \u001b[0;36mtrain\u001b[0;34m(self, data_loader, **kwargs)\u001b[0m\n\u001b[1;32m     52\u001b[0m             \u001b[0mself\u001b[0m\u001b[0;34m.\u001b[0m\u001b[0m_iter\u001b[0m \u001b[0;34m+=\u001b[0m \u001b[0;36m1\u001b[0m\u001b[0;34m\u001b[0m\u001b[0;34m\u001b[0m\u001b[0m\n\u001b[1;32m     53\u001b[0m \u001b[0;34m\u001b[0m\u001b[0m\n\u001b[0;32m---> 54\u001b[0;31m         \u001b[0mself\u001b[0m\u001b[0;34m.\u001b[0m\u001b[0mcall_hook\u001b[0m\u001b[0;34m(\u001b[0m\u001b[0;34m'after_train_epoch'\u001b[0m\u001b[0;34m)\u001b[0m\u001b[0;34m\u001b[0m\u001b[0;34m\u001b[0m\u001b[0m\n\u001b[0m\u001b[1;32m     55\u001b[0m         \u001b[0mself\u001b[0m\u001b[0;34m.\u001b[0m\u001b[0m_epoch\u001b[0m \u001b[0;34m+=\u001b[0m \u001b[0;36m1\u001b[0m\u001b[0;34m\u001b[0m\u001b[0;34m\u001b[0m\u001b[0m\n\u001b[1;32m     56\u001b[0m \u001b[0;34m\u001b[0m\u001b[0m\n",
      "\u001b[0;32m/usr/local/lib/python3.8/dist-packages/mmcv/runner/base_runner.py\u001b[0m in \u001b[0;36mcall_hook\u001b[0;34m(self, fn_name)\u001b[0m\n\u001b[1;32m    307\u001b[0m         \"\"\"\n\u001b[1;32m    308\u001b[0m         \u001b[0;32mfor\u001b[0m \u001b[0mhook\u001b[0m \u001b[0;32min\u001b[0m \u001b[0mself\u001b[0m\u001b[0;34m.\u001b[0m\u001b[0m_hooks\u001b[0m\u001b[0;34m:\u001b[0m\u001b[0;34m\u001b[0m\u001b[0;34m\u001b[0m\u001b[0m\n\u001b[0;32m--> 309\u001b[0;31m             \u001b[0mgetattr\u001b[0m\u001b[0;34m(\u001b[0m\u001b[0mhook\u001b[0m\u001b[0;34m,\u001b[0m \u001b[0mfn_name\u001b[0m\u001b[0;34m)\u001b[0m\u001b[0;34m(\u001b[0m\u001b[0mself\u001b[0m\u001b[0;34m)\u001b[0m\u001b[0;34m\u001b[0m\u001b[0;34m\u001b[0m\u001b[0m\n\u001b[0m\u001b[1;32m    310\u001b[0m \u001b[0;34m\u001b[0m\u001b[0m\n\u001b[1;32m    311\u001b[0m     \u001b[0;32mdef\u001b[0m \u001b[0mget_hook_info\u001b[0m\u001b[0;34m(\u001b[0m\u001b[0mself\u001b[0m\u001b[0;34m)\u001b[0m\u001b[0;34m:\u001b[0m\u001b[0;34m\u001b[0m\u001b[0;34m\u001b[0m\u001b[0m\n",
      "\u001b[0;32m/usr/local/lib/python3.8/dist-packages/mmcv/runner/hooks/evaluation.py\u001b[0m in \u001b[0;36mafter_train_epoch\u001b[0;34m(self, runner)\u001b[0m\n\u001b[1;32m    265\u001b[0m         \u001b[0;34m\"\"\"Called after every training epoch to evaluate the results.\"\"\"\u001b[0m\u001b[0;34m\u001b[0m\u001b[0;34m\u001b[0m\u001b[0m\n\u001b[1;32m    266\u001b[0m         \u001b[0;32mif\u001b[0m \u001b[0mself\u001b[0m\u001b[0;34m.\u001b[0m\u001b[0mby_epoch\u001b[0m \u001b[0;32mand\u001b[0m \u001b[0mself\u001b[0m\u001b[0;34m.\u001b[0m\u001b[0m_should_evaluate\u001b[0m\u001b[0;34m(\u001b[0m\u001b[0mrunner\u001b[0m\u001b[0;34m)\u001b[0m\u001b[0;34m:\u001b[0m\u001b[0;34m\u001b[0m\u001b[0;34m\u001b[0m\u001b[0m\n\u001b[0;32m--> 267\u001b[0;31m             \u001b[0mself\u001b[0m\u001b[0;34m.\u001b[0m\u001b[0m_do_evaluate\u001b[0m\u001b[0;34m(\u001b[0m\u001b[0mrunner\u001b[0m\u001b[0;34m)\u001b[0m\u001b[0;34m\u001b[0m\u001b[0;34m\u001b[0m\u001b[0m\n\u001b[0m\u001b[1;32m    268\u001b[0m \u001b[0;34m\u001b[0m\u001b[0m\n\u001b[1;32m    269\u001b[0m     \u001b[0;32mdef\u001b[0m \u001b[0m_do_evaluate\u001b[0m\u001b[0;34m(\u001b[0m\u001b[0mself\u001b[0m\u001b[0;34m,\u001b[0m \u001b[0mrunner\u001b[0m\u001b[0;34m)\u001b[0m\u001b[0;34m:\u001b[0m\u001b[0;34m\u001b[0m\u001b[0;34m\u001b[0m\u001b[0m\n",
      "\u001b[0;32m/app/_data/mmdetection/mmdet/core/evaluation/eval_hooks.py\u001b[0m in \u001b[0;36m_do_evaluate\u001b[0;34m(self, runner)\u001b[0m\n\u001b[1;32m     54\u001b[0m \u001b[0;34m\u001b[0m\u001b[0m\n\u001b[1;32m     55\u001b[0m         \u001b[0;32mfrom\u001b[0m \u001b[0mmmdet\u001b[0m\u001b[0;34m.\u001b[0m\u001b[0mapis\u001b[0m \u001b[0;32mimport\u001b[0m \u001b[0msingle_gpu_test\u001b[0m\u001b[0;34m\u001b[0m\u001b[0;34m\u001b[0m\u001b[0m\n\u001b[0;32m---> 56\u001b[0;31m         \u001b[0mresults\u001b[0m \u001b[0;34m=\u001b[0m \u001b[0msingle_gpu_test\u001b[0m\u001b[0;34m(\u001b[0m\u001b[0mrunner\u001b[0m\u001b[0;34m.\u001b[0m\u001b[0mmodel\u001b[0m\u001b[0;34m,\u001b[0m \u001b[0mself\u001b[0m\u001b[0;34m.\u001b[0m\u001b[0mdataloader\u001b[0m\u001b[0;34m,\u001b[0m \u001b[0mshow\u001b[0m\u001b[0;34m=\u001b[0m\u001b[0;32mFalse\u001b[0m\u001b[0;34m)\u001b[0m\u001b[0;34m\u001b[0m\u001b[0;34m\u001b[0m\u001b[0m\n\u001b[0m\u001b[1;32m     57\u001b[0m         \u001b[0mrunner\u001b[0m\u001b[0;34m.\u001b[0m\u001b[0mlog_buffer\u001b[0m\u001b[0;34m.\u001b[0m\u001b[0moutput\u001b[0m\u001b[0;34m[\u001b[0m\u001b[0;34m'eval_iter_num'\u001b[0m\u001b[0;34m]\u001b[0m \u001b[0;34m=\u001b[0m \u001b[0mlen\u001b[0m\u001b[0;34m(\u001b[0m\u001b[0mself\u001b[0m\u001b[0;34m.\u001b[0m\u001b[0mdataloader\u001b[0m\u001b[0;34m)\u001b[0m\u001b[0;34m\u001b[0m\u001b[0;34m\u001b[0m\u001b[0m\n\u001b[1;32m     58\u001b[0m         \u001b[0mkey_score\u001b[0m \u001b[0;34m=\u001b[0m \u001b[0mself\u001b[0m\u001b[0;34m.\u001b[0m\u001b[0mevaluate\u001b[0m\u001b[0;34m(\u001b[0m\u001b[0mrunner\u001b[0m\u001b[0;34m,\u001b[0m \u001b[0mresults\u001b[0m\u001b[0;34m)\u001b[0m\u001b[0;34m\u001b[0m\u001b[0;34m\u001b[0m\u001b[0m\n",
      "\u001b[0;32m/app/_data/mmdetection/mmdet/apis/test.py\u001b[0m in \u001b[0;36msingle_gpu_test\u001b[0;34m(model, data_loader, show, out_dir, show_score_thr)\u001b[0m\n\u001b[1;32m     27\u001b[0m     \u001b[0;32mfor\u001b[0m \u001b[0mi\u001b[0m\u001b[0;34m,\u001b[0m \u001b[0mdata\u001b[0m \u001b[0;32min\u001b[0m \u001b[0menumerate\u001b[0m\u001b[0;34m(\u001b[0m\u001b[0mdata_loader\u001b[0m\u001b[0;34m)\u001b[0m\u001b[0;34m:\u001b[0m\u001b[0;34m\u001b[0m\u001b[0;34m\u001b[0m\u001b[0m\n\u001b[1;32m     28\u001b[0m         \u001b[0;32mwith\u001b[0m \u001b[0mtorch\u001b[0m\u001b[0;34m.\u001b[0m\u001b[0mno_grad\u001b[0m\u001b[0;34m(\u001b[0m\u001b[0;34m)\u001b[0m\u001b[0;34m:\u001b[0m\u001b[0;34m\u001b[0m\u001b[0;34m\u001b[0m\u001b[0m\n\u001b[0;32m---> 29\u001b[0;31m             \u001b[0mresult\u001b[0m \u001b[0;34m=\u001b[0m \u001b[0mmodel\u001b[0m\u001b[0;34m(\u001b[0m\u001b[0mreturn_loss\u001b[0m\u001b[0;34m=\u001b[0m\u001b[0;32mFalse\u001b[0m\u001b[0;34m,\u001b[0m \u001b[0mrescale\u001b[0m\u001b[0;34m=\u001b[0m\u001b[0;32mTrue\u001b[0m\u001b[0;34m,\u001b[0m \u001b[0;34m**\u001b[0m\u001b[0mdata\u001b[0m\u001b[0;34m)\u001b[0m\u001b[0;34m\u001b[0m\u001b[0;34m\u001b[0m\u001b[0m\n\u001b[0m\u001b[1;32m     30\u001b[0m \u001b[0;34m\u001b[0m\u001b[0m\n\u001b[1;32m     31\u001b[0m         \u001b[0mbatch_size\u001b[0m \u001b[0;34m=\u001b[0m \u001b[0mlen\u001b[0m\u001b[0;34m(\u001b[0m\u001b[0mresult\u001b[0m\u001b[0;34m)\u001b[0m\u001b[0;34m\u001b[0m\u001b[0;34m\u001b[0m\u001b[0m\n",
      "\u001b[0;32m/usr/local/lib/python3.8/dist-packages/torch/nn/modules/module.py\u001b[0m in \u001b[0;36m_call_impl\u001b[0;34m(self, *input, **kwargs)\u001b[0m\n\u001b[1;32m   1049\u001b[0m         if not (self._backward_hooks or self._forward_hooks or self._forward_pre_hooks or _global_backward_hooks\n\u001b[1;32m   1050\u001b[0m                 or _global_forward_hooks or _global_forward_pre_hooks):\n\u001b[0;32m-> 1051\u001b[0;31m             \u001b[0;32mreturn\u001b[0m \u001b[0mforward_call\u001b[0m\u001b[0;34m(\u001b[0m\u001b[0;34m*\u001b[0m\u001b[0minput\u001b[0m\u001b[0;34m,\u001b[0m \u001b[0;34m**\u001b[0m\u001b[0mkwargs\u001b[0m\u001b[0;34m)\u001b[0m\u001b[0;34m\u001b[0m\u001b[0;34m\u001b[0m\u001b[0m\n\u001b[0m\u001b[1;32m   1052\u001b[0m         \u001b[0;31m# Do not call functions when jit is used\u001b[0m\u001b[0;34m\u001b[0m\u001b[0;34m\u001b[0m\u001b[0;34m\u001b[0m\u001b[0m\n\u001b[1;32m   1053\u001b[0m         \u001b[0mfull_backward_hooks\u001b[0m\u001b[0;34m,\u001b[0m \u001b[0mnon_full_backward_hooks\u001b[0m \u001b[0;34m=\u001b[0m \u001b[0;34m[\u001b[0m\u001b[0;34m]\u001b[0m\u001b[0;34m,\u001b[0m \u001b[0;34m[\u001b[0m\u001b[0;34m]\u001b[0m\u001b[0;34m\u001b[0m\u001b[0;34m\u001b[0m\u001b[0m\n",
      "\u001b[0;32m/usr/local/lib/python3.8/dist-packages/mmcv/parallel/data_parallel.py\u001b[0m in \u001b[0;36mforward\u001b[0;34m(self, *inputs, **kwargs)\u001b[0m\n\u001b[1;32m     48\u001b[0m             \u001b[0;32mreturn\u001b[0m \u001b[0mself\u001b[0m\u001b[0;34m.\u001b[0m\u001b[0mmodule\u001b[0m\u001b[0;34m(\u001b[0m\u001b[0;34m*\u001b[0m\u001b[0minputs\u001b[0m\u001b[0;34m[\u001b[0m\u001b[0;36m0\u001b[0m\u001b[0;34m]\u001b[0m\u001b[0;34m,\u001b[0m \u001b[0;34m**\u001b[0m\u001b[0mkwargs\u001b[0m\u001b[0;34m[\u001b[0m\u001b[0;36m0\u001b[0m\u001b[0;34m]\u001b[0m\u001b[0;34m)\u001b[0m\u001b[0;34m\u001b[0m\u001b[0;34m\u001b[0m\u001b[0m\n\u001b[1;32m     49\u001b[0m         \u001b[0;32melse\u001b[0m\u001b[0;34m:\u001b[0m\u001b[0;34m\u001b[0m\u001b[0;34m\u001b[0m\u001b[0m\n\u001b[0;32m---> 50\u001b[0;31m             \u001b[0;32mreturn\u001b[0m \u001b[0msuper\u001b[0m\u001b[0;34m(\u001b[0m\u001b[0;34m)\u001b[0m\u001b[0;34m.\u001b[0m\u001b[0mforward\u001b[0m\u001b[0;34m(\u001b[0m\u001b[0;34m*\u001b[0m\u001b[0minputs\u001b[0m\u001b[0;34m,\u001b[0m \u001b[0;34m**\u001b[0m\u001b[0mkwargs\u001b[0m\u001b[0;34m)\u001b[0m\u001b[0;34m\u001b[0m\u001b[0;34m\u001b[0m\u001b[0m\n\u001b[0m\u001b[1;32m     51\u001b[0m \u001b[0;34m\u001b[0m\u001b[0m\n\u001b[1;32m     52\u001b[0m     \u001b[0;32mdef\u001b[0m \u001b[0mscatter\u001b[0m\u001b[0;34m(\u001b[0m\u001b[0mself\u001b[0m\u001b[0;34m,\u001b[0m \u001b[0minputs\u001b[0m\u001b[0;34m,\u001b[0m \u001b[0mkwargs\u001b[0m\u001b[0;34m,\u001b[0m \u001b[0mdevice_ids\u001b[0m\u001b[0;34m)\u001b[0m\u001b[0;34m:\u001b[0m\u001b[0;34m\u001b[0m\u001b[0;34m\u001b[0m\u001b[0m\n",
      "\u001b[0;32m/usr/local/lib/python3.8/dist-packages/torch/nn/parallel/data_parallel.py\u001b[0m in \u001b[0;36mforward\u001b[0;34m(self, *inputs, **kwargs)\u001b[0m\n\u001b[1;32m    164\u001b[0m \u001b[0;34m\u001b[0m\u001b[0m\n\u001b[1;32m    165\u001b[0m             \u001b[0;32mif\u001b[0m \u001b[0mlen\u001b[0m\u001b[0;34m(\u001b[0m\u001b[0mself\u001b[0m\u001b[0;34m.\u001b[0m\u001b[0mdevice_ids\u001b[0m\u001b[0;34m)\u001b[0m \u001b[0;34m==\u001b[0m \u001b[0;36m1\u001b[0m\u001b[0;34m:\u001b[0m\u001b[0;34m\u001b[0m\u001b[0;34m\u001b[0m\u001b[0m\n\u001b[0;32m--> 166\u001b[0;31m                 \u001b[0;32mreturn\u001b[0m \u001b[0mself\u001b[0m\u001b[0;34m.\u001b[0m\u001b[0mmodule\u001b[0m\u001b[0;34m(\u001b[0m\u001b[0;34m*\u001b[0m\u001b[0minputs\u001b[0m\u001b[0;34m[\u001b[0m\u001b[0;36m0\u001b[0m\u001b[0;34m]\u001b[0m\u001b[0;34m,\u001b[0m \u001b[0;34m**\u001b[0m\u001b[0mkwargs\u001b[0m\u001b[0;34m[\u001b[0m\u001b[0;36m0\u001b[0m\u001b[0;34m]\u001b[0m\u001b[0;34m)\u001b[0m\u001b[0;34m\u001b[0m\u001b[0;34m\u001b[0m\u001b[0m\n\u001b[0m\u001b[1;32m    167\u001b[0m             \u001b[0mreplicas\u001b[0m \u001b[0;34m=\u001b[0m \u001b[0mself\u001b[0m\u001b[0;34m.\u001b[0m\u001b[0mreplicate\u001b[0m\u001b[0;34m(\u001b[0m\u001b[0mself\u001b[0m\u001b[0;34m.\u001b[0m\u001b[0mmodule\u001b[0m\u001b[0;34m,\u001b[0m \u001b[0mself\u001b[0m\u001b[0;34m.\u001b[0m\u001b[0mdevice_ids\u001b[0m\u001b[0;34m[\u001b[0m\u001b[0;34m:\u001b[0m\u001b[0mlen\u001b[0m\u001b[0;34m(\u001b[0m\u001b[0minputs\u001b[0m\u001b[0;34m)\u001b[0m\u001b[0;34m]\u001b[0m\u001b[0;34m)\u001b[0m\u001b[0;34m\u001b[0m\u001b[0;34m\u001b[0m\u001b[0m\n\u001b[1;32m    168\u001b[0m             \u001b[0moutputs\u001b[0m \u001b[0;34m=\u001b[0m \u001b[0mself\u001b[0m\u001b[0;34m.\u001b[0m\u001b[0mparallel_apply\u001b[0m\u001b[0;34m(\u001b[0m\u001b[0mreplicas\u001b[0m\u001b[0;34m,\u001b[0m \u001b[0minputs\u001b[0m\u001b[0;34m,\u001b[0m \u001b[0mkwargs\u001b[0m\u001b[0;34m)\u001b[0m\u001b[0;34m\u001b[0m\u001b[0;34m\u001b[0m\u001b[0m\n",
      "\u001b[0;32m/usr/local/lib/python3.8/dist-packages/torch/nn/modules/module.py\u001b[0m in \u001b[0;36m_call_impl\u001b[0;34m(self, *input, **kwargs)\u001b[0m\n\u001b[1;32m   1049\u001b[0m         if not (self._backward_hooks or self._forward_hooks or self._forward_pre_hooks or _global_backward_hooks\n\u001b[1;32m   1050\u001b[0m                 or _global_forward_hooks or _global_forward_pre_hooks):\n\u001b[0;32m-> 1051\u001b[0;31m             \u001b[0;32mreturn\u001b[0m \u001b[0mforward_call\u001b[0m\u001b[0;34m(\u001b[0m\u001b[0;34m*\u001b[0m\u001b[0minput\u001b[0m\u001b[0;34m,\u001b[0m \u001b[0;34m**\u001b[0m\u001b[0mkwargs\u001b[0m\u001b[0;34m)\u001b[0m\u001b[0;34m\u001b[0m\u001b[0;34m\u001b[0m\u001b[0m\n\u001b[0m\u001b[1;32m   1052\u001b[0m         \u001b[0;31m# Do not call functions when jit is used\u001b[0m\u001b[0;34m\u001b[0m\u001b[0;34m\u001b[0m\u001b[0;34m\u001b[0m\u001b[0m\n\u001b[1;32m   1053\u001b[0m         \u001b[0mfull_backward_hooks\u001b[0m\u001b[0;34m,\u001b[0m \u001b[0mnon_full_backward_hooks\u001b[0m \u001b[0;34m=\u001b[0m \u001b[0;34m[\u001b[0m\u001b[0;34m]\u001b[0m\u001b[0;34m,\u001b[0m \u001b[0;34m[\u001b[0m\u001b[0;34m]\u001b[0m\u001b[0;34m\u001b[0m\u001b[0;34m\u001b[0m\u001b[0m\n",
      "\u001b[0;32m/usr/local/lib/python3.8/dist-packages/mmcv/runner/fp16_utils.py\u001b[0m in \u001b[0;36mnew_func\u001b[0;34m(*args, **kwargs)\u001b[0m\n\u001b[1;32m    137\u001b[0m                     digit_version(TORCH_VERSION) >= digit_version('1.6.0')):\n\u001b[1;32m    138\u001b[0m                 \u001b[0;32mwith\u001b[0m \u001b[0mautocast\u001b[0m\u001b[0;34m(\u001b[0m\u001b[0menabled\u001b[0m\u001b[0;34m=\u001b[0m\u001b[0;32mTrue\u001b[0m\u001b[0;34m)\u001b[0m\u001b[0;34m:\u001b[0m\u001b[0;34m\u001b[0m\u001b[0;34m\u001b[0m\u001b[0m\n\u001b[0;32m--> 139\u001b[0;31m                     \u001b[0moutput\u001b[0m \u001b[0;34m=\u001b[0m \u001b[0mold_func\u001b[0m\u001b[0;34m(\u001b[0m\u001b[0;34m*\u001b[0m\u001b[0mnew_args\u001b[0m\u001b[0;34m,\u001b[0m \u001b[0;34m**\u001b[0m\u001b[0mnew_kwargs\u001b[0m\u001b[0;34m)\u001b[0m\u001b[0;34m\u001b[0m\u001b[0;34m\u001b[0m\u001b[0m\n\u001b[0m\u001b[1;32m    140\u001b[0m             \u001b[0;32melse\u001b[0m\u001b[0;34m:\u001b[0m\u001b[0;34m\u001b[0m\u001b[0;34m\u001b[0m\u001b[0m\n\u001b[1;32m    141\u001b[0m                 \u001b[0moutput\u001b[0m \u001b[0;34m=\u001b[0m \u001b[0mold_func\u001b[0m\u001b[0;34m(\u001b[0m\u001b[0;34m*\u001b[0m\u001b[0mnew_args\u001b[0m\u001b[0;34m,\u001b[0m \u001b[0;34m**\u001b[0m\u001b[0mnew_kwargs\u001b[0m\u001b[0;34m)\u001b[0m\u001b[0;34m\u001b[0m\u001b[0;34m\u001b[0m\u001b[0m\n",
      "\u001b[0;32m/app/_data/mmdetection/mmdet/models/detectors/base.py\u001b[0m in \u001b[0;36mforward\u001b[0;34m(self, img, img_metas, return_loss, **kwargs)\u001b[0m\n\u001b[1;32m    172\u001b[0m             \u001b[0;32mreturn\u001b[0m \u001b[0mself\u001b[0m\u001b[0;34m.\u001b[0m\u001b[0mforward_train\u001b[0m\u001b[0;34m(\u001b[0m\u001b[0mimg\u001b[0m\u001b[0;34m,\u001b[0m \u001b[0mimg_metas\u001b[0m\u001b[0;34m,\u001b[0m \u001b[0;34m**\u001b[0m\u001b[0mkwargs\u001b[0m\u001b[0;34m)\u001b[0m\u001b[0;34m\u001b[0m\u001b[0;34m\u001b[0m\u001b[0m\n\u001b[1;32m    173\u001b[0m         \u001b[0;32melse\u001b[0m\u001b[0;34m:\u001b[0m\u001b[0;34m\u001b[0m\u001b[0;34m\u001b[0m\u001b[0m\n\u001b[0;32m--> 174\u001b[0;31m             \u001b[0;32mreturn\u001b[0m \u001b[0mself\u001b[0m\u001b[0;34m.\u001b[0m\u001b[0mforward_test\u001b[0m\u001b[0;34m(\u001b[0m\u001b[0mimg\u001b[0m\u001b[0;34m,\u001b[0m \u001b[0mimg_metas\u001b[0m\u001b[0;34m,\u001b[0m \u001b[0;34m**\u001b[0m\u001b[0mkwargs\u001b[0m\u001b[0;34m)\u001b[0m\u001b[0;34m\u001b[0m\u001b[0;34m\u001b[0m\u001b[0m\n\u001b[0m\u001b[1;32m    175\u001b[0m \u001b[0;34m\u001b[0m\u001b[0m\n\u001b[1;32m    176\u001b[0m     \u001b[0;32mdef\u001b[0m \u001b[0m_parse_losses\u001b[0m\u001b[0;34m(\u001b[0m\u001b[0mself\u001b[0m\u001b[0;34m,\u001b[0m \u001b[0mlosses\u001b[0m\u001b[0;34m)\u001b[0m\u001b[0;34m:\u001b[0m\u001b[0;34m\u001b[0m\u001b[0;34m\u001b[0m\u001b[0m\n",
      "\u001b[0;32m/app/_data/mmdetection/mmdet/models/detectors/base.py\u001b[0m in \u001b[0;36mforward_test\u001b[0;34m(self, imgs, img_metas, **kwargs)\u001b[0m\n\u001b[1;32m    145\u001b[0m             \u001b[0;32mif\u001b[0m \u001b[0;34m'proposals'\u001b[0m \u001b[0;32min\u001b[0m \u001b[0mkwargs\u001b[0m\u001b[0;34m:\u001b[0m\u001b[0;34m\u001b[0m\u001b[0;34m\u001b[0m\u001b[0m\n\u001b[1;32m    146\u001b[0m                 \u001b[0mkwargs\u001b[0m\u001b[0;34m[\u001b[0m\u001b[0;34m'proposals'\u001b[0m\u001b[0;34m]\u001b[0m \u001b[0;34m=\u001b[0m \u001b[0mkwargs\u001b[0m\u001b[0;34m[\u001b[0m\u001b[0;34m'proposals'\u001b[0m\u001b[0;34m]\u001b[0m\u001b[0;34m[\u001b[0m\u001b[0;36m0\u001b[0m\u001b[0;34m]\u001b[0m\u001b[0;34m\u001b[0m\u001b[0;34m\u001b[0m\u001b[0m\n\u001b[0;32m--> 147\u001b[0;31m             \u001b[0;32mreturn\u001b[0m \u001b[0mself\u001b[0m\u001b[0;34m.\u001b[0m\u001b[0msimple_test\u001b[0m\u001b[0;34m(\u001b[0m\u001b[0mimgs\u001b[0m\u001b[0;34m[\u001b[0m\u001b[0;36m0\u001b[0m\u001b[0;34m]\u001b[0m\u001b[0;34m,\u001b[0m \u001b[0mimg_metas\u001b[0m\u001b[0;34m[\u001b[0m\u001b[0;36m0\u001b[0m\u001b[0;34m]\u001b[0m\u001b[0;34m,\u001b[0m \u001b[0;34m**\u001b[0m\u001b[0mkwargs\u001b[0m\u001b[0;34m)\u001b[0m\u001b[0;34m\u001b[0m\u001b[0;34m\u001b[0m\u001b[0m\n\u001b[0m\u001b[1;32m    148\u001b[0m         \u001b[0;32melse\u001b[0m\u001b[0;34m:\u001b[0m\u001b[0;34m\u001b[0m\u001b[0;34m\u001b[0m\u001b[0m\n\u001b[1;32m    149\u001b[0m             \u001b[0;32massert\u001b[0m \u001b[0mimgs\u001b[0m\u001b[0;34m[\u001b[0m\u001b[0;36m0\u001b[0m\u001b[0;34m]\u001b[0m\u001b[0;34m.\u001b[0m\u001b[0msize\u001b[0m\u001b[0;34m(\u001b[0m\u001b[0;36m0\u001b[0m\u001b[0;34m)\u001b[0m \u001b[0;34m==\u001b[0m \u001b[0;36m1\u001b[0m\u001b[0;34m,\u001b[0m \u001b[0;34m'aug test does not support '\u001b[0m\u001b[0;31m \u001b[0m\u001b[0;31m\\\u001b[0m\u001b[0;34m\u001b[0m\u001b[0;34m\u001b[0m\u001b[0m\n",
      "\u001b[0;32m/app/_data/mmdetection/mmdet/models/detectors/two_stage.py\u001b[0m in \u001b[0;36msimple_test\u001b[0;34m(self, img, img_metas, proposals, rescale)\u001b[0m\n\u001b[1;32m    175\u001b[0m \u001b[0;34m\u001b[0m\u001b[0m\n\u001b[1;32m    176\u001b[0m         \u001b[0;32massert\u001b[0m \u001b[0mself\u001b[0m\u001b[0;34m.\u001b[0m\u001b[0mwith_bbox\u001b[0m\u001b[0;34m,\u001b[0m \u001b[0;34m'Bbox head must be implemented.'\u001b[0m\u001b[0;34m\u001b[0m\u001b[0;34m\u001b[0m\u001b[0m\n\u001b[0;32m--> 177\u001b[0;31m         \u001b[0mx\u001b[0m \u001b[0;34m=\u001b[0m \u001b[0mself\u001b[0m\u001b[0;34m.\u001b[0m\u001b[0mextract_feat\u001b[0m\u001b[0;34m(\u001b[0m\u001b[0mimg\u001b[0m\u001b[0;34m)\u001b[0m\u001b[0;34m\u001b[0m\u001b[0;34m\u001b[0m\u001b[0m\n\u001b[0m\u001b[1;32m    178\u001b[0m         \u001b[0;32mif\u001b[0m \u001b[0mproposals\u001b[0m \u001b[0;32mis\u001b[0m \u001b[0;32mNone\u001b[0m\u001b[0;34m:\u001b[0m\u001b[0;34m\u001b[0m\u001b[0;34m\u001b[0m\u001b[0m\n\u001b[1;32m    179\u001b[0m             \u001b[0mproposal_list\u001b[0m \u001b[0;34m=\u001b[0m \u001b[0mself\u001b[0m\u001b[0;34m.\u001b[0m\u001b[0mrpn_head\u001b[0m\u001b[0;34m.\u001b[0m\u001b[0msimple_test_rpn\u001b[0m\u001b[0;34m(\u001b[0m\u001b[0mx\u001b[0m\u001b[0;34m,\u001b[0m \u001b[0mimg_metas\u001b[0m\u001b[0;34m)\u001b[0m\u001b[0;34m\u001b[0m\u001b[0;34m\u001b[0m\u001b[0m\n",
      "\u001b[0;32m/app/_data/mmdetection/mmdet/models/detectors/two_stage.py\u001b[0m in \u001b[0;36mextract_feat\u001b[0;34m(self, img)\u001b[0m\n\u001b[1;32m     65\u001b[0m     \u001b[0;32mdef\u001b[0m \u001b[0mextract_feat\u001b[0m\u001b[0;34m(\u001b[0m\u001b[0mself\u001b[0m\u001b[0;34m,\u001b[0m \u001b[0mimg\u001b[0m\u001b[0;34m)\u001b[0m\u001b[0;34m:\u001b[0m\u001b[0;34m\u001b[0m\u001b[0;34m\u001b[0m\u001b[0m\n\u001b[1;32m     66\u001b[0m         \u001b[0;34m\"\"\"Directly extract features from the backbone+neck.\"\"\"\u001b[0m\u001b[0;34m\u001b[0m\u001b[0;34m\u001b[0m\u001b[0m\n\u001b[0;32m---> 67\u001b[0;31m         \u001b[0mx\u001b[0m \u001b[0;34m=\u001b[0m \u001b[0mself\u001b[0m\u001b[0;34m.\u001b[0m\u001b[0mbackbone\u001b[0m\u001b[0;34m(\u001b[0m\u001b[0mimg\u001b[0m\u001b[0;34m)\u001b[0m\u001b[0;34m\u001b[0m\u001b[0;34m\u001b[0m\u001b[0m\n\u001b[0m\u001b[1;32m     68\u001b[0m         \u001b[0;32mif\u001b[0m \u001b[0mself\u001b[0m\u001b[0;34m.\u001b[0m\u001b[0mwith_neck\u001b[0m\u001b[0;34m:\u001b[0m\u001b[0;34m\u001b[0m\u001b[0;34m\u001b[0m\u001b[0m\n\u001b[1;32m     69\u001b[0m             \u001b[0mx\u001b[0m \u001b[0;34m=\u001b[0m \u001b[0mself\u001b[0m\u001b[0;34m.\u001b[0m\u001b[0mneck\u001b[0m\u001b[0;34m(\u001b[0m\u001b[0mx\u001b[0m\u001b[0;34m)\u001b[0m\u001b[0;34m\u001b[0m\u001b[0;34m\u001b[0m\u001b[0m\n",
      "\u001b[0;32m/usr/local/lib/python3.8/dist-packages/torch/nn/modules/module.py\u001b[0m in \u001b[0;36m_call_impl\u001b[0;34m(self, *input, **kwargs)\u001b[0m\n\u001b[1;32m   1049\u001b[0m         if not (self._backward_hooks or self._forward_hooks or self._forward_pre_hooks or _global_backward_hooks\n\u001b[1;32m   1050\u001b[0m                 or _global_forward_hooks or _global_forward_pre_hooks):\n\u001b[0;32m-> 1051\u001b[0;31m             \u001b[0;32mreturn\u001b[0m \u001b[0mforward_call\u001b[0m\u001b[0;34m(\u001b[0m\u001b[0;34m*\u001b[0m\u001b[0minput\u001b[0m\u001b[0;34m,\u001b[0m \u001b[0;34m**\u001b[0m\u001b[0mkwargs\u001b[0m\u001b[0;34m)\u001b[0m\u001b[0;34m\u001b[0m\u001b[0;34m\u001b[0m\u001b[0m\n\u001b[0m\u001b[1;32m   1052\u001b[0m         \u001b[0;31m# Do not call functions when jit is used\u001b[0m\u001b[0;34m\u001b[0m\u001b[0;34m\u001b[0m\u001b[0;34m\u001b[0m\u001b[0m\n\u001b[1;32m   1053\u001b[0m         \u001b[0mfull_backward_hooks\u001b[0m\u001b[0;34m,\u001b[0m \u001b[0mnon_full_backward_hooks\u001b[0m \u001b[0;34m=\u001b[0m \u001b[0;34m[\u001b[0m\u001b[0;34m]\u001b[0m\u001b[0;34m,\u001b[0m \u001b[0;34m[\u001b[0m\u001b[0;34m]\u001b[0m\u001b[0;34m\u001b[0m\u001b[0;34m\u001b[0m\u001b[0m\n",
      "\u001b[0;32m/app/_data/mmdetection/mmdet/models/backbones/swin.py\u001b[0m in \u001b[0;36mforward\u001b[0;34m(self, x)\u001b[0m\n\u001b[1;32m    752\u001b[0m         \u001b[0mouts\u001b[0m \u001b[0;34m=\u001b[0m \u001b[0;34m[\u001b[0m\u001b[0;34m]\u001b[0m\u001b[0;34m\u001b[0m\u001b[0;34m\u001b[0m\u001b[0m\n\u001b[1;32m    753\u001b[0m         \u001b[0;32mfor\u001b[0m \u001b[0mi\u001b[0m\u001b[0;34m,\u001b[0m \u001b[0mstage\u001b[0m \u001b[0;32min\u001b[0m \u001b[0menumerate\u001b[0m\u001b[0;34m(\u001b[0m\u001b[0mself\u001b[0m\u001b[0;34m.\u001b[0m\u001b[0mstages\u001b[0m\u001b[0;34m)\u001b[0m\u001b[0;34m:\u001b[0m\u001b[0;34m\u001b[0m\u001b[0;34m\u001b[0m\u001b[0m\n\u001b[0;32m--> 754\u001b[0;31m             \u001b[0mx\u001b[0m\u001b[0;34m,\u001b[0m \u001b[0mhw_shape\u001b[0m\u001b[0;34m,\u001b[0m \u001b[0mout\u001b[0m\u001b[0;34m,\u001b[0m \u001b[0mout_hw_shape\u001b[0m \u001b[0;34m=\u001b[0m \u001b[0mstage\u001b[0m\u001b[0;34m(\u001b[0m\u001b[0mx\u001b[0m\u001b[0;34m,\u001b[0m \u001b[0mhw_shape\u001b[0m\u001b[0;34m)\u001b[0m\u001b[0;34m\u001b[0m\u001b[0;34m\u001b[0m\u001b[0m\n\u001b[0m\u001b[1;32m    755\u001b[0m             \u001b[0;32mif\u001b[0m \u001b[0mi\u001b[0m \u001b[0;32min\u001b[0m \u001b[0mself\u001b[0m\u001b[0;34m.\u001b[0m\u001b[0mout_indices\u001b[0m\u001b[0;34m:\u001b[0m\u001b[0;34m\u001b[0m\u001b[0;34m\u001b[0m\u001b[0m\n\u001b[1;32m    756\u001b[0m                 \u001b[0mnorm_layer\u001b[0m \u001b[0;34m=\u001b[0m \u001b[0mgetattr\u001b[0m\u001b[0;34m(\u001b[0m\u001b[0mself\u001b[0m\u001b[0;34m,\u001b[0m \u001b[0;34mf'norm{i}'\u001b[0m\u001b[0;34m)\u001b[0m\u001b[0;34m\u001b[0m\u001b[0;34m\u001b[0m\u001b[0m\n",
      "\u001b[0;32m/usr/local/lib/python3.8/dist-packages/torch/nn/modules/module.py\u001b[0m in \u001b[0;36m_call_impl\u001b[0;34m(self, *input, **kwargs)\u001b[0m\n\u001b[1;32m   1049\u001b[0m         if not (self._backward_hooks or self._forward_hooks or self._forward_pre_hooks or _global_backward_hooks\n\u001b[1;32m   1050\u001b[0m                 or _global_forward_hooks or _global_forward_pre_hooks):\n\u001b[0;32m-> 1051\u001b[0;31m             \u001b[0;32mreturn\u001b[0m \u001b[0mforward_call\u001b[0m\u001b[0;34m(\u001b[0m\u001b[0;34m*\u001b[0m\u001b[0minput\u001b[0m\u001b[0;34m,\u001b[0m \u001b[0;34m**\u001b[0m\u001b[0mkwargs\u001b[0m\u001b[0;34m)\u001b[0m\u001b[0;34m\u001b[0m\u001b[0;34m\u001b[0m\u001b[0m\n\u001b[0m\u001b[1;32m   1052\u001b[0m         \u001b[0;31m# Do not call functions when jit is used\u001b[0m\u001b[0;34m\u001b[0m\u001b[0;34m\u001b[0m\u001b[0;34m\u001b[0m\u001b[0m\n\u001b[1;32m   1053\u001b[0m         \u001b[0mfull_backward_hooks\u001b[0m\u001b[0;34m,\u001b[0m \u001b[0mnon_full_backward_hooks\u001b[0m \u001b[0;34m=\u001b[0m \u001b[0;34m[\u001b[0m\u001b[0;34m]\u001b[0m\u001b[0;34m,\u001b[0m \u001b[0;34m[\u001b[0m\u001b[0;34m]\u001b[0m\u001b[0;34m\u001b[0m\u001b[0;34m\u001b[0m\u001b[0m\n",
      "\u001b[0;32m/app/_data/mmdetection/mmdet/models/backbones/swin.py\u001b[0m in \u001b[0;36mforward\u001b[0;34m(self, x, hw_shape)\u001b[0m\n\u001b[1;32m    455\u001b[0m     \u001b[0;32mdef\u001b[0m \u001b[0mforward\u001b[0m\u001b[0;34m(\u001b[0m\u001b[0mself\u001b[0m\u001b[0;34m,\u001b[0m \u001b[0mx\u001b[0m\u001b[0;34m,\u001b[0m \u001b[0mhw_shape\u001b[0m\u001b[0;34m)\u001b[0m\u001b[0;34m:\u001b[0m\u001b[0;34m\u001b[0m\u001b[0;34m\u001b[0m\u001b[0m\n\u001b[1;32m    456\u001b[0m         \u001b[0;32mfor\u001b[0m \u001b[0mblock\u001b[0m \u001b[0;32min\u001b[0m \u001b[0mself\u001b[0m\u001b[0;34m.\u001b[0m\u001b[0mblocks\u001b[0m\u001b[0;34m:\u001b[0m\u001b[0;34m\u001b[0m\u001b[0;34m\u001b[0m\u001b[0m\n\u001b[0;32m--> 457\u001b[0;31m             \u001b[0mx\u001b[0m \u001b[0;34m=\u001b[0m \u001b[0mblock\u001b[0m\u001b[0;34m(\u001b[0m\u001b[0mx\u001b[0m\u001b[0;34m,\u001b[0m \u001b[0mhw_shape\u001b[0m\u001b[0;34m)\u001b[0m\u001b[0;34m\u001b[0m\u001b[0;34m\u001b[0m\u001b[0m\n\u001b[0m\u001b[1;32m    458\u001b[0m \u001b[0;34m\u001b[0m\u001b[0m\n\u001b[1;32m    459\u001b[0m         \u001b[0;32mif\u001b[0m \u001b[0mself\u001b[0m\u001b[0;34m.\u001b[0m\u001b[0mdownsample\u001b[0m\u001b[0;34m:\u001b[0m\u001b[0;34m\u001b[0m\u001b[0;34m\u001b[0m\u001b[0m\n",
      "\u001b[0;32m/usr/local/lib/python3.8/dist-packages/torch/nn/modules/module.py\u001b[0m in \u001b[0;36m_call_impl\u001b[0;34m(self, *input, **kwargs)\u001b[0m\n\u001b[1;32m   1049\u001b[0m         if not (self._backward_hooks or self._forward_hooks or self._forward_pre_hooks or _global_backward_hooks\n\u001b[1;32m   1050\u001b[0m                 or _global_forward_hooks or _global_forward_pre_hooks):\n\u001b[0;32m-> 1051\u001b[0;31m             \u001b[0;32mreturn\u001b[0m \u001b[0mforward_call\u001b[0m\u001b[0;34m(\u001b[0m\u001b[0;34m*\u001b[0m\u001b[0minput\u001b[0m\u001b[0;34m,\u001b[0m \u001b[0;34m**\u001b[0m\u001b[0mkwargs\u001b[0m\u001b[0;34m)\u001b[0m\u001b[0;34m\u001b[0m\u001b[0;34m\u001b[0m\u001b[0m\n\u001b[0m\u001b[1;32m   1052\u001b[0m         \u001b[0;31m# Do not call functions when jit is used\u001b[0m\u001b[0;34m\u001b[0m\u001b[0;34m\u001b[0m\u001b[0;34m\u001b[0m\u001b[0m\n\u001b[1;32m   1053\u001b[0m         \u001b[0mfull_backward_hooks\u001b[0m\u001b[0;34m,\u001b[0m \u001b[0mnon_full_backward_hooks\u001b[0m \u001b[0;34m=\u001b[0m \u001b[0;34m[\u001b[0m\u001b[0;34m]\u001b[0m\u001b[0;34m,\u001b[0m \u001b[0;34m[\u001b[0m\u001b[0;34m]\u001b[0m\u001b[0;34m\u001b[0m\u001b[0;34m\u001b[0m\u001b[0m\n",
      "\u001b[0;32m/app/_data/mmdetection/mmdet/models/backbones/swin.py\u001b[0m in \u001b[0;36mforward\u001b[0;34m(self, x, hw_shape)\u001b[0m\n\u001b[1;32m    374\u001b[0m             \u001b[0mx\u001b[0m \u001b[0;34m=\u001b[0m \u001b[0mcp\u001b[0m\u001b[0;34m.\u001b[0m\u001b[0mcheckpoint\u001b[0m\u001b[0;34m(\u001b[0m\u001b[0m_inner_forward\u001b[0m\u001b[0;34m,\u001b[0m \u001b[0mx\u001b[0m\u001b[0;34m)\u001b[0m\u001b[0;34m\u001b[0m\u001b[0;34m\u001b[0m\u001b[0m\n\u001b[1;32m    375\u001b[0m         \u001b[0;32melse\u001b[0m\u001b[0;34m:\u001b[0m\u001b[0;34m\u001b[0m\u001b[0;34m\u001b[0m\u001b[0m\n\u001b[0;32m--> 376\u001b[0;31m             \u001b[0mx\u001b[0m \u001b[0;34m=\u001b[0m \u001b[0m_inner_forward\u001b[0m\u001b[0;34m(\u001b[0m\u001b[0mx\u001b[0m\u001b[0;34m)\u001b[0m\u001b[0;34m\u001b[0m\u001b[0;34m\u001b[0m\u001b[0m\n\u001b[0m\u001b[1;32m    377\u001b[0m \u001b[0;34m\u001b[0m\u001b[0m\n\u001b[1;32m    378\u001b[0m         \u001b[0;32mreturn\u001b[0m \u001b[0mx\u001b[0m\u001b[0;34m\u001b[0m\u001b[0;34m\u001b[0m\u001b[0m\n",
      "\u001b[0;32m/app/_data/mmdetection/mmdet/models/backbones/swin.py\u001b[0m in \u001b[0;36m_inner_forward\u001b[0;34m(x)\u001b[0m\n\u001b[1;32m    367\u001b[0m             \u001b[0midentity\u001b[0m \u001b[0;34m=\u001b[0m \u001b[0mx\u001b[0m\u001b[0;34m\u001b[0m\u001b[0;34m\u001b[0m\u001b[0m\n\u001b[1;32m    368\u001b[0m             \u001b[0mx\u001b[0m \u001b[0;34m=\u001b[0m \u001b[0mself\u001b[0m\u001b[0;34m.\u001b[0m\u001b[0mnorm2\u001b[0m\u001b[0;34m(\u001b[0m\u001b[0mx\u001b[0m\u001b[0;34m)\u001b[0m\u001b[0;34m\u001b[0m\u001b[0;34m\u001b[0m\u001b[0m\n\u001b[0;32m--> 369\u001b[0;31m             \u001b[0mx\u001b[0m \u001b[0;34m=\u001b[0m \u001b[0mself\u001b[0m\u001b[0;34m.\u001b[0m\u001b[0mffn\u001b[0m\u001b[0;34m(\u001b[0m\u001b[0mx\u001b[0m\u001b[0;34m,\u001b[0m \u001b[0midentity\u001b[0m\u001b[0;34m=\u001b[0m\u001b[0midentity\u001b[0m\u001b[0;34m)\u001b[0m\u001b[0;34m\u001b[0m\u001b[0;34m\u001b[0m\u001b[0m\n\u001b[0m\u001b[1;32m    370\u001b[0m \u001b[0;34m\u001b[0m\u001b[0m\n\u001b[1;32m    371\u001b[0m             \u001b[0;32mreturn\u001b[0m \u001b[0mx\u001b[0m\u001b[0;34m\u001b[0m\u001b[0;34m\u001b[0m\u001b[0m\n",
      "\u001b[0;32m/usr/local/lib/python3.8/dist-packages/torch/nn/modules/module.py\u001b[0m in \u001b[0;36m_call_impl\u001b[0;34m(self, *input, **kwargs)\u001b[0m\n\u001b[1;32m   1049\u001b[0m         if not (self._backward_hooks or self._forward_hooks or self._forward_pre_hooks or _global_backward_hooks\n\u001b[1;32m   1050\u001b[0m                 or _global_forward_hooks or _global_forward_pre_hooks):\n\u001b[0;32m-> 1051\u001b[0;31m             \u001b[0;32mreturn\u001b[0m \u001b[0mforward_call\u001b[0m\u001b[0;34m(\u001b[0m\u001b[0;34m*\u001b[0m\u001b[0minput\u001b[0m\u001b[0;34m,\u001b[0m \u001b[0;34m**\u001b[0m\u001b[0mkwargs\u001b[0m\u001b[0;34m)\u001b[0m\u001b[0;34m\u001b[0m\u001b[0;34m\u001b[0m\u001b[0m\n\u001b[0m\u001b[1;32m   1052\u001b[0m         \u001b[0;31m# Do not call functions when jit is used\u001b[0m\u001b[0;34m\u001b[0m\u001b[0;34m\u001b[0m\u001b[0;34m\u001b[0m\u001b[0m\n\u001b[1;32m   1053\u001b[0m         \u001b[0mfull_backward_hooks\u001b[0m\u001b[0;34m,\u001b[0m \u001b[0mnon_full_backward_hooks\u001b[0m \u001b[0;34m=\u001b[0m \u001b[0;34m[\u001b[0m\u001b[0;34m]\u001b[0m\u001b[0;34m,\u001b[0m \u001b[0;34m[\u001b[0m\u001b[0;34m]\u001b[0m\u001b[0;34m\u001b[0m\u001b[0;34m\u001b[0m\u001b[0m\n",
      "\u001b[0;32m/usr/local/lib/python3.8/dist-packages/mmcv/utils/misc.py\u001b[0m in \u001b[0;36mnew_func\u001b[0;34m(*args, **kwargs)\u001b[0m\n\u001b[1;32m    338\u001b[0m \u001b[0;34m\u001b[0m\u001b[0m\n\u001b[1;32m    339\u001b[0m             \u001b[0;31m# apply converted arguments to the decorated method\u001b[0m\u001b[0;34m\u001b[0m\u001b[0;34m\u001b[0m\u001b[0;34m\u001b[0m\u001b[0m\n\u001b[0;32m--> 340\u001b[0;31m             \u001b[0moutput\u001b[0m \u001b[0;34m=\u001b[0m \u001b[0mold_func\u001b[0m\u001b[0;34m(\u001b[0m\u001b[0;34m*\u001b[0m\u001b[0margs\u001b[0m\u001b[0;34m,\u001b[0m \u001b[0;34m**\u001b[0m\u001b[0mkwargs\u001b[0m\u001b[0;34m)\u001b[0m\u001b[0;34m\u001b[0m\u001b[0;34m\u001b[0m\u001b[0m\n\u001b[0m\u001b[1;32m    341\u001b[0m             \u001b[0;32mreturn\u001b[0m \u001b[0moutput\u001b[0m\u001b[0;34m\u001b[0m\u001b[0;34m\u001b[0m\u001b[0m\n\u001b[1;32m    342\u001b[0m \u001b[0;34m\u001b[0m\u001b[0m\n",
      "\u001b[0;32m/usr/local/lib/python3.8/dist-packages/mmcv/cnn/bricks/transformer.py\u001b[0m in \u001b[0;36mforward\u001b[0;34m(self, x, identity)\u001b[0m\n\u001b[1;32m    620\u001b[0m         \u001b[0mThe\u001b[0m \u001b[0mfunction\u001b[0m \u001b[0mwould\u001b[0m \u001b[0madd\u001b[0m \u001b[0mx\u001b[0m \u001b[0mto\u001b[0m \u001b[0mthe\u001b[0m \u001b[0moutput\u001b[0m \u001b[0mtensor\u001b[0m \u001b[0;32mif\u001b[0m \u001b[0mresidue\u001b[0m \u001b[0;32mis\u001b[0m \u001b[0;32mNone\u001b[0m\u001b[0;34m.\u001b[0m\u001b[0;34m\u001b[0m\u001b[0;34m\u001b[0m\u001b[0m\n\u001b[1;32m    621\u001b[0m         \"\"\"\n\u001b[0;32m--> 622\u001b[0;31m         \u001b[0mout\u001b[0m \u001b[0;34m=\u001b[0m \u001b[0mself\u001b[0m\u001b[0;34m.\u001b[0m\u001b[0mlayers\u001b[0m\u001b[0;34m(\u001b[0m\u001b[0mx\u001b[0m\u001b[0;34m)\u001b[0m\u001b[0;34m\u001b[0m\u001b[0;34m\u001b[0m\u001b[0m\n\u001b[0m\u001b[1;32m    623\u001b[0m         \u001b[0;32mif\u001b[0m \u001b[0;32mnot\u001b[0m \u001b[0mself\u001b[0m\u001b[0;34m.\u001b[0m\u001b[0madd_identity\u001b[0m\u001b[0;34m:\u001b[0m\u001b[0;34m\u001b[0m\u001b[0;34m\u001b[0m\u001b[0m\n\u001b[1;32m    624\u001b[0m             \u001b[0;32mreturn\u001b[0m \u001b[0mself\u001b[0m\u001b[0;34m.\u001b[0m\u001b[0mdropout_layer\u001b[0m\u001b[0;34m(\u001b[0m\u001b[0mout\u001b[0m\u001b[0;34m)\u001b[0m\u001b[0;34m\u001b[0m\u001b[0;34m\u001b[0m\u001b[0m\n",
      "\u001b[0;32m/usr/local/lib/python3.8/dist-packages/torch/nn/modules/module.py\u001b[0m in \u001b[0;36m_call_impl\u001b[0;34m(self, *input, **kwargs)\u001b[0m\n\u001b[1;32m   1049\u001b[0m         if not (self._backward_hooks or self._forward_hooks or self._forward_pre_hooks or _global_backward_hooks\n\u001b[1;32m   1050\u001b[0m                 or _global_forward_hooks or _global_forward_pre_hooks):\n\u001b[0;32m-> 1051\u001b[0;31m             \u001b[0;32mreturn\u001b[0m \u001b[0mforward_call\u001b[0m\u001b[0;34m(\u001b[0m\u001b[0;34m*\u001b[0m\u001b[0minput\u001b[0m\u001b[0;34m,\u001b[0m \u001b[0;34m**\u001b[0m\u001b[0mkwargs\u001b[0m\u001b[0;34m)\u001b[0m\u001b[0;34m\u001b[0m\u001b[0;34m\u001b[0m\u001b[0m\n\u001b[0m\u001b[1;32m   1052\u001b[0m         \u001b[0;31m# Do not call functions when jit is used\u001b[0m\u001b[0;34m\u001b[0m\u001b[0;34m\u001b[0m\u001b[0;34m\u001b[0m\u001b[0m\n\u001b[1;32m   1053\u001b[0m         \u001b[0mfull_backward_hooks\u001b[0m\u001b[0;34m,\u001b[0m \u001b[0mnon_full_backward_hooks\u001b[0m \u001b[0;34m=\u001b[0m \u001b[0;34m[\u001b[0m\u001b[0;34m]\u001b[0m\u001b[0;34m,\u001b[0m \u001b[0;34m[\u001b[0m\u001b[0;34m]\u001b[0m\u001b[0;34m\u001b[0m\u001b[0;34m\u001b[0m\u001b[0m\n",
      "\u001b[0;32m/usr/local/lib/python3.8/dist-packages/torch/nn/modules/container.py\u001b[0m in \u001b[0;36mforward\u001b[0;34m(self, input)\u001b[0m\n\u001b[1;32m    137\u001b[0m     \u001b[0;32mdef\u001b[0m \u001b[0mforward\u001b[0m\u001b[0;34m(\u001b[0m\u001b[0mself\u001b[0m\u001b[0;34m,\u001b[0m \u001b[0minput\u001b[0m\u001b[0;34m)\u001b[0m\u001b[0;34m:\u001b[0m\u001b[0;34m\u001b[0m\u001b[0;34m\u001b[0m\u001b[0m\n\u001b[1;32m    138\u001b[0m         \u001b[0;32mfor\u001b[0m \u001b[0mmodule\u001b[0m \u001b[0;32min\u001b[0m \u001b[0mself\u001b[0m\u001b[0;34m:\u001b[0m\u001b[0;34m\u001b[0m\u001b[0;34m\u001b[0m\u001b[0m\n\u001b[0;32m--> 139\u001b[0;31m             \u001b[0minput\u001b[0m \u001b[0;34m=\u001b[0m \u001b[0mmodule\u001b[0m\u001b[0;34m(\u001b[0m\u001b[0minput\u001b[0m\u001b[0;34m)\u001b[0m\u001b[0;34m\u001b[0m\u001b[0;34m\u001b[0m\u001b[0m\n\u001b[0m\u001b[1;32m    140\u001b[0m         \u001b[0;32mreturn\u001b[0m \u001b[0minput\u001b[0m\u001b[0;34m\u001b[0m\u001b[0;34m\u001b[0m\u001b[0m\n\u001b[1;32m    141\u001b[0m \u001b[0;34m\u001b[0m\u001b[0m\n",
      "\u001b[0;32m/usr/local/lib/python3.8/dist-packages/torch/nn/modules/module.py\u001b[0m in \u001b[0;36m_call_impl\u001b[0;34m(self, *input, **kwargs)\u001b[0m\n\u001b[1;32m   1049\u001b[0m         if not (self._backward_hooks or self._forward_hooks or self._forward_pre_hooks or _global_backward_hooks\n\u001b[1;32m   1050\u001b[0m                 or _global_forward_hooks or _global_forward_pre_hooks):\n\u001b[0;32m-> 1051\u001b[0;31m             \u001b[0;32mreturn\u001b[0m \u001b[0mforward_call\u001b[0m\u001b[0;34m(\u001b[0m\u001b[0;34m*\u001b[0m\u001b[0minput\u001b[0m\u001b[0;34m,\u001b[0m \u001b[0;34m**\u001b[0m\u001b[0mkwargs\u001b[0m\u001b[0;34m)\u001b[0m\u001b[0;34m\u001b[0m\u001b[0;34m\u001b[0m\u001b[0m\n\u001b[0m\u001b[1;32m   1052\u001b[0m         \u001b[0;31m# Do not call functions when jit is used\u001b[0m\u001b[0;34m\u001b[0m\u001b[0;34m\u001b[0m\u001b[0;34m\u001b[0m\u001b[0m\n\u001b[1;32m   1053\u001b[0m         \u001b[0mfull_backward_hooks\u001b[0m\u001b[0;34m,\u001b[0m \u001b[0mnon_full_backward_hooks\u001b[0m \u001b[0;34m=\u001b[0m \u001b[0;34m[\u001b[0m\u001b[0;34m]\u001b[0m\u001b[0;34m,\u001b[0m \u001b[0;34m[\u001b[0m\u001b[0;34m]\u001b[0m\u001b[0;34m\u001b[0m\u001b[0;34m\u001b[0m\u001b[0m\n",
      "\u001b[0;32m/usr/local/lib/python3.8/dist-packages/torch/nn/modules/container.py\u001b[0m in \u001b[0;36mforward\u001b[0;34m(self, input)\u001b[0m\n\u001b[1;32m    137\u001b[0m     \u001b[0;32mdef\u001b[0m \u001b[0mforward\u001b[0m\u001b[0;34m(\u001b[0m\u001b[0mself\u001b[0m\u001b[0;34m,\u001b[0m \u001b[0minput\u001b[0m\u001b[0;34m)\u001b[0m\u001b[0;34m:\u001b[0m\u001b[0;34m\u001b[0m\u001b[0;34m\u001b[0m\u001b[0m\n\u001b[1;32m    138\u001b[0m         \u001b[0;32mfor\u001b[0m \u001b[0mmodule\u001b[0m \u001b[0;32min\u001b[0m \u001b[0mself\u001b[0m\u001b[0;34m:\u001b[0m\u001b[0;34m\u001b[0m\u001b[0;34m\u001b[0m\u001b[0m\n\u001b[0;32m--> 139\u001b[0;31m             \u001b[0minput\u001b[0m \u001b[0;34m=\u001b[0m \u001b[0mmodule\u001b[0m\u001b[0;34m(\u001b[0m\u001b[0minput\u001b[0m\u001b[0;34m)\u001b[0m\u001b[0;34m\u001b[0m\u001b[0;34m\u001b[0m\u001b[0m\n\u001b[0m\u001b[1;32m    140\u001b[0m         \u001b[0;32mreturn\u001b[0m \u001b[0minput\u001b[0m\u001b[0;34m\u001b[0m\u001b[0;34m\u001b[0m\u001b[0m\n\u001b[1;32m    141\u001b[0m \u001b[0;34m\u001b[0m\u001b[0m\n",
      "\u001b[0;32m/usr/local/lib/python3.8/dist-packages/torch/nn/modules/module.py\u001b[0m in \u001b[0;36m_call_impl\u001b[0;34m(self, *input, **kwargs)\u001b[0m\n\u001b[1;32m   1049\u001b[0m         if not (self._backward_hooks or self._forward_hooks or self._forward_pre_hooks or _global_backward_hooks\n\u001b[1;32m   1050\u001b[0m                 or _global_forward_hooks or _global_forward_pre_hooks):\n\u001b[0;32m-> 1051\u001b[0;31m             \u001b[0;32mreturn\u001b[0m \u001b[0mforward_call\u001b[0m\u001b[0;34m(\u001b[0m\u001b[0;34m*\u001b[0m\u001b[0minput\u001b[0m\u001b[0;34m,\u001b[0m \u001b[0;34m**\u001b[0m\u001b[0mkwargs\u001b[0m\u001b[0;34m)\u001b[0m\u001b[0;34m\u001b[0m\u001b[0;34m\u001b[0m\u001b[0m\n\u001b[0m\u001b[1;32m   1052\u001b[0m         \u001b[0;31m# Do not call functions when jit is used\u001b[0m\u001b[0;34m\u001b[0m\u001b[0;34m\u001b[0m\u001b[0;34m\u001b[0m\u001b[0m\n\u001b[1;32m   1053\u001b[0m         \u001b[0mfull_backward_hooks\u001b[0m\u001b[0;34m,\u001b[0m \u001b[0mnon_full_backward_hooks\u001b[0m \u001b[0;34m=\u001b[0m \u001b[0;34m[\u001b[0m\u001b[0;34m]\u001b[0m\u001b[0;34m,\u001b[0m \u001b[0;34m[\u001b[0m\u001b[0;34m]\u001b[0m\u001b[0;34m\u001b[0m\u001b[0;34m\u001b[0m\u001b[0m\n",
      "\u001b[0;32m/usr/local/lib/python3.8/dist-packages/mmcv/cnn/bricks/wrappers.py\u001b[0m in \u001b[0;36mforward\u001b[0;34m(self, x)\u001b[0m\n\u001b[1;32m    178\u001b[0m                 \u001b[0;32mreturn\u001b[0m \u001b[0mempty\u001b[0m\u001b[0;34m\u001b[0m\u001b[0;34m\u001b[0m\u001b[0m\n\u001b[1;32m    179\u001b[0m \u001b[0;34m\u001b[0m\u001b[0m\n\u001b[0;32m--> 180\u001b[0;31m         \u001b[0;32mreturn\u001b[0m \u001b[0msuper\u001b[0m\u001b[0;34m(\u001b[0m\u001b[0;34m)\u001b[0m\u001b[0;34m.\u001b[0m\u001b[0mforward\u001b[0m\u001b[0;34m(\u001b[0m\u001b[0mx\u001b[0m\u001b[0;34m)\u001b[0m\u001b[0;34m\u001b[0m\u001b[0;34m\u001b[0m\u001b[0m\n\u001b[0m",
      "\u001b[0;32m/usr/local/lib/python3.8/dist-packages/torch/nn/modules/linear.py\u001b[0m in \u001b[0;36mforward\u001b[0;34m(self, input)\u001b[0m\n\u001b[1;32m     94\u001b[0m \u001b[0;34m\u001b[0m\u001b[0m\n\u001b[1;32m     95\u001b[0m     \u001b[0;32mdef\u001b[0m \u001b[0mforward\u001b[0m\u001b[0;34m(\u001b[0m\u001b[0mself\u001b[0m\u001b[0;34m,\u001b[0m \u001b[0minput\u001b[0m\u001b[0;34m:\u001b[0m \u001b[0mTensor\u001b[0m\u001b[0;34m)\u001b[0m \u001b[0;34m->\u001b[0m \u001b[0mTensor\u001b[0m\u001b[0;34m:\u001b[0m\u001b[0;34m\u001b[0m\u001b[0;34m\u001b[0m\u001b[0m\n\u001b[0;32m---> 96\u001b[0;31m         \u001b[0;32mreturn\u001b[0m \u001b[0mF\u001b[0m\u001b[0;34m.\u001b[0m\u001b[0mlinear\u001b[0m\u001b[0;34m(\u001b[0m\u001b[0minput\u001b[0m\u001b[0;34m,\u001b[0m \u001b[0mself\u001b[0m\u001b[0;34m.\u001b[0m\u001b[0mweight\u001b[0m\u001b[0;34m,\u001b[0m \u001b[0mself\u001b[0m\u001b[0;34m.\u001b[0m\u001b[0mbias\u001b[0m\u001b[0;34m)\u001b[0m\u001b[0;34m\u001b[0m\u001b[0;34m\u001b[0m\u001b[0m\n\u001b[0m\u001b[1;32m     97\u001b[0m \u001b[0;34m\u001b[0m\u001b[0m\n\u001b[1;32m     98\u001b[0m     \u001b[0;32mdef\u001b[0m \u001b[0mextra_repr\u001b[0m\u001b[0;34m(\u001b[0m\u001b[0mself\u001b[0m\u001b[0;34m)\u001b[0m \u001b[0;34m->\u001b[0m \u001b[0mstr\u001b[0m\u001b[0;34m:\u001b[0m\u001b[0;34m\u001b[0m\u001b[0;34m\u001b[0m\u001b[0m\n",
      "\u001b[0;32m/usr/local/lib/python3.8/dist-packages/torch/nn/functional.py\u001b[0m in \u001b[0;36mlinear\u001b[0;34m(input, weight, bias)\u001b[0m\n\u001b[1;32m   1845\u001b[0m     \u001b[0;32mif\u001b[0m \u001b[0mhas_torch_function_variadic\u001b[0m\u001b[0;34m(\u001b[0m\u001b[0minput\u001b[0m\u001b[0;34m,\u001b[0m \u001b[0mweight\u001b[0m\u001b[0;34m)\u001b[0m\u001b[0;34m:\u001b[0m\u001b[0;34m\u001b[0m\u001b[0;34m\u001b[0m\u001b[0m\n\u001b[1;32m   1846\u001b[0m         \u001b[0;32mreturn\u001b[0m \u001b[0mhandle_torch_function\u001b[0m\u001b[0;34m(\u001b[0m\u001b[0mlinear\u001b[0m\u001b[0;34m,\u001b[0m \u001b[0;34m(\u001b[0m\u001b[0minput\u001b[0m\u001b[0;34m,\u001b[0m \u001b[0mweight\u001b[0m\u001b[0;34m)\u001b[0m\u001b[0;34m,\u001b[0m \u001b[0minput\u001b[0m\u001b[0;34m,\u001b[0m \u001b[0mweight\u001b[0m\u001b[0;34m,\u001b[0m \u001b[0mbias\u001b[0m\u001b[0;34m=\u001b[0m\u001b[0mbias\u001b[0m\u001b[0;34m)\u001b[0m\u001b[0;34m\u001b[0m\u001b[0;34m\u001b[0m\u001b[0m\n\u001b[0;32m-> 1847\u001b[0;31m     \u001b[0;32mreturn\u001b[0m \u001b[0mtorch\u001b[0m\u001b[0;34m.\u001b[0m\u001b[0m_C\u001b[0m\u001b[0;34m.\u001b[0m\u001b[0m_nn\u001b[0m\u001b[0;34m.\u001b[0m\u001b[0mlinear\u001b[0m\u001b[0;34m(\u001b[0m\u001b[0minput\u001b[0m\u001b[0;34m,\u001b[0m \u001b[0mweight\u001b[0m\u001b[0;34m,\u001b[0m \u001b[0mbias\u001b[0m\u001b[0;34m)\u001b[0m\u001b[0;34m\u001b[0m\u001b[0;34m\u001b[0m\u001b[0m\n\u001b[0m\u001b[1;32m   1848\u001b[0m \u001b[0;34m\u001b[0m\u001b[0m\n\u001b[1;32m   1849\u001b[0m \u001b[0;34m\u001b[0m\u001b[0m\n",
      "\u001b[0;31mKeyboardInterrupt\u001b[0m: "
     ]
    }
   ],
   "source": [
    "train_detector(model, datasets, cfg, distributed=False, validate=True, meta = meta)"
   ]
  },
  {
   "cell_type": "code",
   "execution_count": null,
   "id": "31d9c194-9451-4ed6-95bb-7a3183672623",
   "metadata": {},
   "outputs": [],
   "source": []
  },
  {
   "cell_type": "code",
   "execution_count": null,
   "id": "f19ce437-6356-43ca-be87-343df891c3e7",
   "metadata": {},
   "outputs": [],
   "source": []
  },
  {
   "cell_type": "code",
   "execution_count": null,
   "id": "b44b4b17-82f7-4f38-b1d6-bacf2d21cfb7",
   "metadata": {},
   "outputs": [],
   "source": []
  },
  {
   "cell_type": "code",
   "execution_count": null,
   "id": "b83ef10e-5d49-445a-bede-eedcd2854618",
   "metadata": {},
   "outputs": [],
   "source": []
  },
  {
   "cell_type": "code",
   "execution_count": null,
   "id": "92860e2b-0aef-4446-b9a8-9fbc7cf8d58e",
   "metadata": {},
   "outputs": [],
   "source": []
  },
  {
   "cell_type": "code",
   "execution_count": null,
   "id": "c2b7cb32-2c65-4499-9976-8f1df517ae0f",
   "metadata": {},
   "outputs": [],
   "source": []
  },
  {
   "cell_type": "code",
   "execution_count": null,
   "id": "9a97bc68-87b1-42df-984a-557e805c5930",
   "metadata": {},
   "outputs": [],
   "source": []
  },
  {
   "cell_type": "code",
   "execution_count": null,
   "id": "54b496f9-b49f-44f1-b5d1-ee763d036215",
   "metadata": {},
   "outputs": [],
   "source": []
  },
  {
   "cell_type": "code",
   "execution_count": null,
   "id": "8b78ca39-61c1-4811-8708-442394a46e51",
   "metadata": {},
   "outputs": [],
   "source": []
  },
  {
   "cell_type": "code",
   "execution_count": null,
   "id": "288d6830-00c6-4bcb-bd36-e4e7ed263b8e",
   "metadata": {},
   "outputs": [],
   "source": []
  },
  {
   "cell_type": "code",
   "execution_count": null,
   "id": "a06cc4d9-3eed-4397-9834-1dfcd2dc7406",
   "metadata": {},
   "outputs": [],
   "source": []
  },
  {
   "cell_type": "code",
   "execution_count": null,
   "id": "eddcf814-da49-45aa-8068-1b556499179a",
   "metadata": {},
   "outputs": [],
   "source": []
  },
  {
   "cell_type": "code",
   "execution_count": null,
   "id": "e4095692-60f1-425f-8745-04a698e2e61b",
   "metadata": {},
   "outputs": [],
   "source": []
  },
  {
   "cell_type": "code",
   "execution_count": null,
   "id": "23be34c1-d914-49a4-8c23-e3f07c0f6e1e",
   "metadata": {},
   "outputs": [],
   "source": []
  },
  {
   "cell_type": "code",
   "execution_count": null,
   "id": "8f72b8a2-b389-4b13-b3da-a13952d6cc76",
   "metadata": {},
   "outputs": [],
   "source": []
  },
  {
   "cell_type": "code",
   "execution_count": null,
   "id": "4d9ef651-975a-4f10-84b5-ec8699cc43e6",
   "metadata": {},
   "outputs": [],
   "source": []
  },
  {
   "cell_type": "code",
   "execution_count": null,
   "id": "5f64e478-d9d3-42c6-a037-78f4c530daad",
   "metadata": {},
   "outputs": [],
   "source": []
  },
  {
   "cell_type": "code",
   "execution_count": null,
   "id": "3954bf37-8cb6-4864-b683-8554447d69a6",
   "metadata": {},
   "outputs": [],
   "source": []
  },
  {
   "cell_type": "code",
   "execution_count": null,
   "id": "d5fa4546-01ea-4820-bee2-43549fa946dd",
   "metadata": {},
   "outputs": [],
   "source": []
  },
  {
   "cell_type": "code",
   "execution_count": null,
   "id": "4236687a-12b4-4704-b032-8bf03613efbc",
   "metadata": {},
   "outputs": [],
   "source": []
  },
  {
   "cell_type": "code",
   "execution_count": null,
   "id": "0ad8ef36-5730-4c81-90bf-a2cd0b373585",
   "metadata": {},
   "outputs": [],
   "source": []
  },
  {
   "cell_type": "code",
   "execution_count": null,
   "id": "ac3a9727-1c34-4ff8-ada0-61a8c6899135",
   "metadata": {},
   "outputs": [],
   "source": []
  },
  {
   "cell_type": "code",
   "execution_count": 22,
   "id": "21568d6f-b2a0-4590-bde6-6f2002d7052c",
   "metadata": {},
   "outputs": [],
   "source": [
    "# the new config inherits the base configs to highlight the necessary modification\n",
    "_base_ = \"/app/_data/mmdetection/configs/swin/mask_rcnn_swin-s-p4-w7_fpn_fp16_ms-crop-3x_coco.py\""
   ]
  },
  {
   "cell_type": "code",
   "execution_count": 23,
   "id": "99af293a-92c7-412a-bdf1-f6afeccc8e42",
   "metadata": {},
   "outputs": [
    {
     "data": {
      "text/plain": [
       "'/app/_data/mmdetection/configs/swin/mask_rcnn_swin-s-p4-w7_fpn_fp16_ms-crop-3x_coco.py'"
      ]
     },
     "execution_count": 23,
     "metadata": {},
     "output_type": "execute_result"
    }
   ],
   "source": [
    "_base_"
   ]
  },
  {
   "cell_type": "code",
   "execution_count": 24,
   "id": "3be59087-640d-44ea-8863-082c8c447f14",
   "metadata": {},
   "outputs": [],
   "source": [
    "# 1. dataset settings\n",
    "dataset_type = \"CocoDataset\"\n",
    "classes = \"fish\"\n",
    "data = dict(\n",
    "    samples_per_gpu=2,\n",
    "    workers_per_gpu=8,\n",
    "    train=dict(\n",
    "        type=dataset_type,\n",
    "        # explicitly add your class names to the field `classes`\n",
    "        classes=classes,\n",
    "        ann_file=\"path/to/your/train/annotation_data\",\n",
    "        img_prefix=\"path/to/your/train/image_data\",\n",
    "    ),\n",
    "    val=dict(\n",
    "        type=dataset_type,\n",
    "        # explicitly add your class names to the field `classes`\n",
    "        classes=classes,\n",
    "        ann_file=\"path/to/your/val/annotation_data\",\n",
    "        img_prefix=\"path/to/your/val/image_data\",\n",
    "    ),\n",
    "    test=dict(\n",
    "        type=dataset_type,\n",
    "        # explicitly add your class names to the field `classes`\n",
    "        classes=classes,\n",
    "        ann_file=\"path/to/your/test/annotation_data\",\n",
    "        img_prefix=\"path/to/your/test/image_data\",\n",
    "    ),\n",
    ")\n",
    "\n",
    "# 2. model settings\n",
    "\n",
    "# explicitly over-write all the `num_classes` field from default 80 to 5.\n",
    "model = dict(\n",
    "    roi_head=dict(\n",
    "        bbox_head=[\n",
    "            dict(\n",
    "                type=\"Shared2FCBBoxHead\",\n",
    "                # explicitly over-write all the `num_classes` field from default 80 to 5.\n",
    "                num_classes=1,\n",
    "            ),\n",
    "            dict(\n",
    "                type=\"Shared2FCBBoxHead\",\n",
    "                # explicitly over-write all the `num_classes` field from default 80 to 5.\n",
    "                num_classes=1,\n",
    "            ),\n",
    "            dict(\n",
    "                type=\"Shared2FCBBoxHead\",\n",
    "                # explicitly over-write all the `num_classes` field from default 80 to 5.\n",
    "                num_classes=1,\n",
    "            ),\n",
    "        ],\n",
    "        # explicitly over-write all the `num_classes` field from default 80 to 5.\n",
    "        mask_head=dict(num_classes=1),\n",
    "    )\n",
    ")"
   ]
  },
  {
   "cell_type": "code",
   "execution_count": null,
   "id": "a4bcfcb5-db6f-4f24-956c-84048b6b11ca",
   "metadata": {},
   "outputs": [],
   "source": []
  }
 ],
 "metadata": {
  "kernelspec": {
   "display_name": "Python 3 (ipykernel)",
   "language": "python",
   "name": "python3"
  },
  "language_info": {
   "codemirror_mode": {
    "name": "ipython",
    "version": 3
   },
   "file_extension": ".py",
   "mimetype": "text/x-python",
   "name": "python",
   "nbconvert_exporter": "python",
   "pygments_lexer": "ipython3",
   "version": "3.8.10"
  }
 },
 "nbformat": 4,
 "nbformat_minor": 5
}
