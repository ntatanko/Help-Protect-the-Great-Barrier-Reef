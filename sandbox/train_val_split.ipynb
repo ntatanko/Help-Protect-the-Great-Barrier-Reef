{
 "cells": [
  {
   "cell_type": "code",
   "execution_count": 2,
   "id": "2cb8915d-5a48-4ded-baa4-021294e2e982",
   "metadata": {
    "_cell_guid": "b1076dfc-b9ad-4769-8c92-a6c4dae69d19",
    "_uuid": "8f2839f25d086af736a60e9eeb907d3b93b6e0e5",
    "tags": []
   },
   "outputs": [],
   "source": [
    "import ast\n",
    "import glob\n",
    "import json\n",
    "import os\n",
    "import re\n",
    "import shutil\n",
    "\n",
    "import cv2\n",
    "import matplotlib.pyplot as plt\n",
    "import numpy as np\n",
    "import pandas as pd\n",
    "import torch\n",
    "from IPython.core.interactiveshell import InteractiveShell\n",
    "from PIL import Image\n",
    "from sklearn.model_selection import GroupKFold, KFold, StratifiedKFold\n",
    "from tqdm import tqdm\n",
    "\n",
    "InteractiveShell.ast_node_interactivity = \"all\"\n",
    "import seaborn as sns\n",
    "import torch\n",
    "import torchvision\n",
    "from IPython.display import clear_output"
   ]
  },
  {
   "cell_type": "code",
   "execution_count": 3,
   "id": "b9aeed82-9e91-4b58-a0f1-14af0a0d58bb",
   "metadata": {},
   "outputs": [],
   "source": [
    "with open(\"/app/_data/sequences.json\", \"r\") as f:\n",
    "    seq_dict = json.load(f)"
   ]
  },
  {
   "cell_type": "code",
   "execution_count": 4,
   "id": "416eae61-57e8-436a-b875-3ebae9ec9d8b",
   "metadata": {
    "tags": []
   },
   "outputs": [],
   "source": [
    "TRAIN_DF_PART = \"/app/_data/tensorflow-great-barrier-reef/train.csv\"\n",
    "IMAGE_FOLDER = \"images\"\n",
    "LABEL_FOLDER = \"labels\"\n",
    "SEED = 37"
   ]
  },
  {
   "cell_type": "code",
   "execution_count": 5,
   "id": "f14b3506-22dc-445c-ba4c-7d256e10cc72",
   "metadata": {},
   "outputs": [],
   "source": [
    "kfold_dict = {\n",
    "    22643: [\"water_reef\", \"train\"],\n",
    "    60754: [\"water_reef\", \"train\"],\n",
    "    53708: [\"water\", \"train\"],\n",
    "    8503: [\"reef\", \"train\"],\n",
    "    18048: [\"water_reef\", \"all\"],\n",
    "    26651: [\"water_reef\", \"all\"],\n",
    "    15827: [\"water_reef\", \"all\"],\n",
    "    29859: [\"water_reef\", \"all\"],\n",
    "    59337: [\"water\", \"all\"],\n",
    "    8399: [\"water\", \"all\"],\n",
    "    45518: [\"water\", \"all\"],\n",
    "    35305: [\"water\", \"all\"],\n",
    "    45015: [\"water\", \"all\"],\n",
    "    17665: [\"water\", \"all\"],\n",
    "    40258: [\"water\", \"all\"],\n",
    "    996: [\"water\", \"all\"],\n",
    "    60510: [\"reef\", \"all\"],\n",
    "    29424: [\"water_reef\", \"all\"],\n",
    "    37114: [\"reef\", \"all\"],\n",
    "    44160: [\"water\", \"all\"],\n",
    "}"
   ]
  },
  {
   "cell_type": "code",
   "execution_count": 6,
   "id": "e709071a-8b2b-4b37-b52e-30b8b0441043",
   "metadata": {},
   "outputs": [],
   "source": [
    "df = pd.read_csv(TRAIN_DF_PART)\n",
    "df[\"img_path\"] = (\n",
    "    \"/app/_data/tensorflow-great-barrier-reef/train_images/video_\"\n",
    "    + df.video_id.astype(\"str\")\n",
    "    + \"/\"\n",
    "    + df.video_frame.astype(\"str\")\n",
    "    + \".jpg\"\n",
    ")\n",
    "df[\"annotations\"] = df[\"annotations\"].apply(lambda x: ast.literal_eval(x))\n",
    "df[\"len_annotation\"] = df[\"annotations\"].str.len()\n",
    "df[\"image_id\"] = df[\"image_id\"].str.replace(\"-\", \"_\", regex=True)\n",
    "df[\"new_img_path\"] = f\"/app/_data/{IMAGE_FOLDER}/\" + df[\"image_id\"] + \".jpg\"\n",
    "df[\"label\"] = df[\"len_annotation\"].apply(lambda x: False if x == 0 else True)\n",
    "df[\"type\"] = df[\"sequence\"].apply(lambda x: kfold_dict[x][0])\n",
    "df[\"train\"] = df[\"sequence\"].apply(lambda x: 1 if kfold_dict[x][1] == \"train\" else 0)"
   ]
  },
  {
   "cell_type": "code",
   "execution_count": 449,
   "id": "d23e782f-ced8-4ef7-a0c2-14276353e31e",
   "metadata": {},
   "outputs": [],
   "source": [
    "df[\"no_label\"] = df[\"len_annotation\"].apply(lambda x: True if x == 0 else False)"
   ]
  },
  {
   "cell_type": "code",
   "execution_count": 450,
   "id": "4c0fd518-6ffe-4a0c-bf10-2b1cef47b6ac",
   "metadata": {},
   "outputs": [
    {
     "data": {
      "text/plain": [
       "138"
      ]
     },
     "execution_count": 450,
     "metadata": {},
     "output_type": "execute_result"
    }
   ],
   "source": [
    "df[\"label_change\"] = df[\"label\"] & df[\"no_label\"].shift(1) & df[\"no_label\"].shift(2) | df[\"no_label\"] & df[\"label\"].shift(1) & df[\"label\"].shift(2)\n",
    "df[\"sequense_change\"] = df[\"sequence\"] != df[\"sequence\"].shift(1)\n",
    "df[\"start_subseq\"] = df[\"sequense_change\"] | df[\"label_change\"]\n",
    "df.loc[df.index[-1], \"start_subseq\"] = True\n",
    "df[\"start_subseq\"].sum()"
   ]
  },
  {
   "cell_type": "code",
   "execution_count": 451,
   "id": "461a1311-6961-4ca2-a481-78df6aae999c",
   "metadata": {},
   "outputs": [
    {
     "data": {
      "text/plain": [
       "137"
      ]
     },
     "execution_count": 451,
     "metadata": {},
     "output_type": "execute_result"
    }
   ],
   "source": [
    "start_idx = 0\n",
    "for subsequence_id, end_idx in enumerate(df[df[\"start_subseq\"]].index):\n",
    "    df.loc[start_idx:end_idx, \"subsequence_id\"] = subsequence_id\n",
    "    start_idx = end_idx\n",
    "\n",
    "df[\"subsequence_id\"] = df[\"subsequence_id\"].astype(int)\n",
    "df[\"subsequence_id\"].nunique()"
   ]
  },
  {
   "cell_type": "code",
   "execution_count": 423,
   "id": "5121cea8-869f-4ae1-bdd3-8efe8359d825",
   "metadata": {},
   "outputs": [
    {
     "name": "stderr",
     "output_type": "stream",
     "text": [
      "100% 23501/23501 [00:16<00:00, 1431.02it/s]\n"
     ]
    }
   ],
   "source": [
    "gr_init = 1\n",
    "\n",
    "for i in tqdm(df.index.tolist()):\n",
    "    if i != len(df) - 1:\n",
    "        if (\n",
    "            df.loc[i, \"label\"] == df.loc[i + 1, \"label\"]\n",
    "            or df.loc[i, \"label\"] == df.loc[i + 2, \"label\"]\n",
    "        ):\n",
    "            if df.loc[i, \"sequence\"] == df.loc[i + 1, \"sequence\"]:\n",
    "                df.loc[i, \"group\"] = gr_init\n",
    "                df.loc[i + 1, \"group\"] = gr_init\n",
    "            else:\n",
    "                df.loc[i, \"group\"] = gr_init\n",
    "                gr_init += 1\n",
    "        else:\n",
    "            df.loc[i, \"group\"] = gr_init\n",
    "            gr_init += 1\n",
    "    else:\n",
    "        if df.loc[i, \"label\"] == df.loc[i - 1, \"label\"]:\n",
    "            df.loc[i, \"group\"] = gr_init\n",
    "        else:\n",
    "            df.loc[i, \"group\"] = gr_init + 1\n",
    "df[\"group\"] = df[\"group\"].astype(\"int\")"
   ]
  },
  {
   "cell_type": "code",
   "execution_count": 320,
   "id": "91a7766b-6ded-4ffc-84c0-262276a886f7",
   "metadata": {},
   "outputs": [
    {
     "data": {
      "text/plain": [
       "137"
      ]
     },
     "execution_count": 320,
     "metadata": {},
     "output_type": "execute_result"
    }
   ],
   "source": [
    "df[\"group\"].nunique()"
   ]
  },
  {
   "cell_type": "markdown",
   "id": "d3500d39-df26-414f-8094-8751adc2b756",
   "metadata": {},
   "source": [
    "# Subsequence_kfold"
   ]
  },
  {
   "cell_type": "code",
   "execution_count": 470,
   "id": "857d0578-d145-4709-9ca6-2059d1acb806",
   "metadata": {},
   "outputs": [
    {
     "data": {
      "text/html": [
       "<div>\n",
       "<style scoped>\n",
       "    .dataframe tbody tr th:only-of-type {\n",
       "        vertical-align: middle;\n",
       "    }\n",
       "\n",
       "    .dataframe tbody tr th {\n",
       "        vertical-align: top;\n",
       "    }\n",
       "\n",
       "    .dataframe thead th {\n",
       "        text-align: right;\n",
       "    }\n",
       "</style>\n",
       "<table border=\"1\" class=\"dataframe\">\n",
       "  <thead>\n",
       "    <tr style=\"text-align: right;\">\n",
       "      <th></th>\n",
       "      <th>subsequence_id</th>\n",
       "      <th>label</th>\n",
       "      <th>len_annotation</th>\n",
       "      <th>video_frame</th>\n",
       "    </tr>\n",
       "  </thead>\n",
       "  <tbody>\n",
       "    <tr>\n",
       "      <th>0</th>\n",
       "      <td>1</td>\n",
       "      <td>0</td>\n",
       "      <td>0</td>\n",
       "      <td>16</td>\n",
       "    </tr>\n",
       "    <tr>\n",
       "      <th>1</th>\n",
       "      <td>2</td>\n",
       "      <td>1</td>\n",
       "      <td>194</td>\n",
       "      <td>164</td>\n",
       "    </tr>\n",
       "    <tr>\n",
       "      <th>2</th>\n",
       "      <td>3</td>\n",
       "      <td>0</td>\n",
       "      <td>0</td>\n",
       "      <td>52</td>\n",
       "    </tr>\n",
       "    <tr>\n",
       "      <th>3</th>\n",
       "      <td>4</td>\n",
       "      <td>1</td>\n",
       "      <td>58</td>\n",
       "      <td>58</td>\n",
       "    </tr>\n",
       "    <tr>\n",
       "      <th>4</th>\n",
       "      <td>5</td>\n",
       "      <td>0</td>\n",
       "      <td>0</td>\n",
       "      <td>35</td>\n",
       "    </tr>\n",
       "  </tbody>\n",
       "</table>\n",
       "</div>"
      ],
      "text/plain": [
       "   subsequence_id  label  len_annotation  video_frame\n",
       "0               1      0               0           16\n",
       "1               2      1             194          164\n",
       "2               3      0               0           52\n",
       "3               4      1              58           58\n",
       "4               5      0               0           35"
      ]
     },
     "execution_count": 470,
     "metadata": {},
     "output_type": "execute_result"
    }
   ],
   "source": [
    "df_split  = df.groupby(\"subsequence_id\").agg({'label': 'max', 'len_annotation': 'sum', 'video_frame': 'count'}).astype(int).reset_index()\n",
    "df_split.head()"
   ]
  },
  {
   "cell_type": "code",
   "execution_count": 468,
   "id": "d1894cbd-06f4-4adc-a078-0a0617f1f483",
   "metadata": {},
   "outputs": [],
   "source": [
    "# n_splits = 10\n",
    "# kf = StratifiedKFold(n_splits=n_splits, shuffle=True, random_state=SEED)\n",
    "# for fold_id, (train_idx, val_idx) in enumerate(kf.split(df_split['subsequence_id'], y=df_split[\"label\"])):\n",
    "#     subseq_val_idx = df_split['subsequence_id'].iloc[val_idx]\n",
    "#     df.loc[df['subsequence_id'].isin(subseq_val_idx), 'fold'] = fold_id\n",
    "    \n",
    "# df['fold'] = df['fold'].astype(int)\n",
    "# df['fold'].value_counts(dropna=False)"
   ]
  },
  {
   "cell_type": "code",
   "execution_count": 469,
   "id": "0d661049-3d35-4209-85e2-72674888d2a0",
   "metadata": {},
   "outputs": [],
   "source": [
    "# for fold in range(10):\n",
    "#     print(f'\\nFold {fold}')\n",
    "#     df.query('fold != @fold')[[\"len_annotation\", \"label\"]].sum()  / df.query('fold == @fold')[[\"len_annotation\", \"label\"]].sum()\n",
    "# fold = 3"
   ]
  },
  {
   "cell_type": "code",
   "execution_count": 472,
   "id": "b30aa477-d41f-46fc-b67b-2e8870a62af9",
   "metadata": {},
   "outputs": [
    {
     "name": "stderr",
     "output_type": "stream",
     "text": [
      "/usr/local/lib/python3.8/dist-packages/sklearn/model_selection/_split.py:676: UserWarning: The least populated class in y has only 1 members, which is less than n_splits=10.\n",
      "  warnings.warn(\n"
     ]
    },
    {
     "data": {
      "text/plain": [
       "6    4398\n",
       "3    3465\n",
       "1    3063\n",
       "7    3040\n",
       "2    2762\n",
       "5    1682\n",
       "4    1420\n",
       "9    1315\n",
       "8    1241\n",
       "0    1115\n",
       "Name: fold, dtype: int64"
      ]
     },
     "execution_count": 472,
     "metadata": {},
     "output_type": "execute_result"
    },
    {
     "name": "stdout",
     "output_type": "stream",
     "text": [
      "\n",
      "Fold 0\n"
     ]
    },
    {
     "data": {
      "text/plain": [
       "len_annotation    18.764120\n",
       "label             11.453165\n",
       "dtype: float64"
      ]
     },
     "execution_count": 472,
     "metadata": {},
     "output_type": "execute_result"
    },
    {
     "name": "stdout",
     "output_type": "stream",
     "text": [
      "\n",
      "Fold 1\n"
     ]
    },
    {
     "data": {
      "text/plain": [
       "len_annotation    4.283304\n",
       "label             8.957490\n",
       "dtype: float64"
      ]
     },
     "execution_count": 472,
     "metadata": {},
     "output_type": "execute_result"
    },
    {
     "name": "stdout",
     "output_type": "stream",
     "text": [
      "\n",
      "Fold 2\n"
     ]
    },
    {
     "data": {
      "text/plain": [
       "len_annotation    16.218524\n",
       "label             12.476712\n",
       "dtype: float64"
      ]
     },
     "execution_count": 472,
     "metadata": {},
     "output_type": "execute_result"
    },
    {
     "name": "stdout",
     "output_type": "stream",
     "text": [
      "\n",
      "Fold 3\n"
     ]
    },
    {
     "data": {
      "text/plain": [
       "len_annotation    21.280899\n",
       "label             11.328321\n",
       "dtype: float64"
      ]
     },
     "execution_count": 472,
     "metadata": {},
     "output_type": "execute_result"
    },
    {
     "name": "stdout",
     "output_type": "stream",
     "text": [
      "\n",
      "Fold 4\n"
     ]
    },
    {
     "data": {
      "text/plain": [
       "len_annotation    15.948718\n",
       "label              9.018330\n",
       "dtype: float64"
      ]
     },
     "execution_count": 472,
     "metadata": {},
     "output_type": "execute_result"
    },
    {
     "name": "stdout",
     "output_type": "stream",
     "text": [
      "\n",
      "Fold 5\n"
     ]
    },
    {
     "data": {
      "text/plain": [
       "len_annotation    26.929577\n",
       "label             13.510324\n",
       "dtype: float64"
      ]
     },
     "execution_count": 472,
     "metadata": {},
     "output_type": "execute_result"
    },
    {
     "name": "stdout",
     "output_type": "stream",
     "text": [
      "\n",
      "Fold 6\n"
     ]
    },
    {
     "data": {
      "text/plain": [
       "len_annotation    5.342217\n",
       "label             5.957567\n",
       "dtype: float64"
      ]
     },
     "execution_count": 472,
     "metadata": {},
     "output_type": "execute_result"
    },
    {
     "name": "stdout",
     "output_type": "stream",
     "text": [
      "\n",
      "Fold 7\n"
     ]
    },
    {
     "data": {
      "text/plain": [
       "len_annotation    3.092879\n",
       "label             5.347097\n",
       "dtype: float64"
      ]
     },
     "execution_count": 472,
     "metadata": {},
     "output_type": "execute_result"
    },
    {
     "name": "stdout",
     "output_type": "stream",
     "text": [
      "\n",
      "Fold 8\n"
     ]
    },
    {
     "data": {
      "text/plain": [
       "len_annotation    18.797005\n",
       "label             10.466200\n",
       "dtype: float64"
      ]
     },
     "execution_count": 472,
     "metadata": {},
     "output_type": "execute_result"
    },
    {
     "name": "stdout",
     "output_type": "stream",
     "text": [
      "\n",
      "Fold 9\n"
     ]
    },
    {
     "data": {
      "text/plain": [
       "len_annotation    8.103290\n",
       "label             8.369524\n",
       "dtype: float64"
      ]
     },
     "execution_count": 472,
     "metadata": {},
     "output_type": "execute_result"
    }
   ],
   "source": [
    "n_splits = 10\n",
    "skf = StratifiedKFold(n_splits=n_splits, shuffle=True, random_state=SEED)\n",
    "for fold_id, (train_idx, val_idx) in enumerate(skf.split(df_split['subsequence_id'], y=df_split[\"len_annotation\"])):\n",
    "    subseq_val_idx = df_split['subsequence_id'].iloc[val_idx]\n",
    "    df.loc[df['subsequence_id'].isin(subseq_val_idx), 'fold'] = fold_id\n",
    "    \n",
    "df['fold'] = df['fold'].astype(int)\n",
    "df['fold'].value_counts(dropna=False)\n",
    "for fold in range(10):\n",
    "    print(f'\\nFold {fold}')\n",
    "    df.query('fold != @fold')[[\"len_annotation\", \"label\"]].sum()  / df.query('fold == @fold')[[\"len_annotation\", \"label\"]].sum()"
   ]
  },
  {
   "cell_type": "markdown",
   "id": "f325f528-76a6-42fe-9de6-ab502170fa2f",
   "metadata": {},
   "source": [
    "## KFold split"
   ]
  },
  {
   "cell_type": "code",
   "execution_count": 8,
   "id": "a0e3eb41-c501-4945-92d8-63d66054dc9a",
   "metadata": {},
   "outputs": [
    {
     "data": {
      "text/html": [
       "<div>\n",
       "<style scoped>\n",
       "    .dataframe tbody tr th:only-of-type {\n",
       "        vertical-align: middle;\n",
       "    }\n",
       "\n",
       "    .dataframe tbody tr th {\n",
       "        vertical-align: top;\n",
       "    }\n",
       "\n",
       "    .dataframe thead tr th {\n",
       "        text-align: left;\n",
       "    }\n",
       "\n",
       "    .dataframe thead tr:last-of-type th {\n",
       "        text-align: right;\n",
       "    }\n",
       "</style>\n",
       "<table border=\"1\" class=\"dataframe\">\n",
       "  <thead>\n",
       "    <tr>\n",
       "      <th></th>\n",
       "      <th></th>\n",
       "      <th>sum</th>\n",
       "    </tr>\n",
       "    <tr>\n",
       "      <th></th>\n",
       "      <th></th>\n",
       "      <th>len_annotation</th>\n",
       "    </tr>\n",
       "    <tr>\n",
       "      <th>type</th>\n",
       "      <th>train</th>\n",
       "      <th></th>\n",
       "    </tr>\n",
       "  </thead>\n",
       "  <tbody>\n",
       "    <tr>\n",
       "      <th rowspan=\"2\" valign=\"top\">reef</th>\n",
       "      <th>0</th>\n",
       "      <td>113</td>\n",
       "    </tr>\n",
       "    <tr>\n",
       "      <th>1</th>\n",
       "      <td>3195</td>\n",
       "    </tr>\n",
       "    <tr>\n",
       "      <th rowspan=\"2\" valign=\"top\">water</th>\n",
       "      <th>0</th>\n",
       "      <td>2174</td>\n",
       "    </tr>\n",
       "    <tr>\n",
       "      <th>1</th>\n",
       "      <td>1146</td>\n",
       "    </tr>\n",
       "    <tr>\n",
       "      <th rowspan=\"2\" valign=\"top\">water_reef</th>\n",
       "      <th>0</th>\n",
       "      <td>289</td>\n",
       "    </tr>\n",
       "    <tr>\n",
       "      <th>1</th>\n",
       "      <td>4981</td>\n",
       "    </tr>\n",
       "  </tbody>\n",
       "</table>\n",
       "</div>"
      ],
      "text/plain": [
       "                            sum\n",
       "                 len_annotation\n",
       "type       train               \n",
       "reef       0                113\n",
       "           1               3195\n",
       "water      0               2174\n",
       "           1               1146\n",
       "water_reef 0                289\n",
       "           1               4981"
      ]
     },
     "execution_count": 8,
     "metadata": {},
     "output_type": "execute_result"
    }
   ],
   "source": [
    "pd.pivot_table(df, index=[\"type\", \"train\"], values=[\"len_annotation\"], aggfunc=[\"sum\"])"
   ]
  },
  {
   "cell_type": "code",
   "execution_count": 9,
   "id": "dafa3294-b714-4758-b457-ab7734b4aac1",
   "metadata": {},
   "outputs": [
    {
     "data": {
      "text/plain": [
       "([53708, 8503, 60754, 22643], [60510, 15827, 18048, 26651, 29859])"
      ]
     },
     "execution_count": 9,
     "metadata": {},
     "output_type": "execute_result"
    }
   ],
   "source": [
    "train_sequences = df.query(\"train == 1\")[\"sequence\"].unique().tolist()\n",
    "val_sequences = (\n",
    "    df.query('train != 1 and type in [\"water_reef\", \"reef\"] and len_annotation != 0')[\n",
    "        \"sequence\"\n",
    "    ]\n",
    "    .unique()\n",
    "    .tolist()\n",
    ")\n",
    "train_sequences, val_sequences"
   ]
  },
  {
   "cell_type": "code",
   "execution_count": 10,
   "id": "c9ac73ae-6a56-4080-9186-d274bd1f8618",
   "metadata": {},
   "outputs": [
    {
     "data": {
      "text/plain": [
       "8"
      ]
     },
     "execution_count": 10,
     "metadata": {},
     "output_type": "execute_result"
    }
   ],
   "source": [
    "water_df = df.query('type==\"water\" and train==0').reset_index(drop=True)\n",
    "seqs = water_df.query(\"len_annotation != 0\")[\"sequence\"].unique().tolist()\n",
    "len(seqs)"
   ]
  },
  {
   "cell_type": "code",
   "execution_count": 11,
   "id": "c922d646-ee67-4251-8b29-0b0e4dac065f",
   "metadata": {},
   "outputs": [
    {
     "data": {
      "text/plain": [
       "len_annotation    9322\n",
       "label             3035\n",
       "dtype: int64"
      ]
     },
     "execution_count": 11,
     "metadata": {},
     "output_type": "execute_result"
    }
   ],
   "source": [
    "df.query(\"sequence in @train_sequences\")[[\"len_annotation\", \"label\"]].sum()"
   ]
  },
  {
   "cell_type": "code",
   "execution_count": 12,
   "id": "ff0c6de0-e9f2-4449-8771-7de2f55c52e2",
   "metadata": {},
   "outputs": [
    {
     "data": {
      "text/plain": [
       "len_annotation    402\n",
       "label             358\n",
       "dtype: int64"
      ]
     },
     "execution_count": 12,
     "metadata": {},
     "output_type": "execute_result"
    }
   ],
   "source": [
    "df.query(\"sequence in @val_sequences\")[[\"len_annotation\", \"label\"]].sum()"
   ]
  },
  {
   "cell_type": "code",
   "execution_count": 13,
   "id": "bc5befbd-cd2e-4eff-94f4-18b7f5d27f9a",
   "metadata": {},
   "outputs": [
    {
     "data": {
      "text/plain": [
       "len_annotation    23.189055\n",
       "label              8.477654\n",
       "dtype: float64"
      ]
     },
     "execution_count": 13,
     "metadata": {},
     "output_type": "execute_result"
    }
   ],
   "source": [
    "df.query(\"sequence in @train_sequences\")[[\"len_annotation\", \"label\"]].sum() / df.query(\n",
    "    \"sequence in @val_sequences\"\n",
    ")[[\"len_annotation\", \"label\"]].sum()"
   ]
  },
  {
   "cell_type": "code",
   "execution_count": 76,
   "id": "ba7ff33a-9895-4347-bd5f-a5f06cd5a270",
   "metadata": {},
   "outputs": [],
   "source": [
    "val_seqs = []\n",
    "for seq1 in seqs:\n",
    "    labels_ratio = (\n",
    "        water_df.query(\"sequence != @seq1\")[\"label\"].sum()\n",
    "        / water_df.query(\"sequence == @seq1\")[\"label\"].sum()\n",
    "    )\n",
    "    sum_ratio = (\n",
    "        water_df.query(\"sequence != @seq1\")[\"len_annotation\"].sum()\n",
    "        / water_df.query(\"sequence == @seq1\")[\"len_annotation\"].sum()\n",
    "    )\n",
    "    if 4 <= labels_ratio <= 10 and 4 <= sum_ratio <= 10:\n",
    "        val_seqs.append([seq1])\n",
    "for seq1 in seqs:\n",
    "    for seq2 in seqs:\n",
    "        if seq1 != seq2:\n",
    "            labels_ratio = (\n",
    "                water_df.query(\"sequence not in [@seq1, @seq2]\")[\"label\"].sum()\n",
    "                / water_df.query(\"sequence in [@seq1, @seq2]\")[\"label\"].sum()\n",
    "            )\n",
    "            sum_ratio = (\n",
    "                water_df.query(\"sequence not in [@seq1, @seq2]\")[\"len_annotation\"].sum()\n",
    "                / water_df.query(\"sequence in [@seq1, @seq2]\")[\"len_annotation\"].sum()\n",
    "            )\n",
    "            if 4 <= labels_ratio <= 10 and 4 <= sum_ratio <= 10:\n",
    "                if [seq2, seq1] not in val_seqs:\n",
    "                    val_seqs.append([seq1, seq2])"
   ]
  },
  {
   "cell_type": "code",
   "execution_count": 182,
   "id": "f2a95a7d-447a-4999-aa44-eda6222be0a1",
   "metadata": {},
   "outputs": [],
   "source": [
    "val_seqs = []\n",
    "for seq1 in seqs:\n",
    "    labels_ratio = (\n",
    "        water_df.query(\"sequence != @seq1\")[\"label\"].sum()\n",
    "        / water_df.query(\"sequence == @seq1\")[\"label\"].sum()\n",
    "    )\n",
    "    sum_ratio = (\n",
    "        water_df.query(\"sequence != @seq1\")[\"len_annotation\"].sum()\n",
    "        / water_df.query(\"sequence == @seq1\")[\"len_annotation\"].sum()\n",
    "    )\n",
    "    if 3 <= labels_ratio <= 10:\n",
    "        val_seqs.append([seq1])\n",
    "for i in range(len(seqs)):\n",
    "    for j in range(i + 1, len(seqs)):\n",
    "        seq1, seq2 = seqs[i], seqs[j]\n",
    "        if seq1 != seq2:\n",
    "            labels_ratio = (\n",
    "                water_df.query(\"sequence not in [@seq1, @seq2]\")[\"label\"].sum()\n",
    "                / water_df.query(\"sequence in [@seq1, @seq2]\")[\"label\"].sum()\n",
    "            )\n",
    "            sum_ratio = (\n",
    "                water_df.query(\"sequence not in [@seq1, @seq2]\")[\"len_annotation\"].sum()\n",
    "                / water_df.query(\"sequence in [@seq1, @seq2]\")[\"len_annotation\"].sum()\n",
    "            )\n",
    "            if 3 <= labels_ratio <= 10:\n",
    "                val_seqs.append([seq1, seq2])\n",
    "for i in range(len(seqs)):\n",
    "    for j in range(i + 1, len(seqs)):\n",
    "        for h in range(j + 1, len(seqs)):\n",
    "            seq1, seq2, seq3 = seqs[i], seqs[j], seqs[h]\n",
    "            if seq1 != seq2 != seq3:\n",
    "\n",
    "                labels_ratio = (\n",
    "                    water_df.query(\"sequence not in [@seq1, @seq2, @seq3]\")[\n",
    "                        \"label\"\n",
    "                    ].sum()\n",
    "                    / water_df.query(\"sequence in [@seq1, @seq2, @seq3]\")[\"label\"].sum()\n",
    "                )\n",
    "                sum_ratio = (\n",
    "                    water_df.query(\"sequence not in [@seq1, @seq2, @seq3]\")[\n",
    "                        \"len_annotation\"\n",
    "                    ].sum()\n",
    "                    / water_df.query(\"sequence in [@seq1, @seq2, @seq3]\")[\n",
    "                        \"len_annotation\"\n",
    "                    ].sum()\n",
    "                )\n",
    "                if 3 <= labels_ratio <= 10:\n",
    "                    val_seqs.append([seq1, seq2, seq3])"
   ]
  },
  {
   "cell_type": "code",
   "execution_count": 183,
   "id": "015f00ab-3a07-4fbb-a33a-64f3f2c18448",
   "metadata": {},
   "outputs": [
    {
     "data": {
      "text/plain": [
       "[[40258],\n",
       " [59337],\n",
       " [996],\n",
       " [40258, 45015],\n",
       " [40258, 35305],\n",
       " [40258, 17665],\n",
       " [45518, 59337],\n",
       " [45518, 45015],\n",
       " [45518, 35305],\n",
       " [45518, 996],\n",
       " [45518, 17665],\n",
       " [59337, 45015],\n",
       " [59337, 35305],\n",
       " [59337, 996],\n",
       " [59337, 17665],\n",
       " [45015, 996],\n",
       " [35305, 996],\n",
       " [35305, 17665],\n",
       " [996, 17665],\n",
       " [45518, 59337, 45015],\n",
       " [45518, 59337, 35305],\n",
       " [45518, 59337, 17665],\n",
       " [45518, 45015, 35305],\n",
       " [45518, 45015, 996],\n",
       " [45518, 45015, 17665],\n",
       " [45518, 35305, 17665],\n",
       " [59337, 45015, 35305],\n",
       " [59337, 45015, 17665],\n",
       " [59337, 35305, 17665],\n",
       " [45015, 35305, 996],\n",
       " [45015, 35305, 17665],\n",
       " [45015, 996, 17665],\n",
       " [35305, 996, 17665]]"
      ]
     },
     "execution_count": 183,
     "metadata": {},
     "output_type": "execute_result"
    }
   ],
   "source": [
    "val_seqs"
   ]
  },
  {
   "cell_type": "code",
   "execution_count": 184,
   "id": "a2d7ac80-7138-4bee-8ada-dc8998bfd2c9",
   "metadata": {},
   "outputs": [],
   "source": [
    "train_sequences = df.query(\"train == 1\")[\"sequence\"].unique().tolist()\n",
    "val_sequences = (\n",
    "    df.query('train != 1 and type in [\"water_reef\", \"reef\"] and len_annotation != 0')[\n",
    "        \"sequence\"\n",
    "    ]\n",
    "    .unique()\n",
    "    .tolist()\n",
    ")"
   ]
  },
  {
   "cell_type": "code",
   "execution_count": 185,
   "id": "ea60cc3f-f8aa-4574-8a49-d0c88b529607",
   "metadata": {},
   "outputs": [
    {
     "name": "stdout",
     "output_type": "stream",
     "text": [
      "\n",
      "val_idx = 0\n"
     ]
    },
    {
     "data": {
      "text/plain": [
       "len_annotation    15.594142\n",
       "label              6.650078\n",
       "dtype: float64"
      ]
     },
     "execution_count": 185,
     "metadata": {},
     "output_type": "execute_result"
    },
    {
     "name": "stdout",
     "output_type": "stream",
     "text": [
      "\n",
      "val_idx = 1\n"
     ]
    },
    {
     "data": {
      "text/plain": [
       "len_annotation    18.996639\n",
       "label              8.570039\n",
       "dtype: float64"
      ]
     },
     "execution_count": 185,
     "metadata": {},
     "output_type": "execute_result"
    },
    {
     "name": "stdout",
     "output_type": "stream",
     "text": [
      "\n",
      "val_idx = 2\n"
     ]
    },
    {
     "data": {
      "text/plain": [
       "len_annotation    16.471366\n",
       "label              7.675485\n",
       "dtype: float64"
      ]
     },
     "execution_count": 185,
     "metadata": {},
     "output_type": "execute_result"
    },
    {
     "name": "stdout",
     "output_type": "stream",
     "text": [
      "\n",
      "val_idx = 3\n"
     ]
    },
    {
     "data": {
      "text/plain": [
       "len_annotation    15.056680\n",
       "label              6.396992\n",
       "dtype: float64"
      ]
     },
     "execution_count": 185,
     "metadata": {},
     "output_type": "execute_result"
    },
    {
     "name": "stdout",
     "output_type": "stream",
     "text": [
      "\n",
      "val_idx = 4\n"
     ]
    },
    {
     "data": {
      "text/plain": [
       "len_annotation    13.761787\n",
       "label              5.803596\n",
       "dtype: float64"
      ]
     },
     "execution_count": 185,
     "metadata": {},
     "output_type": "execute_result"
    },
    {
     "name": "stdout",
     "output_type": "stream",
     "text": [
      "\n",
      "val_idx = 5\n"
     ]
    },
    {
     "data": {
      "text/plain": [
       "len_annotation    11.240741\n",
       "label              5.738356\n",
       "dtype: float64"
      ]
     },
     "execution_count": 185,
     "metadata": {},
     "output_type": "execute_result"
    },
    {
     "name": "stdout",
     "output_type": "stream",
     "text": [
      "\n",
      "val_idx = 6\n"
     ]
    },
    {
     "data": {
      "text/plain": [
       "len_annotation    15.571031\n",
       "label              6.722135\n",
       "dtype: float64"
      ]
     },
     "execution_count": 185,
     "metadata": {},
     "output_type": "execute_result"
    },
    {
     "name": "stdout",
     "output_type": "stream",
     "text": [
      "\n",
      "val_idx = 7\n"
     ]
    },
    {
     "data": {
      "text/plain": [
       "len_annotation    20.672131\n",
       "label              8.779324\n",
       "dtype: float64"
      ]
     },
     "execution_count": 185,
     "metadata": {},
     "output_type": "execute_result"
    },
    {
     "name": "stdout",
     "output_type": "stream",
     "text": [
      "\n",
      "val_idx = 8\n"
     ]
    },
    {
     "data": {
      "text/plain": [
       "len_annotation    18.377850\n",
       "label              7.768271\n",
       "dtype: float64"
      ]
     },
     "execution_count": 185,
     "metadata": {},
     "output_type": "execute_result"
    },
    {
     "name": "stdout",
     "output_type": "stream",
     "text": [
      "\n",
      "val_idx = 9\n"
     ]
    },
    {
     "data": {
      "text/plain": [
       "len_annotation    13.798507\n",
       "label              6.128986\n",
       "dtype: float64"
      ]
     },
     "execution_count": 185,
     "metadata": {},
     "output_type": "execute_result"
    },
    {
     "name": "stdout",
     "output_type": "stream",
     "text": [
      "\n",
      "val_idx = 10\n"
     ]
    },
    {
     "data": {
      "text/plain": [
       "len_annotation    14.253846\n",
       "label              7.660211\n",
       "dtype: float64"
      ]
     },
     "execution_count": 185,
     "metadata": {},
     "output_type": "execute_result"
    },
    {
     "name": "stdout",
     "output_type": "stream",
     "text": [
      "\n",
      "val_idx = 11\n"
     ]
    },
    {
     "data": {
      "text/plain": [
       "len_annotation    18.221325\n",
       "label              8.177239\n",
       "dtype: float64"
      ]
     },
     "execution_count": 185,
     "metadata": {},
     "output_type": "execute_result"
    },
    {
     "name": "stdout",
     "output_type": "stream",
     "text": [
      "\n",
      "val_idx = 12\n"
     ]
    },
    {
     "data": {
      "text/plain": [
       "len_annotation    16.394737\n",
       "label              7.281145\n",
       "dtype: float64"
      ]
     },
     "execution_count": 185,
     "metadata": {},
     "output_type": "execute_result"
    },
    {
     "name": "stdout",
     "output_type": "stream",
     "text": [
      "\n",
      "val_idx = 13\n"
     ]
    },
    {
     "data": {
      "text/plain": [
       "len_annotation    12.613272\n",
       "label              5.803596\n",
       "dtype: float64"
      ]
     },
     "execution_count": 185,
     "metadata": {},
     "output_type": "execute_result"
    },
    {
     "name": "stdout",
     "output_type": "stream",
     "text": [
      "\n",
      "val_idx = 14\n"
     ]
    },
    {
     "data": {
      "text/plain": [
       "len_annotation    12.997647\n",
       "label              7.184692\n",
       "dtype: float64"
      ]
     },
     "execution_count": 185,
     "metadata": {},
     "output_type": "execute_result"
    },
    {
     "name": "stdout",
     "output_type": "stream",
     "text": [
      "\n",
      "val_idx = 15\n"
     ]
    },
    {
     "data": {
      "text/plain": [
       "len_annotation    15.876596\n",
       "label              7.351443\n",
       "dtype: float64"
      ]
     },
     "execution_count": 185,
     "metadata": {},
     "output_type": "execute_result"
    },
    {
     "name": "stdout",
     "output_type": "stream",
     "text": [
      "\n",
      "val_idx = 16\n"
     ]
    },
    {
     "data": {
      "text/plain": [
       "len_annotation    14.451948\n",
       "label              6.602782\n",
       "dtype: float64"
      ]
     },
     "execution_count": 185,
     "metadata": {},
     "output_type": "execute_result"
    },
    {
     "name": "stdout",
     "output_type": "stream",
     "text": [
      "\n",
      "val_idx = 17\n"
     ]
    },
    {
     "data": {
      "text/plain": [
       "len_annotation    14.949062\n",
       "label              8.369524\n",
       "dtype: float64"
      ]
     },
     "execution_count": 185,
     "metadata": {},
     "output_type": "execute_result"
    },
    {
     "name": "stdout",
     "output_type": "stream",
     "text": [
      "\n",
      "val_idx = 18\n"
     ]
    },
    {
     "data": {
      "text/plain": [
       "len_annotation    11.711538\n",
       "label              6.521407\n",
       "dtype: float64"
      ]
     },
     "execution_count": 185,
     "metadata": {},
     "output_type": "execute_result"
    },
    {
     "name": "stdout",
     "output_type": "stream",
     "text": [
      "\n",
      "val_idx = 19\n"
     ]
    },
    {
     "data": {
      "text/plain": [
       "len_annotation    15.03504\n",
       "label              6.46434\n",
       "dtype: float64"
      ]
     },
     "execution_count": 185,
     "metadata": {},
     "output_type": "execute_result"
    },
    {
     "name": "stdout",
     "output_type": "stream",
     "text": [
      "\n",
      "val_idx = 20\n"
     ]
    },
    {
     "data": {
      "text/plain": [
       "len_annotation    13.743494\n",
       "label              5.860530\n",
       "dtype: float64"
      ]
     },
     "execution_count": 185,
     "metadata": {},
     "output_type": "execute_result"
    },
    {
     "name": "stdout",
     "output_type": "stream",
     "text": [
      "\n",
      "val_idx = 21\n"
     ]
    },
    {
     "data": {
      "text/plain": [
       "len_annotation    11.228160\n",
       "label              5.794199\n",
       "dtype: float64"
      ]
     },
     "execution_count": 185,
     "metadata": {},
     "output_type": "execute_result"
    },
    {
     "name": "stdout",
     "output_type": "stream",
     "text": [
      "\n",
      "val_idx = 22\n"
     ]
    },
    {
     "data": {
      "text/plain": [
       "len_annotation    17.648903\n",
       "label              7.437393\n",
       "dtype: float64"
      ]
     },
     "execution_count": 185,
     "metadata": {},
     "output_type": "execute_result"
    },
    {
     "name": "stdout",
     "output_type": "stream",
     "text": [
      "\n",
      "val_idx = 23\n"
     ]
    },
    {
     "data": {
      "text/plain": [
       "len_annotation    13.369565\n",
       "label              5.908708\n",
       "dtype: float64"
      ]
     },
     "execution_count": 185,
     "metadata": {},
     "output_type": "execute_result"
    },
    {
     "name": "stdout",
     "output_type": "stream",
     "text": [
      "\n",
      "val_idx = 24\n"
     ]
    },
    {
     "data": {
      "text/plain": [
       "len_annotation    13.798507\n",
       "label              7.337288\n",
       "dtype: float64"
      ]
     },
     "execution_count": 185,
     "metadata": {},
     "output_type": "execute_result"
    },
    {
     "name": "stdout",
     "output_type": "stream",
     "text": [
      "\n",
      "val_idx = 25\n"
     ]
    },
    {
     "data": {
      "text/plain": [
       "len_annotation    12.691600\n",
       "label              6.591049\n",
       "dtype: float64"
      ]
     },
     "execution_count": 185,
     "metadata": {},
     "output_type": "execute_result"
    },
    {
     "name": "stdout",
     "output_type": "stream",
     "text": [
      "\n",
      "val_idx = 26\n"
     ]
    },
    {
     "data": {
      "text/plain": [
       "len_annotation    15.805085\n",
       "label              6.985390\n",
       "dtype: float64"
      ]
     },
     "execution_count": 185,
     "metadata": {},
     "output_type": "execute_result"
    },
    {
     "name": "stdout",
     "output_type": "stream",
     "text": [
      "\n",
      "val_idx = 27\n"
     ]
    },
    {
     "data": {
      "text/plain": [
       "len_annotation    12.613272\n",
       "label              6.895666\n",
       "dtype: float64"
      ]
     },
     "execution_count": 185,
     "metadata": {},
     "output_type": "execute_result"
    },
    {
     "name": "stdout",
     "output_type": "stream",
     "text": [
      "\n",
      "val_idx = 28\n"
     ]
    },
    {
     "data": {
      "text/plain": [
       "len_annotation    11.670927\n",
       "label              6.223201\n",
       "dtype: float64"
      ]
     },
     "execution_count": 185,
     "metadata": {},
     "output_type": "execute_result"
    },
    {
     "name": "stdout",
     "output_type": "stream",
     "text": [
      "\n",
      "val_idx = 29\n"
     ]
    },
    {
     "data": {
      "text/plain": [
       "len_annotation    13.984887\n",
       "label              6.352765\n",
       "dtype: float64"
      ]
     },
     "execution_count": 185,
     "metadata": {},
     "output_type": "execute_result"
    },
    {
     "name": "stdout",
     "output_type": "stream",
     "text": [
      "\n",
      "val_idx = 30\n"
     ]
    },
    {
     "data": {
      "text/plain": [
       "len_annotation    14.451948\n",
       "label              7.992687\n",
       "dtype: float64"
      ]
     },
     "execution_count": 185,
     "metadata": {},
     "output_type": "execute_result"
    },
    {
     "name": "stdout",
     "output_type": "stream",
     "text": [
      "\n",
      "val_idx = 31\n"
     ]
    },
    {
     "data": {
      "text/plain": [
       "len_annotation    11.393750\n",
       "label              6.276627\n",
       "dtype: float64"
      ]
     },
     "execution_count": 185,
     "metadata": {},
     "output_type": "execute_result"
    },
    {
     "name": "stdout",
     "output_type": "stream",
     "text": [
      "\n",
      "val_idx = 32\n"
     ]
    },
    {
     "data": {
      "text/plain": [
       "len_annotation    10.607805\n",
       "label              5.701635\n",
       "dtype: float64"
      ]
     },
     "execution_count": 185,
     "metadata": {},
     "output_type": "execute_result"
    }
   ],
   "source": [
    "for i in range(len(val_seqs)):\n",
    "    val_idx = i\n",
    "    train_sequences = df.query(\"train == 1\")[\"sequence\"].unique().tolist()\n",
    "    val_sequences = (\n",
    "        df.query(\n",
    "            'train != 1 and type in [\"water_reef\", \"reef\"] and len_annotation != 0'\n",
    "        )[\"sequence\"]\n",
    "        .unique()\n",
    "        .tolist()\n",
    "    )\n",
    "    train_sequences.extend(list(set(seqs) - set(val_seqs[val_idx])))\n",
    "    train_sequences.extend(zero_seqs[:2])\n",
    "    val_sequences.extend(val_seqs[val_idx])\n",
    "    val_sequences.append(zero_seqs[:2])\n",
    "    print(f\"\\nval_idx = {val_idx}\")\n",
    "    df.query(\"sequence in @train_sequences\")[\n",
    "        [\"len_annotation\", \"label\"]\n",
    "    ].sum() / df.query(\"sequence in @val_sequences\")[[\"len_annotation\", \"label\"]].sum()"
   ]
  },
  {
   "cell_type": "code",
   "execution_count": 148,
   "id": "ec7a1d2e-1bba-44b8-8a47-6dedcdec77b1",
   "metadata": {},
   "outputs": [
    {
     "name": "stdout",
     "output_type": "stream",
     "text": [
      "\n",
      "val_idx = 3\n"
     ]
    },
    {
     "data": {
      "text/plain": [
       "len_annotation    16.471366\n",
       "label              7.675485\n",
       "dtype: float64"
      ]
     },
     "execution_count": 148,
     "metadata": {},
     "output_type": "execute_result"
    }
   ],
   "source": [
    "val_idx = 3\n",
    "train_sequences = df.query(\"train == 1\")[\"sequence\"].unique().tolist()\n",
    "val_sequences = (\n",
    "    df.query('train != 1 and type in [\"water_reef\", \"reef\"] and len_annotation != 0')[\n",
    "        \"sequence\"\n",
    "    ]\n",
    "    .unique()\n",
    "    .tolist()\n",
    ")\n",
    "train_sequences.extend(list(set(seqs) - set(val_seqs[val_idx])))\n",
    "train_sequences.extend(zero_seqs[:2])\n",
    "val_sequences.extend(val_seqs[val_idx])\n",
    "val_sequences.append(zero_seqs[2])\n",
    "print(f\"\\nval_idx = {val_idx}\")\n",
    "df.query(\"sequence in @train_sequences\")[[\"len_annotation\", \"label\"]].sum() / df.query(\n",
    "    \"sequence in @val_sequences\"\n",
    ")[[\"len_annotation\", \"label\"]].sum()"
   ]
  },
  {
   "cell_type": "code",
   "execution_count": 149,
   "id": "43b33060-20d4-4c52-a9ea-11014df75f2b",
   "metadata": {},
   "outputs": [
    {
     "data": {
      "text/plain": [
       "13257"
      ]
     },
     "execution_count": 149,
     "metadata": {},
     "output_type": "execute_result"
    },
    {
     "data": {
      "text/plain": [
       "4352"
      ]
     },
     "execution_count": 149,
     "metadata": {},
     "output_type": "execute_result"
    },
    {
     "data": {
      "text/plain": [
       "11217"
      ]
     },
     "execution_count": 149,
     "metadata": {},
     "output_type": "execute_result"
    }
   ],
   "source": [
    "df.query(\"sequence in @train_sequences\").shape[0]\n",
    "df.query(\"sequence in @train_sequences\")[\"label\"].sum()\n",
    "df.query(\"sequence in @train_sequences\")[\"len_annotation\"].sum()"
   ]
  },
  {
   "cell_type": "code",
   "execution_count": 150,
   "id": "bbaf1fb4-26cf-4ae8-bab0-334ec3794e40",
   "metadata": {},
   "outputs": [
    {
     "data": {
      "text/plain": [
       "10244"
      ]
     },
     "execution_count": 150,
     "metadata": {},
     "output_type": "execute_result"
    },
    {
     "data": {
      "text/plain": [
       "567"
      ]
     },
     "execution_count": 150,
     "metadata": {},
     "output_type": "execute_result"
    },
    {
     "data": {
      "text/plain": [
       "681"
      ]
     },
     "execution_count": 150,
     "metadata": {},
     "output_type": "execute_result"
    }
   ],
   "source": [
    "df.query(\"sequence in @val_sequences\").shape[0]\n",
    "df.query(\"sequence in @val_sequences\")[\"label\"].sum()\n",
    "df.query(\"sequence in @val_sequences\")[\"len_annotation\"].sum()"
   ]
  },
  {
   "cell_type": "code",
   "execution_count": 151,
   "id": "6af8d44a-6476-4881-b8a4-eb6ab30f64be",
   "metadata": {},
   "outputs": [
    {
     "data": {
      "text/plain": [
       "20"
      ]
     },
     "execution_count": 151,
     "metadata": {},
     "output_type": "execute_result"
    }
   ],
   "source": [
    "len(train_sequences) + len(val_sequences)"
   ]
  },
  {
   "cell_type": "code",
   "execution_count": 152,
   "id": "0fd13fe7-881b-4846-b5e7-287402828c5a",
   "metadata": {},
   "outputs": [],
   "source": [
    "seq_dict[str(val_idx)] = {\n",
    "    \"val\": list(map(int, val_sequences)),\n",
    "    \"train\": list(map(int, train_sequences)),\n",
    "}"
   ]
  },
  {
   "cell_type": "code",
   "execution_count": 153,
   "id": "0defe049-5061-43d1-8793-58b952160ac2",
   "metadata": {},
   "outputs": [
    {
     "data": {
      "text/plain": [
       "{'0': {'val': [60510, 15827, 18048, 26651, 29859, 35305, 17665, 37114],\n",
       "  'train': [53708,\n",
       "   8503,\n",
       "   60754,\n",
       "   22643,\n",
       "   40258,\n",
       "   996,\n",
       "   59337,\n",
       "   45518,\n",
       "   8399,\n",
       "   45015,\n",
       "   44160,\n",
       "   29424]},\n",
       " '22': {'val': [60510, 15827, 18048, 26651, 29859, 45015, 35305, 17665, 37114],\n",
       "  'train': [53708,\n",
       "   8503,\n",
       "   60754,\n",
       "   22643,\n",
       "   40258,\n",
       "   996,\n",
       "   59337,\n",
       "   45518,\n",
       "   8399,\n",
       "   44160,\n",
       "   29424]},\n",
       " '3': {'val': [60510, 15827, 18048, 26651, 29859, 996, 37114],\n",
       "  'train': [53708,\n",
       "   8503,\n",
       "   60754,\n",
       "   22643,\n",
       "   17665,\n",
       "   40258,\n",
       "   59337,\n",
       "   35305,\n",
       "   45518,\n",
       "   8399,\n",
       "   45015,\n",
       "   44160,\n",
       "   29424]}}"
      ]
     },
     "execution_count": 153,
     "metadata": {},
     "output_type": "execute_result"
    }
   ],
   "source": [
    "seq_dict"
   ]
  },
  {
   "cell_type": "code",
   "execution_count": 154,
   "id": "adb16019-483f-4a3e-8860-df847a4cbdb6",
   "metadata": {},
   "outputs": [],
   "source": [
    "with open(\"/app/_data/sequences.json\", \"w\") as f:\n",
    "    json.dump(seq_dict, f)"
   ]
  },
  {
   "cell_type": "markdown",
   "id": "a173ac71-c17b-43a0-b255-0f2aef9e4fbf",
   "metadata": {},
   "source": [
    "# chose ids"
   ]
  },
  {
   "cell_type": "code",
   "execution_count": 120,
   "id": "78daad5d-7fb2-4b64-9781-ce5e94881322",
   "metadata": {},
   "outputs": [],
   "source": [
    "train = pd.concat(\n",
    "    [\n",
    "        df.query(\"sequence in @train_sequences and len_annotation!=0\"),\n",
    "        df.query(\"sequence in @train_sequences and len_annotation==0\").sample(\n",
    "            int(\n",
    "                df.query(\"sequence in @train_sequences and len_annotation==0\").shape[0]\n",
    "                * 0.07\n",
    "            )\n",
    "        ),\n",
    "    ]\n",
    ").sample(frac=1)"
   ]
  },
  {
   "cell_type": "code",
   "execution_count": 15,
   "id": "2ad96d57-b762-49fc-80ee-138333721840",
   "metadata": {},
   "outputs": [
    {
     "data": {
      "text/plain": [
       "(5129, 7861)"
      ]
     },
     "execution_count": 15,
     "metadata": {},
     "output_type": "execute_result"
    }
   ],
   "source": [
    "train_ids = df.query(\n",
    "    \"sequence in @train_sequences and len_annotation!=0\"\n",
    ").index.tolist()\n",
    "train_ids.extend(\n",
    "    df.query(\"sequence in @train_sequences and len_annotation==0\")\n",
    "    .sample(400)\n",
    "    .index.tolist()\n",
    ")\n",
    "train_ids.extend(df.query(\"sequence in [@zero_seqs[0], @zero_seqs[1]]\").index.tolist())\n",
    "\n",
    "val_ids = df.query(\"sequence in @val_sequences\").index.tolist()\n",
    "val_ids.extend(df.query(\"sequence == @zero_seqs[2]\").sample(400).index.tolist())\n",
    "\n",
    "len(train_ids), len(val_ids)"
   ]
  },
  {
   "cell_type": "code",
   "execution_count": 16,
   "id": "37716225-b1ea-4f2f-8563-5448443593f6",
   "metadata": {},
   "outputs": [],
   "source": [
    "train_img_path = df.loc[train_ids, \"new_img_path\"].tolist()\n",
    "val_img_path = df.loc[val_ids, \"new_img_path\"].tolist()\n",
    "np.savetxt(\n",
    "    f\"/app/_data/train_seq_0.txt\",\n",
    "    train_img_path,\n",
    "    fmt=\"%s\",\n",
    ")\n",
    "np.savetxt(f\"/app/_data/val_seq_0.txt\", val_img_path, fmt=\"%s\")"
   ]
  },
  {
   "cell_type": "markdown",
   "id": "30bf74ba-2df8-4fa9-a133-2c2a5f062aad",
   "metadata": {},
   "source": [
    "# Annotation split"
   ]
  },
  {
   "cell_type": "code",
   "execution_count": 7,
   "id": "214cc46f-baf2-40d3-ac67-7bc9d0375dde",
   "metadata": {},
   "outputs": [],
   "source": [
    "df_ann = pd.read_csv('/app/_data/train_alb.csv')"
   ]
  },
  {
   "cell_type": "code",
   "execution_count": 9,
   "id": "07d724a4-5cdf-4df2-93e8-8d08a02413d7",
   "metadata": {},
   "outputs": [
    {
     "data": {
      "text/html": [
       "<div>\n",
       "<style scoped>\n",
       "    .dataframe tbody tr th:only-of-type {\n",
       "        vertical-align: middle;\n",
       "    }\n",
       "\n",
       "    .dataframe tbody tr th {\n",
       "        vertical-align: top;\n",
       "    }\n",
       "\n",
       "    .dataframe thead th {\n",
       "        text-align: right;\n",
       "    }\n",
       "</style>\n",
       "<table border=\"1\" class=\"dataframe\">\n",
       "  <thead>\n",
       "    <tr style=\"text-align: right;\">\n",
       "      <th></th>\n",
       "      <th>label</th>\n",
       "      <th>len_annotation</th>\n",
       "    </tr>\n",
       "    <tr>\n",
       "      <th>video_id</th>\n",
       "      <th></th>\n",
       "      <th></th>\n",
       "    </tr>\n",
       "  </thead>\n",
       "  <tbody>\n",
       "    <tr>\n",
       "      <th>0</th>\n",
       "      <td>7391</td>\n",
       "      <td>9707</td>\n",
       "    </tr>\n",
       "    <tr>\n",
       "      <th>1</th>\n",
       "      <td>7470</td>\n",
       "      <td>21393</td>\n",
       "    </tr>\n",
       "    <tr>\n",
       "      <th>2</th>\n",
       "      <td>2248</td>\n",
       "      <td>8098</td>\n",
       "    </tr>\n",
       "  </tbody>\n",
       "</table>\n",
       "</div>"
      ],
      "text/plain": [
       "          label  len_annotation\n",
       "video_id                       \n",
       "0          7391            9707\n",
       "1          7470           21393\n",
       "2          2248            8098"
      ]
     },
     "execution_count": 9,
     "metadata": {},
     "output_type": "execute_result"
    }
   ],
   "source": [
    "df_ann.groupby('video_id')[['label', 'len_annotation']].sum()"
   ]
  },
  {
   "cell_type": "code",
   "execution_count": 6,
   "id": "c0456d1f-ce80-4c34-91f6-234efb7b2676",
   "metadata": {},
   "outputs": [],
   "source": [
    "df = pd.read_csv(TRAIN_DF_PART)\n",
    "df[\"img_path\"] = (\n",
    "    \"/app/_data/tensorflow-great-barrier-reef/train_images/video_\"\n",
    "    + df.video_id.astype(\"str\")\n",
    "    + \"/\"\n",
    "    + df.video_frame.astype(\"str\")\n",
    "    + \".jpg\"\n",
    ")\n",
    "df[\"annotations\"] = df[\"annotations\"].apply(lambda x: ast.literal_eval(x))\n",
    "df[\"len_annotation\"] = df[\"annotations\"].str.len()\n",
    "df[\"image_id\"] = df[\"image_id\"].str.replace(\"-\", \"_\", regex=True)\n",
    "df[\"new_img_path\"] = f\"/app/_data/{IMAGE_FOLDER}/\" + df[\"image_id\"] + \".jpg\"\n",
    "df[\"label\"] = df[\"len_annotation\"].apply(lambda x: False if x == 0 else True)\n",
    "df[\"type\"] = df[\"sequence\"].apply(lambda x: kfold_dict[x][0])\n",
    "df[\"train\"] = df[\"sequence\"].apply(lambda x: 1 if kfold_dict[x][1] == \"train\" else 0)"
   ]
  },
  {
   "cell_type": "code",
   "execution_count": 449,
   "id": "a6d9e363-de34-4378-bc17-7c67f300beb2",
   "metadata": {},
   "outputs": [],
   "source": [
    "df[\"no_label\"] = df[\"len_annotation\"].apply(lambda x: True if x == 0 else False)"
   ]
  },
  {
   "cell_type": "code",
   "execution_count": 450,
   "id": "84246d9f-46a1-4168-a9a6-8dba650ed71b",
   "metadata": {},
   "outputs": [
    {
     "data": {
      "text/plain": [
       "138"
      ]
     },
     "execution_count": 450,
     "metadata": {},
     "output_type": "execute_result"
    }
   ],
   "source": [
    "df[\"label_change\"] = df[\"label\"] & df[\"no_label\"].shift(1) & df[\"no_label\"].shift(2) | df[\"no_label\"] & df[\"label\"].shift(1) & df[\"label\"].shift(2)\n",
    "df[\"sequense_change\"] = df[\"sequence\"] != df[\"sequence\"].shift(1)\n",
    "df[\"start_subseq\"] = df[\"sequense_change\"] | df[\"label_change\"]\n",
    "df.loc[df.index[-1], \"start_subseq\"] = True\n",
    "df[\"start_subseq\"].sum()"
   ]
  },
  {
   "cell_type": "code",
   "execution_count": 451,
   "id": "8677869c-3f99-4cdf-9d37-913901a28137",
   "metadata": {},
   "outputs": [
    {
     "data": {
      "text/plain": [
       "137"
      ]
     },
     "execution_count": 451,
     "metadata": {},
     "output_type": "execute_result"
    }
   ],
   "source": [
    "start_idx = 0\n",
    "for subsequence_id, end_idx in enumerate(df[df[\"start_subseq\"]].index):\n",
    "    df.loc[start_idx:end_idx, \"subsequence_id\"] = subsequence_id\n",
    "    start_idx = end_idx\n",
    "\n",
    "df[\"subsequence_id\"] = df[\"subsequence_id\"].astype(int)\n",
    "df[\"subsequence_id\"].nunique()"
   ]
  },
  {
   "cell_type": "code",
   "execution_count": null,
   "id": "6b982840-815d-4b78-a4bb-6ceb6dc13aeb",
   "metadata": {},
   "outputs": [],
   "source": []
  }
 ],
 "metadata": {
  "kernelspec": {
   "display_name": "Python 3 (ipykernel)",
   "language": "python",
   "name": "python3"
  },
  "language_info": {
   "codemirror_mode": {
    "name": "ipython",
    "version": 3
   },
   "file_extension": ".py",
   "mimetype": "text/x-python",
   "name": "python",
   "nbconvert_exporter": "python",
   "pygments_lexer": "ipython3",
   "version": "3.8.10"
  }
 },
 "nbformat": 4,
 "nbformat_minor": 5
}
