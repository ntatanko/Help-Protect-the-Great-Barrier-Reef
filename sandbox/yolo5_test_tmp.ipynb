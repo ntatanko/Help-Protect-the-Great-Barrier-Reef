{
 "cells": [
  {
   "cell_type": "code",
   "execution_count": 1,
   "id": "c0cac4b4-ebe3-4112-901e-60878d9c23bd",
   "metadata": {
    "_cell_guid": "b1076dfc-b9ad-4769-8c92-a6c4dae69d19",
    "_uuid": "8f2839f25d086af736a60e9eeb907d3b93b6e0e5",
    "tags": []
   },
   "outputs": [],
   "source": [
    "import ast\n",
    "import copy\n",
    "import glob\n",
    "import json\n",
    "import os\n",
    "import re\n",
    "import shutil\n",
    "\n",
    "import cv2\n",
    "import matplotlib.pyplot as plt\n",
    "import numpy as np\n",
    "import pandas as pd\n",
    "import torch\n",
    "from IPython.core.interactiveshell import InteractiveShell\n",
    "from PIL import Image\n",
    "from sklearn.model_selection import GroupKFold, KFold\n",
    "from tqdm import tqdm\n",
    "\n",
    "InteractiveShell.ast_node_interactivity = \"all\"\n",
    "import copy\n",
    "\n",
    "import seaborn as sns\n",
    "import torch\n",
    "import torchvision\n",
    "from IPython.display import clear_output"
   ]
  },
  {
   "cell_type": "code",
   "execution_count": 2,
   "id": "2b553b52-bc65-4e14-8f8c-9dc641c4197e",
   "metadata": {},
   "outputs": [],
   "source": [
    "checked_paths = [\n",
    "    \"/app/_data/yolov5/runs/train/yolov5l6_val2/weights/best.pt\",\n",
    "    \"/app/_data/yolov5/runs/train/yolov5l6_val110/weights/best.pt\",\n",
    "    \"/app/_data/yolov5/runs/train/yolov5m6_val23/weights/best.pt\",\n",
    "    \"/app/_data/yolov5/runs/train/yolov5m6_val1/weights/last.pt\",\n",
    "    \"/app/_data/yolov5/runs/train/yolov5m6_val3_3840/weights/last.pt\",\n",
    "    \"/app/_data/yolov5/runs/train/yolov5s6_val3_4480/weights/best.pt\",\n",
    "    \"/app/_data/yolov5/runs/train/yolov5m6_val02/weights/last.pt\",\n",
    "    \"/app/_data/yolov5/runs/train/yolov5m6_val3_3840/weights/best.pt\",\n",
    "    \"/app/_data/yolov5/runs/train/yolov5m6_val02/weights/best.pt\",\n",
    "    \"/app/_data/yolov5/runs/train/yolov5m_val1_1/weights/last.pt\",\n",
    "    \"/app/_data/yolov5/runs/train/yolov5m6_val23/weights/last.pt\",\n",
    "    \"/app/_data/yolov5/runs/train/yolov5m6_val2/weights/best.pt\",\n",
    "    \"/app/_data/yolov5/runs/train/yolov5s6_val29/weights/last.pt\",\n",
    "    \"/app/_data/yolov5/runs/train/yolov5m6_val1/weights/best.pt\",\n",
    "    \"/app/_data/yolov5/runs/train/yolov5l6_val110/weights/last.pt\",\n",
    "    \"/app/_data/yolov5/runs/train/yolov5m6_val2/weights/last.pt\",\n",
    "    \"/app/_data/yolov5/runs/train/yolov5s6_val29/weights/best.pt\",\n",
    "    \"/app/_data/yolov5/runs/train/yolov5s6_val3_4480/weights/last.pt\",\n",
    "    \"/app/_data/yolov5/runs/train/yolov5m_val1_1/weights/best.pt\",\n",
    "    \"/app/_data/yolov5/runs/train/yolov5l6_val2/weights/last.pt\",\n",
    "]"
   ]
  },
  {
   "cell_type": "code",
   "execution_count": 3,
   "id": "b7781c47-ff4c-4b83-b33b-2587464daf9e",
   "metadata": {
    "tags": []
   },
   "outputs": [
    {
     "data": {
      "text/plain": [
       "'cuda'"
      ]
     },
     "execution_count": 3,
     "metadata": {},
     "output_type": "execute_result"
    }
   ],
   "source": [
    "TRAIN_DF_PART = \"/app/_data/tensorflow-great-barrier-reef/train.csv\"\n",
    "DEVICE = \"cuda\" if torch.cuda.is_available() else \"cpu\"\n",
    "DEVICE\n",
    "SEED = 42\n",
    "IMAGE_FOLDER = \"norm_images/images\"\n",
    "LABEL_FOLDER = IMAGE_FOLDER.replace(\"/images\", \"/labels\")"
   ]
  },
  {
   "cell_type": "code",
   "execution_count": 4,
   "id": "f289d42c-c940-4525-b5f8-5829bd2b77e8",
   "metadata": {},
   "outputs": [],
   "source": [
    "def IOU_coco(bbox1, bbox2):\n",
    "    x_left = max(bbox1[0], bbox2[0])\n",
    "    y_top = max(bbox1[1], bbox2[1])\n",
    "    x_right = min(bbox1[0] + bbox1[2], bbox2[0] + bbox2[2])\n",
    "    y_bottom = min(bbox1[1] + bbox1[3], bbox2[1] + bbox2[3])\n",
    "    if x_right < x_left or y_bottom < y_top:\n",
    "        return 0.0\n",
    "    intersection_area = (x_right - x_left) * (y_bottom - y_top)\n",
    "    bb1_area = bbox1[2] * bbox1[3]\n",
    "    bb2_area = bbox2[2] * bbox2[3]\n",
    "    iou = intersection_area / float(bb1_area + bb2_area - intersection_area)\n",
    "\n",
    "    assert iou >= 0.0\n",
    "    assert iou <= 1.0\n",
    "    return iou\n",
    "\n",
    "\n",
    "def get_bbox(annots):\n",
    "    bboxes = [list(annot.values()) for annot in annots]\n",
    "    return bboxes"
   ]
  },
  {
   "cell_type": "code",
   "execution_count": 5,
   "id": "fff15ee7-cb50-45e5-8241-3c2f60506c27",
   "metadata": {
    "tags": []
   },
   "outputs": [],
   "source": [
    "df = pd.read_csv(TRAIN_DF_PART)\n",
    "df[\"img_path\"] = (\n",
    "    \"/app/_data/tensorflow-great-barrier-reef/train_images/video_\"\n",
    "    + df.video_id.astype(\"str\")\n",
    "    + \"/\"\n",
    "    + df.video_frame.astype(\"str\")\n",
    "    + \".jpg\"\n",
    ")\n",
    "df[\"annotations\"] = df[\"annotations\"].apply(lambda x: ast.literal_eval(x))\n",
    "df[\"len_annotation\"] = df[\"annotations\"].str.len()\n",
    "df[\"image_id\"] = df[\"image_id\"].str.replace(\"-\", \"_\", regex=True)\n",
    "df[\"new_img_path\"] = f\"/app/_data/{IMAGE_FOLDER}/\" + df[\"image_id\"] + \".jpg\"\n",
    "\n",
    "\n",
    "df[\"num_bbox\"] = df[\"len_annotation\"]\n",
    "df[\"bboxes\"] = df.annotations.apply(get_bbox)"
   ]
  },
  {
   "cell_type": "code",
   "execution_count": 6,
   "id": "6cb262fe-ec0e-468f-b4a2-5f260b3695d5",
   "metadata": {},
   "outputs": [
    {
     "data": {
      "text/plain": [
       "video_id\n",
       "0    3065\n",
       "1    6384\n",
       "2    2449\n",
       "Name: len_annotation, dtype: int64"
      ]
     },
     "execution_count": 6,
     "metadata": {},
     "output_type": "execute_result"
    }
   ],
   "source": [
    "df.groupby(\"video_id\")[\"len_annotation\"].sum()"
   ]
  },
  {
   "cell_type": "markdown",
   "id": "93fce7f9-31a8-4ee8-aacb-fe3953a7ffba",
   "metadata": {},
   "source": [
    "## KFold split"
   ]
  },
  {
   "cell_type": "code",
   "execution_count": 8,
   "id": "f2665bde-4469-4ada-943c-67cbecf0ec7e",
   "metadata": {},
   "outputs": [],
   "source": [
    "paths = list(\n",
    "    set(glob.glob(\"/app/_data/yolov5/runs/train/*/*/*.pt\")) - set(checked_paths)\n",
    ")\n",
    "# paths"
   ]
  },
  {
   "cell_type": "code",
   "execution_count": null,
   "id": "b35c0b02-143b-4385-85fe-4cdb797be5ed",
   "metadata": {},
   "outputs": [],
   "source": []
  },
  {
   "cell_type": "code",
   "execution_count": 9,
   "id": "1567b2f5-443d-4dfe-a626-b4a6abf18a98",
   "metadata": {},
   "outputs": [
    {
     "name": "stdout",
     "output_type": "stream",
     "text": [
      "Downloading https://ultralytics.com/assets/Arial.ttf to /root/.config/Ultralytics/Arial.ttf...\n"
     ]
    },
    {
     "name": "stderr",
     "output_type": "stream",
     "text": [
      "YOLOv5 🚀 v6.0-193-gdb1f83b torch 1.9.1+cu111 CUDA:0 (NVIDIA GeForce RTX 3090, 24268MiB)\n",
      "\n",
      "Fusing layers... \n",
      "Model Summary: 476 layers, 76118664 parameters, 0 gradients\n",
      "Adding AutoShape... \n",
      "100% 8561/8561 [34:19<00:00,  4.16it/s]\n"
     ]
    },
    {
     "name": "stdout",
     "output_type": "stream",
     "text": [
      "[['/app/_data/yolov5/runs/train/yolov5l6_val2_norm_3000/weights/best.pt', 3000, 0.671, 0.41]]\n",
      "[['/app/_data/yolov5/runs/train/yolov5l6_val2_norm_3000/weights/best.pt', 3000, 0.671, 0.41]]\n"
     ]
    }
   ],
   "source": [
    "eval_IOU = 0.65\n",
    "res = []\n",
    "paths = [\"/app/_data/yolov5/runs/train/yolov5l6_val2_norm_3000/weights/best.pt\"]\n",
    "for a in range(len(paths)):\n",
    "    path = paths[a]\n",
    "    IMG_SIZE = 3000 if \"l6\" in path else 4480 if \"s6\" in path else 3840\n",
    "    model = torch.hub.load(\n",
    "        \"/app/_data/yolov5\", \"custom\", path=path, source=\"local\", force_reload=True\n",
    "    )  # local repo\n",
    "    model.conf = 0.01\n",
    "    VIDEO_ID = int(path[path.index(\"val\") + 3])\n",
    "    if int(path[path.index(\"val\") + 3]) == 3:\n",
    "        VIDEO_ID = 0\n",
    "    df_test = df[df.video_id == VIDEO_ID]\n",
    "    df_sample = df_test\n",
    "    image_paths = df_sample.new_img_path.tolist()\n",
    "    gt = copy.deepcopy(df_sample.bboxes.tolist())\n",
    "    gtmem = copy.deepcopy(df_sample.bboxes.tolist())\n",
    "    TP = []  # Confidence scores of true positives\n",
    "    FP = []  # Confidence scores of true positives\n",
    "    FN = 0  # Count of false negative boxes\n",
    "    for i in tqdm(range(len(image_paths))):\n",
    "        TEST_IMAGE_PATH = image_paths[i]\n",
    "        img = np.array(Image.open(TEST_IMAGE_PATH))\n",
    "        prediction = model(img, size=IMG_SIZE, augment=True).xywh[0].cpu().numpy()\n",
    "        scores = prediction[:, 4]\n",
    "        bboxes = np.round(prediction[:, :4]).astype(\"int\")\n",
    "        bboxes[:, 0] = bboxes[:, 0] - bboxes[:, 2] / 2\n",
    "        bboxes[:, 1] = bboxes[:, 1] - bboxes[:, 3] / 2\n",
    "        gt0 = gt[i]\n",
    "        if len(bboxes) == 0:\n",
    "            # all gt are false negative\n",
    "            FN += len(gt0)\n",
    "        else:\n",
    "            bb = bboxes.copy().tolist()\n",
    "            for idx, b in enumerate(bb):\n",
    "                b.append(scores[idx])\n",
    "            bb.sort(key=lambda x: x[4], reverse=True)\n",
    "\n",
    "            if len(gt0) == 0:\n",
    "                # all bboxes are false positives\n",
    "                for b in bb:\n",
    "                    FP.append(b[4])\n",
    "            else:\n",
    "                # match bbox with gt\n",
    "                for b in bb:\n",
    "                    matched = False\n",
    "                    for g in gt0:\n",
    "                        # check whether gt box is already matched to an inference bb\n",
    "                        if len(g) == 4:\n",
    "                            # g bbox is unmatched\n",
    "                            if IOU_coco(b, g) >= eval_IOU:\n",
    "                                g.append(\n",
    "                                    b[4]\n",
    "                                )  # assign confidence values to g; marks g as matched\n",
    "                                matched = True\n",
    "                                TP.append(b[4])\n",
    "                                break\n",
    "                    if not matched:\n",
    "                        FP.append(b[4])\n",
    "                for g in gt0:\n",
    "                    if len(g) == 4:\n",
    "                        FN += 1\n",
    "    F2list = []\n",
    "    F2max = 0.0\n",
    "    F2maxat = -1.0\n",
    "\n",
    "    for c in np.arange(0.0, 1.0, 0.01):\n",
    "        FNcount = FN + sum(1 for i in TP if i < c)\n",
    "        TPcount = sum(1 for i in TP if i >= c)\n",
    "        FPcount = sum(1 for i in FP if i >= c)\n",
    "        R = TPcount / (TPcount + FNcount + 0.0001)\n",
    "        P = TPcount / (TPcount + FPcount + 0.0001)\n",
    "        F2 = (5 * P * R) / (4 * P + R + 0.0001)\n",
    "        F2list.append((c, F2))\n",
    "        if F2max < F2:\n",
    "            F2max = F2\n",
    "            F2maxat = c\n",
    "    res.append([path, IMG_SIZE, np.round(F2max, 3), np.round(F2maxat, 3)])\n",
    "    print(res)\n",
    "print(res)"
   ]
  },
  {
   "cell_type": "markdown",
   "id": "737f957a-42dc-460d-b20d-7b8ddb8a9c27",
   "metadata": {},
   "source": [
    "[['/app/_data/yolov5/runs/train/yolov5m6_val2/weights/last.pt', 4480, 0.691, 0.19],  \n",
    "['/app/_data/yolov5/runs/train/yolov5m6_val2/weights/best.pt', 4480, 0.7, 0.27],  \n",
    "['/app/_data/yolov5/runs/train/yolov5l6_val110/weights/last.pt', 2880, 0.538, 0.09],  \n",
    "['/app/_data/yolov5/runs/train/yolov5l6_val110/weights/best.pt', 2880, 0.589, 0.12],  \n",
    "['/app/_data/yolov5/runs/train/yolov5s6_val29/weights/last.pt', 3840, 0.698, 0.18],  \n",
    "['/app/_data/yolov5/runs/train/yolov5s6_val29/weights/best.pt', 3840, 0.705, 0.35],  \n",
    "['/app/_data/yolov5/runs/train/yolov5l6_val2/weights/last.pt', 2880, 0.711, 0.36],  \n",
    "['/app/_data/yolov5/runs/train/yolov5l6_val2/weights/best.pt', 2880, 0.734, 0.34],  \n",
    "['/app/_data/yolov5/runs/train/yolov5m_val1_1/weights/last.pt', 3840, 0.487, 0.05],  \n",
    "['/app/_data/yolov5/runs/train/yolov5m_val1_1/weights/best.pt', 3840, 0.563, 0.08],  \n",
    "['/app/_data/yolov5/runs/train/yolov5m6_val23/weights/last.pt', 4480, 0.674, 0.08],  \n",
    "['/app/_data/yolov5/runs/train/yolov5m6_val23/weights/best.pt', 4480, 0.726, 0.23],  \n",
    "['/app/_data/yolov5/runs/train/yolov5m6_val1/weights/last.pt', 4480, 0.526, 0.11],  \n",
    "['/app/_data/yolov5/runs/train/yolov5m6_val1/weights/best.pt', 4480, 0.582, 0.27]]\n"
   ]
  },
  {
   "cell_type": "code",
   "execution_count": 14,
   "id": "1854de0f-4b5c-4a75-a06a-82a2128e678b",
   "metadata": {},
   "outputs": [],
   "source": [
    "r = [\n",
    "    [\"/app/_data/yolov5/runs/train/yolov5m6_val2/weights/last.pt\", 4480, 0.691, 0.19],\n",
    "    [\"/app/_data/yolov5/runs/train/yolov5m6_val2/weights/best.pt\", 4480, 0.7, 0.27],\n",
    "    [\"/app/_data/yolov5/runs/train/yolov5l6_val110/weights/last.pt\", 2880, 0.538, 0.09],\n",
    "    [\"/app/_data/yolov5/runs/train/yolov5l6_val110/weights/best.pt\", 2880, 0.589, 0.12],\n",
    "    [\"/app/_data/yolov5/runs/train/yolov5s6_val29/weights/last.pt\", 3840, 0.698, 0.18],\n",
    "    [\"/app/_data/yolov5/runs/train/yolov5s6_val29/weights/best.pt\", 3840, 0.705, 0.35],\n",
    "    [\"/app/_data/yolov5/runs/train/yolov5l6_val2/weights/last.pt\", 2880, 0.711, 0.36],\n",
    "    [\"/app/_data/yolov5/runs/train/yolov5l6_val2/weights/best.pt\", 2880, 0.734, 0.34],\n",
    "    [\"/app/_data/yolov5/runs/train/yolov5m_val1_1/weights/last.pt\", 3840, 0.487, 0.05],\n",
    "    [\"/app/_data/yolov5/runs/train/yolov5m_val1_1/weights/best.pt\", 3840, 0.563, 0.08],\n",
    "    [\"/app/_data/yolov5/runs/train/yolov5m6_val23/weights/last.pt\", 4480, 0.674, 0.08],\n",
    "    [\"/app/_data/yolov5/runs/train/yolov5m6_val23/weights/best.pt\", 4480, 0.726, 0.23],\n",
    "    [\"/app/_data/yolov5/runs/train/yolov5m6_val1/weights/last.pt\", 4480, 0.526, 0.11],\n",
    "    [\"/app/_data/yolov5/runs/train/yolov5m6_val1/weights/best.pt\", 4480, 0.582, 0.27],\n",
    "]"
   ]
  },
  {
   "cell_type": "code",
   "execution_count": null,
   "id": "3e471d0f-b034-42cf-953e-5c8766a71565",
   "metadata": {},
   "outputs": [],
   "source": [
    "\"/app/_data/yolov5/runs/train/yolov5l6_val2/weights/best.pt\"\n",
    "\"/app/_data/yolov5/runs/train/yolov5m6_val23/weights/best.pt\""
   ]
  },
  {
   "cell_type": "code",
   "execution_count": 11,
   "id": "aa91d382-f598-41a5-af0a-12496fa880da",
   "metadata": {},
   "outputs": [],
   "source": [
    "from torchvision.ops import box_iou"
   ]
  },
  {
   "cell_type": "code",
   "execution_count": null,
   "id": "623b7a5a-ed4c-4993-a02b-dc098e476abd",
   "metadata": {},
   "outputs": [],
   "source": [
    "box_iou()"
   ]
  },
  {
   "cell_type": "code",
   "execution_count": null,
   "id": "4fae0676-23ef-45be-aed6-a82403f9ef53",
   "metadata": {},
   "outputs": [],
   "source": [
    "def calculate_score(preds, gts, iou_th):\n",
    "    num_tp = 0\n",
    "    num_fp = 0\n",
    "    num_fn = 0\n",
    "    for p, gt in zip(preds, gts):\n",
    "        if len(p) and len(gt):\n",
    "            iou_matrix = box_iou(p, gt)\n",
    "            tp = len(torch.where(iou_matrix.max(0)[0] >= iou_th)[0])\n",
    "            fp = len(p) - tp\n",
    "            fn = len(torch.where(iou_matrix.max(0)[0] < iou_th)[0])\n",
    "            num_tp += tp\n",
    "            num_fp += fp\n",
    "            num_fn += fn\n",
    "        elif len(p) == 0 and len(gt):\n",
    "            num_fn += len(gt)\n",
    "        elif len(p) and len(gt) == 0:\n",
    "            num_fp += len(p)\n",
    "    if (5 * num_tp + 4 * num_fn + num_fp) != 0:\n",
    "        score = 5 * num_tp / (5 * num_tp + 4 * num_fn + num_fp)\n",
    "    else:\n",
    "        score = np.nan\n",
    "    if (num_tp + num_fn) != 0:\n",
    "        recall = num_tp / (num_tp + num_fn)\n",
    "    else:\n",
    "        recall = np.nan\n",
    "    if (num_tp + num_fp) != 0:\n",
    "        precission = num_tp / (num_tp + num_fp)\n",
    "    else:\n",
    "        precission = np.nan\n",
    "\n",
    "    return score, precission, recall"
   ]
  },
  {
   "cell_type": "code",
   "execution_count": 12,
   "id": "758b7689-e106-475a-bbd9-d59608e90af8",
   "metadata": {},
   "outputs": [],
   "source": [
    "def calculate_score(preds, gts, iou_th):\n",
    "    num_tp = 0\n",
    "    num_fp = 0\n",
    "    num_fn = 0\n",
    "    for p, gt in zip(preds, gts):\n",
    "        if len(p) and len(gt):\n",
    "            iou_matrix = box_iou(p, gt)\n",
    "            tp = len(torch.where(iou_matrix.max(0)[0] >= iou_th)[0])\n",
    "            fp = len(p) - tp\n",
    "            fn = len(torch.where(iou_matrix.max(0)[0] < iou_th)[0])\n",
    "            num_tp += tp\n",
    "            num_fp += fp\n",
    "            num_fn += fn\n",
    "        elif len(p) == 0 and len(gt):\n",
    "            num_fn += len(gt)\n",
    "        elif len(p) and len(gt) == 0:\n",
    "            num_fp += len(p)\n",
    "    if (5 * num_tp + 4 * num_fn + num_fp) != 0:\n",
    "        score = 5 * num_tp / (5 * num_tp + 4 * num_fn + num_fp)\n",
    "    else:\n",
    "        score = np.nan\n",
    "    if (num_tp + num_fn) != 0:\n",
    "        recall = num_tp / (num_tp + num_fn)\n",
    "    else:\n",
    "        recall = np.nan\n",
    "    if (num_tp + num_fp) != 0:\n",
    "        precission = num_tp / (num_tp + num_fp)\n",
    "    else:\n",
    "        precission = np.nan\n",
    "\n",
    "    return score, precission, recall\n",
    "\n",
    "\n",
    "def evaluate_f2(confthre):\n",
    "    scores = []\n",
    "    prec05 = []\n",
    "    rec05 = []\n",
    "    prec03 = []\n",
    "    rec03 = []\n",
    "    iou_ths = np.arange(0.3, 0.85, 0.05)\n",
    "    with torch.no_grad():\n",
    "        for images, targets in dl_val:\n",
    "            model.eval()\n",
    "            images = list(image.to(device) for image in images)\n",
    "            targets = [{k: v.to(device) for k, v in t.items()} for t in targets]\n",
    "\n",
    "            preds = model(images)\n",
    "\n",
    "            for i in range(len(images)):\n",
    "                preds[i][\"boxes\"] = preds[i][\"boxes\"].int()\n",
    "                preds[i][\"boxes\"] = preds[i][\"boxes\"][preds[i][\"scores\"] > confthre]\n",
    "                score = [\n",
    "                    calculate_score(\n",
    "                        preds[i][\"boxes\"].unsqueeze(0),\n",
    "                        targets[i][\"boxes\"].unsqueeze(0),\n",
    "                        iou_th,\n",
    "                    )[0]\n",
    "                    for iou_th in iou_ths\n",
    "                ]\n",
    "                scores.append(np.nanmean(score))\n",
    "                prec05.append(\n",
    "                    calculate_score(\n",
    "                        preds[i][\"boxes\"].unsqueeze(0),\n",
    "                        targets[i][\"boxes\"].unsqueeze(0),\n",
    "                        0.5,\n",
    "                    )[1]\n",
    "                )\n",
    "                prec03.append(\n",
    "                    calculate_score(\n",
    "                        preds[i][\"boxes\"].unsqueeze(0),\n",
    "                        targets[i][\"boxes\"].unsqueeze(0),\n",
    "                        0.3,\n",
    "                    )[1]\n",
    "                )\n",
    "                rec05.append(\n",
    "                    calculate_score(\n",
    "                        preds[i][\"boxes\"].unsqueeze(0),\n",
    "                        targets[i][\"boxes\"].unsqueeze(0),\n",
    "                        0.5,\n",
    "                    )[2]\n",
    "                )\n",
    "                rec03.append(\n",
    "                    calculate_score(\n",
    "                        preds[i][\"boxes\"].unsqueeze(0),\n",
    "                        targets[i][\"boxes\"].unsqueeze(0),\n",
    "                        0.3,\n",
    "                    )[2]\n",
    "                )\n",
    "    print(\n",
    "        f\"F2 Score for confthre , {confthre}, :  {np.nanmean(scores):.3f} Precission .5: {np.nanmean(prec05):.3f} Precission .3: {np.nanmean(prec03):.3f}  Recall .5: {np.nanmean(rec05):.3f} Recall .3: {np.nanmean(rec03):.3f}\"\n",
    "    )"
   ]
  },
  {
   "cell_type": "code",
   "execution_count": 13,
   "id": "569a25ae-d4fa-45d6-b1f8-6927cb99c886",
   "metadata": {},
   "outputs": [
    {
     "data": {
      "text/plain": [
       "'/app/_data/yolov5_f2'"
      ]
     },
     "execution_count": 13,
     "metadata": {},
     "output_type": "execute_result"
    }
   ],
   "source": [
    "shutil.copytree(\"/app/_data/YOLOv5_kaggle/yolov5\", \"/app/_data/yolov5_f2\")"
   ]
  },
  {
   "cell_type": "code",
   "execution_count": 305,
   "id": "577e0f1e-88ea-4931-ac0c-add4f628ec84",
   "metadata": {},
   "outputs": [
    {
     "data": {
      "text/plain": [
       "1"
      ]
     },
     "execution_count": 305,
     "metadata": {},
     "output_type": "execute_result"
    }
   ],
   "source": []
  },
  {
   "cell_type": "code",
   "execution_count": 18,
   "id": "d3018954-4f0f-4264-a480-113615fdddb5",
   "metadata": {},
   "outputs": [],
   "source": [
    "shutil.rmtree(\"/app/_data/YOLOR_images\")"
   ]
  },
  {
   "cell_type": "code",
   "execution_count": null,
   "id": "b5445a96-b0ec-4dcd-b864-30f6b0eb8b77",
   "metadata": {},
   "outputs": [],
   "source": [
    "paths = [\"/app/_data/yolov5/runs/train/yolov5l6_val1_3000/weights/best.pt\"]\n",
    "for a in range(len(paths)):\n",
    "    path = paths[a]\n",
    "    IMG_SIZE = 3008 * 2 if \"l6\" in path else 4480 * 2 if \"s6\" in path else 3840 * 2\n",
    "    model = torch.hub.load(\n",
    "        \"/app/_data/yolov5\", \"custom\", path=path, source=\"local\", force_reload=True\n",
    "    )\n",
    "    model.conf = 0.01\n",
    "    VIDEO_ID = int(path[path.index(\"val\") + 3])\n",
    "    df_val = df[df.video_id == VIDEO_ID].reset_index(drop=True)\n",
    "    TP = []  # Confidence scores of true positives\n",
    "    FP = []  # Confidence scores of false positives\n",
    "    FN = 0  # Count of false negative boxes\n",
    "    for ix in tqdm(df_val.index().tolist()):\n",
    "        img_path = df_val.loc[ix, \"img_path\"]\n",
    "        img = np.array(Image.open(img_path))\n",
    "        prediction = model(img, size=IMG_SIZE, augment=True).xywh[0].cpu().numpy()\n",
    "        scores = prediction[:, 4]\n",
    "        bboxes = np.round(prediction[:, :4]).astype(\"int\")\n",
    "        bboxes[:, 0] = bboxes[:, 0] - bboxes[:, 2] / 2\n",
    "        bboxes[:, 1] = bboxes[:, 1] - bboxes[:, 3] / 2\n",
    "        bboxes[:, 2] = bboxes[:, 0] + bboxes[:, 2]\n",
    "        bboxes[:, 3] = bboxes[:, 1] + bboxes[:, 3]\n",
    "        if df_val.loc[ix, \"len_annotation\"] == 0:\n",
    "            if bboxes.size != 0:\n",
    "                FP.append(scores)\n",
    "        else:\n",
    "            gts = np.array([list(x.values()) for x in df_val.loc[ix, \"annotations\"]])\n",
    "            gts[:, 2] = gts[:, 2] + gts[:, 0]\n",
    "            gts[:, 3] = gts[:, 3] + gts[:, 1]\n",
    "            iou_matrix = box_iou(torch.Tensor(gt), torch.Tensor(box))\n",
    "            x = torch.where(iou_matrix >= iou_thr)\n",
    "            tp = np.unique(x[0]).shape[0]\n",
    "            fp = box.shape[0] - tp\n",
    "            fn = gt.shape[0] - tp\n",
    "            sc = np.stack([x[0].cpu().numpy(), scores], 1)\n",
    "            sc = sc[sc[:, 1].argsort()[::-1]]\n",
    "            unique_boxes = np.unique(sc[:, 0], return_index=True)[0].astype(\"int16\")\n",
    "            TP.append(list(sc[unique_boxes, 1]))"
   ]
  },
  {
   "cell_type": "code",
   "execution_count": null,
   "id": "1c747498-142f-411b-9e1d-74c70a69a6ec",
   "metadata": {},
   "outputs": [],
   "source": [
    "prediction = np.array(\n",
    "    [\n",
    "        [307, 581, 334, 611],\n",
    "        [61, 219, 120, 269],\n",
    "        [175, 354, 223, 402],\n",
    "        [173, 314, 214, 345],\n",
    "        [64, 217, 120, 269],\n",
    "        [520, 900, 540, 930],\n",
    "        [62, 219, 120, 269],\n",
    "    ]\n",
    ")"
   ]
  },
  {
   "cell_type": "code",
   "execution_count": 387,
   "id": "4a5275e0-6ff2-48b1-90d1-8940b6271256",
   "metadata": {},
   "outputs": [],
   "source": [
    "def tp_fp_fn(gt, prediction, conf_thr):\n",
    "    ious = np.arange(0.3, 0.81, 0.05)\n",
    "    TP, FP, FN = np.zeros(ious.shape[0], 'int16'), np.zeros(ious.shape[0], 'int16'), np.zeros(ious.shape[0], 'int16')\n",
    "    prediction = prediction[prediction[:, 4] > conf_thr]\n",
    "    bboxes = prediction[:, :4].astype(\"int\")\n",
    "    bboxes[:, 0] = bboxes[:, 0] - bboxes[:, 2] / 2\n",
    "    bboxes[:, 1] = bboxes[:, 1] - bboxes[:, 3] / 2\n",
    "    bboxes[:, 2] = bboxes[:, 0] + bboxes[:, 2]\n",
    "    bboxes[:, 3] = bboxes[:, 1] + bboxes[:, 3]\n",
    "    if bboxes.size != 0:\n",
    "        if gt.size == 0:\n",
    "            fp = bboxes.shape[0]\n",
    "            FP = np.full(ious.shape[0], fp, 'int16')\n",
    "        else:\n",
    "            iou_matrix = box_iou(torch.Tensor(gt), torch.Tensor(bboxes))\n",
    "            for n, iou_thr in enumerate(ious):\n",
    "                x = torch.where(iou_matrix >= iou_thr)\n",
    "                tp = np.unique(x[0]).shape[0]\n",
    "                fp = bboxes.shape[0] - tp\n",
    "                fn = gt.shape[0] - tp\n",
    "                TP[n]= tp\n",
    "                FP[n] = fp\n",
    "                FN[n] = fn\n",
    "    else:\n",
    "        if gt.size != 0:\n",
    "            fn = gt.shape[0]\n",
    "            FN = np.full(ious.shape[0], fn, 'int16')\n",
    "    return TP, FP, FN"
   ]
  },
  {
   "cell_type": "code",
   "execution_count": 382,
   "id": "98bf1c06-6e87-4229-8233-f198b25d4145",
   "metadata": {},
   "outputs": [],
   "source": [
    "scores = np.zeros(np.arange(0.3, 0.81, 0.05).shape[0])"
   ]
  },
  {
   "cell_type": "code",
   "execution_count": 383,
   "id": "1f502d5c-721e-4332-baaf-00fccdce900b",
   "metadata": {},
   "outputs": [
    {
     "data": {
      "text/plain": [
       "array([5, 5, 5, 5, 5, 5, 5, 5])"
      ]
     },
     "execution_count": 383,
     "metadata": {},
     "output_type": "execute_result"
    }
   ],
   "source": [
    "np.full(8, 5)"
   ]
  },
  {
   "cell_type": "code",
   "execution_count": 320,
   "id": "b8b80f1b-7446-44f5-a3c3-470dd6cfa455",
   "metadata": {},
   "outputs": [
    {
     "data": {
      "text/plain": [
       "array([5., 5., 5., 5., 5., 5., 5., 5., 5., 5., 5.])"
      ]
     },
     "execution_count": 320,
     "metadata": {},
     "output_type": "execute_result"
    }
   ],
   "source": [
    "scores[:]=5\n",
    "scores"
   ]
  },
  {
   "cell_type": "code",
   "execution_count": 340,
   "id": "e840c099-f6fb-46b3-803d-c3b2bc87a5a6",
   "metadata": {},
   "outputs": [],
   "source": [
    "gt = np.array([list(x.values()) for x in df.loc[5476, \"annotations\"]])\n",
    "gt[:, 2] = gt[:, 2] + gt[:, 0]\n",
    "gt[:, 3] = gt[:, 3] + gt[:, 1]\n",
    "prediction = np.array(\n",
    "    [\n",
    "        [320, 596,  27,  30, 0.88],\n",
    "        [197, 379,  51,  46, 0.84],\n",
    "        [156, 299,  39,  31, 0.77],\n",
    "        [194, 329,  39,  31, 0.72],\n",
    "        [99, 244,  58,  50, 0.55],\n",
    "        [91, 244,  58,  50, 0.22],\n",
    "        [781, 356,  27,  31, 0.44],\n",
    "        [172, 356, 39, 31, 0.33],\n",
    "    ]\n",
    ")"
   ]
  },
  {
   "cell_type": "code",
   "execution_count": 357,
   "id": "7d3b2c21-cc81-4445-9d71-25d5aaf620ab",
   "metadata": {},
   "outputs": [],
   "source": [
    "gt = np.array([list(x.values()) for x in df.loc[5476, \"annotations\"]])\n",
    "# gt[:, 2] = gt[:, 2] + gt[:, 0]\n",
    "# gt[:, 3] = gt[:, 3] + gt[:, 1]\n",
    "prediction = np.array(\n",
    "    [\n",
    "        [320, 596,  27,  30, 0.3],\n",
    "        [197, 379,  51,  46, 0.2],\n",
    "        [156, 299,  39,  31, 0.01],\n",
    "    ]\n",
    ")"
   ]
  },
  {
   "cell_type": "code",
   "execution_count": 384,
   "id": "913ea95d-ac80-4814-aa8b-5560ee629c1d",
   "metadata": {},
   "outputs": [],
   "source": [
    "tp, fp, fn = tp_fp_fn(gt, prediction, 0.3)"
   ]
  },
  {
   "cell_type": "code",
   "execution_count": 385,
   "id": "a3b46395-8f66-4b78-80bf-6aff92387829",
   "metadata": {},
   "outputs": [
    {
     "data": {
      "text/plain": [
       "tensor([[0.9286, 0.0000, 0.0000, 0.0000],\n",
       "        [0.0000, 0.9615, 0.0000, 0.0000],\n",
       "        [0.0000, 0.0000, 0.0000, 0.8920],\n",
       "        [0.0000, 0.0000, 0.0000, 0.0000],\n",
       "        [0.0000, 0.0000, 0.0000, 0.0000]])"
      ]
     },
     "execution_count": 385,
     "metadata": {},
     "output_type": "execute_result"
    }
   ],
   "source": [
    "iou_matrix"
   ]
  },
  {
   "cell_type": "code",
   "execution_count": 386,
   "id": "20bd1f19-4a2c-4d59-8e0c-3624e91dfbac",
   "metadata": {},
   "outputs": [
    {
     "data": {
      "text/plain": [
       "(array([0, 0, 0, 0, 0, 0, 0, 0, 0, 0, 0], dtype=int8),\n",
       " array([0, 0, 0, 0, 0, 0, 0, 0, 0, 0, 0], dtype=int8),\n",
       " array([5, 5, 5, 5, 5, 5, 5, 5, 5, 5, 5], dtype=int8))"
      ]
     },
     "execution_count": 386,
     "metadata": {},
     "output_type": "execute_result"
    }
   ],
   "source": [
    "tp, fp, fn"
   ]
  },
  {
   "cell_type": "code",
   "execution_count": 364,
   "id": "590e0669-4a1e-477a-8133-19cd8188a2c1",
   "metadata": {},
   "outputs": [
    {
     "name": "stdout",
     "output_type": "stream",
     "text": [
      "5\n"
     ]
    }
   ],
   "source": [
    "if len(fn):\n",
    "    print(5)"
   ]
  },
  {
   "cell_type": "code",
   "execution_count": 220,
   "id": "91fffe0d-daa7-4c7e-b290-657e9366359c",
   "metadata": {
    "tags": []
   },
   "outputs": [
    {
     "data": {
      "text/plain": [
       "5"
      ]
     },
     "execution_count": 220,
     "metadata": {},
     "output_type": "execute_result"
    }
   ],
   "source": [
    "np.array([list(x.values()) for x in df.loc[5476, \"annotations\"]]).shape[0]"
   ]
  },
  {
   "cell_type": "code",
   "execution_count": 221,
   "id": "f2721f3e-4598-46d4-9799-cc92ba061327",
   "metadata": {},
   "outputs": [
    {
     "data": {
      "text/plain": [
       "5"
      ]
     },
     "execution_count": 221,
     "metadata": {},
     "output_type": "execute_result"
    }
   ],
   "source": [
    "gt = np.array([list(x.values()) for x in df.loc[5476, \"annotations\"]])\n",
    "len(gt)\n",
    "gt[:, 2] = gt[:, 2] + gt[:, 0]\n",
    "gt[:, 3] = gt[:, 3] + gt[:, 1]\n",
    "box = np.array(\n",
    "    [\n",
    "        [307, 581, 334, 611],\n",
    "        [61, 219, 120, 269],\n",
    "        [175, 354, 223, 402],\n",
    "        [173, 314, 214, 345],\n",
    "        [64, 217, 120, 269],\n",
    "        [520, 900, 540, 930],\n",
    "        [62, 219, 120, 269],\n",
    "    ]\n",
    ")\n",
    "scores = np.array([0.84, 0.26, 0.65, 0.61, 0.55, 0.45, 0.8])"
   ]
  },
  {
   "cell_type": "code",
   "execution_count": 237,
   "id": "de7ae344-7e94-42ab-acee-f895ce9c2641",
   "metadata": {},
   "outputs": [
    {
     "data": {
      "text/plain": [
       "array([[307, 581,  27,  30],\n",
       "       [172, 356,  51,  46],\n",
       "       [175, 314,  39,  31],\n",
       "       [ 62, 219,  58,  50],\n",
       "       [778, 341,  27,  31]])"
      ]
     },
     "execution_count": 237,
     "metadata": {},
     "output_type": "execute_result"
    }
   ],
   "source": [
    "np.array([list(x.values()) for x in df.loc[5476, \"annotations\"]])"
   ]
  },
  {
   "cell_type": "code",
   "execution_count": 239,
   "id": "22df10eb-e8a3-47c5-9c59-939e541eaf27",
   "metadata": {},
   "outputs": [],
   "source": [
    "prediction = np.array(\n",
    "    [\n",
    "        [307, 581, 27, 30, 0.88],\n",
    "        [172, 356, 51, 46, 0.84],\n",
    "        [175, 314, 39, 31, 0.77],\n",
    "        [62, 219, 58, 50, 0.72],\n",
    "        [778, 341, 27, 31, 0.55],\n",
    "        [760, 320, 27, 31, 0.22],\n",
    "        [168, 333, 39, 31, 0.77],\n",
    "        [176, 316, 39, 31, 0.33],\n",
    "    ]\n",
    ")"
   ]
  },
  {
   "cell_type": "code",
   "execution_count": 205,
   "id": "627eccea-ca2e-4364-af8f-437e09de87f6",
   "metadata": {},
   "outputs": [],
   "source": [
    "iou_matrix = box_iou(torch.Tensor(gt), torch.Tensor(box))"
   ]
  },
  {
   "cell_type": "code",
   "execution_count": 206,
   "id": "1eb2da75-2aaa-4613-82b9-81976b4aec8a",
   "metadata": {},
   "outputs": [],
   "source": [
    "iou_thr = 0.3\n",
    "x = torch.where(iou_matrix >= iou_thr)\n",
    "tp = np.unique(x[0]).shape[0]\n",
    "fp = box.shape[0] - tp\n",
    "fn = gt.shape[0] - tp"
   ]
  },
  {
   "cell_type": "code",
   "execution_count": 207,
   "id": "6be7e661-4735-4cf2-871d-556071c94053",
   "metadata": {},
   "outputs": [
    {
     "data": {
      "text/plain": [
       "(4, 3, 1)"
      ]
     },
     "execution_count": 207,
     "metadata": {},
     "output_type": "execute_result"
    }
   ],
   "source": [
    "tp, fp, fn"
   ]
  },
  {
   "cell_type": "code",
   "execution_count": 208,
   "id": "6918d204-5e01-4572-9989-958a313485af",
   "metadata": {},
   "outputs": [
    {
     "data": {
      "text/plain": [
       "tensor([[1.0000, 0.0000, 0.0000, 0.0000, 0.0000, 0.0000, 0.0000],\n",
       "        [0.0000, 0.0000, 0.9042, 0.0000, 0.0000, 0.0000, 0.0000],\n",
       "        [0.0000, 0.0000, 0.0000, 0.9512, 0.0000, 0.0000, 0.0000],\n",
       "        [0.0000, 0.9831, 0.0000, 0.0000, 0.9296, 0.0000, 1.0000],\n",
       "        [0.0000, 0.0000, 0.0000, 0.0000, 0.0000, 0.0000, 0.0000]])"
      ]
     },
     "execution_count": 208,
     "metadata": {},
     "output_type": "execute_result"
    }
   ],
   "source": [
    "iou_matrix"
   ]
  },
  {
   "cell_type": "code",
   "execution_count": 209,
   "id": "2c29c706-8e78-4e3e-8289-a2d6f1664deb",
   "metadata": {},
   "outputs": [
    {
     "data": {
      "text/plain": [
       "(tensor([0, 1, 2, 3, 3, 3]), tensor([0, 2, 3, 1, 4, 6]))"
      ]
     },
     "execution_count": 209,
     "metadata": {},
     "output_type": "execute_result"
    }
   ],
   "source": [
    "x"
   ]
  },
  {
   "cell_type": "code",
   "execution_count": 211,
   "id": "840f31f1-ac01-445b-a29f-d0437bdf581c",
   "metadata": {},
   "outputs": [
    {
     "data": {
      "text/plain": [
       "array([[0, 1, 2, 3, 3, 3],\n",
       "       [0, 2, 3, 1, 4, 6]])"
      ]
     },
     "execution_count": 211,
     "metadata": {},
     "output_type": "execute_result"
    }
   ],
   "source": [
    "np.stack([x[0].cpu().numpy(), x[1].cpu().numpy()])"
   ]
  },
  {
   "cell_type": "code",
   "execution_count": 178,
   "id": "f469d1eb-46e3-4230-b81a-d9d3eceda2a3",
   "metadata": {},
   "outputs": [
    {
     "ename": "ValueError",
     "evalue": "all input arrays must have the same shape",
     "output_type": "error",
     "traceback": [
      "\u001b[0;31m---------------------------------------------------------------------------\u001b[0m",
      "\u001b[0;31mValueError\u001b[0m                                Traceback (most recent call last)",
      "\u001b[0;32m/tmp/ipykernel_165/3334554675.py\u001b[0m in \u001b[0;36m<module>\u001b[0;34m\u001b[0m\n\u001b[0;32m----> 1\u001b[0;31m \u001b[0mnp\u001b[0m\u001b[0;34m.\u001b[0m\u001b[0mstack\u001b[0m\u001b[0;34m(\u001b[0m\u001b[0;34m[\u001b[0m\u001b[0mx\u001b[0m\u001b[0;34m[\u001b[0m\u001b[0;36m0\u001b[0m\u001b[0;34m]\u001b[0m\u001b[0;34m.\u001b[0m\u001b[0mcpu\u001b[0m\u001b[0;34m(\u001b[0m\u001b[0;34m)\u001b[0m\u001b[0;34m.\u001b[0m\u001b[0mnumpy\u001b[0m\u001b[0;34m(\u001b[0m\u001b[0;34m)\u001b[0m\u001b[0;34m,\u001b[0m\u001b[0mx\u001b[0m\u001b[0;34m[\u001b[0m\u001b[0;36m1\u001b[0m\u001b[0;34m]\u001b[0m\u001b[0;34m.\u001b[0m\u001b[0mcpu\u001b[0m\u001b[0;34m(\u001b[0m\u001b[0;34m)\u001b[0m\u001b[0;34m.\u001b[0m\u001b[0mnumpy\u001b[0m\u001b[0;34m(\u001b[0m\u001b[0;34m)\u001b[0m\u001b[0;34m,\u001b[0m \u001b[0mscores\u001b[0m\u001b[0;34m]\u001b[0m\u001b[0;34m,\u001b[0m\u001b[0;36m1\u001b[0m\u001b[0;34m)\u001b[0m\u001b[0;34m\u001b[0m\u001b[0;34m\u001b[0m\u001b[0m\n\u001b[0m",
      "\u001b[0;32m<__array_function__ internals>\u001b[0m in \u001b[0;36mstack\u001b[0;34m(*args, **kwargs)\u001b[0m\n",
      "\u001b[0;32m/usr/local/lib/python3.8/dist-packages/numpy/core/shape_base.py\u001b[0m in \u001b[0;36mstack\u001b[0;34m(arrays, axis, out)\u001b[0m\n\u001b[1;32m    424\u001b[0m     \u001b[0mshapes\u001b[0m \u001b[0;34m=\u001b[0m \u001b[0;34m{\u001b[0m\u001b[0marr\u001b[0m\u001b[0;34m.\u001b[0m\u001b[0mshape\u001b[0m \u001b[0;32mfor\u001b[0m \u001b[0marr\u001b[0m \u001b[0;32min\u001b[0m \u001b[0marrays\u001b[0m\u001b[0;34m}\u001b[0m\u001b[0;34m\u001b[0m\u001b[0;34m\u001b[0m\u001b[0m\n\u001b[1;32m    425\u001b[0m     \u001b[0;32mif\u001b[0m \u001b[0mlen\u001b[0m\u001b[0;34m(\u001b[0m\u001b[0mshapes\u001b[0m\u001b[0;34m)\u001b[0m \u001b[0;34m!=\u001b[0m \u001b[0;36m1\u001b[0m\u001b[0;34m:\u001b[0m\u001b[0;34m\u001b[0m\u001b[0;34m\u001b[0m\u001b[0m\n\u001b[0;32m--> 426\u001b[0;31m         \u001b[0;32mraise\u001b[0m \u001b[0mValueError\u001b[0m\u001b[0;34m(\u001b[0m\u001b[0;34m'all input arrays must have the same shape'\u001b[0m\u001b[0;34m)\u001b[0m\u001b[0;34m\u001b[0m\u001b[0;34m\u001b[0m\u001b[0m\n\u001b[0m\u001b[1;32m    427\u001b[0m \u001b[0;34m\u001b[0m\u001b[0m\n\u001b[1;32m    428\u001b[0m     \u001b[0mresult_ndim\u001b[0m \u001b[0;34m=\u001b[0m \u001b[0marrays\u001b[0m\u001b[0;34m[\u001b[0m\u001b[0;36m0\u001b[0m\u001b[0;34m]\u001b[0m\u001b[0;34m.\u001b[0m\u001b[0mndim\u001b[0m \u001b[0;34m+\u001b[0m \u001b[0;36m1\u001b[0m\u001b[0;34m\u001b[0m\u001b[0;34m\u001b[0m\u001b[0m\n",
      "\u001b[0;31mValueError\u001b[0m: all input arrays must have the same shape"
     ]
    }
   ],
   "source": [
    "np.stack([x[0].cpu().numpy(), x[1].cpu().numpy(), scores], 1)"
   ]
  },
  {
   "cell_type": "code",
   "execution_count": 167,
   "id": "ebff1a95-4b5a-47c7-92d8-79c09fcfd26c",
   "metadata": {},
   "outputs": [
    {
     "data": {
      "text/plain": [
       "array([0.84, 0.65, 0.61, 0.55])"
      ]
     },
     "execution_count": 167,
     "metadata": {},
     "output_type": "execute_result"
    }
   ],
   "source": [
    "sc = np.stack([x[0].cpu().numpy(), x[1].cpu().numpy(), scores], 1)\n",
    "sc = sc[sc[:, 2].argsort()[::-1]]\n",
    "unique_boxes = np.unique(sc[:, 0], return_index=True)[0].astype(\"int16\")\n",
    "sc[unique_boxes, 2]"
   ]
  },
  {
   "cell_type": "code",
   "execution_count": 168,
   "id": "2524fd56-6002-4155-b27b-643d21adc73e",
   "metadata": {},
   "outputs": [
    {
     "data": {
      "text/plain": [
       "array([[0.  , 0.  , 0.84],\n",
       "       [2.  , 3.  , 0.65],\n",
       "       [3.  , 1.  , 0.61],\n",
       "       [3.  , 4.  , 0.55],\n",
       "       [3.  , 6.  , 0.45],\n",
       "       [1.  , 2.  , 0.26]])"
      ]
     },
     "execution_count": 168,
     "metadata": {},
     "output_type": "execute_result"
    }
   ],
   "source": [
    "sc"
   ]
  },
  {
   "cell_type": "code",
   "execution_count": 169,
   "id": "37236285-974a-4a06-8844-9c330ce25e17",
   "metadata": {},
   "outputs": [
    {
     "data": {
      "text/plain": [
       "array([0, 1, 2, 3], dtype=int16)"
      ]
     },
     "execution_count": 169,
     "metadata": {},
     "output_type": "execute_result"
    }
   ],
   "source": [
    "unique_boxes"
   ]
  },
  {
   "cell_type": "code",
   "execution_count": 213,
   "id": "3f567828-c80f-4910-a558-c80b63f15e65",
   "metadata": {},
   "outputs": [
    {
     "data": {
      "text/plain": [
       "array([0.3 , 0.35, 0.4 , 0.45, 0.5 , 0.55, 0.6 , 0.65, 0.7 , 0.75, 0.8 ])"
      ]
     },
     "execution_count": 213,
     "metadata": {},
     "output_type": "execute_result"
    }
   ],
   "source": [
    "np.arange(0.3, 0.81, 0.05)"
   ]
  },
  {
   "cell_type": "code",
   "execution_count": null,
   "id": "cb849140-88b4-4425-9b16-c8ad3ddb6c1a",
   "metadata": {},
   "outputs": [],
   "source": []
  },
  {
   "cell_type": "code",
   "execution_count": null,
   "id": "70389df0-e687-4865-8365-0130fb60080d",
   "metadata": {},
   "outputs": [],
   "source": []
  },
  {
   "cell_type": "code",
   "execution_count": 112,
   "id": "e5a1c38c-9e86-4005-b0d8-fda0b8a77ced",
   "metadata": {},
   "outputs": [
    {
     "data": {
      "text/plain": [
       "array([[3.       , 6.       , 1.       ],\n",
       "       [0.       , 0.       , 1.       ],\n",
       "       [3.       , 1.       , 0.9830508],\n",
       "       [2.       , 3.       , 0.9512195],\n",
       "       [3.       , 4.       , 0.9296149],\n",
       "       [1.       , 2.       , 0.9041769]], dtype=float32)"
      ]
     },
     "execution_count": 112,
     "metadata": {},
     "output_type": "execute_result"
    },
    {
     "data": {
      "text/plain": [
       "array([[0.       , 0.       , 1.       ],\n",
       "       [1.       , 2.       , 0.9041769],\n",
       "       [2.       , 3.       , 0.9512195],\n",
       "       [3.       , 6.       , 1.       ]], dtype=float32)"
      ]
     },
     "execution_count": 112,
     "metadata": {},
     "output_type": "execute_result"
    }
   ],
   "source": [
    "x = torch.where(iou_matrix >= 0.3)\n",
    "if x[0].shape[0]:\n",
    "    matches = (\n",
    "        torch.cat((torch.stack(x, 1), iou_matrix[x[0], x[1]][:, None]), 1).cpu().numpy()\n",
    "    )\n",
    "    matches = matches[matches[:, 2].argsort()[::-1]]\n",
    "    matches\n",
    "    matches = matches[np.unique(matches[:, 1], return_index=True)[1]]\n",
    "    matches = matches[matches[:, 2].argsort()[::-1]]\n",
    "    matches = matches[np.unique(matches[:, 0], return_index=True)[1]]\n",
    "    matches"
   ]
  },
  {
   "cell_type": "code",
   "execution_count": 60,
   "id": "dd4694ee-ca26-41c2-932c-98f0c9195c52",
   "metadata": {},
   "outputs": [
    {
     "data": {
      "text/plain": [
       "array([[0, 1, 2, 3],\n",
       "       [0, 2, 3, 1],\n",
       "       [1, 0, 0, 0]], dtype=int16)"
      ]
     },
     "execution_count": 60,
     "metadata": {},
     "output_type": "execute_result"
    }
   ],
   "source": [
    "matches.transpose().astype(np.int16)"
   ]
  },
  {
   "cell_type": "code",
   "execution_count": 62,
   "id": "be1aaf3e-c5ed-4d8f-ad04-db43a69976f9",
   "metadata": {},
   "outputs": [],
   "source": [
    "gt_classes = [0]\n",
    "n = matches.shape[0] > 0\n",
    "m0, m1, _ = matches.transpose().astype(np.int16)\n",
    "for i, gc in enumerate(gt_classes):\n",
    "    j = m0 == i\n",
    "#     if n and sum(j) == 1:\n",
    "#         self.matrix[detection_classes[m1[j]], gc] += 1  # correct\n",
    "#     else:\n",
    "#         self.matrix[self.nc, gc] += 1  # background FP\n",
    "\n",
    "# if n:\n",
    "#     for i, dc in enumerate(detection_classes):\n",
    "#         if not any(m1 == i):\n",
    "#             self.matrix[dc, self.nc] += 1  # background FN"
   ]
  },
  {
   "cell_type": "code",
   "execution_count": 65,
   "id": "b4b28b69-0213-459c-9333-3e760bfd366d",
   "metadata": {},
   "outputs": [
    {
     "data": {
      "text/plain": [
       "True"
      ]
     },
     "execution_count": 65,
     "metadata": {},
     "output_type": "execute_result"
    }
   ],
   "source": [
    "sum(j) == 1"
   ]
  },
  {
   "cell_type": "code",
   "execution_count": null,
   "id": "f708a97f-b2bf-4176-a549-85ba1b4a24ab",
   "metadata": {},
   "outputs": [],
   "source": []
  },
  {
   "cell_type": "code",
   "execution_count": 185,
   "id": "d43721d9-a52e-48b9-93ef-6302000db0ea",
   "metadata": {},
   "outputs": [
    {
     "data": {
      "text/plain": [
       "tensor([[307., 581., 334., 611.],\n",
       "        [172., 356., 223., 402.],\n",
       "        [175., 314., 214., 345.],\n",
       "        [ 62., 219., 120., 269.],\n",
       "        [778., 341., 805., 372.]])"
      ]
     },
     "execution_count": 185,
     "metadata": {},
     "output_type": "execute_result"
    },
    {
     "data": {
      "text/plain": [
       "tensor([[307., 581., 334., 611.],\n",
       "        [ 61., 219., 120., 269.],\n",
       "        [175., 354., 223., 402.],\n",
       "        [173., 314., 214., 345.],\n",
       "        [ 64., 217., 120., 269.],\n",
       "        [520., 900., 540., 930.],\n",
       "        [ 62., 219., 120., 269.]])"
      ]
     },
     "execution_count": 185,
     "metadata": {},
     "output_type": "execute_result"
    }
   ],
   "source": [
    "torch.Tensor(gt)\n",
    "torch.Tensor(box)"
   ]
  },
  {
   "cell_type": "code",
   "execution_count": 198,
   "id": "a720d284-ac9b-4485-be76-af5eff8efeb6",
   "metadata": {},
   "outputs": [
    {
     "data": {
      "text/plain": [
       "5"
      ]
     },
     "execution_count": 198,
     "metadata": {},
     "output_type": "execute_result"
    },
    {
     "data": {
      "text/plain": [
       "array([[3.07e+02, 5.81e+02, 3.34e+02, 6.11e+02, 8.40e-01, 0.00e+00],\n",
       "       [6.10e+01, 2.19e+02, 1.20e+02, 2.69e+02, 2.60e-01, 0.00e+00],\n",
       "       [1.75e+02, 3.54e+02, 2.23e+02, 4.02e+02, 6.50e-01, 0.00e+00],\n",
       "       [1.73e+02, 3.14e+02, 2.14e+02, 3.45e+02, 6.10e-01, 0.00e+00],\n",
       "       [6.40e+01, 2.17e+02, 1.20e+02, 2.69e+02, 5.50e-01, 0.00e+00],\n",
       "       [5.20e+02, 9.00e+02, 5.40e+02, 9.30e+02, 4.50e-01, 0.00e+00],\n",
       "       [6.20e+01, 2.19e+02, 1.20e+02, 2.69e+02, 8.00e-01, 0.00e+00]])"
      ]
     },
     "execution_count": 198,
     "metadata": {},
     "output_type": "execute_result"
    }
   ],
   "source": [
    "gt = np.array([list(x.values()) for x in df.loc[5476, \"annotations\"]])\n",
    "len(gt)\n",
    "gt[:, 2] = gt[:, 2] + gt[:, 0]\n",
    "gt[:, 3] = gt[:, 3] + gt[:, 1]\n",
    "box = np.array(\n",
    "    [\n",
    "        [307, 581, 334, 611],\n",
    "        [61, 219, 120, 269],\n",
    "        [175, 354, 223, 402],\n",
    "        [173, 314, 214, 345],\n",
    "        [64, 217, 120, 269],\n",
    "        [520, 900, 540, 930],\n",
    "        [62, 219, 120, 269],\n",
    "    ]\n",
    ")\n",
    "scores = np.array([0.84, 0.26, 0.65, 0.61, 0.55, 0.45, 0.8])\n",
    "preds = np.zeros([box.shape[0], box.shape[1] + 2])\n",
    "gt0 = np.zeros([gt.shape[0], gt.shape[1] + 1])\n",
    "gt0[:, 0] = 0\n",
    "gt0[:, 1:] = gt\n",
    "preds[:, :4] = box\n",
    "preds[:, 4] = scores\n",
    "preds[:, 5] = 0\n",
    "preds"
   ]
  },
  {
   "cell_type": "code",
   "execution_count": 199,
   "id": "89b993af-5b37-4689-93cd-4fa9a666d104",
   "metadata": {},
   "outputs": [
    {
     "data": {
      "text/plain": [
       "array([[  0., 307., 581., 334., 611.],\n",
       "       [  0., 172., 356., 223., 402.],\n",
       "       [  0., 175., 314., 214., 345.],\n",
       "       [  0.,  62., 219., 120., 269.],\n",
       "       [  0., 778., 341., 805., 372.]])"
      ]
     },
     "execution_count": 199,
     "metadata": {},
     "output_type": "execute_result"
    }
   ],
   "source": [
    "gt0"
   ]
  },
  {
   "cell_type": "code",
   "execution_count": null,
   "id": "baa53456-c1e3-4f47-93ea-ab8ef28fa0fb",
   "metadata": {},
   "outputs": [],
   "source": []
  },
  {
   "cell_type": "code",
   "execution_count": null,
   "id": "070345ce-e98a-4fb7-8f7b-796380ff9a4b",
   "metadata": {},
   "outputs": [],
   "source": []
  },
  {
   "cell_type": "code",
   "execution_count": null,
   "id": "a7f628b9-1b82-4df6-b403-53becc18b7e6",
   "metadata": {},
   "outputs": [],
   "source": []
  },
  {
   "cell_type": "code",
   "execution_count": null,
   "id": "d328042b-d20f-48e9-b536-ad203d5f0388",
   "metadata": {},
   "outputs": [],
   "source": []
  },
  {
   "cell_type": "code",
   "execution_count": null,
   "id": "a10adda0-9cbb-472d-bfbe-0d8a8d6cf468",
   "metadata": {},
   "outputs": [],
   "source": []
  },
  {
   "cell_type": "code",
   "execution_count": null,
   "id": "7965fe47-757a-4373-940d-775d9b73897f",
   "metadata": {},
   "outputs": [],
   "source": []
  },
  {
   "cell_type": "code",
   "execution_count": null,
   "id": "7dfbb89f-9089-4426-b199-4ef62f062070",
   "metadata": {},
   "outputs": [],
   "source": []
  },
  {
   "cell_type": "code",
   "execution_count": null,
   "id": "b64c0323-a437-4bc4-8a39-5a71fec08c7b",
   "metadata": {},
   "outputs": [],
   "source": []
  },
  {
   "cell_type": "code",
   "execution_count": null,
   "id": "3b81ab01-c8f7-4de9-a952-25cb6fb8af31",
   "metadata": {},
   "outputs": [],
   "source": []
  },
  {
   "cell_type": "code",
   "execution_count": null,
   "id": "658a49e1-3d41-4bff-ba0b-30aecae7ead0",
   "metadata": {},
   "outputs": [],
   "source": []
  },
  {
   "cell_type": "code",
   "execution_count": null,
   "id": "559acb1c-8344-4bc9-9a72-de156d9d84c9",
   "metadata": {},
   "outputs": [],
   "source": [
    "x = torch.where(iou > 0.3)\n",
    "    if x[0].shape[0]:\n",
    "        matches = torch.cat((torch.stack(x, 1), iou[x[0], x[1]][:, None]), 1).cpu().numpy()\n",
    "        if x[0].shape[0] > 1:\n",
    "            matches = matches[matches[:, 2].argsort()[::-1]]\n",
    "            matches = matches[np.unique(matches[:, 1], return_index=True)[1]]\n",
    "            matches = matches[matches[:, 2].argsort()[::-1]]\n",
    "            matches = matches[np.unique(matches[:, 0], return_index=True)[1]]\n",
    "    else:\n",
    "        matches = np.zeros((0, 3))"
   ]
  },
  {
   "cell_type": "code",
   "execution_count": 14,
   "id": "d2fbd1a3-a51d-4b80-9158-8965f53c8145",
   "metadata": {},
   "outputs": [
    {
     "data": {
      "text/plain": [
       "array([[307, 581, 334, 611],\n",
       "       [172, 356, 223, 402],\n",
       "       [175, 314, 214, 345],\n",
       "       [ 62, 219, 120, 269],\n",
       "       [778, 341, 805, 372]])"
      ]
     },
     "execution_count": 14,
     "metadata": {},
     "output_type": "execute_result"
    }
   ],
   "source": [
    "            tp = len(torch.where(iou_matrix.max(0)[0] >= iou_th)[0])\n",
    "            fp = len(p) - tp\n",
    "            fn = len(torch.where(iou_matrix.max(0)[0] < iou_th)[0])"
   ]
  },
  {
   "cell_type": "code",
   "execution_count": 19,
   "id": "837c0dd0-e00c-4205-b9ac-0d775c636bb1",
   "metadata": {},
   "outputs": [
    {
     "data": {
      "text/plain": [
       "array([0, 1, 2, 3, 4])"
      ]
     },
     "execution_count": 19,
     "metadata": {},
     "output_type": "execute_result"
    }
   ],
   "source": [
    "np.where(iou_matrix.max(0)[0] >= 0.3)[0]"
   ]
  },
  {
   "cell_type": "code",
   "execution_count": 42,
   "id": "52aae48e-0a19-4589-b0ec-744d1a13b8d6",
   "metadata": {},
   "outputs": [],
   "source": [
    "def bb_iou_array(boxes, new_box):\n",
    "    # bb interesection over union\n",
    "    xA = np.maximum(boxes[:, 0], new_box[0])\n",
    "    yA = np.maximum(boxes[:, 1], new_box[1])\n",
    "    xB = np.minimum(boxes[:, 2], new_box[2])\n",
    "    yB = np.minimum(boxes[:, 3], new_box[3])\n",
    "\n",
    "    interArea = np.maximum(xB - xA, 0) * np.maximum(yB - yA, 0)\n",
    "\n",
    "    # compute the area of both the prediction and ground-truth rectangles\n",
    "    boxAArea = (boxes[:, 2] - boxes[:, 0]) * (boxes[:, 3] - boxes[:, 1])\n",
    "    boxBArea = (new_box[2] - new_box[0]) * (new_box[3] - new_box[1])\n",
    "\n",
    "    iou = interArea / (boxAArea + boxBArea - interArea)\n",
    "\n",
    "    return iou"
   ]
  },
  {
   "cell_type": "code",
   "execution_count": 47,
   "id": "f6f344e3-bb74-4016-97cb-c33f9bc92b7c",
   "metadata": {},
   "outputs": [
    {
     "data": {
      "text/plain": [
       "array([          0,     0.85016,           0,           0,           0])"
      ]
     },
     "execution_count": 47,
     "metadata": {},
     "output_type": "execute_result"
    }
   ],
   "source": [
    "bb_iou_array(gt, box)"
   ]
  },
  {
   "cell_type": "code",
   "execution_count": 48,
   "id": "03785657-f00d-4ec4-ba85-df563f65a93f",
   "metadata": {},
   "outputs": [
    {
     "data": {
      "text/plain": [
       "(1, 0.8501577287066246)"
      ]
     },
     "execution_count": 48,
     "metadata": {},
     "output_type": "execute_result"
    }
   ],
   "source": [
    "find_matching_box_quickly(gt, box, 0.3, 0.2)"
   ]
  },
  {
   "cell_type": "code",
   "execution_count": 10,
   "id": "3c67ddbf-b2b6-4e2d-80ba-59b565cc3a93",
   "metadata": {},
   "outputs": [
    {
     "name": "stderr",
     "output_type": "stream",
     "text": [
      "YOLOv5 🚀 v6.0-193-gdb1f83b torch 1.9.1+cu111 CUDA:0 (NVIDIA GeForce RTX 3090, 24266MiB)\n",
      "\n",
      "Fusing layers... \n",
      "Model Summary: 476 layers, 76118664 parameters, 0 gradients\n",
      "Adding AutoShape... \n",
      "100% 8232/8232 [1:54:18<00:00,  1.20it/s]\n"
     ]
    },
    {
     "name": "stdout",
     "output_type": "stream",
     "text": [
      "[['/app/_data/yolov5/runs/train/yolov5l6_val1_3000/weights/best.pt', 6016, 0.546, 0.42]]\n",
      "[['/app/_data/yolov5/runs/train/yolov5l6_val1_3000/weights/best.pt', 6016, 0.546, 0.42]]\n"
     ]
    }
   ],
   "source": [
    "eval_IOU = 0.65\n",
    "res = []\n",
    "paths = [\"/app/_data/yolov5/runs/train/yolov5l6_val1_3000/weights/best.pt\"]\n",
    "for a in range(len(paths)):\n",
    "    path = paths[a]\n",
    "    IMG_SIZE = 3008 * 2 if \"l6\" in path else 4480 * 2 if \"s6\" in path else 3840 * 2\n",
    "    model = torch.hub.load(\n",
    "        \"/app/_data/yolov5\", \"custom\", path=path, source=\"local\", force_reload=True\n",
    "    )\n",
    "    model.conf = 0.01\n",
    "    VIDEO_ID = int(path[path.index(\"val\") + 3])\n",
    "\n",
    "    df_test = df[df.video_id == VIDEO_ID]\n",
    "    df_sample = df_test\n",
    "    image_paths = df_sample.img_path.tolist()\n",
    "    gt = copy.deepcopy(df_sample.bboxes.tolist())\n",
    "    gtmem = copy.deepcopy(df_sample.bboxes.tolist())\n",
    "    TP = []  # Confidence scores of true positives\n",
    "    FP = []  # Confidence scores of true positives\n",
    "    FN = 0  # Count of false negative boxes\n",
    "    for i in tqdm(range(len(image_paths))):\n",
    "        TEST_IMAGE_PATH = image_paths[i]\n",
    "        img = np.array(Image.open(TEST_IMAGE_PATH))\n",
    "        prediction = model(img, size=IMG_SIZE, augment=True).xywh[0].cpu().numpy()\n",
    "        prediction[prediction[:, 4] > 0.01]\n",
    "        scores = prediction[:, 4]\n",
    "        bboxes = np.round(prediction[:, :4]).astype(\"int\")\n",
    "        bboxes[:, 0] = bboxes[:, 0] - bboxes[:, 2] / 2\n",
    "        bboxes[:, 1] = bboxes[:, 1] - bboxes[:, 3] / 2\n",
    "        gt0 = gt[i]\n",
    "        if len(bboxes) == 0:\n",
    "            # all gt are false negative\n",
    "            FN += len(gt0)\n",
    "        else:\n",
    "            bb = bboxes.copy().tolist()\n",
    "            for idx, b in enumerate(bb):\n",
    "                b.append(scores[idx])\n",
    "            bb.sort(key=lambda x: x[4], reverse=True)\n",
    "\n",
    "            if len(gt0) == 0:\n",
    "                # all bboxes are false positives\n",
    "                for b in bb:\n",
    "                    FP.append(b[4])\n",
    "            else:\n",
    "                # match bbox with gt\n",
    "                for b in bb:\n",
    "                    matched = False\n",
    "                    for g in gt0:\n",
    "                        # check whether gt box is already matched to an inference bb\n",
    "                        if len(g) == 4:\n",
    "                            # g bbox is unmatched\n",
    "                            if IOU_coco(b, g) >= eval_IOU:\n",
    "                                g.append(\n",
    "                                    b[4]\n",
    "                                )  # assign confidence values to g; marks g as matched\n",
    "                                matched = True\n",
    "                                TP.append(b[4])\n",
    "                                break\n",
    "                    if not matched:\n",
    "                        FP.append(b[4])\n",
    "                for g in gt0:\n",
    "                    if len(g) == 4:\n",
    "                        FN += 1\n",
    "    F2list = []\n",
    "    F2max = 0.0\n",
    "    F2maxat = -1.0\n",
    "\n",
    "    for c in np.arange(0.0, 1.0, 0.01):\n",
    "        FNcount = FN + sum(1 for i in TP if i < c)\n",
    "        TPcount = sum(1 for i in TP if i >= c)\n",
    "        FPcount = sum(1 for i in FP if i >= c)\n",
    "        R = TPcount / (TPcount + FNcount + 0.0001)\n",
    "        P = TPcount / (TPcount + FPcount + 0.0001)\n",
    "        F2 = (5 * P * R) / (4 * P + R + 0.0001)\n",
    "        F2list.append((c, F2))\n",
    "        if F2max < F2:\n",
    "            F2max = F2\n",
    "            F2maxat = c\n",
    "    res.append([path, IMG_SIZE, np.round(F2max, 3), np.round(F2maxat, 3)])\n",
    "    print(res)\n",
    "print(res)"
   ]
  },
  {
   "cell_type": "code",
   "execution_count": 11,
   "id": "4ddecee2-aa10-4c7d-9a2e-1ec26fccd8b1",
   "metadata": {},
   "outputs": [
    {
     "name": "stderr",
     "output_type": "stream",
     "text": [
      "YOLOv5 🚀 v6.0-193-gdb1f83b torch 1.9.1+cu111 CUDA:0 (NVIDIA GeForce RTX 3090, 24266MiB)\n",
      "\n",
      "Fusing layers... \n",
      "Model Summary: 476 layers, 76118664 parameters, 0 gradients\n",
      "Adding AutoShape... \n",
      " 21% 1758/8561 [34:33<2:13:44,  1.18s/it]\n"
     ]
    },
    {
     "ename": "KeyboardInterrupt",
     "evalue": "",
     "output_type": "error",
     "traceback": [
      "\u001b[0;31m---------------------------------------------------------------------------\u001b[0m",
      "\u001b[0;31mKeyboardInterrupt\u001b[0m                         Traceback (most recent call last)",
      "\u001b[0;32m/tmp/ipykernel_556/1098101966.py\u001b[0m in \u001b[0;36m<module>\u001b[0;34m\u001b[0m\n\u001b[1;32m     23\u001b[0m     \u001b[0;32mfor\u001b[0m \u001b[0mi\u001b[0m \u001b[0;32min\u001b[0m \u001b[0mtqdm\u001b[0m\u001b[0;34m(\u001b[0m\u001b[0mrange\u001b[0m\u001b[0;34m(\u001b[0m\u001b[0mlen\u001b[0m\u001b[0;34m(\u001b[0m\u001b[0mimage_paths\u001b[0m\u001b[0;34m)\u001b[0m\u001b[0;34m)\u001b[0m\u001b[0;34m)\u001b[0m\u001b[0;34m:\u001b[0m\u001b[0;34m\u001b[0m\u001b[0;34m\u001b[0m\u001b[0m\n\u001b[1;32m     24\u001b[0m         \u001b[0mTEST_IMAGE_PATH\u001b[0m \u001b[0;34m=\u001b[0m \u001b[0mimage_paths\u001b[0m\u001b[0;34m[\u001b[0m\u001b[0mi\u001b[0m\u001b[0;34m]\u001b[0m\u001b[0;34m\u001b[0m\u001b[0;34m\u001b[0m\u001b[0m\n\u001b[0;32m---> 25\u001b[0;31m         \u001b[0mimg\u001b[0m \u001b[0;34m=\u001b[0m \u001b[0mnp\u001b[0m\u001b[0;34m.\u001b[0m\u001b[0marray\u001b[0m\u001b[0;34m(\u001b[0m\u001b[0mImage\u001b[0m\u001b[0;34m.\u001b[0m\u001b[0mopen\u001b[0m\u001b[0;34m(\u001b[0m\u001b[0mTEST_IMAGE_PATH\u001b[0m\u001b[0;34m)\u001b[0m\u001b[0;34m)\u001b[0m\u001b[0;34m\u001b[0m\u001b[0;34m\u001b[0m\u001b[0m\n\u001b[0m\u001b[1;32m     26\u001b[0m         \u001b[0mprediction\u001b[0m \u001b[0;34m=\u001b[0m \u001b[0mmodel\u001b[0m\u001b[0;34m(\u001b[0m\u001b[0mimg\u001b[0m\u001b[0;34m,\u001b[0m \u001b[0msize\u001b[0m\u001b[0;34m=\u001b[0m\u001b[0mIMG_SIZE\u001b[0m\u001b[0;34m,\u001b[0m \u001b[0maugment\u001b[0m\u001b[0;34m=\u001b[0m\u001b[0;32mTrue\u001b[0m\u001b[0;34m)\u001b[0m\u001b[0;34m.\u001b[0m\u001b[0mxywh\u001b[0m\u001b[0;34m[\u001b[0m\u001b[0;36m0\u001b[0m\u001b[0;34m]\u001b[0m\u001b[0;34m.\u001b[0m\u001b[0mcpu\u001b[0m\u001b[0;34m(\u001b[0m\u001b[0;34m)\u001b[0m\u001b[0;34m.\u001b[0m\u001b[0mnumpy\u001b[0m\u001b[0;34m(\u001b[0m\u001b[0;34m)\u001b[0m\u001b[0;34m\u001b[0m\u001b[0;34m\u001b[0m\u001b[0m\n\u001b[1;32m     27\u001b[0m         \u001b[0mscores\u001b[0m \u001b[0;34m=\u001b[0m \u001b[0mprediction\u001b[0m\u001b[0;34m[\u001b[0m\u001b[0;34m:\u001b[0m\u001b[0;34m,\u001b[0m \u001b[0;36m4\u001b[0m\u001b[0;34m]\u001b[0m\u001b[0;34m\u001b[0m\u001b[0;34m\u001b[0m\u001b[0m\n",
      "\u001b[0;32m/usr/local/lib/python3.8/dist-packages/PIL/Image.py\u001b[0m in \u001b[0;36m__array__\u001b[0;34m(self, dtype)\u001b[0m\n\u001b[1;32m    696\u001b[0m             \u001b[0mnew\u001b[0m\u001b[0;34m[\u001b[0m\u001b[0;34m\"data\"\u001b[0m\u001b[0;34m]\u001b[0m \u001b[0;34m=\u001b[0m \u001b[0mself\u001b[0m\u001b[0;34m.\u001b[0m\u001b[0mtobytes\u001b[0m\u001b[0;34m(\u001b[0m\u001b[0;34m\"raw\"\u001b[0m\u001b[0;34m,\u001b[0m \u001b[0;34m\"L\"\u001b[0m\u001b[0;34m)\u001b[0m\u001b[0;34m\u001b[0m\u001b[0;34m\u001b[0m\u001b[0m\n\u001b[1;32m    697\u001b[0m         \u001b[0;32melse\u001b[0m\u001b[0;34m:\u001b[0m\u001b[0;34m\u001b[0m\u001b[0;34m\u001b[0m\u001b[0m\n\u001b[0;32m--> 698\u001b[0;31m             \u001b[0mnew\u001b[0m\u001b[0;34m[\u001b[0m\u001b[0;34m\"data\"\u001b[0m\u001b[0;34m]\u001b[0m \u001b[0;34m=\u001b[0m \u001b[0mself\u001b[0m\u001b[0;34m.\u001b[0m\u001b[0mtobytes\u001b[0m\u001b[0;34m(\u001b[0m\u001b[0;34m)\u001b[0m\u001b[0;34m\u001b[0m\u001b[0;34m\u001b[0m\u001b[0m\n\u001b[0m\u001b[1;32m    699\u001b[0m \u001b[0;34m\u001b[0m\u001b[0m\n\u001b[1;32m    700\u001b[0m         \u001b[0;32mclass\u001b[0m \u001b[0mArrayData\u001b[0m\u001b[0;34m:\u001b[0m\u001b[0;34m\u001b[0m\u001b[0;34m\u001b[0m\u001b[0m\n",
      "\u001b[0;32m/usr/local/lib/python3.8/dist-packages/PIL/Image.py\u001b[0m in \u001b[0;36mtobytes\u001b[0;34m(self, encoder_name, *args)\u001b[0m\n\u001b[1;32m    742\u001b[0m             \u001b[0margs\u001b[0m \u001b[0;34m=\u001b[0m \u001b[0mself\u001b[0m\u001b[0;34m.\u001b[0m\u001b[0mmode\u001b[0m\u001b[0;34m\u001b[0m\u001b[0;34m\u001b[0m\u001b[0m\n\u001b[1;32m    743\u001b[0m \u001b[0;34m\u001b[0m\u001b[0m\n\u001b[0;32m--> 744\u001b[0;31m         \u001b[0mself\u001b[0m\u001b[0;34m.\u001b[0m\u001b[0mload\u001b[0m\u001b[0;34m(\u001b[0m\u001b[0;34m)\u001b[0m\u001b[0;34m\u001b[0m\u001b[0;34m\u001b[0m\u001b[0m\n\u001b[0m\u001b[1;32m    745\u001b[0m \u001b[0;34m\u001b[0m\u001b[0m\n\u001b[1;32m    746\u001b[0m         \u001b[0;31m# unpack data\u001b[0m\u001b[0;34m\u001b[0m\u001b[0;34m\u001b[0m\u001b[0;34m\u001b[0m\u001b[0m\n",
      "\u001b[0;32m/usr/local/lib/python3.8/dist-packages/PIL/ImageFile.py\u001b[0m in \u001b[0;36mload\u001b[0;34m(self)\u001b[0m\n\u001b[1;32m    253\u001b[0m \u001b[0;34m\u001b[0m\u001b[0m\n\u001b[1;32m    254\u001b[0m                             \u001b[0mb\u001b[0m \u001b[0;34m=\u001b[0m \u001b[0mb\u001b[0m \u001b[0;34m+\u001b[0m \u001b[0ms\u001b[0m\u001b[0;34m\u001b[0m\u001b[0;34m\u001b[0m\u001b[0m\n\u001b[0;32m--> 255\u001b[0;31m                             \u001b[0mn\u001b[0m\u001b[0;34m,\u001b[0m \u001b[0merr_code\u001b[0m \u001b[0;34m=\u001b[0m \u001b[0mdecoder\u001b[0m\u001b[0;34m.\u001b[0m\u001b[0mdecode\u001b[0m\u001b[0;34m(\u001b[0m\u001b[0mb\u001b[0m\u001b[0;34m)\u001b[0m\u001b[0;34m\u001b[0m\u001b[0;34m\u001b[0m\u001b[0m\n\u001b[0m\u001b[1;32m    256\u001b[0m                             \u001b[0;32mif\u001b[0m \u001b[0mn\u001b[0m \u001b[0;34m<\u001b[0m \u001b[0;36m0\u001b[0m\u001b[0;34m:\u001b[0m\u001b[0;34m\u001b[0m\u001b[0;34m\u001b[0m\u001b[0m\n\u001b[1;32m    257\u001b[0m                                 \u001b[0;32mbreak\u001b[0m\u001b[0;34m\u001b[0m\u001b[0;34m\u001b[0m\u001b[0m\n",
      "\u001b[0;31mKeyboardInterrupt\u001b[0m: "
     ]
    }
   ],
   "source": [
    "paths = glob.glob(\"/app/_data/yolov5/runs/train/*/*/*.pt\")\n",
    "paths = [\"/app/_data/yolov5/runs/train/yolov5l6_val2_30002/weights/best.pt\"]\n",
    "\n",
    "eval_IOU = 0.65\n",
    "res = []\n",
    "for a in range(len(paths)):\n",
    "    path = paths[a]\n",
    "    IMG_SIZE = 7200 if \"l6\" in path else 4480 if \"s6\" in path else 3840 * 3\n",
    "    model = torch.hub.load(\n",
    "        \"/app/_data/yolov5\", \"custom\", path=path, source=\"local\", force_reload=True\n",
    "    )  # local repo\n",
    "    model.conf = 0.01\n",
    "    VIDEO_ID = int(path[path.index(\"val\") + 3])\n",
    "\n",
    "    df_test = df[df.video_id == VIDEO_ID]\n",
    "    df_sample = df_test\n",
    "    image_paths = df_sample.img_path.tolist()\n",
    "    gt = copy.deepcopy(df_sample.bboxes.tolist())\n",
    "    gtmem = copy.deepcopy(df_sample.bboxes.tolist())\n",
    "    TP = []  # Confidence scores of true positives\n",
    "    FP = []  # Confidence scores of true positives\n",
    "    FN = 0  # Count of false negative boxes\n",
    "    for i in tqdm(range(len(image_paths))):\n",
    "        TEST_IMAGE_PATH = image_paths[i]\n",
    "        img = np.array(Image.open(TEST_IMAGE_PATH))\n",
    "        prediction = model(img, size=IMG_SIZE, augment=True).xywh[0].cpu().numpy()\n",
    "        scores = prediction[:, 4]\n",
    "        bboxes = np.round(prediction[:, :4]).astype(\"int\")\n",
    "        bboxes[:, 0] = bboxes[:, 0] - bboxes[:, 2] / 2\n",
    "        bboxes[:, 1] = bboxes[:, 1] - bboxes[:, 3] / 2\n",
    "        gt0 = gt[i]\n",
    "        if len(bboxes) == 0:\n",
    "            # all gt are false negative\n",
    "            FN += len(gt0)\n",
    "        else:\n",
    "            bb = bboxes.copy().tolist()\n",
    "            for idx, b in enumerate(bb):\n",
    "                b.append(scores[idx])\n",
    "            bb.sort(key=lambda x: x[4], reverse=True)\n",
    "\n",
    "            if len(gt0) == 0:\n",
    "                # all bboxes are false positives\n",
    "                for b in bb:\n",
    "                    FP.append(b[4])\n",
    "            else:\n",
    "                # match bbox with gt\n",
    "                for b in bb:\n",
    "                    matched = False\n",
    "                    for g in gt0:\n",
    "                        # check whether gt box is already matched to an inference bb\n",
    "                        if len(g) == 4:\n",
    "                            # g bbox is unmatched\n",
    "                            if IOU_coco(b, g) >= eval_IOU:\n",
    "                                g.append(\n",
    "                                    b[4]\n",
    "                                )  # assign confidence values to g; marks g as matched\n",
    "                                matched = True\n",
    "                                TP.append(b[4])\n",
    "                                break\n",
    "                    if not matched:\n",
    "                        FP.append(b[4])\n",
    "                for g in gt0:\n",
    "                    if len(g) == 4:\n",
    "                        FN += 1\n",
    "    F2list = []\n",
    "    F2max = 0.0\n",
    "    F2maxat = -1.0\n",
    "\n",
    "    for c in np.arange(0.0, 1.0, 0.01):\n",
    "        FNcount = FN + sum(1 for i in TP if i < c)\n",
    "        TPcount = sum(1 for i in TP if i >= c)\n",
    "        FPcount = sum(1 for i in FP if i >= c)\n",
    "        R = TPcount / (TPcount + FNcount + 0.0001)\n",
    "        P = TPcount / (TPcount + FPcount + 0.0001)\n",
    "        F2 = (5 * P * R) / (4 * P + R + 0.0001)\n",
    "        F2list.append((c, F2))\n",
    "        if F2max < F2:\n",
    "            F2max = F2\n",
    "            F2maxat = c\n",
    "    res.append([path, IMG_SIZE, np.round(F2max, 3), np.round(F2maxat, 3)])\n",
    "    print(res)\n",
    "print(res)"
   ]
  },
  {
   "cell_type": "code",
   "execution_count": 14,
   "id": "1c7713ee-59db-4eb9-a702-bbb17b58e9ac",
   "metadata": {},
   "outputs": [
    {
     "name": "stderr",
     "output_type": "stream",
     "text": [
      "100% 8232/8232 [34:40<00:00,  3.96it/s]\n"
     ]
    }
   ],
   "source": [
    "# Confidence scores of true positives, false positives and count false negatives\n",
    "eval_IOU = 0.65\n",
    "IMG_SIZE = 3840\n",
    "TP = []  # Confidence scores of true positives\n",
    "FP = []  # Confidence scores of true positives\n",
    "FN = 0  # Count of false negative boxes\n",
    "for i in tqdm(range(len(image_paths))):\n",
    "    TEST_IMAGE_PATH = image_paths[i]\n",
    "    img = np.array(Image.open(TEST_IMAGE_PATH))\n",
    "    prediction = model(img, size=IMG_SIZE, augment=True).xywh[0].cpu().numpy()\n",
    "    scores = prediction[:, 4]\n",
    "    bboxes = np.round(prediction[:, :4]).astype(\"int\")\n",
    "    bboxes[:, 0] = bboxes[:, 0] - bboxes[:, 2] / 2\n",
    "    bboxes[:, 1] = bboxes[:, 1] - bboxes[:, 3] / 2\n",
    "\n",
    "    gt0 = gt[i]\n",
    "    if len(bboxes) == 0:\n",
    "        # all gt are false negative\n",
    "        FN += len(gt0)\n",
    "    else:\n",
    "        bb = bboxes.copy().tolist()\n",
    "        for idx, b in enumerate(bb):\n",
    "            b.append(scores[idx])\n",
    "        bb.sort(key=lambda x: x[4], reverse=True)\n",
    "\n",
    "        if len(gt0) == 0:\n",
    "            # all bboxes are false positives\n",
    "            for b in bb:\n",
    "                FP.append(b[4])\n",
    "        else:\n",
    "            # match bbox with gt\n",
    "            for b in bb:\n",
    "                matched = False\n",
    "                for g in gt0:\n",
    "                    # check whether gt box is already matched to an inference bb\n",
    "                    if len(g) == 4:\n",
    "                        # g bbox is unmatched\n",
    "                        if IOU_coco(b, g) >= eval_IOU:\n",
    "                            g.append(\n",
    "                                b[4]\n",
    "                            )  # assign confidence values to g; marks g as matched\n",
    "                            matched = True\n",
    "                            TP.append(b[4])\n",
    "                            break\n",
    "                if not matched:\n",
    "                    FP.append(b[4])\n",
    "            for g in gt0:\n",
    "                if len(g) == 4:\n",
    "                    FN += 1"
   ]
  },
  {
   "cell_type": "code",
   "execution_count": 15,
   "id": "32aa0df8-3fa0-4e2f-be0b-b8e23f0fc783",
   "metadata": {},
   "outputs": [
    {
     "data": {
      "image/png": "[encoded data removed]",
      "text/plain": [
       "<Figure size 432x288 with 1 Axes>"
      ]
     },
     "metadata": {
      "image/png": {
       "height": 277,
       "width": 385
      },
      "needs_background": "light"
     },
     "output_type": "display_data"
    }
   ],
   "source": [
    "%matplotlib inline\n",
    "F2list = []\n",
    "F2max = 0.0\n",
    "F2maxat = -1.0\n",
    "\n",
    "for c in np.arange(0.0, 1.0, 0.01):\n",
    "    FNcount = FN + sum(1 for i in TP if i < c)\n",
    "    TPcount = sum(1 for i in TP if i >= c)\n",
    "    FPcount = sum(1 for i in FP if i >= c)\n",
    "    R = TPcount / (TPcount + FNcount + 0.0001)\n",
    "    P = TPcount / (TPcount + FPcount + 0.0001)\n",
    "    F2 = (5 * P * R) / (4 * P + R + 0.0001)\n",
    "    F2list.append((c, F2))\n",
    "    if F2max < F2:\n",
    "        F2max = F2\n",
    "        F2maxat = c\n",
    "\n",
    "plt.scatter(*zip(*F2list))\n",
    "plt.title(\"CONF vs F2 score\")\n",
    "plt.xlabel(\"CONF\")\n",
    "plt.ylabel(\"F2\")\n",
    "plt.show();"
   ]
  },
  {
   "cell_type": "code",
   "execution_count": 16,
   "id": "ac897db9-d68b-4fb9-a616-b92dc16d3f0e",
   "metadata": {},
   "outputs": [
    {
     "name": "stdout",
     "output_type": "stream",
     "text": [
      "F2 max is 0.571 at CONF = 0.3 for model /app/_data/YOLOv5Weights/best5m63840_val1.pt and image size 3840\n"
     ]
    }
   ],
   "source": [
    "print(\n",
    "    f\"F2 max is {np.round(F2max,3)} at CONF = {np.round(F2maxat,3)} for model {path} and image size {IMG_SIZE}\"\n",
    ")"
   ]
  },
  {
   "cell_type": "markdown",
   "id": "bc394ed8-4a61-49e4-882a-9a32f9aac182",
   "metadata": {},
   "source": [
    "F2 max is 0.571 at CONF = 0.3 for model /app/_data/YOLOv5Weights/best5m63840_val1.pt and image size 3840\n"
   ]
  }
 ],
 "metadata": {
  "kernelspec": {
   "display_name": "Python 3 (ipykernel)",
   "language": "python",
   "name": "python3"
  },
  "language_info": {
   "codemirror_mode": {
    "name": "ipython",
    "version": 3
   },
   "file_extension": ".py",
   "mimetype": "text/x-python",
   "name": "python",
   "nbconvert_exporter": "python",
   "pygments_lexer": "ipython3",
   "version": "3.8.10"
  }
 },
 "nbformat": 4,
 "nbformat_minor": 5
}
