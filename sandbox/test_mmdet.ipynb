{
 "cells": [
  {
   "cell_type": "code",
   "execution_count": 1,
   "id": "3e3cd5b6-e2e0-4d2c-a87d-93bcd4567d61",
   "metadata": {},
   "outputs": [],
   "source": [
    "from IPython.display import clear_output\n",
    "\n",
    "!pip install openmim\n",
    "!mim install mmdet\n",
    "clear_output()"
   ]
  },
  {
   "cell_type": "code",
   "execution_count": 2,
   "id": "f88a6fe0-83ea-47b9-b6e4-cce7ca041cf3",
   "metadata": {},
   "outputs": [],
   "source": [
    "import mmcv\n",
    "import mmdet\n",
    "from mmcv import Config\n",
    "from mmdet.apis import (\n",
    "    inference_detector,\n",
    "    init_detector,\n",
    "    set_random_seed,\n",
    "    show_result_pyplot,\n",
    "    train_detector,\n",
    ")\n",
    "from mmdet.datasets import build_dataset\n",
    "from mmdet.models import build_detector"
   ]
  },
  {
   "cell_type": "code",
   "execution_count": 3,
   "id": "bff015f5-0f76-475b-8d57-5bbb4def94d8",
   "metadata": {},
   "outputs": [],
   "source": [
    "SEED = 37\n",
    "set_random_seed(SEED, deterministic=False)"
   ]
  },
  {
   "cell_type": "code",
   "execution_count": 4,
   "id": "e3748196-0e4d-4830-b46a-a075f7aceab0",
   "metadata": {
    "_cell_guid": "b1076dfc-b9ad-4769-8c92-a6c4dae69d19",
    "_uuid": "8f2839f25d086af736a60e9eeb907d3b93b6e0e5",
    "tags": []
   },
   "outputs": [],
   "source": [
    "import argparse\n",
    "import ast\n",
    "import glob\n",
    "import json\n",
    "import os\n",
    "import re\n",
    "import shutil\n",
    "\n",
    "import cv2\n",
    "import matplotlib.pyplot as plt\n",
    "import numpy as np\n",
    "import pandas as pd\n",
    "import torch\n",
    "from IPython.core.interactiveshell import InteractiveShell\n",
    "from PIL import Image\n",
    "from sklearn.model_selection import GroupKFold, StratifiedKFold\n",
    "from tqdm import tqdm\n",
    "\n",
    "InteractiveShell.ast_node_interactivity = \"all\"\n",
    "import seaborn as sns\n",
    "import torch\n",
    "import torchvision"
   ]
  },
  {
   "cell_type": "code",
   "execution_count": 5,
   "id": "a759cd71-fa19-405a-b2cd-1a92816258ff",
   "metadata": {
    "tags": []
   },
   "outputs": [],
   "source": [
    "def plot_bboxes(img, bboxes, bbox_format=\"coco\"):\n",
    "    try:\n",
    "        img_h, img_w = img.shape[:2]\n",
    "    except:\n",
    "        img_w, img_h = img.size\n",
    "    fig, ax = plt.subplots(1, 1, figsize=(20, 12))\n",
    "    ax.imshow(img)\n",
    "    if bbox_format == \"coco\":\n",
    "        for i in range(len(bboxes)):\n",
    "            if len(bboxes[i].split()) == 5:\n",
    "                bbox = bboxes[i].split()[1:]\n",
    "            else:\n",
    "                bbox = bboxes[i].split()\n",
    "            x_center, y_center, width, height = list(map(float, bbox))\n",
    "            x_min = int((x_center - width / 2) * img_w)\n",
    "            y_min = int((y_center - height / 2) * img_h)\n",
    "            width = int(width * img_w)\n",
    "            height = int(height * img_h)\n",
    "            rect = plt.Rectangle(\n",
    "                [x_min, y_min], width, height, ec=\"r\", fc=\"none\", lw=2.0\n",
    "            )\n",
    "            ax.add_patch(rect)\n",
    "    elif bbox_format == \"from_df\":\n",
    "        for i in range(len(bboxes)):\n",
    "            x_min, y_min, width, height = (\n",
    "                bboxes[i][\"x\"],\n",
    "                bboxes[i][\"y\"],\n",
    "                bboxes[i][\"width\"],\n",
    "                bboxes[i][\"height\"],\n",
    "            )\n",
    "            rect = plt.Rectangle(\n",
    "                [x_min, y_min], width, height, ec=\"r\", fc=\"none\", lw=2.0\n",
    "            )\n",
    "            ax.add_patch(rect)\n",
    "    plt.show();"
   ]
  },
  {
   "cell_type": "code",
   "execution_count": 6,
   "id": "b5e77364-a8c0-46e4-88d0-73cb71cfddd1",
   "metadata": {
    "tags": []
   },
   "outputs": [
    {
     "data": {
      "text/plain": [
       "'cuda'"
      ]
     },
     "execution_count": 6,
     "metadata": {},
     "output_type": "execute_result"
    }
   ],
   "source": [
    "TRAIN_DF_PART = \"/app/_data/tensorflow-great-barrier-reef/train.csv\"\n",
    "SAMPLE_SUBMISSION_PATH = (\n",
    "    \"/app/_data/tensorflow-great-barrier-reef/example_sample_submission.csv\"\n",
    ")\n",
    "TEST_DF_PATH = \"/app/_data/tensorflow-great-barrier-reef/test.csv\"\n",
    "DEVICE = \"cuda\" if torch.cuda.is_available else \"cpu\"\n",
    "DEVICE"
   ]
  },
  {
   "cell_type": "code",
   "execution_count": 7,
   "id": "9c554a88-5bf6-4e3a-8fb0-f6b066d10511",
   "metadata": {
    "tags": []
   },
   "outputs": [],
   "source": [
    "df = pd.read_csv(TRAIN_DF_PART)\n",
    "df[\"img_path\"] = (\n",
    "    \"/app/_data/tensorflow-great-barrier-reef/train_images/video_\"\n",
    "    + df.video_id.astype(\"str\")\n",
    "    + \"/\"\n",
    "    + df.video_frame.astype(\"str\")\n",
    "    + \".jpg\"\n",
    ")\n",
    "df[\"annotations\"] = df[\"annotations\"].apply(lambda x: ast.literal_eval(x))\n",
    "df[\"len_annotation\"] = df[\"annotations\"].str.len()\n",
    "df[\"image_id\"] = df[\"image_id\"].str.replace(\"-\", \"_\", regex=True)\n",
    "df[\"new_img_path\"] = f\"/app/_data/images/\" + df[\"image_id\"] + \".jpg\"\n",
    "train_df = pd.concat(\n",
    "    [\n",
    "        df.query(\"len_annotation!=0\"),\n",
    "        df.query(\"len_annotation==0\").sample(\n",
    "            6000 - len(df.query(\"len_annotation!=0\")), random_state=SEED\n",
    "        ),\n",
    "    ],\n",
    "    ignore_index=True,\n",
    ")\n",
    "train_df = train_df.sort_values([\"video_id\", \"video_frame\"]).reset_index(drop=True)"
   ]
  },
  {
   "cell_type": "code",
   "execution_count": 8,
   "id": "fcbe7ed4-214b-46b7-bfff-e9ffca8c80cc",
   "metadata": {
    "tags": []
   },
   "outputs": [],
   "source": [
    "# for ix in df.index.tolist():\n",
    "#     img_path = df.loc[ix, 'img_path']\n",
    "#     img_name = df.loc[ix, 'image_id']\n",
    "#     new_path = f'/app/_data/images/{img_name}.jpg'\n",
    "#     shutil.copy(img_path, new_path,)\n",
    "# clear_output()"
   ]
  },
  {
   "cell_type": "code",
   "execution_count": 9,
   "id": "d2b9035a-cf65-4e4b-b31a-cb76936b5d56",
   "metadata": {},
   "outputs": [
    {
     "data": {
      "text/plain": [
       "True"
      ]
     },
     "execution_count": 9,
     "metadata": {},
     "output_type": "execute_result"
    }
   ],
   "source": [
    "len(glob.glob(\"/app/_data/images/*.jpg\")) == len(df)"
   ]
  },
  {
   "cell_type": "code",
   "execution_count": 10,
   "id": "862e7139-a55a-4b31-93c2-972c69ef98b1",
   "metadata": {},
   "outputs": [
    {
     "name": "stdout",
     "output_type": "stream",
     "text": [
      "Overwriting /app/_data/for_mmdet/labels.txt\n"
     ]
    }
   ],
   "source": [
    "%%writefile /app/_data/for_mmdet/labels.txt\n",
    "fish"
   ]
  },
  {
   "cell_type": "code",
   "execution_count": 11,
   "id": "cf306c8b-d10e-48c8-ad66-723f10b432b6",
   "metadata": {},
   "outputs": [],
   "source": [
    "def df_to_coco(df):\n",
    "    images = []\n",
    "    annotations = []\n",
    "    img_id = 0\n",
    "    annotation_id = 0\n",
    "    categories = [\n",
    "        {\n",
    "            \"id\": 0,\n",
    "            \"name\": \"fish\",\n",
    "        },\n",
    "    ]\n",
    "    df = df.reset_index(drop=True)\n",
    "    for ix in tqdm(df.index.tolist()):\n",
    "        img = Image.open(df.loc[ix, \"img_path\"])\n",
    "        w, h = img.size\n",
    "        bboxes = df.loc[ix, \"annotations\"]\n",
    "        img_name = f'{df.loc[ix, \"image_id\"]}.jpg'\n",
    "        img_dict = {\n",
    "            \"id\": img_id,\n",
    "            \"file_name\": img_name,\n",
    "            \"height\": h,\n",
    "            \"width\": w,\n",
    "        }\n",
    "        images.append(img_dict)\n",
    "        if len(bboxes) != 0:\n",
    "            for i in range(len(bboxes)):\n",
    "                bbox = bboxes[i]\n",
    "                bbox = [bbox[\"x\"], bbox[\"y\"], bbox[\"width\"], bbox[\"height\"]]\n",
    "                annotations_dict = {\n",
    "                    \"id\": annotation_id,\n",
    "                    \"image_id\": img_id,\n",
    "                    \"category_id\": 0,\n",
    "                    \"bbox\": bbox,\n",
    "                    \"area\": bbox[2] * bbox[3],\n",
    "                    \"segmentation\": [],\n",
    "                    \"iscrowd\": 0,\n",
    "                }\n",
    "                annotations.append(annotations_dict)\n",
    "                annotation_id += 1\n",
    "        img_id += 1\n",
    "    coco_dict = {\"categories\": categories, \"images\": images, \"annotations\": annotations}\n",
    "    return coco_dict"
   ]
  },
  {
   "cell_type": "markdown",
   "id": "40ae7893-edb4-48da-ae07-e2c4298556ee",
   "metadata": {},
   "source": [
    "## KFold split"
   ]
  },
  {
   "cell_type": "code",
   "execution_count": 12,
   "id": "a07974b7-670c-4be0-a678-4ac194162699",
   "metadata": {},
   "outputs": [],
   "source": [
    "KFOLD = 1"
   ]
  },
  {
   "cell_type": "code",
   "execution_count": 13,
   "id": "bafacee5-e55b-4469-8b4b-7655594ca3a4",
   "metadata": {},
   "outputs": [
    {
     "name": "stdout",
     "output_type": "stream",
     "text": [
      "3195 8703\n",
      "2976 8922\n",
      "1455 10443\n",
      "1442 10456\n",
      "2830 9068\n"
     ]
    }
   ],
   "source": [
    "kf = GroupKFold(n_splits=5)\n",
    "list_train_ids = []\n",
    "list_val_ids = []\n",
    "for train_idx, val_idx in kf.split(\n",
    "    train_df, y=train_df.len_annotation, groups=train_df.sequence\n",
    "):\n",
    "    list_train_ids.append(train_idx)\n",
    "    list_val_ids.append(val_idx)\n",
    "    print(\n",
    "        train_df.loc[val_idx, \"len_annotation\"].values.sum(),\n",
    "        train_df.loc[train_idx, \"len_annotation\"].values.sum(),\n",
    "    )"
   ]
  },
  {
   "cell_type": "code",
   "execution_count": 14,
   "id": "0e21f744-2f34-440c-87fd-1c8b7585dd2a",
   "metadata": {},
   "outputs": [
    {
     "name": "stderr",
     "output_type": "stream",
     "text": [
      "100% 4812/4812 [00:00<00:00, 6369.05it/s]\n",
      "100% 1188/1188 [00:00<00:00, 4604.47it/s]\n"
     ]
    }
   ],
   "source": [
    "train_dict = df_to_coco(train_df.loc[list_train_ids[KFOLD]])\n",
    "with open(\"/app/_data/for_mmdet/coco_train.json\", \"w\") as f:\n",
    "    json.dump(train_dict, f, ensure_ascii=True, indent=4)\n",
    "val_dict = df_to_coco(train_df.loc[list_val_ids[KFOLD]])\n",
    "with open(\"/app/_data/for_mmdet/coco_val.json\", \"w\") as f:\n",
    "    json.dump(val_dict, f, ensure_ascii=True, indent=4)"
   ]
  },
  {
   "cell_type": "markdown",
   "id": "38793363-230b-4472-8d35-cc30af3de6a2",
   "metadata": {},
   "source": [
    "# Model Config"
   ]
  },
  {
   "cell_type": "code",
   "execution_count": 15,
   "id": "5b225a34-8942-414d-a204-5e6320205cf3",
   "metadata": {},
   "outputs": [
    {
     "name": "stdout",
     "output_type": "stream",
     "text": [
      "Overwriting /app/_data/mmdetection/configs/swin/TFGBR_swin_base_faster_rcnn_fp16_test.py\n"
     ]
    }
   ],
   "source": [
    "%%writefile /app/_data/mmdetection/configs/swin/TFGBR_swin_base_faster_rcnn_fp16_test.py\n",
    "\n",
    "_base_ = [\n",
    "    \"/app/_data/mmdetection/configs/_base_/models/faster_rcnn_r50_fpn.py\",\n",
    "    \"/app/_data/mmdetection/configs/_base_/datasets/coco_detection.py\",\n",
    "    \"/app/_data/mmdetection/configs/_base_/schedules/schedule_2x.py\",\n",
    "    \"/app/_data/mmdetection/configs/_base_/default_runtime.py\",\n",
    "]\n",
    "pretrained = 'https://github.com/SwinTransformer/storage/releases/download/v1.0.0/swin_small_patch4_window7_224.pth'\n",
    "model = dict(\n",
    "    backbone=dict(\n",
    "        _delete_=True,\n",
    "        type='SwinTransformer',\n",
    "        embed_dims=96,\n",
    "        depths=[2, 2, 18, 2],\n",
    "        num_heads=[3, 6, 12, 24],\n",
    "        window_size=7,\n",
    "        mlp_ratio=4,\n",
    "        qkv_bias=True,\n",
    "        qk_scale=None,\n",
    "        drop_rate=0.,\n",
    "        attn_drop_rate=0.,\n",
    "        drop_path_rate=0.2,\n",
    "        patch_norm=True,\n",
    "        out_indices=(0, 1, 2, 3),\n",
    "        with_cp=False,\n",
    "        convert_weights=True,\n",
    "        init_cfg=dict(type='Pretrained', checkpoint=pretrained)),\n",
    "    neck=dict(in_channels=[96, 192, 384, 768]),\n",
    "    roi_head=dict(\n",
    "        type='CascadeRoIHead',\n",
    "        num_stages=3,\n",
    "        stage_loss_weights=[1, 0.5, 0.25],\n",
    "        bbox_roi_extractor=dict(\n",
    "            type='SingleRoIExtractor',\n",
    "            roi_layer=dict(type='RoIAlign', output_size=7, sampling_ratio=0),\n",
    "            out_channels=256,\n",
    "            featmap_strides=[4, 8, 16, 32]),\n",
    "        bbox_head=[\n",
    "            dict(\n",
    "                type='Shared2FCBBoxHead',\n",
    "                in_channels=256,\n",
    "                fc_out_channels=1024,\n",
    "                roi_feat_size=7,\n",
    "                num_classes=1,\n",
    "                bbox_coder=dict(\n",
    "                    type='DeltaXYWHBBoxCoder',\n",
    "                    target_means=[0., 0., 0., 0.],\n",
    "                    target_stds=[0.1, 0.1, 0.2, 0.2]),\n",
    "                reg_class_agnostic=True,\n",
    "                loss_cls=dict(\n",
    "                    type='CrossEntropyLoss',\n",
    "                    use_sigmoid=False,\n",
    "                    loss_weight=1.0),\n",
    "                reg_decoded_bbox=True,\n",
    "                loss_bbox=dict(type='GIoULoss', loss_weight=10.0)),\n",
    "            dict(\n",
    "                type='Shared2FCBBoxHead',\n",
    "                in_channels=256,\n",
    "                fc_out_channels=1024,\n",
    "                roi_feat_size=7,\n",
    "                num_classes=1,\n",
    "                bbox_coder=dict(\n",
    "                    type='DeltaXYWHBBoxCoder',\n",
    "                    target_means=[0., 0., 0., 0.],\n",
    "                    target_stds=[0.05, 0.05, 0.1, 0.1]),\n",
    "                reg_class_agnostic=True,\n",
    "                loss_cls=dict(\n",
    "                    type='CrossEntropyLoss',\n",
    "                    use_sigmoid=False,\n",
    "                    loss_weight=1.0),\n",
    "                reg_decoded_bbox=True,\n",
    "                loss_bbox=dict(type='GIoULoss', loss_weight=10.0)),\n",
    "            dict(\n",
    "                type='Shared2FCBBoxHead',\n",
    "                in_channels=256,\n",
    "                fc_out_channels=1024,\n",
    "                roi_feat_size=7,\n",
    "                num_classes=1,\n",
    "                bbox_coder=dict(\n",
    "                    type='DeltaXYWHBBoxCoder',\n",
    "                    target_means=[0., 0., 0., 0.],\n",
    "                    target_stds=[0.033, 0.033, 0.067, 0.067]),\n",
    "                reg_class_agnostic=True,\n",
    "                loss_cls=dict(\n",
    "                    type='CrossEntropyLoss',\n",
    "                    use_sigmoid=False,\n",
    "                    loss_weight=1.0),\n",
    "                reg_decoded_bbox=True,\n",
    "                loss_bbox=dict(type='GIoULoss', loss_weight=10.0))\n",
    "        ]))\n",
    "\n",
    "optimizer = dict(\n",
    "    _delete_=True,\n",
    "    type='AdamW',\n",
    "    lr=0.0005,\n",
    "    betas=(0.9, 0.999),\n",
    "    weight_decay=0.05,\n",
    "    paramwise_cfg=dict(\n",
    "        custom_keys={\n",
    "            'absolute_pos_embed': dict(decay_mult=0.),\n",
    "            'relative_position_bias_table': dict(decay_mult=0.),\n",
    "            'norm': dict(decay_mult=0.)\n",
    "        }))\n",
    "lr_config = dict(warmup_iters=500, step=[8, 11])\n",
    "runner = dict(max_epochs=12)"
   ]
  },
  {
   "cell_type": "code",
   "execution_count": 16,
   "id": "bb3bfdaf-0bf2-4442-8b25-d91cfb9e3373",
   "metadata": {},
   "outputs": [],
   "source": [
    "cfg = Config.fromfile(\n",
    "    \"/app/_data/mmdetection/configs/swin/TFGBR_swin_base_faster_rcnn_fp16_test.py\"\n",
    ")"
   ]
  },
  {
   "cell_type": "code",
   "execution_count": 17,
   "id": "16726e43-691f-439a-87ed-a6be88977942",
   "metadata": {},
   "outputs": [],
   "source": [
    "img_norm_cfg = dict(\n",
    "    mean=[123.675, 116.28, 103.53], std=[58.395, 57.12, 57.375], to_rgb=True\n",
    ")\n",
    "train_pipeline = [\n",
    "    dict(type=\"LoadImageFromFile\", to_float32=True),\n",
    "    dict(type=\"LoadAnnotations\", with_bbox=True),\n",
    "    dict(\n",
    "        type=\"AutoAugment\",\n",
    "        policies=[\n",
    "            [\n",
    "                dict(\n",
    "                    type=\"Resize\",\n",
    "                    img_scale=[\n",
    "                        (480, 1333),\n",
    "                        (512, 1333),\n",
    "                        (544, 1333),\n",
    "                        (576, 1333),\n",
    "                        (608, 1333),\n",
    "                        (640, 1333),\n",
    "                        (672, 1333),\n",
    "                        (704, 1333),\n",
    "                        (736, 1333),\n",
    "                        (768, 1333),\n",
    "                        (800, 1333),\n",
    "                    ],\n",
    "                    multiscale_mode=\"value\",\n",
    "                    keep_ratio=True,\n",
    "                )\n",
    "            ],\n",
    "            [\n",
    "                dict(\n",
    "                    type=\"Resize\",\n",
    "                    img_scale=[(400, 1333), (500, 1333), (600, 1333)],\n",
    "                    multiscale_mode=\"value\",\n",
    "                    keep_ratio=True,\n",
    "                ),\n",
    "                dict(\n",
    "                    type=\"RandomCrop\",\n",
    "                    crop_type=\"absolute_range\",\n",
    "                    crop_size=(384, 600),\n",
    "                    allow_negative_crop=True,\n",
    "                ),\n",
    "                dict(\n",
    "                    type=\"Resize\",\n",
    "                    img_scale=[\n",
    "                        (480, 1333),\n",
    "                        (512, 1333),\n",
    "                        (544, 1333),\n",
    "                        (576, 1333),\n",
    "                        (608, 1333),\n",
    "                        (640, 1333),\n",
    "                        (672, 1333),\n",
    "                        (704, 1333),\n",
    "                        (736, 1333),\n",
    "                        (768, 1333),\n",
    "                        (800, 1333),\n",
    "                    ],\n",
    "                    multiscale_mode=\"value\",\n",
    "                    override=True,\n",
    "                    keep_ratio=True,\n",
    "                ),\n",
    "                dict(\n",
    "                    type=\"PhotoMetricDistortion\",\n",
    "                    brightness_delta=32,\n",
    "                    contrast_range=(0.5, 1.5),\n",
    "                    saturation_range=(0.5, 1.5),\n",
    "                    hue_delta=18,\n",
    "                ),\n",
    "                dict(\n",
    "                    type=\"MinIoURandomCrop\",\n",
    "                    min_ious=(0.4, 0.5, 0.6, 0.7, 0.8, 0.9),\n",
    "                    min_crop_size=0.3,\n",
    "                ),\n",
    "                dict(\n",
    "                    type=\"CutOut\",\n",
    "                    n_holes=(5, 10),\n",
    "                    cutout_shape=[\n",
    "                        (4, 4),\n",
    "                        (4, 8),\n",
    "                        (8, 4),\n",
    "                        (8, 8),\n",
    "                        (16, 32),\n",
    "                        (32, 16),\n",
    "                        (32, 32),\n",
    "                        (32, 48),\n",
    "                        (48, 32),\n",
    "                        (48, 48),\n",
    "                    ],\n",
    "                ),\n",
    "            ],\n",
    "        ],\n",
    "    ),\n",
    "    dict(type=\"RandomFlip\", flip_ratio=0.5),\n",
    "    dict(type=\"Normalize\", **img_norm_cfg),\n",
    "    dict(type=\"Pad\", size_divisor=32),\n",
    "    dict(type=\"DefaultFormatBundle\"),\n",
    "    dict(type=\"Collect\", keys=[\"img\", \"gt_bboxes\", \"gt_labels\"]),\n",
    "]\n",
    "\n",
    "test_pipeline = [\n",
    "    dict(type=\"LoadImageFromFile\"),\n",
    "    dict(\n",
    "        type=\"MultiScaleFlipAug\",\n",
    "        img_scale=(1333, 800),\n",
    "        flip=False,\n",
    "        transforms=[\n",
    "            dict(type=\"Resize\", keep_ratio=True),\n",
    "            dict(type=\"RandomFlip\"),\n",
    "            dict(type=\"Normalize\", **img_norm_cfg),\n",
    "            dict(type=\"Pad\", size_divisor=32),\n",
    "            dict(type=\"DefaultFormatBundle\"),\n",
    "            dict(type=\"Collect\", keys=[\"img\"]),\n",
    "        ],\n",
    "    ),\n",
    "]"
   ]
  },
  {
   "cell_type": "code",
   "execution_count": 41,
   "id": "6bd7fe13-163e-43c8-864a-51c6b4a7d2fd",
   "metadata": {},
   "outputs": [
    {
     "ename": "AttributeError",
     "evalue": "'list' object has no attribute 'num_classes'",
     "output_type": "error",
     "traceback": [
      "\u001b[0;31m---------------------------------------------------------------------------\u001b[0m",
      "\u001b[0;31mAttributeError\u001b[0m                            Traceback (most recent call last)",
      "\u001b[0;32m/tmp/ipykernel_6283/1840553721.py\u001b[0m in \u001b[0;36m<module>\u001b[0;34m\u001b[0m\n\u001b[1;32m      3\u001b[0m \u001b[0mcfg\u001b[0m\u001b[0;34m.\u001b[0m\u001b[0mdata_root\u001b[0m \u001b[0;34m=\u001b[0m \u001b[0;34m\"/app/_data/for_mmdet\"\u001b[0m\u001b[0;34m\u001b[0m\u001b[0;34m\u001b[0m\u001b[0m\n\u001b[1;32m      4\u001b[0m \u001b[0;34m\u001b[0m\u001b[0m\n\u001b[0;32m----> 5\u001b[0;31m \u001b[0mcfg\u001b[0m\u001b[0;34m.\u001b[0m\u001b[0mmodel\u001b[0m\u001b[0;34m.\u001b[0m\u001b[0mroi_head\u001b[0m\u001b[0;34m.\u001b[0m\u001b[0mbbox_head\u001b[0m\u001b[0;34m.\u001b[0m\u001b[0mnum_classes\u001b[0m \u001b[0;34m=\u001b[0m \u001b[0;36m1\u001b[0m\u001b[0;34m\u001b[0m\u001b[0;34m\u001b[0m\u001b[0m\n\u001b[0m\u001b[1;32m      6\u001b[0m \u001b[0;34m\u001b[0m\u001b[0m\n\u001b[1;32m      7\u001b[0m \u001b[0mcfg\u001b[0m\u001b[0;34m.\u001b[0m\u001b[0mdata\u001b[0m\u001b[0;34m.\u001b[0m\u001b[0mtest\u001b[0m\u001b[0;34m.\u001b[0m\u001b[0mtype\u001b[0m \u001b[0;34m=\u001b[0m \u001b[0;34m\"CocoDataset\"\u001b[0m\u001b[0;34m\u001b[0m\u001b[0;34m\u001b[0m\u001b[0m\n",
      "\u001b[0;31mAttributeError\u001b[0m: 'list' object has no attribute 'num_classes'"
     ]
    }
   ],
   "source": [
    "cfg.classes = \"/app/_data/for_mmdet/labels.txt\"\n",
    "cfg.work_dir = f\"/app/_data/model_output_{KFOLD+1}\"\n",
    "cfg.data_root = \"/app/_data/for_mmdet\"\n",
    "\n",
    "# cfg.model.roi_head.bbox_head.num_classes = 1\n",
    "\n",
    "cfg.data.test.type = \"CocoDataset\"\n",
    "cfg.data.test.classes = \"/app/_data/for_mmdet/labels.txt\"\n",
    "cfg.data.test.ann_file = \"/app/_data/for_mmdet/coco_val.json\"\n",
    "cfg.data.test.img_prefix = \"\"\n",
    "cfg.data.test.data_root = \"/app/_data/for_mmdet\"\n",
    "\n",
    "cfg.data.train.type = \"CocoDataset\"\n",
    "cfg.data.train.ann_file = \"/app/_data/for_mmdet/coco_train.json\"\n",
    "cfg.data.train.img_prefix = \"\"\n",
    "cfg.data.train.classes = \"/app/_data/for_mmdet/labels.txt\"\n",
    "cfg.data.val.data_root = \"/app/_data/for_mmdet\"\n",
    "\n",
    "cfg.data.val.type = \"CocoDataset\"\n",
    "cfg.data.val.ann_file = \"/app/_data/for_mmdet/coco_val.json\"\n",
    "cfg.data.val.img_prefix = \"\"\n",
    "cfg.data.val.classes = \"/app/_data/for_mmdet/labels.txt\"\n",
    "cfg.data.val.data_root = \"/app/_data/for_mmdet\"\n",
    "\n",
    "cfg.data.samples_per_gpu = 4\n",
    "cfg.data.workers_per_gpu = 4\n",
    "\n",
    "cfg.train_pipeline = train_pipeline\n",
    "cfg.val_pipeline = test_pipeline\n",
    "cfg.test_pipeline = test_pipeline\n",
    "\n",
    "cfg.data.train.pipeline = cfg.train_pipeline\n",
    "cfg.data.val.pipeline = cfg.val_pipeline\n",
    "\n",
    "\n",
    "cfg.runner.max_epochs = 30\n",
    "cfg.evaluation.save_best = \"auto\"\n",
    "\n",
    "cfg.seed = SEED\n",
    "cfg.gpu_ids = range(1)\n",
    "cfg.fp16 = dict(loss_scale=512.0)\n",
    "meta = dict()\n",
    "meta[\"config\"] = cfg.pretty_text"
   ]
  },
  {
   "cell_type": "markdown",
   "id": "e339abd9-ccc8-4070-aefa-4b995a51ed4d",
   "metadata": {},
   "source": [
    "# Inference"
   ]
  },
  {
   "cell_type": "code",
   "execution_count": 19,
   "id": "b636f45f-e486-41e4-bca9-7d19c3ccb502",
   "metadata": {},
   "outputs": [],
   "source": [
    "def format_prediction_string(boxes, scores):\n",
    "    pred_strings = []\n",
    "    for j in zip(scores, boxes):\n",
    "        pred_strings.append(\n",
    "            \"{0:.4f} {1} {2} {3} {4}\".format(j[0], j[1][0], j[1][1], j[1][2], j[1][3])\n",
    "        )\n",
    "\n",
    "    return \" \".join(pred_strings)"
   ]
  },
  {
   "cell_type": "code",
   "execution_count": 20,
   "id": "6407db25-d597-41e9-bdca-8856b4875bb7",
   "metadata": {},
   "outputs": [
    {
     "name": "stdout",
     "output_type": "stream",
     "text": [
      "load checkpoint from local path: /app/_data/mmdetection/model_output1/best_bbox_mAP_epoch_10.pth\n",
      "The model and loaded state dict do not match exactly\n",
      "\n",
      "unexpected key in source state_dict: roi_head.bbox_head.fc_cls.weight, roi_head.bbox_head.fc_cls.bias, roi_head.bbox_head.fc_reg.weight, roi_head.bbox_head.fc_reg.bias, roi_head.bbox_head.shared_fcs.0.weight, roi_head.bbox_head.shared_fcs.0.bias, roi_head.bbox_head.shared_fcs.1.weight, roi_head.bbox_head.shared_fcs.1.bias\n",
      "\n",
      "missing keys in source state_dict: roi_head.bbox_head.0.fc_cls.weight, roi_head.bbox_head.0.fc_cls.bias, roi_head.bbox_head.0.fc_reg.weight, roi_head.bbox_head.0.fc_reg.bias, roi_head.bbox_head.0.shared_fcs.0.weight, roi_head.bbox_head.0.shared_fcs.0.bias, roi_head.bbox_head.0.shared_fcs.1.weight, roi_head.bbox_head.0.shared_fcs.1.bias, roi_head.bbox_head.1.fc_cls.weight, roi_head.bbox_head.1.fc_cls.bias, roi_head.bbox_head.1.fc_reg.weight, roi_head.bbox_head.1.fc_reg.bias, roi_head.bbox_head.1.shared_fcs.0.weight, roi_head.bbox_head.1.shared_fcs.0.bias, roi_head.bbox_head.1.shared_fcs.1.weight, roi_head.bbox_head.1.shared_fcs.1.bias, roi_head.bbox_head.2.fc_cls.weight, roi_head.bbox_head.2.fc_cls.bias, roi_head.bbox_head.2.fc_reg.weight, roi_head.bbox_head.2.fc_reg.bias, roi_head.bbox_head.2.shared_fcs.0.weight, roi_head.bbox_head.2.shared_fcs.0.bias, roi_head.bbox_head.2.shared_fcs.1.weight, roi_head.bbox_head.2.shared_fcs.1.bias\n",
      "\n"
     ]
    }
   ],
   "source": [
    "model = init_detector(\n",
    "    cfg, \"/app/_data/mmdetection/model_output1/best_bbox_mAP_epoch_10.pth\"\n",
    ")"
   ]
  },
  {
   "cell_type": "code",
   "execution_count": 55,
   "id": "eb1839dd-ed6f-4508-8a41-46996036e08e",
   "metadata": {},
   "outputs": [
    {
     "data": {
      "text/html": [
       "<div>\n",
       "<style scoped>\n",
       "    .dataframe tbody tr th:only-of-type {\n",
       "        vertical-align: middle;\n",
       "    }\n",
       "\n",
       "    .dataframe tbody tr th {\n",
       "        vertical-align: top;\n",
       "    }\n",
       "\n",
       "    .dataframe thead th {\n",
       "        text-align: right;\n",
       "    }\n",
       "</style>\n",
       "<table border=\"1\" class=\"dataframe\">\n",
       "  <thead>\n",
       "    <tr style=\"text-align: right;\">\n",
       "      <th></th>\n",
       "      <th>video_id</th>\n",
       "      <th>sequence</th>\n",
       "      <th>video_frame</th>\n",
       "      <th>sequence_frame</th>\n",
       "      <th>image_id</th>\n",
       "      <th>annotations</th>\n",
       "      <th>img_path</th>\n",
       "      <th>len_annotation</th>\n",
       "      <th>new_img_path</th>\n",
       "    </tr>\n",
       "  </thead>\n",
       "  <tbody>\n",
       "    <tr>\n",
       "      <th>0</th>\n",
       "      <td>0</td>\n",
       "      <td>40258</td>\n",
       "      <td>0</td>\n",
       "      <td>0</td>\n",
       "      <td>0_0</td>\n",
       "      <td>[]</td>\n",
       "      <td>/app/_data/tensorflow-great-barrier-reef/train...</td>\n",
       "      <td>0</td>\n",
       "      <td>/app/_data/images/0_0.jpg</td>\n",
       "    </tr>\n",
       "    <tr>\n",
       "      <th>1</th>\n",
       "      <td>0</td>\n",
       "      <td>40258</td>\n",
       "      <td>1</td>\n",
       "      <td>1</td>\n",
       "      <td>0_1</td>\n",
       "      <td>[]</td>\n",
       "      <td>/app/_data/tensorflow-great-barrier-reef/train...</td>\n",
       "      <td>0</td>\n",
       "      <td>/app/_data/images/0_1.jpg</td>\n",
       "    </tr>\n",
       "    <tr>\n",
       "      <th>2</th>\n",
       "      <td>0</td>\n",
       "      <td>40258</td>\n",
       "      <td>2</td>\n",
       "      <td>2</td>\n",
       "      <td>0_2</td>\n",
       "      <td>[]</td>\n",
       "      <td>/app/_data/tensorflow-great-barrier-reef/train...</td>\n",
       "      <td>0</td>\n",
       "      <td>/app/_data/images/0_2.jpg</td>\n",
       "    </tr>\n",
       "    <tr>\n",
       "      <th>3</th>\n",
       "      <td>0</td>\n",
       "      <td>40258</td>\n",
       "      <td>3</td>\n",
       "      <td>3</td>\n",
       "      <td>0_3</td>\n",
       "      <td>[]</td>\n",
       "      <td>/app/_data/tensorflow-great-barrier-reef/train...</td>\n",
       "      <td>0</td>\n",
       "      <td>/app/_data/images/0_3.jpg</td>\n",
       "    </tr>\n",
       "    <tr>\n",
       "      <th>4</th>\n",
       "      <td>0</td>\n",
       "      <td>40258</td>\n",
       "      <td>4</td>\n",
       "      <td>4</td>\n",
       "      <td>0_4</td>\n",
       "      <td>[]</td>\n",
       "      <td>/app/_data/tensorflow-great-barrier-reef/train...</td>\n",
       "      <td>0</td>\n",
       "      <td>/app/_data/images/0_4.jpg</td>\n",
       "    </tr>\n",
       "    <tr>\n",
       "      <th>...</th>\n",
       "      <td>...</td>\n",
       "      <td>...</td>\n",
       "      <td>...</td>\n",
       "      <td>...</td>\n",
       "      <td>...</td>\n",
       "      <td>...</td>\n",
       "      <td>...</td>\n",
       "      <td>...</td>\n",
       "      <td>...</td>\n",
       "    </tr>\n",
       "    <tr>\n",
       "      <th>23496</th>\n",
       "      <td>2</td>\n",
       "      <td>29859</td>\n",
       "      <td>10755</td>\n",
       "      <td>2983</td>\n",
       "      <td>2_10755</td>\n",
       "      <td>[]</td>\n",
       "      <td>/app/_data/tensorflow-great-barrier-reef/train...</td>\n",
       "      <td>0</td>\n",
       "      <td>/app/_data/images/2_10755.jpg</td>\n",
       "    </tr>\n",
       "    <tr>\n",
       "      <th>23497</th>\n",
       "      <td>2</td>\n",
       "      <td>29859</td>\n",
       "      <td>10756</td>\n",
       "      <td>2984</td>\n",
       "      <td>2_10756</td>\n",
       "      <td>[]</td>\n",
       "      <td>/app/_data/tensorflow-great-barrier-reef/train...</td>\n",
       "      <td>0</td>\n",
       "      <td>/app/_data/images/2_10756.jpg</td>\n",
       "    </tr>\n",
       "    <tr>\n",
       "      <th>23498</th>\n",
       "      <td>2</td>\n",
       "      <td>29859</td>\n",
       "      <td>10757</td>\n",
       "      <td>2985</td>\n",
       "      <td>2_10757</td>\n",
       "      <td>[]</td>\n",
       "      <td>/app/_data/tensorflow-great-barrier-reef/train...</td>\n",
       "      <td>0</td>\n",
       "      <td>/app/_data/images/2_10757.jpg</td>\n",
       "    </tr>\n",
       "    <tr>\n",
       "      <th>23499</th>\n",
       "      <td>2</td>\n",
       "      <td>29859</td>\n",
       "      <td>10758</td>\n",
       "      <td>2986</td>\n",
       "      <td>2_10758</td>\n",
       "      <td>[]</td>\n",
       "      <td>/app/_data/tensorflow-great-barrier-reef/train...</td>\n",
       "      <td>0</td>\n",
       "      <td>/app/_data/images/2_10758.jpg</td>\n",
       "    </tr>\n",
       "    <tr>\n",
       "      <th>23500</th>\n",
       "      <td>2</td>\n",
       "      <td>29859</td>\n",
       "      <td>10759</td>\n",
       "      <td>2987</td>\n",
       "      <td>2_10759</td>\n",
       "      <td>[]</td>\n",
       "      <td>/app/_data/tensorflow-great-barrier-reef/train...</td>\n",
       "      <td>0</td>\n",
       "      <td>/app/_data/images/2_10759.jpg</td>\n",
       "    </tr>\n",
       "  </tbody>\n",
       "</table>\n",
       "<p>23501 rows × 9 columns</p>\n",
       "</div>"
      ],
      "text/plain": [
       "       video_id  sequence  video_frame  sequence_frame image_id annotations  \\\n",
       "0             0     40258            0               0      0_0          []   \n",
       "1             0     40258            1               1      0_1          []   \n",
       "2             0     40258            2               2      0_2          []   \n",
       "3             0     40258            3               3      0_3          []   \n",
       "4             0     40258            4               4      0_4          []   \n",
       "...         ...       ...          ...             ...      ...         ...   \n",
       "23496         2     29859        10755            2983  2_10755          []   \n",
       "23497         2     29859        10756            2984  2_10756          []   \n",
       "23498         2     29859        10757            2985  2_10757          []   \n",
       "23499         2     29859        10758            2986  2_10758          []   \n",
       "23500         2     29859        10759            2987  2_10759          []   \n",
       "\n",
       "                                                img_path  len_annotation  \\\n",
       "0      /app/_data/tensorflow-great-barrier-reef/train...               0   \n",
       "1      /app/_data/tensorflow-great-barrier-reef/train...               0   \n",
       "2      /app/_data/tensorflow-great-barrier-reef/train...               0   \n",
       "3      /app/_data/tensorflow-great-barrier-reef/train...               0   \n",
       "4      /app/_data/tensorflow-great-barrier-reef/train...               0   \n",
       "...                                                  ...             ...   \n",
       "23496  /app/_data/tensorflow-great-barrier-reef/train...               0   \n",
       "23497  /app/_data/tensorflow-great-barrier-reef/train...               0   \n",
       "23498  /app/_data/tensorflow-great-barrier-reef/train...               0   \n",
       "23499  /app/_data/tensorflow-great-barrier-reef/train...               0   \n",
       "23500  /app/_data/tensorflow-great-barrier-reef/train...               0   \n",
       "\n",
       "                        new_img_path  \n",
       "0          /app/_data/images/0_0.jpg  \n",
       "1          /app/_data/images/0_1.jpg  \n",
       "2          /app/_data/images/0_2.jpg  \n",
       "3          /app/_data/images/0_3.jpg  \n",
       "4          /app/_data/images/0_4.jpg  \n",
       "...                              ...  \n",
       "23496  /app/_data/images/2_10755.jpg  \n",
       "23497  /app/_data/images/2_10756.jpg  \n",
       "23498  /app/_data/images/2_10757.jpg  \n",
       "23499  /app/_data/images/2_10758.jpg  \n",
       "23500  /app/_data/images/2_10759.jpg  \n",
       "\n",
       "[23501 rows x 9 columns]"
      ]
     },
     "execution_count": 55,
     "metadata": {},
     "output_type": "execute_result"
    }
   ],
   "source": [
    "df"
   ]
  },
  {
   "cell_type": "code",
   "execution_count": 21,
   "id": "42bca11b-0479-4b12-8c3b-cbf92a8baddb",
   "metadata": {},
   "outputs": [],
   "source": [
    "# img = np.load(\"/app/_data/SYOLOv4/1.npy\")\n",
    "img = cv2.imread(df[df['len_annotation']>5].sample()['img_path'].values[0])"
   ]
  },
  {
   "cell_type": "code",
   "execution_count": 22,
   "id": "da723148-58bf-4ce3-b8d1-4dcef696065d",
   "metadata": {},
   "outputs": [],
   "source": [
    "# img[:, :, ::-1].shape"
   ]
  },
  {
   "cell_type": "code",
   "execution_count": 23,
   "id": "72d5225c-8dce-4bfc-8076-33c79cd961a1",
   "metadata": {},
   "outputs": [],
   "source": [
    "# plt.imshow(img[:, :, ::-1])"
   ]
  },
  {
   "cell_type": "code",
   "execution_count": 36,
   "id": "44eb79d6-eb0f-4161-876b-1c49d5b93a70",
   "metadata": {},
   "outputs": [],
   "source": [
    "result = inference_detector(model, img[:, :, ::-1])"
   ]
  },
  {
   "cell_type": "code",
   "execution_count": 37,
   "id": "b187467d-1b3b-44fe-b5e0-fa6ebcbe9b3e",
   "metadata": {},
   "outputs": [
    {
     "data": {
      "text/plain": [
       "1"
      ]
     },
     "execution_count": 37,
     "metadata": {},
     "output_type": "execute_result"
    }
   ],
   "source": [
    "len(result)"
   ]
  },
  {
   "cell_type": "code",
   "execution_count": 38,
   "id": "f2b18cc2-6d7b-4ca1-ae4d-48b0a28791c3",
   "metadata": {},
   "outputs": [
    {
     "data": {
      "text/plain": [
       "array([0.6632294 , 0.6483169 , 0.6434998 , 0.6406073 , 0.6363997 ,\n",
       "       0.63226336, 0.6290368 , 0.6288466 , 0.6270589 , 0.6249074 ,\n",
       "       0.62456393, 0.6236345 , 0.62184393, 0.62047094, 0.61962783,\n",
       "       0.61862534, 0.6185112 , 0.61847895, 0.6182852 , 0.61771643,\n",
       "       0.6175673 , 0.6169384 , 0.6163074 , 0.6148367 , 0.61407506,\n",
       "       0.6140057 , 0.6135556 , 0.6131397 , 0.6123489 , 0.61010826,\n",
       "       0.6099609 , 0.6098269 , 0.6095359 , 0.6092176 , 0.60917985,\n",
       "       0.60867375, 0.60845685, 0.6080508 , 0.60766435, 0.6074424 ,\n",
       "       0.6074401 , 0.60693574, 0.6058847 , 0.6053588 , 0.60499597,\n",
       "       0.6049623 , 0.60481197, 0.60465425, 0.60451186, 0.6044044 ,\n",
       "       0.60393906, 0.60361147, 0.60345954, 0.6034375 , 0.60336584,\n",
       "       0.6028084 , 0.60138553, 0.6011165 , 0.6010716 , 0.6007712 ,\n",
       "       0.6003821 , 0.599807  , 0.5997911 , 0.5996358 , 0.5994632 ,\n",
       "       0.5993735 , 0.59866184, 0.5985646 , 0.5982148 , 0.5980475 ,\n",
       "       0.59734154, 0.59722847, 0.5970321 , 0.59684443, 0.59669983,\n",
       "       0.59658325, 0.59613043, 0.5961011 , 0.595957  , 0.5950516 ,\n",
       "       0.5943273 , 0.5942824 , 0.59310526, 0.5930171 , 0.59272975,\n",
       "       0.59262586, 0.592532  , 0.5915033 , 0.591192  , 0.5911878 ,\n",
       "       0.59073174, 0.59050167, 0.59039915, 0.5903986 , 0.5902102 ,\n",
       "       0.59006155, 0.5900226 , 0.58975965, 0.5894217 , 0.5893685 ],\n",
       "      dtype=float32)"
      ]
     },
     "execution_count": 38,
     "metadata": {},
     "output_type": "execute_result"
    }
   ],
   "source": [
    "result[0][:,4]"
   ]
  },
  {
   "cell_type": "code",
   "execution_count": 39,
   "id": "e3ccce24-4a4d-4360-adb8-3ac1ee4452a6",
   "metadata": {},
   "outputs": [],
   "source": [
    "bboxes = []\n",
    "for i in result:\n",
    "    if i.size != 0:\n",
    "        for j in i:\n",
    "            bboxes.append(j)\n",
    "bboxes = np.array(bboxes)"
   ]
  },
  {
   "cell_type": "code",
   "execution_count": 40,
   "id": "eb88dbd3-a3c1-4cd0-9e36-b1faa2e75df6",
   "metadata": {},
   "outputs": [
    {
     "data": {
      "text/plain": [
       "array([ True,  True,  True,  True,  True,  True,  True,  True,  True,\n",
       "        True,  True,  True,  True,  True,  True,  True,  True,  True,\n",
       "        True,  True,  True,  True,  True,  True,  True,  True,  True,\n",
       "        True,  True,  True,  True,  True,  True,  True,  True,  True,\n",
       "        True,  True,  True,  True,  True,  True,  True,  True,  True,\n",
       "        True,  True,  True,  True,  True,  True,  True,  True,  True,\n",
       "        True,  True,  True,  True,  True,  True,  True,  True,  True,\n",
       "        True,  True,  True,  True,  True,  True,  True,  True,  True,\n",
       "        True,  True,  True,  True,  True,  True,  True,  True,  True,\n",
       "        True,  True,  True,  True,  True,  True,  True,  True,  True,\n",
       "        True,  True,  True,  True,  True,  True,  True,  True,  True,\n",
       "        True])"
      ]
     },
     "execution_count": 40,
     "metadata": {},
     "output_type": "execute_result"
    }
   ],
   "source": [
    "bboxes[:,4]>0.3"
   ]
  },
  {
   "cell_type": "code",
   "execution_count": 46,
   "id": "89de6699-e68b-433f-a67c-427a27e2eceb",
   "metadata": {},
   "outputs": [],
   "source": [
    "def show_result_pyplot(model,\n",
    "                       img,\n",
    "                       result,\n",
    "                       score_thr=0.3,\n",
    "                       title='result',\n",
    "                       wait_time=0):\n",
    "\n",
    "    if hasattr(model, 'module'):\n",
    "        model = model.module\n",
    "    model.show_result(\n",
    "        img,\n",
    "        result,\n",
    "        score_thr=score_thr,\n",
    "        show=True,\n",
    "        wait_time=wait_time,\n",
    "        win_name=title,\n",
    "        bbox_color=(72, 101, 241),\n",
    "        text_color=(72, 101, 241))"
   ]
  },
  {
   "cell_type": "code",
   "execution_count": 48,
   "id": "e3064d93-1dd8-47c8-8876-7df916dd8312",
   "metadata": {},
   "outputs": [],
   "source": [
    "if isinstance(result, tuple):\n",
    "    bbox_result, segm_result = result\n",
    "    if isinstance(segm_result, tuple):\n",
    "        segm_result = segm_result[0]  # ms rcnn\n",
    "else:\n",
    "    bbox_result, segm_result = result, None"
   ]
  },
  {
   "cell_type": "code",
   "execution_count": 49,
   "id": "7948b90b-83cd-4700-b27d-99e8c1088e6c",
   "metadata": {},
   "outputs": [],
   "source": [
    "segm_result"
   ]
  },
  {
   "cell_type": "code",
   "execution_count": 51,
   "id": "d63f96a2-4d0a-46e1-b4b5-fdf9b9c2b4e5",
   "metadata": {},
   "outputs": [],
   "source": [
    "bboxes = np.vstack(bbox_result)\n",
    "# bboxes"
   ]
  },
  {
   "cell_type": "code",
   "execution_count": 52,
   "id": "59ce6b74-c92f-42a4-94d5-9b5c26dd5d29",
   "metadata": {},
   "outputs": [],
   "source": [
    "labels = [\n",
    "            np.full(bbox.shape[0], i, dtype=np.int32)\n",
    "            for i, bbox in enumerate(bbox_result)\n",
    "        ]\n",
    "labels = np.concatenate(labels)"
   ]
  },
  {
   "cell_type": "code",
   "execution_count": 53,
   "id": "8fb19dff-811e-4e56-b6c6-d926ea004759",
   "metadata": {},
   "outputs": [
    {
     "data": {
      "text/plain": [
       "array([18, 18, 21, 25, 28, 41, 41, 41, 41, 41, 41, 41, 41, 41, 41, 41, 44,\n",
       "       44, 44, 45, 45, 45, 45, 45, 45, 45, 45, 45, 45, 45, 45, 45, 45, 45,\n",
       "       45, 45, 45, 45, 45, 45, 45, 45, 45, 45, 45, 45, 45, 45, 45, 45, 45,\n",
       "       45, 45, 45, 45, 45, 45, 45, 45, 45, 45, 45, 45, 45, 45, 45, 45, 45,\n",
       "       45, 45, 45, 45, 45, 45, 45, 45, 45, 45, 45, 45, 45, 45, 45, 45, 45,\n",
       "       45, 45, 45, 45, 45, 45, 45, 45, 45, 45, 45, 52, 52, 52, 69],\n",
       "      dtype=int32)"
      ]
     },
     "execution_count": 53,
     "metadata": {},
     "output_type": "execute_result"
    }
   ],
   "source": [
    "labels"
   ]
  },
  {
   "cell_type": "code",
   "execution_count": 47,
   "id": "dd140862-ca7a-48f4-9b29-cb780302f676",
   "metadata": {},
   "outputs": [
    {
     "ename": "IndexError",
     "evalue": "list index out of range",
     "output_type": "error",
     "traceback": [
      "\u001b[0;31m---------------------------------------------------------------------------\u001b[0m",
      "\u001b[0;31mIndexError\u001b[0m                                Traceback (most recent call last)",
      "\u001b[0;32m/tmp/ipykernel_5805/4274951402.py\u001b[0m in \u001b[0;36m<module>\u001b[0;34m\u001b[0m\n\u001b[0;32m----> 1\u001b[0;31m show_result_pyplot(model,\n\u001b[0m\u001b[1;32m      2\u001b[0m                        \u001b[0mimg\u001b[0m\u001b[0;34m[\u001b[0m\u001b[0;34m:\u001b[0m\u001b[0;34m,\u001b[0m \u001b[0;34m:\u001b[0m\u001b[0;34m,\u001b[0m \u001b[0;34m:\u001b[0m\u001b[0;34m:\u001b[0m\u001b[0;34m-\u001b[0m\u001b[0;36m1\u001b[0m\u001b[0;34m]\u001b[0m\u001b[0;34m,\u001b[0m\u001b[0;34m\u001b[0m\u001b[0;34m\u001b[0m\u001b[0m\n\u001b[1;32m      3\u001b[0m                        \u001b[0mresult\u001b[0m\u001b[0;34m,\u001b[0m\u001b[0;34m\u001b[0m\u001b[0;34m\u001b[0m\u001b[0m\n\u001b[1;32m      4\u001b[0m                        \u001b[0mscore_thr\u001b[0m\u001b[0;34m=\u001b[0m\u001b[0;36m0.3\u001b[0m\u001b[0;34m,\u001b[0m\u001b[0;34m\u001b[0m\u001b[0;34m\u001b[0m\u001b[0m\n\u001b[1;32m      5\u001b[0m                        \u001b[0mtitle\u001b[0m\u001b[0;34m=\u001b[0m\u001b[0;34m'result'\u001b[0m\u001b[0;34m,\u001b[0m\u001b[0;34m\u001b[0m\u001b[0;34m\u001b[0m\u001b[0m\n",
      "\u001b[0;32m/tmp/ipykernel_5805/4013491071.py\u001b[0m in \u001b[0;36mshow_result_pyplot\u001b[0;34m(model, img, result, score_thr, title, wait_time)\u001b[0m\n\u001b[1;32m      8\u001b[0m     \u001b[0;32mif\u001b[0m \u001b[0mhasattr\u001b[0m\u001b[0;34m(\u001b[0m\u001b[0mmodel\u001b[0m\u001b[0;34m,\u001b[0m \u001b[0;34m'module'\u001b[0m\u001b[0;34m)\u001b[0m\u001b[0;34m:\u001b[0m\u001b[0;34m\u001b[0m\u001b[0;34m\u001b[0m\u001b[0m\n\u001b[1;32m      9\u001b[0m         \u001b[0mmodel\u001b[0m \u001b[0;34m=\u001b[0m \u001b[0mmodel\u001b[0m\u001b[0;34m.\u001b[0m\u001b[0mmodule\u001b[0m\u001b[0;34m\u001b[0m\u001b[0;34m\u001b[0m\u001b[0m\n\u001b[0;32m---> 10\u001b[0;31m     model.show_result(\n\u001b[0m\u001b[1;32m     11\u001b[0m         \u001b[0mimg\u001b[0m\u001b[0;34m,\u001b[0m\u001b[0;34m\u001b[0m\u001b[0;34m\u001b[0m\u001b[0m\n\u001b[1;32m     12\u001b[0m         \u001b[0mresult\u001b[0m\u001b[0;34m,\u001b[0m\u001b[0;34m\u001b[0m\u001b[0;34m\u001b[0m\u001b[0m\n",
      "\u001b[0;32m/usr/local/lib/python3.8/dist-packages/mmdet/models/detectors/base.py\u001b[0m in \u001b[0;36mshow_result\u001b[0;34m(self, img, result, score_thr, bbox_color, text_color, mask_color, thickness, font_size, win_name, show, wait_time, out_file)\u001b[0m\n\u001b[1;32m    336\u001b[0m             \u001b[0mshow\u001b[0m \u001b[0;34m=\u001b[0m \u001b[0;32mFalse\u001b[0m\u001b[0;34m\u001b[0m\u001b[0;34m\u001b[0m\u001b[0m\n\u001b[1;32m    337\u001b[0m         \u001b[0;31m# draw bounding boxes\u001b[0m\u001b[0;34m\u001b[0m\u001b[0;34m\u001b[0m\u001b[0;34m\u001b[0m\u001b[0m\n\u001b[0;32m--> 338\u001b[0;31m         img = imshow_det_bboxes(\n\u001b[0m\u001b[1;32m    339\u001b[0m             \u001b[0mimg\u001b[0m\u001b[0;34m,\u001b[0m\u001b[0;34m\u001b[0m\u001b[0;34m\u001b[0m\u001b[0m\n\u001b[1;32m    340\u001b[0m             \u001b[0mbboxes\u001b[0m\u001b[0;34m,\u001b[0m\u001b[0;34m\u001b[0m\u001b[0;34m\u001b[0m\u001b[0m\n",
      "\u001b[0;32m/usr/local/lib/python3.8/dist-packages/mmdet/core/visualization/image.py\u001b[0m in \u001b[0;36mimshow_det_bboxes\u001b[0;34m(img, bboxes, labels, segms, class_names, score_thr, bbox_color, text_color, mask_color, thickness, font_size, win_name, show, wait_time, out_file)\u001b[0m\n\u001b[1;32m    139\u001b[0m         \u001b[0mpolygons\u001b[0m\u001b[0;34m.\u001b[0m\u001b[0mappend\u001b[0m\u001b[0;34m(\u001b[0m\u001b[0mPolygon\u001b[0m\u001b[0;34m(\u001b[0m\u001b[0mnp_poly\u001b[0m\u001b[0;34m)\u001b[0m\u001b[0;34m)\u001b[0m\u001b[0;34m\u001b[0m\u001b[0;34m\u001b[0m\u001b[0m\n\u001b[1;32m    140\u001b[0m         \u001b[0mcolor\u001b[0m\u001b[0;34m.\u001b[0m\u001b[0mappend\u001b[0m\u001b[0;34m(\u001b[0m\u001b[0mbbox_color\u001b[0m\u001b[0;34m)\u001b[0m\u001b[0;34m\u001b[0m\u001b[0;34m\u001b[0m\u001b[0m\n\u001b[0;32m--> 141\u001b[0;31m         label_text = class_names[\n\u001b[0m\u001b[1;32m    142\u001b[0m             label] if class_names is not None else f'class {label}'\n\u001b[1;32m    143\u001b[0m         \u001b[0;32mif\u001b[0m \u001b[0mlen\u001b[0m\u001b[0;34m(\u001b[0m\u001b[0mbbox\u001b[0m\u001b[0;34m)\u001b[0m \u001b[0;34m>\u001b[0m \u001b[0;36m4\u001b[0m\u001b[0;34m:\u001b[0m\u001b[0;34m\u001b[0m\u001b[0;34m\u001b[0m\u001b[0m\n",
      "\u001b[0;31mIndexError\u001b[0m: list index out of range"
     ]
    },
    {
     "data": {
      "image/png": "[encoded data removed]",
      "text/plain": [
       "<Figure size 1280.01x720.01 with 1 Axes>"
      ]
     },
     "metadata": {
      "image/png": {
       "height": 749,
       "width": 1294
      },
      "needs_background": "light"
     },
     "output_type": "display_data"
    }
   ],
   "source": [
    "show_result_pyplot(model,\n",
    "                       img[:, :, ::-1],\n",
    "                       result,\n",
    "                       score_thr=0.3,\n",
    "                       title='result',\n",
    "                       wait_time=0)"
   ]
  },
  {
   "cell_type": "code",
   "execution_count": null,
   "id": "b700fb85-34b2-400d-8d80-dd4acf5c8862",
   "metadata": {},
   "outputs": [],
   "source": [
    "boxes = result[0][:, :4]\n",
    "scores = result[0][:, 4]"
   ]
  }
 ],
 "metadata": {
  "kernelspec": {
   "display_name": "Python 3 (ipykernel)",
   "language": "python",
   "name": "python3"
  },
  "language_info": {
   "codemirror_mode": {
    "name": "ipython",
    "version": 3
   },
   "file_extension": ".py",
   "mimetype": "text/x-python",
   "name": "python",
   "nbconvert_exporter": "python",
   "pygments_lexer": "ipython3",
   "version": "3.8.10"
  }
 },
 "nbformat": 4,
 "nbformat_minor": 5
}
